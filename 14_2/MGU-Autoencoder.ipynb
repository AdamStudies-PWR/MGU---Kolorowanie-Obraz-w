{
 "cells": [
  {
   "cell_type": "code",
   "execution_count": 1,
   "metadata": {
    "id": "J_Y9UFYhKbuE"
   },
   "outputs": [],
   "source": [
    "# For plotting\n",
    "import numpy as np\n",
    "import matplotlib.pyplot as plt\n",
    "import matplotlib.image as mpimg\n",
    "%matplotlib inline\n",
    "# For conversion\n",
    "from skimage.color import lab2rgb, rgb2lab, rgb2gray\n",
    "from skimage import io\n",
    "# For everything\n",
    "import torch\n",
    "import torch.nn as nn\n",
    "import torch.nn.functional as F\n",
    "# For our model\n",
    "import torchvision\n",
    "import torchvision.models as models\n",
    "from torchvision import datasets, transforms\n",
    "from torchmetrics import MeanSquaredError, PeakSignalNoiseRatio, StructuralSimilarityIndexMeasure\n",
    "from PIL import Image\n",
    "# For utilities\n",
    "import os, shutil, time"
   ]
  },
  {
   "cell_type": "code",
   "execution_count": 2,
   "metadata": {
    "scrolled": true
   },
   "outputs": [
    {
     "data": {
      "text/html": [
       "\n",
       "      <iframe id=\"tensorboard-frame-f6f507ff45ed99fd\" width=\"100%\" height=\"800\" frameborder=\"0\">\n",
       "      </iframe>\n",
       "      <script>\n",
       "        (function() {\n",
       "          const frame = document.getElementById(\"tensorboard-frame-f6f507ff45ed99fd\");\n",
       "          const url = new URL(\"/\", window.location);\n",
       "          const port = 6008;\n",
       "          if (port) {\n",
       "            url.port = port;\n",
       "          }\n",
       "          frame.src = url;\n",
       "        })();\n",
       "      </script>\n",
       "    "
      ],
      "text/plain": [
       "<IPython.core.display.HTML object>"
      ]
     },
     "metadata": {},
     "output_type": "display_data"
    }
   ],
   "source": [
    "%load_ext tensorboard\n",
    "%tensorboard --logdir=runs"
   ]
  },
  {
   "cell_type": "code",
   "execution_count": 3,
   "metadata": {},
   "outputs": [],
   "source": [
    "# colab i kaggle jeszcze nie testowane\n",
    "colab = False\n",
    "kaggle = False\n",
    "test_number = '12_2'"
   ]
  },
  {
   "cell_type": "code",
   "execution_count": 4,
   "metadata": {},
   "outputs": [],
   "source": [
    "color_imgs = 'outputs/color/'\n",
    "gray_imgs = 'outputs/gray/'\n",
    "checkpoints = 'checkpoints'\n",
    "if colab:\n",
    "    from google.colab import drive\n",
    "    drive.mount('/content/drive')\n",
    "    dataset = '/content/drive/MyDrive/MGU/cifar10/'\n",
    "    \n",
    "    color_imgs = f'/content/drive/MyDrive/MGU/{test_number}/{color_imgs}'\n",
    "    gray_imgs = f'/content/drive/MyDrive/MGU/{test_number}/{gray_imgs}'\n",
    "    checkpoints = f'/content/drive/MyDrive/MGU/{test_number}/{checkpoints}'\n",
    "elif kaggle:\n",
    "    dataset = '/kaggle/input/cifar10/'\n",
    "    \n",
    "    color_imgs = f'{test_number}/{color_imgs}'\n",
    "    gray_imgs = f'{test_number}/{gray_imgs}'\n",
    "    checkpoints = f'{test_number}/{checkpoints}'\n",
    "else:\n",
    "    dataset = '../../datasets/cifar10/'"
   ]
  },
  {
   "cell_type": "code",
   "execution_count": 5,
   "metadata": {
    "id": "ckNmKA5VwSh1"
   },
   "outputs": [],
   "source": [
    "# Make folders and set parameters\n",
    "os.makedirs(color_imgs, exist_ok=True)\n",
    "os.makedirs(gray_imgs, exist_ok=True)\n",
    "os.makedirs(checkpoints, exist_ok=True)\n",
    "save_images = True\n",
    "best_losses = [1e10, 1e10, 1e10]\n",
    "best_epoch = -1\n",
    "patience = 50\n",
    "epochs = 500\n",
    "batch_size = 128\n",
    "SIZE = 32"
   ]
  },
  {
   "cell_type": "code",
   "execution_count": 6,
   "metadata": {},
   "outputs": [],
   "source": [
    "from torch.utils.tensorboard import SummaryWriter\n",
    "writer = SummaryWriter()"
   ]
  },
  {
   "cell_type": "code",
   "execution_count": 7,
   "metadata": {
    "id": "gMolrzKA_1uJ"
   },
   "outputs": [
    {
     "name": "stdout",
     "output_type": "stream",
     "text": [
      "True\n"
     ]
    }
   ],
   "source": [
    "# Check if GPU is available\n",
    "use_gpu = torch.cuda.is_available()\n",
    "print(use_gpu)"
   ]
  },
  {
   "cell_type": "code",
   "execution_count": 8,
   "metadata": {
    "id": "05NviQfzU2Mv"
   },
   "outputs": [],
   "source": [
    "class LabImageFolder(torch.utils.data.Dataset):\n",
    "    def __init__(self, paths, split='train'):\n",
    "        if split == 'train':\n",
    "            self.transforms = transforms.Compose([\n",
    "                transforms.Resize((SIZE, SIZE), transforms.InterpolationMode.BICUBIC),\n",
    "                transforms.RandomCrop(SIZE),\n",
    "                transforms.RandomHorizontalFlip(),  \n",
    "            ])\n",
    "        elif split == 'val':\n",
    "            self.transforms = transforms.Compose([\n",
    "                transforms.Resize((SIZE, SIZE), transforms.InterpolationMode.BICUBIC), \n",
    "                transforms.RandomCrop(SIZE), \n",
    "            ])\n",
    "            \n",
    "        self.split = split\n",
    "        self.size = SIZE\n",
    "        self.paths = [os.path.join(paths, file) for file in os.listdir(paths) if os.path.isfile(\n",
    "            os.path.join(paths, file))]\n",
    "        \n",
    "        \n",
    "    def __getitem__(self, index):\n",
    "        img = Image.open(self.paths[index]).convert(\"RGB\")\n",
    "        img_original = self.transforms(img)\n",
    "        img_original = np.asarray(img_original)\n",
    "        img_lab = rgb2lab(img_original)\n",
    "        img_lab = (img_lab + 128) / 255\n",
    "        img_ab = img_lab[:, :, 1:3]\n",
    "        img_ab = torch.from_numpy(img_ab.transpose((2, 0, 1))).float()\n",
    "        img_gray = rgb2gray(img_original)\n",
    "        img_gray = torch.from_numpy(img_gray).unsqueeze(0).float()\n",
    "        return img_gray, img_ab\n",
    "    \n",
    "    def __len__(self):\n",
    "        return len(self.paths)"
   ]
  },
  {
   "cell_type": "code",
   "execution_count": 9,
   "metadata": {},
   "outputs": [],
   "source": [
    "# Training\n",
    "train_imagefolder = LabImageFolder(dataset + 'train')\n",
    "train_loader = torch.utils.data.DataLoader(train_imagefolder, batch_size=batch_size, shuffle=True)\n",
    "# Validation \n",
    "val_imagefolder = LabImageFolder(dataset + 'val' , 'val')\n",
    "val_loader = torch.utils.data.DataLoader(val_imagefolder, batch_size=batch_size, shuffle=False)"
   ]
  },
  {
   "cell_type": "code",
   "execution_count": 10,
   "metadata": {
    "id": "NOQfP1feNkfS"
   },
   "outputs": [],
   "source": [
    "kernel_size=3\n",
    "stride_en=2\n",
    "stride_de=1\n",
    "padding=1\n",
    "scale_factor=2\n",
    "padding_mode='zeros'\n",
    "channels_base = 64\n",
    "p1 = .5\n",
    "\n",
    "class Autoencoder(nn.Module):\n",
    "    def __init__(self):\n",
    "        super(Autoencoder, self).__init__()\n",
    "\n",
    "        self.conv1 = nn.Conv2d(1, channels_base, kernel_size=kernel_size, stride=stride_en, padding=padding, padding_mode=padding_mode)\n",
    "        self.conv2 = nn.Conv2d(channels_base, channels_base * 2, kernel_size=kernel_size, stride=stride_en, padding=padding, padding_mode=padding_mode)\n",
    "        \n",
    "        self.convtrans1 = nn.ConvTranspose2d(channels_base * 2, channels_base, kernel_size=kernel_size, stride=stride_de, padding=padding, padding_mode=padding_mode)\n",
    "        self.convtrans2 = nn.ConvTranspose2d(channels_base, channels_base // 2, kernel_size=kernel_size, stride=stride_de, padding=padding, padding_mode=padding_mode)\n",
    "        self.convtrans3 = nn.ConvTranspose2d(channels_base // 2, 2, kernel_size=kernel_size, stride=stride_de, padding=padding, padding_mode=padding_mode)\n",
    "\n",
    "        self.batchnorm1 = nn.BatchNorm2d(channels_base // 2)\n",
    "        self.batchnorm2 = nn.BatchNorm2d(channels_base)\n",
    "        self.batchnorm3 = nn.BatchNorm2d(channels_base * 2)\n",
    "        \n",
    "        self.dropout1 = nn.Dropout(p=p1)\n",
    "        \n",
    "        \n",
    "    def forward(self, input):\n",
    "        # encoder\n",
    "        x = y = F.relu(self.batchnorm2(self.conv1(input)))\n",
    "        x = self.dropout1(x)\n",
    "        x = F.relu(self.batchnorm3(self.conv2(x)))\n",
    "        x = self.dropout1(x)\n",
    "        \n",
    "        # decoder\n",
    "        x = F.relu(self.batchnorm2(self.convtrans1(x)))\n",
    "        x = self.dropout1(x)\n",
    "        x = F.interpolate(x, scale_factor=scale_factor)\n",
    "        x = F.relu(self.batchnorm1(self.convtrans2(x + y)))\n",
    "        x = self.dropout1(x)\n",
    "        x = self.convtrans3(F.interpolate(x, scale_factor=scale_factor) + input)\n",
    "\n",
    "        return x"
   ]
  },
  {
   "cell_type": "code",
   "execution_count": 11,
   "metadata": {
    "id": "OtRkAkIjTeq1"
   },
   "outputs": [],
   "source": [
    "model = Autoencoder()"
   ]
  },
  {
   "cell_type": "code",
   "execution_count": 12,
   "metadata": {},
   "outputs": [],
   "source": [
    "criterion = [MeanSquaredError(), PeakSignalNoiseRatio(data_range=1.0), StructuralSimilarityIndexMeasure(data_range=1.0)]"
   ]
  },
  {
   "cell_type": "code",
   "execution_count": 13,
   "metadata": {
    "id": "j3YZ3977TTl4"
   },
   "outputs": [],
   "source": [
    "optimizer = torch.optim.Adam(model.parameters(), lr=1e-2)"
   ]
  },
  {
   "cell_type": "code",
   "execution_count": 14,
   "metadata": {
    "id": "eeHK3BUtANrw"
   },
   "outputs": [],
   "source": [
    "# # Move model and loss function to GPU\n",
    "if use_gpu: \n",
    "    criterion = [criterion[0].to(\"cuda\"), criterion[1].to(\"cuda\"), criterion[2].to(\"cuda\")]\n",
    "    model = model.cuda()"
   ]
  },
  {
   "cell_type": "code",
   "execution_count": 15,
   "metadata": {
    "scrolled": false
   },
   "outputs": [
    {
     "name": "stdout",
     "output_type": "stream",
     "text": [
      "----------------------------------------------------------------\n",
      "        Layer (type)               Output Shape         Param #\n",
      "================================================================\n",
      "            Conv2d-1           [-1, 64, 16, 16]             640\n",
      "       BatchNorm2d-2           [-1, 64, 16, 16]             128\n",
      "           Dropout-3           [-1, 64, 16, 16]               0\n",
      "            Conv2d-4            [-1, 128, 8, 8]          73,856\n",
      "       BatchNorm2d-5            [-1, 128, 8, 8]             256\n",
      "           Dropout-6            [-1, 128, 8, 8]               0\n",
      "   ConvTranspose2d-7             [-1, 64, 8, 8]          73,792\n",
      "       BatchNorm2d-8             [-1, 64, 8, 8]             128\n",
      "           Dropout-9             [-1, 64, 8, 8]               0\n",
      "  ConvTranspose2d-10           [-1, 32, 16, 16]          18,464\n",
      "      BatchNorm2d-11           [-1, 32, 16, 16]              64\n",
      "          Dropout-12           [-1, 32, 16, 16]               0\n",
      "  ConvTranspose2d-13            [-1, 2, 32, 32]             578\n",
      "================================================================\n",
      "Total params: 167,906\n",
      "Trainable params: 167,906\n",
      "Non-trainable params: 0\n",
      "----------------------------------------------------------------\n",
      "Input size (MB): 0.00\n",
      "Forward/backward pass size (MB): 0.86\n",
      "Params size (MB): 0.64\n",
      "Estimated Total Size (MB): 1.50\n",
      "----------------------------------------------------------------\n"
     ]
    }
   ],
   "source": [
    "if use_gpu: \n",
    "    from torchsummary import summary\n",
    "    summary(model, (1, SIZE, SIZE))"
   ]
  },
  {
   "cell_type": "code",
   "execution_count": 16,
   "metadata": {
    "id": "2FDRt12jsIkr"
   },
   "outputs": [],
   "source": [
    "class AverageMeter(object):\n",
    "    '''A handy class from the PyTorch ImageNet tutorial''' \n",
    "    def __init__(self):\n",
    "        self.reset()\n",
    "    def reset(self):\n",
    "        self.val, self.avg, self.sum, self.count = 0, 0, 0, 0\n",
    "    def update(self, val, n=1):\n",
    "        self.val = val\n",
    "        self.sum += val * n\n",
    "        self.count += n\n",
    "        self.avg = self.sum / self.count\n",
    "\n",
    "def to_rgb(grayscale_input, ab_input, save_path=None, save_name=None):\n",
    "    '''Show/save rgb image from grayscale and ab channels\n",
    "       Input save_path in the form {'grayscale': '/path/', 'colorized': '/path/'}'''\n",
    "    plt.clf() # clear matplotlib \n",
    "    color_image = torch.cat((grayscale_input, ab_input), 0).numpy() # combine channels\n",
    "    color_image = color_image.transpose((1, 2, 0))  # rescale for matplotlib\n",
    "    color_image[:, :, 0:1] = color_image[:, :, 0:1] * 100\n",
    "    color_image[:, :, 1:3] = color_image[:, :, 1:3] * 255 - 128   \n",
    "    color_image = lab2rgb(color_image.astype(np.float64))\n",
    "    grayscale_input = grayscale_input.squeeze().numpy()\n",
    "    if save_path is not None and save_name is not None: \n",
    "        plt.imsave(arr=grayscale_input, fname='{}{}'.format(save_path['grayscale'], save_name), cmap='gray')\n",
    "        plt.imsave(arr=color_image, fname='{}{}'.format(save_path['colorized'], save_name))"
   ]
  },
  {
   "cell_type": "code",
   "execution_count": 17,
   "metadata": {
    "id": "M_OTbyOcrh9J"
   },
   "outputs": [],
   "source": [
    "def validate(val_loader, model, criterion, save_images, epoch):\n",
    "    _loss = [AverageMeter(), AverageMeter(), AverageMeter()]\n",
    "\n",
    "    model.eval()\n",
    "    already_saved_images = False\n",
    "    for gray, ab in val_loader:\n",
    "        if use_gpu: \n",
    "            gray, ab = gray.cuda(), ab.cuda()\n",
    "\n",
    "        # Run model and record loss\n",
    "        output_ab = model(gray) # throw away class predictions\n",
    "        loss = [criterion[0](output_ab, ab), criterion[1](output_ab, ab), criterion[2](output_ab, ab)]\n",
    "        \n",
    "        _loss[0].update(loss[0].item(), gray.size(0))\n",
    "        _loss[1].update(loss[1].item(), gray.size(0))\n",
    "        _loss[2].update(loss[2].item(), gray.size(0))\n",
    "\n",
    "        # Save images to file\n",
    "        if save_images and not already_saved_images:\n",
    "            already_saved_images = True\n",
    "            for j in range(min(len(output_ab), 10)): # save at most 5 images\n",
    "                save_path = {'grayscale': gray_imgs, 'colorized': color_imgs}\n",
    "                save_name = 'img-{}-epoch-{}.jpg'.format(j, epoch)\n",
    "                to_rgb(gray[j].cpu(), ab_input=output_ab[j].detach().cpu(), save_path=save_path, save_name=save_name)\n",
    "\n",
    "    print(f'Validate: MSE {_loss[0].val:.8f} ({_loss[0].avg:.8f}), PSNR {_loss[1].val:.8f} ({_loss[1].avg:.8f}), SSIM {_loss[2].val:.8f} ({_loss[2].avg:.8f})')\n",
    "\n",
    "    print('Finished validation.')\n",
    "    if epoch >= 0:\n",
    "        writer.add_scalar(\"MSE/test\", _loss[0].avg, epoch)\n",
    "        writer.add_scalar(\"PSNR/test\", _loss[1].avg, epoch)\n",
    "        writer.add_scalar(\"SSIM/test\", _loss[2].avg, epoch)\n",
    "    return _loss[0].avg, _loss[1].avg, _loss[2].avg"
   ]
  },
  {
   "cell_type": "code",
   "execution_count": 18,
   "metadata": {
    "id": "FOo__iEnvLMB"
   },
   "outputs": [],
   "source": [
    "def train(train_loader, model, criterion, optimizer, epoch):\n",
    "    print(f'Starting training epoch {epoch}')\n",
    "    _loss = [AverageMeter(), AverageMeter(), AverageMeter()]\n",
    "    \n",
    "    model.train()\n",
    "\n",
    "    for gray, ab in train_loader:\n",
    "        if use_gpu: \n",
    "            gray, ab = gray.cuda(), ab.cuda()\n",
    "            \n",
    "        optimizer.zero_grad()\n",
    "\n",
    "        output_ab = model(gray) \n",
    "        loss = [criterion[0](output_ab, ab), criterion[1](output_ab, ab), criterion[2](output_ab, ab)]\n",
    "        \n",
    "        loss[0].backward()\n",
    "        optimizer.step()\n",
    "        \n",
    "        _loss[0].update(loss[0].item(), gray.size(0))\n",
    "        _loss[1].update(loss[1].item(), gray.size(0))\n",
    "        _loss[2].update(loss[2].item(), gray.size(0))\n",
    "        \n",
    "    print(f'Epoch: {epoch}, MSE {_loss[0].val:.8f} ({_loss[0].avg:.8f}), PSNR {_loss[1].val:.8f} ({_loss[1].avg:.8f}), SSIM {_loss[2].val:.8f} ({_loss[2].avg:.8f})')\n",
    "\n",
    "    print(f'Finished training epoch {epoch}')\n",
    "    if epoch >= 0:\n",
    "        writer.add_scalar(\"MSE/train\", _loss[0].avg, epoch)\n",
    "        writer.add_scalar(\"PSNR/train\", _loss[1].avg, epoch)\n",
    "        writer.add_scalar(\"SSIM/train\", _loss[2].avg, epoch)"
   ]
  },
  {
   "cell_type": "code",
   "execution_count": 19,
   "metadata": {
    "colab": {
     "base_uri": "https://localhost:8080/",
     "height": 625
    },
    "id": "XUR6ALi3AZoO",
    "outputId": "4b274c7b-fc1d-4e14-dc1f-a7ef93f3663f",
    "scrolled": true
   },
   "outputs": [
    {
     "name": "stdout",
     "output_type": "stream",
     "text": [
      "Starting training epoch 0\n",
      "Epoch: 0, MSE 0.00663874 (0.11509894), PSNR 21.77914619 (16.49454541), SSIM 0.28978372 (0.15497606)\n",
      "Finished training epoch 0\n",
      "Validate: MSE 0.01475816 (0.01076237), PSNR 18.30967712 (19.72899988), SSIM 0.32084149 (0.44325269)\n",
      "Finished validation.\n",
      "Starting training epoch 1\n",
      "Epoch: 1, MSE 0.00375044 (0.00387516), PSNR 24.25917053 (24.22526893), SSIM 0.73566568 (0.55656868)\n",
      "Finished training epoch 1\n",
      "Validate: MSE 0.00370172 (0.00304549), PSNR 24.31596375 (25.23050066), SSIM 0.66905189 (0.75483286)\n",
      "Finished validation.\n",
      "Starting training epoch 2\n",
      "Epoch: 2, MSE 0.00324666 (0.00290370), PSNR 24.88562584 (25.39563383), SSIM 0.75908315 (0.75117019)\n",
      "Finished training epoch 2\n",
      "Validate: MSE 0.00327147 (0.00280271), PSNR 24.85257530 (25.59803836), SSIM 0.70290852 (0.77470342)\n",
      "Finished validation.\n",
      "Starting training epoch 3\n",
      "Epoch: 3, MSE 0.00363043 (0.00289836), PSNR 24.40042114 (25.40275927), SSIM 0.75561839 (0.76299660)\n",
      "Finished training epoch 3\n",
      "Validate: MSE 0.00367559 (0.00306517), PSNR 24.34672356 (25.22107966), SSIM 0.69939488 (0.76837496)\n",
      "Finished validation.\n",
      "Starting training epoch 4\n",
      "Epoch: 4, MSE 0.00332403 (0.00295233), PSNR 24.78334618 (25.33352011), SSIM 0.74962413 (0.76296035)\n",
      "Finished training epoch 4\n",
      "Validate: MSE 0.00363341 (0.00294769), PSNR 24.39685249 (25.36861465), SSIM 0.70160830 (0.77094909)\n",
      "Finished validation.\n",
      "Starting training epoch 5\n",
      "Epoch: 5, MSE 0.00300530 (0.00302951), PSNR 25.22111893 (25.22906581), SSIM 0.76085812 (0.76010988)\n",
      "Finished training epoch 5\n",
      "Validate: MSE 0.00342979 (0.00285597), PSNR 24.64731979 (25.50451591), SSIM 0.70336366 (0.77408350)\n",
      "Finished validation.\n",
      "Starting training epoch 6\n",
      "Epoch: 6, MSE 0.00371445 (0.00334092), PSNR 24.30104828 (24.85409628), SSIM 0.72076201 (0.75324358)\n",
      "Finished training epoch 6\n",
      "Validate: MSE 0.00387460 (0.00391072), PSNR 24.11773682 (24.16859509), SSIM 0.67379433 (0.75320288)\n",
      "Finished validation.\n",
      "Starting training epoch 7\n",
      "Epoch: 7, MSE 0.00306190 (0.00432756), PSNR 25.14009094 (23.91192052), SSIM 0.75849438 (0.73547390)\n",
      "Finished training epoch 7\n",
      "Validate: MSE 0.00352444 (0.00298758), PSNR 24.52909088 (25.32763190), SSIM 0.70210469 (0.77202436)\n",
      "Finished validation.\n",
      "Starting training epoch 8\n",
      "Epoch: 8, MSE 0.00228708 (0.00473023), PSNR 26.40719414 (23.58928201), SSIM 0.75054896 (0.72869884)\n",
      "Finished training epoch 8\n",
      "Validate: MSE 0.00520334 (0.00418495), PSNR 22.83717728 (23.86596790), SSIM 0.67401969 (0.74171674)\n",
      "Finished validation.\n",
      "Starting training epoch 9\n",
      "Epoch: 9, MSE 0.00312947 (0.00447570), PSNR 25.04529381 (23.73964733), SSIM 0.75943673 (0.72884670)\n",
      "Finished training epoch 9\n",
      "Validate: MSE 0.00470761 (0.00483594), PSNR 23.27198982 (23.33832947), SSIM 0.66077936 (0.74742887)\n",
      "Finished validation.\n",
      "Starting training epoch 10\n",
      "Epoch: 10, MSE 0.00302277 (0.00482996), PSNR 25.19594383 (23.52022321), SSIM 0.74218118 (0.72127407)\n",
      "Finished training epoch 10\n",
      "Validate: MSE 0.00345285 (0.00291370), PSNR 24.61822510 (25.41632327), SSIM 0.69975859 (0.77207106)\n",
      "Finished validation.\n",
      "Starting training epoch 11\n",
      "Epoch: 11, MSE 0.00694676 (0.00426507), PSNR 21.58217430 (24.02129130), SSIM 0.66977704 (0.72897613)\n",
      "Finished training epoch 11\n",
      "Validate: MSE 0.00516351 (0.00532420), PSNR 22.87054634 (22.79182620), SSIM 0.64538378 (0.72302106)\n",
      "Finished validation.\n",
      "Starting training epoch 12\n",
      "Epoch: 12, MSE 0.00706211 (0.00524675), PSNR 21.51065445 (23.48487646), SSIM 0.65143603 (0.71640598)\n",
      "Finished training epoch 12\n",
      "Validate: MSE 0.00329568 (0.00289339), PSNR 24.82054329 (25.46033391), SSIM 0.70234329 (0.77513917)\n",
      "Finished validation.\n",
      "Starting training epoch 13\n",
      "Epoch: 13, MSE 0.00252184 (0.00407380), PSNR 25.98282433 (24.13460422), SSIM 0.74224955 (0.72843266)\n",
      "Finished training epoch 13\n",
      "Validate: MSE 0.00524032 (0.00501361), PSNR 22.80642128 (23.04592995), SSIM 0.65636384 (0.72785702)\n",
      "Finished validation.\n",
      "Starting training epoch 14\n",
      "Epoch: 14, MSE 0.00276224 (0.00493398), PSNR 25.58738136 (23.49281999), SSIM 0.74961871 (0.71565924)\n",
      "Finished training epoch 14\n",
      "Validate: MSE 0.00468659 (0.00441934), PSNR 23.29142952 (23.66155533), SSIM 0.65932477 (0.74017504)\n",
      "Finished validation.\n",
      "Starting training epoch 15\n",
      "Epoch: 15, MSE 0.00229573 (0.00444222), PSNR 26.39079857 (23.91586847), SSIM 0.76666844 (0.72296183)\n",
      "Finished training epoch 15\n",
      "Validate: MSE 0.00428919 (0.00352065), PSNR 23.67624283 (24.57227481), SSIM 0.68542498 (0.75538564)\n",
      "Finished validation.\n",
      "Starting training epoch 16\n",
      "Epoch: 16, MSE 0.00423880 (0.00459004), PSNR 23.72756577 (23.73878216), SSIM 0.71770608 (0.71942963)\n",
      "Finished training epoch 16\n",
      "Validate: MSE 0.00599082 (0.00614474), PSNR 22.22513771 (22.15560036), SSIM 0.63654166 (0.71118642)\n",
      "Finished validation.\n",
      "Starting training epoch 17\n",
      "Epoch: 17, MSE 0.00504748 (0.00441861), PSNR 22.96925735 (23.80515219), SSIM 0.74062896 (0.72127590)\n",
      "Finished training epoch 17\n",
      "Validate: MSE 0.00558975 (0.00458386), PSNR 22.52607346 (23.50447524), SSIM 0.68160379 (0.75024751)\n",
      "Finished validation.\n",
      "Starting training epoch 18\n",
      "Epoch: 18, MSE 0.00324053 (0.00462425), PSNR 24.89383507 (23.76958270), SSIM 0.74562013 (0.72003129)\n",
      "Finished training epoch 18\n",
      "Validate: MSE 0.00599109 (0.00500586), PSNR 22.22494316 (23.11260864), SSIM 0.66815686 (0.73737174)\n",
      "Finished validation.\n",
      "Starting training epoch 19\n",
      "Epoch: 19, MSE 0.00546423 (0.00473208), PSNR 22.62471008 (23.71250566), SSIM 0.69172370 (0.71843291)\n",
      "Finished training epoch 19\n",
      "Validate: MSE 0.00557422 (0.00572410), PSNR 22.53815651 (22.46826525), SSIM 0.64228463 (0.71709485)\n",
      "Finished validation.\n",
      "Starting training epoch 20\n",
      "Epoch: 20, MSE 0.00541997 (0.00403131), PSNR 22.66003227 (24.23534062), SSIM 0.68366468 (0.72708099)\n",
      "Finished training epoch 20\n",
      "Validate: MSE 0.00564400 (0.00618651), PSNR 22.48413277 (22.17915928), SSIM 0.62322938 (0.70891257)\n",
      "Finished validation.\n",
      "Starting training epoch 21\n",
      "Epoch: 21, MSE 0.00216981 (0.00437502), PSNR 26.63577461 (23.89963117), SSIM 0.75779742 (0.72146782)\n",
      "Finished training epoch 21\n",
      "Validate: MSE 0.00546169 (0.00527982), PSNR 22.62672806 (22.81747689), SSIM 0.65303606 (0.72407270)\n",
      "Finished validation.\n",
      "Starting training epoch 22\n",
      "Epoch: 22, MSE 0.00411908 (0.00530179), PSNR 23.85199738 (23.27612249), SSIM 0.71804035 (0.71196301)\n",
      "Finished training epoch 22\n",
      "Validate: MSE 0.00544573 (0.00475975), PSNR 22.63943481 (23.29208894), SSIM 0.63668990 (0.72180691)\n",
      "Finished validation.\n",
      "Starting training epoch 23\n",
      "Epoch: 23, MSE 0.00415213 (0.00406659), PSNR 23.81728554 (24.13890755), SSIM 0.73561490 (0.72680958)\n",
      "Finished training epoch 23\n",
      "Validate: MSE 0.01101471 (0.00946988), PSNR 19.58026695 (20.30356136), SSIM 0.62337172 (0.69271705)\n",
      "Finished validation.\n",
      "Starting training epoch 24\n",
      "Epoch: 24, MSE 0.00334979 (0.00446710), PSNR 24.74981689 (23.89642305), SSIM 0.72204602 (0.72077164)\n",
      "Finished training epoch 24\n",
      "Validate: MSE 0.00614249 (0.00677195), PSNR 22.11655426 (21.86086744), SSIM 0.66882175 (0.75220740)\n",
      "Finished validation.\n",
      "Starting training epoch 25\n",
      "Epoch: 25, MSE 0.00527365 (0.00456210), PSNR 22.77888870 (23.69360589), SSIM 0.68667573 (0.71881483)\n",
      "Finished training epoch 25\n",
      "Validate: MSE 0.00436396 (0.00427522), PSNR 23.60119247 (23.82858745), SSIM 0.67795885 (0.75602011)\n",
      "Finished validation.\n",
      "Starting training epoch 26\n",
      "Epoch: 26, MSE 0.00298375 (0.00482721), PSNR 25.25237656 (23.89417923), SSIM 0.71394169 (0.72235264)\n",
      "Finished training epoch 26\n",
      "Validate: MSE 0.00342728 (0.00353657), PSNR 24.65050125 (24.64955587), SSIM 0.70447391 (0.77510431)\n",
      "Finished validation.\n",
      "Starting training epoch 27\n",
      "Epoch: 27, MSE 0.00306337 (0.00429730), PSNR 25.13800812 (24.04504864), SSIM 0.74757719 (0.72559133)\n",
      "Finished training epoch 27\n",
      "Validate: MSE 0.00365944 (0.00388403), PSNR 24.36585617 (24.24795764), SSIM 0.69872975 (0.77247241)\n",
      "Finished validation.\n",
      "Starting training epoch 28\n",
      "Epoch: 28, MSE 0.00255701 (0.00467931), PSNR 25.92267418 (23.67062756), SSIM 0.75516683 (0.71798800)\n",
      "Finished training epoch 28\n",
      "Validate: MSE 0.00455942 (0.00513725), PSNR 23.41090012 (23.03247656), SSIM 0.68504643 (0.75993434)\n",
      "Finished validation.\n",
      "Starting training epoch 29\n",
      "Epoch: 29, MSE 0.00523980 (0.00462255), PSNR 22.80685425 (23.66228917), SSIM 0.69893652 (0.71879834)\n",
      "Finished training epoch 29\n",
      "Validate: MSE 0.00510806 (0.00549732), PSNR 22.91744041 (22.75771412), SSIM 0.68717480 (0.76320961)\n",
      "Finished validation.\n",
      "Starting training epoch 30\n"
     ]
    },
    {
     "name": "stdout",
     "output_type": "stream",
     "text": [
      "Epoch: 30, MSE 0.00404149 (0.00456670), PSNR 23.93458557 (23.84659108), SSIM 0.73032939 (0.72106138)\n",
      "Finished training epoch 30\n",
      "Validate: MSE 0.01179322 (0.01166088), PSNR 19.28367424 (19.39157402), SSIM 0.60353720 (0.67087605)\n",
      "Finished validation.\n",
      "Starting training epoch 31\n",
      "Epoch: 31, MSE 0.00454486 (0.00416472), PSNR 23.42479134 (24.10219632), SSIM 0.72180760 (0.72663780)\n",
      "Finished training epoch 31\n",
      "Validate: MSE 0.00471177 (0.00444079), PSNR 23.26815796 (23.57152834), SSIM 0.62524080 (0.69624119)\n",
      "Finished validation.\n",
      "Starting training epoch 32\n",
      "Epoch: 32, MSE 0.00276231 (0.00496725), PSNR 25.58728218 (23.50896970), SSIM 0.73757142 (0.71488596)\n",
      "Finished training epoch 32\n",
      "Validate: MSE 0.00322040 (0.00309002), PSNR 24.92089462 (25.18404870), SSIM 0.68983960 (0.75807743)\n",
      "Finished validation.\n",
      "Starting training epoch 33\n",
      "Epoch: 33, MSE 0.00358654 (0.00448300), PSNR 24.45323944 (23.96277273), SSIM 0.72591054 (0.72273068)\n",
      "Finished training epoch 33\n",
      "Validate: MSE 0.00978836 (0.01070621), PSNR 20.09289932 (19.82134195), SSIM 0.63946515 (0.72065500)\n",
      "Finished validation.\n",
      "Starting training epoch 34\n",
      "Epoch: 34, MSE 0.00479415 (0.00448129), PSNR 23.19288635 (23.88264661), SSIM 0.74623913 (0.72400719)\n",
      "Finished training epoch 34\n",
      "Validate: MSE 0.00485278 (0.00411362), PSNR 23.14009094 (23.88648999), SSIM 0.64178735 (0.70971905)\n",
      "Finished validation.\n",
      "Starting training epoch 35\n",
      "Epoch: 35, MSE 0.00386933 (0.00434487), PSNR 24.12364578 (23.91655235), SSIM 0.75006491 (0.72442075)\n",
      "Finished training epoch 35\n",
      "Validate: MSE 0.00350887 (0.00317975), PSNR 24.54832077 (25.03669687), SSIM 0.66859955 (0.73766941)\n",
      "Finished validation.\n",
      "Starting training epoch 36\n",
      "Epoch: 36, MSE 0.01451101 (0.00447948), PSNR 18.38302231 (23.81302050), SSIM 0.56145084 (0.72022742)\n",
      "Finished training epoch 36\n"
     ]
    },
    {
     "name": "stderr",
     "output_type": "stream",
     "text": [
      "/home/konrad/.local/lib/python3.10/site-packages/skimage/_shared/utils.py:394: UserWarning: Color data out of range: Z < 0 in 1 pixels\n",
      "  return func(*args, **kwargs)\n"
     ]
    },
    {
     "name": "stdout",
     "output_type": "stream",
     "text": [
      "Validate: MSE 0.01568426 (0.01790688), PSNR 18.04535866 (17.53720386), SSIM 0.52917933 (0.61238973)\n",
      "Finished validation.\n",
      "Starting training epoch 37\n",
      "Epoch: 37, MSE 0.00388396 (0.00456305), PSNR 24.10725212 (23.84140715), SSIM 0.72165662 (0.72238970)\n",
      "Finished training epoch 37\n",
      "Validate: MSE 0.00632841 (0.00654245), PSNR 21.98705101 (21.95993236), SSIM 0.67236936 (0.74357319)\n",
      "Finished validation.\n",
      "Starting training epoch 38\n",
      "Epoch: 38, MSE 0.00378944 (0.00437017), PSNR 24.21425056 (23.94166696), SSIM 0.76189500 (0.72365994)\n",
      "Finished training epoch 38\n",
      "Validate: MSE 0.00653204 (0.00693091), PSNR 21.84951401 (21.72743002), SSIM 0.67188990 (0.74781752)\n",
      "Finished validation.\n",
      "Starting training epoch 39\n",
      "Epoch: 39, MSE 0.00765734 (0.00435662), PSNR 21.15921593 (23.93576441), SSIM 0.71055657 (0.72516087)\n",
      "Finished training epoch 39\n",
      "Validate: MSE 0.00673428 (0.00569511), PSNR 21.71708679 (22.49526946), SSIM 0.59452039 (0.66899572)\n",
      "Finished validation.\n",
      "Starting training epoch 40\n",
      "Epoch: 40, MSE 0.00251695 (0.00430390), PSNR 25.99124908 (24.00521118), SSIM 0.73073465 (0.72533262)\n",
      "Finished training epoch 40\n",
      "Validate: MSE 0.00475723 (0.00528747), PSNR 23.22645378 (22.91379177), SSIM 0.69268662 (0.76749467)\n",
      "Finished validation.\n",
      "Starting training epoch 41\n",
      "Epoch: 41, MSE 0.00285027 (0.00485721), PSNR 25.45113945 (23.58627972), SSIM 0.75367522 (0.71790481)\n",
      "Finished training epoch 41\n",
      "Validate: MSE 0.00538350 (0.00592089), PSNR 22.68935013 (22.42348372), SSIM 0.69713545 (0.77017996)\n",
      "Finished validation.\n",
      "Starting training epoch 42\n",
      "Epoch: 42, MSE 0.00373387 (0.00431039), PSNR 24.27840996 (24.00143954), SSIM 0.72643638 (0.72393033)\n",
      "Finished training epoch 42\n",
      "Validate: MSE 0.00327797 (0.00299755), PSNR 24.84394455 (25.30601452), SSIM 0.68680012 (0.75488241)\n",
      "Finished validation.\n",
      "Starting training epoch 43\n",
      "Epoch: 43, MSE 0.00426890 (0.00450461), PSNR 23.69684029 (23.84846007), SSIM 0.75109279 (0.72303660)\n",
      "Finished training epoch 43\n",
      "Validate: MSE 0.01284119 (0.01153952), PSNR 18.91394615 (19.41525047), SSIM 0.52711833 (0.60769184)\n",
      "Finished validation.\n",
      "Starting training epoch 44\n",
      "Epoch: 44, MSE 0.00317269 (0.00465198), PSNR 24.98571587 (23.74088963), SSIM 0.77429849 (0.72172083)\n",
      "Finished training epoch 44\n",
      "Validate: MSE 0.00900932 (0.00839423), PSNR 20.45308113 (20.79751023), SSIM 0.61480677 (0.67964409)\n",
      "Finished validation.\n",
      "Starting training epoch 45\n",
      "Epoch: 45, MSE 0.00375698 (0.00418500), PSNR 24.25160599 (24.09071997), SSIM 0.73218596 (0.72803887)\n",
      "Finished training epoch 45\n",
      "Validate: MSE 0.00586936 (0.00656669), PSNR 22.31408882 (21.98210020), SSIM 0.68358719 (0.76301766)\n",
      "Finished validation.\n",
      "Starting training epoch 46\n",
      "Epoch: 46, MSE 0.00462455 (0.00453094), PSNR 23.34930801 (23.78900866), SSIM 0.70089436 (0.72186690)\n",
      "Finished training epoch 46\n",
      "Validate: MSE 0.00857192 (0.00869273), PSNR 20.66921806 (20.69638017), SSIM 0.64330232 (0.71227552)\n",
      "Finished validation.\n",
      "Starting training epoch 47\n",
      "Epoch: 47, MSE 0.00229280 (0.00430919), PSNR 26.39633560 (23.97244227), SSIM 0.75761348 (0.72520284)\n",
      "Finished training epoch 47\n",
      "Validate: MSE 0.00506798 (0.00542530), PSNR 22.95164871 (22.80808001), SSIM 0.69593048 (0.76859715)\n",
      "Finished validation.\n",
      "Starting training epoch 48\n",
      "Epoch: 48, MSE 0.00284261 (0.00447122), PSNR 25.46282768 (23.85667512), SSIM 0.75130510 (0.72364114)\n",
      "Finished training epoch 48\n",
      "Validate: MSE 0.00433560 (0.00369822), PSNR 23.62951279 (24.37441454), SSIM 0.63536823 (0.70671190)\n",
      "Finished validation.\n",
      "Starting training epoch 49\n",
      "Epoch: 49, MSE 0.00449405 (0.00460928), PSNR 23.47362328 (23.78754960), SSIM 0.72058231 (0.72288022)\n",
      "Finished training epoch 49\n",
      "Validate: MSE 0.00394864 (0.00389827), PSNR 24.03552628 (24.20443734), SSIM 0.69737607 (0.76450412)\n",
      "Finished validation.\n",
      "Starting training epoch 50\n",
      "Epoch: 50, MSE 0.00481514 (0.00472189), PSNR 23.17391396 (23.77648538), SSIM 0.70761949 (0.72195313)\n",
      "Finished training epoch 50\n",
      "Validate: MSE 0.00519204 (0.00431186), PSNR 22.84661484 (23.69796005), SSIM 0.62362969 (0.69488680)\n",
      "Finished validation.\n",
      "Starting training epoch 51\n",
      "Epoch: 51, MSE 0.00595289 (0.00423971), PSNR 22.25271797 (24.05249362), SSIM 0.70041877 (0.72697538)\n",
      "Finished training epoch 51\n",
      "Validate: MSE 0.00477119 (0.00406884), PSNR 23.21373177 (23.93524287), SSIM 0.64675725 (0.71442308)\n",
      "Finished validation.\n",
      "Starting training epoch 52\n",
      "Epoch: 52, MSE 0.00377706 (0.00427388), PSNR 24.22846222 (24.04236855), SSIM 0.74170315 (0.72656359)\n",
      "Finished training epoch 52\n",
      "Validate: MSE 0.00373795 (0.00392587), PSNR 24.27366638 (24.17752061), SSIM 0.68903446 (0.75730814)\n",
      "Finished validation.\n"
     ]
    },
    {
     "data": {
      "text/plain": [
       "<Figure size 432x288 with 0 Axes>"
      ]
     },
     "metadata": {},
     "output_type": "display_data"
    }
   ],
   "source": [
    "# Train model\n",
    "for epoch in range(epochs):\n",
    "    # Train for one epoch, then validate\n",
    "    train(train_loader, model, criterion, optimizer, epoch)\n",
    "    with torch.no_grad():\n",
    "        losses = validate(val_loader, model, criterion, save_images, epoch)\n",
    "    # Save checkpoint and replace old best model if current model is better\n",
    "    if losses[0] < best_losses[0]:\n",
    "        best_losses[0] = losses[0]\n",
    "        best_epoch = epoch\n",
    "        torch.save(model.state_dict(), f'{checkpoints}/epoch-{epoch}-MSELoss-{losses[0]:.8f}.pth')\n",
    "    if losses[1] < best_losses[1]:\n",
    "        best_losses[1] = losses[1]\n",
    "        torch.save(model.state_dict(), f'{checkpoints}/epoch-{epoch}-PSNRLoss-{losses[1]:.8f}.pth')\n",
    "    if losses[2] < best_losses[2]:\n",
    "        best_losses[2] = losses[2]\n",
    "        torch.save(model.state_dict(), f'{checkpoints}/epoch-{epoch}-SSIMLoss-{losses[2]:.8f}.pth')\n",
    "    \n",
    "    if epoch - best_epoch >= patience:\n",
    "        torch.save(model.state_dict(), f'{checkpoints}/epoch-{epoch}-MSELoss-{losses[0]:.8f}-early_stop.pth')\n",
    "        break\n",
    "    \n",
    "    if epoch == epochs - 1:\n",
    "        torch.save(model.state_dict(), f'{checkpoints}/epoch-{epoch}-last-{losses[0]:.8f}-{losses[1]:.8f}-{losses[2]:.8f}.pth')\n"
   ]
  },
  {
   "cell_type": "code",
   "execution_count": 20,
   "metadata": {
    "scrolled": true
   },
   "outputs": [],
   "source": [
    "torch.save(model.state_dict(), f'{checkpoints}/last-{losses[0]:.8f}-{losses[1]:.8f}-{losses[2]:.8f}.pth')"
   ]
  },
  {
   "cell_type": "code",
   "execution_count": 21,
   "metadata": {
    "colab": {
     "base_uri": "https://localhost:8080/",
     "height": 1593
    },
    "id": "UcovGnpHMl9D",
    "outputId": "90b7a2b4-dc03-4862-cf02-c7ddbbb7e500"
   },
   "outputs": [
    {
     "name": "stdout",
     "output_type": "stream",
     "text": [
      "Validate: MSE 0.00373795 (0.00392587), PSNR 24.27366638 (24.17752058), SSIM 0.68903434 (0.75730814)\n",
      "Finished validation.\n"
     ]
    },
    {
     "data": {
      "text/plain": [
       "<Figure size 432x288 with 0 Axes>"
      ]
     },
     "metadata": {},
     "output_type": "display_data"
    }
   ],
   "source": [
    "# Validate\n",
    "save_images = True\n",
    "with torch.no_grad():\n",
    "    validate(val_loader, model, criterion, save_images, -1)"
   ]
  },
  {
   "cell_type": "code",
   "execution_count": 22,
   "metadata": {},
   "outputs": [],
   "source": [
    "# # Show images \n",
    "# image_pairs = []\n",
    "\n",
    "# for i in range(10):\n",
    "#     image_pairs.append((f'{color_imgs}img-{i}-epoch-{best_epoch}.jpg', f'{gray_imgs}img-{i}-epoch-{best_epoch}.jpg'))\n",
    "    \n",
    "# for c, g in image_pairs:\n",
    "#   color = mpimg.imread(c)\n",
    "#   gray  = mpimg.imread(g)\n",
    "#   f, axarr = plt.subplots(1, 2)\n",
    "#   f.set_size_inches(15, 15)\n",
    "#   axarr[0].imshow(gray, cmap='gray')\n",
    "#   axarr[1].imshow(color)\n",
    "#   axarr[0].axis('off'), axarr[1].axis('off')\n",
    "#   plt.show()"
   ]
  },
  {
   "cell_type": "code",
   "execution_count": null,
   "metadata": {},
   "outputs": [],
   "source": []
  }
 ],
 "metadata": {
  "accelerator": "GPU",
  "colab": {
   "provenance": []
  },
  "kernelspec": {
   "display_name": "Python 3 (ipykernel)",
   "language": "python",
   "name": "python3"
  },
  "language_info": {
   "codemirror_mode": {
    "name": "ipython",
    "version": 3
   },
   "file_extension": ".py",
   "mimetype": "text/x-python",
   "name": "python",
   "nbconvert_exporter": "python",
   "pygments_lexer": "ipython3",
   "version": "3.10.6"
  }
 },
 "nbformat": 4,
 "nbformat_minor": 4
}
