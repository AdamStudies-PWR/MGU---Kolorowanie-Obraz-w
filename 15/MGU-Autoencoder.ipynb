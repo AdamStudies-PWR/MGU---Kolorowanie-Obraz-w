{
 "cells": [
  {
   "cell_type": "code",
   "execution_count": 1,
   "metadata": {
    "id": "J_Y9UFYhKbuE"
   },
   "outputs": [],
   "source": [
    "# For plotting\n",
    "import numpy as np\n",
    "import matplotlib.pyplot as plt\n",
    "import matplotlib.image as mpimg\n",
    "%matplotlib inline\n",
    "# For conversion\n",
    "from skimage.color import lab2rgb, rgb2lab, rgb2gray\n",
    "from skimage import io\n",
    "# For everything\n",
    "import torch\n",
    "import torch.nn as nn\n",
    "import torch.nn.functional as F\n",
    "# For our model\n",
    "import torchvision\n",
    "import torchvision.models as models\n",
    "from torchvision import datasets, transforms\n",
    "from torchmetrics import MeanSquaredError, PeakSignalNoiseRatio, StructuralSimilarityIndexMeasure\n",
    "from PIL import Image\n",
    "# For utilities\n",
    "import os, shutil, time"
   ]
  },
  {
   "cell_type": "code",
   "execution_count": 2,
   "metadata": {
    "scrolled": true
   },
   "outputs": [
    {
     "data": {
      "text/html": [
       "\n",
       "      <iframe id=\"tensorboard-frame-a53f6c122c23bba6\" width=\"100%\" height=\"800\" frameborder=\"0\">\n",
       "      </iframe>\n",
       "      <script>\n",
       "        (function() {\n",
       "          const frame = document.getElementById(\"tensorboard-frame-a53f6c122c23bba6\");\n",
       "          const url = new URL(\"/\", window.location);\n",
       "          const port = 6006;\n",
       "          if (port) {\n",
       "            url.port = port;\n",
       "          }\n",
       "          frame.src = url;\n",
       "        })();\n",
       "      </script>\n",
       "    "
      ],
      "text/plain": [
       "<IPython.core.display.HTML object>"
      ]
     },
     "metadata": {},
     "output_type": "display_data"
    }
   ],
   "source": [
    "%load_ext tensorboard\n",
    "%tensorboard --logdir=runs"
   ]
  },
  {
   "cell_type": "code",
   "execution_count": 3,
   "metadata": {},
   "outputs": [],
   "source": [
    "# colab i kaggle jeszcze nie testowane\n",
    "colab = False\n",
    "kaggle = False\n",
    "test_number = '12_2'"
   ]
  },
  {
   "cell_type": "code",
   "execution_count": 4,
   "metadata": {},
   "outputs": [],
   "source": [
    "color_imgs = 'outputs/color/'\n",
    "gray_imgs = 'outputs/gray/'\n",
    "checkpoints = 'checkpoints'\n",
    "if colab:\n",
    "    from google.colab import drive\n",
    "    drive.mount('/content/drive')\n",
    "    dataset = '/content/drive/MyDrive/MGU/cifar10/'\n",
    "    \n",
    "    color_imgs = f'/content/drive/MyDrive/MGU/{test_number}/{color_imgs}'\n",
    "    gray_imgs = f'/content/drive/MyDrive/MGU/{test_number}/{gray_imgs}'\n",
    "    checkpoints = f'/content/drive/MyDrive/MGU/{test_number}/{checkpoints}'\n",
    "elif kaggle:\n",
    "    dataset = '/kaggle/input/cifar10/'\n",
    "    \n",
    "    color_imgs = f'{test_number}/{color_imgs}'\n",
    "    gray_imgs = f'{test_number}/{gray_imgs}'\n",
    "    checkpoints = f'{test_number}/{checkpoints}'\n",
    "else:\n",
    "    dataset = '../../datasets/cifar10/'"
   ]
  },
  {
   "cell_type": "code",
   "execution_count": 5,
   "metadata": {
    "id": "ckNmKA5VwSh1"
   },
   "outputs": [],
   "source": [
    "# Make folders and set parameters\n",
    "os.makedirs(color_imgs, exist_ok=True)\n",
    "os.makedirs(gray_imgs, exist_ok=True)\n",
    "os.makedirs(checkpoints, exist_ok=True)\n",
    "save_images = True\n",
    "best_losses = [1e10, 1e10, 1e10]\n",
    "best_epoch = -1\n",
    "patience = 50\n",
    "epochs = 500\n",
    "batch_size = 128\n",
    "SIZE = 32"
   ]
  },
  {
   "cell_type": "code",
   "execution_count": 6,
   "metadata": {},
   "outputs": [],
   "source": [
    "from torch.utils.tensorboard import SummaryWriter\n",
    "writer = SummaryWriter()"
   ]
  },
  {
   "cell_type": "code",
   "execution_count": 7,
   "metadata": {
    "id": "gMolrzKA_1uJ"
   },
   "outputs": [
    {
     "name": "stdout",
     "output_type": "stream",
     "text": [
      "True\n"
     ]
    }
   ],
   "source": [
    "# Check if GPU is available\n",
    "use_gpu = torch.cuda.is_available()\n",
    "print(use_gpu)"
   ]
  },
  {
   "cell_type": "code",
   "execution_count": 8,
   "metadata": {
    "id": "05NviQfzU2Mv"
   },
   "outputs": [],
   "source": [
    "class LabImageFolder(torch.utils.data.Dataset):\n",
    "    def __init__(self, paths, split='train'):\n",
    "        if split == 'train':\n",
    "            self.transforms = transforms.Compose([\n",
    "                transforms.Resize((SIZE, SIZE), transforms.InterpolationMode.BICUBIC),\n",
    "                transforms.RandomCrop(SIZE),\n",
    "                transforms.RandomHorizontalFlip(),  \n",
    "            ])\n",
    "        elif split == 'val':\n",
    "            self.transforms = transforms.Compose([\n",
    "                transforms.Resize((SIZE, SIZE), transforms.InterpolationMode.BICUBIC), \n",
    "                transforms.RandomCrop(SIZE), \n",
    "            ])\n",
    "            \n",
    "        self.split = split\n",
    "        self.size = SIZE\n",
    "        self.paths = [os.path.join(paths, file) for file in os.listdir(paths) if os.path.isfile(\n",
    "            os.path.join(paths, file))]\n",
    "        \n",
    "        \n",
    "    def __getitem__(self, index):\n",
    "        img = Image.open(self.paths[index]).convert(\"RGB\")\n",
    "        img_original = self.transforms(img)\n",
    "        img_original = np.asarray(img_original)\n",
    "        img_lab = rgb2lab(img_original)\n",
    "        img_lab = (img_lab + 128) / 255\n",
    "        img_ab = img_lab[:, :, 1:3]\n",
    "        img_ab = torch.from_numpy(img_ab.transpose((2, 0, 1))).float()\n",
    "        img_gray = rgb2gray(img_original)\n",
    "        img_gray = torch.from_numpy(img_gray).unsqueeze(0).float()\n",
    "        return img_gray, img_ab\n",
    "    \n",
    "    def __len__(self):\n",
    "        return len(self.paths)"
   ]
  },
  {
   "cell_type": "code",
   "execution_count": 9,
   "metadata": {},
   "outputs": [],
   "source": [
    "# Training\n",
    "train_imagefolder = LabImageFolder(dataset + 'train')\n",
    "train_loader = torch.utils.data.DataLoader(train_imagefolder, batch_size=batch_size, shuffle=True)\n",
    "# Validation \n",
    "val_imagefolder = LabImageFolder(dataset + 'val' , 'val')\n",
    "val_loader = torch.utils.data.DataLoader(val_imagefolder, batch_size=batch_size, shuffle=False)"
   ]
  },
  {
   "cell_type": "code",
   "execution_count": 10,
   "metadata": {
    "id": "NOQfP1feNkfS"
   },
   "outputs": [],
   "source": [
    "kernel_size=3\n",
    "stride_en=1\n",
    "stride_de=1\n",
    "padding=1\n",
    "scale_factor=2\n",
    "padding_mode='zeros'\n",
    "channels_base = 64\n",
    "p1 = .5\n",
    "\n",
    "class Autoencoder(nn.Module):\n",
    "    def __init__(self):\n",
    "        super(Autoencoder, self).__init__()\n",
    "\n",
    "        self.conv1 = nn.Conv2d(1, channels_base, kernel_size=kernel_size, stride=stride_en, padding=padding, padding_mode=padding_mode)\n",
    "        self.conv2 = nn.Conv2d(channels_base, channels_base * 2, kernel_size=kernel_size, stride=stride_en, padding=padding, padding_mode=padding_mode)\n",
    "        \n",
    "        self.convtrans1 = nn.ConvTranspose2d(channels_base * 2, channels_base, kernel_size=kernel_size, stride=stride_de, padding=padding, padding_mode=padding_mode)\n",
    "        self.convtrans2 = nn.ConvTranspose2d(channels_base, channels_base // 2, kernel_size=kernel_size, stride=stride_de, padding=padding, padding_mode=padding_mode)\n",
    "        self.convtrans3 = nn.ConvTranspose2d(channels_base // 2, 2, kernel_size=kernel_size, stride=stride_de, padding=padding, padding_mode=padding_mode)\n",
    "\n",
    "        self.batchnorm1 = nn.BatchNorm2d(channels_base // 2)\n",
    "        self.batchnorm2 = nn.BatchNorm2d(channels_base)\n",
    "        self.batchnorm3 = nn.BatchNorm2d(channels_base * 2)\n",
    "        \n",
    "        self.dropout1 = nn.Dropout(p=p1)        \n",
    "        \n",
    "    def forward(self, input):\n",
    "        # encoder\n",
    "        x = F.relu(self.batchnorm2(self.conv1(input)))\n",
    "        x = self.dropout1(x)\n",
    "        x = y = F.avg_pool2d(x, kernel_size=3, stride=2, padding=1)\n",
    "        x = F.relu(self.batchnorm3(self.conv2(x)))\n",
    "        x = self.dropout1(x)\n",
    "        x = F.avg_pool2d(x, kernel_size=3, stride=2, padding=1)\n",
    "        \n",
    "        # decoder\n",
    "        x = F.relu(self.batchnorm2(self.convtrans1(x)))\n",
    "        x = self.dropout1(x)\n",
    "        x = F.interpolate(x, scale_factor=scale_factor)\n",
    "        x = F.relu(self.batchnorm1(self.convtrans2(x + y)))\n",
    "        x = self.dropout1(x)\n",
    "        x = self.convtrans3(F.interpolate(x, scale_factor=scale_factor) + input)\n",
    "\n",
    "        return x"
   ]
  },
  {
   "cell_type": "code",
   "execution_count": 11,
   "metadata": {
    "id": "OtRkAkIjTeq1"
   },
   "outputs": [],
   "source": [
    "model = Autoencoder()"
   ]
  },
  {
   "cell_type": "code",
   "execution_count": 12,
   "metadata": {},
   "outputs": [],
   "source": [
    "criterion = [MeanSquaredError(), PeakSignalNoiseRatio(data_range=1.0), StructuralSimilarityIndexMeasure(data_range=1.0)]"
   ]
  },
  {
   "cell_type": "code",
   "execution_count": 13,
   "metadata": {
    "id": "j3YZ3977TTl4"
   },
   "outputs": [],
   "source": [
    "optimizer = torch.optim.Adam(model.parameters(), lr=1e-2)"
   ]
  },
  {
   "cell_type": "code",
   "execution_count": 14,
   "metadata": {
    "id": "eeHK3BUtANrw"
   },
   "outputs": [],
   "source": [
    "# # Move model and loss function to GPU\n",
    "if use_gpu: \n",
    "    criterion = [criterion[0].to(\"cuda\"), criterion[1].to(\"cuda\"), criterion[2].to(\"cuda\")]\n",
    "    model = model.cuda()"
   ]
  },
  {
   "cell_type": "code",
   "execution_count": 15,
   "metadata": {
    "scrolled": false
   },
   "outputs": [
    {
     "name": "stdout",
     "output_type": "stream",
     "text": [
      "----------------------------------------------------------------\n",
      "        Layer (type)               Output Shape         Param #\n",
      "================================================================\n",
      "            Conv2d-1           [-1, 64, 32, 32]             640\n",
      "       BatchNorm2d-2           [-1, 64, 32, 32]             128\n",
      "           Dropout-3           [-1, 64, 32, 32]               0\n",
      "            Conv2d-4          [-1, 128, 16, 16]          73,856\n",
      "       BatchNorm2d-5          [-1, 128, 16, 16]             256\n",
      "           Dropout-6          [-1, 128, 16, 16]               0\n",
      "   ConvTranspose2d-7             [-1, 64, 8, 8]          73,792\n",
      "       BatchNorm2d-8             [-1, 64, 8, 8]             128\n",
      "           Dropout-9             [-1, 64, 8, 8]               0\n",
      "  ConvTranspose2d-10           [-1, 32, 16, 16]          18,464\n",
      "      BatchNorm2d-11           [-1, 32, 16, 16]              64\n",
      "          Dropout-12           [-1, 32, 16, 16]               0\n",
      "  ConvTranspose2d-13            [-1, 2, 32, 32]             578\n",
      "================================================================\n",
      "Total params: 167,906\n",
      "Trainable params: 167,906\n",
      "Non-trainable params: 0\n",
      "----------------------------------------------------------------\n",
      "Input size (MB): 0.00\n",
      "Forward/backward pass size (MB): 2.55\n",
      "Params size (MB): 0.64\n",
      "Estimated Total Size (MB): 3.19\n",
      "----------------------------------------------------------------\n"
     ]
    }
   ],
   "source": [
    "if use_gpu: \n",
    "    from torchsummary import summary\n",
    "    summary(model, (1, SIZE, SIZE))"
   ]
  },
  {
   "cell_type": "code",
   "execution_count": 16,
   "metadata": {
    "id": "2FDRt12jsIkr"
   },
   "outputs": [],
   "source": [
    "class AverageMeter(object):\n",
    "    '''A handy class from the PyTorch ImageNet tutorial''' \n",
    "    def __init__(self):\n",
    "        self.reset()\n",
    "    def reset(self):\n",
    "        self.val, self.avg, self.sum, self.count = 0, 0, 0, 0\n",
    "    def update(self, val, n=1):\n",
    "        self.val = val\n",
    "        self.sum += val * n\n",
    "        self.count += n\n",
    "        self.avg = self.sum / self.count\n",
    "\n",
    "def to_rgb(grayscale_input, ab_input, save_path=None, save_name=None):\n",
    "    '''Show/save rgb image from grayscale and ab channels\n",
    "       Input save_path in the form {'grayscale': '/path/', 'colorized': '/path/'}'''\n",
    "    plt.clf() # clear matplotlib \n",
    "    color_image = torch.cat((grayscale_input, ab_input), 0).numpy() # combine channels\n",
    "    color_image = color_image.transpose((1, 2, 0))  # rescale for matplotlib\n",
    "    color_image[:, :, 0:1] = color_image[:, :, 0:1] * 100\n",
    "    color_image[:, :, 1:3] = color_image[:, :, 1:3] * 255 - 128   \n",
    "    color_image = lab2rgb(color_image.astype(np.float64))\n",
    "    grayscale_input = grayscale_input.squeeze().numpy()\n",
    "    if save_path is not None and save_name is not None: \n",
    "        plt.imsave(arr=grayscale_input, fname='{}{}'.format(save_path['grayscale'], save_name), cmap='gray')\n",
    "        plt.imsave(arr=color_image, fname='{}{}'.format(save_path['colorized'], save_name))"
   ]
  },
  {
   "cell_type": "code",
   "execution_count": 17,
   "metadata": {
    "id": "M_OTbyOcrh9J"
   },
   "outputs": [],
   "source": [
    "def validate(val_loader, model, criterion, save_images, epoch):\n",
    "    _loss = [AverageMeter(), AverageMeter(), AverageMeter()]\n",
    "\n",
    "    model.eval()\n",
    "    already_saved_images = False\n",
    "    for gray, ab in val_loader:\n",
    "        if use_gpu: \n",
    "            gray, ab = gray.cuda(), ab.cuda()\n",
    "\n",
    "        # Run model and record loss\n",
    "        output_ab = model(gray) # throw away class predictions\n",
    "        loss = [criterion[0](output_ab, ab), criterion[1](output_ab, ab), criterion[2](output_ab, ab)]\n",
    "        \n",
    "        _loss[0].update(loss[0].item(), gray.size(0))\n",
    "        _loss[1].update(loss[1].item(), gray.size(0))\n",
    "        _loss[2].update(loss[2].item(), gray.size(0))\n",
    "\n",
    "        # Save images to file\n",
    "        if save_images and not already_saved_images:\n",
    "            already_saved_images = True\n",
    "            for j in range(min(len(output_ab), 10)): # save at most 5 images\n",
    "                save_path = {'grayscale': gray_imgs, 'colorized': color_imgs}\n",
    "                save_name = 'img-{}-epoch-{}.jpg'.format(j, epoch)\n",
    "                to_rgb(gray[j].cpu(), ab_input=output_ab[j].detach().cpu(), save_path=save_path, save_name=save_name)\n",
    "\n",
    "    print(f'Validate: MSE {_loss[0].val:.8f} ({_loss[0].avg:.8f}), PSNR {_loss[1].val:.8f} ({_loss[1].avg:.8f}), SSIM {_loss[2].val:.8f} ({_loss[2].avg:.8f})')\n",
    "\n",
    "    print('Finished validation.')\n",
    "    if epoch >= 0:\n",
    "        writer.add_scalar(\"MSE/test\", _loss[0].avg, epoch)\n",
    "        writer.add_scalar(\"PSNR/test\", _loss[1].avg, epoch)\n",
    "        writer.add_scalar(\"SSIM/test\", _loss[2].avg, epoch)\n",
    "    return _loss[0].avg, _loss[1].avg, _loss[2].avg"
   ]
  },
  {
   "cell_type": "code",
   "execution_count": 18,
   "metadata": {
    "id": "FOo__iEnvLMB"
   },
   "outputs": [],
   "source": [
    "def train(train_loader, model, criterion, optimizer, epoch):\n",
    "    print(f'Starting training epoch {epoch}')\n",
    "    _loss = [AverageMeter(), AverageMeter(), AverageMeter()]\n",
    "    \n",
    "    model.train()\n",
    "\n",
    "    for gray, ab in train_loader:\n",
    "        if use_gpu: \n",
    "            gray, ab = gray.cuda(), ab.cuda()\n",
    "            \n",
    "        optimizer.zero_grad()\n",
    "\n",
    "        output_ab = model(gray) \n",
    "        loss = [criterion[0](output_ab, ab), criterion[1](output_ab, ab), criterion[2](output_ab, ab)]\n",
    "        \n",
    "        loss[0].backward()\n",
    "        optimizer.step()\n",
    "        \n",
    "        _loss[0].update(loss[0].item(), gray.size(0))\n",
    "        _loss[1].update(loss[1].item(), gray.size(0))\n",
    "        _loss[2].update(loss[2].item(), gray.size(0))\n",
    "        \n",
    "    print(f'Epoch: {epoch}, MSE {_loss[0].val:.8f} ({_loss[0].avg:.8f}), PSNR {_loss[1].val:.8f} ({_loss[1].avg:.8f}), SSIM {_loss[2].val:.8f} ({_loss[2].avg:.8f})')\n",
    "\n",
    "    print(f'Finished training epoch {epoch}')\n",
    "    if epoch >= 0:\n",
    "        writer.add_scalar(\"MSE/train\", _loss[0].avg, epoch)\n",
    "        writer.add_scalar(\"PSNR/train\", _loss[1].avg, epoch)\n",
    "        writer.add_scalar(\"SSIM/train\", _loss[2].avg, epoch)"
   ]
  },
  {
   "cell_type": "code",
   "execution_count": 19,
   "metadata": {
    "colab": {
     "base_uri": "https://localhost:8080/",
     "height": 625
    },
    "id": "XUR6ALi3AZoO",
    "outputId": "4b274c7b-fc1d-4e14-dc1f-a7ef93f3663f",
    "scrolled": true
   },
   "outputs": [
    {
     "name": "stdout",
     "output_type": "stream",
     "text": [
      "Starting training epoch 0\n",
      "Epoch: 0, MSE 0.00752109 (0.18027490), PSNR 21.23719406 (14.69018313), SSIM 0.28256384 (0.10530798)\n",
      "Finished training epoch 0\n",
      "Validate: MSE 0.01413147 (0.01023889), PSNR 18.49812508 (19.91990017), SSIM 0.31621429 (0.42695881)\n",
      "Finished validation.\n",
      "Starting training epoch 1\n",
      "Epoch: 1, MSE 0.00311406 (0.00463271), PSNR 25.06673431 (23.51271484), SSIM 0.66620064 (0.48438308)\n",
      "Finished training epoch 1\n",
      "Validate: MSE 0.00406986 (0.00325190), PSNR 23.90420723 (24.93630904), SSIM 0.64441150 (0.73869210)\n",
      "Finished validation.\n",
      "Starting training epoch 2\n",
      "Epoch: 2, MSE 0.00227687 (0.00295820), PSNR 26.42660904 (25.31265191), SSIM 0.74890661 (0.71526736)\n",
      "Finished training epoch 2\n",
      "Validate: MSE 0.00331695 (0.00296680), PSNR 24.79260826 (25.37140663), SSIM 0.69423211 (0.77154617)\n",
      "Finished validation.\n",
      "Starting training epoch 3\n",
      "Epoch: 3, MSE 0.00300106 (0.00285928), PSNR 25.22724724 (25.45735547), SSIM 0.76403892 (0.75679959)\n",
      "Finished training epoch 3\n",
      "Validate: MSE 0.00345849 (0.00319886), PSNR 24.61113739 (25.02545526), SSIM 0.69415301 (0.76715495)\n",
      "Finished validation.\n",
      "Starting training epoch 4\n",
      "Epoch: 4, MSE 0.00307895 (0.00292109), PSNR 25.11598015 (25.37419016), SSIM 0.75066650 (0.76217771)\n",
      "Finished training epoch 4\n",
      "Validate: MSE 0.00336020 (0.00297870), PSNR 24.73634529 (25.33266648), SSIM 0.69877613 (0.77013075)\n",
      "Finished validation.\n",
      "Starting training epoch 5\n",
      "Epoch: 5, MSE 0.00309617 (0.00301166), PSNR 25.09174919 (25.24479378), SSIM 0.76514578 (0.76006806)\n",
      "Finished training epoch 5\n",
      "Validate: MSE 0.00331505 (0.00281808), PSNR 24.79509544 (25.57119823), SSIM 0.70166051 (0.77245025)\n",
      "Finished validation.\n",
      "Starting training epoch 6\n",
      "Epoch: 6, MSE 0.00474898 (0.00349733), PSNR 23.23399353 (24.75926775), SSIM 0.72603410 (0.74904717)\n",
      "Finished training epoch 6\n",
      "Validate: MSE 0.00384107 (0.00313807), PSNR 24.15547943 (25.08587919), SSIM 0.68940485 (0.75698583)\n",
      "Finished validation.\n",
      "Starting training epoch 7\n",
      "Epoch: 7, MSE 0.00932516 (0.00351738), PSNR 20.30343437 (24.68632164), SSIM 0.64028370 (0.74599471)\n",
      "Finished training epoch 7\n",
      "Validate: MSE 0.01443271 (0.01585271), PSNR 18.40651894 (18.04868217), SSIM 0.52381313 (0.60664697)\n",
      "Finished validation.\n",
      "Starting training epoch 8\n",
      "Epoch: 8, MSE 0.00486456 (0.00400625), PSNR 23.12956047 (24.35529963), SSIM 0.71295607 (0.73757459)\n",
      "Finished training epoch 8\n",
      "Validate: MSE 0.00341499 (0.00331201), PSNR 24.66610718 (24.92369297), SSIM 0.69873708 (0.77303868)\n",
      "Finished validation.\n",
      "Starting training epoch 9\n",
      "Epoch: 9, MSE 0.00279020 (0.00388340), PSNR 25.54365158 (24.29304025), SSIM 0.77006590 (0.73616464)\n",
      "Finished training epoch 9\n",
      "Validate: MSE 0.00409779 (0.00350529), PSNR 23.87449646 (24.60368027), SSIM 0.68253255 (0.75110503)\n",
      "Finished validation.\n",
      "Starting training epoch 10\n",
      "Epoch: 10, MSE 0.00499867 (0.00454139), PSNR 23.01145744 (23.79037378), SSIM 0.73666334 (0.72437818)\n",
      "Finished training epoch 10\n",
      "Validate: MSE 0.00427717 (0.00397762), PSNR 23.68843460 (24.05942921), SSIM 0.66111636 (0.72968665)\n",
      "Finished validation.\n",
      "Starting training epoch 11\n",
      "Epoch: 11, MSE 0.00491648 (0.00473894), PSNR 23.08345795 (23.53323000), SSIM 0.69230086 (0.71990343)\n",
      "Finished training epoch 11\n",
      "Validate: MSE 0.00484898 (0.00402848), PSNR 23.14349174 (24.02786130), SSIM 0.65254390 (0.72131400)\n",
      "Finished validation.\n",
      "Starting training epoch 12\n",
      "Epoch: 12, MSE 0.01728592 (0.00466387), PSNR 17.62307358 (23.71841477), SSIM 0.61254865 (0.72294271)\n",
      "Finished training epoch 12\n",
      "Validate: MSE 0.00932629 (0.00964497), PSNR 20.30290985 (20.18389884), SSIM 0.56846118 (0.63676661)\n",
      "Finished validation.\n",
      "Starting training epoch 13\n",
      "Epoch: 13, MSE 0.00433260 (0.00454888), PSNR 23.63251495 (23.72905552), SSIM 0.71431363 (0.72286818)\n",
      "Finished training epoch 13\n",
      "Validate: MSE 0.00448797 (0.00454097), PSNR 23.47950363 (23.48201667), SSIM 0.65545011 (0.72510234)\n",
      "Finished validation.\n",
      "Starting training epoch 14\n",
      "Epoch: 14, MSE 0.00328828 (0.00436546), PSNR 24.83031654 (23.91726352), SSIM 0.70643336 (0.72490356)\n",
      "Finished training epoch 14\n",
      "Validate: MSE 0.00350467 (0.00350942), PSNR 24.55352974 (24.68938313), SSIM 0.70459771 (0.77688784)\n",
      "Finished validation.\n",
      "Starting training epoch 15\n",
      "Epoch: 15, MSE 0.00317247 (0.00426469), PSNR 24.98603058 (23.95130246), SSIM 0.74074459 (0.72661931)\n",
      "Finished training epoch 15\n",
      "Validate: MSE 0.00325467 (0.00300385), PSNR 24.87493134 (25.32209645), SSIM 0.70436311 (0.77364228)\n",
      "Finished validation.\n",
      "Starting training epoch 16\n",
      "Epoch: 16, MSE 0.00468294 (0.00433884), PSNR 23.29481316 (24.04806094), SSIM 0.74831659 (0.72708380)\n",
      "Finished training epoch 16\n",
      "Validate: MSE 0.00771705 (0.00713326), PSNR 21.12548637 (21.51801252), SSIM 0.57978112 (0.65367522)\n",
      "Finished validation.\n",
      "Starting training epoch 17\n",
      "Epoch: 17, MSE 0.00636991 (0.00508913), PSNR 21.95866776 (23.47520988), SSIM 0.72325599 (0.71574534)\n",
      "Finished training epoch 17\n",
      "Validate: MSE 0.00323953 (0.00294715), PSNR 24.89517784 (25.39605194), SSIM 0.70416892 (0.77320386)\n",
      "Finished validation.\n",
      "Starting training epoch 18\n",
      "Epoch: 18, MSE 0.00252215 (0.00457458), PSNR 25.98228073 (23.75901650), SSIM 0.75738895 (0.72430572)\n",
      "Finished training epoch 18\n",
      "Validate: MSE 0.00539548 (0.00592332), PSNR 22.67970085 (22.44628874), SSIM 0.68148470 (0.76249641)\n",
      "Finished validation.\n",
      "Starting training epoch 19\n",
      "Epoch: 19, MSE 0.00252502 (0.00401743), PSNR 25.97734833 (24.19741603), SSIM 0.75182033 (0.73079431)\n",
      "Finished training epoch 19\n",
      "Validate: MSE 0.00359435 (0.00310825), PSNR 24.44379807 (25.14425905), SSIM 0.67886579 (0.74745552)\n",
      "Finished validation.\n",
      "Starting training epoch 20\n",
      "Epoch: 20, MSE 0.00329365 (0.00429438), PSNR 24.82322311 (23.95915346), SSIM 0.74485493 (0.72568772)\n",
      "Finished training epoch 20\n",
      "Validate: MSE 0.00465245 (0.00488213), PSNR 23.32317734 (23.28432075), SSIM 0.68648177 (0.76499161)\n",
      "Finished validation.\n",
      "Starting training epoch 21\n",
      "Epoch: 21, MSE 0.00526720 (0.00502635), PSNR 22.78420258 (23.45527832), SSIM 0.69263726 (0.71588341)\n",
      "Finished training epoch 21\n",
      "Validate: MSE 0.00320619 (0.00303275), PSNR 24.94009972 (25.26840543), SSIM 0.69972479 (0.77007397)\n",
      "Finished validation.\n",
      "Starting training epoch 22\n",
      "Epoch: 22, MSE 0.00515493 (0.00436807), PSNR 22.87777328 (23.91589463), SSIM 0.70735496 (0.72605187)\n",
      "Finished training epoch 22\n",
      "Validate: MSE 0.00575094 (0.00571715), PSNR 22.40261269 (22.56000688), SSIM 0.65096641 (0.73057932)\n",
      "Finished validation.\n",
      "Starting training epoch 23\n",
      "Epoch: 23, MSE 0.00818526 (0.00434686), PSNR 20.86967278 (23.98099049), SSIM 0.67193097 (0.72735919)\n",
      "Finished training epoch 23\n",
      "Validate: MSE 0.00624270 (0.00662327), PSNR 22.04627419 (21.96244750), SSIM 0.64732409 (0.73418430)\n",
      "Finished validation.\n",
      "Starting training epoch 24\n",
      "Epoch: 24, MSE 0.00293711 (0.00456923), PSNR 25.32079506 (23.84068522), SSIM 0.74829090 (0.72477536)\n",
      "Finished training epoch 24\n",
      "Validate: MSE 0.00708267 (0.00586693), PSNR 21.49802780 (22.35954184), SSIM 0.62454987 (0.69274979)\n",
      "Finished validation.\n",
      "Starting training epoch 25\n",
      "Epoch: 25, MSE 0.00228764 (0.00428210), PSNR 26.40612411 (24.14518548), SSIM 0.76299268 (0.72826548)\n",
      "Finished training epoch 25\n",
      "Validate: MSE 0.00359832 (0.00301732), PSNR 24.43899536 (25.26055908), SSIM 0.69722581 (0.76688155)\n",
      "Finished validation.\n",
      "Starting training epoch 26\n",
      "Epoch: 26, MSE 0.00257505 (0.00487279), PSNR 25.89213753 (23.59504098), SSIM 0.77562094 (0.71819641)\n",
      "Finished training epoch 26\n",
      "Validate: MSE 0.00519572 (0.00470944), PSNR 22.84354210 (23.33271383), SSIM 0.64699334 (0.71725677)\n",
      "Finished validation.\n",
      "Starting training epoch 27\n",
      "Epoch: 27, MSE 0.00836648 (0.00435461), PSNR 20.77457047 (23.92060894), SSIM 0.63580608 (0.72584520)\n",
      "Finished training epoch 27\n",
      "Validate: MSE 0.00613998 (0.00682427), PSNR 22.11833000 (21.77628847), SSIM 0.62518185 (0.71357764)\n",
      "Finished validation.\n",
      "Starting training epoch 28\n",
      "Epoch: 28, MSE 0.00363204 (0.00468067), PSNR 24.39849663 (23.80844053), SSIM 0.74092484 (0.72229515)\n",
      "Finished training epoch 28\n",
      "Validate: MSE 0.00872273 (0.00742667), PSNR 20.59347534 (21.35549031), SSIM 0.60260391 (0.67543160)\n",
      "Finished validation.\n",
      "Starting training epoch 29\n",
      "Epoch: 29, MSE 0.00589500 (0.00444679), PSNR 22.29516220 (23.87837370), SSIM 0.69722921 (0.72367246)\n",
      "Finished training epoch 29\n",
      "Validate: MSE 0.00455650 (0.00451079), PSNR 23.41368294 (23.50757952), SSIM 0.65789735 (0.72849352)\n",
      "Finished validation.\n",
      "Starting training epoch 30\n"
     ]
    },
    {
     "name": "stdout",
     "output_type": "stream",
     "text": [
      "Epoch: 30, MSE 0.00426307 (0.00472566), PSNR 23.70277405 (23.67618961), SSIM 0.69346714 (0.72062724)\n",
      "Finished training epoch 30\n",
      "Validate: MSE 0.00483553 (0.00520964), PSNR 23.15556335 (22.99696440), SSIM 0.65254807 (0.74089754)\n",
      "Finished validation.\n",
      "Starting training epoch 31\n",
      "Epoch: 31, MSE 0.00700945 (0.00418053), PSNR 21.54315758 (24.08924819), SSIM 0.67524004 (0.72814915)\n",
      "Finished training epoch 31\n",
      "Validate: MSE 0.00482452 (0.00487584), PSNR 23.16545677 (23.25854398), SSIM 0.66709816 (0.74653708)\n",
      "Finished validation.\n",
      "Starting training epoch 32\n",
      "Epoch: 32, MSE 0.00330643 (0.00471107), PSNR 24.80640411 (23.67669101), SSIM 0.72368181 (0.71973751)\n",
      "Finished training epoch 32\n",
      "Validate: MSE 0.00369241 (0.00398800), PSNR 24.32690430 (24.11809478), SSIM 0.68490601 (0.75962627)\n",
      "Finished validation.\n",
      "Starting training epoch 33\n",
      "Epoch: 33, MSE 0.01180602 (0.00451880), PSNR 19.27896309 (23.82417142), SSIM 0.65024155 (0.72408338)\n",
      "Finished training epoch 33\n",
      "Validate: MSE 0.00421091 (0.00384601), PSNR 23.75623512 (24.26384599), SSIM 0.68063074 (0.75554977)\n",
      "Finished validation.\n",
      "Starting training epoch 34\n",
      "Epoch: 34, MSE 0.00647816 (0.00436873), PSNR 21.88548279 (23.93326396), SSIM 0.69260055 (0.72742430)\n",
      "Finished training epoch 34\n",
      "Validate: MSE 0.00663676 (0.00665126), PSNR 21.78043747 (21.80421918), SSIM 0.59534544 (0.66380516)\n",
      "Finished validation.\n",
      "Starting training epoch 35\n",
      "Epoch: 35, MSE 0.00278024 (0.00451246), PSNR 25.55918312 (23.86004284), SSIM 0.76872623 (0.72617521)\n",
      "Finished training epoch 35\n",
      "Validate: MSE 0.00370747 (0.00308148), PSNR 24.30921936 (25.16397139), SSIM 0.68529797 (0.75166085)\n",
      "Finished validation.\n",
      "Starting training epoch 36\n",
      "Epoch: 36, MSE 0.00389522 (0.00433694), PSNR 24.09467697 (24.01228305), SSIM 0.75465125 (0.72996644)\n",
      "Finished training epoch 36\n",
      "Validate: MSE 0.00370791 (0.00330888), PSNR 24.30870438 (24.88560001), SSIM 0.69530243 (0.76459454)\n",
      "Finished validation.\n",
      "Starting training epoch 37\n",
      "Epoch: 37, MSE 0.00549991 (0.00446180), PSNR 22.59644318 (23.92343737), SSIM 0.67394137 (0.72781268)\n",
      "Finished training epoch 37\n",
      "Validate: MSE 0.00441297 (0.00402972), PSNR 23.55269051 (24.02110879), SSIM 0.68183744 (0.74945827)\n",
      "Finished validation.\n",
      "Starting training epoch 38\n",
      "Epoch: 38, MSE 0.00297975 (0.00473208), PSNR 25.25819969 (23.63841836), SSIM 0.72330844 (0.72411102)\n",
      "Finished training epoch 38\n",
      "Validate: MSE 0.00367706 (0.00373002), PSNR 24.34498978 (24.41508589), SSIM 0.70057493 (0.76943749)\n",
      "Finished validation.\n",
      "Starting training epoch 39\n",
      "Epoch: 39, MSE 0.00271937 (0.00421645), PSNR 25.65532303 (24.14506609), SSIM 0.77896839 (0.73074349)\n",
      "Finished training epoch 39\n",
      "Validate: MSE 0.00991121 (0.00842706), PSNR 20.03873062 (20.78507449), SSIM 0.56784964 (0.64259010)\n",
      "Finished validation.\n",
      "Starting training epoch 40\n",
      "Epoch: 40, MSE 0.00419787 (0.00465080), PSNR 23.76971245 (23.78449133), SSIM 0.74266040 (0.72505924)\n",
      "Finished training epoch 40\n"
     ]
    },
    {
     "name": "stderr",
     "output_type": "stream",
     "text": [
      "/home/konrad/.local/lib/python3.10/site-packages/skimage/_shared/utils.py:394: UserWarning: Color data out of range: Z < 0 in 2 pixels\n",
      "  return func(*args, **kwargs)\n"
     ]
    },
    {
     "name": "stdout",
     "output_type": "stream",
     "text": [
      "Validate: MSE 0.00759599 (0.00870856), PSNR 21.19415855 (20.74089845), SSIM 0.66971225 (0.74721790)\n",
      "Finished validation.\n",
      "Starting training epoch 41\n",
      "Epoch: 41, MSE 0.00231840 (0.00432603), PSNR 26.34811592 (23.95089057), SSIM 0.77564371 (0.72791170)\n",
      "Finished training epoch 41\n",
      "Validate: MSE 0.00399149 (0.00412292), PSNR 23.98864746 (24.00402957), SSIM 0.68789482 (0.76429366)\n",
      "Finished validation.\n",
      "Starting training epoch 42\n",
      "Epoch: 42, MSE 0.00764415 (0.00454392), PSNR 21.16670418 (23.98725701), SSIM 0.70873219 (0.72858174)\n",
      "Finished training epoch 42\n",
      "Validate: MSE 0.00506435 (0.00419254), PSNR 22.95475769 (23.82420469), SSIM 0.62660462 (0.69758534)\n",
      "Finished validation.\n",
      "Starting training epoch 43\n",
      "Epoch: 43, MSE 0.00671051 (0.00421351), PSNR 21.73244095 (24.07178018), SSIM 0.67709452 (0.73061525)\n",
      "Finished training epoch 43\n",
      "Validate: MSE 0.00634529 (0.00706910), PSNR 21.97548103 (21.64366641), SSIM 0.68151605 (0.75239660)\n",
      "Finished validation.\n",
      "Starting training epoch 44\n",
      "Epoch: 44, MSE 0.00268508 (0.00425820), PSNR 25.71042252 (24.14147936), SSIM 0.76366478 (0.72997761)\n",
      "Finished training epoch 44\n",
      "Validate: MSE 0.00318835 (0.00291182), PSNR 24.96434021 (25.44274373), SSIM 0.70159805 (0.76789371)\n",
      "Finished validation.\n",
      "Starting training epoch 45\n",
      "Epoch: 45, MSE 0.00393344 (0.00449824), PSNR 24.05227470 (23.91769873), SSIM 0.74923974 (0.72737707)\n",
      "Finished training epoch 45\n",
      "Validate: MSE 0.00479463 (0.00565564), PSNR 23.19245148 (22.61632618), SSIM 0.68679368 (0.75267003)\n",
      "Finished validation.\n",
      "Starting training epoch 46\n",
      "Epoch: 46, MSE 0.00351190 (0.00447747), PSNR 24.54458046 (23.91929822), SSIM 0.75750160 (0.72643905)\n",
      "Finished training epoch 46\n",
      "Validate: MSE 0.00654354 (0.00773522), PSNR 21.84186935 (21.25383427), SSIM 0.66984332 (0.74552610)\n",
      "Finished validation.\n",
      "Starting training epoch 47\n",
      "Epoch: 47, MSE 0.00296422 (0.00423781), PSNR 25.28088951 (24.13578322), SSIM 0.73174852 (0.72976329)\n",
      "Finished training epoch 47\n",
      "Validate: MSE 0.00408056 (0.00447495), PSNR 23.89280510 (23.61496303), SSIM 0.67432547 (0.75044416)\n",
      "Finished validation.\n",
      "Starting training epoch 48\n",
      "Epoch: 48, MSE 0.00348677 (0.00449950), PSNR 24.57575989 (23.96264490), SSIM 0.72546709 (0.72870176)\n",
      "Finished training epoch 48\n",
      "Validate: MSE 0.00377402 (0.00382351), PSNR 24.23195267 (24.25149305), SSIM 0.67911398 (0.74854645)\n",
      "Finished validation.\n",
      "Starting training epoch 49\n",
      "Epoch: 49, MSE 0.00339634 (0.00426837), PSNR 24.68988228 (24.04558178), SSIM 0.74473417 (0.72952434)\n",
      "Finished training epoch 49\n",
      "Validate: MSE 0.00658922 (0.00754291), PSNR 21.81165695 (21.38051428), SSIM 0.64111978 (0.72867836)\n",
      "Finished validation.\n",
      "Starting training epoch 50\n",
      "Epoch: 50, MSE 0.00373186 (0.00411736), PSNR 24.28074455 (24.17828502), SSIM 0.74074399 (0.73041798)\n",
      "Finished training epoch 50\n",
      "Validate: MSE 0.00338741 (0.00319661), PSNR 24.70131683 (25.02861171), SSIM 0.69351059 (0.76177489)\n",
      "Finished validation.\n",
      "Starting training epoch 51\n",
      "Epoch: 51, MSE 0.00335213 (0.00429290), PSNR 24.74678993 (23.97134362), SSIM 0.73844433 (0.72797386)\n",
      "Finished training epoch 51\n",
      "Validate: MSE 0.00385964 (0.00313261), PSNR 24.13452911 (25.10195897), SSIM 0.68894136 (0.75308539)\n",
      "Finished validation.\n",
      "Starting training epoch 52\n",
      "Epoch: 52, MSE 0.00361629 (0.00502471), PSNR 24.41736984 (23.52243822), SSIM 0.72387618 (0.71953566)\n",
      "Finished training epoch 52\n",
      "Validate: MSE 0.00339296 (0.00317674), PSNR 24.69421959 (25.08681712), SSIM 0.70073026 (0.77043251)\n",
      "Finished validation.\n",
      "Starting training epoch 53\n",
      "Epoch: 53, MSE 0.00288622 (0.00433281), PSNR 25.39669991 (23.98504857), SSIM 0.73930514 (0.72718046)\n",
      "Finished training epoch 53\n",
      "Validate: MSE 0.00420600 (0.00448306), PSNR 23.76131058 (23.65641932), SSIM 0.67140067 (0.75562008)\n",
      "Finished validation.\n",
      "Starting training epoch 54\n",
      "Epoch: 54, MSE 0.00323333 (0.00455643), PSNR 24.90350342 (23.85913187), SSIM 0.75000739 (0.72595070)\n",
      "Finished training epoch 54\n",
      "Validate: MSE 0.00331843 (0.00289153), PSNR 24.79067039 (25.46188597), SSIM 0.69951695 (0.76718810)\n",
      "Finished validation.\n",
      "Starting training epoch 55\n",
      "Epoch: 55, MSE 0.00358154 (0.00442967), PSNR 24.45930290 (23.99661407), SSIM 0.75531495 (0.72852750)\n",
      "Finished training epoch 55\n",
      "Validate: MSE 0.00489795 (0.00540785), PSNR 23.09985352 (22.79833901), SSIM 0.65365303 (0.73752983)\n",
      "Finished validation.\n"
     ]
    },
    {
     "data": {
      "text/plain": [
       "<Figure size 432x288 with 0 Axes>"
      ]
     },
     "metadata": {},
     "output_type": "display_data"
    }
   ],
   "source": [
    "# Train model\n",
    "for epoch in range(epochs):\n",
    "    # Train for one epoch, then validate\n",
    "    train(train_loader, model, criterion, optimizer, epoch)\n",
    "    with torch.no_grad():\n",
    "        losses = validate(val_loader, model, criterion, save_images, epoch)\n",
    "    # Save checkpoint and replace old best model if current model is better\n",
    "    if losses[0] < best_losses[0]:\n",
    "        best_losses[0] = losses[0]\n",
    "        best_epoch = epoch\n",
    "        torch.save(model.state_dict(), f'{checkpoints}/epoch-{epoch}-MSELoss-{losses[0]:.8f}.pth')\n",
    "    if losses[1] < best_losses[1]:\n",
    "        best_losses[1] = losses[1]\n",
    "        torch.save(model.state_dict(), f'{checkpoints}/epoch-{epoch}-PSNRLoss-{losses[1]:.8f}.pth')\n",
    "    if losses[2] < best_losses[2]:\n",
    "        best_losses[2] = losses[2]\n",
    "        torch.save(model.state_dict(), f'{checkpoints}/epoch-{epoch}-SSIMLoss-{losses[2]:.8f}.pth')\n",
    "    \n",
    "    if epoch - best_epoch >= patience:\n",
    "        torch.save(model.state_dict(), f'{checkpoints}/epoch-{epoch}-MSELoss-{losses[0]:.8f}-early_stop.pth')\n",
    "        break\n",
    "    \n",
    "    if epoch == epochs - 1:\n",
    "        torch.save(model.state_dict(), f'{checkpoints}/epoch-{epoch}-last-{losses[0]:.8f}-{losses[1]:.8f}-{losses[2]:.8f}.pth')\n"
   ]
  },
  {
   "cell_type": "code",
   "execution_count": 20,
   "metadata": {
    "scrolled": true
   },
   "outputs": [],
   "source": [
    "torch.save(model.state_dict(), f'{checkpoints}/last-{losses[0]:.8f}-{losses[1]:.8f}-{losses[2]:.8f}.pth')"
   ]
  },
  {
   "cell_type": "code",
   "execution_count": 21,
   "metadata": {
    "colab": {
     "base_uri": "https://localhost:8080/",
     "height": 1593
    },
    "id": "UcovGnpHMl9D",
    "outputId": "90b7a2b4-dc03-4862-cf02-c7ddbbb7e500"
   },
   "outputs": [
    {
     "name": "stdout",
     "output_type": "stream",
     "text": [
      "Validate: MSE 0.00489795 (0.00540785), PSNR 23.09985352 (22.79833896), SSIM 0.65365297 (0.73752982)\n",
      "Finished validation.\n"
     ]
    },
    {
     "data": {
      "text/plain": [
       "<Figure size 432x288 with 0 Axes>"
      ]
     },
     "metadata": {},
     "output_type": "display_data"
    }
   ],
   "source": [
    "# Validate\n",
    "save_images = True\n",
    "with torch.no_grad():\n",
    "    validate(val_loader, model, criterion, save_images, -1)"
   ]
  },
  {
   "cell_type": "code",
   "execution_count": 23,
   "metadata": {},
   "outputs": [],
   "source": [
    "# # Show images \n",
    "# image_pairs = []\n",
    "\n",
    "# for i in range(10):\n",
    "#     image_pairs.append((f'{color_imgs}img-{i}-epoch-{best_epoch}.jpg', f'{gray_imgs}img-{i}-epoch-{best_epoch}.jpg'))\n",
    "    \n",
    "# for c, g in image_pairs:\n",
    "#   color = mpimg.imread(c)\n",
    "#   gray  = mpimg.imread(g)\n",
    "#   f, axarr = plt.subplots(1, 2)\n",
    "#   f.set_size_inches(15, 15)\n",
    "#   axarr[0].imshow(gray, cmap='gray')\n",
    "#   axarr[1].imshow(color)\n",
    "#   axarr[0].axis('off'), axarr[1].axis('off')\n",
    "#   plt.show()"
   ]
  },
  {
   "cell_type": "code",
   "execution_count": null,
   "metadata": {},
   "outputs": [],
   "source": []
  }
 ],
 "metadata": {
  "accelerator": "GPU",
  "colab": {
   "provenance": []
  },
  "kernelspec": {
   "display_name": "Python 3 (ipykernel)",
   "language": "python",
   "name": "python3"
  },
  "language_info": {
   "codemirror_mode": {
    "name": "ipython",
    "version": 3
   },
   "file_extension": ".py",
   "mimetype": "text/x-python",
   "name": "python",
   "nbconvert_exporter": "python",
   "pygments_lexer": "ipython3",
   "version": "3.10.6"
  }
 },
 "nbformat": 4,
 "nbformat_minor": 4
}
