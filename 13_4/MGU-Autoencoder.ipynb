{
 "cells": [
  {
   "cell_type": "code",
   "execution_count": 1,
   "metadata": {
    "id": "J_Y9UFYhKbuE"
   },
   "outputs": [],
   "source": [
    "# For plotting\n",
    "import numpy as np\n",
    "import matplotlib.pyplot as plt\n",
    "import matplotlib.image as mpimg\n",
    "%matplotlib inline\n",
    "# For conversion\n",
    "from skimage.color import lab2rgb, rgb2lab, rgb2gray\n",
    "from skimage import io\n",
    "# For everything\n",
    "import torch\n",
    "import torch.nn as nn\n",
    "import torch.nn.functional as F\n",
    "# For our model\n",
    "import torchvision\n",
    "import torchvision.models as models\n",
    "from torchvision import datasets, transforms\n",
    "from torchmetrics import MeanSquaredError, PeakSignalNoiseRatio, StructuralSimilarityIndexMeasure\n",
    "from PIL import Image\n",
    "# For utilities\n",
    "import os, shutil, time"
   ]
  },
  {
   "cell_type": "code",
   "execution_count": 2,
   "metadata": {
    "scrolled": true
   },
   "outputs": [
    {
     "data": {
      "text/html": [
       "\n",
       "      <iframe id=\"tensorboard-frame-46824aa0053fb9d3\" width=\"100%\" height=\"800\" frameborder=\"0\">\n",
       "      </iframe>\n",
       "      <script>\n",
       "        (function() {\n",
       "          const frame = document.getElementById(\"tensorboard-frame-46824aa0053fb9d3\");\n",
       "          const url = new URL(\"/\", window.location);\n",
       "          const port = 6008;\n",
       "          if (port) {\n",
       "            url.port = port;\n",
       "          }\n",
       "          frame.src = url;\n",
       "        })();\n",
       "      </script>\n",
       "    "
      ],
      "text/plain": [
       "<IPython.core.display.HTML object>"
      ]
     },
     "metadata": {},
     "output_type": "display_data"
    }
   ],
   "source": [
    "%load_ext tensorboard\n",
    "%tensorboard --logdir=runs"
   ]
  },
  {
   "cell_type": "code",
   "execution_count": 3,
   "metadata": {},
   "outputs": [],
   "source": [
    "# colab i kaggle jeszcze nie testowane\n",
    "colab = False\n",
    "kaggle = False\n",
    "test_number = '12_2'"
   ]
  },
  {
   "cell_type": "code",
   "execution_count": 4,
   "metadata": {},
   "outputs": [],
   "source": [
    "color_imgs = 'outputs/color/'\n",
    "gray_imgs = 'outputs/gray/'\n",
    "checkpoints = 'checkpoints'\n",
    "if colab:\n",
    "    from google.colab import drive\n",
    "    drive.mount('/content/drive')\n",
    "    dataset = '/content/drive/MyDrive/MGU/cifar10/'\n",
    "    \n",
    "    color_imgs = f'/content/drive/MyDrive/MGU/{test_number}/{color_imgs}'\n",
    "    gray_imgs = f'/content/drive/MyDrive/MGU/{test_number}/{gray_imgs}'\n",
    "    checkpoints = f'/content/drive/MyDrive/MGU/{test_number}/{checkpoints}'\n",
    "elif kaggle:\n",
    "    dataset = '/kaggle/input/cifar10/'\n",
    "    \n",
    "    color_imgs = f'{test_number}/{color_imgs}'\n",
    "    gray_imgs = f'{test_number}/{gray_imgs}'\n",
    "    checkpoints = f'{test_number}/{checkpoints}'\n",
    "else:\n",
    "    dataset = '../../datasets/cifar10/'"
   ]
  },
  {
   "cell_type": "code",
   "execution_count": 5,
   "metadata": {
    "id": "ckNmKA5VwSh1"
   },
   "outputs": [],
   "source": [
    "# Make folders and set parameters\n",
    "os.makedirs(color_imgs, exist_ok=True)\n",
    "os.makedirs(gray_imgs, exist_ok=True)\n",
    "os.makedirs(checkpoints, exist_ok=True)\n",
    "save_images = True\n",
    "best_losses = [1e10, 1e10, 1e10]\n",
    "best_epoch = -1\n",
    "patience = 50\n",
    "epochs = 500\n",
    "batch_size = 128\n",
    "SIZE = 32"
   ]
  },
  {
   "cell_type": "code",
   "execution_count": 6,
   "metadata": {},
   "outputs": [],
   "source": [
    "from torch.utils.tensorboard import SummaryWriter\n",
    "writer = SummaryWriter()"
   ]
  },
  {
   "cell_type": "code",
   "execution_count": 7,
   "metadata": {
    "id": "gMolrzKA_1uJ"
   },
   "outputs": [
    {
     "name": "stdout",
     "output_type": "stream",
     "text": [
      "True\n"
     ]
    }
   ],
   "source": [
    "# Check if GPU is available\n",
    "use_gpu = torch.cuda.is_available()\n",
    "print(use_gpu)"
   ]
  },
  {
   "cell_type": "code",
   "execution_count": 8,
   "metadata": {
    "id": "05NviQfzU2Mv"
   },
   "outputs": [],
   "source": [
    "class LabImageFolder(torch.utils.data.Dataset):\n",
    "    def __init__(self, paths, split='train'):\n",
    "        if split == 'train':\n",
    "            self.transforms = transforms.Compose([\n",
    "                transforms.Resize((SIZE, SIZE), transforms.InterpolationMode.BICUBIC),\n",
    "                transforms.RandomCrop(SIZE),\n",
    "                transforms.RandomHorizontalFlip(),  \n",
    "                transforms.ToTensor(),\n",
    "                transforms.Normalize((0.4918019, 0.48263696, 0.44733968), (0.24705184, 0.2433789, 0.26162848)),\n",
    "                transforms.ToPILImage(),\n",
    "            ])\n",
    "        elif split == 'val':\n",
    "            self.transforms = transforms.Compose([\n",
    "                transforms.Resize((SIZE, SIZE), transforms.InterpolationMode.BICUBIC), \n",
    "                transforms.RandomCrop(SIZE), \n",
    "                transforms.ToTensor(),\n",
    "                transforms.Normalize((0.4918019, 0.48263696, 0.44733968), (0.24705184, 0.2433789, 0.26162848)),\n",
    "                transforms.ToPILImage(),\n",
    "            ])\n",
    "            \n",
    "        self.split = split\n",
    "        self.size = SIZE\n",
    "        self.paths = [os.path.join(paths, file) for file in os.listdir(paths) if os.path.isfile(\n",
    "            os.path.join(paths, file))]\n",
    "        \n",
    "        \n",
    "    def __getitem__(self, index):\n",
    "        img = Image.open(self.paths[index]).convert(\"RGB\")\n",
    "        img_original = self.transforms(img)\n",
    "        img_original = np.asarray(img_original)\n",
    "        img_lab = rgb2lab(img_original)\n",
    "        img_lab = (img_lab + 128) / 255\n",
    "        img_ab = img_lab[:, :, 1:3]\n",
    "        img_ab = torch.from_numpy(img_ab.transpose((2, 0, 1))).float()\n",
    "        img_gray = rgb2gray(img_original)\n",
    "        img_gray = torch.from_numpy(img_gray).unsqueeze(0).float()\n",
    "        return img_gray, img_ab\n",
    "    \n",
    "    def __len__(self):\n",
    "        return len(self.paths)"
   ]
  },
  {
   "cell_type": "code",
   "execution_count": 9,
   "metadata": {},
   "outputs": [],
   "source": [
    "# Training\n",
    "train_imagefolder = LabImageFolder(dataset + 'train')\n",
    "train_loader = torch.utils.data.DataLoader(train_imagefolder, batch_size=batch_size, shuffle=True)\n",
    "# Validation \n",
    "val_imagefolder = LabImageFolder(dataset + 'val' , 'val')\n",
    "val_loader = torch.utils.data.DataLoader(val_imagefolder, batch_size=batch_size, shuffle=False)"
   ]
  },
  {
   "cell_type": "code",
   "execution_count": 10,
   "metadata": {
    "id": "NOQfP1feNkfS"
   },
   "outputs": [],
   "source": [
    "kernel_size=3\n",
    "stride_en=2\n",
    "stride_de=1\n",
    "padding=1\n",
    "scale_factor=2\n",
    "padding_mode='zeros'\n",
    "channels_base = 16\n",
    "p1 = .25\n",
    "p2 = .5\n",
    "\n",
    "class Autoencoder(nn.Module):\n",
    "    def __init__(self):\n",
    "        super(Autoencoder, self).__init__()\n",
    "\n",
    "        self.conv1 = nn.Conv2d(1, channels_base, kernel_size=kernel_size, stride=stride_en, padding=padding, padding_mode=padding_mode)\n",
    "        self.conv2 = nn.Conv2d(channels_base, channels_base * 2, kernel_size=kernel_size, stride=stride_en, padding=padding, padding_mode=padding_mode)\n",
    "        \n",
    "        self.convtrans1 = nn.ConvTranspose2d(channels_base * 2, channels_base, kernel_size=kernel_size, stride=stride_de, padding=padding, padding_mode=padding_mode)\n",
    "        self.convtrans2 = nn.ConvTranspose2d(channels_base, channels_base // 2, kernel_size=kernel_size, stride=stride_de, padding=padding, padding_mode=padding_mode)\n",
    "        self.convtrans3 = nn.ConvTranspose2d(channels_base // 2, 2, kernel_size=kernel_size, stride=stride_de, padding=padding, padding_mode=padding_mode)\n",
    "\n",
    "        self.batchnorm1 = nn.BatchNorm2d(channels_base // 2)\n",
    "        self.batchnorm2 = nn.BatchNorm2d(channels_base)\n",
    "        self.batchnorm3 = nn.BatchNorm2d(channels_base * 2)\n",
    "        \n",
    "        self.dropout1 = nn.Dropout(p=p1)\n",
    "        self.dropout2 = nn.Dropout(p=p2)\n",
    "        \n",
    "        \n",
    "    def forward(self, input):\n",
    "        # encoder\n",
    "        x = F.relu(self.batchnorm2(self.conv1(input)))\n",
    "        x = self.dropout1(x)\n",
    "        x = F.relu(self.batchnorm3(self.conv2(x)))\n",
    "        x = self.dropout1(x)\n",
    "        \n",
    "        # decoder\n",
    "        x = F.relu(self.batchnorm2(self.convtrans1(x)))\n",
    "        x = self.dropout2(x)\n",
    "        x = F.interpolate(x, scale_factor=scale_factor)\n",
    "        x = F.relu(self.batchnorm1(self.convtrans2(x)))\n",
    "        x = self.dropout2(x)\n",
    "        x = F.interpolate(self.convtrans3(x), scale_factor=scale_factor)\n",
    "\n",
    "        return x"
   ]
  },
  {
   "cell_type": "code",
   "execution_count": 11,
   "metadata": {
    "id": "OtRkAkIjTeq1"
   },
   "outputs": [],
   "source": [
    "model = Autoencoder()"
   ]
  },
  {
   "cell_type": "code",
   "execution_count": 12,
   "metadata": {},
   "outputs": [],
   "source": [
    "criterion = [MeanSquaredError(), PeakSignalNoiseRatio(data_range=1.0), StructuralSimilarityIndexMeasure(data_range=1.0)]"
   ]
  },
  {
   "cell_type": "code",
   "execution_count": 13,
   "metadata": {
    "id": "j3YZ3977TTl4"
   },
   "outputs": [],
   "source": [
    "optimizer = torch.optim.Adam(model.parameters(), lr=1e-2)"
   ]
  },
  {
   "cell_type": "code",
   "execution_count": 14,
   "metadata": {
    "id": "eeHK3BUtANrw"
   },
   "outputs": [],
   "source": [
    "# # Move model and loss function to GPU\n",
    "if use_gpu: \n",
    "    criterion = [criterion[0].to(\"cuda\"), criterion[1].to(\"cuda\"), criterion[2].to(\"cuda\")]\n",
    "    model = model.cuda()"
   ]
  },
  {
   "cell_type": "code",
   "execution_count": 15,
   "metadata": {
    "scrolled": false
   },
   "outputs": [
    {
     "name": "stdout",
     "output_type": "stream",
     "text": [
      "----------------------------------------------------------------\n",
      "        Layer (type)               Output Shape         Param #\n",
      "================================================================\n",
      "            Conv2d-1           [-1, 16, 16, 16]             160\n",
      "       BatchNorm2d-2           [-1, 16, 16, 16]              32\n",
      "           Dropout-3           [-1, 16, 16, 16]               0\n",
      "            Conv2d-4             [-1, 32, 8, 8]           4,640\n",
      "       BatchNorm2d-5             [-1, 32, 8, 8]              64\n",
      "           Dropout-6             [-1, 32, 8, 8]               0\n",
      "   ConvTranspose2d-7             [-1, 16, 8, 8]           4,624\n",
      "       BatchNorm2d-8             [-1, 16, 8, 8]              32\n",
      "           Dropout-9             [-1, 16, 8, 8]               0\n",
      "  ConvTranspose2d-10            [-1, 8, 16, 16]           1,160\n",
      "      BatchNorm2d-11            [-1, 8, 16, 16]              16\n",
      "          Dropout-12            [-1, 8, 16, 16]               0\n",
      "  ConvTranspose2d-13            [-1, 2, 16, 16]             146\n",
      "================================================================\n",
      "Total params: 10,874\n",
      "Trainable params: 10,874\n",
      "Non-trainable params: 0\n",
      "----------------------------------------------------------------\n",
      "Input size (MB): 0.00\n",
      "Forward/backward pass size (MB): 0.21\n",
      "Params size (MB): 0.04\n",
      "Estimated Total Size (MB): 0.26\n",
      "----------------------------------------------------------------\n"
     ]
    }
   ],
   "source": [
    "if use_gpu: \n",
    "    from torchsummary import summary\n",
    "    summary(model, (1, SIZE, SIZE))"
   ]
  },
  {
   "cell_type": "code",
   "execution_count": 16,
   "metadata": {
    "id": "2FDRt12jsIkr"
   },
   "outputs": [],
   "source": [
    "class AverageMeter(object):\n",
    "    '''A handy class from the PyTorch ImageNet tutorial''' \n",
    "    def __init__(self):\n",
    "        self.reset()\n",
    "    def reset(self):\n",
    "        self.val, self.avg, self.sum, self.count = 0, 0, 0, 0\n",
    "    def update(self, val, n=1):\n",
    "        self.val = val\n",
    "        self.sum += val * n\n",
    "        self.count += n\n",
    "        self.avg = self.sum / self.count\n",
    "\n",
    "def to_rgb(grayscale_input, ab_input, save_path=None, save_name=None):\n",
    "    '''Show/save rgb image from grayscale and ab channels\n",
    "       Input save_path in the form {'grayscale': '/path/', 'colorized': '/path/'}'''\n",
    "    plt.clf() # clear matplotlib \n",
    "    color_image = torch.cat((grayscale_input, ab_input), 0).numpy() # combine channels\n",
    "    color_image = color_image.transpose((1, 2, 0))  # rescale for matplotlib\n",
    "    color_image[:, :, 0:1] = color_image[:, :, 0:1] * 100\n",
    "    color_image[:, :, 1:3] = color_image[:, :, 1:3] * 255 - 128   \n",
    "    color_image = lab2rgb(color_image.astype(np.float64))\n",
    "    grayscale_input = grayscale_input.squeeze().numpy()\n",
    "    if save_path is not None and save_name is not None: \n",
    "        plt.imsave(arr=grayscale_input, fname='{}{}'.format(save_path['grayscale'], save_name), cmap='gray')\n",
    "        plt.imsave(arr=color_image, fname='{}{}'.format(save_path['colorized'], save_name))"
   ]
  },
  {
   "cell_type": "code",
   "execution_count": 17,
   "metadata": {
    "id": "M_OTbyOcrh9J"
   },
   "outputs": [],
   "source": [
    "def validate(val_loader, model, criterion, save_images, epoch):\n",
    "    _loss = [AverageMeter(), AverageMeter(), AverageMeter()]\n",
    "\n",
    "    model.eval()\n",
    "    already_saved_images = False\n",
    "    for gray, ab in val_loader:\n",
    "        if use_gpu: \n",
    "            gray, ab = gray.cuda(), ab.cuda()\n",
    "\n",
    "        # Run model and record loss\n",
    "        output_ab = model(gray) # throw away class predictions\n",
    "        loss = [criterion[0](output_ab, ab), criterion[1](output_ab, ab), criterion[2](output_ab, ab)]\n",
    "        \n",
    "        _loss[0].update(loss[0].item(), gray.size(0))\n",
    "        _loss[1].update(loss[1].item(), gray.size(0))\n",
    "        _loss[2].update(loss[2].item(), gray.size(0))\n",
    "\n",
    "        # Save images to file\n",
    "        if save_images and not already_saved_images:\n",
    "            already_saved_images = True\n",
    "            for j in range(min(len(output_ab), 10)): # save at most 5 images\n",
    "                save_path = {'grayscale': gray_imgs, 'colorized': color_imgs}\n",
    "                save_name = 'img-{}-epoch-{}.jpg'.format(j, epoch)\n",
    "                to_rgb(gray[j].cpu(), ab_input=output_ab[j].detach().cpu(), save_path=save_path, save_name=save_name)\n",
    "\n",
    "    print(f'Validate: MSE {_loss[0].val:.8f} ({_loss[0].avg:.8f}), PSNR {_loss[1].val:.8f} ({_loss[1].avg:.8f}), SSIM {_loss[2].val:.8f} ({_loss[2].avg:.8f})')\n",
    "\n",
    "    print('Finished validation.')\n",
    "    if epoch >= 0:\n",
    "        writer.add_scalar(\"MSE/test\", _loss[0].avg, epoch)\n",
    "        writer.add_scalar(\"PSNR/test\", _loss[1].avg, epoch)\n",
    "        writer.add_scalar(\"SSIM/test\", _loss[2].avg, epoch)\n",
    "    return _loss[0].avg, _loss[1].avg, _loss[2].avg"
   ]
  },
  {
   "cell_type": "code",
   "execution_count": 18,
   "metadata": {
    "id": "FOo__iEnvLMB"
   },
   "outputs": [],
   "source": [
    "def train(train_loader, model, criterion, optimizer, epoch):\n",
    "    print(f'Starting training epoch {epoch}')\n",
    "    _loss = [AverageMeter(), AverageMeter(), AverageMeter()]\n",
    "    \n",
    "    model.train()\n",
    "\n",
    "    for gray, ab in train_loader:\n",
    "        if use_gpu: \n",
    "            gray, ab = gray.cuda(), ab.cuda()\n",
    "            \n",
    "        optimizer.zero_grad()\n",
    "\n",
    "        output_ab = model(gray) \n",
    "        loss = [criterion[0](output_ab, ab), criterion[1](output_ab, ab), criterion[2](output_ab, ab)]\n",
    "        \n",
    "        loss[0].backward()\n",
    "        optimizer.step()\n",
    "        \n",
    "        _loss[0].update(loss[0].item(), gray.size(0))\n",
    "        _loss[1].update(loss[1].item(), gray.size(0))\n",
    "        _loss[2].update(loss[2].item(), gray.size(0))\n",
    "        \n",
    "    print(f'Epoch: {epoch}, MSE {_loss[0].val:.8f} ({_loss[0].avg:.8f}), PSNR {_loss[1].val:.8f} ({_loss[1].avg:.8f}), SSIM {_loss[2].val:.8f} ({_loss[2].avg:.8f})')\n",
    "\n",
    "    print(f'Finished training epoch {epoch}')\n",
    "    if epoch >= 0:\n",
    "        writer.add_scalar(\"MSE/train\", _loss[0].avg, epoch)\n",
    "        writer.add_scalar(\"PSNR/train\", _loss[1].avg, epoch)\n",
    "        writer.add_scalar(\"SSIM/train\", _loss[2].avg, epoch)"
   ]
  },
  {
   "cell_type": "code",
   "execution_count": 19,
   "metadata": {
    "colab": {
     "base_uri": "https://localhost:8080/",
     "height": 625
    },
    "id": "XUR6ALi3AZoO",
    "outputId": "4b274c7b-fc1d-4e14-dc1f-a7ef93f3663f",
    "scrolled": true
   },
   "outputs": [
    {
     "name": "stdout",
     "output_type": "stream",
     "text": [
      "Starting training epoch 0\n",
      "Epoch: 0, MSE 0.02507212 (0.03779517), PSNR 16.00808907 (15.34663161), SSIM 0.08751097 (0.08296111)\n",
      "Finished training epoch 0\n",
      "Validate: MSE 0.02296586 (0.02457813), PSNR 16.38917160 (16.10061413), SSIM 0.07136771 (0.09621561)\n",
      "Finished validation.\n",
      "Starting training epoch 1\n",
      "Epoch: 1, MSE 0.02404579 (0.02417473), PSNR 16.18960953 (16.16778191), SSIM 0.09714229 (0.09941476)\n",
      "Finished training epoch 1\n",
      "Validate: MSE 0.02307930 (0.02461687), PSNR 16.36777306 (16.09317779), SSIM 0.07237405 (0.09768125)\n",
      "Finished validation.\n",
      "Starting training epoch 2\n",
      "Epoch: 2, MSE 0.02345586 (0.02395421), PSNR 16.29748535 (16.20754723), SSIM 0.11045144 (0.10503752)\n",
      "Finished training epoch 2\n",
      "Validate: MSE 0.02321581 (0.02486645), PSNR 16.34216118 (16.04936860), SSIM 0.07107538 (0.09634934)\n",
      "Finished validation.\n",
      "Starting training epoch 3\n",
      "Epoch: 3, MSE 0.02288406 (0.02379901), PSNR 16.40466881 (16.23568853), SSIM 0.12553814 (0.11007432)\n",
      "Finished training epoch 3\n",
      "Validate: MSE 0.02336207 (0.02510937), PSNR 16.31488609 (16.00714113), SSIM 0.07086734 (0.09576917)\n",
      "Finished validation.\n",
      "Starting training epoch 4\n",
      "Epoch: 4, MSE 0.02362293 (0.02369835), PSNR 16.26666260 (16.25406162), SSIM 0.10930248 (0.11465392)\n",
      "Finished training epoch 4\n",
      "Validate: MSE 0.02361888 (0.02530501), PSNR 16.26740456 (15.97312128), SSIM 0.07326615 (0.09808570)\n",
      "Finished validation.\n",
      "Starting training epoch 5\n",
      "Epoch: 5, MSE 0.02233498 (0.02360988), PSNR 16.51014328 (16.27039330), SSIM 0.13232246 (0.11854197)\n",
      "Finished training epoch 5\n",
      "Validate: MSE 0.02421414 (0.02592373), PSNR 16.15930939 (15.86791887), SSIM 0.07340541 (0.09839059)\n",
      "Finished validation.\n",
      "Starting training epoch 6\n",
      "Epoch: 6, MSE 0.02463830 (0.02355370), PSNR 16.08389091 (16.28077198), SSIM 0.12119766 (0.12174195)\n",
      "Finished training epoch 6\n",
      "Validate: MSE 0.02372181 (0.02545996), PSNR 16.24852180 (15.94667527), SSIM 0.07298747 (0.09791238)\n",
      "Finished validation.\n",
      "Starting training epoch 7\n",
      "Epoch: 7, MSE 0.02370594 (0.02348785), PSNR 16.25142670 (16.29271763), SSIM 0.12390281 (0.12486624)\n",
      "Finished training epoch 7\n",
      "Validate: MSE 0.02478308 (0.02660139), PSNR 16.05844688 (15.75573918), SSIM 0.07328504 (0.09833042)\n",
      "Finished validation.\n",
      "Starting training epoch 8\n",
      "Epoch: 8, MSE 0.02321435 (0.02342745), PSNR 16.34243393 (16.30399393), SSIM 0.12987125 (0.12731686)\n",
      "Finished training epoch 8\n",
      "Validate: MSE 0.02446096 (0.02626680), PSNR 16.11526489 (15.81078357), SSIM 0.07359101 (0.09825461)\n",
      "Finished validation.\n",
      "Starting training epoch 9\n",
      "Epoch: 9, MSE 0.02478022 (0.02341292), PSNR 16.05894852 (16.30664598), SSIM 0.12354664 (0.12924937)\n",
      "Finished training epoch 9\n",
      "Validate: MSE 0.02476026 (0.02660861), PSNR 16.06244850 (15.75470213), SSIM 0.07342896 (0.09825537)\n",
      "Finished validation.\n",
      "Starting training epoch 10\n",
      "Epoch: 10, MSE 0.02455453 (0.02333442), PSNR 16.09868240 (16.32120142), SSIM 0.12280824 (0.13201769)\n",
      "Finished training epoch 10\n",
      "Validate: MSE 0.02651310 (0.02839581), PSNR 15.76539326 (15.47171372), SSIM 0.07345127 (0.09851049)\n",
      "Finished validation.\n",
      "Starting training epoch 11\n",
      "Epoch: 11, MSE 0.02384765 (0.02332391), PSNR 16.22554207 (16.32325532), SSIM 0.13019487 (0.13342698)\n",
      "Finished training epoch 11\n",
      "Validate: MSE 0.02519654 (0.02702183), PSNR 15.98659039 (15.68748998), SSIM 0.07409083 (0.09911240)\n",
      "Finished validation.\n",
      "Starting training epoch 12\n",
      "Epoch: 12, MSE 0.02383065 (0.02328284), PSNR 16.22864151 (16.33092658), SSIM 0.11633474 (0.13505395)\n",
      "Finished training epoch 12\n",
      "Validate: MSE 0.02454947 (0.02637409), PSNR 16.09957695 (15.79317229), SSIM 0.07309797 (0.09826693)\n",
      "Finished validation.\n",
      "Starting training epoch 13\n",
      "Epoch: 13, MSE 0.02426305 (0.02325990), PSNR 16.15054512 (16.33520246), SSIM 0.13290940 (0.13616498)\n",
      "Finished training epoch 13\n",
      "Validate: MSE 0.02654399 (0.02839538), PSNR 15.76033783 (15.47172085), SSIM 0.07569253 (0.10087707)\n",
      "Finished validation.\n",
      "Starting training epoch 14\n",
      "Epoch: 14, MSE 0.02204268 (0.02325203), PSNR 16.56735611 (16.33650660), SSIM 0.14969197 (0.13701634)\n",
      "Finished training epoch 14\n",
      "Validate: MSE 0.02440138 (0.02620587), PSNR 16.12585640 (15.82096349), SSIM 0.07382534 (0.09892874)\n",
      "Finished validation.\n",
      "Starting training epoch 15\n",
      "Epoch: 15, MSE 0.02404750 (0.02324327), PSNR 16.18930054 (16.33829065), SSIM 0.12971184 (0.13778417)\n",
      "Finished training epoch 15\n",
      "Validate: MSE 0.02452733 (0.02628803), PSNR 16.10349846 (15.80731301), SSIM 0.07601466 (0.10123491)\n",
      "Finished validation.\n",
      "Starting training epoch 16\n",
      "Epoch: 16, MSE 0.02330075 (0.02322604), PSNR 16.32629967 (16.34143651), SSIM 0.12907204 (0.13855973)\n",
      "Finished training epoch 16\n",
      "Validate: MSE 0.02495862 (0.02672788), PSNR 16.02779388 (15.73495691), SSIM 0.07634286 (0.10163376)\n",
      "Finished validation.\n",
      "Starting training epoch 17\n",
      "Epoch: 17, MSE 0.02342214 (0.02322406), PSNR 16.30373383 (16.34179945), SSIM 0.13978101 (0.13875943)\n",
      "Finished training epoch 17\n",
      "Validate: MSE 0.02471005 (0.02647860), PSNR 16.07126427 (15.77579510), SSIM 0.07509378 (0.10012233)\n",
      "Finished validation.\n",
      "Starting training epoch 18\n",
      "Epoch: 18, MSE 0.02307864 (0.02321605), PSNR 16.36789703 (16.34326874), SSIM 0.16563965 (0.13926332)\n",
      "Finished training epoch 18\n",
      "Validate: MSE 0.02393318 (0.02569315), PSNR 16.20999527 (15.90692133), SSIM 0.07748342 (0.10145144)\n",
      "Finished validation.\n",
      "Starting training epoch 19\n",
      "Epoch: 19, MSE 0.02251585 (0.02320086), PSNR 16.47511482 (16.34619083), SSIM 0.14718297 (0.13961841)\n",
      "Finished training epoch 19\n",
      "Validate: MSE 0.02488286 (0.02666353), PSNR 16.04099464 (15.74542100), SSIM 0.07680611 (0.10150314)\n",
      "Finished validation.\n",
      "Starting training epoch 20\n",
      "Epoch: 20, MSE 0.02368726 (0.02320372), PSNR 16.25485229 (16.34563935), SSIM 0.14227088 (0.13967840)\n",
      "Finished training epoch 20\n",
      "Validate: MSE 0.02559749 (0.02739140), PSNR 15.91802502 (15.62833345), SSIM 0.07757074 (0.10220542)\n",
      "Finished validation.\n",
      "Starting training epoch 21\n",
      "Epoch: 21, MSE 0.02272627 (0.02319284), PSNR 16.43471718 (16.34770227), SSIM 0.13725348 (0.13987952)\n",
      "Finished training epoch 21\n",
      "Validate: MSE 0.02403115 (0.02574542), PSNR 16.19225502 (15.89801294), SSIM 0.07797675 (0.10197723)\n",
      "Finished validation.\n",
      "Starting training epoch 22\n",
      "Epoch: 22, MSE 0.02433041 (0.02319247), PSNR 16.13850403 (16.34786390), SSIM 0.12602110 (0.14046773)\n",
      "Finished training epoch 22\n",
      "Validate: MSE 0.02410408 (0.02581733), PSNR 16.17909431 (15.88579969), SSIM 0.07785441 (0.10213628)\n",
      "Finished validation.\n",
      "Starting training epoch 23\n",
      "Epoch: 23, MSE 0.02287525 (0.02317052), PSNR 16.40634155 (16.35186905), SSIM 0.13819075 (0.14036874)\n",
      "Finished training epoch 23\n",
      "Validate: MSE 0.02493510 (0.02672232), PSNR 16.03188705 (15.73590432), SSIM 0.07716388 (0.10179368)\n",
      "Finished validation.\n",
      "Starting training epoch 24\n",
      "Epoch: 24, MSE 0.02372868 (0.02318310), PSNR 16.24726295 (16.34956474), SSIM 0.13161346 (0.14058377)\n",
      "Finished training epoch 24\n",
      "Validate: MSE 0.02478930 (0.02659070), PSNR 16.05735588 (15.75752514), SSIM 0.07537163 (0.10025485)\n",
      "Finished validation.\n",
      "Starting training epoch 25\n",
      "Epoch: 25, MSE 0.02246881 (0.02316176), PSNR 16.48419762 (16.35342038), SSIM 0.15830426 (0.14077098)\n",
      "Finished training epoch 25\n",
      "Validate: MSE 0.02454090 (0.02635739), PSNR 16.10109329 (15.79586497), SSIM 0.07570531 (0.10035514)\n",
      "Finished validation.\n",
      "Starting training epoch 26\n",
      "Epoch: 26, MSE 0.02311114 (0.02317428), PSNR 16.36178589 (16.35117683), SSIM 0.13315547 (0.14087271)\n",
      "Finished training epoch 26\n",
      "Validate: MSE 0.02514643 (0.02694668), PSNR 15.99523640 (15.69960456), SSIM 0.07698326 (0.10182404)\n",
      "Finished validation.\n",
      "Starting training epoch 27\n",
      "Epoch: 27, MSE 0.02368547 (0.02315590), PSNR 16.25517845 (16.35464324), SSIM 0.13146797 (0.14139481)\n",
      "Finished training epoch 27\n",
      "Validate: MSE 0.02462377 (0.02645846), PSNR 16.08645439 (15.77932221), SSIM 0.07584937 (0.10053064)\n",
      "Finished validation.\n",
      "Starting training epoch 28\n",
      "Epoch: 28, MSE 0.02347183 (0.02317057), PSNR 16.29452896 (16.35176088), SSIM 0.12736046 (0.14137476)\n",
      "Finished training epoch 28\n",
      "Validate: MSE 0.02437702 (0.02614083), PSNR 16.13019371 (15.83169582), SSIM 0.07657306 (0.10159880)\n",
      "Finished validation.\n",
      "Starting training epoch 29\n",
      "Epoch: 29, MSE 0.02360871 (0.02315081), PSNR 16.26927757 (16.35555748), SSIM 0.14674401 (0.14154842)\n",
      "Finished training epoch 29\n",
      "Validate: MSE 0.02409335 (0.02585740), PSNR 16.18102646 (15.87912895), SSIM 0.08092735 (0.10511040)\n",
      "Finished validation.\n",
      "Starting training epoch 30\n"
     ]
    },
    {
     "name": "stdout",
     "output_type": "stream",
     "text": [
      "Epoch: 30, MSE 0.02238562 (0.02316303), PSNR 16.50030899 (16.35331113), SSIM 0.14841720 (0.14142389)\n",
      "Finished training epoch 30\n",
      "Validate: MSE 0.02475353 (0.02656349), PSNR 16.06362915 (15.76193944), SSIM 0.07627119 (0.10112845)\n",
      "Finished validation.\n",
      "Starting training epoch 31\n",
      "Epoch: 31, MSE 0.02325878 (0.02315798), PSNR 16.33413124 (16.35400506), SSIM 0.13749707 (0.14154999)\n",
      "Finished training epoch 31\n",
      "Validate: MSE 0.02488034 (0.02669377), PSNR 16.04143715 (15.74059348), SSIM 0.07838877 (0.10293889)\n",
      "Finished validation.\n",
      "Starting training epoch 32\n",
      "Epoch: 32, MSE 0.02336409 (0.02315041), PSNR 16.31451035 (16.35572039), SSIM 0.13721877 (0.14175445)\n",
      "Finished training epoch 32\n",
      "Validate: MSE 0.02445583 (0.02627446), PSNR 16.11617470 (15.80961311), SSIM 0.07616504 (0.10091233)\n",
      "Finished validation.\n",
      "Starting training epoch 33\n",
      "Epoch: 33, MSE 0.02210823 (0.02315559), PSNR 16.55445862 (16.35468520), SSIM 0.15378013 (0.14165145)\n",
      "Finished training epoch 33\n",
      "Validate: MSE 0.02450627 (0.02630612), PSNR 16.10722733 (15.80426913), SSIM 0.07616241 (0.10095341)\n",
      "Finished validation.\n",
      "Starting training epoch 34\n",
      "Epoch: 34, MSE 0.02360849 (0.02314552), PSNR 16.26931763 (16.35655956), SSIM 0.13501617 (0.14200125)\n",
      "Finished training epoch 34\n",
      "Validate: MSE 0.02381295 (0.02555128), PSNR 16.23186684 (15.93093510), SSIM 0.08019501 (0.10426430)\n",
      "Finished validation.\n",
      "Starting training epoch 35\n",
      "Epoch: 35, MSE 0.02388028 (0.02314572), PSNR 16.21960449 (16.35646891), SSIM 0.14182499 (0.14197942)\n",
      "Finished training epoch 35\n",
      "Validate: MSE 0.02452962 (0.02634258), PSNR 16.10309029 (15.79818623), SSIM 0.08166426 (0.10572505)\n",
      "Finished validation.\n",
      "Starting training epoch 36\n",
      "Epoch: 36, MSE 0.02396087 (0.02315096), PSNR 16.20497322 (16.35544592), SSIM 0.12905434 (0.14190454)\n",
      "Finished training epoch 36\n",
      "Validate: MSE 0.02403247 (0.02574667), PSNR 16.19201469 (15.89777558), SSIM 0.07756012 (0.10240421)\n",
      "Finished validation.\n",
      "Starting training epoch 37\n",
      "Epoch: 37, MSE 0.02223588 (0.02314259), PSNR 16.52945518 (16.35708484), SSIM 0.14522779 (0.14213399)\n",
      "Finished training epoch 37\n",
      "Validate: MSE 0.02580931 (0.02761944), PSNR 15.88223457 (15.59213979), SSIM 0.08091550 (0.10552572)\n",
      "Finished validation.\n",
      "Starting training epoch 38\n",
      "Epoch: 38, MSE 0.02417721 (0.02314551), PSNR 16.16593742 (16.35655265), SSIM 0.13114890 (0.14206147)\n",
      "Finished training epoch 38\n",
      "Validate: MSE 0.02385105 (0.02561073), PSNR 16.22492409 (15.92092025), SSIM 0.07607651 (0.10092988)\n",
      "Finished validation.\n",
      "Starting training epoch 39\n",
      "Epoch: 39, MSE 0.02333946 (0.02313982), PSNR 16.31909180 (16.35764000), SSIM 0.14177886 (0.14207693)\n",
      "Finished training epoch 39\n",
      "Validate: MSE 0.02450313 (0.02633469), PSNR 16.10778427 (15.79959504), SSIM 0.07523133 (0.09986325)\n",
      "Finished validation.\n",
      "Starting training epoch 40\n",
      "Epoch: 40, MSE 0.02281797 (0.02312474), PSNR 16.41722870 (16.36046319), SSIM 0.14665452 (0.14249320)\n",
      "Finished training epoch 40\n",
      "Validate: MSE 0.02422312 (0.02599308), PSNR 16.15769958 (15.85639755), SSIM 0.07681689 (0.10173394)\n",
      "Finished validation.\n",
      "Starting training epoch 41\n",
      "Epoch: 41, MSE 0.02242664 (0.02312699), PSNR 16.49235725 (16.36012315), SSIM 0.14740941 (0.14231373)\n",
      "Finished training epoch 41\n",
      "Validate: MSE 0.02363193 (0.02537399), PSNR 16.26500893 (15.96133050), SSIM 0.07754480 (0.10219243)\n",
      "Finished validation.\n",
      "Starting training epoch 42\n",
      "Epoch: 42, MSE 0.02334145 (0.02312378), PSNR 16.31871986 (16.36066191), SSIM 0.14833562 (0.14241738)\n",
      "Finished training epoch 42\n",
      "Validate: MSE 0.02468341 (0.02646633), PSNR 16.07594681 (15.77775046), SSIM 0.07781854 (0.10281730)\n",
      "Finished validation.\n",
      "Starting training epoch 43\n",
      "Epoch: 43, MSE 0.02376394 (0.02312268), PSNR 16.24081612 (16.36074297), SSIM 0.13765648 (0.14249330)\n",
      "Finished training epoch 43\n",
      "Validate: MSE 0.02356310 (0.02530942), PSNR 16.27767563 (15.97245250), SSIM 0.07571328 (0.10047905)\n",
      "Finished validation.\n",
      "Starting training epoch 44\n",
      "Epoch: 44, MSE 0.02434593 (0.02312139), PSNR 16.13573647 (16.36113625), SSIM 0.13117956 (0.14253633)\n",
      "Finished training epoch 44\n",
      "Validate: MSE 0.02417376 (0.02592737), PSNR 16.16655731 (15.86735483), SSIM 0.07720461 (0.10217248)\n",
      "Finished validation.\n",
      "Starting training epoch 45\n",
      "Epoch: 45, MSE 0.02460313 (0.02311853), PSNR 16.09009552 (16.36166589), SSIM 0.13787811 (0.14253764)\n",
      "Finished training epoch 45\n",
      "Validate: MSE 0.02499430 (0.02677232), PSNR 16.02159119 (15.72775397), SSIM 0.07668155 (0.10185306)\n",
      "Finished validation.\n",
      "Starting training epoch 46\n",
      "Epoch: 46, MSE 0.02208300 (0.02310922), PSNR 16.55941963 (16.36335917), SSIM 0.15096918 (0.14265042)\n",
      "Finished training epoch 46\n",
      "Validate: MSE 0.02427080 (0.02601291), PSNR 16.14915657 (15.85303185), SSIM 0.07734703 (0.10214618)\n",
      "Finished validation.\n",
      "Starting training epoch 47\n",
      "Epoch: 47, MSE 0.02348726 (0.02312005), PSNR 16.29167557 (16.36131354), SSIM 0.14438052 (0.14260333)\n",
      "Finished training epoch 47\n",
      "Validate: MSE 0.02392918 (0.02569412), PSNR 16.21072197 (15.90681125), SSIM 0.07685108 (0.10141846)\n",
      "Finished validation.\n",
      "Starting training epoch 48\n",
      "Epoch: 48, MSE 0.02398574 (0.02311193), PSNR 16.20046806 (16.36287198), SSIM 0.13999236 (0.14271995)\n",
      "Finished training epoch 48\n",
      "Validate: MSE 0.02419065 (0.02595405), PSNR 16.16352463 (15.86292206), SSIM 0.07674388 (0.10175760)\n",
      "Finished validation.\n",
      "Starting training epoch 49\n",
      "Epoch: 49, MSE 0.02258229 (0.02311644), PSNR 16.46232033 (16.36204704), SSIM 0.13934533 (0.14273419)\n",
      "Finished training epoch 49\n",
      "Validate: MSE 0.02433863 (0.02610337), PSNR 16.13703728 (15.83788038), SSIM 0.07699992 (0.10202299)\n",
      "Finished validation.\n",
      "Starting training epoch 50\n",
      "Epoch: 50, MSE 0.02274945 (0.02310886), PSNR 16.43029022 (16.36349094), SSIM 0.13612828 (0.14299670)\n",
      "Finished training epoch 50\n",
      "Validate: MSE 0.02442053 (0.02620499), PSNR 16.12244797 (15.82096547), SSIM 0.07630331 (0.10132134)\n",
      "Finished validation.\n"
     ]
    },
    {
     "data": {
      "text/plain": [
       "<Figure size 432x288 with 0 Axes>"
      ]
     },
     "metadata": {},
     "output_type": "display_data"
    }
   ],
   "source": [
    "# Train model\n",
    "for epoch in range(epochs):\n",
    "    # Train for one epoch, then validate\n",
    "    train(train_loader, model, criterion, optimizer, epoch)\n",
    "    with torch.no_grad():\n",
    "        losses = validate(val_loader, model, criterion, save_images, epoch)\n",
    "    # Save checkpoint and replace old best model if current model is better\n",
    "    if losses[0] < best_losses[0]:\n",
    "        best_losses[0] = losses[0]\n",
    "        best_epoch = epoch\n",
    "        torch.save(model.state_dict(), f'{checkpoints}/epoch-{epoch}-MSELoss-{losses[0]:.8f}.pth')\n",
    "    if losses[1] < best_losses[1]:\n",
    "        best_losses[1] = losses[1]\n",
    "        torch.save(model.state_dict(), f'{checkpoints}/epoch-{epoch}-PSNRLoss-{losses[1]:.8f}.pth')\n",
    "    if losses[2] < best_losses[2]:\n",
    "        best_losses[2] = losses[2]\n",
    "        torch.save(model.state_dict(), f'{checkpoints}/epoch-{epoch}-SSIMLoss-{losses[2]:.8f}.pth')\n",
    "    \n",
    "    if epoch - best_epoch >= patience:\n",
    "        torch.save(model.state_dict(), f'{checkpoints}/epoch-{epoch}-MSELoss-{losses[0]:.8f}-early_stop.pth')\n",
    "        break\n",
    "    \n",
    "    if epoch == epochs - 1:\n",
    "        torch.save(model.state_dict(), f'{checkpoints}/epoch-{epoch}-last-{losses[0]:.8f}-{losses[1]:.8f}-{losses[2]:.8f}.pth')\n"
   ]
  },
  {
   "cell_type": "code",
   "execution_count": 20,
   "metadata": {
    "scrolled": true
   },
   "outputs": [],
   "source": [
    "torch.save(model.state_dict(), f'{checkpoints}/last-{losses[0]:.8f}-{losses[1]:.8f}-{losses[2]:.8f}.pth')"
   ]
  },
  {
   "cell_type": "code",
   "execution_count": 21,
   "metadata": {
    "colab": {
     "base_uri": "https://localhost:8080/",
     "height": 1593
    },
    "id": "UcovGnpHMl9D",
    "outputId": "90b7a2b4-dc03-4862-cf02-c7ddbbb7e500"
   },
   "outputs": [
    {
     "name": "stdout",
     "output_type": "stream",
     "text": [
      "Validate: MSE 0.02442053 (0.02620499), PSNR 16.12244797 (15.82096547), SSIM 0.07630331 (0.10132134)\n",
      "Finished validation.\n"
     ]
    },
    {
     "data": {
      "text/plain": [
       "<Figure size 432x288 with 0 Axes>"
      ]
     },
     "metadata": {},
     "output_type": "display_data"
    }
   ],
   "source": [
    "# Validate\n",
    "save_images = True\n",
    "with torch.no_grad():\n",
    "    validate(val_loader, model, criterion, save_images, -1)"
   ]
  },
  {
   "cell_type": "code",
   "execution_count": 22,
   "metadata": {},
   "outputs": [],
   "source": [
    "# # Show images \n",
    "# image_pairs = []\n",
    "\n",
    "# for i in range(10):\n",
    "#     image_pairs.append((f'{color_imgs}img-{i}-epoch-{best_epoch}.jpg', f'{gray_imgs}img-{i}-epoch-{best_epoch}.jpg'))\n",
    "    \n",
    "# for c, g in image_pairs:\n",
    "#   color = mpimg.imread(c)\n",
    "#   gray  = mpimg.imread(g)\n",
    "#   f, axarr = plt.subplots(1, 2)\n",
    "#   f.set_size_inches(15, 15)\n",
    "#   axarr[0].imshow(gray, cmap='gray')\n",
    "#   axarr[1].imshow(color)\n",
    "#   axarr[0].axis('off'), axarr[1].axis('off')\n",
    "#   plt.show()"
   ]
  },
  {
   "cell_type": "code",
   "execution_count": null,
   "metadata": {},
   "outputs": [],
   "source": []
  }
 ],
 "metadata": {
  "accelerator": "GPU",
  "colab": {
   "provenance": []
  },
  "kernelspec": {
   "display_name": "Python 3 (ipykernel)",
   "language": "python",
   "name": "python3"
  },
  "language_info": {
   "codemirror_mode": {
    "name": "ipython",
    "version": 3
   },
   "file_extension": ".py",
   "mimetype": "text/x-python",
   "name": "python",
   "nbconvert_exporter": "python",
   "pygments_lexer": "ipython3",
   "version": "3.10.6"
  }
 },
 "nbformat": 4,
 "nbformat_minor": 4
}
