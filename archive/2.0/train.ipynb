{
 "cells": [
  {
   "cell_type": "code",
   "execution_count": null,
   "metadata": {},
   "outputs": [],
   "source": [
    "import os\n",
    "import torch\n",
    "import sys\n",
    "import numpy as np\n",
    "\n",
    "from torch import nn, optim\n",
    "from PIL import Image\n",
    "from skimage.color import rgb2lab\n",
    "from torch.utils.data import Dataset, DataLoader\n",
    "from torchvision import transforms\n",
    "\n",
    "from models import Unet, Discriminator"
   ]
  },
  {
   "attachments": {},
   "cell_type": "markdown",
   "metadata": {},
   "source": [
    "# Constants that need to be set:"
   ]
  },
  {
   "cell_type": "code",
   "execution_count": null,
   "metadata": {},
   "outputs": [],
   "source": [
    "MODEL_SAVE_PATH = 'model/'\n",
    "# DATASET_PATH = 'dataset/cifar/train/' # Dir with 32x32 images\n",
    "# DATASET_PATH = 'dataset/small/train/' # Dir with 32x32 images\n",
    "DATASET_PATH = 'dataset/medium/train/' # Dir with 64x64 images\n",
    "# DATASET_PATH = 'dataset/large/train/' # Dir with 256x256 images\n",
    "EPOCHS = 30\n",
    "BATCH_SIZE = 16"
   ]
  },
  {
   "cell_type": "code",
   "execution_count": null,
   "metadata": {},
   "outputs": [],
   "source": [
    "%load_ext tensorboard\n",
    "%tensorboard --logdir=runs"
   ]
  },
  {
   "attachments": {},
   "cell_type": "markdown",
   "metadata": {},
   "source": [
    "# Meteres - A handy class from the PyTorch ImageNet tutorial"
   ]
  },
  {
   "cell_type": "code",
   "execution_count": null,
   "metadata": {},
   "outputs": [],
   "source": [
    "class AverageMeter(object):\n",
    "    def __init__(self):\n",
    "        self.reset()\n",
    "    \n",
    "    def reset(self):\n",
    "        self.val, self.avg, self.sum, self.count = 0, 0, 0, 0\n",
    "    \n",
    "    def update(self, val, n=1):\n",
    "        self.val = val\n",
    "        self.sum += val * n\n",
    "        self.count += n\n",
    "        self.avg = self.sum / self.count\n",
    "\n",
    "\n",
    "from torch.utils.tensorboard import SummaryWriter\n",
    "writer = SummaryWriter()"
   ]
  },
  {
   "attachments": {},
   "cell_type": "markdown",
   "metadata": {},
   "source": [
    "# Dataset that loads images in lab format"
   ]
  },
  {
   "cell_type": "code",
   "execution_count": null,
   "metadata": {},
   "outputs": [],
   "source": [
    "class ColorizationDataset(Dataset):\n",
    "    def __init__(self, dataset_path):\n",
    "        self.paths = [os.path.join(dataset_path, file) for file in os.listdir(dataset_path)]\n",
    "    \n",
    "    def __getitem__(self, idx):\n",
    "        img = Image.open(self.paths[idx]).convert(\"RGB\")\n",
    "        img = np.array(img)\n",
    "        img_lab = rgb2lab(img).astype(\"float32\")\n",
    "        img_lab = transforms.ToTensor()(img_lab)\n",
    "        L = img_lab[[0], ...] / 50. - 1.\n",
    "        ab = img_lab[[1, 2], ...] / 110.\n",
    "        return {'L': L, 'ab': ab}\n",
    "    \n",
    "    def __len__(self):\n",
    "        return len(self.paths)"
   ]
  },
  {
   "attachments": {},
   "cell_type": "markdown",
   "metadata": {},
   "source": [
    "# Prepare dataset loader"
   ]
  },
  {
   "cell_type": "code",
   "execution_count": null,
   "metadata": {},
   "outputs": [],
   "source": [
    "dataset = ColorizationDataset(DATASET_PATH)\n",
    "data_loader = DataLoader(dataset, batch_size=BATCH_SIZE, num_workers=4, pin_memory=True)"
   ]
  },
  {
   "attachments": {},
   "cell_type": "markdown",
   "metadata": {},
   "source": [
    "# Create models"
   ]
  },
  {
   "cell_type": "code",
   "execution_count": null,
   "metadata": {},
   "outputs": [],
   "source": [
    "device = torch.device(\"cuda\" if torch.cuda.is_available() else \"cpu\")\n",
    "generator = Unet().to(device)\n",
    "discriminator = Discriminator().to(device)\n",
    "discriminator_true_output = torch.tensor(1.0).to(device)\n",
    "discriminator_false_output = torch.tensor(0.0).to(device)"
   ]
  },
  {
   "attachments": {},
   "cell_type": "markdown",
   "metadata": {},
   "source": [
    "# Create loss function"
   ]
  },
  {
   "cell_type": "code",
   "execution_count": null,
   "metadata": {},
   "outputs": [],
   "source": [
    "loss_function = nn.BCEWithLogitsLoss()\n",
    "l1_loss = nn.L1Loss()"
   ]
  },
  {
   "attachments": {},
   "cell_type": "markdown",
   "metadata": {},
   "source": [
    "# Create optimizers"
   ]
  },
  {
   "cell_type": "code",
   "execution_count": null,
   "metadata": {},
   "outputs": [],
   "source": [
    "generator_optimizer = optim.Adam(generator.parameters(), lr=2e-4, betas=(0.5, 0.999))\n",
    "discriminator_optimizer = optim.Adam(discriminator.parameters(), lr=2e-4, betas=(0.5, 0.999))"
   ]
  },
  {
   "attachments": {},
   "cell_type": "markdown",
   "metadata": {},
   "source": [
    "# Train"
   ]
  },
  {
   "cell_type": "code",
   "execution_count": null,
   "metadata": {},
   "outputs": [],
   "source": [
    "_loss_gen = AverageMeter()\n",
    "_loss_val = AverageMeter()\n",
    "\n",
    "for e in range(EPOCHS):\n",
    "    _loss_gen.reset()\n",
    "    _loss_val.reset()\n",
    "    i = 0\n",
    "    for data in data_loader:\n",
    "        # Fetch image channels from data\n",
    "        L = data['L'].to(device)\n",
    "        ab = data['ab'].to(device)\n",
    "\n",
    "        # Train discriminator\n",
    "        fake_color = generator(L)\n",
    "        discriminator.train()\n",
    "        for param in discriminator.parameters():\n",
    "            param.requires_grad = True\n",
    "        discriminator_optimizer.zero_grad()\n",
    "        fake_image = torch.cat([L, fake_color], dim=1)\n",
    "        fake_preds = discriminator(fake_image.detach())\n",
    "        discriminator_loss_fake = loss_function(fake_preds, discriminator_true_output.expand_as(fake_preds))\n",
    "        real_image = torch.cat([L, ab], dim=1)\n",
    "        real_preds = discriminator(real_image)\n",
    "        discriminator_loss_real = loss_function(real_preds, discriminator_false_output.expand_as(real_preds))\n",
    "        discriminator_loss = (discriminator_loss_fake + discriminator_loss_real) * 0.5\n",
    "        discriminator_loss.backward()\n",
    "        _loss_gen.update(discriminator_loss.item(), L.size(0))\n",
    "        discriminator_optimizer.step()\n",
    "\n",
    "        # Train Generator\n",
    "        generator.train()\n",
    "        for param in discriminator.parameters():\n",
    "            param.requires_grad = False\n",
    "        generator_optimizer.zero_grad()\n",
    "        fake_image = torch.cat([L, fake_color], dim=1)\n",
    "        fake_preds = discriminator(fake_image)\n",
    "        generator_loss = loss_function(fake_preds, discriminator_false_output.expand_as(fake_preds))\n",
    "        generator_l1_loss = l1_loss(fake_color, ab) * 100\n",
    "        generator_loss = generator_loss + generator_l1_loss\n",
    "        generator_loss.backward()\n",
    "        _loss_val.update(generator_loss.item(), L.size(0))\n",
    "        generator_optimizer.step()\n",
    "        \n",
    "        # Print train state\n",
    "        i += 1\n",
    "        if i % 32 != 0:\n",
    "            continue\n",
    "\n",
    "        print(f\"\\nEpoch {e+1}/{EPOCHS}\")\n",
    "        print(f\"Iteration {i}/{len(data_loader)}\")\n",
    "        print(f\"Loss gen {_loss_gen.val:.4f} ({_loss_gen.avg:.4f})\")\n",
    "        print(f\"Loss val {_loss_val.val:.4f} ({_loss_val.avg:.4f})\")\n",
    "    # Log losses\n",
    "    writer.add_scalar(\"Loss/generator\", _loss_gen.avg, e)\n",
    "    writer.add_scalar(\"Loss/validator\", _loss_val.avg, e)\n",
    "    writer.flush()"
   ]
  },
  {
   "attachments": {},
   "cell_type": "markdown",
   "metadata": {},
   "source": [
    "# Save model"
   ]
  },
  {
   "cell_type": "code",
   "execution_count": null,
   "metadata": {},
   "outputs": [],
   "source": [
    "torch.save(generator.state_dict(), os.path.join(MODEL_SAVE_PATH, 'model.pt'))"
   ]
  }
 ],
 "metadata": {
  "kernelspec": {
   "display_name": "Python 3 (ipykernel)",
   "language": "python",
   "name": "python3"
  },
  "language_info": {
   "codemirror_mode": {
    "name": "ipython",
    "version": 3
   },
   "file_extension": ".py",
   "mimetype": "text/x-python",
   "name": "python",
   "nbconvert_exporter": "python",
   "pygments_lexer": "ipython3",
   "version": "3.10.8"
  },
  "vscode": {
   "interpreter": {
    "hash": "93e15679645dcb3524ccf8395a06e39173268072ff243f8f4742438cd6969362"
   }
  }
 },
 "nbformat": 4,
 "nbformat_minor": 4
}
