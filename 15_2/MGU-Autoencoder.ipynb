{
 "cells": [
  {
   "cell_type": "code",
   "execution_count": 1,
   "metadata": {
    "id": "J_Y9UFYhKbuE"
   },
   "outputs": [],
   "source": [
    "# For plotting\n",
    "import numpy as np\n",
    "import matplotlib.pyplot as plt\n",
    "import matplotlib.image as mpimg\n",
    "%matplotlib inline\n",
    "# For conversion\n",
    "from skimage.color import lab2rgb, rgb2lab, rgb2gray\n",
    "from skimage import io\n",
    "# For everything\n",
    "import torch\n",
    "import torch.nn as nn\n",
    "import torch.nn.functional as F\n",
    "# For our model\n",
    "import torchvision\n",
    "import torchvision.models as models\n",
    "from torchvision import datasets, transforms\n",
    "from torchmetrics import MeanSquaredError, PeakSignalNoiseRatio, StructuralSimilarityIndexMeasure\n",
    "from PIL import Image\n",
    "# For utilities\n",
    "import os, shutil, time"
   ]
  },
  {
   "cell_type": "code",
   "execution_count": 2,
   "metadata": {
    "scrolled": true
   },
   "outputs": [
    {
     "data": {
      "text/html": [
       "\n",
       "      <iframe id=\"tensorboard-frame-2fdd720012d7881e\" width=\"100%\" height=\"800\" frameborder=\"0\">\n",
       "      </iframe>\n",
       "      <script>\n",
       "        (function() {\n",
       "          const frame = document.getElementById(\"tensorboard-frame-2fdd720012d7881e\");\n",
       "          const url = new URL(\"/\", window.location);\n",
       "          const port = 6008;\n",
       "          if (port) {\n",
       "            url.port = port;\n",
       "          }\n",
       "          frame.src = url;\n",
       "        })();\n",
       "      </script>\n",
       "    "
      ],
      "text/plain": [
       "<IPython.core.display.HTML object>"
      ]
     },
     "metadata": {},
     "output_type": "display_data"
    }
   ],
   "source": [
    "%load_ext tensorboard\n",
    "%tensorboard --logdir=runs"
   ]
  },
  {
   "cell_type": "code",
   "execution_count": 3,
   "metadata": {},
   "outputs": [],
   "source": [
    "# colab i kaggle jeszcze nie testowane\n",
    "colab = False\n",
    "kaggle = False\n",
    "test_number = '12_2'"
   ]
  },
  {
   "cell_type": "code",
   "execution_count": 4,
   "metadata": {},
   "outputs": [],
   "source": [
    "color_imgs = 'outputs/color/'\n",
    "gray_imgs = 'outputs/gray/'\n",
    "checkpoints = 'checkpoints'\n",
    "if colab:\n",
    "    from google.colab import drive\n",
    "    drive.mount('/content/drive')\n",
    "    dataset = '/content/drive/MyDrive/MGU/cifar10/'\n",
    "    \n",
    "    color_imgs = f'/content/drive/MyDrive/MGU/{test_number}/{color_imgs}'\n",
    "    gray_imgs = f'/content/drive/MyDrive/MGU/{test_number}/{gray_imgs}'\n",
    "    checkpoints = f'/content/drive/MyDrive/MGU/{test_number}/{checkpoints}'\n",
    "elif kaggle:\n",
    "    dataset = '/kaggle/input/cifar10/'\n",
    "    \n",
    "    color_imgs = f'{test_number}/{color_imgs}'\n",
    "    gray_imgs = f'{test_number}/{gray_imgs}'\n",
    "    checkpoints = f'{test_number}/{checkpoints}'\n",
    "else:\n",
    "    dataset = '../../datasets/cifar10/'"
   ]
  },
  {
   "cell_type": "code",
   "execution_count": 5,
   "metadata": {
    "id": "ckNmKA5VwSh1"
   },
   "outputs": [],
   "source": [
    "# Make folders and set parameters\n",
    "os.makedirs(color_imgs, exist_ok=True)\n",
    "os.makedirs(gray_imgs, exist_ok=True)\n",
    "os.makedirs(checkpoints, exist_ok=True)\n",
    "save_images = True\n",
    "best_losses = [1e10, 1e10, 1e10]\n",
    "best_epoch = -1\n",
    "patience = 50\n",
    "epochs = 500\n",
    "batch_size = 128\n",
    "SIZE = 32"
   ]
  },
  {
   "cell_type": "code",
   "execution_count": 6,
   "metadata": {},
   "outputs": [],
   "source": [
    "from torch.utils.tensorboard import SummaryWriter\n",
    "writer = SummaryWriter()"
   ]
  },
  {
   "cell_type": "code",
   "execution_count": 7,
   "metadata": {
    "id": "gMolrzKA_1uJ"
   },
   "outputs": [
    {
     "name": "stdout",
     "output_type": "stream",
     "text": [
      "True\n"
     ]
    }
   ],
   "source": [
    "# Check if GPU is available\n",
    "use_gpu = torch.cuda.is_available()\n",
    "print(use_gpu)"
   ]
  },
  {
   "cell_type": "code",
   "execution_count": 8,
   "metadata": {
    "id": "05NviQfzU2Mv"
   },
   "outputs": [],
   "source": [
    "class LabImageFolder(torch.utils.data.Dataset):\n",
    "    def __init__(self, paths, split='train'):\n",
    "        if split == 'train':\n",
    "            self.transforms = transforms.Compose([\n",
    "                transforms.Resize((SIZE, SIZE), transforms.InterpolationMode.BICUBIC),\n",
    "                transforms.RandomCrop(SIZE),\n",
    "                transforms.RandomHorizontalFlip(),  \n",
    "            ])\n",
    "        elif split == 'val':\n",
    "            self.transforms = transforms.Compose([\n",
    "                transforms.Resize((SIZE, SIZE), transforms.InterpolationMode.BICUBIC), \n",
    "                transforms.RandomCrop(SIZE), \n",
    "            ])\n",
    "            \n",
    "        self.split = split\n",
    "        self.size = SIZE\n",
    "        self.paths = [os.path.join(paths, file) for file in os.listdir(paths) if os.path.isfile(\n",
    "            os.path.join(paths, file))]\n",
    "        \n",
    "        \n",
    "    def __getitem__(self, index):\n",
    "        img = Image.open(self.paths[index]).convert(\"RGB\")\n",
    "        img_original = self.transforms(img)\n",
    "        img_original = np.asarray(img_original)\n",
    "        img_lab = rgb2lab(img_original)\n",
    "        img_lab = (img_lab + 128) / 255\n",
    "        img_ab = img_lab[:, :, 1:3]\n",
    "        img_ab = torch.from_numpy(img_ab.transpose((2, 0, 1))).float()\n",
    "        img_gray = rgb2gray(img_original)\n",
    "        img_gray = torch.from_numpy(img_gray).unsqueeze(0).float()\n",
    "        return img_gray, img_ab\n",
    "    \n",
    "    def __len__(self):\n",
    "        return len(self.paths)"
   ]
  },
  {
   "cell_type": "code",
   "execution_count": 9,
   "metadata": {},
   "outputs": [],
   "source": [
    "# Training\n",
    "train_imagefolder = LabImageFolder(dataset + 'train')\n",
    "train_loader = torch.utils.data.DataLoader(train_imagefolder, batch_size=batch_size, shuffle=True)\n",
    "# Validation \n",
    "val_imagefolder = LabImageFolder(dataset + 'val' , 'val')\n",
    "val_loader = torch.utils.data.DataLoader(val_imagefolder, batch_size=batch_size, shuffle=False)"
   ]
  },
  {
   "cell_type": "code",
   "execution_count": 10,
   "metadata": {
    "id": "NOQfP1feNkfS"
   },
   "outputs": [],
   "source": [
    "kernel_size=3\n",
    "stride_en=1\n",
    "stride_de=1\n",
    "padding=1\n",
    "scale_factor=2\n",
    "padding_mode='zeros'\n",
    "channels_base = 64\n",
    "p1 = .5\n",
    "\n",
    "class Autoencoder(nn.Module):\n",
    "    def __init__(self):\n",
    "        super(Autoencoder, self).__init__()\n",
    "\n",
    "        self.conv1 = nn.Conv2d(1, channels_base, kernel_size=kernel_size, stride=stride_en, padding=padding, padding_mode=padding_mode)\n",
    "        self.conv2 = nn.Conv2d(channels_base, channels_base * 2, kernel_size=kernel_size, stride=stride_en, padding=padding, padding_mode=padding_mode)\n",
    "        \n",
    "        self.convtrans1 = nn.ConvTranspose2d(channels_base * 2, channels_base, kernel_size=kernel_size, stride=stride_de, padding=padding, padding_mode=padding_mode)\n",
    "        self.convtrans2 = nn.ConvTranspose2d(channels_base, channels_base // 2, kernel_size=kernel_size, stride=stride_de, padding=padding, padding_mode=padding_mode)\n",
    "        self.convtrans3 = nn.ConvTranspose2d(channels_base // 2, 2, kernel_size=kernel_size, stride=stride_de, padding=padding, padding_mode=padding_mode)\n",
    "\n",
    "        self.batchnorm1 = nn.BatchNorm2d(channels_base // 2)\n",
    "        self.batchnorm2 = nn.BatchNorm2d(channels_base)\n",
    "        self.batchnorm3 = nn.BatchNorm2d(channels_base * 2)\n",
    "        \n",
    "        self.dropout1 = nn.Dropout(p=p1)        \n",
    "        \n",
    "    def forward(self, input):\n",
    "        # encoder\n",
    "        x = F.leaky_relu(self.batchnorm2(self.conv1(input)), negative_slope=.1)\n",
    "        x = self.dropout1(x)\n",
    "        x = y = F.avg_pool2d(x, kernel_size=3, stride=2, padding=1)\n",
    "        x = F.leaky_relu(self.batchnorm3(self.conv2(x)), negative_slope=.1)\n",
    "        x = self.dropout1(x)\n",
    "        x = F.avg_pool2d(x, kernel_size=3, stride=2, padding=1)\n",
    "        \n",
    "        # decoder\n",
    "        x = F.leaky_relu(self.batchnorm2(self.convtrans1(x)), negative_slope=.1)\n",
    "        x = self.dropout1(x)\n",
    "        x = F.interpolate(x, scale_factor=scale_factor)\n",
    "        x = F.leaky_relu(self.batchnorm1(self.convtrans2(x + y)), negative_slope=.1)\n",
    "        x = self.dropout1(x)\n",
    "        x = self.convtrans3(F.interpolate(x, scale_factor=scale_factor) + input)\n",
    "\n",
    "        return x"
   ]
  },
  {
   "cell_type": "code",
   "execution_count": 11,
   "metadata": {
    "id": "OtRkAkIjTeq1"
   },
   "outputs": [],
   "source": [
    "model = Autoencoder()"
   ]
  },
  {
   "cell_type": "code",
   "execution_count": 12,
   "metadata": {},
   "outputs": [],
   "source": [
    "criterion = [MeanSquaredError(), PeakSignalNoiseRatio(data_range=1.0), StructuralSimilarityIndexMeasure(data_range=1.0)]"
   ]
  },
  {
   "cell_type": "code",
   "execution_count": 13,
   "metadata": {
    "id": "j3YZ3977TTl4"
   },
   "outputs": [],
   "source": [
    "optimizer = torch.optim.Adam(model.parameters(), lr=1e-2)"
   ]
  },
  {
   "cell_type": "code",
   "execution_count": 14,
   "metadata": {
    "id": "eeHK3BUtANrw"
   },
   "outputs": [],
   "source": [
    "# # Move model and loss function to GPU\n",
    "if use_gpu: \n",
    "    criterion = [criterion[0].to(\"cuda\"), criterion[1].to(\"cuda\"), criterion[2].to(\"cuda\")]\n",
    "    model = model.cuda()"
   ]
  },
  {
   "cell_type": "code",
   "execution_count": 15,
   "metadata": {
    "scrolled": false
   },
   "outputs": [
    {
     "name": "stdout",
     "output_type": "stream",
     "text": [
      "----------------------------------------------------------------\n",
      "        Layer (type)               Output Shape         Param #\n",
      "================================================================\n",
      "            Conv2d-1           [-1, 64, 32, 32]             640\n",
      "       BatchNorm2d-2           [-1, 64, 32, 32]             128\n",
      "           Dropout-3           [-1, 64, 32, 32]               0\n",
      "            Conv2d-4          [-1, 128, 16, 16]          73,856\n",
      "       BatchNorm2d-5          [-1, 128, 16, 16]             256\n",
      "           Dropout-6          [-1, 128, 16, 16]               0\n",
      "   ConvTranspose2d-7             [-1, 64, 8, 8]          73,792\n",
      "       BatchNorm2d-8             [-1, 64, 8, 8]             128\n",
      "           Dropout-9             [-1, 64, 8, 8]               0\n",
      "  ConvTranspose2d-10           [-1, 32, 16, 16]          18,464\n",
      "      BatchNorm2d-11           [-1, 32, 16, 16]              64\n",
      "          Dropout-12           [-1, 32, 16, 16]               0\n",
      "  ConvTranspose2d-13            [-1, 2, 32, 32]             578\n",
      "================================================================\n",
      "Total params: 167,906\n",
      "Trainable params: 167,906\n",
      "Non-trainable params: 0\n",
      "----------------------------------------------------------------\n",
      "Input size (MB): 0.00\n",
      "Forward/backward pass size (MB): 2.55\n",
      "Params size (MB): 0.64\n",
      "Estimated Total Size (MB): 3.19\n",
      "----------------------------------------------------------------\n"
     ]
    }
   ],
   "source": [
    "if use_gpu: \n",
    "    from torchsummary import summary\n",
    "    summary(model, (1, SIZE, SIZE))"
   ]
  },
  {
   "cell_type": "code",
   "execution_count": 16,
   "metadata": {
    "id": "2FDRt12jsIkr"
   },
   "outputs": [],
   "source": [
    "class AverageMeter(object):\n",
    "    '''A handy class from the PyTorch ImageNet tutorial''' \n",
    "    def __init__(self):\n",
    "        self.reset()\n",
    "    def reset(self):\n",
    "        self.val, self.avg, self.sum, self.count = 0, 0, 0, 0\n",
    "    def update(self, val, n=1):\n",
    "        self.val = val\n",
    "        self.sum += val * n\n",
    "        self.count += n\n",
    "        self.avg = self.sum / self.count\n",
    "\n",
    "def to_rgb(grayscale_input, ab_input, save_path=None, save_name=None):\n",
    "    '''Show/save rgb image from grayscale and ab channels\n",
    "       Input save_path in the form {'grayscale': '/path/', 'colorized': '/path/'}'''\n",
    "    plt.clf() # clear matplotlib \n",
    "    color_image = torch.cat((grayscale_input, ab_input), 0).numpy() # combine channels\n",
    "    color_image = color_image.transpose((1, 2, 0))  # rescale for matplotlib\n",
    "    color_image[:, :, 0:1] = color_image[:, :, 0:1] * 100\n",
    "    color_image[:, :, 1:3] = color_image[:, :, 1:3] * 255 - 128   \n",
    "    color_image = lab2rgb(color_image.astype(np.float64))\n",
    "    grayscale_input = grayscale_input.squeeze().numpy()\n",
    "    if save_path is not None and save_name is not None: \n",
    "        plt.imsave(arr=grayscale_input, fname='{}{}'.format(save_path['grayscale'], save_name), cmap='gray')\n",
    "        plt.imsave(arr=color_image, fname='{}{}'.format(save_path['colorized'], save_name))"
   ]
  },
  {
   "cell_type": "code",
   "execution_count": 17,
   "metadata": {
    "id": "M_OTbyOcrh9J"
   },
   "outputs": [],
   "source": [
    "def validate(val_loader, model, criterion, save_images, epoch):\n",
    "    _loss = [AverageMeter(), AverageMeter(), AverageMeter()]\n",
    "\n",
    "    model.eval()\n",
    "    already_saved_images = False\n",
    "    for gray, ab in val_loader:\n",
    "        if use_gpu: \n",
    "            gray, ab = gray.cuda(), ab.cuda()\n",
    "\n",
    "        # Run model and record loss\n",
    "        output_ab = model(gray) # throw away class predictions\n",
    "        loss = [criterion[0](output_ab, ab), criterion[1](output_ab, ab), criterion[2](output_ab, ab)]\n",
    "        \n",
    "        _loss[0].update(loss[0].item(), gray.size(0))\n",
    "        _loss[1].update(loss[1].item(), gray.size(0))\n",
    "        _loss[2].update(loss[2].item(), gray.size(0))\n",
    "\n",
    "        # Save images to file\n",
    "        if save_images and not already_saved_images:\n",
    "            already_saved_images = True\n",
    "            for j in range(min(len(output_ab), 10)): # save at most 5 images\n",
    "                save_path = {'grayscale': gray_imgs, 'colorized': color_imgs}\n",
    "                save_name = 'img-{}-epoch-{}.jpg'.format(j, epoch)\n",
    "                to_rgb(gray[j].cpu(), ab_input=output_ab[j].detach().cpu(), save_path=save_path, save_name=save_name)\n",
    "\n",
    "    print(f'Validate: MSE {_loss[0].val:.8f} ({_loss[0].avg:.8f}), PSNR {_loss[1].val:.8f} ({_loss[1].avg:.8f}), SSIM {_loss[2].val:.8f} ({_loss[2].avg:.8f})')\n",
    "\n",
    "    print('Finished validation.')\n",
    "    if epoch >= 0:\n",
    "        writer.add_scalar(\"MSE/test\", _loss[0].avg, epoch)\n",
    "        writer.add_scalar(\"PSNR/test\", _loss[1].avg, epoch)\n",
    "        writer.add_scalar(\"SSIM/test\", _loss[2].avg, epoch)\n",
    "    return _loss[0].avg, _loss[1].avg, _loss[2].avg"
   ]
  },
  {
   "cell_type": "code",
   "execution_count": 18,
   "metadata": {
    "id": "FOo__iEnvLMB"
   },
   "outputs": [],
   "source": [
    "def train(train_loader, model, criterion, optimizer, epoch):\n",
    "    print(f'Starting training epoch {epoch}')\n",
    "    _loss = [AverageMeter(), AverageMeter(), AverageMeter()]\n",
    "    \n",
    "    model.train()\n",
    "\n",
    "    for gray, ab in train_loader:\n",
    "        if use_gpu: \n",
    "            gray, ab = gray.cuda(), ab.cuda()\n",
    "            \n",
    "        optimizer.zero_grad()\n",
    "\n",
    "        output_ab = model(gray) \n",
    "        loss = [criterion[0](output_ab, ab), criterion[1](output_ab, ab), criterion[2](output_ab, ab)]\n",
    "        \n",
    "        loss[0].backward()\n",
    "        optimizer.step()\n",
    "        \n",
    "        _loss[0].update(loss[0].item(), gray.size(0))\n",
    "        _loss[1].update(loss[1].item(), gray.size(0))\n",
    "        _loss[2].update(loss[2].item(), gray.size(0))\n",
    "        \n",
    "    print(f'Epoch: {epoch}, MSE {_loss[0].val:.8f} ({_loss[0].avg:.8f}), PSNR {_loss[1].val:.8f} ({_loss[1].avg:.8f}), SSIM {_loss[2].val:.8f} ({_loss[2].avg:.8f})')\n",
    "\n",
    "    print(f'Finished training epoch {epoch}')\n",
    "    if epoch >= 0:\n",
    "        writer.add_scalar(\"MSE/train\", _loss[0].avg, epoch)\n",
    "        writer.add_scalar(\"PSNR/train\", _loss[1].avg, epoch)\n",
    "        writer.add_scalar(\"SSIM/train\", _loss[2].avg, epoch)"
   ]
  },
  {
   "cell_type": "code",
   "execution_count": 19,
   "metadata": {
    "colab": {
     "base_uri": "https://localhost:8080/",
     "height": 625
    },
    "id": "XUR6ALi3AZoO",
    "outputId": "4b274c7b-fc1d-4e14-dc1f-a7ef93f3663f",
    "scrolled": true
   },
   "outputs": [
    {
     "name": "stdout",
     "output_type": "stream",
     "text": [
      "Starting training epoch 0\n",
      "Epoch: 0, MSE 0.01579515 (0.16102453), PSNR 18.01476288 (13.77749583), SSIM 0.21847618 (0.11140301)\n",
      "Finished training epoch 0\n",
      "Validate: MSE 0.00876218 (0.00640827), PSNR 20.57387924 (21.97239111), SSIM 0.37430716 (0.49390418)\n",
      "Finished validation.\n",
      "Starting training epoch 1\n",
      "Epoch: 1, MSE 0.00751342 (0.01071239), PSNR 21.24162292 (19.77268370), SSIM 0.53342354 (0.42452353)\n",
      "Finished training epoch 1\n",
      "Validate: MSE 0.00378541 (0.00304306), PSNR 24.21887016 (25.24605891), SSIM 0.68414509 (0.76413183)\n",
      "Finished validation.\n",
      "Starting training epoch 2\n",
      "Epoch: 2, MSE 0.00597144 (0.00670460), PSNR 22.23920631 (21.76585656), SSIM 0.57873458 (0.55396768)\n",
      "Finished training epoch 2\n",
      "Validate: MSE 0.00334013 (0.00281006), PSNR 24.76236725 (25.58433429), SSIM 0.69902939 (0.77490507)\n",
      "Finished validation.\n",
      "Starting training epoch 3\n",
      "Epoch: 3, MSE 0.00449400 (0.00499803), PSNR 23.47366714 (23.02723142), SSIM 0.61164105 (0.59628953)\n",
      "Finished training epoch 3\n",
      "Validate: MSE 0.00366516 (0.00295629), PSNR 24.35907173 (25.35579512), SSIM 0.70026457 (0.77115082)\n",
      "Finished validation.\n",
      "Starting training epoch 4\n",
      "Epoch: 4, MSE 0.00475369 (0.00415028), PSNR 23.22968674 (23.83489464), SSIM 0.63093585 (0.62542258)\n",
      "Finished training epoch 4\n",
      "Validate: MSE 0.00338965 (0.00297553), PSNR 24.69844818 (25.33797828), SSIM 0.70000899 (0.77376610)\n",
      "Finished validation.\n",
      "Starting training epoch 5\n",
      "Epoch: 5, MSE 0.00384004 (0.00378842), PSNR 24.15664101 (24.23626126), SSIM 0.65391862 (0.64724715)\n",
      "Finished training epoch 5\n",
      "Validate: MSE 0.00338425 (0.00299631), PSNR 24.70536995 (25.32646565), SSIM 0.69262600 (0.77030902)\n",
      "Finished validation.\n",
      "Starting training epoch 6\n",
      "Epoch: 6, MSE 0.00601329 (0.00379119), PSNR 22.20887756 (24.27509341), SSIM 0.63350523 (0.66237977)\n",
      "Finished training epoch 6\n",
      "Validate: MSE 0.00380911 (0.00306798), PSNR 24.19176292 (25.19068888), SSIM 0.69730288 (0.76674419)\n",
      "Finished validation.\n",
      "Starting training epoch 7\n",
      "Epoch: 7, MSE 0.00372502 (0.00418439), PSNR 24.28871346 (24.00922747), SSIM 0.66998518 (0.66997161)\n",
      "Finished training epoch 7\n",
      "Validate: MSE 0.00388835 (0.00313437), PSNR 24.10234833 (25.12504213), SSIM 0.69730747 (0.76543978)\n",
      "Finished validation.\n",
      "Starting training epoch 8\n",
      "Epoch: 8, MSE 0.00418513 (0.00430851), PSNR 23.78291130 (23.85273929), SSIM 0.67832297 (0.67909160)\n",
      "Finished training epoch 8\n",
      "Validate: MSE 0.00759978 (0.00829514), PSNR 21.19198799 (20.99135784), SSIM 0.61890483 (0.71231493)\n",
      "Finished validation.\n",
      "Starting training epoch 9\n",
      "Epoch: 9, MSE 0.00396288 (0.00471339), PSNR 24.01988792 (23.60240811), SSIM 0.69256258 (0.68289530)\n",
      "Finished training epoch 9\n",
      "Validate: MSE 0.00464814 (0.00373526), PSNR 23.32720757 (24.32568640), SSIM 0.68143034 (0.74893573)\n",
      "Finished validation.\n",
      "Starting training epoch 10\n",
      "Epoch: 10, MSE 0.00351626 (0.00440711), PSNR 24.53919220 (24.03676531), SSIM 0.70112187 (0.69621288)\n",
      "Finished training epoch 10\n",
      "Validate: MSE 0.00367936 (0.00323413), PSNR 24.34227943 (24.97519831), SSIM 0.69635493 (0.76806043)\n",
      "Finished validation.\n",
      "Starting training epoch 11\n",
      "Epoch: 11, MSE 0.00348758 (0.00475886), PSNR 24.57476425 (23.53017752), SSIM 0.70267874 (0.69283731)\n",
      "Finished training epoch 11\n",
      "Validate: MSE 0.00364778 (0.00294706), PSNR 24.37971306 (25.38804599), SSIM 0.70491493 (0.77588238)\n",
      "Finished validation.\n",
      "Starting training epoch 12\n",
      "Epoch: 12, MSE 0.00713303 (0.00501194), PSNR 21.46726227 (23.49914838), SSIM 0.65100861 (0.69250589)\n",
      "Finished training epoch 12\n",
      "Validate: MSE 0.01268893 (0.01377941), PSNR 18.96574974 (18.66559115), SSIM 0.50979519 (0.60148392)\n",
      "Finished validation.\n",
      "Starting training epoch 13\n",
      "Epoch: 13, MSE 0.00337347 (0.00393617), PSNR 24.71923065 (24.28036583), SSIM 0.72667116 (0.70779138)\n",
      "Finished training epoch 13\n",
      "Validate: MSE 0.00821651 (0.00684225), PSNR 20.85312653 (21.72931166), SSIM 0.64994502 (0.71693434)\n",
      "Finished validation.\n",
      "Starting training epoch 14\n",
      "Epoch: 14, MSE 0.00292784 (0.00434564), PSNR 25.33452034 (23.92921946), SSIM 0.72633785 (0.70394229)\n",
      "Finished training epoch 14\n",
      "Validate: MSE 0.00603777 (0.00474673), PSNR 22.19123459 (23.29095600), SSIM 0.67134106 (0.74357897)\n",
      "Finished validation.\n",
      "Starting training epoch 15\n",
      "Epoch: 15, MSE 0.00393671 (0.00482871), PSNR 24.04866028 (23.58537800), SSIM 0.70007902 (0.69963663)\n",
      "Finished training epoch 15\n",
      "Validate: MSE 0.00806845 (0.00652354), PSNR 20.93209839 (21.97132200), SSIM 0.68373847 (0.75556052)\n",
      "Finished validation.\n",
      "Starting training epoch 16\n",
      "Epoch: 16, MSE 0.00754822 (0.00412256), PSNR 21.22155190 (24.13023540), SSIM 0.66155559 (0.70985029)\n",
      "Finished training epoch 16\n",
      "Validate: MSE 0.01280769 (0.01156132), PSNR 18.92529106 (19.41710822), SSIM 0.59736967 (0.66928596)\n",
      "Finished validation.\n",
      "Starting training epoch 17\n",
      "Epoch: 17, MSE 0.00270348 (0.00453189), PSNR 25.68076515 (23.78930208), SSIM 0.72953343 (0.70488770)\n",
      "Finished training epoch 17\n",
      "Validate: MSE 0.00868944 (0.00680832), PSNR 20.61008072 (21.78288079), SSIM 0.65244615 (0.73681331)\n",
      "Finished validation.\n",
      "Starting training epoch 18\n",
      "Epoch: 18, MSE 0.00356178 (0.00410125), PSNR 24.48333168 (24.15322807), SSIM 0.71120876 (0.71195179)\n",
      "Finished training epoch 18\n",
      "Validate: MSE 0.00498072 (0.00480898), PSNR 23.02707863 (23.34177936), SSIM 0.63387692 (0.72371825)\n",
      "Finished validation.\n",
      "Starting training epoch 19\n",
      "Epoch: 19, MSE 0.00268893 (0.00437451), PSNR 25.70420647 (24.12165881), SSIM 0.74265152 (0.70870305)\n",
      "Finished training epoch 19\n",
      "Validate: MSE 0.00418617 (0.00335498), PSNR 23.78183365 (24.84126082), SSIM 0.69757652 (0.76584741)\n",
      "Finished validation.\n",
      "Starting training epoch 20\n",
      "Epoch: 20, MSE 0.00277443 (0.00421925), PSNR 25.56825447 (24.12598502), SSIM 0.74561113 (0.71013457)\n",
      "Finished training epoch 20\n",
      "Validate: MSE 0.00395511 (0.00320271), PSNR 24.02840996 (25.02892546), SSIM 0.69540185 (0.76331532)\n",
      "Finished validation.\n",
      "Starting training epoch 21\n",
      "Epoch: 21, MSE 0.00520663 (0.00411164), PSNR 22.83443069 (24.12745702), SSIM 0.69039047 (0.71080472)\n",
      "Finished training epoch 21\n",
      "Validate: MSE 0.00432250 (0.00434254), PSNR 23.64265060 (23.71316459), SSIM 0.65127087 (0.73832632)\n",
      "Finished validation.\n",
      "Starting training epoch 22\n",
      "Epoch: 22, MSE 0.00247479 (0.00404700), PSNR 26.06461716 (24.23474484), SSIM 0.74461377 (0.71316658)\n",
      "Finished training epoch 22\n",
      "Validate: MSE 0.00358500 (0.00305593), PSNR 24.45511055 (25.21518692), SSIM 0.67357051 (0.75728106)\n",
      "Finished validation.\n",
      "Starting training epoch 23\n",
      "Epoch: 23, MSE 0.00256776 (0.00401107), PSNR 25.90446091 (24.20931087), SSIM 0.74897230 (0.71364717)\n",
      "Finished training epoch 23\n",
      "Validate: MSE 0.00329593 (0.00325453), PSNR 24.82021904 (24.97458811), SSIM 0.68856019 (0.76671136)\n",
      "Finished validation.\n",
      "Starting training epoch 24\n",
      "Epoch: 24, MSE 0.00307124 (0.00379209), PSNR 25.12685776 (24.50705092), SSIM 0.74993598 (0.71916403)\n",
      "Finished training epoch 24\n",
      "Validate: MSE 0.00391860 (0.00407411), PSNR 24.06868553 (23.98989298), SSIM 0.67353064 (0.75101393)\n",
      "Finished validation.\n",
      "Starting training epoch 25\n",
      "Epoch: 25, MSE 0.00337272 (0.00369250), PSNR 24.72019005 (24.49799653), SSIM 0.70602596 (0.72042519)\n",
      "Finished training epoch 25\n",
      "Validate: MSE 0.00393031 (0.00334839), PSNR 24.05573463 (24.83477775), SSIM 0.67907345 (0.74668731)\n",
      "Finished validation.\n",
      "Starting training epoch 26\n",
      "Epoch: 26, MSE 0.00339026 (0.00377154), PSNR 24.69766426 (24.58518188), SSIM 0.73665458 (0.72127336)\n",
      "Finished training epoch 26\n",
      "Validate: MSE 0.00363151 (0.00339308), PSNR 24.39912033 (24.79615178), SSIM 0.66127855 (0.74714529)\n",
      "Finished validation.\n",
      "Starting training epoch 27\n",
      "Epoch: 27, MSE 0.00413519 (0.00357513), PSNR 23.83504105 (24.67468450), SSIM 0.69533110 (0.72788025)\n",
      "Finished training epoch 27\n",
      "Validate: MSE 0.00444865 (0.00356747), PSNR 23.51771545 (24.55126846), SSIM 0.67857474 (0.74948965)\n",
      "Finished validation.\n",
      "Starting training epoch 28\n",
      "Epoch: 28, MSE 0.00283821 (0.00347401), PSNR 25.46956062 (24.79137187), SSIM 0.73504406 (0.72829665)\n",
      "Finished training epoch 28\n",
      "Validate: MSE 0.00322182 (0.00310506), PSNR 24.91898918 (25.18037290), SSIM 0.69814402 (0.77406026)\n",
      "Finished validation.\n",
      "Starting training epoch 29\n",
      "Epoch: 29, MSE 0.00372918 (0.00315637), PSNR 24.28386879 (25.13675379), SSIM 0.73553073 (0.73902229)\n",
      "Finished training epoch 29\n",
      "Validate: MSE 0.00422824 (0.00389602), PSNR 23.73840523 (24.15124888), SSIM 0.65105820 (0.72518610)\n",
      "Finished validation.\n",
      "Starting training epoch 30\n"
     ]
    },
    {
     "name": "stdout",
     "output_type": "stream",
     "text": [
      "Epoch: 30, MSE 0.00289964 (0.00311555), PSNR 25.37655640 (25.17379223), SSIM 0.76591700 (0.74231376)\n",
      "Finished training epoch 30\n",
      "Validate: MSE 0.00334742 (0.00292694), PSNR 24.75289154 (25.41130697), SSIM 0.70418531 (0.77535697)\n",
      "Finished validation.\n",
      "Starting training epoch 31\n",
      "Epoch: 31, MSE 0.00361930 (0.00340949), PSNR 24.41375923 (24.83173038), SSIM 0.72683012 (0.72955913)\n",
      "Finished training epoch 31\n",
      "Validate: MSE 0.00357439 (0.00307057), PSNR 24.46797562 (25.19720572), SSIM 0.66544580 (0.74753260)\n",
      "Finished validation.\n",
      "Starting training epoch 32\n",
      "Epoch: 32, MSE 0.00317664 (0.00301087), PSNR 24.98032570 (25.28118221), SSIM 0.70798969 (0.74071470)\n",
      "Finished training epoch 32\n",
      "Validate: MSE 0.00351382 (0.00298796), PSNR 24.54220390 (25.32084614), SSIM 0.68931615 (0.75691785)\n",
      "Finished validation.\n",
      "Starting training epoch 33\n",
      "Epoch: 33, MSE 0.00230920 (0.00296705), PSNR 26.36538315 (25.33933406), SSIM 0.77667969 (0.74306791)\n",
      "Finished training epoch 33\n",
      "Validate: MSE 0.00318705 (0.00283896), PSNR 24.96610641 (25.56066845), SSIM 0.70026851 (0.77569692)\n",
      "Finished validation.\n",
      "Starting training epoch 34\n",
      "Epoch: 34, MSE 0.00472038 (0.00285539), PSNR 23.26022720 (25.51778567), SSIM 0.69195175 (0.74571347)\n",
      "Finished training epoch 34\n",
      "Validate: MSE 0.00524146 (0.00422877), PSNR 22.80547714 (23.82732160), SSIM 0.67189777 (0.73932472)\n",
      "Finished validation.\n",
      "Starting training epoch 35\n",
      "Epoch: 35, MSE 0.00305850 (0.00282398), PSNR 25.14490700 (25.54987734), SSIM 0.74227321 (0.74543139)\n",
      "Finished training epoch 35\n",
      "Validate: MSE 0.00388011 (0.00362767), PSNR 24.11155701 (24.47409602), SSIM 0.65652055 (0.73151855)\n",
      "Finished validation.\n",
      "Starting training epoch 36\n",
      "Epoch: 36, MSE 0.00248814 (0.00285887), PSNR 26.04125786 (25.49496763), SSIM 0.76160932 (0.74176175)\n",
      "Finished training epoch 36\n",
      "Validate: MSE 0.00319001 (0.00273416), PSNR 24.96207809 (25.70776870), SSIM 0.70752680 (0.77770650)\n",
      "Finished validation.\n",
      "Starting training epoch 37\n",
      "Epoch: 37, MSE 0.00321043 (0.00275311), PSNR 24.93436241 (25.64228396), SSIM 0.72736436 (0.74581993)\n",
      "Finished training epoch 37\n",
      "Validate: MSE 0.00400193 (0.00421735), PSNR 23.97730637 (23.90988124), SSIM 0.66843086 (0.75258333)\n",
      "Finished validation.\n",
      "Starting training epoch 38\n",
      "Epoch: 38, MSE 0.00310579 (0.00287449), PSNR 25.07827950 (25.47261168), SSIM 0.69170284 (0.73811336)\n",
      "Finished training epoch 38\n",
      "Validate: MSE 0.00484982 (0.00529879), PSNR 23.14274025 (22.89922108), SSIM 0.67689818 (0.74962928)\n",
      "Finished validation.\n",
      "Starting training epoch 39\n",
      "Epoch: 39, MSE 0.00290614 (0.00293580), PSNR 25.36683464 (25.39863758), SSIM 0.73936772 (0.73311362)\n",
      "Finished training epoch 39\n",
      "Validate: MSE 0.00421519 (0.00358677), PSNR 23.75183105 (24.50591218), SSIM 0.70064104 (0.77126359)\n",
      "Finished validation.\n",
      "Starting training epoch 40\n",
      "Epoch: 40, MSE 0.00297860 (0.00276967), PSNR 25.25988388 (25.61797032), SSIM 0.74050665 (0.73741606)\n",
      "Finished training epoch 40\n",
      "Validate: MSE 0.00303420 (0.00298706), PSNR 25.17956161 (25.34940771), SSIM 0.70369309 (0.77021623)\n",
      "Finished validation.\n",
      "Starting training epoch 41\n",
      "Epoch: 41, MSE 0.00300597 (0.00285394), PSNR 25.22014618 (25.49462889), SSIM 0.73122478 (0.73156895)\n",
      "Finished training epoch 41\n",
      "Validate: MSE 0.00322994 (0.00308611), PSNR 24.90806007 (25.23101869), SSIM 0.69924819 (0.77488530)\n",
      "Finished validation.\n",
      "Starting training epoch 42\n",
      "Epoch: 42, MSE 0.00337760 (0.00296981), PSNR 24.71391296 (25.33078479), SSIM 0.70570052 (0.72055787)\n",
      "Finished training epoch 42\n",
      "Validate: MSE 0.00475799 (0.00504301), PSNR 23.22576714 (23.14136196), SSIM 0.66919434 (0.74969151)\n",
      "Finished validation.\n",
      "Starting training epoch 43\n",
      "Epoch: 43, MSE 0.00410639 (0.00283247), PSNR 23.86540031 (25.52944513), SSIM 0.71719140 (0.72682313)\n",
      "Finished training epoch 43\n",
      "Validate: MSE 0.00337524 (0.00346062), PSNR 24.71695328 (24.73342193), SSIM 0.67851597 (0.75303537)\n",
      "Finished validation.\n",
      "Starting training epoch 44\n",
      "Epoch: 44, MSE 0.00224728 (0.00288382), PSNR 26.48343277 (25.44917041), SSIM 0.73517299 (0.72167359)\n",
      "Finished training epoch 44\n",
      "Validate: MSE 0.00417283 (0.00479028), PSNR 23.79569244 (23.34842794), SSIM 0.70104718 (0.76723152)\n",
      "Finished validation.\n",
      "Starting training epoch 45\n",
      "Epoch: 45, MSE 0.00237006 (0.00305325), PSNR 26.25239563 (25.24468201), SSIM 0.72854751 (0.70536498)\n",
      "Finished training epoch 45\n",
      "Validate: MSE 0.00576476 (0.00593954), PSNR 22.39218903 (22.43858834), SSIM 0.60660213 (0.70017699)\n",
      "Finished validation.\n",
      "Starting training epoch 46\n",
      "Epoch: 46, MSE 0.00255292 (0.00281199), PSNR 25.92963028 (25.56385068), SSIM 0.73293114 (0.71991239)\n",
      "Finished training epoch 46\n",
      "Validate: MSE 0.00386572 (0.00398556), PSNR 24.12769699 (24.09663771), SSIM 0.65359962 (0.72300400)\n",
      "Finished validation.\n",
      "Starting training epoch 47\n",
      "Epoch: 47, MSE 0.00258047 (0.00282121), PSNR 25.88301659 (25.55958744), SSIM 0.73608369 (0.71884392)\n",
      "Finished training epoch 47\n"
     ]
    },
    {
     "name": "stderr",
     "output_type": "stream",
     "text": [
      "/home/konrad/.local/lib/python3.10/site-packages/skimage/_shared/utils.py:394: UserWarning: Color data out of range: Z < 0 in 19 pixels\n",
      "  return func(*args, **kwargs)\n"
     ]
    },
    {
     "name": "stdout",
     "output_type": "stream",
     "text": [
      "Validate: MSE 0.00456892 (0.00485047), PSNR 23.40186119 (23.25197393), SSIM 0.63362682 (0.69772698)\n",
      "Finished validation.\n",
      "Starting training epoch 48\n",
      "Epoch: 48, MSE 0.00303975 (0.00286211), PSNR 25.17162704 (25.47426622), SSIM 0.70813257 (0.71647102)\n",
      "Finished training epoch 48\n",
      "Validate: MSE 0.00343896 (0.00334391), PSNR 24.63572884 (24.87430264), SSIM 0.68107814 (0.76245477)\n",
      "Finished validation.\n",
      "Starting training epoch 49\n",
      "Epoch: 49, MSE 0.00263400 (0.00278673), PSNR 25.79384804 (25.59798874), SSIM 0.71400452 (0.72087612)\n",
      "Finished training epoch 49\n",
      "Validate: MSE 0.00404687 (0.00430781), PSNR 23.92880440 (23.78978765), SSIM 0.67499977 (0.74104920)\n",
      "Finished validation.\n",
      "Starting training epoch 50\n",
      "Epoch: 50, MSE 0.00317968 (0.00296350), PSNR 24.97616196 (25.35614650), SSIM 0.72358710 (0.70745784)\n",
      "Finished training epoch 50\n",
      "Validate: MSE 0.00389420 (0.00398417), PSNR 24.09581566 (24.16288121), SSIM 0.68919998 (0.76769037)\n",
      "Finished validation.\n",
      "Starting training epoch 51\n",
      "Epoch: 51, MSE 0.00254284 (0.00275636), PSNR 25.94680405 (25.63126623), SSIM 0.70804441 (0.72014093)\n",
      "Finished training epoch 51\n",
      "Validate: MSE 0.00331964 (0.00337993), PSNR 24.78908348 (24.84658390), SSIM 0.70595151 (0.77505479)\n",
      "Finished validation.\n",
      "Starting training epoch 52\n",
      "Epoch: 52, MSE 0.00331957 (0.00293529), PSNR 24.78918266 (25.38280195), SSIM 0.72978091 (0.70895587)\n",
      "Finished training epoch 52\n",
      "Validate: MSE 0.00670106 (0.00627602), PSNR 21.73856544 (22.18000968), SSIM 0.57772291 (0.67398013)\n",
      "Finished validation.\n",
      "Starting training epoch 53\n",
      "Epoch: 53, MSE 0.00261905 (0.00289217), PSNR 25.81855774 (25.45445643), SSIM 0.71719563 (0.70681315)\n",
      "Finished training epoch 53\n",
      "Validate: MSE 0.00313368 (0.00291663), PSNR 25.03944969 (25.42632455), SSIM 0.70371807 (0.77280160)\n",
      "Finished validation.\n",
      "Starting training epoch 54\n",
      "Epoch: 54, MSE 0.00285776 (0.00290676), PSNR 25.43974686 (25.45712698), SSIM 0.72657692 (0.71305297)\n",
      "Finished training epoch 54\n",
      "Validate: MSE 0.00616146 (0.00523361), PSNR 22.10316658 (22.86160664), SSIM 0.61815786 (0.68669942)\n",
      "Finished validation.\n",
      "Starting training epoch 55\n",
      "Epoch: 55, MSE 0.00397305 (0.00298262), PSNR 24.00875664 (25.33462189), SSIM 0.65072775 (0.70307428)\n",
      "Finished training epoch 55\n",
      "Validate: MSE 0.00430633 (0.00440467), PSNR 23.65892792 (23.72430878), SSIM 0.68409997 (0.76266938)\n",
      "Finished validation.\n",
      "Starting training epoch 56\n",
      "Epoch: 56, MSE 0.00224630 (0.00271175), PSNR 26.48533058 (25.70631957), SSIM 0.72320712 (0.72107495)\n",
      "Finished training epoch 56\n",
      "Validate: MSE 0.00384100 (0.00327328), PSNR 24.15555763 (24.90578781), SSIM 0.65071452 (0.71768221)\n",
      "Finished validation.\n",
      "Starting training epoch 57\n",
      "Epoch: 57, MSE 0.00280981 (0.00280758), PSNR 25.51322746 (25.55824028), SSIM 0.71979868 (0.71685488)\n",
      "Finished training epoch 57\n",
      "Validate: MSE 0.00583551 (0.00571332), PSNR 22.33921051 (22.60246927), SSIM 0.59145856 (0.68746907)\n",
      "Finished validation.\n",
      "Starting training epoch 58\n",
      "Epoch: 58, MSE 0.00263967 (0.00305216), PSNR 25.78451157 (25.27311962), SSIM 0.72163522 (0.69817924)\n",
      "Finished training epoch 58\n",
      "Validate: MSE 0.00434851 (0.00428704), PSNR 23.61659813 (23.79195736), SSIM 0.67043328 (0.73742281)\n",
      "Finished validation.\n",
      "Starting training epoch 59\n",
      "Epoch: 59, MSE 0.00305683 (0.00275416), PSNR 25.14728928 (25.64546009), SSIM 0.71283710 (0.72211279)\n",
      "Finished training epoch 59\n",
      "Validate: MSE 0.00592316 (0.00578453), PSNR 22.27446175 (22.53321153), SSIM 0.61823547 (0.70976424)\n",
      "Finished validation.\n",
      "Starting training epoch 60\n",
      "Epoch: 60, MSE 0.00293407 (0.00293354), PSNR 25.32528687 (25.41749777), SSIM 0.59108472 (0.70280852)\n",
      "Finished training epoch 60\n",
      "Validate: MSE 0.00360635 (0.00369296), PSNR 24.42932510 (24.43822447), SSIM 0.66522437 (0.73401242)\n",
      "Finished validation.\n",
      "Starting training epoch 61\n",
      "Epoch: 61, MSE 0.00303356 (0.00273629), PSNR 25.18047523 (25.66626479), SSIM 0.69522762 (0.71903617)\n",
      "Finished training epoch 61\n"
     ]
    },
    {
     "name": "stderr",
     "output_type": "stream",
     "text": [
      "/home/konrad/.local/lib/python3.10/site-packages/skimage/_shared/utils.py:394: UserWarning: Color data out of range: Z < 0 in 81 pixels\n",
      "  return func(*args, **kwargs)\n",
      "/home/konrad/.local/lib/python3.10/site-packages/skimage/_shared/utils.py:394: UserWarning: Color data out of range: Z < 0 in 102 pixels\n",
      "  return func(*args, **kwargs)\n",
      "/home/konrad/.local/lib/python3.10/site-packages/skimage/_shared/utils.py:394: UserWarning: Color data out of range: Z < 0 in 174 pixels\n",
      "  return func(*args, **kwargs)\n",
      "/home/konrad/.local/lib/python3.10/site-packages/skimage/_shared/utils.py:394: UserWarning: Color data out of range: Z < 0 in 44 pixels\n",
      "  return func(*args, **kwargs)\n",
      "/home/konrad/.local/lib/python3.10/site-packages/skimage/_shared/utils.py:394: UserWarning: Color data out of range: Z < 0 in 441 pixels\n",
      "  return func(*args, **kwargs)\n",
      "/home/konrad/.local/lib/python3.10/site-packages/skimage/_shared/utils.py:394: UserWarning: Color data out of range: Z < 0 in 116 pixels\n",
      "  return func(*args, **kwargs)\n"
     ]
    },
    {
     "name": "stdout",
     "output_type": "stream",
     "text": [
      "Validate: MSE 0.01040766 (0.00955157), PSNR 19.82646942 (20.23363876), SSIM 0.51055324 (0.58728012)\n",
      "Finished validation.\n",
      "Starting training epoch 62\n",
      "Epoch: 62, MSE 0.00281005 (0.00285706), PSNR 25.51285744 (25.50912763), SSIM 0.72569960 (0.71361512)\n",
      "Finished training epoch 62\n",
      "Validate: MSE 0.01043666 (0.01130649), PSNR 19.81438255 (19.57906034), SSIM 0.64285851 (0.72320781)\n",
      "Finished validation.\n",
      "Starting training epoch 63\n",
      "Epoch: 63, MSE 0.00353289 (0.00284981), PSNR 24.51870155 (25.49805151), SSIM 0.69105160 (0.71102785)\n",
      "Finished training epoch 63\n",
      "Validate: MSE 0.00796952 (0.00659340), PSNR 20.98567772 (21.87148614), SSIM 0.49372002 (0.58377812)\n",
      "Finished validation.\n",
      "Starting training epoch 64\n",
      "Epoch: 64, MSE 0.00241955 (0.00267649), PSNR 26.16265488 (25.76253257), SSIM 0.72250104 (0.72490759)\n",
      "Finished training epoch 64\n"
     ]
    },
    {
     "name": "stderr",
     "output_type": "stream",
     "text": [
      "/home/konrad/.local/lib/python3.10/site-packages/skimage/_shared/utils.py:394: UserWarning: Color data out of range: Z < 0 in 3 pixels\n",
      "  return func(*args, **kwargs)\n",
      "/home/konrad/.local/lib/python3.10/site-packages/skimage/_shared/utils.py:394: UserWarning: Color data out of range: Z < 0 in 62 pixels\n",
      "  return func(*args, **kwargs)\n",
      "/home/konrad/.local/lib/python3.10/site-packages/skimage/_shared/utils.py:394: UserWarning: Color data out of range: Z < 0 in 1 pixels\n",
      "  return func(*args, **kwargs)\n",
      "/home/konrad/.local/lib/python3.10/site-packages/skimage/_shared/utils.py:394: UserWarning: Color data out of range: Z < 0 in 356 pixels\n",
      "  return func(*args, **kwargs)\n",
      "/home/konrad/.local/lib/python3.10/site-packages/skimage/_shared/utils.py:394: UserWarning: Color data out of range: Z < 0 in 28 pixels\n",
      "  return func(*args, **kwargs)\n"
     ]
    },
    {
     "name": "stdout",
     "output_type": "stream",
     "text": [
      "Validate: MSE 0.00529193 (0.00523775), PSNR 22.76385689 (22.88924182), SSIM 0.64666104 (0.71185264)\n",
      "Finished validation.\n",
      "Starting training epoch 65\n",
      "Epoch: 65, MSE 0.00294622 (0.00281880), PSNR 25.30734253 (25.55088234), SSIM 0.70191562 (0.71209656)\n",
      "Finished training epoch 65\n"
     ]
    },
    {
     "name": "stderr",
     "output_type": "stream",
     "text": [
      "/home/konrad/.local/lib/python3.10/site-packages/skimage/_shared/utils.py:394: UserWarning: Color data out of range: Z < 0 in 40 pixels\n",
      "  return func(*args, **kwargs)\n",
      "/home/konrad/.local/lib/python3.10/site-packages/skimage/_shared/utils.py:394: UserWarning: Color data out of range: Z < 0 in 94 pixels\n",
      "  return func(*args, **kwargs)\n",
      "/home/konrad/.local/lib/python3.10/site-packages/skimage/_shared/utils.py:394: UserWarning: Color data out of range: Z < 0 in 27 pixels\n",
      "  return func(*args, **kwargs)\n",
      "/home/konrad/.local/lib/python3.10/site-packages/skimage/_shared/utils.py:394: UserWarning: Color data out of range: Z < 0 in 31 pixels\n",
      "  return func(*args, **kwargs)\n",
      "/home/konrad/.local/lib/python3.10/site-packages/skimage/_shared/utils.py:394: UserWarning: Color data out of range: Z < 0 in 430 pixels\n",
      "  return func(*args, **kwargs)\n",
      "/home/konrad/.local/lib/python3.10/site-packages/skimage/_shared/utils.py:394: UserWarning: Color data out of range: Z < 0 in 79 pixels\n",
      "  return func(*args, **kwargs)\n"
     ]
    },
    {
     "name": "stdout",
     "output_type": "stream",
     "text": [
      "Validate: MSE 0.00671264 (0.00627027), PSNR 21.73106575 (22.08659934), SSIM 0.55701536 (0.63231635)\n",
      "Finished validation.\n",
      "Starting training epoch 66\n",
      "Epoch: 66, MSE 0.00290985 (0.00284108), PSNR 25.36129379 (25.50705967), SSIM 0.72699690 (0.70806970)\n",
      "Finished training epoch 66\n",
      "Validate: MSE 0.00567411 (0.00599176), PSNR 22.46102333 (22.38149716), SSIM 0.62447810 (0.70482333)\n",
      "Finished validation.\n",
      "Starting training epoch 67\n",
      "Epoch: 67, MSE 0.00412855 (0.00293311), PSNR 23.84202194 (25.40249501), SSIM 0.56877059 (0.70169991)\n",
      "Finished training epoch 67\n",
      "Validate: MSE 0.00783565 (0.00652175), PSNR 21.05925179 (21.86926026), SSIM 0.47660613 (0.56791509)\n",
      "Finished validation.\n",
      "Starting training epoch 68\n",
      "Epoch: 68, MSE 0.00285481 (0.00277530), PSNR 25.44422913 (25.63575580), SSIM 0.71407282 (0.71640291)\n",
      "Finished training epoch 68\n",
      "Validate: MSE 0.00475708 (0.00474491), PSNR 23.22659111 (23.36603164), SSIM 0.68695146 (0.75980035)\n",
      "Finished validation.\n",
      "Starting training epoch 69\n",
      "Epoch: 69, MSE 0.00213567 (0.00279979), PSNR 26.70465469 (25.58981859), SSIM 0.73136115 (0.71348863)\n",
      "Finished training epoch 69\n",
      "Validate: MSE 0.00574392 (0.00586209), PSNR 22.40791893 (22.47310597), SSIM 0.65701950 (0.73980295)\n",
      "Finished validation.\n",
      "Starting training epoch 70\n",
      "Epoch: 70, MSE 0.00261308 (0.00265407), PSNR 25.82847404 (25.79239669), SSIM 0.72829604 (0.72707034)\n",
      "Finished training epoch 70\n",
      "Validate: MSE 0.00555944 (0.00550534), PSNR 22.54968834 (22.72831126), SSIM 0.65923858 (0.74075199)\n",
      "Finished validation.\n",
      "Starting training epoch 71\n",
      "Epoch: 71, MSE 0.00215716 (0.00275125), PSNR 26.66118431 (25.64237835), SSIM 0.71793413 (0.71196376)\n",
      "Finished training epoch 71\n"
     ]
    },
    {
     "name": "stderr",
     "output_type": "stream",
     "text": [
      "/home/konrad/.local/lib/python3.10/site-packages/skimage/_shared/utils.py:394: UserWarning: Color data out of range: Z < 0 in 307 pixels\n",
      "  return func(*args, **kwargs)\n"
     ]
    },
    {
     "name": "stdout",
     "output_type": "stream",
     "text": [
      "Validate: MSE 0.00555000 (0.00555412), PSNR 22.55707359 (22.65645133), SSIM 0.67723775 (0.74231193)\n",
      "Finished validation.\n",
      "Starting training epoch 72\n",
      "Epoch: 72, MSE 0.00216674 (0.00269960), PSNR 26.64193726 (25.72409745), SSIM 0.73250854 (0.71708212)\n",
      "Finished training epoch 72\n",
      "Validate: MSE 0.00546608 (0.00582396), PSNR 22.62323952 (22.48317336), SSIM 0.67367852 (0.74321613)\n",
      "Finished validation.\n",
      "Starting training epoch 73\n",
      "Epoch: 73, MSE 0.00289580 (0.00266690), PSNR 25.38231850 (25.77491496), SSIM 0.74372286 (0.72184561)\n",
      "Finished training epoch 73\n",
      "Validate: MSE 0.00476023 (0.00510309), PSNR 23.22372055 (23.08670646), SSIM 0.67665112 (0.75393102)\n",
      "Finished validation.\n",
      "Starting training epoch 74\n",
      "Epoch: 74, MSE 0.00246539 (0.00272878), PSNR 26.08115005 (25.68633898), SSIM 0.73023212 (0.71557912)\n",
      "Finished training epoch 74\n"
     ]
    },
    {
     "name": "stderr",
     "output_type": "stream",
     "text": [
      "/home/konrad/.local/lib/python3.10/site-packages/skimage/_shared/utils.py:394: UserWarning: Color data out of range: Z < 0 in 15 pixels\n",
      "  return func(*args, **kwargs)\n",
      "/home/konrad/.local/lib/python3.10/site-packages/skimage/_shared/utils.py:394: UserWarning: Color data out of range: Z < 0 in 80 pixels\n",
      "  return func(*args, **kwargs)\n",
      "/home/konrad/.local/lib/python3.10/site-packages/skimage/_shared/utils.py:394: UserWarning: Color data out of range: Z < 0 in 373 pixels\n",
      "  return func(*args, **kwargs)\n",
      "/home/konrad/.local/lib/python3.10/site-packages/skimage/_shared/utils.py:394: UserWarning: Color data out of range: Z < 0 in 51 pixels\n",
      "  return func(*args, **kwargs)\n"
     ]
    },
    {
     "name": "stdout",
     "output_type": "stream",
     "text": [
      "Validate: MSE 0.00672279 (0.00640832), PSNR 21.72450447 (21.98732769), SSIM 0.57259637 (0.64144753)\n",
      "Finished validation.\n",
      "Starting training epoch 75\n",
      "Epoch: 75, MSE 0.00236272 (0.00277565), PSNR 26.26588058 (25.61036469), SSIM 0.73973101 (0.70896792)\n",
      "Finished training epoch 75\n",
      "Validate: MSE 0.00656484 (0.00677118), PSNR 21.82775497 (21.84780444), SSIM 0.63571978 (0.72293238)\n",
      "Finished validation.\n",
      "Starting training epoch 76\n",
      "Epoch: 76, MSE 0.00238362 (0.00260180), PSNR 26.22762680 (25.87480593), SSIM 0.75073874 (0.72599321)\n",
      "Finished training epoch 76\n",
      "Validate: MSE 0.00691301 (0.00727406), PSNR 21.60332870 (21.50073842), SSIM 0.65553558 (0.72695724)\n",
      "Finished validation.\n",
      "Starting training epoch 77\n",
      "Epoch: 77, MSE 0.00233271 (0.00279961), PSNR 26.32139778 (25.57208703), SSIM 0.73578477 (0.70879813)\n",
      "Finished training epoch 77\n",
      "Validate: MSE 0.00450952 (0.00467588), PSNR 23.45869255 (23.44110293), SSIM 0.69815481 (0.76671941)\n",
      "Finished validation.\n",
      "Starting training epoch 78\n",
      "Epoch: 78, MSE 0.00319841 (0.00268040), PSNR 24.95065689 (25.74450897), SSIM 0.71474826 (0.71860387)\n",
      "Finished training epoch 78\n"
     ]
    },
    {
     "name": "stderr",
     "output_type": "stream",
     "text": [
      "/home/konrad/.local/lib/python3.10/site-packages/skimage/_shared/utils.py:394: UserWarning: Color data out of range: Z < 0 in 39 pixels\n",
      "  return func(*args, **kwargs)\n",
      "/home/konrad/.local/lib/python3.10/site-packages/skimage/_shared/utils.py:394: UserWarning: Color data out of range: Z < 0 in 201 pixels\n",
      "  return func(*args, **kwargs)\n",
      "/home/konrad/.local/lib/python3.10/site-packages/skimage/_shared/utils.py:394: UserWarning: Color data out of range: Z < 0 in 9 pixels\n",
      "  return func(*args, **kwargs)\n"
     ]
    },
    {
     "name": "stdout",
     "output_type": "stream",
     "text": [
      "Validate: MSE 0.00984705 (0.00997594), PSNR 20.06693649 (20.09186264), SSIM 0.63138747 (0.70054598)\n",
      "Finished validation.\n",
      "Starting training epoch 79\n",
      "Epoch: 79, MSE 0.00312076 (0.00274764), PSNR 25.05739403 (25.64535313), SSIM 0.69872296 (0.71328950)\n",
      "Finished training epoch 79\n",
      "Validate: MSE 0.01166597 (0.01102862), PSNR 19.33079147 (19.65566320), SSIM 0.49196839 (0.57845925)\n",
      "Finished validation.\n",
      "Starting training epoch 80\n",
      "Epoch: 80, MSE 0.00361743 (0.00275008), PSNR 24.41599274 (25.65478955), SSIM 0.60798013 (0.71294378)\n",
      "Finished training epoch 80\n",
      "Validate: MSE 0.01052099 (0.00938587), PSNR 19.77943039 (20.34500561), SSIM 0.49517062 (0.56191199)\n",
      "Finished validation.\n",
      "Starting training epoch 81\n",
      "Epoch: 81, MSE 0.00230450 (0.00265830), PSNR 26.37423706 (25.79218319), SSIM 0.70592821 (0.72160543)\n",
      "Finished training epoch 81\n"
     ]
    },
    {
     "name": "stderr",
     "output_type": "stream",
     "text": [
      "/home/konrad/.local/lib/python3.10/site-packages/skimage/_shared/utils.py:394: UserWarning: Color data out of range: Z < 0 in 18 pixels\n",
      "  return func(*args, **kwargs)\n",
      "/home/konrad/.local/lib/python3.10/site-packages/skimage/_shared/utils.py:394: UserWarning: Color data out of range: Z < 0 in 86 pixels\n",
      "  return func(*args, **kwargs)\n",
      "/home/konrad/.local/lib/python3.10/site-packages/skimage/_shared/utils.py:394: UserWarning: Color data out of range: Z < 0 in 375 pixels\n",
      "  return func(*args, **kwargs)\n"
     ]
    },
    {
     "name": "stdout",
     "output_type": "stream",
     "text": [
      "Validate: MSE 0.00637851 (0.00636645), PSNR 21.95280838 (22.04023243), SSIM 0.62863839 (0.69522878)\n",
      "Finished validation.\n",
      "Starting training epoch 82\n",
      "Epoch: 82, MSE 0.00256450 (0.00278603), PSNR 25.90997314 (25.59986873), SSIM 0.72964841 (0.70843110)\n",
      "Finished training epoch 82\n",
      "Validate: MSE 0.00776600 (0.00768195), PSNR 21.09802246 (21.25263286), SSIM 0.62552369 (0.70565169)\n",
      "Finished validation.\n",
      "Starting training epoch 83\n",
      "Epoch: 83, MSE 0.00264693 (0.00265266), PSNR 25.77258301 (25.78914694), SSIM 0.68002123 (0.72223258)\n",
      "Finished training epoch 83\n",
      "Validate: MSE 0.00584350 (0.00625943), PSNR 22.33326721 (22.18998118), SSIM 0.61929476 (0.69868905)\n",
      "Finished validation.\n",
      "Starting training epoch 84\n",
      "Epoch: 84, MSE 0.00246485 (0.00269497), PSNR 26.08209038 (25.72984265), SSIM 0.69842017 (0.71480003)\n",
      "Finished training epoch 84\n",
      "Validate: MSE 0.00526012 (0.00531962), PSNR 22.79004478 (22.88782999), SSIM 0.65299380 (0.73294063)\n",
      "Finished validation.\n",
      "Starting training epoch 85\n",
      "Epoch: 85, MSE 0.00324970 (0.00281566), PSNR 24.88156700 (25.55119819), SSIM 0.69580770 (0.70753264)\n",
      "Finished training epoch 85\n"
     ]
    },
    {
     "name": "stderr",
     "output_type": "stream",
     "text": [
      "/home/konrad/.local/lib/python3.10/site-packages/skimage/_shared/utils.py:394: UserWarning: Color data out of range: Z < 0 in 22 pixels\n",
      "  return func(*args, **kwargs)\n"
     ]
    },
    {
     "name": "stdout",
     "output_type": "stream",
     "text": [
      "Validate: MSE 0.00588916 (0.00612008), PSNR 22.29946709 (22.24658584), SSIM 0.69598436 (0.76024268)\n",
      "Finished validation.\n",
      "Starting training epoch 86\n",
      "Epoch: 86, MSE 0.00291573 (0.00268977), PSNR 25.35253143 (25.73552865), SSIM 0.67452401 (0.71900296)\n",
      "Finished training epoch 86\n"
     ]
    },
    {
     "name": "stderr",
     "output_type": "stream",
     "text": [
      "/home/konrad/.local/lib/python3.10/site-packages/skimage/_shared/utils.py:394: UserWarning: Color data out of range: Z < 0 in 70 pixels\n",
      "  return func(*args, **kwargs)\n",
      "/home/konrad/.local/lib/python3.10/site-packages/skimage/_shared/utils.py:394: UserWarning: Color data out of range: Z < 0 in 103 pixels\n",
      "  return func(*args, **kwargs)\n",
      "/home/konrad/.local/lib/python3.10/site-packages/skimage/_shared/utils.py:394: UserWarning: Color data out of range: Z < 0 in 47 pixels\n",
      "  return func(*args, **kwargs)\n",
      "/home/konrad/.local/lib/python3.10/site-packages/skimage/_shared/utils.py:394: UserWarning: Color data out of range: Z < 0 in 400 pixels\n",
      "  return func(*args, **kwargs)\n",
      "/home/konrad/.local/lib/python3.10/site-packages/skimage/_shared/utils.py:394: UserWarning: Color data out of range: Z < 0 in 127 pixels\n",
      "  return func(*args, **kwargs)\n"
     ]
    },
    {
     "name": "stdout",
     "output_type": "stream",
     "text": [
      "Validate: MSE 0.01028118 (0.01062400), PSNR 19.87957001 (19.80110782), SSIM 0.59693164 (0.66068334)\n",
      "Finished validation.\n"
     ]
    },
    {
     "data": {
      "text/plain": [
       "<Figure size 432x288 with 0 Axes>"
      ]
     },
     "metadata": {},
     "output_type": "display_data"
    }
   ],
   "source": [
    "# Train model\n",
    "for epoch in range(epochs):\n",
    "    # Train for one epoch, then validate\n",
    "    train(train_loader, model, criterion, optimizer, epoch)\n",
    "    with torch.no_grad():\n",
    "        losses = validate(val_loader, model, criterion, save_images, epoch)\n",
    "    # Save checkpoint and replace old best model if current model is better\n",
    "    if losses[0] < best_losses[0]:\n",
    "        best_losses[0] = losses[0]\n",
    "        best_epoch = epoch\n",
    "        torch.save(model.state_dict(), f'{checkpoints}/epoch-{epoch}-MSELoss-{losses[0]:.8f}.pth')\n",
    "    if losses[1] < best_losses[1]:\n",
    "        best_losses[1] = losses[1]\n",
    "        torch.save(model.state_dict(), f'{checkpoints}/epoch-{epoch}-PSNRLoss-{losses[1]:.8f}.pth')\n",
    "    if losses[2] < best_losses[2]:\n",
    "        best_losses[2] = losses[2]\n",
    "        torch.save(model.state_dict(), f'{checkpoints}/epoch-{epoch}-SSIMLoss-{losses[2]:.8f}.pth')\n",
    "    \n",
    "    if epoch - best_epoch >= patience:\n",
    "        torch.save(model.state_dict(), f'{checkpoints}/epoch-{epoch}-MSELoss-{losses[0]:.8f}-early_stop.pth')\n",
    "        break\n",
    "    \n",
    "    if epoch == epochs - 1:\n",
    "        torch.save(model.state_dict(), f'{checkpoints}/epoch-{epoch}-last-{losses[0]:.8f}-{losses[1]:.8f}-{losses[2]:.8f}.pth')\n"
   ]
  },
  {
   "cell_type": "code",
   "execution_count": 20,
   "metadata": {
    "scrolled": true
   },
   "outputs": [],
   "source": [
    "torch.save(model.state_dict(), f'{checkpoints}/last-{losses[0]:.8f}-{losses[1]:.8f}-{losses[2]:.8f}.pth')"
   ]
  },
  {
   "cell_type": "code",
   "execution_count": 21,
   "metadata": {
    "colab": {
     "base_uri": "https://localhost:8080/",
     "height": 1593
    },
    "id": "UcovGnpHMl9D",
    "outputId": "90b7a2b4-dc03-4862-cf02-c7ddbbb7e500"
   },
   "outputs": [
    {
     "name": "stdout",
     "output_type": "stream",
     "text": [
      "Validate: MSE 0.01028118 (0.01062400), PSNR 19.87957001 (19.80110782), SSIM 0.59693158 (0.66068335)\n",
      "Finished validation.\n"
     ]
    },
    {
     "data": {
      "text/plain": [
       "<Figure size 432x288 with 0 Axes>"
      ]
     },
     "metadata": {},
     "output_type": "display_data"
    }
   ],
   "source": [
    "# Validate\n",
    "save_images = True\n",
    "with torch.no_grad():\n",
    "    validate(val_loader, model, criterion, save_images, -1)"
   ]
  },
  {
   "cell_type": "code",
   "execution_count": 22,
   "metadata": {},
   "outputs": [],
   "source": [
    "# # Show images \n",
    "# image_pairs = []\n",
    "\n",
    "# for i in range(10):\n",
    "#     image_pairs.append((f'{color_imgs}img-{i}-epoch-{best_epoch}.jpg', f'{gray_imgs}img-{i}-epoch-{best_epoch}.jpg'))\n",
    "    \n",
    "# for c, g in image_pairs:\n",
    "#   color = mpimg.imread(c)\n",
    "#   gray  = mpimg.imread(g)\n",
    "#   f, axarr = plt.subplots(1, 2)\n",
    "#   f.set_size_inches(15, 15)\n",
    "#   axarr[0].imshow(gray, cmap='gray')\n",
    "#   axarr[1].imshow(color)\n",
    "#   axarr[0].axis('off'), axarr[1].axis('off')\n",
    "#   plt.show()"
   ]
  },
  {
   "cell_type": "code",
   "execution_count": null,
   "metadata": {},
   "outputs": [],
   "source": []
  }
 ],
 "metadata": {
  "accelerator": "GPU",
  "colab": {
   "provenance": []
  },
  "kernelspec": {
   "display_name": "Python 3 (ipykernel)",
   "language": "python",
   "name": "python3"
  },
  "language_info": {
   "codemirror_mode": {
    "name": "ipython",
    "version": 3
   },
   "file_extension": ".py",
   "mimetype": "text/x-python",
   "name": "python",
   "nbconvert_exporter": "python",
   "pygments_lexer": "ipython3",
   "version": "3.10.6"
  }
 },
 "nbformat": 4,
 "nbformat_minor": 4
}
