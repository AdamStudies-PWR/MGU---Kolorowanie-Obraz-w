{
 "cells": [
  {
   "cell_type": "code",
   "execution_count": 1,
   "metadata": {
    "id": "J_Y9UFYhKbuE"
   },
   "outputs": [],
   "source": [
    "# For plotting\n",
    "import numpy as np\n",
    "import matplotlib.pyplot as plt\n",
    "import matplotlib.image as mpimg\n",
    "%matplotlib inline\n",
    "# For conversion\n",
    "from skimage.color import lab2rgb, rgb2lab, rgb2gray\n",
    "from skimage import io\n",
    "# For everything\n",
    "import torch\n",
    "import torch.nn as nn\n",
    "import torch.nn.functional as F\n",
    "# For our model\n",
    "import torchvision\n",
    "import torchvision.models as models\n",
    "from torchvision import datasets, transforms\n",
    "from torchmetrics import MeanSquaredError, PeakSignalNoiseRatio, StructuralSimilarityIndexMeasure\n",
    "from PIL import Image\n",
    "# For utilities\n",
    "import os, shutil, time"
   ]
  },
  {
   "cell_type": "code",
   "execution_count": 2,
   "metadata": {},
   "outputs": [],
   "source": [
    "# colab i kaggle jeszcze nie testowane\n",
    "colab = False\n",
    "kaggle = False\n",
    "test_number = '11_1'"
   ]
  },
  {
   "cell_type": "code",
   "execution_count": 3,
   "metadata": {},
   "outputs": [],
   "source": [
    "color_imgs = 'outputs/color/'\n",
    "gray_imgs = 'outputs/gray/'\n",
    "checkpoints = 'checkpoints'\n",
    "if colab:\n",
    "    from google.colab import drive\n",
    "    drive.mount('/content/drive')\n",
    "    dataset = '/content/drive/MyDrive/MGU/cifar10/'\n",
    "    \n",
    "    color_imgs = '/content/drive/MyDrive/MGU/outputs/color/'\n",
    "    gray_imgs = '/content/drive/MyDrive/MGU/outputs/gray/'\n",
    "    checkpoints = '/content/drive/MyDrive/MGU/checkpoints'\n",
    "elif kaggle:\n",
    "    os.makedirs(test_number, exist_ok=True)\n",
    "    results = \"results\"\n",
    "    os.makedirs(results, exist_ok=True)\n",
    "    dataset = '/kaggle/input/cifar10/'\n",
    "else:\n",
    "    dataset = '../../datasets/cifar10/'"
   ]
  },
  {
   "cell_type": "code",
   "execution_count": 4,
   "metadata": {
    "scrolled": true
   },
   "outputs": [
    {
     "data": {
      "text/html": [
       "\n",
       "      <iframe id=\"tensorboard-frame-6fc0bd23edf675e\" width=\"100%\" height=\"800\" frameborder=\"0\">\n",
       "      </iframe>\n",
       "      <script>\n",
       "        (function() {\n",
       "          const frame = document.getElementById(\"tensorboard-frame-6fc0bd23edf675e\");\n",
       "          const url = new URL(\"/\", window.location);\n",
       "          const port = 6008;\n",
       "          if (port) {\n",
       "            url.port = port;\n",
       "          }\n",
       "          frame.src = url;\n",
       "        })();\n",
       "      </script>\n",
       "    "
      ],
      "text/plain": [
       "<IPython.core.display.HTML object>"
      ]
     },
     "metadata": {},
     "output_type": "display_data"
    }
   ],
   "source": [
    "%load_ext tensorboard\n",
    "%tensorboard --logdir=runs"
   ]
  },
  {
   "cell_type": "code",
   "execution_count": 5,
   "metadata": {},
   "outputs": [],
   "source": [
    "from torch.utils.tensorboard import SummaryWriter\n",
    "writer = SummaryWriter()"
   ]
  },
  {
   "cell_type": "code",
   "execution_count": 6,
   "metadata": {
    "id": "gMolrzKA_1uJ"
   },
   "outputs": [
    {
     "name": "stdout",
     "output_type": "stream",
     "text": [
      "True\n"
     ]
    }
   ],
   "source": [
    "# Check if GPU is available\n",
    "use_gpu = torch.cuda.is_available()\n",
    "print(use_gpu)"
   ]
  },
  {
   "cell_type": "code",
   "execution_count": 7,
   "metadata": {
    "id": "05NviQfzU2Mv"
   },
   "outputs": [],
   "source": [
    "SIZE = 32\n",
    "class LabImageFolder(torch.utils.data.Dataset):\n",
    "    def __init__(self, paths, split='train'):\n",
    "        if split == 'train':\n",
    "            self.transforms = transforms.Compose([\n",
    "                transforms.Resize((SIZE, SIZE), transforms.InterpolationMode.BICUBIC),\n",
    "                transforms.RandomCrop(SIZE),\n",
    "                transforms.RandomHorizontalFlip(),  \n",
    "                transforms.ToTensor(),\n",
    "                transforms.Normalize((0.4918019, 0.48263696, 0.44733968), (0.24705184, 0.2433789, 0.26162848)),\n",
    "                transforms.ToPILImage(),\n",
    "            ])\n",
    "        elif split == 'val':\n",
    "            self.transforms = transforms.Compose([\n",
    "                transforms.Resize((SIZE, SIZE), transforms.InterpolationMode.BICUBIC), \n",
    "                transforms.RandomCrop(SIZE), \n",
    "                transforms.ToTensor(),\n",
    "                transforms.Normalize((0.4918019, 0.48263696, 0.44733968), (0.24705184, 0.2433789, 0.26162848)),\n",
    "                transforms.ToPILImage(),\n",
    "            ])\n",
    "            \n",
    "        self.split = split\n",
    "        self.size = SIZE\n",
    "        self.paths = [os.path.join(paths, file) for file in os.listdir(paths) if os.path.isfile(\n",
    "            os.path.join(paths, file))]\n",
    "        \n",
    "        \n",
    "    def __getitem__(self, index):\n",
    "        img = Image.open(self.paths[index]).convert(\"RGB\")\n",
    "        img_original = self.transforms(img)\n",
    "        img_original = np.asarray(img_original)\n",
    "        img_lab = rgb2lab(img_original)\n",
    "        img_lab = (img_lab + 128) / 255\n",
    "        img_ab = img_lab[:, :, 1:3]\n",
    "        img_ab = torch.from_numpy(img_ab.transpose((2, 0, 1))).float()\n",
    "        img_gray = rgb2gray(img_original)\n",
    "        img_gray = torch.from_numpy(img_gray).unsqueeze(0).float()\n",
    "        return img_gray, img_ab\n",
    "    \n",
    "    def __len__(self):\n",
    "        return len(self.paths)"
   ]
  },
  {
   "cell_type": "code",
   "execution_count": 8,
   "metadata": {},
   "outputs": [],
   "source": [
    "# Training\n",
    "batch_size = 128\n",
    "train_imagefolder = LabImageFolder(dataset+'train')\n",
    "train_loader = torch.utils.data.DataLoader(train_imagefolder, batch_size=batch_size, shuffle=True)\n",
    "# Validation \n",
    "val_imagefolder = LabImageFolder(dataset+'val' , 'val')\n",
    "val_loader = torch.utils.data.DataLoader(val_imagefolder, batch_size=batch_size, shuffle=False)"
   ]
  },
  {
   "cell_type": "code",
   "execution_count": 9,
   "metadata": {
    "id": "NOQfP1feNkfS"
   },
   "outputs": [],
   "source": [
    "kernel_size=3\n",
    "stride_en=2\n",
    "stride_de=1\n",
    "padding=1\n",
    "scale_factor=2\n",
    "padding_mode='zeros'\n",
    "channels_base = 64\n",
    "\n",
    "class Autoencoder(nn.Module):\n",
    "    def __init__(self):\n",
    "        super(Autoencoder, self).__init__()\n",
    "\n",
    "        self.conv1 = nn.Conv2d(1, channels_base, kernel_size=kernel_size, stride=stride_en, padding=padding, padding_mode=padding_mode)\n",
    "        self.conv2 = nn.Conv2d(channels_base, channels_base * 2, kernel_size=kernel_size, stride=stride_en, padding=padding, padding_mode=padding_mode)\n",
    "        \n",
    "        self.convtrans1 = nn.ConvTranspose2d(channels_base * 2, channels_base, kernel_size=kernel_size, stride=stride_de, padding=padding, padding_mode=padding_mode)\n",
    "        self.convtrans2 = nn.ConvTranspose2d(channels_base, channels_base // 2, kernel_size=kernel_size, stride=stride_de, padding=padding, padding_mode=padding_mode)\n",
    "        self.convtrans3 = nn.ConvTranspose2d(channels_base // 2, 2, kernel_size=kernel_size, stride=stride_de, padding=padding, padding_mode=padding_mode)\n",
    "\n",
    "        self.batchnorm1 = nn.BatchNorm2d(channels_base // 2)\n",
    "        self.batchnorm2 = nn.BatchNorm2d(channels_base)\n",
    "        self.batchnorm3 = nn.BatchNorm2d(channels_base * 2)\n",
    "        \n",
    "        \n",
    "    def forward(self, input):\n",
    "        # encoder\n",
    "        x = F.relu(self.batchnorm2(self.conv1(input)))\n",
    "        x = F.relu(self.batchnorm3(self.conv2(x)))\n",
    "        \n",
    "        # decoder\n",
    "        x = F.relu(self.batchnorm2(self.convtrans1(x)))\n",
    "        x = F.interpolate(x, scale_factor=scale_factor)\n",
    "        x = F.relu(self.batchnorm1(self.convtrans2(x)))\n",
    "        x = F.interpolate(self.convtrans3(x), scale_factor=scale_factor)\n",
    "\n",
    "        return x"
   ]
  },
  {
   "cell_type": "code",
   "execution_count": 10,
   "metadata": {
    "id": "OtRkAkIjTeq1"
   },
   "outputs": [],
   "source": [
    "model = Autoencoder()"
   ]
  },
  {
   "cell_type": "code",
   "execution_count": 11,
   "metadata": {},
   "outputs": [],
   "source": [
    "criterion = [MeanSquaredError(), PeakSignalNoiseRatio(data_range=1.0), StructuralSimilarityIndexMeasure(data_range=1.0)]"
   ]
  },
  {
   "cell_type": "code",
   "execution_count": 12,
   "metadata": {
    "id": "j3YZ3977TTl4"
   },
   "outputs": [],
   "source": [
    "optimizer = torch.optim.Adam(model.parameters(), lr=1e-2)"
   ]
  },
  {
   "cell_type": "code",
   "execution_count": 13,
   "metadata": {
    "id": "eeHK3BUtANrw"
   },
   "outputs": [],
   "source": [
    "# # Move model and loss function to GPU\n",
    "if use_gpu: \n",
    "    criterion = [criterion[0].to(\"cuda\"), criterion[1].to(\"cuda\"), criterion[2].to(\"cuda\")]\n",
    "    model = model.cuda()"
   ]
  },
  {
   "cell_type": "code",
   "execution_count": 14,
   "metadata": {
    "scrolled": false
   },
   "outputs": [
    {
     "name": "stdout",
     "output_type": "stream",
     "text": [
      "----------------------------------------------------------------\n",
      "        Layer (type)               Output Shape         Param #\n",
      "================================================================\n",
      "            Conv2d-1           [-1, 64, 16, 16]             640\n",
      "       BatchNorm2d-2           [-1, 64, 16, 16]             128\n",
      "            Conv2d-3            [-1, 128, 8, 8]          73,856\n",
      "       BatchNorm2d-4            [-1, 128, 8, 8]             256\n",
      "   ConvTranspose2d-5             [-1, 64, 8, 8]          73,792\n",
      "       BatchNorm2d-6             [-1, 64, 8, 8]             128\n",
      "   ConvTranspose2d-7           [-1, 32, 16, 16]          18,464\n",
      "       BatchNorm2d-8           [-1, 32, 16, 16]              64\n",
      "   ConvTranspose2d-9            [-1, 2, 16, 16]             578\n",
      "================================================================\n",
      "Total params: 167,906\n",
      "Trainable params: 167,906\n",
      "Non-trainable params: 0\n",
      "----------------------------------------------------------------\n",
      "Input size (MB): 0.00\n",
      "Forward/backward pass size (MB): 0.57\n",
      "Params size (MB): 0.64\n",
      "Estimated Total Size (MB): 1.21\n",
      "----------------------------------------------------------------\n"
     ]
    }
   ],
   "source": [
    "if use_gpu: \n",
    "    from torchsummary import summary\n",
    "    summary(model, (1, SIZE, SIZE))"
   ]
  },
  {
   "cell_type": "code",
   "execution_count": 15,
   "metadata": {
    "id": "2FDRt12jsIkr"
   },
   "outputs": [],
   "source": [
    "class AverageMeter(object):\n",
    "    '''A handy class from the PyTorch ImageNet tutorial''' \n",
    "    def __init__(self):\n",
    "        self.reset()\n",
    "    def reset(self):\n",
    "        self.val, self.avg, self.sum, self.count = 0, 0, 0, 0\n",
    "    def update(self, val, n=1):\n",
    "        self.val = val\n",
    "        self.sum += val * n\n",
    "        self.count += n\n",
    "        self.avg = self.sum / self.count\n",
    "\n",
    "def to_rgb(grayscale_input, ab_input, save_path=None, save_name=None):\n",
    "    '''Show/save rgb image from grayscale and ab channels\n",
    "       Input save_path in the form {'grayscale': '/path/', 'colorized': '/path/'}'''\n",
    "    plt.clf() # clear matplotlib \n",
    "    color_image = torch.cat((grayscale_input, ab_input), 0).numpy() # combine channels\n",
    "    color_image = color_image.transpose((1, 2, 0))  # rescale for matplotlib\n",
    "    color_image[:, :, 0:1] = color_image[:, :, 0:1] * 100\n",
    "    color_image[:, :, 1:3] = color_image[:, :, 1:3] * 255 - 128   \n",
    "    color_image = lab2rgb(color_image.astype(np.float64))\n",
    "    grayscale_input = grayscale_input.squeeze().numpy()\n",
    "    if save_path is not None and save_name is not None: \n",
    "        plt.imsave(arr=grayscale_input, fname='{}{}'.format(save_path['grayscale'], save_name), cmap='gray')\n",
    "        plt.imsave(arr=color_image, fname='{}{}'.format(save_path['colorized'], save_name))"
   ]
  },
  {
   "cell_type": "code",
   "execution_count": 16,
   "metadata": {
    "id": "M_OTbyOcrh9J"
   },
   "outputs": [],
   "source": [
    "def validate(val_loader, model, criterion, save_images, epoch):\n",
    "    _loss = [AverageMeter(), AverageMeter(), AverageMeter()]\n",
    "\n",
    "    model.eval()\n",
    "    already_saved_images = False\n",
    "    for gray, ab in val_loader:\n",
    "        if use_gpu: \n",
    "            gray, ab = gray.cuda(), ab.cuda()\n",
    "\n",
    "        # Run model and record loss\n",
    "        output_ab = model(gray) # throw away class predictions\n",
    "        loss = [criterion[0](output_ab, ab), criterion[1](output_ab, ab), criterion[2](output_ab, ab)]\n",
    "        \n",
    "        _loss[0].update(loss[0].item(), gray.size(0))\n",
    "        _loss[1].update(loss[1].item(), gray.size(0))\n",
    "        _loss[2].update(loss[2].item(), gray.size(0))\n",
    "\n",
    "        # Save images to file\n",
    "        if save_images and not already_saved_images:\n",
    "            already_saved_images = True\n",
    "            for j in range(min(len(output_ab), 10)): # save at most 5 images\n",
    "                save_path = {'grayscale': gray_imgs, 'colorized': color_imgs}\n",
    "                save_name = 'img-{}-epoch-{}.jpg'.format(j, epoch)\n",
    "                to_rgb(gray[j].cpu(), ab_input=output_ab[j].detach().cpu(), save_path=save_path, save_name=save_name)\n",
    "\n",
    "    print(f'Validate: MSE {_loss[0].val:.8f} ({_loss[0].avg:.8f}), PSNR {_loss[1].val:.8f} ({_loss[1].avg:.8f}), SSIM {_loss[2].val:.8f} ({_loss[2].avg:.8f})')\n",
    "\n",
    "    print('Finished validation.')\n",
    "    if epoch >= 0:        \n",
    "#         writer.add_scalars(f'loss/test', {\n",
    "#             'MSE': _loss[0].avg,\n",
    "#             'PSNR': _loss[1].avg,\n",
    "#             'SSIM': _loss[2].avg,\n",
    "#         }, epoch)\n",
    "        writer.add_scalar(\"MSE/test\", _loss[0].avg, epoch)\n",
    "        writer.add_scalar(\"PSNR/test\", _loss[1].avg, epoch)\n",
    "        writer.add_scalar(\"SSIM/test\", _loss[2].avg, epoch)\n",
    "    return _loss[0].avg, _loss[1].avg, _loss[2].avg"
   ]
  },
  {
   "cell_type": "code",
   "execution_count": 17,
   "metadata": {
    "id": "FOo__iEnvLMB"
   },
   "outputs": [],
   "source": [
    "def train(train_loader, model, criterion, optimizer, epoch):\n",
    "    print(f'Starting training epoch {epoch}')\n",
    "    _loss = [AverageMeter(), AverageMeter(), AverageMeter()]\n",
    "    \n",
    "    model.train()\n",
    "\n",
    "    for gray, ab in train_loader:\n",
    "        if use_gpu: \n",
    "            gray, ab = gray.cuda(), ab.cuda()\n",
    "            \n",
    "        optimizer.zero_grad()\n",
    "\n",
    "        output_ab = model(gray) \n",
    "        loss = [criterion[0](output_ab, ab), criterion[1](output_ab, ab), criterion[2](output_ab, ab)]\n",
    "        \n",
    "        loss[0].backward()\n",
    "        optimizer.step()\n",
    "        \n",
    "        _loss[0].update(loss[0].item(), gray.size(0))\n",
    "        _loss[1].update(loss[1].item(), gray.size(0))\n",
    "        _loss[2].update(loss[2].item(), gray.size(0))\n",
    "        \n",
    "    print(f'Epoch: {epoch}, MSE {_loss[0].val:.8f} ({_loss[0].avg:.8f}), PSNR {_loss[1].val:.8f} ({_loss[1].avg:.8f}), SSIM {_loss[2].val:.8f} ({_loss[2].avg:.8f})')\n",
    "\n",
    "    print(f'Finished training epoch {epoch}')\n",
    "    if epoch >= 0:\n",
    "#         writer.add_scalars(f'loss/train', {\n",
    "#             'MSE': _loss[0].avg,\n",
    "#             'PSNR': _loss[1].avg,\n",
    "#             'SSIM': _loss[2].avg,\n",
    "#         }, epoch)\n",
    "        writer.add_scalar(\"MSE/train\", _loss[0].avg, epoch)\n",
    "        writer.add_scalar(\"PSNR/train\", _loss[1].avg, epoch)\n",
    "        writer.add_scalar(\"SSIM/train\", _loss[2].avg, epoch)"
   ]
  },
  {
   "cell_type": "code",
   "execution_count": 18,
   "metadata": {
    "id": "ckNmKA5VwSh1"
   },
   "outputs": [],
   "source": [
    "# Make folders and set parameters\n",
    "os.makedirs(color_imgs, exist_ok=True)\n",
    "os.makedirs(gray_imgs, exist_ok=True)\n",
    "os.makedirs(checkpoints, exist_ok=True)\n",
    "save_images = True\n",
    "best_losses = [1e10, 1e10, 1e10]\n",
    "best_epoch = -1\n",
    "patience = 50\n",
    "epochs = 500"
   ]
  },
  {
   "cell_type": "code",
   "execution_count": 19,
   "metadata": {
    "colab": {
     "base_uri": "https://localhost:8080/",
     "height": 625
    },
    "id": "XUR6ALi3AZoO",
    "outputId": "4b274c7b-fc1d-4e14-dc1f-a7ef93f3663f",
    "scrolled": true
   },
   "outputs": [
    {
     "name": "stdout",
     "output_type": "stream",
     "text": [
      "Starting training epoch 0\n",
      "Epoch: 0, MSE 0.02512388 (0.06097265), PSNR 15.99913120 (14.92869398), SSIM 0.10445468 (0.08515537)\n",
      "Finished training epoch 0\n",
      "Validate: MSE 0.02428684 (0.02587752), PSNR 16.14628792 (15.87720569), SSIM 0.06893195 (0.09365179)\n",
      "Finished validation.\n",
      "Starting training epoch 1\n",
      "Epoch: 1, MSE 0.02496586 (0.02488198), PSNR 16.02653503 (16.04388313), SSIM 0.10746951 (0.11034812)\n",
      "Finished training epoch 1\n",
      "Validate: MSE 0.02369463 (0.02528477), PSNR 16.25349998 (15.97780598), SSIM 0.07036954 (0.09391050)\n",
      "Finished validation.\n",
      "Starting training epoch 2\n",
      "Epoch: 2, MSE 0.02313694 (0.02399925), PSNR 16.35694122 (16.19989465), SSIM 0.13047083 (0.12477459)\n",
      "Finished training epoch 2\n",
      "Validate: MSE 0.02354968 (0.02505784), PSNR 16.28014946 (16.01658814), SSIM 0.07052466 (0.09403337)\n",
      "Finished validation.\n",
      "Starting training epoch 3\n",
      "Epoch: 3, MSE 0.02387484 (0.02348763), PSNR 16.22059441 (16.29299063), SSIM 0.14130700 (0.14017237)\n",
      "Finished training epoch 3\n",
      "Validate: MSE 0.02348297 (0.02510348), PSNR 16.29247093 (16.00827812), SSIM 0.07170621 (0.09442029)\n",
      "Finished validation.\n",
      "Starting training epoch 4\n",
      "Epoch: 4, MSE 0.02350008 (0.02311272), PSNR 16.28930664 (16.36301225), SSIM 0.16416606 (0.15593131)\n",
      "Finished training epoch 4\n",
      "Validate: MSE 0.02370662 (0.02529967), PSNR 16.25130272 (15.97463293), SSIM 0.07515955 (0.09798054)\n",
      "Finished validation.\n",
      "Starting training epoch 5\n",
      "Epoch: 5, MSE 0.02283390 (0.02290415), PSNR 16.41419792 (16.40227548), SSIM 0.17333861 (0.16782003)\n",
      "Finished training epoch 5\n",
      "Validate: MSE 0.02327284 (0.02493450), PSNR 16.33150482 (16.03750786), SSIM 0.07750861 (0.10066452)\n",
      "Finished validation.\n",
      "Starting training epoch 6\n",
      "Epoch: 6, MSE 0.02254363 (0.02275332), PSNR 16.46976089 (16.43085123), SSIM 0.18319158 (0.17731417)\n",
      "Finished training epoch 6\n",
      "Validate: MSE 0.02326857 (0.02496360), PSNR 16.33230209 (16.03297842), SSIM 0.07747506 (0.10129312)\n",
      "Finished validation.\n",
      "Starting training epoch 7\n",
      "Epoch: 7, MSE 0.02319871 (0.02256831), PSNR 16.34536171 (16.46644971), SSIM 0.19109839 (0.18497853)\n",
      "Finished training epoch 7\n",
      "Validate: MSE 0.02397329 (0.02577366), PSNR 16.20272255 (15.89366342), SSIM 0.07719381 (0.10067848)\n",
      "Finished validation.\n",
      "Starting training epoch 8\n",
      "Epoch: 8, MSE 0.02279823 (0.02247416), PSNR 16.42098808 (16.48460982), SSIM 0.20115122 (0.19072661)\n",
      "Finished training epoch 8\n",
      "Validate: MSE 0.02310574 (0.02487836), PSNR 16.36280060 (16.04763254), SSIM 0.07831840 (0.10105637)\n",
      "Finished validation.\n",
      "Starting training epoch 9\n",
      "Epoch: 9, MSE 0.02262813 (0.02233155), PSNR 16.45351410 (16.51223323), SSIM 0.19324231 (0.19514462)\n",
      "Finished training epoch 9\n",
      "Validate: MSE 0.02339558 (0.02519968), PSNR 16.30866051 (15.99170841), SSIM 0.07939619 (0.10194389)\n",
      "Finished validation.\n",
      "Starting training epoch 10\n",
      "Epoch: 10, MSE 0.02280099 (0.02222662), PSNR 16.42046356 (16.53250569), SSIM 0.19836792 (0.19832316)\n",
      "Finished training epoch 10\n",
      "Validate: MSE 0.02314063 (0.02496861), PSNR 16.35624695 (16.03178369), SSIM 0.07945852 (0.10170623)\n",
      "Finished validation.\n",
      "Starting training epoch 11\n",
      "Epoch: 11, MSE 0.02222271 (0.02212807), PSNR 16.53202820 (16.55169542), SSIM 0.20917356 (0.20064491)\n",
      "Finished training epoch 11\n",
      "Validate: MSE 0.02339653 (0.02521785), PSNR 16.30848503 (15.98856729), SSIM 0.08236675 (0.10397240)\n",
      "Finished validation.\n",
      "Starting training epoch 12\n",
      "Epoch: 12, MSE 0.02222571 (0.02203787), PSNR 16.53144264 (16.56943769), SSIM 0.19205050 (0.20263402)\n",
      "Finished training epoch 12\n",
      "Validate: MSE 0.02326684 (0.02513259), PSNR 16.33262634 (16.00336860), SSIM 0.08316702 (0.10368691)\n",
      "Finished validation.\n",
      "Starting training epoch 13\n",
      "Epoch: 13, MSE 0.02268888 (0.02195961), PSNR 16.44186783 (16.58494595), SSIM 0.18139888 (0.20428288)\n",
      "Finished training epoch 13\n",
      "Validate: MSE 0.02289257 (0.02474687), PSNR 16.40305328 (16.07109573), SSIM 0.07854121 (0.09899171)\n",
      "Finished validation.\n",
      "Starting training epoch 14\n",
      "Epoch: 14, MSE 0.02193401 (0.02188113), PSNR 16.58881760 (16.60040349), SSIM 0.22078279 (0.20647943)\n",
      "Finished training epoch 14\n",
      "Validate: MSE 0.02269099 (0.02460920), PSNR 16.44146538 (16.09510913), SSIM 0.08374319 (0.10258582)\n",
      "Finished validation.\n",
      "Starting training epoch 15\n",
      "Epoch: 15, MSE 0.02174308 (0.02181721), PSNR 16.62678719 (16.61316207), SSIM 0.21635549 (0.20839909)\n",
      "Finished training epoch 15\n",
      "Validate: MSE 0.02275212 (0.02474941), PSNR 16.42977905 (16.07039832), SSIM 0.08284981 (0.10257325)\n",
      "Finished validation.\n",
      "Starting training epoch 16\n",
      "Epoch: 16, MSE 0.02155346 (0.02172426), PSNR 16.66482925 (16.63167700), SSIM 0.21457744 (0.21070109)\n",
      "Finished training epoch 16\n",
      "Validate: MSE 0.02322040 (0.02510610), PSNR 16.34130287 (16.00753232), SSIM 0.08129966 (0.10251219)\n",
      "Finished validation.\n",
      "Starting training epoch 17\n",
      "Epoch: 17, MSE 0.02192681 (0.02165047), PSNR 16.59024429 (16.64639386), SSIM 0.21617334 (0.21256839)\n",
      "Finished training epoch 17\n",
      "Validate: MSE 0.02574207 (0.02753117), PSNR 15.89356518 (15.60591993), SSIM 0.10587362 (0.12308646)\n",
      "Finished validation.\n",
      "Starting training epoch 18\n",
      "Epoch: 18, MSE 0.02166384 (0.02157536), PSNR 16.64264488 (16.66155457), SSIM 0.21979880 (0.21504569)\n",
      "Finished training epoch 18\n",
      "Validate: MSE 0.03663255 (0.03857648), PSNR 14.36132717 (14.13915332), SSIM 0.11361320 (0.13088375)\n",
      "Finished validation.\n",
      "Starting training epoch 19\n",
      "Epoch: 19, MSE 0.02159685 (0.02153027), PSNR 16.65609550 (16.67069240), SSIM 0.22481413 (0.21702961)\n",
      "Finished training epoch 19\n"
     ]
    },
    {
     "name": "stderr",
     "output_type": "stream",
     "text": [
      "/home/konrad/.local/lib/python3.10/site-packages/skimage/_shared/utils.py:394: UserWarning: Color data out of range: Z < 0 in 15 pixels\n",
      "  return func(*args, **kwargs)\n",
      "/home/konrad/.local/lib/python3.10/site-packages/skimage/_shared/utils.py:394: UserWarning: Color data out of range: Z < 0 in 2 pixels\n",
      "  return func(*args, **kwargs)\n",
      "/home/konrad/.local/lib/python3.10/site-packages/skimage/_shared/utils.py:394: UserWarning: Color data out of range: Z < 0 in 18 pixels\n",
      "  return func(*args, **kwargs)\n",
      "/home/konrad/.local/lib/python3.10/site-packages/skimage/_shared/utils.py:394: UserWarning: Color data out of range: Z < 0 in 6 pixels\n",
      "  return func(*args, **kwargs)\n",
      "/home/konrad/.local/lib/python3.10/site-packages/skimage/_shared/utils.py:394: UserWarning: Color data out of range: Z < 0 in 4 pixels\n",
      "  return func(*args, **kwargs)\n",
      "/home/konrad/.local/lib/python3.10/site-packages/skimage/_shared/utils.py:394: UserWarning: Color data out of range: Z < 0 in 17 pixels\n",
      "  return func(*args, **kwargs)\n",
      "/home/konrad/.local/lib/python3.10/site-packages/skimage/_shared/utils.py:394: UserWarning: Color data out of range: Z < 0 in 10 pixels\n",
      "  return func(*args, **kwargs)\n"
     ]
    },
    {
     "name": "stdout",
     "output_type": "stream",
     "text": [
      "Validate: MSE 0.07776409 (0.08091446), PSNR 11.09220791 (10.92056057), SSIM 0.09020375 (0.10403450)\n",
      "Finished validation.\n",
      "Starting training epoch 20\n",
      "Epoch: 20, MSE 0.02124378 (0.02145571), PSNR 16.72768211 (16.68568227), SSIM 0.21501899 (0.21913904)\n",
      "Finished training epoch 20\n"
     ]
    },
    {
     "name": "stderr",
     "output_type": "stream",
     "text": [
      "/home/konrad/.local/lib/python3.10/site-packages/skimage/_shared/utils.py:394: UserWarning: Color data out of range: Z < 0 in 1 pixels\n",
      "  return func(*args, **kwargs)\n",
      "/home/konrad/.local/lib/python3.10/site-packages/skimage/_shared/utils.py:394: UserWarning: Color data out of range: Z < 0 in 3 pixels\n",
      "  return func(*args, **kwargs)\n"
     ]
    },
    {
     "name": "stdout",
     "output_type": "stream",
     "text": [
      "Validate: MSE 0.04285744 (0.04526695), PSNR 13.67973709 (13.44386988), SSIM 0.11632146 (0.13183658)\n",
      "Finished validation.\n",
      "Starting training epoch 21\n",
      "Epoch: 21, MSE 0.02064737 (0.02140390), PSNR 16.85135269 (16.69627188), SSIM 0.22034602 (0.22090578)\n",
      "Finished training epoch 21\n"
     ]
    },
    {
     "name": "stderr",
     "output_type": "stream",
     "text": [
      "/home/konrad/.local/lib/python3.10/site-packages/skimage/_shared/utils.py:394: UserWarning: Color data out of range: Z < 0 in 7 pixels\n",
      "  return func(*args, **kwargs)\n"
     ]
    },
    {
     "name": "stdout",
     "output_type": "stream",
     "text": [
      "Validate: MSE 0.05625144 (0.05911851), PSNR 12.49866295 (12.28398549), SSIM 0.10412675 (0.11721356)\n",
      "Finished validation.\n",
      "Starting training epoch 22\n",
      "Epoch: 22, MSE 0.02143575 (0.02136871), PSNR 16.68861198 (16.70340702), SSIM 0.22677097 (0.22240697)\n",
      "Finished training epoch 22\n"
     ]
    },
    {
     "name": "stderr",
     "output_type": "stream",
     "text": [
      "/home/konrad/.local/lib/python3.10/site-packages/skimage/_shared/utils.py:394: UserWarning: Color data out of range: Z < 0 in 88 pixels\n",
      "  return func(*args, **kwargs)\n",
      "/home/konrad/.local/lib/python3.10/site-packages/skimage/_shared/utils.py:394: UserWarning: Color data out of range: Z < 0 in 38 pixels\n",
      "  return func(*args, **kwargs)\n",
      "/home/konrad/.local/lib/python3.10/site-packages/skimage/_shared/utils.py:394: UserWarning: Color data out of range: Z < 0 in 82 pixels\n",
      "  return func(*args, **kwargs)\n",
      "/home/konrad/.local/lib/python3.10/site-packages/skimage/_shared/utils.py:394: UserWarning: Color data out of range: Z < 0 in 52 pixels\n",
      "  return func(*args, **kwargs)\n",
      "/home/konrad/.local/lib/python3.10/site-packages/skimage/_shared/utils.py:394: UserWarning: Color data out of range: Z < 0 in 29 pixels\n",
      "  return func(*args, **kwargs)\n",
      "/home/konrad/.local/lib/python3.10/site-packages/skimage/_shared/utils.py:394: UserWarning: Color data out of range: Z < 0 in 24 pixels\n",
      "  return func(*args, **kwargs)\n",
      "/home/konrad/.local/lib/python3.10/site-packages/skimage/_shared/utils.py:394: UserWarning: Color data out of range: Z < 0 in 87 pixels\n",
      "  return func(*args, **kwargs)\n",
      "/home/konrad/.local/lib/python3.10/site-packages/skimage/_shared/utils.py:394: UserWarning: Color data out of range: Z < 0 in 223 pixels\n",
      "  return func(*args, **kwargs)\n",
      "/home/konrad/.local/lib/python3.10/site-packages/skimage/_shared/utils.py:394: UserWarning: Color data out of range: Z < 0 in 79 pixels\n",
      "  return func(*args, **kwargs)\n"
     ]
    },
    {
     "name": "stdout",
     "output_type": "stream",
     "text": [
      "Validate: MSE 0.13015562 (0.13462025), PSNR 8.85536957 (8.70940697), SSIM 0.05098310 (0.05834851)\n",
      "Finished validation.\n",
      "Starting training epoch 23\n",
      "Epoch: 23, MSE 0.02114712 (0.02131599), PSNR 16.74748611 (16.71403785), SSIM 0.22081354 (0.22406878)\n",
      "Finished training epoch 23\n"
     ]
    },
    {
     "name": "stderr",
     "output_type": "stream",
     "text": [
      "/home/konrad/.local/lib/python3.10/site-packages/skimage/_shared/utils.py:394: UserWarning: Color data out of range: Z < 0 in 165 pixels\n",
      "  return func(*args, **kwargs)\n",
      "/home/konrad/.local/lib/python3.10/site-packages/skimage/_shared/utils.py:394: UserWarning: Color data out of range: Z < 0 in 131 pixels\n",
      "  return func(*args, **kwargs)\n",
      "/home/konrad/.local/lib/python3.10/site-packages/skimage/_shared/utils.py:394: UserWarning: Color data out of range: Z < 0 in 228 pixels\n",
      "  return func(*args, **kwargs)\n",
      "/home/konrad/.local/lib/python3.10/site-packages/skimage/_shared/utils.py:394: UserWarning: Color data out of range: Z < 0 in 55 pixels\n",
      "  return func(*args, **kwargs)\n",
      "/home/konrad/.local/lib/python3.10/site-packages/skimage/_shared/utils.py:394: UserWarning: Color data out of range: Z < 0 in 86 pixels\n",
      "  return func(*args, **kwargs)\n",
      "/home/konrad/.local/lib/python3.10/site-packages/skimage/_shared/utils.py:394: UserWarning: Color data out of range: Z < 0 in 189 pixels\n",
      "  return func(*args, **kwargs)\n",
      "/home/konrad/.local/lib/python3.10/site-packages/skimage/_shared/utils.py:394: UserWarning: Color data out of range: Z < 0 in 311 pixels\n",
      "  return func(*args, **kwargs)\n",
      "/home/konrad/.local/lib/python3.10/site-packages/skimage/_shared/utils.py:394: UserWarning: Color data out of range: Z < 0 in 143 pixels\n",
      "  return func(*args, **kwargs)\n"
     ]
    },
    {
     "name": "stdout",
     "output_type": "stream",
     "text": [
      "Validate: MSE 0.12122875 (0.12599182), PSNR 9.16394329 (8.99712939), SSIM 0.07010773 (0.07707188)\n",
      "Finished validation.\n",
      "Starting training epoch 24\n",
      "Epoch: 24, MSE 0.02141061 (0.02126578), PSNR 16.69370842 (16.72442361), SSIM 0.22303240 (0.22541857)\n",
      "Finished training epoch 24\n"
     ]
    },
    {
     "name": "stderr",
     "output_type": "stream",
     "text": [
      "/home/konrad/.local/lib/python3.10/site-packages/skimage/_shared/utils.py:394: UserWarning: Color data out of range: Z < 0 in 12 pixels\n",
      "  return func(*args, **kwargs)\n"
     ]
    },
    {
     "name": "stdout",
     "output_type": "stream",
     "text": [
      "Validate: MSE 0.06359131 (0.06741812), PSNR 11.96602249 (11.71343920), SSIM 0.11039574 (0.11753614)\n",
      "Finished validation.\n",
      "Starting training epoch 25\n",
      "Epoch: 25, MSE 0.02162803 (0.02123721), PSNR 16.64982986 (16.73024398), SSIM 0.21920209 (0.22653627)\n",
      "Finished training epoch 25\n",
      "Validate: MSE 0.02475971 (0.02620583), PSNR 16.06254196 (15.81932253), SSIM 0.14908454 (0.15955350)\n",
      "Finished validation.\n",
      "Starting training epoch 26\n",
      "Epoch: 26, MSE 0.02145757 (0.02118673), PSNR 16.68419266 (16.74034941), SSIM 0.23323087 (0.22791021)\n",
      "Finished training epoch 26\n",
      "Validate: MSE 0.02522242 (0.02672157), PSNR 15.98213196 (15.73515756), SSIM 0.14566338 (0.15706023)\n",
      "Finished validation.\n",
      "Starting training epoch 27\n",
      "Epoch: 27, MSE 0.02195209 (0.02116117), PSNR 16.58524132 (16.74580970), SSIM 0.22318988 (0.22862318)\n",
      "Finished training epoch 27\n",
      "Validate: MSE 0.02571917 (0.02714631), PSNR 15.89743042 (15.66630563), SSIM 0.14628103 (0.15873373)\n",
      "Finished validation.\n",
      "Starting training epoch 28\n",
      "Epoch: 28, MSE 0.02186751 (0.02112187), PSNR 16.60200691 (16.75384099), SSIM 0.21861415 (0.22956976)\n",
      "Finished training epoch 28\n",
      "Validate: MSE 0.02625543 (0.02736392), PSNR 15.80780697 (15.63090018), SSIM 0.13458616 (0.14989609)\n",
      "Finished validation.\n",
      "Starting training epoch 29\n",
      "Epoch: 29, MSE 0.02100821 (0.02111539), PSNR 16.77610779 (16.75518993), SSIM 0.24258992 (0.23007374)\n",
      "Finished training epoch 29\n",
      "Validate: MSE 0.02562425 (0.02653850), PSNR 15.91348743 (15.76440941), SSIM 0.14836319 (0.16408071)\n",
      "Finished validation.\n",
      "Starting training epoch 30\n",
      "Epoch: 30, MSE 0.02107492 (0.02107710), PSNR 16.76234055 (16.76302558), SSIM 0.21990451 (0.23080474)\n",
      "Finished training epoch 30\n",
      "Validate: MSE 0.02266080 (0.02348896), PSNR 16.44724655 (16.29602861), SSIM 0.13332245 (0.15052839)\n",
      "Finished validation.\n",
      "Starting training epoch 31\n",
      "Epoch: 31, MSE 0.02039047 (0.02105698), PSNR 16.90572739 (16.76722301), SSIM 0.22533925 (0.23154050)\n",
      "Finished training epoch 31\n",
      "Validate: MSE 0.02319920 (0.02404502), PSNR 16.34527016 (16.19444895), SSIM 0.12837794 (0.14741385)\n",
      "Finished validation.\n",
      "Starting training epoch 32\n",
      "Epoch: 32, MSE 0.02122140 (0.02103074), PSNR 16.73225784 (16.77283137), SSIM 0.22273834 (0.23220038)\n",
      "Finished training epoch 32\n",
      "Validate: MSE 0.02388798 (0.02525909), PSNR 16.21820641 (15.98002766), SSIM 0.11586766 (0.13591467)\n",
      "Finished validation.\n",
      "Starting training epoch 33\n",
      "Epoch: 33, MSE 0.01985583 (0.02099778), PSNR 17.02112007 (16.77952395), SSIM 0.23017351 (0.23291523)\n",
      "Finished training epoch 33\n"
     ]
    },
    {
     "name": "stderr",
     "output_type": "stream",
     "text": [
      "/home/konrad/.local/lib/python3.10/site-packages/skimage/_shared/utils.py:394: UserWarning: Color data out of range: Z < 0 in 5 pixels\n",
      "  return func(*args, **kwargs)\n"
     ]
    },
    {
     "name": "stdout",
     "output_type": "stream",
     "text": [
      "Validate: MSE 0.02680139 (0.02779988), PSNR 15.71842480 (15.56271487), SSIM 0.10177481 (0.12297740)\n",
      "Finished validation.\n",
      "Starting training epoch 34\n",
      "Epoch: 34, MSE 0.01986461 (0.02099993), PSNR 17.01919937 (16.77933297), SSIM 0.24995634 (0.23291496)\n",
      "Finished training epoch 34\n",
      "Validate: MSE 0.02731857 (0.02832825), PSNR 15.63541889 (15.48118230), SSIM 0.11470367 (0.13755907)\n",
      "Finished validation.\n",
      "Starting training epoch 35\n",
      "Epoch: 35, MSE 0.01939572 (0.02096402), PSNR 17.12294006 (16.78637963), SSIM 0.24481606 (0.23370643)\n",
      "Finished training epoch 35\n",
      "Validate: MSE 0.02441471 (0.02530521), PSNR 16.12348557 (15.97256223), SSIM 0.11200586 (0.13434492)\n",
      "Finished validation.\n",
      "Starting training epoch 36\n",
      "Epoch: 36, MSE 0.02095387 (0.02096898), PSNR 16.78735733 (16.78546072), SSIM 0.23899226 (0.23362865)\n",
      "Finished training epoch 36\n",
      "Validate: MSE 0.02354970 (0.02451956), PSNR 16.28014565 (16.10921543), SSIM 0.12289149 (0.14361313)\n",
      "Finished validation.\n",
      "Starting training epoch 37\n",
      "Epoch: 37, MSE 0.02040409 (0.02094139), PSNR 16.90282822 (16.79115204), SSIM 0.22210400 (0.23431888)\n",
      "Finished training epoch 37\n",
      "Validate: MSE 0.02509928 (0.02679570), PSNR 16.00338745 (15.72337795), SSIM 0.11751625 (0.13718865)\n",
      "Finished validation.\n",
      "Starting training epoch 38\n",
      "Epoch: 38, MSE 0.02138775 (0.02092993), PSNR 16.69834900 (16.79357104), SSIM 0.22900669 (0.23462405)\n",
      "Finished training epoch 38\n",
      "Validate: MSE 0.02522179 (0.02668001), PSNR 15.98224068 (15.74232262), SSIM 0.10191622 (0.12201223)\n",
      "Finished validation.\n",
      "Starting training epoch 39\n",
      "Epoch: 39, MSE 0.02098417 (0.02091027), PSNR 16.78108215 (16.79773364), SSIM 0.23367718 (0.23495756)\n",
      "Finished training epoch 39\n",
      "Validate: MSE 0.02793876 (0.02925204), PSNR 15.53792763 (15.34151741), SSIM 0.10122477 (0.12314732)\n",
      "Finished validation.\n",
      "Starting training epoch 40\n",
      "Epoch: 40, MSE 0.02185010 (0.02089650), PSNR 16.60546494 (16.80043449), SSIM 0.21870823 (0.23534426)\n",
      "Finished training epoch 40\n",
      "Validate: MSE 0.02796765 (0.02963984), PSNR 15.53343868 (15.28475323), SSIM 0.10535703 (0.12780630)\n",
      "Finished validation.\n",
      "Starting training epoch 41\n",
      "Epoch: 41, MSE 0.02039395 (0.02086267), PSNR 16.90498543 (16.80753329), SSIM 0.23969367 (0.23604450)\n",
      "Finished training epoch 41\n",
      "Validate: MSE 0.02969213 (0.03156183), PSNR 15.27358532 (15.01130665), SSIM 0.11394791 (0.13487521)\n",
      "Finished validation.\n",
      "Starting training epoch 42\n",
      "Epoch: 42, MSE 0.02125066 (0.02086118), PSNR 16.72627640 (16.80773370), SSIM 0.23228411 (0.23607519)\n",
      "Finished training epoch 42\n",
      "Validate: MSE 0.02720757 (0.02907878), PSNR 15.65310097 (15.36793116), SSIM 0.10874526 (0.12927996)\n",
      "Finished validation.\n",
      "Starting training epoch 43\n",
      "Epoch: 43, MSE 0.01953882 (0.02084722), PSNR 17.09101486 (16.81064793), SSIM 0.26265049 (0.23643842)\n",
      "Finished training epoch 43\n",
      "Validate: MSE 0.02449031 (0.02595565), PSNR 16.11005592 (15.86196072), SSIM 0.11687718 (0.13719496)\n",
      "Finished validation.\n",
      "Starting training epoch 44\n",
      "Epoch: 44, MSE 0.02020589 (0.02083087), PSNR 16.94521904 (16.81400324), SSIM 0.23690972 (0.23656449)\n",
      "Finished training epoch 44\n",
      "Validate: MSE 0.02383304 (0.02551496), PSNR 16.22820663 (15.93689330), SSIM 0.11990610 (0.13860059)\n",
      "Finished validation.\n",
      "Starting training epoch 45\n",
      "Epoch: 45, MSE 0.02061488 (0.02080490), PSNR 16.85819244 (16.81962908), SSIM 0.24133182 (0.23718581)\n",
      "Finished training epoch 45\n",
      "Validate: MSE 0.02755837 (0.02927240), PSNR 15.59746456 (15.33920660), SSIM 0.10912004 (0.13002579)\n",
      "Finished validation.\n",
      "Starting training epoch 46\n",
      "Epoch: 46, MSE 0.02104056 (0.02080210), PSNR 16.76942825 (16.82018612), SSIM 0.24299744 (0.23719354)\n",
      "Finished training epoch 46\n",
      "Validate: MSE 0.02595227 (0.02764618), PSNR 15.85824585 (15.58767025), SSIM 0.11464389 (0.13429664)\n",
      "Finished validation.\n",
      "Starting training epoch 47\n",
      "Epoch: 47, MSE 0.02151900 (0.02079353), PSNR 16.67177773 (16.82192976), SSIM 0.22854295 (0.23748967)\n",
      "Finished training epoch 47\n",
      "Validate: MSE 0.02746048 (0.02923573), PSNR 15.61291790 (15.34471069), SSIM 0.11764584 (0.13647132)\n",
      "Finished validation.\n",
      "Starting training epoch 48\n",
      "Epoch: 48, MSE 0.02201742 (0.02078474), PSNR 16.57233429 (16.82386124), SSIM 0.24540468 (0.23767461)\n",
      "Finished training epoch 48\n",
      "Validate: MSE 0.02561925 (0.02722706), PSNR 15.91433525 (15.65422879), SSIM 0.11140984 (0.13160008)\n",
      "Finished validation.\n",
      "Starting training epoch 49\n",
      "Epoch: 49, MSE 0.02065102 (0.02077601), PSNR 16.85058403 (16.82565646), SSIM 0.23685150 (0.23764078)\n",
      "Finished training epoch 49\n",
      "Validate: MSE 0.02612209 (0.02762496), PSNR 15.82992077 (15.59093793), SSIM 0.11347511 (0.13321906)\n",
      "Finished validation.\n",
      "Starting training epoch 50\n",
      "Epoch: 50, MSE 0.02038570 (0.02075733), PSNR 16.90674210 (16.82958542), SSIM 0.24001881 (0.23811633)\n",
      "Finished training epoch 50\n",
      "Validate: MSE 0.02779831 (0.02956551), PSNR 15.55981445 (15.29594341), SSIM 0.10236863 (0.12316512)\n",
      "Finished validation.\n",
      "Starting training epoch 51\n",
      "Epoch: 51, MSE 0.01975149 (0.02075628), PSNR 17.04400063 (16.82972483), SSIM 0.24194507 (0.23803094)\n",
      "Finished training epoch 51\n",
      "Validate: MSE 0.02648185 (0.02811369), PSNR 15.77051544 (15.51486102), SSIM 0.10678734 (0.12744882)\n",
      "Finished validation.\n",
      "Starting training epoch 52\n",
      "Epoch: 52, MSE 0.02110213 (0.02074398), PSNR 16.75673676 (16.83227538), SSIM 0.25093335 (0.23837427)\n",
      "Finished training epoch 52\n",
      "Validate: MSE 0.02982477 (0.03164347), PSNR 15.25422859 (15.00061219), SSIM 0.10225073 (0.12296964)\n",
      "Finished validation.\n",
      "Starting training epoch 53\n",
      "Epoch: 53, MSE 0.02101828 (0.02074147), PSNR 16.77402878 (16.83294560), SSIM 0.25389189 (0.23848099)\n",
      "Finished training epoch 53\n",
      "Validate: MSE 0.02664859 (0.02830328), PSNR 15.74325752 (15.48558151), SSIM 0.10057443 (0.12246924)\n",
      "Finished validation.\n",
      "Starting training epoch 54\n",
      "Epoch: 54, MSE 0.02061113 (0.02072969), PSNR 16.85898018 (16.83518115), SSIM 0.22862716 (0.23856704)\n",
      "Finished training epoch 54\n",
      "Validate: MSE 0.02681737 (0.02845758), PSNR 15.71583748 (15.46207056), SSIM 0.09902410 (0.12132895)\n",
      "Finished validation.\n",
      "Starting training epoch 55\n",
      "Epoch: 55, MSE 0.01997010 (0.02071325), PSNR 16.99619675 (16.83864452), SSIM 0.22681765 (0.23896822)\n",
      "Finished training epoch 55\n",
      "Validate: MSE 0.02412439 (0.02575503), PSNR 16.17543602 (15.89621129), SSIM 0.09594028 (0.11848205)\n",
      "Finished validation.\n",
      "Starting training epoch 56\n",
      "Epoch: 56, MSE 0.02013949 (0.02072249), PSNR 16.95951462 (16.83674639), SSIM 0.23138323 (0.23885477)\n",
      "Finished training epoch 56\n",
      "Validate: MSE 0.02401347 (0.02570432), PSNR 16.19544983 (15.90472496), SSIM 0.10811916 (0.12872532)\n",
      "Finished validation.\n",
      "Starting training epoch 57\n",
      "Epoch: 57, MSE 0.02061811 (0.02070134), PSNR 16.85750961 (16.84128354), SSIM 0.23079768 (0.23928808)\n",
      "Finished training epoch 57\n",
      "Validate: MSE 0.02657501 (0.02824938), PSNR 15.75526524 (15.49375214), SSIM 0.11525626 (0.13451341)\n",
      "Finished validation.\n",
      "Starting training epoch 58\n",
      "Epoch: 58, MSE 0.02008327 (0.02069345), PSNR 16.97165489 (16.84296253), SSIM 0.25723103 (0.23923008)\n",
      "Finished training epoch 58\n",
      "Validate: MSE 0.02613689 (0.02787502), PSNR 15.82746124 (15.55196545), SSIM 0.10595961 (0.12652100)\n",
      "Finished validation.\n",
      "Starting training epoch 59\n",
      "Epoch: 59, MSE 0.02154592 (0.02069924), PSNR 16.66634941 (16.84165950), SSIM 0.23049292 (0.23936246)\n",
      "Finished training epoch 59\n",
      "Validate: MSE 0.02653580 (0.02804448), PSNR 15.76167774 (15.52542678), SSIM 0.10527465 (0.12717573)\n",
      "Finished validation.\n",
      "Starting training epoch 60\n",
      "Epoch: 60, MSE 0.02043905 (0.02068899), PSNR 16.89539146 (16.84402382), SSIM 0.25250125 (0.23945775)\n",
      "Finished training epoch 60\n",
      "Validate: MSE 0.02556844 (0.02721900), PSNR 15.92295742 (15.65546629), SSIM 0.11423720 (0.13440821)\n",
      "Finished validation.\n",
      "Starting training epoch 61\n",
      "Epoch: 61, MSE 0.02065544 (0.02066995), PSNR 16.84965515 (16.84779288), SSIM 0.23648798 (0.23967897)\n",
      "Finished training epoch 61\n",
      "Validate: MSE 0.02551045 (0.02724364), PSNR 15.93281841 (15.65168604), SSIM 0.10895447 (0.12888790)\n",
      "Finished validation.\n",
      "Starting training epoch 62\n",
      "Epoch: 62, MSE 0.02053722 (0.02066307), PSNR 16.87458420 (16.84931813), SSIM 0.24167629 (0.23982357)\n",
      "Finished training epoch 62\n",
      "Validate: MSE 0.02757284 (0.02937778), PSNR 15.59518433 (15.32350466), SSIM 0.11116455 (0.13144217)\n",
      "Finished validation.\n",
      "Starting training epoch 63\n",
      "Epoch: 63, MSE 0.02103239 (0.02066651), PSNR 16.77111244 (16.84866675), SSIM 0.23703089 (0.23965511)\n",
      "Finished training epoch 63\n"
     ]
    },
    {
     "name": "stdout",
     "output_type": "stream",
     "text": [
      "Validate: MSE 0.02436822 (0.02601947), PSNR 16.13176155 (15.85152719), SSIM 0.12051721 (0.13777072)\n",
      "Finished validation.\n",
      "Starting training epoch 64\n",
      "Epoch: 64, MSE 0.02063333 (0.02065279), PSNR 16.85430717 (16.85140424), SSIM 0.24758562 (0.23997827)\n",
      "Finished training epoch 64\n",
      "Validate: MSE 0.02636672 (0.02810291), PSNR 15.78943825 (15.51634287), SSIM 0.11403664 (0.13326245)\n",
      "Finished validation.\n",
      "Starting training epoch 65\n",
      "Epoch: 65, MSE 0.02044365 (0.02063603), PSNR 16.89441490 (16.85490718), SSIM 0.24235854 (0.24032140)\n",
      "Finished training epoch 65\n",
      "Validate: MSE 0.02723994 (0.02910675), PSNR 15.64793873 (15.36388304), SSIM 0.09889197 (0.12108133)\n",
      "Finished validation.\n",
      "Starting training epoch 66\n",
      "Epoch: 66, MSE 0.02081939 (0.02064484), PSNR 16.81532097 (16.85306904), SSIM 0.24339195 (0.24000659)\n",
      "Finished training epoch 66\n",
      "Validate: MSE 0.02361908 (0.02528192), PSNR 16.26736832 (15.97695617), SSIM 0.10243014 (0.12296530)\n",
      "Finished validation.\n",
      "Starting training epoch 67\n",
      "Epoch: 67, MSE 0.02040080 (0.02064552), PSNR 16.90352631 (16.85307221), SSIM 0.24160996 (0.24032354)\n",
      "Finished training epoch 67\n",
      "Validate: MSE 0.02553956 (0.02697754), PSNR 15.92786407 (15.69417561), SSIM 0.10159365 (0.12369777)\n",
      "Finished validation.\n",
      "Starting training epoch 68\n",
      "Epoch: 68, MSE 0.02008429 (0.02062302), PSNR 16.97143364 (16.85769263), SSIM 0.23648866 (0.24048433)\n",
      "Finished training epoch 68\n",
      "Validate: MSE 0.02820885 (0.02993472), PSNR 15.49614429 (15.24173228), SSIM 0.09601100 (0.11945610)\n",
      "Finished validation.\n",
      "Starting training epoch 69\n",
      "Epoch: 69, MSE 0.02173204 (0.02064027), PSNR 16.62899590 (16.85421973), SSIM 0.21404198 (0.24015909)\n",
      "Finished training epoch 69\n",
      "Validate: MSE 0.02634413 (0.02802552), PSNR 15.79316044 (15.52833347), SSIM 0.10415545 (0.12513181)\n",
      "Finished validation.\n",
      "Starting training epoch 70\n",
      "Epoch: 70, MSE 0.01976051 (0.02063651), PSNR 17.04201889 (16.85495683), SSIM 0.25779200 (0.24030478)\n",
      "Finished training epoch 70\n",
      "Validate: MSE 0.02366485 (0.02530907), PSNR 16.25896072 (15.97222881), SSIM 0.09586216 (0.11817965)\n",
      "Finished validation.\n",
      "Starting training epoch 71\n",
      "Epoch: 71, MSE 0.02184569 (0.02061917), PSNR 16.60634232 (16.85858742), SSIM 0.23281448 (0.24068430)\n",
      "Finished training epoch 71\n",
      "Validate: MSE 0.02477111 (0.02649373), PSNR 16.06054497 (15.77322766), SSIM 0.09915832 (0.12077406)\n",
      "Finished validation.\n",
      "Starting training epoch 72\n",
      "Epoch: 72, MSE 0.02121111 (0.02061563), PSNR 16.73436356 (16.85924983), SSIM 0.24903397 (0.24052687)\n",
      "Finished training epoch 72\n",
      "Validate: MSE 0.02510015 (0.02680070), PSNR 16.00323677 (15.72297536), SSIM 0.08976237 (0.11205839)\n",
      "Finished validation.\n",
      "Starting training epoch 73\n",
      "Epoch: 73, MSE 0.02063284 (0.02060546), PSNR 16.85440826 (16.86151827), SSIM 0.25894737 (0.24084831)\n",
      "Finished training epoch 73\n",
      "Validate: MSE 0.02501027 (0.02681816), PSNR 16.01881599 (15.72021177), SSIM 0.09441577 (0.11627467)\n",
      "Finished validation.\n",
      "Starting training epoch 74\n",
      "Epoch: 74, MSE 0.02187249 (0.02058680), PSNR 16.60101700 (16.86524147), SSIM 0.22227645 (0.24115001)\n",
      "Finished training epoch 74\n",
      "Validate: MSE 0.02707861 (0.02884188), PSNR 15.67373466 (15.40372699), SSIM 0.09142735 (0.11499059)\n",
      "Finished validation.\n",
      "Starting training epoch 75\n",
      "Epoch: 75, MSE 0.02064244 (0.02059123), PSNR 16.85238838 (16.86442924), SSIM 0.23702249 (0.24107868)\n",
      "Finished training epoch 75\n",
      "Validate: MSE 0.02411780 (0.02589082), PSNR 16.17662430 (15.87329573), SSIM 0.09785336 (0.11988488)\n",
      "Finished validation.\n",
      "Starting training epoch 76\n",
      "Epoch: 76, MSE 0.02013483 (0.02058793), PSNR 16.96051979 (16.86515172), SSIM 0.24750796 (0.24132684)\n",
      "Finished training epoch 76\n",
      "Validate: MSE 0.02609080 (0.02787069), PSNR 15.83512402 (15.55257121), SSIM 0.10349722 (0.12482307)\n",
      "Finished validation.\n",
      "Starting training epoch 77\n",
      "Epoch: 77, MSE 0.02161060 (0.02058763), PSNR 16.65333176 (16.86512055), SSIM 0.22593060 (0.24103124)\n",
      "Finished training epoch 77\n",
      "Validate: MSE 0.02374790 (0.02543385), PSNR 16.24374771 (15.95077885), SSIM 0.09461857 (0.11735125)\n",
      "Finished validation.\n",
      "Starting training epoch 78\n",
      "Epoch: 78, MSE 0.02036013 (0.02059858), PSNR 16.91219330 (16.86301353), SSIM 0.24033976 (0.24078711)\n",
      "Finished training epoch 78\n",
      "Validate: MSE 0.02300385 (0.02448184), PSNR 16.38199425 (16.11675085), SSIM 0.10486859 (0.12560610)\n",
      "Finished validation.\n",
      "Starting training epoch 79\n",
      "Epoch: 79, MSE 0.02037138 (0.02057876), PSNR 16.90979385 (16.86701846), SSIM 0.23057561 (0.24132444)\n",
      "Finished training epoch 79\n",
      "Validate: MSE 0.02470452 (0.02634469), PSNR 16.07223511 (15.79778899), SSIM 0.08777238 (0.11227661)\n",
      "Finished validation.\n",
      "Starting training epoch 80\n",
      "Epoch: 80, MSE 0.02075118 (0.02057989), PSNR 16.82957268 (16.86693352), SSIM 0.24422427 (0.24115011)\n",
      "Finished training epoch 80\n",
      "Validate: MSE 0.02514447 (0.02680323), PSNR 15.99557495 (15.72238917), SSIM 0.09533091 (0.11859731)\n",
      "Finished validation.\n"
     ]
    },
    {
     "data": {
      "text/plain": [
       "<Figure size 432x288 with 0 Axes>"
      ]
     },
     "metadata": {},
     "output_type": "display_data"
    }
   ],
   "source": [
    "# Train model\n",
    "for epoch in range(epochs):\n",
    "    # Train for one epoch, then validate\n",
    "    train(train_loader, model, criterion, optimizer, epoch)\n",
    "    with torch.no_grad():\n",
    "        losses = validate(val_loader, model, criterion, save_images, epoch)\n",
    "    # Save checkpoint and replace old best model if current model is better\n",
    "    if losses[0] < best_losses[0]:\n",
    "        best_losses[0] = losses[0]\n",
    "        best_epoch = epoch\n",
    "        torch.save(model.state_dict(), f'{checkpoints}/epoch-{epoch}-MSELoss-{losses[0]:.8f}.pth')\n",
    "    if losses[1] < best_losses[1]:\n",
    "        best_losses[1] = losses[1]\n",
    "        torch.save(model.state_dict(), f'{checkpoints}/epoch-{epoch}-PSNRLoss-{losses[1]:.8f}.pth')\n",
    "    if losses[2] < best_losses[2]:\n",
    "        best_losses[2] = losses[2]\n",
    "        torch.save(model.state_dict(), f'{checkpoints}/epoch-{epoch}-SSIMLoss-{losses[2]:.8f}.pth')\n",
    "    \n",
    "    if epoch - best_epoch >= patience:\n",
    "        torch.save(model.state_dict(), f'{checkpoints}/epoch-{epoch}-MSELoss-{losses[0]:.8f}-early_stop.pth')\n",
    "        break\n",
    "    \n",
    "    if epoch == epochs - 1:\n",
    "        torch.save(model.state_dict(), f'{checkpoints}/epoch-{epoch}-last-{losses[0]:.8f}-{losses[1]:.8f}-{losses[2]:.8f}.pth')\n"
   ]
  },
  {
   "cell_type": "code",
   "execution_count": 20,
   "metadata": {
    "scrolled": true
   },
   "outputs": [],
   "source": [
    "torch.save(model.state_dict(), f'{checkpoints}/last-{losses[0]:.8f}-{losses[1]:.8f}-{losses[2]:.8f}.pth')"
   ]
  },
  {
   "cell_type": "code",
   "execution_count": 21,
   "metadata": {
    "colab": {
     "base_uri": "https://localhost:8080/",
     "height": 1593
    },
    "id": "UcovGnpHMl9D",
    "outputId": "90b7a2b4-dc03-4862-cf02-c7ddbbb7e500"
   },
   "outputs": [
    {
     "name": "stdout",
     "output_type": "stream",
     "text": [
      "Validate: MSE 0.02514447 (0.02680323), PSNR 15.99557495 (15.72238916), SSIM 0.09533089 (0.11859731)\n",
      "Finished validation.\n"
     ]
    },
    {
     "data": {
      "text/plain": [
       "<Figure size 432x288 with 0 Axes>"
      ]
     },
     "metadata": {},
     "output_type": "display_data"
    }
   ],
   "source": [
    "# Validate\n",
    "save_images = True\n",
    "with torch.no_grad():\n",
    "    validate(val_loader, model, criterion, save_images, -1)"
   ]
  },
  {
   "cell_type": "code",
   "execution_count": 22,
   "metadata": {},
   "outputs": [],
   "source": [
    "# # Show images \n",
    "# image_pairs = []\n",
    "\n",
    "# for i in range(10):\n",
    "#     image_pairs.append((f'{color_imgs}img-{i}-epoch-{best_epoch}.jpg', f'{gray_imgs}img-{i}-epoch-{best_epoch}.jpg'))\n",
    "    \n",
    "# for c, g in image_pairs:\n",
    "#   color = mpimg.imread(c)\n",
    "#   gray  = mpimg.imread(g)\n",
    "#   f, axarr = plt.subplots(1, 2)\n",
    "#   f.set_size_inches(15, 15)\n",
    "#   axarr[0].imshow(gray, cmap='gray')\n",
    "#   axarr[1].imshow(color)\n",
    "#   axarr[0].axis('off'), axarr[1].axis('off')\n",
    "#   plt.show()"
   ]
  },
  {
   "cell_type": "code",
   "execution_count": null,
   "metadata": {},
   "outputs": [],
   "source": []
  }
 ],
 "metadata": {
  "accelerator": "GPU",
  "colab": {
   "provenance": []
  },
  "kernelspec": {
   "display_name": "Python 3 (ipykernel)",
   "language": "python",
   "name": "python3"
  },
  "language_info": {
   "codemirror_mode": {
    "name": "ipython",
    "version": 3
   },
   "file_extension": ".py",
   "mimetype": "text/x-python",
   "name": "python",
   "nbconvert_exporter": "python",
   "pygments_lexer": "ipython3",
   "version": "3.10.6"
  }
 },
 "nbformat": 4,
 "nbformat_minor": 4
}
