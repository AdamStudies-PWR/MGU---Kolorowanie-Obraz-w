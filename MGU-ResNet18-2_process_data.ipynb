{
 "cells": [
  {
   "cell_type": "code",
   "execution_count": 1,
   "id": "b593a8d7",
   "metadata": {},
   "outputs": [
    {
     "name": "stdout",
     "output_type": "stream",
     "text": [
      "--2022-12-03 09:56:39--  https://www.cs.toronto.edu/~kriz/cifar-10-python.tar.gz\n",
      "Translacja www.cs.toronto.edu (www.cs.toronto.edu)... 128.100.3.30\n",
      "Łączenie się z www.cs.toronto.edu (www.cs.toronto.edu)|128.100.3.30|:443... połączono.\n",
      "Żądanie HTTP wysłano, oczekiwanie na odpowiedź... 200 OK\n",
      "Długość: 170498071 (163M) [application/x-gzip]\n",
      "Zapis do: ‘cifar-10-python.tar.gz’\n",
      "\n",
      "cifar-10-python.tar 100%[===================>] 162,60M  25,4MB/s    w 7,2s     \n",
      "\n",
      "2022-12-03 09:56:46 (22,5 MB/s) - zapisano ‘cifar-10-python.tar.gz’ [170498071/170498071]\n",
      "\n"
     ]
    }
   ],
   "source": [
    "# Download and unzip\n",
    "!wget https://www.cs.toronto.edu/~kriz/cifar-10-python.tar.gz\n",
    "!tar -xzf cifar-10-python.tar.gz\n",
    "!mkdir ResNet18_color ResNet18_color/pixel_data"
   ]
  },
  {
   "cell_type": "code",
   "execution_count": 2,
   "id": "4b1cb8d4",
   "metadata": {},
   "outputs": [],
   "source": [
    "import os\n",
    "import glob\n",
    "import pickle\n",
    "\n",
    "import numpy as np\n",
    "from skimage.io import imsave\n",
    "from PIL import Image"
   ]
  },
  {
   "cell_type": "code",
   "execution_count": 3,
   "id": "a3a5a8e2",
   "metadata": {},
   "outputs": [
    {
     "name": "stdout",
     "output_type": "stream",
     "text": [
      "test_batch\n",
      "data_batch_1\n",
      "data_batch_2\n",
      "data_batch_4\n"
     ]
    },
    {
     "name": "stderr",
     "output_type": "stream",
     "text": [
      "/tmp/ipykernel_10972/3224075126.py:20: UserWarning: ResNet18_color/pixel_data/train/2/flying_bird_s_001061.png is a low contrast image\n",
      "  imsave(os.path.join(PIXELS_DIR + str(label), fname), img)\n"
     ]
    },
    {
     "name": "stdout",
     "output_type": "stream",
     "text": [
      "data_batch_3\n",
      "data_batch_5\n"
     ]
    }
   ],
   "source": [
    "ResNet18_color = \"ResNet18_color/\"\n",
    "ResNet18_gray = \"ResNet18_gray/\"\n",
    "PIXELS_DIR = f\"{ResNet18_color}pixel_data/\"\n",
    "PIXELS_DIR_GRAY = f\"{ResNet18_gray}pixel_data_grayscale/\"\n",
    "\n",
    "\n",
    "def unpack_file(fname):\n",
    "    with open(fname, \"rb\") as f:\n",
    "        result = pickle.load(f, encoding=\"bytes\")\n",
    "    return result\n",
    "\n",
    "\n",
    "def save_as_image(img_flat, fname, label):\n",
    "    # consecutive 1024 entries store color channels of 32x32 image\n",
    "    img_R = img_flat[0:1024].reshape((32, 32))\n",
    "    img_G = img_flat[1024:2048].reshape((32, 32))\n",
    "    img_B = img_flat[2048:3072].reshape((32, 32))\n",
    "    img = np.dstack((img_R, img_G, img_B))\n",
    "\n",
    "    imsave(os.path.join(PIXELS_DIR + str(label), fname), img)\n",
    "\n",
    "    \n",
    "for i in range(10):\n",
    "    os.makedirs(f\"{PIXELS_DIR}{'train/'}{i}\", exist_ok=True)\n",
    "    os.makedirs(f\"{PIXELS_DIR}{'test/'}{i}\", exist_ok=True)\n",
    "    os.makedirs(f\"{PIXELS_DIR_GRAY}{'train/'}{i}\", exist_ok=True)\n",
    "    os.makedirs(f\"{PIXELS_DIR_GRAY}{'test/'}{i}\", exist_ok=True)\n",
    "                 \n",
    "# use \"data_batch_*\" for just the training set\n",
    "for batch in glob.glob(\"cifar-10-batches-py/*_batch*\"):\n",
    "    print(batch[20:])\n",
    "    if batch[20:] == \"test_batch\":\n",
    "        dataset = \"test\"\n",
    "    else:\n",
    "        dataset = \"train\"\n",
    "        \n",
    "    data = unpack_file(batch)\n",
    "\n",
    "    for i in range(10000):\n",
    "        img_flat = data[b\"data\"][i]\n",
    "        fname = data[b\"filenames\"][i].decode()\n",
    "        label = data[b\"labels\"][i]\n",
    "\n",
    "        # save the image and store the label\n",
    "        save_as_image(img_flat, fname, f\"{dataset}/{label}\")"
   ]
  },
  {
   "cell_type": "code",
   "execution_count": 4,
   "id": "5f08c976",
   "metadata": {},
   "outputs": [],
   "source": [
    "for folder in os.listdir(PIXELS_DIR):\n",
    "    for folder2 in os.listdir(f\"{PIXELS_DIR}{folder}\"):\n",
    "        for file in os.listdir(f\"{PIXELS_DIR}{folder}/{folder2}\"):\n",
    "            img = Image.open(f\"{PIXELS_DIR}{folder}/{folder2}/{file}\").convert('L')\n",
    "            img.save(f\"{PIXELS_DIR_GRAY}{folder}/{folder2}/{file}\")"
   ]
  },
  {
   "cell_type": "code",
   "execution_count": null,
   "id": "165a16d3",
   "metadata": {},
   "outputs": [],
   "source": []
  }
 ],
 "metadata": {
  "kernelspec": {
   "display_name": "Python 3 (ipykernel)",
   "language": "python",
   "name": "python3"
  },
  "language_info": {
   "codemirror_mode": {
    "name": "ipython",
    "version": 3
   },
   "file_extension": ".py",
   "mimetype": "text/x-python",
   "name": "python",
   "nbconvert_exporter": "python",
   "pygments_lexer": "ipython3",
   "version": "3.10.6"
  }
 },
 "nbformat": 4,
 "nbformat_minor": 5
}
