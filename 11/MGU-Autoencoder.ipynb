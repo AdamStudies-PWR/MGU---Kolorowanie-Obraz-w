{
 "cells": [
  {
   "cell_type": "code",
   "execution_count": 1,
   "metadata": {
    "id": "J_Y9UFYhKbuE"
   },
   "outputs": [],
   "source": [
    "# For plotting\n",
    "import numpy as np\n",
    "import matplotlib.pyplot as plt\n",
    "import matplotlib.image as mpimg\n",
    "%matplotlib inline\n",
    "# For conversion\n",
    "from skimage.color import lab2rgb, rgb2lab, rgb2gray\n",
    "from skimage import io\n",
    "# For everything\n",
    "import torch\n",
    "import torch.nn as nn\n",
    "import torch.nn.functional as F\n",
    "# For our model\n",
    "import torchvision\n",
    "import torchvision.models as models\n",
    "from torchvision import datasets, transforms\n",
    "from torchmetrics import MeanSquaredError, PeakSignalNoiseRatio, StructuralSimilarityIndexMeasure\n",
    "from PIL import Image\n",
    "# For utilities\n",
    "import os, shutil, time"
   ]
  },
  {
   "cell_type": "code",
   "execution_count": 2,
   "metadata": {},
   "outputs": [
    {
     "data": {
      "text/html": [
       "\n",
       "      <iframe id=\"tensorboard-frame-589bc3166f55d028\" width=\"100%\" height=\"800\" frameborder=\"0\">\n",
       "      </iframe>\n",
       "      <script>\n",
       "        (function() {\n",
       "          const frame = document.getElementById(\"tensorboard-frame-589bc3166f55d028\");\n",
       "          const url = new URL(\"/\", window.location);\n",
       "          const port = 6008;\n",
       "          if (port) {\n",
       "            url.port = port;\n",
       "          }\n",
       "          frame.src = url;\n",
       "        })();\n",
       "      </script>\n",
       "    "
      ],
      "text/plain": [
       "<IPython.core.display.HTML object>"
      ]
     },
     "metadata": {},
     "output_type": "display_data"
    }
   ],
   "source": [
    "%load_ext tensorboard\n",
    "%tensorboard --logdir=runs"
   ]
  },
  {
   "cell_type": "code",
   "execution_count": 3,
   "metadata": {},
   "outputs": [],
   "source": [
    "from torch.utils.tensorboard import SummaryWriter\n",
    "writer = SummaryWriter()"
   ]
  },
  {
   "cell_type": "code",
   "execution_count": 4,
   "metadata": {
    "id": "gMolrzKA_1uJ"
   },
   "outputs": [
    {
     "name": "stdout",
     "output_type": "stream",
     "text": [
      "True\n"
     ]
    }
   ],
   "source": [
    "# Check if GPU is available\n",
    "use_gpu = torch.cuda.is_available()\n",
    "print(use_gpu)"
   ]
  },
  {
   "cell_type": "code",
   "execution_count": 5,
   "metadata": {
    "id": "05NviQfzU2Mv"
   },
   "outputs": [],
   "source": [
    "SIZE = 32\n",
    "class LabImageFolder(torch.utils.data.Dataset):\n",
    "    def __init__(self, paths, split='train'):\n",
    "        if split == 'train':\n",
    "            self.transforms = transforms.Compose([\n",
    "                transforms.Resize((SIZE, SIZE), transforms.InterpolationMode.BICUBIC),\n",
    "                transforms.RandomCrop(SIZE),\n",
    "                transforms.RandomHorizontalFlip(), \n",
    "                transforms.ToTensor(),\n",
    "                transforms.Normalize((0.4918019, 0.48263696, 0.44733968), (0.24705184, 0.2433789, 0.26162848)),\n",
    "                transforms.ToPILImage()\n",
    "            ])\n",
    "        elif split == 'val':\n",
    "            self.transforms = transforms.Compose([\n",
    "                transforms.Resize((SIZE, SIZE), transforms.InterpolationMode.BICUBIC), \n",
    "                transforms.RandomCrop(SIZE),\n",
    "                transforms.ToTensor(),\n",
    "                transforms.Normalize((0.4918019, 0.48263696, 0.44733968), (0.24705184, 0.2433789, 0.26162848)),\n",
    "                transforms.ToPILImage()\n",
    "            ])\n",
    "            \n",
    "        self.split = split\n",
    "        self.size = SIZE\n",
    "        self.paths = [os.path.join(paths, file) for file in os.listdir(paths) if os.path.isfile(\n",
    "            os.path.join(paths, file))]\n",
    "        \n",
    "        \n",
    "    def __getitem__(self, index):\n",
    "        img = Image.open(self.paths[index]).convert(\"RGB\")\n",
    "        img_original = self.transforms(img)\n",
    "        img_original = np.asarray(img_original)\n",
    "        img_lab = rgb2lab(img_original)\n",
    "        img_lab = (img_lab + 128) / 255\n",
    "        img_ab = img_lab[:, :, 1:3]\n",
    "        img_ab = torch.from_numpy(img_ab.transpose((2, 0, 1))).float()\n",
    "        img_gray = rgb2gray(img_original)\n",
    "        img_gray = torch.from_numpy(img_gray).unsqueeze(0).float()\n",
    "        return img_gray, img_ab\n",
    "    \n",
    "    def __len__(self):\n",
    "        return len(self.paths)"
   ]
  },
  {
   "cell_type": "code",
   "execution_count": 6,
   "metadata": {},
   "outputs": [],
   "source": [
    "# Training\n",
    "batch_size = 128\n",
    "train_imagefolder = LabImageFolder('../../datasets/cifar10/train')\n",
    "train_loader = torch.utils.data.DataLoader(train_imagefolder, batch_size=batch_size, shuffle=True)\n",
    "# Validation \n",
    "val_imagefolder = LabImageFolder('../../datasets/cifar10/val' , 'val')\n",
    "val_loader = torch.utils.data.DataLoader(val_imagefolder, batch_size=batch_size, shuffle=False)"
   ]
  },
  {
   "cell_type": "code",
   "execution_count": 7,
   "metadata": {
    "id": "NOQfP1feNkfS"
   },
   "outputs": [],
   "source": [
    "kernel_size=3\n",
    "stride_en=2\n",
    "stride_de=1\n",
    "padding=1\n",
    "scale_factor=2\n",
    "padding_mode='zeros'\n",
    "\n",
    "\n",
    "class Autoencoder(nn.Module):\n",
    "    def __init__(self):\n",
    "        super(Autoencoder, self).__init__()\n",
    "\n",
    "        self.conv1 = nn.Conv2d(1, 16, kernel_size=kernel_size, stride=stride_en, padding=padding, padding_mode=padding_mode)\n",
    "        self.conv2 = nn.Conv2d(16, 32, kernel_size=kernel_size, stride=stride_en, padding=padding, padding_mode=padding_mode)\n",
    "        \n",
    "        self.convtrans1 = nn.ConvTranspose2d(32, 16, kernel_size=kernel_size, stride=stride_de, padding=padding, padding_mode=padding_mode)\n",
    "        self.convtrans2 = nn.ConvTranspose2d(16, 8, kernel_size=kernel_size, stride=stride_de, padding=padding, padding_mode=padding_mode)\n",
    "        self.convtrans3 = nn.ConvTranspose2d(8, 2, kernel_size=kernel_size, stride=stride_de, padding=padding, padding_mode=padding_mode)\n",
    "\n",
    "        self.batchnorm8 = nn.BatchNorm2d(8)\n",
    "        self.batchnorm16 = nn.BatchNorm2d(16)\n",
    "        self.batchnorm32 = nn.BatchNorm2d(32)\n",
    "        \n",
    "        \n",
    "    def forward(self, input):\n",
    "        # encoder\n",
    "        x = F.relu(self.batchnorm16(self.conv1(input)))\n",
    "        x = F.relu(self.batchnorm32(self.conv2(x)))\n",
    "        \n",
    "        # decoder\n",
    "        x = F.relu(self.batchnorm16(self.convtrans1(x)))\n",
    "        x = F.interpolate(x, scale_factor=scale_factor)\n",
    "        x = F.relu(self.batchnorm8(self.convtrans2(x)))\n",
    "        x = F.interpolate(self.convtrans3(x), scale_factor=scale_factor)\n",
    "\n",
    "        return x"
   ]
  },
  {
   "cell_type": "code",
   "execution_count": 8,
   "metadata": {
    "id": "OtRkAkIjTeq1"
   },
   "outputs": [],
   "source": [
    "model = Autoencoder()"
   ]
  },
  {
   "cell_type": "code",
   "execution_count": 9,
   "metadata": {},
   "outputs": [],
   "source": [
    "criterion = [MeanSquaredError(), PeakSignalNoiseRatio(data_range=1.0), StructuralSimilarityIndexMeasure(data_range=1.0)]"
   ]
  },
  {
   "cell_type": "code",
   "execution_count": 10,
   "metadata": {
    "id": "j3YZ3977TTl4"
   },
   "outputs": [],
   "source": [
    "optimizer = torch.optim.Adam(model.parameters(), lr=1e-2)"
   ]
  },
  {
   "cell_type": "code",
   "execution_count": 11,
   "metadata": {
    "id": "eeHK3BUtANrw"
   },
   "outputs": [],
   "source": [
    "# # Move model and loss function to GPU\n",
    "if use_gpu: \n",
    "    criterion = [criterion[0].to(\"cuda\"), criterion[1].to(\"cuda\"), criterion[2].to(\"cuda\")]\n",
    "    model = model.cuda()"
   ]
  },
  {
   "cell_type": "code",
   "execution_count": 12,
   "metadata": {
    "scrolled": false
   },
   "outputs": [
    {
     "name": "stdout",
     "output_type": "stream",
     "text": [
      "----------------------------------------------------------------\n",
      "        Layer (type)               Output Shape         Param #\n",
      "================================================================\n",
      "            Conv2d-1           [-1, 16, 16, 16]             160\n",
      "       BatchNorm2d-2           [-1, 16, 16, 16]              32\n",
      "            Conv2d-3             [-1, 32, 8, 8]           4,640\n",
      "       BatchNorm2d-4             [-1, 32, 8, 8]              64\n",
      "   ConvTranspose2d-5             [-1, 16, 8, 8]           4,624\n",
      "       BatchNorm2d-6             [-1, 16, 8, 8]              32\n",
      "   ConvTranspose2d-7            [-1, 8, 16, 16]           1,160\n",
      "       BatchNorm2d-8            [-1, 8, 16, 16]              16\n",
      "   ConvTranspose2d-9            [-1, 2, 16, 16]             146\n",
      "================================================================\n",
      "Total params: 10,874\n",
      "Trainable params: 10,874\n",
      "Non-trainable params: 0\n",
      "----------------------------------------------------------------\n",
      "Input size (MB): 0.00\n",
      "Forward/backward pass size (MB): 0.14\n",
      "Params size (MB): 0.04\n",
      "Estimated Total Size (MB): 0.19\n",
      "----------------------------------------------------------------\n"
     ]
    }
   ],
   "source": [
    "if use_gpu: \n",
    "    from torchsummary import summary\n",
    "    summary(model, (1, SIZE, SIZE))"
   ]
  },
  {
   "cell_type": "code",
   "execution_count": 13,
   "metadata": {
    "id": "2FDRt12jsIkr"
   },
   "outputs": [],
   "source": [
    "class AverageMeter(object):\n",
    "    '''A handy class from the PyTorch ImageNet tutorial''' \n",
    "    def __init__(self):\n",
    "        self.reset()\n",
    "    def reset(self):\n",
    "        self.val, self.avg, self.sum, self.count = 0, 0, 0, 0\n",
    "    def update(self, val, n=1):\n",
    "        self.val = val\n",
    "        self.sum += val * n\n",
    "        self.count += n\n",
    "        self.avg = self.sum / self.count\n",
    "\n",
    "def to_rgb(grayscale_input, ab_input, save_path=None, save_name=None):\n",
    "    '''Show/save rgb image from grayscale and ab channels\n",
    "       Input save_path in the form {'grayscale': '/path/', 'colorized': '/path/'}'''\n",
    "    plt.clf() # clear matplotlib \n",
    "    color_image = torch.cat((grayscale_input, ab_input), 0).numpy() # combine channels\n",
    "    color_image = color_image.transpose((1, 2, 0))  # rescale for matplotlib\n",
    "    color_image[:, :, 0:1] = color_image[:, :, 0:1] * 100\n",
    "    color_image[:, :, 1:3] = color_image[:, :, 1:3] * 255 - 128   \n",
    "    color_image = lab2rgb(color_image.astype(np.float64))\n",
    "    grayscale_input = grayscale_input.squeeze().numpy()\n",
    "    if save_path is not None and save_name is not None: \n",
    "        plt.imsave(arr=grayscale_input, fname='{}{}'.format(save_path['grayscale'], save_name), cmap='gray')\n",
    "        plt.imsave(arr=color_image, fname='{}{}'.format(save_path['colorized'], save_name))"
   ]
  },
  {
   "cell_type": "code",
   "execution_count": 14,
   "metadata": {},
   "outputs": [],
   "source": [
    "color_imgs = 'outputs/color/'\n",
    "gray_imgs = 'outputs/gray/'"
   ]
  },
  {
   "cell_type": "code",
   "execution_count": 15,
   "metadata": {
    "id": "M_OTbyOcrh9J"
   },
   "outputs": [],
   "source": [
    "def validate(val_loader, model, criterion, save_images, epoch):\n",
    "    _loss = [AverageMeter(), AverageMeter(), AverageMeter()]\n",
    "\n",
    "    model.eval()\n",
    "    already_saved_images = False\n",
    "    for gray, ab in val_loader:\n",
    "        if use_gpu: \n",
    "            gray, ab = gray.cuda(), ab.cuda()\n",
    "\n",
    "        # Run model and record loss\n",
    "        output_ab = model(gray) # throw away class predictions\n",
    "        loss = [criterion[0](output_ab, ab), criterion[1](output_ab, ab), criterion[2](output_ab, ab)]\n",
    "        \n",
    "        _loss[0].update(loss[0].item(), gray.size(0))\n",
    "        _loss[1].update(loss[1].item(), gray.size(0))\n",
    "        _loss[2].update(loss[2].item(), gray.size(0))\n",
    "\n",
    "        # Save images to file\n",
    "        if save_images and not already_saved_images:\n",
    "            already_saved_images = True\n",
    "            for j in range(min(len(output_ab), 10)): # save at most 5 images\n",
    "                save_path = {'grayscale': gray_imgs, 'colorized': color_imgs}\n",
    "                save_name = 'img-{}-epoch-{}.jpg'.format(j, epoch)\n",
    "                to_rgb(gray[j].cpu(), ab_input=output_ab[j].detach().cpu(), save_path=save_path, save_name=save_name)\n",
    "\n",
    "    print(f'Validate: MSE {_loss[0].val:.8f} ({_loss[0].avg:.8f}), PSNR {_loss[1].val:.8f} ({_loss[1].avg:.8f}), SSIM {_loss[2].val:.8f} ({_loss[2].avg:.8f})')\n",
    "\n",
    "    print('Finished validation.')\n",
    "    if epoch >= 0:        \n",
    "        writer.add_scalar(\"MSE/test\", _loss[0].avg, epoch)\n",
    "        writer.add_scalar(\"PSNR/test\", _loss[1].avg, epoch)\n",
    "        writer.add_scalar(\"SSIM/test\", _loss[2].avg, epoch)\n",
    "    return _loss[0].avg, _loss[1].avg, _loss[2].avg"
   ]
  },
  {
   "cell_type": "code",
   "execution_count": 16,
   "metadata": {
    "id": "FOo__iEnvLMB"
   },
   "outputs": [],
   "source": [
    "def train(train_loader, model, criterion, optimizer, epoch):\n",
    "    print(f'Starting training epoch {epoch}')\n",
    "    _loss = [AverageMeter(), AverageMeter(), AverageMeter()]\n",
    "    \n",
    "    model.train()\n",
    "\n",
    "    for gray, ab in train_loader:\n",
    "        if use_gpu: \n",
    "            gray, ab = gray.cuda(), ab.cuda()\n",
    "            \n",
    "        optimizer.zero_grad()\n",
    "\n",
    "        output_ab = model(gray) \n",
    "        loss = [criterion[0](output_ab, ab), criterion[1](output_ab, ab), criterion[2](output_ab, ab)]\n",
    "        \n",
    "        loss[0].backward()\n",
    "        optimizer.step()\n",
    "        \n",
    "        _loss[0].update(loss[0].item(), gray.size(0))\n",
    "        _loss[1].update(loss[1].item(), gray.size(0))\n",
    "        _loss[2].update(loss[2].item(), gray.size(0))\n",
    "        \n",
    "    print(f'Epoch: {epoch}, MSE {_loss[0].val:.8f} ({_loss[0].avg:.8f}), PSNR {_loss[1].val:.8f} ({_loss[1].avg:.8f}), SSIM {_loss[2].val:.8f} ({_loss[2].avg:.8f})')\n",
    "\n",
    "    print(f'Finished training epoch {epoch}')\n",
    "    if epoch >= 0:\n",
    "        writer.add_scalar(\"MSE/train\", _loss[0].avg, epoch)\n",
    "        writer.add_scalar(\"PSNR/train\", _loss[1].avg, epoch)\n",
    "        writer.add_scalar(\"SSIM/train\", _loss[2].avg, epoch)"
   ]
  },
  {
   "cell_type": "code",
   "execution_count": 17,
   "metadata": {
    "id": "ckNmKA5VwSh1"
   },
   "outputs": [],
   "source": [
    "# Make folders and set parameters\n",
    "checkpoints = 'checkpoints'\n",
    "os.makedirs(color_imgs, exist_ok=True)\n",
    "os.makedirs(gray_imgs, exist_ok=True)\n",
    "os.makedirs(checkpoints, exist_ok=True)\n",
    "save_images = True\n",
    "best_losses = [1e10, 1e10, 1e10]\n",
    "best_epoch = -1\n",
    "patience = 50\n",
    "epochs = 500"
   ]
  },
  {
   "cell_type": "code",
   "execution_count": 18,
   "metadata": {
    "colab": {
     "base_uri": "https://localhost:8080/",
     "height": 625
    },
    "id": "XUR6ALi3AZoO",
    "outputId": "4b274c7b-fc1d-4e14-dc1f-a7ef93f3663f",
    "scrolled": true
   },
   "outputs": [
    {
     "name": "stdout",
     "output_type": "stream",
     "text": [
      "Starting training epoch 0\n",
      "Epoch: 0, MSE 0.02241333 (0.03211824), PSNR 16.49493599 (15.66901112), SSIM 0.11696269 (0.09546477)\n",
      "Finished training epoch 0\n",
      "Validate: MSE 0.03066520 (0.03201322), PSNR 15.13354111 (14.95082111), SSIM 0.07589810 (0.09166242)\n",
      "Finished validation.\n",
      "Starting training epoch 1\n",
      "Epoch: 1, MSE 0.02364009 (0.02330233), PSNR 16.26350975 (16.32729729), SSIM 0.15346698 (0.13573446)\n",
      "Finished training epoch 1\n",
      "Validate: MSE 0.03082146 (0.03223589), PSNR 15.11146736 (14.92153434), SSIM 0.07904083 (0.09533097)\n",
      "Finished validation.\n",
      "Starting training epoch 2\n",
      "Epoch: 2, MSE 0.02220094 (0.02277298), PSNR 16.53628540 (16.42711611), SSIM 0.17445832 (0.16642855)\n",
      "Finished training epoch 2\n",
      "Validate: MSE 0.03347111 (0.03482657), PSNR 14.75329781 (14.58551211), SSIM 0.07771093 (0.09247864)\n",
      "Finished validation.\n",
      "Starting training epoch 3\n",
      "Epoch: 3, MSE 0.02203953 (0.02250829), PSNR 16.56797600 (16.47761720), SSIM 0.19629548 (0.18189216)\n",
      "Finished training epoch 3\n",
      "Validate: MSE 0.03289222 (0.03423461), PSNR 14.82906723 (14.65982513), SSIM 0.08057977 (0.09521129)\n",
      "Finished validation.\n",
      "Starting training epoch 4\n",
      "Epoch: 4, MSE 0.02201360 (0.02236401), PSNR 16.57308960 (16.50563222), SSIM 0.19939785 (0.18946267)\n",
      "Finished training epoch 4\n",
      "Validate: MSE 0.03265125 (0.03401610), PSNR 14.86100101 (14.68754889), SSIM 0.08419310 (0.09815207)\n",
      "Finished validation.\n",
      "Starting training epoch 5\n",
      "Epoch: 5, MSE 0.02267774 (0.02228330), PSNR 16.44400215 (16.52140706), SSIM 0.19493237 (0.19459918)\n",
      "Finished training epoch 5\n",
      "Validate: MSE 0.03232367 (0.03396945), PSNR 14.90479279 (14.69344855), SSIM 0.07874166 (0.09251572)\n",
      "Finished validation.\n",
      "Starting training epoch 6\n",
      "Epoch: 6, MSE 0.02192776 (0.02219139), PSNR 16.59005737 (16.53926076), SSIM 0.20647439 (0.19836892)\n",
      "Finished training epoch 6\n",
      "Validate: MSE 0.03368208 (0.03532036), PSNR 14.72601128 (14.52400070), SSIM 0.06950846 (0.08501789)\n",
      "Finished validation.\n",
      "Starting training epoch 7\n",
      "Epoch: 7, MSE 0.02182930 (0.02212630), PSNR 16.60960197 (16.55196100), SSIM 0.20644495 (0.20053758)\n",
      "Finished training epoch 7\n",
      "Validate: MSE 0.03205123 (0.03375458), PSNR 14.94155216 (14.72112980), SSIM 0.06947502 (0.08545967)\n",
      "Finished validation.\n",
      "Starting training epoch 8\n",
      "Epoch: 8, MSE 0.02241245 (0.02207633), PSNR 16.49510384 (16.56178160), SSIM 0.20885305 (0.20186305)\n",
      "Finished training epoch 8\n",
      "Validate: MSE 0.03284834 (0.03443462), PSNR 14.83486557 (14.63464759), SSIM 0.07045865 (0.08665436)\n",
      "Finished validation.\n",
      "Starting training epoch 9\n",
      "Epoch: 9, MSE 0.02254561 (0.02204010), PSNR 16.46937943 (16.56896228), SSIM 0.19782943 (0.20286923)\n",
      "Finished training epoch 9\n",
      "Validate: MSE 0.03089415 (0.03250277), PSNR 15.10123634 (14.88570706), SSIM 0.07947585 (0.09459559)\n",
      "Finished validation.\n",
      "Starting training epoch 10\n",
      "Epoch: 10, MSE 0.02268830 (0.02199929), PSNR 16.44197845 (16.57704788), SSIM 0.19610032 (0.20360993)\n",
      "Finished training epoch 10\n",
      "Validate: MSE 0.02896732 (0.03064232), PSNR 15.38091660 (15.14199643), SSIM 0.08734262 (0.10156022)\n",
      "Finished validation.\n",
      "Starting training epoch 11\n",
      "Epoch: 11, MSE 0.02207762 (0.02196252), PSNR 16.56047630 (16.58437235), SSIM 0.20817883 (0.20430844)\n",
      "Finished training epoch 11\n",
      "Validate: MSE 0.02542707 (0.02716510), PSNR 15.94703579 (15.66552661), SSIM 0.09341045 (0.10837408)\n",
      "Finished validation.\n",
      "Starting training epoch 12\n",
      "Epoch: 12, MSE 0.02171261 (0.02193394), PSNR 16.63287926 (16.59001539), SSIM 0.20253296 (0.20478958)\n",
      "Finished training epoch 12\n",
      "Validate: MSE 0.02485361 (0.02650055), PSNR 16.04610443 (15.77355852), SSIM 0.09517894 (0.11030104)\n",
      "Finished validation.\n",
      "Starting training epoch 13\n",
      "Epoch: 13, MSE 0.02283220 (0.02190700), PSNR 16.41452217 (16.59537263), SSIM 0.19974610 (0.20527653)\n",
      "Finished training epoch 13\n",
      "Validate: MSE 0.02535055 (0.02695787), PSNR 15.96012592 (15.69915479), SSIM 0.09685696 (0.11205687)\n",
      "Finished validation.\n",
      "Starting training epoch 14\n",
      "Epoch: 14, MSE 0.02147456 (0.02187868), PSNR 16.68075562 (16.60086434), SSIM 0.20648809 (0.20583205)\n",
      "Finished training epoch 14\n",
      "Validate: MSE 0.02420600 (0.02576626), PSNR 16.16076851 (15.89555691), SSIM 0.09983128 (0.11498901)\n",
      "Finished validation.\n",
      "Starting training epoch 15\n",
      "Epoch: 15, MSE 0.02241746 (0.02185382), PSNR 16.49413490 (16.60580420), SSIM 0.20319346 (0.20643745)\n",
      "Finished training epoch 15\n",
      "Validate: MSE 0.02318157 (0.02480266), PSNR 16.34856987 (16.06108088), SSIM 0.09889429 (0.11473403)\n",
      "Finished validation.\n",
      "Starting training epoch 16\n",
      "Epoch: 16, MSE 0.02216592 (0.02183751), PSNR 16.54314232 (16.60907648), SSIM 0.21225384 (0.20704259)\n",
      "Finished training epoch 16\n",
      "Validate: MSE 0.02328282 (0.02490162), PSNR 16.32964325 (16.04391061), SSIM 0.10332957 (0.11899162)\n",
      "Finished validation.\n",
      "Starting training epoch 17\n",
      "Epoch: 17, MSE 0.02217899 (0.02181300), PSNR 16.54058266 (16.61397687), SSIM 0.20465557 (0.20744211)\n",
      "Finished training epoch 17\n",
      "Validate: MSE 0.02267664 (0.02429208), PSNR 16.44421196 (16.15147142), SSIM 0.10389608 (0.12052141)\n",
      "Finished validation.\n",
      "Starting training epoch 18\n",
      "Epoch: 18, MSE 0.02274604 (0.02179619), PSNR 16.43094254 (16.61746925), SSIM 0.20398745 (0.20783051)\n",
      "Finished training epoch 18\n",
      "Validate: MSE 0.02286064 (0.02436083), PSNR 16.40911484 (16.13919167), SSIM 0.10536441 (0.12244748)\n",
      "Finished validation.\n",
      "Starting training epoch 19\n",
      "Epoch: 19, MSE 0.02188252 (0.02178560), PSNR 16.59902573 (16.61938756), SSIM 0.20195644 (0.20816327)\n",
      "Finished training epoch 19\n",
      "Validate: MSE 0.02251324 (0.02410264), PSNR 16.47562027 (16.18546251), SSIM 0.10739322 (0.12468821)\n",
      "Finished validation.\n",
      "Starting training epoch 20\n",
      "Epoch: 20, MSE 0.02128196 (0.02176841), PSNR 16.71988297 (16.62277196), SSIM 0.21282177 (0.20845967)\n",
      "Finished training epoch 20\n",
      "Validate: MSE 0.02282667 (0.02441057), PSNR 16.41557312 (16.13036167), SSIM 0.10577895 (0.12299751)\n",
      "Finished validation.\n",
      "Starting training epoch 21\n",
      "Epoch: 21, MSE 0.02329368 (0.02175726), PSNR 16.32761765 (16.62510878), SSIM 0.20395108 (0.20874453)\n",
      "Finished training epoch 21\n",
      "Validate: MSE 0.02244109 (0.02411292), PSNR 16.48955917 (16.18333499), SSIM 0.10776798 (0.12445607)\n",
      "Finished validation.\n",
      "Starting training epoch 22\n",
      "Epoch: 22, MSE 0.02206220 (0.02174855), PSNR 16.56351089 (16.62686113), SSIM 0.20329018 (0.20895773)\n",
      "Finished training epoch 22\n",
      "Validate: MSE 0.02265596 (0.02426710), PSNR 16.44817352 (16.15596265), SSIM 0.10535506 (0.12225771)\n",
      "Finished validation.\n",
      "Starting training epoch 23\n",
      "Epoch: 23, MSE 0.02149216 (0.02173855), PSNR 16.67720032 (16.62877029), SSIM 0.21270928 (0.20917484)\n",
      "Finished training epoch 23\n",
      "Validate: MSE 0.02256639 (0.02419577), PSNR 16.46537971 (16.16866549), SSIM 0.10371465 (0.12021863)\n",
      "Finished validation.\n",
      "Starting training epoch 24\n",
      "Epoch: 24, MSE 0.02235421 (0.02171743), PSNR 16.50640678 (16.63305778), SSIM 0.21118391 (0.20949978)\n",
      "Finished training epoch 24\n",
      "Validate: MSE 0.02256824 (0.02427605), PSNR 16.46502304 (16.15424135), SSIM 0.10459916 (0.12084094)\n",
      "Finished validation.\n",
      "Starting training epoch 25\n",
      "Epoch: 25, MSE 0.02113153 (0.02169579), PSNR 16.75068855 (16.63736455), SSIM 0.20938441 (0.20994692)\n",
      "Finished training epoch 25\n",
      "Validate: MSE 0.02283785 (0.02460407), PSNR 16.41344833 (16.09603887), SSIM 0.09694952 (0.11456441)\n",
      "Finished validation.\n",
      "Starting training epoch 26\n",
      "Epoch: 26, MSE 0.02085623 (0.02169228), PSNR 16.80764198 (16.63808443), SSIM 0.21640010 (0.21012358)\n",
      "Finished training epoch 26\n",
      "Validate: MSE 0.02262923 (0.02442565), PSNR 16.45330048 (16.12758580), SSIM 0.09496246 (0.11344884)\n",
      "Finished validation.\n",
      "Starting training epoch 27\n",
      "Epoch: 27, MSE 0.02183628 (0.02166963), PSNR 16.60821152 (16.64271140), SSIM 0.21683469 (0.21059332)\n",
      "Finished training epoch 27\n",
      "Validate: MSE 0.02281767 (0.02462553), PSNR 16.41728592 (16.09201588), SSIM 0.09025451 (0.10884990)\n",
      "Finished validation.\n",
      "Starting training epoch 28\n",
      "Epoch: 28, MSE 0.02219320 (0.02167049), PSNR 16.53779984 (16.64259966), SSIM 0.20507760 (0.21092615)\n",
      "Finished training epoch 28\n",
      "Validate: MSE 0.02273342 (0.02456824), PSNR 16.43335152 (16.10223427), SSIM 0.08821329 (0.10790774)\n",
      "Finished validation.\n",
      "Starting training epoch 29\n",
      "Epoch: 29, MSE 0.02277961 (0.02166836), PSNR 16.42453575 (16.64301736), SSIM 0.21013281 (0.21085293)\n",
      "Finished training epoch 29\n",
      "Validate: MSE 0.02263358 (0.02454510), PSNR 16.45246696 (16.10631194), SSIM 0.09079480 (0.10952961)\n",
      "Finished validation.\n",
      "Starting training epoch 30\n"
     ]
    },
    {
     "name": "stdout",
     "output_type": "stream",
     "text": [
      "Epoch: 30, MSE 0.02102536 (0.02165194), PSNR 16.77256393 (16.64618596), SSIM 0.22327337 (0.21130271)\n",
      "Finished training epoch 30\n",
      "Validate: MSE 0.02269452 (0.02461862), PSNR 16.44078827 (16.09322092), SSIM 0.09215169 (0.11087213)\n",
      "Finished validation.\n",
      "Starting training epoch 31\n",
      "Epoch: 31, MSE 0.02162061 (0.02162817), PSNR 16.65131950 (16.65091238), SSIM 0.20810251 (0.21165976)\n",
      "Finished training epoch 31\n",
      "Validate: MSE 0.02279462 (0.02459633), PSNR 16.42167473 (16.09748857), SSIM 0.08719370 (0.10747107)\n",
      "Finished validation.\n",
      "Starting training epoch 32\n",
      "Epoch: 32, MSE 0.02169704 (0.02162512), PSNR 16.63599396 (16.65163607), SSIM 0.21003826 (0.21159536)\n",
      "Finished training epoch 32\n",
      "Validate: MSE 0.02271665 (0.02461019), PSNR 16.43655586 (16.09478684), SSIM 0.08726539 (0.10779579)\n",
      "Finished validation.\n",
      "Starting training epoch 33\n",
      "Epoch: 33, MSE 0.02189905 (0.02161731), PSNR 16.59574699 (16.65329970), SSIM 0.21201062 (0.21185254)\n",
      "Finished training epoch 33\n",
      "Validate: MSE 0.02264981 (0.02449456), PSNR 16.44935417 (16.11544494), SSIM 0.08940808 (0.10894808)\n",
      "Finished validation.\n",
      "Starting training epoch 34\n",
      "Epoch: 34, MSE 0.02226363 (0.02160642), PSNR 16.52404022 (16.65536224), SSIM 0.20453048 (0.21197569)\n",
      "Finished training epoch 34\n",
      "Validate: MSE 0.02271810 (0.02457499), PSNR 16.43627930 (16.10114161), SSIM 0.08724906 (0.10727500)\n",
      "Finished validation.\n",
      "Starting training epoch 35\n",
      "Epoch: 35, MSE 0.02099147 (0.02159637), PSNR 16.77957153 (16.65741972), SSIM 0.21600859 (0.21228646)\n",
      "Finished training epoch 35\n",
      "Validate: MSE 0.02296261 (0.02488797), PSNR 16.38978577 (16.04600319), SSIM 0.09022376 (0.10880380)\n",
      "Finished validation.\n",
      "Starting training epoch 36\n",
      "Epoch: 36, MSE 0.02131155 (0.02159037), PSNR 16.71384811 (16.65865268), SSIM 0.21617141 (0.21248556)\n",
      "Finished training epoch 36\n",
      "Validate: MSE 0.02283828 (0.02475212), PSNR 16.41336441 (16.06962999), SSIM 0.09634538 (0.11368360)\n",
      "Finished validation.\n",
      "Starting training epoch 37\n",
      "Epoch: 37, MSE 0.02168841 (0.02157784), PSNR 16.63772202 (16.66102239), SSIM 0.20374425 (0.21281982)\n",
      "Finished training epoch 37\n",
      "Validate: MSE 0.02391661 (0.02613081), PSNR 16.21300316 (15.83380915), SSIM 0.09731048 (0.11436237)\n",
      "Finished validation.\n",
      "Starting training epoch 38\n",
      "Epoch: 38, MSE 0.02096381 (0.02157813), PSNR 16.78529739 (16.66107510), SSIM 0.21224436 (0.21273208)\n",
      "Finished training epoch 38\n",
      "Validate: MSE 0.02573561 (0.02783974), PSNR 15.89465332 (15.55829785), SSIM 0.09453575 (0.11224787)\n",
      "Finished validation.\n",
      "Starting training epoch 39\n",
      "Epoch: 39, MSE 0.02147403 (0.02158066), PSNR 16.68086433 (16.66050198), SSIM 0.21537881 (0.21284976)\n",
      "Finished training epoch 39\n",
      "Validate: MSE 0.02876205 (0.03114030), PSNR 15.41180134 (15.07100910), SSIM 0.09227959 (0.10814403)\n",
      "Finished validation.\n",
      "Starting training epoch 40\n",
      "Epoch: 40, MSE 0.02103225 (0.02155793), PSNR 16.77114296 (16.66509586), SSIM 0.22999100 (0.21321711)\n",
      "Finished training epoch 40\n",
      "Validate: MSE 0.02540911 (0.02711370), PSNR 15.95010471 (15.67253146), SSIM 0.10467368 (0.11954358)\n",
      "Finished validation.\n",
      "Starting training epoch 41\n",
      "Epoch: 41, MSE 0.02084091 (0.02156421), PSNR 16.81083298 (16.66383044), SSIM 0.21606812 (0.21316726)\n",
      "Finished training epoch 41\n"
     ]
    },
    {
     "name": "stderr",
     "output_type": "stream",
     "text": [
      "/home/konrad/.local/lib/python3.10/site-packages/skimage/_shared/utils.py:394: UserWarning: Color data out of range: Z < 0 in 2 pixels\n",
      "  return func(*args, **kwargs)\n"
     ]
    },
    {
     "name": "stdout",
     "output_type": "stream",
     "text": [
      "Validate: MSE 0.03088204 (0.03249368), PSNR 15.10293961 (14.88516004), SSIM 0.10318850 (0.11575704)\n",
      "Finished validation.\n",
      "Starting training epoch 42\n",
      "Epoch: 42, MSE 0.02314260 (0.02155098), PSNR 16.35587692 (16.66659400), SSIM 0.21318543 (0.21336645)\n",
      "Finished training epoch 42\n",
      "Validate: MSE 0.03232783 (0.03414004), PSNR 14.90423393 (14.67049117), SSIM 0.10130484 (0.11408207)\n",
      "Finished validation.\n",
      "Starting training epoch 43\n",
      "Epoch: 43, MSE 0.02171285 (0.02154377), PSNR 16.63282967 (16.66804971), SSIM 0.22092430 (0.21363133)\n",
      "Finished training epoch 43\n",
      "Validate: MSE 0.03345719 (0.03512554), PSNR 14.75510502 (14.54651050), SSIM 0.09724054 (0.10974282)\n",
      "Finished validation.\n",
      "Starting training epoch 44\n",
      "Epoch: 44, MSE 0.02090146 (0.02155342), PSNR 16.79823303 (16.66608991), SSIM 0.22565815 (0.21349825)\n",
      "Finished training epoch 44\n"
     ]
    },
    {
     "name": "stderr",
     "output_type": "stream",
     "text": [
      "/home/konrad/.local/lib/python3.10/site-packages/skimage/_shared/utils.py:394: UserWarning: Color data out of range: Z < 0 in 1 pixels\n",
      "  return func(*args, **kwargs)\n"
     ]
    },
    {
     "name": "stdout",
     "output_type": "stream",
     "text": [
      "Validate: MSE 0.04013442 (0.04143833), PSNR 13.96483040 (13.82805812), SSIM 0.09368984 (0.10626555)\n",
      "Finished validation.\n",
      "Starting training epoch 45\n",
      "Epoch: 45, MSE 0.02150578 (0.02154039), PSNR 16.67444801 (16.66862447), SSIM 0.20668110 (0.21370411)\n",
      "Finished training epoch 45\n",
      "Validate: MSE 0.03565687 (0.03732863), PSNR 14.47856712 (14.28188579), SSIM 0.09184901 (0.10436289)\n",
      "Finished validation.\n",
      "Starting training epoch 46\n",
      "Epoch: 46, MSE 0.02219591 (0.02153302), PSNR 16.53727150 (16.67024920), SSIM 0.20142241 (0.21382162)\n",
      "Finished training epoch 46\n"
     ]
    },
    {
     "name": "stderr",
     "output_type": "stream",
     "text": [
      "/home/konrad/.local/lib/python3.10/site-packages/skimage/_shared/utils.py:394: UserWarning: Color data out of range: Z < 0 in 8 pixels\n",
      "  return func(*args, **kwargs)\n"
     ]
    },
    {
     "name": "stdout",
     "output_type": "stream",
     "text": [
      "Validate: MSE 0.03625740 (0.03810556), PSNR 14.40603256 (14.19233343), SSIM 0.09081325 (0.10260356)\n",
      "Finished validation.\n",
      "Starting training epoch 47\n",
      "Epoch: 47, MSE 0.02158015 (0.02152864), PSNR 16.65945435 (16.67102461), SSIM 0.22656262 (0.21390056)\n",
      "Finished training epoch 47\n"
     ]
    },
    {
     "name": "stderr",
     "output_type": "stream",
     "text": [
      "/home/konrad/.local/lib/python3.10/site-packages/skimage/_shared/utils.py:394: UserWarning: Color data out of range: Z < 0 in 3 pixels\n",
      "  return func(*args, **kwargs)\n",
      "/home/konrad/.local/lib/python3.10/site-packages/skimage/_shared/utils.py:394: UserWarning: Color data out of range: Z < 0 in 9 pixels\n",
      "  return func(*args, **kwargs)\n"
     ]
    },
    {
     "name": "stdout",
     "output_type": "stream",
     "text": [
      "Validate: MSE 0.04586123 (0.04747702), PSNR 13.38554287 (13.23680713), SSIM 0.08069552 (0.09381662)\n",
      "Finished validation.\n",
      "Starting training epoch 48\n",
      "Epoch: 48, MSE 0.02141344 (0.02152569), PSNR 16.69313622 (16.67172822), SSIM 0.20532227 (0.21400772)\n",
      "Finished training epoch 48\n",
      "Validate: MSE 0.03755880 (0.03916655), PSNR 14.25288296 (14.07291153), SSIM 0.08513694 (0.09791299)\n",
      "Finished validation.\n",
      "Starting training epoch 49\n",
      "Epoch: 49, MSE 0.02043425 (0.02151455), PSNR 16.89641190 (16.67386714), SSIM 0.21264446 (0.21424613)\n",
      "Finished training epoch 49\n",
      "Validate: MSE 0.03284813 (0.03493418), PSNR 14.83489323 (14.57012357), SSIM 0.08652408 (0.09821095)\n",
      "Finished validation.\n",
      "Starting training epoch 50\n",
      "Epoch: 50, MSE 0.02002008 (0.02151657), PSNR 16.98534203 (16.67328286), SSIM 0.23235814 (0.21425676)\n",
      "Finished training epoch 50\n",
      "Validate: MSE 0.04427497 (0.04630731), PSNR 13.53841686 (13.34532221), SSIM 0.07588392 (0.08735249)\n",
      "Finished validation.\n",
      "Starting training epoch 51\n",
      "Epoch: 51, MSE 0.02188168 (0.02151144), PSNR 16.59919357 (16.67458152), SSIM 0.20475093 (0.21426843)\n",
      "Finished training epoch 51\n",
      "Validate: MSE 0.04123936 (0.04410918), PSNR 13.84687996 (13.55719296), SSIM 0.08245550 (0.08863390)\n",
      "Finished validation.\n",
      "Starting training epoch 52\n",
      "Epoch: 52, MSE 0.02187924 (0.02150667), PSNR 16.59967613 (16.67539185), SSIM 0.20131245 (0.21427012)\n",
      "Finished training epoch 52\n"
     ]
    },
    {
     "name": "stderr",
     "output_type": "stream",
     "text": [
      "/home/konrad/.local/lib/python3.10/site-packages/skimage/_shared/utils.py:394: UserWarning: Color data out of range: Z < 0 in 11 pixels\n",
      "  return func(*args, **kwargs)\n",
      "/home/konrad/.local/lib/python3.10/site-packages/skimage/_shared/utils.py:394: UserWarning: Color data out of range: Z < 0 in 5 pixels\n",
      "  return func(*args, **kwargs)\n",
      "/home/konrad/.local/lib/python3.10/site-packages/skimage/_shared/utils.py:394: UserWarning: Color data out of range: Z < 0 in 7 pixels\n",
      "  return func(*args, **kwargs)\n",
      "/home/konrad/.local/lib/python3.10/site-packages/skimage/_shared/utils.py:394: UserWarning: Color data out of range: Z < 0 in 14 pixels\n",
      "  return func(*args, **kwargs)\n",
      "/home/konrad/.local/lib/python3.10/site-packages/skimage/_shared/utils.py:394: UserWarning: Color data out of range: Z < 0 in 6 pixels\n",
      "  return func(*args, **kwargs)\n",
      "/home/konrad/.local/lib/python3.10/site-packages/skimage/_shared/utils.py:394: UserWarning: Color data out of range: Z < 0 in 12 pixels\n",
      "  return func(*args, **kwargs)\n",
      "/home/konrad/.local/lib/python3.10/site-packages/skimage/_shared/utils.py:394: UserWarning: Color data out of range: Z < 0 in 22 pixels\n",
      "  return func(*args, **kwargs)\n",
      "/home/konrad/.local/lib/python3.10/site-packages/skimage/_shared/utils.py:394: UserWarning: Color data out of range: Z < 0 in 32 pixels\n",
      "  return func(*args, **kwargs)\n"
     ]
    },
    {
     "name": "stdout",
     "output_type": "stream",
     "text": [
      "Validate: MSE 0.06704713 (0.06929346), PSNR 11.73619747 (11.59459513), SSIM 0.06890370 (0.07782165)\n",
      "Finished validation.\n",
      "Starting training epoch 53\n",
      "Epoch: 53, MSE 0.02217923 (0.02150086), PSNR 16.54053497 (16.67667597), SSIM 0.20036438 (0.21448729)\n",
      "Finished training epoch 53\n",
      "Validate: MSE 0.04870857 (0.05215629), PSNR 13.12394619 (12.82998097), SSIM 0.06944598 (0.07250472)\n",
      "Finished validation.\n",
      "Starting training epoch 54\n",
      "Epoch: 54, MSE 0.02055471 (0.02149082), PSNR 16.87088585 (16.67867240), SSIM 0.21348815 (0.21463513)\n",
      "Finished training epoch 54\n",
      "Validate: MSE 0.05051012 (0.05417129), PSNR 12.96621513 (12.66619159), SSIM 0.06464631 (0.06871650)\n",
      "Finished validation.\n",
      "Starting training epoch 55\n",
      "Epoch: 55, MSE 0.02107826 (0.02150731), PSNR 16.76165199 (16.67524210), SSIM 0.23417893 (0.21436564)\n",
      "Finished training epoch 55\n",
      "Validate: MSE 0.04675882 (0.04885203), PSNR 13.30136299 (13.11313262), SSIM 0.08123183 (0.09238637)\n",
      "Finished validation.\n",
      "Starting training epoch 56\n",
      "Epoch: 56, MSE 0.02141341 (0.02150431), PSNR 16.69314003 (16.67603326), SSIM 0.21260083 (0.21451208)\n",
      "Finished training epoch 56\n",
      "Validate: MSE 0.05275068 (0.05525560), PSNR 12.77771950 (12.57872679), SSIM 0.07517011 (0.08380703)\n",
      "Finished validation.\n",
      "Starting training epoch 57\n",
      "Epoch: 57, MSE 0.02239104 (0.02149168), PSNR 16.49925613 (16.67846364), SSIM 0.20353870 (0.21471717)\n",
      "Finished training epoch 57\n",
      "Validate: MSE 0.05065034 (0.05387118), PSNR 12.95417690 (12.68998410), SSIM 0.06931056 (0.07458214)\n",
      "Finished validation.\n",
      "Starting training epoch 58\n",
      "Epoch: 58, MSE 0.02197381 (0.02148958), PSNR 16.58094406 (16.67882477), SSIM 0.21238968 (0.21472011)\n",
      "Finished training epoch 58\n",
      "Validate: MSE 0.03797926 (0.04012841), PSNR 14.20453453 (13.96764515), SSIM 0.07984656 (0.08658981)\n",
      "Finished validation.\n",
      "Starting training epoch 59\n",
      "Epoch: 59, MSE 0.02089668 (0.02149762), PSNR 16.79922676 (16.67729111), SSIM 0.20577744 (0.21465426)\n",
      "Finished training epoch 59\n",
      "Validate: MSE 0.05842024 (0.06233407), PSNR 12.33436584 (12.05688241), SSIM 0.06516444 (0.06794290)\n",
      "Finished validation.\n",
      "Starting training epoch 60\n",
      "Epoch: 60, MSE 0.02124747 (0.02150079), PSNR 16.72692871 (16.67691763), SSIM 0.20196560 (0.21457169)\n",
      "Finished training epoch 60\n",
      "Validate: MSE 0.04050471 (0.04376179), PSNR 13.92494488 (13.59485662), SSIM 0.07596684 (0.08010183)\n",
      "Finished validation.\n",
      "Starting training epoch 61\n",
      "Epoch: 61, MSE 0.02137954 (0.02148946), PSNR 16.70001602 (16.67889767), SSIM 0.20722246 (0.21485063)\n",
      "Finished training epoch 61\n",
      "Validate: MSE 0.05845996 (0.06338252), PSNR 12.33141422 (11.98815147), SSIM 0.06366889 (0.06311500)\n",
      "Finished validation.\n",
      "Starting training epoch 62\n",
      "Epoch: 62, MSE 0.02143658 (0.02148842), PSNR 16.68844414 (16.67912597), SSIM 0.21435675 (0.21490925)\n",
      "Finished training epoch 62\n",
      "Validate: MSE 0.04664513 (0.04993091), PSNR 13.31193638 (13.02130122), SSIM 0.07679679 (0.08099985)\n",
      "Finished validation.\n",
      "Starting training epoch 63\n",
      "Epoch: 63, MSE 0.02174702 (0.02148033), PSNR 16.62600136 (16.68074893), SSIM 0.22401428 (0.21500552)\n",
      "Finished training epoch 63\n",
      "Validate: MSE 0.04821324 (0.05117806), PSNR 13.16833687 (12.91205039), SSIM 0.07469892 (0.07790321)\n",
      "Finished validation.\n",
      "Starting training epoch 64\n",
      "Epoch: 64, MSE 0.02117119 (0.02147731), PSNR 16.74254608 (16.68135640), SSIM 0.20626788 (0.21498805)\n",
      "Finished training epoch 64\n",
      "Validate: MSE 0.08395026 (0.08883679), PSNR 10.75977898 (10.52091571), SSIM 0.04762390 (0.04591608)\n",
      "Finished validation.\n",
      "Starting training epoch 65\n",
      "Epoch: 65, MSE 0.02098331 (0.02148952), PSNR 16.78125954 (16.67895797), SSIM 0.22256918 (0.21490850)\n",
      "Finished training epoch 65\n",
      "Validate: MSE 0.05434052 (0.05813793), PSNR 12.64876175 (12.36146436), SSIM 0.05960381 (0.05887586)\n",
      "Finished validation.\n",
      "Starting training epoch 66\n",
      "Epoch: 66, MSE 0.02036889 (0.02147784), PSNR 16.91032600 (16.68139612), SSIM 0.21651344 (0.21502248)\n",
      "Finished training epoch 66\n",
      "Validate: MSE 0.06596820 (0.07102005), PSNR 11.80665302 (11.49687764), SSIM 0.05615614 (0.05716605)\n",
      "Finished validation.\n",
      "Starting training epoch 67\n",
      "Epoch: 67, MSE 0.02138046 (0.02147815), PSNR 16.69982910 (16.68097001), SSIM 0.20414619 (0.21505847)\n",
      "Finished training epoch 67\n",
      "Validate: MSE 0.07002975 (0.07462411), PSNR 11.54717350 (11.27912788), SSIM 0.05705798 (0.05727874)\n",
      "Finished validation.\n",
      "Starting training epoch 68\n",
      "Epoch: 68, MSE 0.02128170 (0.02148060), PSNR 16.71993637 (16.68064859), SSIM 0.23395228 (0.21496886)\n",
      "Finished training epoch 68\n",
      "Validate: MSE 0.05250882 (0.05607873), PSNR 12.79767609 (12.52055657), SSIM 0.06758159 (0.06976181)\n",
      "Finished validation.\n",
      "Starting training epoch 69\n",
      "Epoch: 69, MSE 0.02259386 (0.02147776), PSNR 16.46009636 (16.68123403), SSIM 0.21517751 (0.21504077)\n",
      "Finished training epoch 69\n",
      "Validate: MSE 0.06157109 (0.06471485), PSNR 12.10623074 (11.89260266), SSIM 0.06743604 (0.06908165)\n",
      "Finished validation.\n"
     ]
    },
    {
     "data": {
      "text/plain": [
       "<Figure size 432x288 with 0 Axes>"
      ]
     },
     "metadata": {},
     "output_type": "display_data"
    }
   ],
   "source": [
    "# Train model\n",
    "for epoch in range(epochs):\n",
    "    # Train for one epoch, then validate\n",
    "    train(train_loader, model, criterion, optimizer, epoch)\n",
    "    with torch.no_grad():\n",
    "        losses = validate(val_loader, model, criterion, save_images, epoch)\n",
    "    # Save checkpoint and replace old best model if current model is better\n",
    "    if losses[0] < best_losses[0]:\n",
    "        best_losses[0] = losses[0]\n",
    "        best_epoch = epoch\n",
    "        torch.save(model.state_dict(), f'{checkpoints}/epoch-{epoch}-MSELoss-{losses[0]:.8f}.pth')\n",
    "    if losses[1] < best_losses[1]:\n",
    "        best_losses[1] = losses[1]\n",
    "        torch.save(model.state_dict(), f'{checkpoints}/epoch-{epoch}-PSNRLoss-{losses[1]:.8f}.pth')\n",
    "    if losses[2] < best_losses[2]:\n",
    "        best_losses[2] = losses[2]\n",
    "        torch.save(model.state_dict(), f'{checkpoints}/epoch-{epoch}-SSIMLoss-{losses[2]:.8f}.pth')\n",
    "    \n",
    "    if epoch - best_epoch >= patience:\n",
    "        torch.save(model.state_dict(), f'{checkpoints}/epoch-{epoch}-MSELoss-{losses[0]:.8f}-early_stop.pth')\n",
    "        break\n",
    "    \n",
    "    if epoch == epochs - 1:\n",
    "        torch.save(model.state_dict(), f'{checkpoints}/epoch-{epoch}-last-{losses[0]:.8f}-{losses[1]:.8f}-{losses[2]:.8f}.pth')\n"
   ]
  },
  {
   "cell_type": "code",
   "execution_count": 19,
   "metadata": {
    "scrolled": true
   },
   "outputs": [],
   "source": [
    "torch.save(model.state_dict(), f'{checkpoints}/last-{losses[0]:.8f}-{losses[1]:.8f}-{losses[2]:.8f}.pth')"
   ]
  },
  {
   "cell_type": "code",
   "execution_count": 20,
   "metadata": {
    "colab": {
     "base_uri": "https://localhost:8080/",
     "height": 1593
    },
    "id": "UcovGnpHMl9D",
    "outputId": "90b7a2b4-dc03-4862-cf02-c7ddbbb7e500"
   },
   "outputs": [
    {
     "name": "stdout",
     "output_type": "stream",
     "text": [
      "Validate: MSE 0.06157109 (0.06471485), PSNR 12.10623074 (11.89260266), SSIM 0.06743604 (0.06908165)\n",
      "Finished validation.\n"
     ]
    },
    {
     "data": {
      "text/plain": [
       "<Figure size 432x288 with 0 Axes>"
      ]
     },
     "metadata": {},
     "output_type": "display_data"
    }
   ],
   "source": [
    "# Validate\n",
    "save_images = True\n",
    "with torch.no_grad():\n",
    "    validate(val_loader, model, criterion, save_images, -1)"
   ]
  },
  {
   "cell_type": "code",
   "execution_count": 21,
   "metadata": {},
   "outputs": [],
   "source": [
    "# # Show images \n",
    "# image_pairs = []\n",
    "\n",
    "# for i in range(10):\n",
    "#     image_pairs.append((f'{color_imgs}img-{i}-epoch-{best_epoch}.jpg', f'{gray_imgs}img-{i}-epoch-{best_epoch}.jpg'))\n",
    "    \n",
    "# for c, g in image_pairs:\n",
    "#   color = mpimg.imread(c)\n",
    "#   gray  = mpimg.imread(g)\n",
    "#   f, axarr = plt.subplots(1, 2)\n",
    "#   f.set_size_inches(15, 15)\n",
    "#   axarr[0].imshow(gray, cmap='gray')\n",
    "#   axarr[1].imshow(color)\n",
    "#   axarr[0].axis('off'), axarr[1].axis('off')\n",
    "#   plt.show()"
   ]
  },
  {
   "cell_type": "code",
   "execution_count": null,
   "metadata": {},
   "outputs": [],
   "source": []
  }
 ],
 "metadata": {
  "accelerator": "GPU",
  "colab": {
   "provenance": []
  },
  "kernelspec": {
   "display_name": "Python 3 (ipykernel)",
   "language": "python",
   "name": "python3"
  },
  "language_info": {
   "codemirror_mode": {
    "name": "ipython",
    "version": 3
   },
   "file_extension": ".py",
   "mimetype": "text/x-python",
   "name": "python",
   "nbconvert_exporter": "python",
   "pygments_lexer": "ipython3",
   "version": "3.10.6"
  }
 },
 "nbformat": 4,
 "nbformat_minor": 4
}
