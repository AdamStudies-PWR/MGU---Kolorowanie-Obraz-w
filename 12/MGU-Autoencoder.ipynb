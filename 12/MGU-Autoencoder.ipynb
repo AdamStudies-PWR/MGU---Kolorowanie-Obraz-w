{
 "cells": [
  {
   "cell_type": "code",
   "execution_count": 1,
   "metadata": {
    "id": "J_Y9UFYhKbuE"
   },
   "outputs": [],
   "source": [
    "# For plotting\n",
    "import numpy as np\n",
    "import matplotlib.pyplot as plt\n",
    "import matplotlib.image as mpimg\n",
    "%matplotlib inline\n",
    "# For conversion\n",
    "from skimage.color import lab2rgb, rgb2lab, rgb2gray\n",
    "from skimage import io\n",
    "# For everything\n",
    "import torch\n",
    "import torch.nn as nn\n",
    "import torch.nn.functional as F\n",
    "# For our model\n",
    "import torchvision\n",
    "import torchvision.models as models\n",
    "from torchvision import datasets, transforms\n",
    "from torchmetrics import MeanSquaredError, PeakSignalNoiseRatio, StructuralSimilarityIndexMeasure\n",
    "from PIL import Image\n",
    "# For utilities\n",
    "import os, shutil, time"
   ]
  },
  {
   "cell_type": "code",
   "execution_count": 2,
   "metadata": {},
   "outputs": [],
   "source": [
    "# colab i kaggle jeszcze nie testowane\n",
    "colab = False\n",
    "kaggle = False\n",
    "test_number = '11_1'"
   ]
  },
  {
   "cell_type": "code",
   "execution_count": 3,
   "metadata": {},
   "outputs": [],
   "source": [
    "color_imgs = 'outputs/color/'\n",
    "gray_imgs = 'outputs/gray/'\n",
    "checkpoints = 'checkpoints'\n",
    "if colab:\n",
    "    from google.colab import drive\n",
    "    drive.mount('/content/drive')\n",
    "    dataset = '/content/drive/MyDrive/MGU/cifar10/'\n",
    "    \n",
    "    color_imgs = '/content/drive/MyDrive/MGU/outputs/color/'\n",
    "    gray_imgs = '/content/drive/MyDrive/MGU/outputs/gray/'\n",
    "    checkpoints = '/content/drive/MyDrive/MGU/checkpoints'\n",
    "elif kaggle:\n",
    "    os.makedirs(test_number, exist_ok=True)\n",
    "    results = \"results\"\n",
    "    os.makedirs(results, exist_ok=True)\n",
    "    dataset = '/kaggle/input/cifar10/'\n",
    "else:\n",
    "    dataset = '../../datasets/cifar10/'"
   ]
  },
  {
   "cell_type": "code",
   "execution_count": 4,
   "metadata": {
    "scrolled": true
   },
   "outputs": [
    {
     "data": {
      "text/html": [
       "\n",
       "      <iframe id=\"tensorboard-frame-8531c7fa13a2e66f\" width=\"100%\" height=\"800\" frameborder=\"0\">\n",
       "      </iframe>\n",
       "      <script>\n",
       "        (function() {\n",
       "          const frame = document.getElementById(\"tensorboard-frame-8531c7fa13a2e66f\");\n",
       "          const url = new URL(\"/\", window.location);\n",
       "          const port = 6006;\n",
       "          if (port) {\n",
       "            url.port = port;\n",
       "          }\n",
       "          frame.src = url;\n",
       "        })();\n",
       "      </script>\n",
       "    "
      ],
      "text/plain": [
       "<IPython.core.display.HTML object>"
      ]
     },
     "metadata": {},
     "output_type": "display_data"
    }
   ],
   "source": [
    "%load_ext tensorboard\n",
    "%tensorboard --logdir=runs"
   ]
  },
  {
   "cell_type": "code",
   "execution_count": 5,
   "metadata": {},
   "outputs": [],
   "source": [
    "from torch.utils.tensorboard import SummaryWriter\n",
    "writer = SummaryWriter()"
   ]
  },
  {
   "cell_type": "code",
   "execution_count": 6,
   "metadata": {
    "id": "gMolrzKA_1uJ"
   },
   "outputs": [
    {
     "name": "stdout",
     "output_type": "stream",
     "text": [
      "True\n"
     ]
    }
   ],
   "source": [
    "# Check if GPU is available\n",
    "use_gpu = torch.cuda.is_available()\n",
    "print(use_gpu)"
   ]
  },
  {
   "cell_type": "code",
   "execution_count": 7,
   "metadata": {
    "id": "05NviQfzU2Mv"
   },
   "outputs": [],
   "source": [
    "SIZE = 32\n",
    "class LabImageFolder(torch.utils.data.Dataset):\n",
    "    def __init__(self, paths, split='train'):\n",
    "        if split == 'train':\n",
    "            self.transforms = transforms.Compose([\n",
    "                transforms.Resize((SIZE, SIZE), transforms.InterpolationMode.BICUBIC),\n",
    "                transforms.RandomCrop(SIZE),\n",
    "                transforms.RandomHorizontalFlip(),  \n",
    "                transforms.ToTensor(),\n",
    "                transforms.Normalize((0.4918019, 0.48263696, 0.44733968), (0.24705184, 0.2433789, 0.26162848)),\n",
    "                transforms.ToPILImage(),\n",
    "            ])\n",
    "        elif split == 'val':\n",
    "            self.transforms = transforms.Compose([\n",
    "                transforms.Resize((SIZE, SIZE), transforms.InterpolationMode.BICUBIC), \n",
    "                transforms.RandomCrop(SIZE), \n",
    "                transforms.ToTensor(),\n",
    "                transforms.Normalize((0.4918019, 0.48263696, 0.44733968), (0.24705184, 0.2433789, 0.26162848)),\n",
    "                transforms.ToPILImage(),\n",
    "            ])\n",
    "            \n",
    "        self.split = split\n",
    "        self.size = SIZE\n",
    "        self.paths = [os.path.join(paths, file) for file in os.listdir(paths) if os.path.isfile(\n",
    "            os.path.join(paths, file))]\n",
    "        \n",
    "        \n",
    "    def __getitem__(self, index):\n",
    "        img = Image.open(self.paths[index]).convert(\"RGB\")\n",
    "        img_original = self.transforms(img)\n",
    "        img_original = np.asarray(img_original)\n",
    "        img_lab = rgb2lab(img_original)\n",
    "        img_lab = (img_lab + 128) / 255\n",
    "        img_ab = img_lab[:, :, 1:3]\n",
    "        img_ab = torch.from_numpy(img_ab.transpose((2, 0, 1))).float()\n",
    "        img_gray = rgb2gray(img_original)\n",
    "        img_gray = torch.from_numpy(img_gray).unsqueeze(0).float()\n",
    "        return img_gray, img_ab\n",
    "    \n",
    "    def __len__(self):\n",
    "        return len(self.paths)"
   ]
  },
  {
   "cell_type": "code",
   "execution_count": 8,
   "metadata": {},
   "outputs": [],
   "source": [
    "# Training\n",
    "batch_size = 128\n",
    "train_imagefolder = LabImageFolder(dataset+'train')\n",
    "train_loader = torch.utils.data.DataLoader(train_imagefolder, batch_size=batch_size, shuffle=True)\n",
    "# Validation \n",
    "val_imagefolder = LabImageFolder(dataset+'val' , 'val')\n",
    "val_loader = torch.utils.data.DataLoader(val_imagefolder, batch_size=batch_size, shuffle=False)"
   ]
  },
  {
   "cell_type": "code",
   "execution_count": 9,
   "metadata": {
    "id": "NOQfP1feNkfS"
   },
   "outputs": [],
   "source": [
    "kernel_size=3\n",
    "stride_en=2\n",
    "stride_de=1\n",
    "padding=1\n",
    "scale_factor=2\n",
    "padding_mode='zeros'\n",
    "channels_base = 32\n",
    "\n",
    "class Autoencoder(nn.Module):\n",
    "    def __init__(self):\n",
    "        super(Autoencoder, self).__init__()\n",
    "\n",
    "        self.conv1 = nn.Conv2d(1, channels_base, kernel_size=kernel_size, stride=stride_en, padding=padding, padding_mode=padding_mode)\n",
    "        self.conv2 = nn.Conv2d(channels_base, channels_base * 2, kernel_size=kernel_size, stride=stride_en, padding=padding, padding_mode=padding_mode)\n",
    "        \n",
    "        self.convtrans1 = nn.ConvTranspose2d(channels_base * 2, channels_base, kernel_size=kernel_size, stride=stride_de, padding=padding, padding_mode=padding_mode)\n",
    "        self.convtrans2 = nn.ConvTranspose2d(channels_base, channels_base // 2, kernel_size=kernel_size, stride=stride_de, padding=padding, padding_mode=padding_mode)\n",
    "        self.convtrans3 = nn.ConvTranspose2d(channels_base // 2, 2, kernel_size=kernel_size, stride=stride_de, padding=padding, padding_mode=padding_mode)\n",
    "\n",
    "        self.batchnorm1 = nn.BatchNorm2d(channels_base // 2)\n",
    "        self.batchnorm2 = nn.BatchNorm2d(channels_base)\n",
    "        self.batchnorm3 = nn.BatchNorm2d(channels_base * 2)\n",
    "        \n",
    "        \n",
    "    def forward(self, input):\n",
    "        # encoder\n",
    "        x = F.relu(self.batchnorm2(self.conv1(input)))\n",
    "        x = F.relu(self.batchnorm3(self.conv2(x)))\n",
    "        \n",
    "        # decoder\n",
    "        x = F.relu(self.batchnorm2(self.convtrans1(x)))\n",
    "        x = F.interpolate(x, scale_factor=scale_factor)\n",
    "        x = F.relu(self.batchnorm1(self.convtrans2(x)))\n",
    "        x = F.interpolate(self.convtrans3(x), scale_factor=scale_factor)\n",
    "\n",
    "        return x"
   ]
  },
  {
   "cell_type": "code",
   "execution_count": 10,
   "metadata": {
    "id": "OtRkAkIjTeq1"
   },
   "outputs": [],
   "source": [
    "model = Autoencoder()"
   ]
  },
  {
   "cell_type": "code",
   "execution_count": 11,
   "metadata": {},
   "outputs": [],
   "source": [
    "criterion = [MeanSquaredError(), PeakSignalNoiseRatio(data_range=1.0), StructuralSimilarityIndexMeasure(data_range=1.0)]"
   ]
  },
  {
   "cell_type": "code",
   "execution_count": 12,
   "metadata": {
    "id": "j3YZ3977TTl4"
   },
   "outputs": [],
   "source": [
    "optimizer = torch.optim.Adam(model.parameters(), lr=1e-2)"
   ]
  },
  {
   "cell_type": "code",
   "execution_count": 13,
   "metadata": {
    "id": "eeHK3BUtANrw"
   },
   "outputs": [],
   "source": [
    "# # Move model and loss function to GPU\n",
    "if use_gpu: \n",
    "    criterion = [criterion[0].to(\"cuda\"), criterion[1].to(\"cuda\"), criterion[2].to(\"cuda\")]\n",
    "    model = model.cuda()"
   ]
  },
  {
   "cell_type": "code",
   "execution_count": 14,
   "metadata": {
    "scrolled": false
   },
   "outputs": [
    {
     "name": "stdout",
     "output_type": "stream",
     "text": [
      "----------------------------------------------------------------\n",
      "        Layer (type)               Output Shape         Param #\n",
      "================================================================\n",
      "            Conv2d-1           [-1, 32, 16, 16]             320\n",
      "       BatchNorm2d-2           [-1, 32, 16, 16]              64\n",
      "            Conv2d-3             [-1, 64, 8, 8]          18,496\n",
      "       BatchNorm2d-4             [-1, 64, 8, 8]             128\n",
      "   ConvTranspose2d-5             [-1, 32, 8, 8]          18,464\n",
      "       BatchNorm2d-6             [-1, 32, 8, 8]              64\n",
      "   ConvTranspose2d-7           [-1, 16, 16, 16]           4,624\n",
      "       BatchNorm2d-8           [-1, 16, 16, 16]              32\n",
      "   ConvTranspose2d-9            [-1, 2, 16, 16]             290\n",
      "================================================================\n",
      "Total params: 42,482\n",
      "Trainable params: 42,482\n",
      "Non-trainable params: 0\n",
      "----------------------------------------------------------------\n",
      "Input size (MB): 0.00\n",
      "Forward/backward pass size (MB): 0.29\n",
      "Params size (MB): 0.16\n",
      "Estimated Total Size (MB): 0.45\n",
      "----------------------------------------------------------------\n"
     ]
    }
   ],
   "source": [
    "if use_gpu: \n",
    "    from torchsummary import summary\n",
    "    summary(model, (1, SIZE, SIZE))"
   ]
  },
  {
   "cell_type": "code",
   "execution_count": 15,
   "metadata": {
    "id": "2FDRt12jsIkr"
   },
   "outputs": [],
   "source": [
    "class AverageMeter(object):\n",
    "    '''A handy class from the PyTorch ImageNet tutorial''' \n",
    "    def __init__(self):\n",
    "        self.reset()\n",
    "    def reset(self):\n",
    "        self.val, self.avg, self.sum, self.count = 0, 0, 0, 0\n",
    "    def update(self, val, n=1):\n",
    "        self.val = val\n",
    "        self.sum += val * n\n",
    "        self.count += n\n",
    "        self.avg = self.sum / self.count\n",
    "\n",
    "def to_rgb(grayscale_input, ab_input, save_path=None, save_name=None):\n",
    "    '''Show/save rgb image from grayscale and ab channels\n",
    "       Input save_path in the form {'grayscale': '/path/', 'colorized': '/path/'}'''\n",
    "    plt.clf() # clear matplotlib \n",
    "    color_image = torch.cat((grayscale_input, ab_input), 0).numpy() # combine channels\n",
    "    color_image = color_image.transpose((1, 2, 0))  # rescale for matplotlib\n",
    "    color_image[:, :, 0:1] = color_image[:, :, 0:1] * 100\n",
    "    color_image[:, :, 1:3] = color_image[:, :, 1:3] * 255 - 128   \n",
    "    color_image = lab2rgb(color_image.astype(np.float64))\n",
    "    grayscale_input = grayscale_input.squeeze().numpy()\n",
    "    if save_path is not None and save_name is not None: \n",
    "        plt.imsave(arr=grayscale_input, fname='{}{}'.format(save_path['grayscale'], save_name), cmap='gray')\n",
    "        plt.imsave(arr=color_image, fname='{}{}'.format(save_path['colorized'], save_name))"
   ]
  },
  {
   "cell_type": "code",
   "execution_count": 16,
   "metadata": {
    "id": "M_OTbyOcrh9J"
   },
   "outputs": [],
   "source": [
    "def validate(val_loader, model, criterion, save_images, epoch):\n",
    "    _loss = [AverageMeter(), AverageMeter(), AverageMeter()]\n",
    "\n",
    "    model.eval()\n",
    "    already_saved_images = False\n",
    "    for gray, ab in val_loader:\n",
    "        if use_gpu: \n",
    "            gray, ab = gray.cuda(), ab.cuda()\n",
    "\n",
    "        # Run model and record loss\n",
    "        output_ab = model(gray) # throw away class predictions\n",
    "        loss = [criterion[0](output_ab, ab), criterion[1](output_ab, ab), criterion[2](output_ab, ab)]\n",
    "        \n",
    "        _loss[0].update(loss[0].item(), gray.size(0))\n",
    "        _loss[1].update(loss[1].item(), gray.size(0))\n",
    "        _loss[2].update(loss[2].item(), gray.size(0))\n",
    "\n",
    "        # Save images to file\n",
    "        if save_images and not already_saved_images:\n",
    "            already_saved_images = True\n",
    "            for j in range(min(len(output_ab), 10)): # save at most 5 images\n",
    "                save_path = {'grayscale': gray_imgs, 'colorized': color_imgs}\n",
    "                save_name = 'img-{}-epoch-{}.jpg'.format(j, epoch)\n",
    "                to_rgb(gray[j].cpu(), ab_input=output_ab[j].detach().cpu(), save_path=save_path, save_name=save_name)\n",
    "\n",
    "    print(f'Validate: MSE {_loss[0].val:.8f} ({_loss[0].avg:.8f}), PSNR {_loss[1].val:.8f} ({_loss[1].avg:.8f}), SSIM {_loss[2].val:.8f} ({_loss[2].avg:.8f})')\n",
    "\n",
    "    print('Finished validation.')\n",
    "    if epoch >= 0:        \n",
    "#         writer.add_scalars(f'loss/test', {\n",
    "#             'MSE': _loss[0].avg,\n",
    "#             'PSNR': _loss[1].avg,\n",
    "#             'SSIM': _loss[2].avg,\n",
    "#         }, epoch)\n",
    "        writer.add_scalar(\"MSE/test\", _loss[0].avg, epoch)\n",
    "        writer.add_scalar(\"PSNR/test\", _loss[1].avg, epoch)\n",
    "        writer.add_scalar(\"SSIM/test\", _loss[2].avg, epoch)\n",
    "    return _loss[0].avg, _loss[1].avg, _loss[2].avg"
   ]
  },
  {
   "cell_type": "code",
   "execution_count": 17,
   "metadata": {
    "id": "FOo__iEnvLMB"
   },
   "outputs": [],
   "source": [
    "def train(train_loader, model, criterion, optimizer, epoch):\n",
    "    print(f'Starting training epoch {epoch}')\n",
    "    _loss = [AverageMeter(), AverageMeter(), AverageMeter()]\n",
    "    \n",
    "    model.train()\n",
    "\n",
    "    for gray, ab in train_loader:\n",
    "        if use_gpu: \n",
    "            gray, ab = gray.cuda(), ab.cuda()\n",
    "            \n",
    "        optimizer.zero_grad()\n",
    "\n",
    "        output_ab = model(gray) \n",
    "        loss = [criterion[0](output_ab, ab), criterion[1](output_ab, ab), criterion[2](output_ab, ab)]\n",
    "        \n",
    "        loss[0].backward()\n",
    "        optimizer.step()\n",
    "        \n",
    "        _loss[0].update(loss[0].item(), gray.size(0))\n",
    "        _loss[1].update(loss[1].item(), gray.size(0))\n",
    "        _loss[2].update(loss[2].item(), gray.size(0))\n",
    "        \n",
    "    print(f'Epoch: {epoch}, MSE {_loss[0].val:.8f} ({_loss[0].avg:.8f}), PSNR {_loss[1].val:.8f} ({_loss[1].avg:.8f}), SSIM {_loss[2].val:.8f} ({_loss[2].avg:.8f})')\n",
    "\n",
    "    print(f'Finished training epoch {epoch}')\n",
    "    if epoch >= 0:\n",
    "#         writer.add_scalars(f'loss/train', {\n",
    "#             'MSE': _loss[0].avg,\n",
    "#             'PSNR': _loss[1].avg,\n",
    "#             'SSIM': _loss[2].avg,\n",
    "#         }, epoch)\n",
    "        writer.add_scalar(\"MSE/train\", _loss[0].avg, epoch)\n",
    "        writer.add_scalar(\"PSNR/train\", _loss[1].avg, epoch)\n",
    "        writer.add_scalar(\"SSIM/train\", _loss[2].avg, epoch)"
   ]
  },
  {
   "cell_type": "code",
   "execution_count": 18,
   "metadata": {
    "id": "ckNmKA5VwSh1"
   },
   "outputs": [],
   "source": [
    "# Make folders and set parameters\n",
    "os.makedirs(color_imgs, exist_ok=True)\n",
    "os.makedirs(gray_imgs, exist_ok=True)\n",
    "os.makedirs(checkpoints, exist_ok=True)\n",
    "save_images = True\n",
    "best_losses = [1e10, 1e10, 1e10]\n",
    "best_epoch = -1\n",
    "patience = 50\n",
    "epochs = 500"
   ]
  },
  {
   "cell_type": "code",
   "execution_count": 19,
   "metadata": {
    "colab": {
     "base_uri": "https://localhost:8080/",
     "height": 625
    },
    "id": "XUR6ALi3AZoO",
    "outputId": "4b274c7b-fc1d-4e14-dc1f-a7ef93f3663f",
    "scrolled": true
   },
   "outputs": [
    {
     "name": "stdout",
     "output_type": "stream",
     "text": [
      "Starting training epoch 0\n",
      "Epoch: 0, MSE 0.02566485 (0.03873827), PSNR 15.90661144 (15.35927671), SSIM 0.10305224 (0.08811778)\n",
      "Finished training epoch 0\n"
     ]
    },
    {
     "name": "stderr",
     "output_type": "stream",
     "text": [
      "/home/konrad/.local/lib/python3.10/site-packages/skimage/_shared/utils.py:394: UserWarning: Color data out of range: Z < 0 in 2 pixels\n",
      "  return func(*args, **kwargs)\n",
      "/home/konrad/.local/lib/python3.10/site-packages/skimage/_shared/utils.py:394: UserWarning: Color data out of range: Z < 0 in 1 pixels\n",
      "  return func(*args, **kwargs)\n",
      "/home/konrad/.local/lib/python3.10/site-packages/skimage/_shared/utils.py:394: UserWarning: Color data out of range: Z < 0 in 6 pixels\n",
      "  return func(*args, **kwargs)\n",
      "/home/konrad/.local/lib/python3.10/site-packages/skimage/_shared/utils.py:394: UserWarning: Color data out of range: Z < 0 in 5 pixels\n",
      "  return func(*args, **kwargs)\n"
     ]
    },
    {
     "name": "stdout",
     "output_type": "stream",
     "text": [
      "Validate: MSE 0.03201771 (0.03400757), PSNR 14.94609642 (14.68681052), SSIM 0.06716947 (0.08486122)\n",
      "Finished validation.\n",
      "Starting training epoch 1\n",
      "Epoch: 1, MSE 0.02353197 (0.02384786), PSNR 16.28341675 (16.22734642), SSIM 0.13987377 (0.12677702)\n",
      "Finished training epoch 1\n",
      "Validate: MSE 0.02520782 (0.02688161), PSNR 15.98464584 (15.71029350), SSIM 0.07523306 (0.09620079)\n",
      "Finished validation.\n",
      "Starting training epoch 2\n",
      "Epoch: 2, MSE 0.02120981 (0.02316422), PSNR 16.73463249 (16.35308281), SSIM 0.17143460 (0.15204800)\n",
      "Finished training epoch 2\n",
      "Validate: MSE 0.02503398 (0.02671190), PSNR 16.01469994 (15.73808901), SSIM 0.07767942 (0.09736707)\n",
      "Finished validation.\n",
      "Starting training epoch 3\n",
      "Epoch: 3, MSE 0.02360381 (0.02275074), PSNR 16.27017784 (16.43143164), SSIM 0.17178890 (0.17229363)\n",
      "Finished training epoch 3\n",
      "Validate: MSE 0.02461858 (0.02627271), PSNR 16.08736992 (15.81008468), SSIM 0.07871528 (0.09845925)\n",
      "Finished validation.\n",
      "Starting training epoch 4\n",
      "Epoch: 4, MSE 0.02286714 (0.02250068), PSNR 16.40788078 (16.47939820), SSIM 0.19520786 (0.18518912)\n",
      "Finished training epoch 4\n",
      "Validate: MSE 0.02427978 (0.02608508), PSNR 16.14755058 (15.84149480), SSIM 0.07822260 (0.09810856)\n",
      "Finished validation.\n",
      "Starting training epoch 5\n",
      "Epoch: 5, MSE 0.02298678 (0.02234769), PSNR 16.38521767 (16.50869390), SSIM 0.20096669 (0.19235978)\n",
      "Finished training epoch 5\n",
      "Validate: MSE 0.02497255 (0.02703653), PSNR 16.02536964 (15.68650689), SSIM 0.07600538 (0.09317437)\n",
      "Finished validation.\n",
      "Starting training epoch 6\n",
      "Epoch: 6, MSE 0.02191097 (0.02222036), PSNR 16.59338188 (16.53371269), SSIM 0.19933714 (0.19709136)\n",
      "Finished training epoch 6\n",
      "Validate: MSE 0.02466139 (0.02651550), PSNR 16.07982445 (15.77124417), SSIM 0.07162254 (0.09164988)\n",
      "Finished validation.\n",
      "Starting training epoch 7\n",
      "Epoch: 7, MSE 0.02142018 (0.02212896), PSNR 16.69176865 (16.55147279), SSIM 0.20905098 (0.20016512)\n",
      "Finished training epoch 7\n",
      "Validate: MSE 0.02423484 (0.02598981), PSNR 16.15559959 (15.85829900), SSIM 0.07233196 (0.09362969)\n",
      "Finished validation.\n",
      "Starting training epoch 8\n",
      "Epoch: 8, MSE 0.02116383 (0.02204549), PSNR 16.74405670 (16.56800240), SSIM 0.19297348 (0.20271346)\n",
      "Finished training epoch 8\n",
      "Validate: MSE 0.02367695 (0.02542361), PSNR 16.25674057 (15.95378967), SSIM 0.07215446 (0.09427752)\n",
      "Finished validation.\n",
      "Starting training epoch 9\n",
      "Epoch: 9, MSE 0.02176454 (0.02197741), PSNR 16.62250519 (16.58147109), SSIM 0.21372613 (0.20464515)\n",
      "Finished training epoch 9\n",
      "Validate: MSE 0.02366761 (0.02534655), PSNR 16.25845528 (15.96690415), SSIM 0.07166796 (0.09440013)\n",
      "Finished validation.\n",
      "Starting training epoch 10\n",
      "Epoch: 10, MSE 0.02234123 (0.02190829), PSNR 16.50893021 (16.59516655), SSIM 0.20024295 (0.20664684)\n",
      "Finished training epoch 10\n",
      "Validate: MSE 0.02331635 (0.02500917), PSNR 16.32339287 (16.02497951), SSIM 0.07316503 (0.09531877)\n",
      "Finished validation.\n",
      "Starting training epoch 11\n",
      "Epoch: 11, MSE 0.02282196 (0.02184752), PSNR 16.41646957 (16.60716197), SSIM 0.19772068 (0.20836347)\n",
      "Finished training epoch 11\n",
      "Validate: MSE 0.02284238 (0.02451237), PSNR 16.41258621 (16.11186512), SSIM 0.08764078 (0.10762376)\n",
      "Finished validation.\n",
      "Starting training epoch 12\n",
      "Epoch: 12, MSE 0.02163231 (0.02177119), PSNR 16.64897156 (16.62239162), SSIM 0.20399722 (0.21035771)\n",
      "Finished training epoch 12\n",
      "Validate: MSE 0.02306497 (0.02475191), PSNR 16.37047005 (16.06953621), SSIM 0.09492971 (0.11289871)\n",
      "Finished validation.\n",
      "Starting training epoch 13\n",
      "Epoch: 13, MSE 0.02125868 (0.02172983), PSNR 16.72463608 (16.63069497), SSIM 0.21190611 (0.21179866)\n",
      "Finished training epoch 13\n",
      "Validate: MSE 0.02308084 (0.02476833), PSNR 16.36748314 (16.06669288), SSIM 0.09102222 (0.10850146)\n",
      "Finished validation.\n",
      "Starting training epoch 14\n",
      "Epoch: 14, MSE 0.02201557 (0.02166159), PSNR 16.57269859 (16.64411504), SSIM 0.20569547 (0.21341014)\n",
      "Finished training epoch 14\n",
      "Validate: MSE 0.02467063 (0.02621780), PSNR 16.07819748 (15.81835688), SSIM 0.10771932 (0.12483451)\n",
      "Finished validation.\n",
      "Starting training epoch 15\n",
      "Epoch: 15, MSE 0.02270575 (0.02162289), PSNR 16.43864059 (16.65187099), SSIM 0.22803824 (0.21461597)\n",
      "Finished training epoch 15\n",
      "Validate: MSE 0.02301251 (0.02461449), PSNR 16.38035965 (16.09354604), SSIM 0.09547516 (0.11527791)\n",
      "Finished validation.\n",
      "Starting training epoch 16\n",
      "Epoch: 16, MSE 0.02143851 (0.02157272), PSNR 16.68805313 (16.66203085), SSIM 0.20653443 (0.21587234)\n",
      "Finished training epoch 16\n",
      "Validate: MSE 0.02287939 (0.02448354), PSNR 16.40555382 (16.11710570), SSIM 0.09345946 (0.11326252)\n",
      "Finished validation.\n",
      "Starting training epoch 17\n",
      "Epoch: 17, MSE 0.02135347 (0.02153109), PSNR 16.70531464 (16.67059020), SSIM 0.22047400 (0.21698864)\n",
      "Finished training epoch 17\n",
      "Validate: MSE 0.02302363 (0.02454817), PSNR 16.37826157 (16.10557853), SSIM 0.08742163 (0.10874823)\n",
      "Finished validation.\n",
      "Starting training epoch 18\n",
      "Epoch: 18, MSE 0.02178732 (0.02148953), PSNR 16.61796188 (16.67884157), SSIM 0.23182440 (0.21794216)\n",
      "Finished training epoch 18\n",
      "Validate: MSE 0.02318719 (0.02470410), PSNR 16.34751892 (16.07793875), SSIM 0.08603857 (0.10772309)\n",
      "Finished validation.\n",
      "Starting training epoch 19\n",
      "Epoch: 19, MSE 0.02237791 (0.02147114), PSNR 16.50180435 (16.68264217), SSIM 0.21149647 (0.21848501)\n",
      "Finished training epoch 19\n",
      "Validate: MSE 0.02323271 (0.02483031), PSNR 16.33900070 (16.05600296), SSIM 0.08248417 (0.10481696)\n",
      "Finished validation.\n",
      "Starting training epoch 20\n",
      "Epoch: 20, MSE 0.02217221 (0.02145216), PSNR 16.54191017 (16.68638926), SSIM 0.22287139 (0.21908842)\n",
      "Finished training epoch 20\n",
      "Validate: MSE 0.02299440 (0.02461361), PSNR 16.38377953 (16.09417114), SSIM 0.08341184 (0.10508131)\n",
      "Finished validation.\n",
      "Starting training epoch 21\n",
      "Epoch: 21, MSE 0.02129357 (0.02142562), PSNR 16.71751404 (16.69192625), SSIM 0.23115361 (0.21990642)\n",
      "Finished training epoch 21\n",
      "Validate: MSE 0.02321478 (0.02488071), PSNR 16.34235382 (16.04763175), SSIM 0.07872173 (0.10051572)\n",
      "Finished validation.\n",
      "Starting training epoch 22\n",
      "Epoch: 22, MSE 0.02076037 (0.02141604), PSNR 16.82764816 (16.69369179), SSIM 0.22494118 (0.21995587)\n",
      "Finished training epoch 22\n",
      "Validate: MSE 0.02343419 (0.02509094), PSNR 16.30150032 (16.01026259), SSIM 0.08206014 (0.10449005)\n",
      "Finished validation.\n",
      "Starting training epoch 23\n",
      "Epoch: 23, MSE 0.02174041 (0.02138070), PSNR 16.62732124 (16.70098176), SSIM 0.22157665 (0.22088621)\n",
      "Finished training epoch 23\n",
      "Validate: MSE 0.02316103 (0.02481367), PSNR 16.35242081 (16.05854488), SSIM 0.08190151 (0.10462533)\n",
      "Finished validation.\n",
      "Starting training epoch 24\n",
      "Epoch: 24, MSE 0.02134796 (0.02135335), PSNR 16.70643616 (16.70657384), SSIM 0.22020045 (0.22175076)\n",
      "Finished training epoch 24\n",
      "Validate: MSE 0.02318394 (0.02491338), PSNR 16.34812737 (16.04150089), SSIM 0.07841545 (0.10074236)\n",
      "Finished validation.\n",
      "Starting training epoch 25\n",
      "Epoch: 25, MSE 0.02104375 (0.02134298), PSNR 16.76876831 (16.70855806), SSIM 0.21445301 (0.22212592)\n",
      "Finished training epoch 25\n",
      "Validate: MSE 0.02382643 (0.02553639), PSNR 16.22940826 (15.93345508), SSIM 0.07867010 (0.10084334)\n",
      "Finished validation.\n",
      "Starting training epoch 26\n",
      "Epoch: 26, MSE 0.02083216 (0.02132217), PSNR 16.81265640 (16.71288345), SSIM 0.22328039 (0.22271608)\n",
      "Finished training epoch 26\n",
      "Validate: MSE 0.02455367 (0.02646804), PSNR 16.09883499 (15.77739942), SSIM 0.07722259 (0.09792750)\n",
      "Finished validation.\n",
      "Starting training epoch 27\n",
      "Epoch: 27, MSE 0.02193641 (0.02128925), PSNR 16.58834267 (16.71963348), SSIM 0.21752349 (0.22355145)\n",
      "Finished training epoch 27\n",
      "Validate: MSE 0.02451704 (0.02662904), PSNR 16.10531807 (15.75125794), SSIM 0.07712541 (0.09616903)\n",
      "Finished validation.\n",
      "Starting training epoch 28\n",
      "Epoch: 28, MSE 0.02099275 (0.02127034), PSNR 16.77930641 (16.72345765), SSIM 0.23164435 (0.22422350)\n",
      "Finished training epoch 28\n",
      "Validate: MSE 0.02417497 (0.02621984), PSNR 16.16633987 (15.81830822), SSIM 0.08185664 (0.10060343)\n",
      "Finished validation.\n",
      "Starting training epoch 29\n",
      "Epoch: 29, MSE 0.02183693 (0.02126709), PSNR 16.60808372 (16.72407116), SSIM 0.20859985 (0.22473930)\n",
      "Finished training epoch 29\n",
      "Validate: MSE 0.02536563 (0.02798084), PSNR 15.95754337 (15.53624934), SSIM 0.08494373 (0.10025293)\n",
      "Finished validation.\n",
      "Starting training epoch 30\n",
      "Epoch: 30, MSE 0.02052670 (0.02124544), PSNR 16.87680817 (16.72856529), SSIM 0.24057758 (0.22500569)\n",
      "Finished training epoch 30\n"
     ]
    },
    {
     "name": "stderr",
     "output_type": "stream",
     "text": [
      "/home/konrad/.local/lib/python3.10/site-packages/skimage/_shared/utils.py:394: UserWarning: Color data out of range: Z < 0 in 8 pixels\n",
      "  return func(*args, **kwargs)\n",
      "/home/konrad/.local/lib/python3.10/site-packages/skimage/_shared/utils.py:394: UserWarning: Color data out of range: Z < 0 in 12 pixels\n",
      "  return func(*args, **kwargs)\n"
     ]
    },
    {
     "name": "stdout",
     "output_type": "stream",
     "text": [
      "Validate: MSE 0.02594925 (0.02941873), PSNR 15.85875130 (15.32038445), SSIM 0.07917213 (0.09475616)\n",
      "Finished validation.\n",
      "Starting training epoch 31\n",
      "Epoch: 31, MSE 0.02165746 (0.02124013), PSNR 16.64392471 (16.72973233), SSIM 0.22991347 (0.22480078)\n",
      "Finished training epoch 31\n"
     ]
    },
    {
     "name": "stderr",
     "output_type": "stream",
     "text": [
      "/home/konrad/.local/lib/python3.10/site-packages/skimage/_shared/utils.py:394: UserWarning: Color data out of range: Z < 0 in 4 pixels\n",
      "  return func(*args, **kwargs)\n",
      "/home/konrad/.local/lib/python3.10/site-packages/skimage/_shared/utils.py:394: UserWarning: Color data out of range: Z < 0 in 67 pixels\n",
      "  return func(*args, **kwargs)\n"
     ]
    },
    {
     "name": "stdout",
     "output_type": "stream",
     "text": [
      "Validate: MSE 0.02704304 (0.02981466), PSNR 15.67944431 (15.26004689), SSIM 0.08233679 (0.09990387)\n",
      "Finished validation.\n",
      "Starting training epoch 32\n",
      "Epoch: 32, MSE 0.02104961 (0.02123196), PSNR 16.76755714 (16.73118348), SSIM 0.22873756 (0.22539796)\n",
      "Finished training epoch 32\n"
     ]
    },
    {
     "name": "stderr",
     "output_type": "stream",
     "text": [
      "/home/konrad/.local/lib/python3.10/site-packages/skimage/_shared/utils.py:394: UserWarning: Color data out of range: Z < 0 in 174 pixels\n",
      "  return func(*args, **kwargs)\n"
     ]
    },
    {
     "name": "stdout",
     "output_type": "stream",
     "text": [
      "Validate: MSE 0.02581636 (0.02861374), PSNR 15.88104916 (15.43911388), SSIM 0.08262496 (0.09967734)\n",
      "Finished validation.\n",
      "Starting training epoch 33\n",
      "Epoch: 33, MSE 0.02229561 (0.02120021), PSNR 16.51780510 (16.73778693), SSIM 0.22425231 (0.22586003)\n",
      "Finished training epoch 33\n"
     ]
    },
    {
     "name": "stderr",
     "output_type": "stream",
     "text": [
      "/home/konrad/.local/lib/python3.10/site-packages/skimage/_shared/utils.py:394: UserWarning: Color data out of range: Z < 0 in 128 pixels\n",
      "  return func(*args, **kwargs)\n"
     ]
    },
    {
     "name": "stdout",
     "output_type": "stream",
     "text": [
      "Validate: MSE 0.02464824 (0.02711694), PSNR 16.08213997 (15.67231243), SSIM 0.08216868 (0.10073699)\n",
      "Finished validation.\n",
      "Starting training epoch 34\n",
      "Epoch: 34, MSE 0.02269872 (0.02118256), PSNR 16.43998528 (16.74141876), SSIM 0.21956141 (0.22628816)\n",
      "Finished training epoch 34\n"
     ]
    },
    {
     "name": "stderr",
     "output_type": "stream",
     "text": [
      "/home/konrad/.local/lib/python3.10/site-packages/skimage/_shared/utils.py:394: UserWarning: Color data out of range: Z < 0 in 144 pixels\n",
      "  return func(*args, **kwargs)\n"
     ]
    },
    {
     "name": "stdout",
     "output_type": "stream",
     "text": [
      "Validate: MSE 0.02392060 (0.02625977), PSNR 16.21227837 (15.81173759), SSIM 0.08119638 (0.10131671)\n",
      "Finished validation.\n",
      "Starting training epoch 35\n",
      "Epoch: 35, MSE 0.02169269 (0.02118601), PSNR 16.63686371 (16.74055224), SSIM 0.22552219 (0.22627860)\n",
      "Finished training epoch 35\n"
     ]
    },
    {
     "name": "stderr",
     "output_type": "stream",
     "text": [
      "/home/konrad/.local/lib/python3.10/site-packages/skimage/_shared/utils.py:394: UserWarning: Color data out of range: Z < 0 in 150 pixels\n",
      "  return func(*args, **kwargs)\n"
     ]
    },
    {
     "name": "stdout",
     "output_type": "stream",
     "text": [
      "Validate: MSE 0.02501258 (0.02750171), PSNR 16.01841545 (15.61076291), SSIM 0.08420247 (0.10374346)\n",
      "Finished validation.\n",
      "Starting training epoch 36\n",
      "Epoch: 36, MSE 0.02086696 (0.02117318), PSNR 16.80540848 (16.74336997), SSIM 0.21834640 (0.22659716)\n",
      "Finished training epoch 36\n"
     ]
    },
    {
     "name": "stderr",
     "output_type": "stream",
     "text": [
      "/home/konrad/.local/lib/python3.10/site-packages/skimage/_shared/utils.py:394: UserWarning: Color data out of range: Z < 0 in 116 pixels\n",
      "  return func(*args, **kwargs)\n"
     ]
    },
    {
     "name": "stdout",
     "output_type": "stream",
     "text": [
      "Validate: MSE 0.02390341 (0.02608036), PSNR 16.21540070 (15.84142129), SSIM 0.08148855 (0.10196694)\n",
      "Finished validation.\n",
      "Starting training epoch 37\n",
      "Epoch: 37, MSE 0.02101424 (0.02117445), PSNR 16.77486229 (16.74309955), SSIM 0.23492730 (0.22652446)\n",
      "Finished training epoch 37\n"
     ]
    },
    {
     "name": "stderr",
     "output_type": "stream",
     "text": [
      "/home/konrad/.local/lib/python3.10/site-packages/skimage/_shared/utils.py:394: UserWarning: Color data out of range: Z < 0 in 267 pixels\n",
      "  return func(*args, **kwargs)\n"
     ]
    },
    {
     "name": "stdout",
     "output_type": "stream",
     "text": [
      "Validate: MSE 0.02445424 (0.02723936), PSNR 16.11645889 (15.65349503), SSIM 0.08325971 (0.10205899)\n",
      "Finished validation.\n",
      "Starting training epoch 38\n",
      "Epoch: 38, MSE 0.02056172 (0.02115179), PSNR 16.86940384 (16.74792079), SSIM 0.24071249 (0.22699692)\n",
      "Finished training epoch 38\n"
     ]
    },
    {
     "name": "stderr",
     "output_type": "stream",
     "text": [
      "/home/konrad/.local/lib/python3.10/site-packages/skimage/_shared/utils.py:394: UserWarning: Color data out of range: Z < 0 in 244 pixels\n",
      "  return func(*args, **kwargs)\n"
     ]
    },
    {
     "name": "stdout",
     "output_type": "stream",
     "text": [
      "Validate: MSE 0.02475644 (0.02734844), PSNR 16.06311798 (15.63546675), SSIM 0.08194718 (0.10141085)\n",
      "Finished validation.\n",
      "Starting training epoch 39\n",
      "Epoch: 39, MSE 0.02149695 (0.02114750), PSNR 16.67623138 (16.74865981), SSIM 0.22443871 (0.22730020)\n",
      "Finished training epoch 39\n"
     ]
    },
    {
     "name": "stderr",
     "output_type": "stream",
     "text": [
      "/home/konrad/.local/lib/python3.10/site-packages/skimage/_shared/utils.py:394: UserWarning: Color data out of range: Z < 0 in 136 pixels\n",
      "  return func(*args, **kwargs)\n"
     ]
    },
    {
     "name": "stdout",
     "output_type": "stream",
     "text": [
      "Validate: MSE 0.02422091 (0.02646183), PSNR 16.15809441 (15.77827353), SSIM 0.08628722 (0.10623278)\n",
      "Finished validation.\n",
      "Starting training epoch 40\n",
      "Epoch: 40, MSE 0.02070933 (0.02112498), PSNR 16.83833885 (16.75323931), SSIM 0.23918435 (0.22754211)\n",
      "Finished training epoch 40\n"
     ]
    },
    {
     "name": "stderr",
     "output_type": "stream",
     "text": [
      "/home/konrad/.local/lib/python3.10/site-packages/skimage/_shared/utils.py:394: UserWarning: Color data out of range: Z < 0 in 133 pixels\n",
      "  return func(*args, **kwargs)\n"
     ]
    },
    {
     "name": "stdout",
     "output_type": "stream",
     "text": [
      "Validate: MSE 0.02417253 (0.02635364), PSNR 16.16677856 (15.79620945), SSIM 0.08160213 (0.10219303)\n",
      "Finished validation.\n",
      "Starting training epoch 41\n",
      "Epoch: 41, MSE 0.02156560 (0.02112407), PSNR 16.66238213 (16.75348259), SSIM 0.21608813 (0.22773132)\n",
      "Finished training epoch 41\n"
     ]
    },
    {
     "name": "stderr",
     "output_type": "stream",
     "text": [
      "/home/konrad/.local/lib/python3.10/site-packages/skimage/_shared/utils.py:394: UserWarning: Color data out of range: Z < 0 in 34 pixels\n",
      "  return func(*args, **kwargs)\n"
     ]
    },
    {
     "name": "stdout",
     "output_type": "stream",
     "text": [
      "Validate: MSE 0.02420137 (0.02628004), PSNR 16.16160011 (15.80826197), SSIM 0.08378289 (0.10445627)\n",
      "Finished validation.\n",
      "Starting training epoch 42\n",
      "Epoch: 42, MSE 0.02152198 (0.02112378), PSNR 16.67117882 (16.75355166), SSIM 0.22544375 (0.22776445)\n",
      "Finished training epoch 42\n"
     ]
    },
    {
     "name": "stderr",
     "output_type": "stream",
     "text": [
      "/home/konrad/.local/lib/python3.10/site-packages/skimage/_shared/utils.py:394: UserWarning: Color data out of range: Z < 0 in 77 pixels\n",
      "  return func(*args, **kwargs)\n"
     ]
    },
    {
     "name": "stdout",
     "output_type": "stream",
     "text": [
      "Validate: MSE 0.02362075 (0.02592947), PSNR 16.26706314 (15.86702534), SSIM 0.07841138 (0.09939863)\n",
      "Finished validation.\n",
      "Starting training epoch 43\n",
      "Epoch: 43, MSE 0.02076984 (0.02112350), PSNR 16.82566833 (16.75358758), SSIM 0.21899395 (0.22780933)\n",
      "Finished training epoch 43\n"
     ]
    },
    {
     "name": "stderr",
     "output_type": "stream",
     "text": [
      "/home/konrad/.local/lib/python3.10/site-packages/skimage/_shared/utils.py:394: UserWarning: Color data out of range: Z < 0 in 205 pixels\n",
      "  return func(*args, **kwargs)\n"
     ]
    },
    {
     "name": "stdout",
     "output_type": "stream",
     "text": [
      "Validate: MSE 0.02415203 (0.02681124), PSNR 16.17046356 (15.72269033), SSIM 0.07880256 (0.09788892)\n",
      "Finished validation.\n",
      "Starting training epoch 44\n",
      "Epoch: 44, MSE 0.02099945 (0.02110973), PSNR 16.77791977 (16.75646470), SSIM 0.23230025 (0.22811946)\n",
      "Finished training epoch 44\n"
     ]
    },
    {
     "name": "stderr",
     "output_type": "stream",
     "text": [
      "/home/konrad/.local/lib/python3.10/site-packages/skimage/_shared/utils.py:394: UserWarning: Color data out of range: Z < 0 in 176 pixels\n",
      "  return func(*args, **kwargs)\n"
     ]
    },
    {
     "name": "stdout",
     "output_type": "stream",
     "text": [
      "Validate: MSE 0.02447561 (0.02700225), PSNR 16.11266327 (15.69105117), SSIM 0.07885429 (0.09864960)\n",
      "Finished validation.\n",
      "Starting training epoch 45\n",
      "Epoch: 45, MSE 0.02219500 (0.02109814), PSNR 16.53744698 (16.75879230), SSIM 0.22536902 (0.22818264)\n",
      "Finished training epoch 45\n"
     ]
    },
    {
     "name": "stderr",
     "output_type": "stream",
     "text": [
      "/home/konrad/.local/lib/python3.10/site-packages/skimage/_shared/utils.py:394: UserWarning: Color data out of range: Z < 0 in 32 pixels\n",
      "  return func(*args, **kwargs)\n"
     ]
    },
    {
     "name": "stdout",
     "output_type": "stream",
     "text": [
      "Validate: MSE 0.02339380 (0.02544742), PSNR 16.30899239 (15.94862471), SSIM 0.08554246 (0.10522382)\n",
      "Finished validation.\n",
      "Starting training epoch 46\n",
      "Epoch: 46, MSE 0.02168968 (0.02109152), PSNR 16.63746834 (16.76012383), SSIM 0.23307824 (0.22843000)\n",
      "Finished training epoch 46\n"
     ]
    },
    {
     "name": "stderr",
     "output_type": "stream",
     "text": [
      "/home/konrad/.local/lib/python3.10/site-packages/skimage/_shared/utils.py:394: UserWarning: Color data out of range: Z < 0 in 84 pixels\n",
      "  return func(*args, **kwargs)\n"
     ]
    },
    {
     "name": "stdout",
     "output_type": "stream",
     "text": [
      "Validate: MSE 0.02332047 (0.02515598), PSNR 16.32262611 (15.99890248), SSIM 0.07544699 (0.09765058)\n",
      "Finished validation.\n",
      "Starting training epoch 47\n",
      "Epoch: 47, MSE 0.02176658 (0.02109106), PSNR 16.62209702 (16.76017293), SSIM 0.22649534 (0.22841734)\n",
      "Finished training epoch 47\n"
     ]
    },
    {
     "name": "stderr",
     "output_type": "stream",
     "text": [
      "/home/konrad/.local/lib/python3.10/site-packages/skimage/_shared/utils.py:394: UserWarning: Color data out of range: Z < 0 in 210 pixels\n",
      "  return func(*args, **kwargs)\n"
     ]
    },
    {
     "name": "stdout",
     "output_type": "stream",
     "text": [
      "Validate: MSE 0.02350503 (0.02559277), PSNR 16.28839111 (15.92379647), SSIM 0.07413311 (0.09574347)\n",
      "Finished validation.\n",
      "Starting training epoch 48\n",
      "Epoch: 48, MSE 0.02041404 (0.02108178), PSNR 16.90071106 (16.76202361), SSIM 0.25741792 (0.22863854)\n",
      "Finished training epoch 48\n"
     ]
    },
    {
     "name": "stderr",
     "output_type": "stream",
     "text": [
      "/home/konrad/.local/lib/python3.10/site-packages/skimage/_shared/utils.py:394: UserWarning: Color data out of range: Z < 0 in 69 pixels\n",
      "  return func(*args, **kwargs)\n"
     ]
    },
    {
     "name": "stdout",
     "output_type": "stream",
     "text": [
      "Validate: MSE 0.02367333 (0.02564347), PSNR 16.25740623 (15.91502849), SSIM 0.08203059 (0.10424026)\n",
      "Finished validation.\n",
      "Starting training epoch 49\n",
      "Epoch: 49, MSE 0.02052274 (0.02106960), PSNR 16.87764549 (16.76475768), SSIM 0.23943552 (0.22878880)\n",
      "Finished training epoch 49\n"
     ]
    },
    {
     "name": "stderr",
     "output_type": "stream",
     "text": [
      "/home/konrad/.local/lib/python3.10/site-packages/skimage/_shared/utils.py:394: UserWarning: Color data out of range: Z < 0 in 286 pixels\n",
      "  return func(*args, **kwargs)\n"
     ]
    },
    {
     "name": "stdout",
     "output_type": "stream",
     "text": [
      "Validate: MSE 0.02436030 (0.02690299), PSNR 16.13317299 (15.70713068), SSIM 0.07886285 (0.09898962)\n",
      "Finished validation.\n",
      "Starting training epoch 50\n",
      "Epoch: 50, MSE 0.02127918 (0.02107689), PSNR 16.72045135 (16.76318610), SSIM 0.23487425 (0.22883900)\n",
      "Finished training epoch 50\n"
     ]
    },
    {
     "name": "stderr",
     "output_type": "stream",
     "text": [
      "/home/konrad/.local/lib/python3.10/site-packages/skimage/_shared/utils.py:394: UserWarning: Color data out of range: Z < 0 in 202 pixels\n",
      "  return func(*args, **kwargs)\n"
     ]
    },
    {
     "name": "stdout",
     "output_type": "stream",
     "text": [
      "Validate: MSE 0.02381973 (0.02598117), PSNR 16.23063087 (15.85827000), SSIM 0.07892744 (0.09992226)\n",
      "Finished validation.\n",
      "Starting training epoch 51\n",
      "Epoch: 51, MSE 0.02144646 (0.02107905), PSNR 16.68644142 (16.76273633), SSIM 0.22164920 (0.22867572)\n",
      "Finished training epoch 51\n"
     ]
    },
    {
     "name": "stderr",
     "output_type": "stream",
     "text": [
      "/home/konrad/.local/lib/python3.10/site-packages/skimage/_shared/utils.py:394: UserWarning: Color data out of range: Z < 0 in 36 pixels\n",
      "  return func(*args, **kwargs)\n"
     ]
    },
    {
     "name": "stdout",
     "output_type": "stream",
     "text": [
      "Validate: MSE 0.02408200 (0.02598166), PSNR 16.18307304 (15.85807700), SSIM 0.08052842 (0.10313955)\n",
      "Finished validation.\n",
      "Starting training epoch 52\n",
      "Epoch: 52, MSE 0.02219539 (0.02106992), PSNR 16.53737068 (16.76447171), SSIM 0.23276190 (0.22895311)\n",
      "Finished training epoch 52\n"
     ]
    },
    {
     "name": "stderr",
     "output_type": "stream",
     "text": [
      "/home/konrad/.local/lib/python3.10/site-packages/skimage/_shared/utils.py:394: UserWarning: Color data out of range: Z < 0 in 71 pixels\n",
      "  return func(*args, **kwargs)\n"
     ]
    },
    {
     "name": "stdout",
     "output_type": "stream",
     "text": [
      "Validate: MSE 0.02362441 (0.02552225), PSNR 16.26638794 (15.93611489), SSIM 0.07574772 (0.09702773)\n",
      "Finished validation.\n",
      "Starting training epoch 53\n",
      "Epoch: 53, MSE 0.02109775 (0.02107301), PSNR 16.75763702 (16.76392824), SSIM 0.22355235 (0.22899586)\n",
      "Finished training epoch 53\n"
     ]
    },
    {
     "name": "stderr",
     "output_type": "stream",
     "text": [
      "/home/konrad/.local/lib/python3.10/site-packages/skimage/_shared/utils.py:394: UserWarning: Color data out of range: Z < 0 in 180 pixels\n",
      "  return func(*args, **kwargs)\n"
     ]
    },
    {
     "name": "stdout",
     "output_type": "stream",
     "text": [
      "Validate: MSE 0.02407856 (0.02640469), PSNR 16.18369484 (15.78831973), SSIM 0.07759871 (0.09763420)\n",
      "Finished validation.\n",
      "Starting training epoch 54\n",
      "Epoch: 54, MSE 0.02027436 (0.02103482), PSNR 16.93052864 (16.77183194), SSIM 0.22303787 (0.22955822)\n",
      "Finished training epoch 54\n"
     ]
    },
    {
     "name": "stderr",
     "output_type": "stream",
     "text": [
      "/home/konrad/.local/lib/python3.10/site-packages/skimage/_shared/utils.py:394: UserWarning: Color data out of range: Z < 0 in 163 pixels\n",
      "  return func(*args, **kwargs)\n"
     ]
    },
    {
     "name": "stdout",
     "output_type": "stream",
     "text": [
      "Validate: MSE 0.02431004 (0.02657746), PSNR 16.14214134 (15.76016684), SSIM 0.07283048 (0.09422694)\n",
      "Finished validation.\n",
      "Starting training epoch 55\n",
      "Epoch: 55, MSE 0.02122312 (0.02104407), PSNR 16.73190689 (16.76978386), SSIM 0.23668654 (0.22946450)\n",
      "Finished training epoch 55\n"
     ]
    },
    {
     "name": "stderr",
     "output_type": "stream",
     "text": [
      "/home/konrad/.local/lib/python3.10/site-packages/skimage/_shared/utils.py:394: UserWarning: Color data out of range: Z < 0 in 291 pixels\n",
      "  return func(*args, **kwargs)\n"
     ]
    },
    {
     "name": "stdout",
     "output_type": "stream",
     "text": [
      "Validate: MSE 0.02403568 (0.02659027), PSNR 16.19143486 (15.75831374), SSIM 0.07815764 (0.09815897)\n",
      "Finished validation.\n",
      "Starting training epoch 56\n",
      "Epoch: 56, MSE 0.02012441 (0.02104795), PSNR 16.96276855 (16.76905125), SSIM 0.22720215 (0.22936639)\n",
      "Finished training epoch 56\n"
     ]
    },
    {
     "name": "stderr",
     "output_type": "stream",
     "text": [
      "/home/konrad/.local/lib/python3.10/site-packages/skimage/_shared/utils.py:394: UserWarning: Color data out of range: Z < 0 in 175 pixels\n",
      "  return func(*args, **kwargs)\n"
     ]
    },
    {
     "name": "stdout",
     "output_type": "stream",
     "text": [
      "Validate: MSE 0.02416517 (0.02625642), PSNR 16.16810036 (15.81262411), SSIM 0.07664224 (0.09819770)\n",
      "Finished validation.\n",
      "Starting training epoch 57\n",
      "Epoch: 57, MSE 0.02099045 (0.02105420), PSNR 16.77978134 (16.76792190), SSIM 0.22668676 (0.22945151)\n",
      "Finished training epoch 57\n",
      "Validate: MSE 0.02426228 (0.02645759), PSNR 16.15068436 (15.77980975), SSIM 0.07864384 (0.09928114)\n",
      "Finished validation.\n",
      "Starting training epoch 58\n",
      "Epoch: 58, MSE 0.02117386 (0.02103473), PSNR 16.74199867 (16.77184128), SSIM 0.22842216 (0.22971015)\n",
      "Finished training epoch 58\n"
     ]
    },
    {
     "name": "stderr",
     "output_type": "stream",
     "text": [
      "/home/konrad/.local/lib/python3.10/site-packages/skimage/_shared/utils.py:394: UserWarning: Color data out of range: Z < 0 in 13 pixels\n",
      "  return func(*args, **kwargs)\n",
      "/home/konrad/.local/lib/python3.10/site-packages/skimage/_shared/utils.py:394: UserWarning: Color data out of range: Z < 0 in 10 pixels\n",
      "  return func(*args, **kwargs)\n"
     ]
    },
    {
     "name": "stdout",
     "output_type": "stream",
     "text": [
      "Validate: MSE 0.02484144 (0.02688950), PSNR 16.04823303 (15.70877227), SSIM 0.07858576 (0.10009469)\n",
      "Finished validation.\n",
      "Starting training epoch 59\n",
      "Epoch: 59, MSE 0.02188213 (0.02103624), PSNR 16.59910393 (16.77154317), SSIM 0.22334018 (0.22966958)\n",
      "Finished training epoch 59\n",
      "Validate: MSE 0.02423912 (0.02610137), PSNR 16.15483093 (15.83856118), SSIM 0.07593790 (0.09816191)\n",
      "Finished validation.\n",
      "Starting training epoch 60\n",
      "Epoch: 60, MSE 0.02062809 (0.02103897), PSNR 16.85540962 (16.77089665), SSIM 0.23947458 (0.22976989)\n",
      "Finished training epoch 60\n"
     ]
    },
    {
     "name": "stderr",
     "output_type": "stream",
     "text": [
      "/home/konrad/.local/lib/python3.10/site-packages/skimage/_shared/utils.py:394: UserWarning: Color data out of range: Z < 0 in 3 pixels\n",
      "  return func(*args, **kwargs)\n",
      "/home/konrad/.local/lib/python3.10/site-packages/skimage/_shared/utils.py:394: UserWarning: Color data out of range: Z < 0 in 171 pixels\n",
      "  return func(*args, **kwargs)\n"
     ]
    },
    {
     "name": "stdout",
     "output_type": "stream",
     "text": [
      "Validate: MSE 0.02452396 (0.02688938), PSNR 16.10409355 (15.70926002), SSIM 0.07610521 (0.09645122)\n",
      "Finished validation.\n",
      "Starting training epoch 61\n",
      "Epoch: 61, MSE 0.02081448 (0.02103821), PSNR 16.81634331 (16.77109528), SSIM 0.24042431 (0.22957757)\n",
      "Finished training epoch 61\n"
     ]
    },
    {
     "name": "stderr",
     "output_type": "stream",
     "text": [
      "/home/konrad/.local/lib/python3.10/site-packages/skimage/_shared/utils.py:394: UserWarning: Color data out of range: Z < 0 in 35 pixels\n",
      "  return func(*args, **kwargs)\n"
     ]
    },
    {
     "name": "stdout",
     "output_type": "stream",
     "text": [
      "Validate: MSE 0.02700669 (0.02978562), PSNR 15.68528557 (15.26516653), SSIM 0.07521623 (0.09350903)\n",
      "Finished validation.\n",
      "Starting training epoch 62\n",
      "Epoch: 62, MSE 0.02212720 (0.02101697), PSNR 16.55073547 (16.77553496), SSIM 0.20924366 (0.23016480)\n",
      "Finished training epoch 62\n"
     ]
    },
    {
     "name": "stderr",
     "output_type": "stream",
     "text": [
      "/home/konrad/.local/lib/python3.10/site-packages/skimage/_shared/utils.py:394: UserWarning: Color data out of range: Z < 0 in 17 pixels\n",
      "  return func(*args, **kwargs)\n"
     ]
    },
    {
     "name": "stdout",
     "output_type": "stream",
     "text": [
      "Validate: MSE 0.02538322 (0.02797948), PSNR 15.95453358 (15.53700650), SSIM 0.07765365 (0.09695007)\n",
      "Finished validation.\n",
      "Starting training epoch 63\n",
      "Epoch: 63, MSE 0.02138253 (0.02102846), PSNR 16.69940758 (16.77322264), SSIM 0.22982010 (0.23005176)\n",
      "Finished training epoch 63\n"
     ]
    },
    {
     "name": "stderr",
     "output_type": "stream",
     "text": [
      "/home/konrad/.local/lib/python3.10/site-packages/skimage/_shared/utils.py:394: UserWarning: Color data out of range: Z < 0 in 16 pixels\n",
      "  return func(*args, **kwargs)\n"
     ]
    },
    {
     "name": "stdout",
     "output_type": "stream",
     "text": [
      "Validate: MSE 0.02640006 (0.02884952), PSNR 15.78394985 (15.40316702), SSIM 0.07128498 (0.09161545)\n",
      "Finished validation.\n",
      "Starting training epoch 64\n",
      "Epoch: 64, MSE 0.02037482 (0.02101873), PSNR 16.90906143 (16.77512522), SSIM 0.24839453 (0.23007349)\n",
      "Finished training epoch 64\n"
     ]
    },
    {
     "name": "stderr",
     "output_type": "stream",
     "text": [
      "/home/konrad/.local/lib/python3.10/site-packages/skimage/_shared/utils.py:394: UserWarning: Color data out of range: Z < 0 in 22 pixels\n",
      "  return func(*args, **kwargs)\n",
      "/home/konrad/.local/lib/python3.10/site-packages/skimage/_shared/utils.py:394: UserWarning: Color data out of range: Z < 0 in 182 pixels\n",
      "  return func(*args, **kwargs)\n"
     ]
    },
    {
     "name": "stdout",
     "output_type": "stream",
     "text": [
      "Validate: MSE 0.02733078 (0.03063387), PSNR 15.63347912 (15.14365759), SSIM 0.07469243 (0.09206939)\n",
      "Finished validation.\n",
      "Starting training epoch 65\n",
      "Epoch: 65, MSE 0.02085571 (0.02101094), PSNR 16.80775070 (16.77682246), SSIM 0.22549777 (0.23025555)\n",
      "Finished training epoch 65\n"
     ]
    },
    {
     "name": "stderr",
     "output_type": "stream",
     "text": [
      "/home/konrad/.local/lib/python3.10/site-packages/skimage/_shared/utils.py:394: UserWarning: Color data out of range: Z < 0 in 53 pixels\n",
      "  return func(*args, **kwargs)\n",
      "/home/konrad/.local/lib/python3.10/site-packages/skimage/_shared/utils.py:394: UserWarning: Color data out of range: Z < 0 in 63 pixels\n",
      "  return func(*args, **kwargs)\n"
     ]
    },
    {
     "name": "stdout",
     "output_type": "stream",
     "text": [
      "Validate: MSE 0.02755257 (0.03009762), PSNR 15.59837818 (15.21935607), SSIM 0.06944743 (0.08879074)\n",
      "Finished validation.\n",
      "Starting training epoch 66\n",
      "Epoch: 66, MSE 0.02249884 (0.02101668), PSNR 16.47839737 (16.77569932), SSIM 0.22269008 (0.23012692)\n",
      "Finished training epoch 66\n"
     ]
    },
    {
     "name": "stderr",
     "output_type": "stream",
     "text": [
      "/home/konrad/.local/lib/python3.10/site-packages/skimage/_shared/utils.py:394: UserWarning: Color data out of range: Z < 0 in 91 pixels\n",
      "  return func(*args, **kwargs)\n"
     ]
    },
    {
     "name": "stdout",
     "output_type": "stream",
     "text": [
      "Validate: MSE 0.02589822 (0.02909548), PSNR 15.86730099 (15.36793197), SSIM 0.07327515 (0.08916299)\n",
      "Finished validation.\n"
     ]
    },
    {
     "data": {
      "text/plain": [
       "<Figure size 432x288 with 0 Axes>"
      ]
     },
     "metadata": {},
     "output_type": "display_data"
    }
   ],
   "source": [
    "# Train model\n",
    "for epoch in range(epochs):\n",
    "    # Train for one epoch, then validate\n",
    "    train(train_loader, model, criterion, optimizer, epoch)\n",
    "    with torch.no_grad():\n",
    "        losses = validate(val_loader, model, criterion, save_images, epoch)\n",
    "    # Save checkpoint and replace old best model if current model is better\n",
    "    if losses[0] < best_losses[0]:\n",
    "        best_losses[0] = losses[0]\n",
    "        best_epoch = epoch\n",
    "        torch.save(model.state_dict(), f'{checkpoints}/epoch-{epoch}-MSELoss-{losses[0]:.8f}.pth')\n",
    "    if losses[1] < best_losses[1]:\n",
    "        best_losses[1] = losses[1]\n",
    "        torch.save(model.state_dict(), f'{checkpoints}/epoch-{epoch}-PSNRLoss-{losses[1]:.8f}.pth')\n",
    "    if losses[2] < best_losses[2]:\n",
    "        best_losses[2] = losses[2]\n",
    "        torch.save(model.state_dict(), f'{checkpoints}/epoch-{epoch}-SSIMLoss-{losses[2]:.8f}.pth')\n",
    "    \n",
    "    if epoch - best_epoch >= patience:\n",
    "        torch.save(model.state_dict(), f'{checkpoints}/epoch-{epoch}-MSELoss-{losses[0]:.8f}-early_stop.pth')\n",
    "        break\n",
    "    \n",
    "    if epoch == epochs - 1:\n",
    "        torch.save(model.state_dict(), f'{checkpoints}/epoch-{epoch}-last-{losses[0]:.8f}-{losses[1]:.8f}-{losses[2]:.8f}.pth')\n"
   ]
  },
  {
   "cell_type": "code",
   "execution_count": 20,
   "metadata": {
    "scrolled": true
   },
   "outputs": [],
   "source": [
    "torch.save(model.state_dict(), f'{checkpoints}/last-{losses[0]:.8f}-{losses[1]:.8f}-{losses[2]:.8f}.pth')"
   ]
  },
  {
   "cell_type": "code",
   "execution_count": 21,
   "metadata": {
    "colab": {
     "base_uri": "https://localhost:8080/",
     "height": 1593
    },
    "id": "UcovGnpHMl9D",
    "outputId": "90b7a2b4-dc03-4862-cf02-c7ddbbb7e500"
   },
   "outputs": [
    {
     "name": "stdout",
     "output_type": "stream",
     "text": [
      "Validate: MSE 0.02589822 (0.02909548), PSNR 15.86730099 (15.36793197), SSIM 0.07327514 (0.08916299)\n",
      "Finished validation.\n"
     ]
    },
    {
     "data": {
      "text/plain": [
       "<Figure size 432x288 with 0 Axes>"
      ]
     },
     "metadata": {},
     "output_type": "display_data"
    }
   ],
   "source": [
    "# Validate\n",
    "save_images = True\n",
    "with torch.no_grad():\n",
    "    validate(val_loader, model, criterion, save_images, -1)"
   ]
  },
  {
   "cell_type": "code",
   "execution_count": 22,
   "metadata": {},
   "outputs": [],
   "source": [
    "# # Show images \n",
    "# image_pairs = []\n",
    "\n",
    "# for i in range(10):\n",
    "#     image_pairs.append((f'{color_imgs}img-{i}-epoch-{best_epoch}.jpg', f'{gray_imgs}img-{i}-epoch-{best_epoch}.jpg'))\n",
    "    \n",
    "# for c, g in image_pairs:\n",
    "#   color = mpimg.imread(c)\n",
    "#   gray  = mpimg.imread(g)\n",
    "#   f, axarr = plt.subplots(1, 2)\n",
    "#   f.set_size_inches(15, 15)\n",
    "#   axarr[0].imshow(gray, cmap='gray')\n",
    "#   axarr[1].imshow(color)\n",
    "#   axarr[0].axis('off'), axarr[1].axis('off')\n",
    "#   plt.show()"
   ]
  },
  {
   "cell_type": "code",
   "execution_count": null,
   "metadata": {},
   "outputs": [],
   "source": []
  }
 ],
 "metadata": {
  "accelerator": "GPU",
  "colab": {
   "provenance": []
  },
  "kernelspec": {
   "display_name": "Python 3 (ipykernel)",
   "language": "python",
   "name": "python3"
  },
  "language_info": {
   "codemirror_mode": {
    "name": "ipython",
    "version": 3
   },
   "file_extension": ".py",
   "mimetype": "text/x-python",
   "name": "python",
   "nbconvert_exporter": "python",
   "pygments_lexer": "ipython3",
   "version": "3.10.6"
  }
 },
 "nbformat": 4,
 "nbformat_minor": 4
}
