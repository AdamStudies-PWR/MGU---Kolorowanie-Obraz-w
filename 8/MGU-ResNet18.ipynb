{
 "cells": [
  {
   "cell_type": "code",
   "execution_count": 1,
   "metadata": {
    "id": "J_Y9UFYhKbuE"
   },
   "outputs": [],
   "source": [
    "# For plotting\n",
    "import numpy as np\n",
    "import matplotlib.pyplot as plt\n",
    "import matplotlib.image as mpimg\n",
    "%matplotlib inline\n",
    "# For conversion\n",
    "from skimage.color import lab2rgb, rgb2lab, rgb2gray\n",
    "from skimage import io\n",
    "# For everything\n",
    "import torch\n",
    "import torch.nn as nn\n",
    "import torch.nn.functional as F\n",
    "# For our model\n",
    "import torchvision\n",
    "import torchvision.models as models\n",
    "from torchvision import datasets, transforms\n",
    "from PIL import Image\n",
    "# For utilities\n",
    "import os, shutil, time"
   ]
  },
  {
   "cell_type": "code",
   "execution_count": 2,
   "metadata": {},
   "outputs": [
    {
     "data": {
      "text/html": [
       "\n",
       "      <iframe id=\"tensorboard-frame-9df8d9ddd3429a2\" width=\"100%\" height=\"800\" frameborder=\"0\">\n",
       "      </iframe>\n",
       "      <script>\n",
       "        (function() {\n",
       "          const frame = document.getElementById(\"tensorboard-frame-9df8d9ddd3429a2\");\n",
       "          const url = new URL(\"/\", window.location);\n",
       "          const port = 6007;\n",
       "          if (port) {\n",
       "            url.port = port;\n",
       "          }\n",
       "          frame.src = url;\n",
       "        })();\n",
       "      </script>\n",
       "    "
      ],
      "text/plain": [
       "<IPython.core.display.HTML object>"
      ]
     },
     "metadata": {},
     "output_type": "display_data"
    }
   ],
   "source": [
    "%load_ext tensorboard\n",
    "%tensorboard --logdir=runs"
   ]
  },
  {
   "cell_type": "code",
   "execution_count": 3,
   "metadata": {},
   "outputs": [],
   "source": [
    "from torch.utils.tensorboard import SummaryWriter\n",
    "writer = SummaryWriter()"
   ]
  },
  {
   "cell_type": "code",
   "execution_count": 4,
   "metadata": {
    "id": "gMolrzKA_1uJ"
   },
   "outputs": [
    {
     "name": "stdout",
     "output_type": "stream",
     "text": [
      "True\n"
     ]
    }
   ],
   "source": [
    "# Check if GPU is available\n",
    "use_gpu = torch.cuda.is_available()\n",
    "print(use_gpu)"
   ]
  },
  {
   "cell_type": "code",
   "execution_count": 5,
   "metadata": {
    "id": "05NviQfzU2Mv"
   },
   "outputs": [],
   "source": [
    "SIZE = 64\n",
    "class LabImageFolder(torch.utils.data.Dataset):\n",
    "    def __init__(self, paths, split='train'):\n",
    "        if split == 'train':\n",
    "            self.transforms = transforms.Compose([\n",
    "                transforms.Resize((SIZE, SIZE), transforms.InterpolationMode.BICUBIC),\n",
    "                transforms.RandomCrop(SIZE),\n",
    "                transforms.RandomHorizontalFlip(), \n",
    "            ])\n",
    "        elif split == 'val':\n",
    "            self.transforms = transforms.Compose([\n",
    "                transforms.Resize((SIZE, SIZE), transforms.InterpolationMode.BICUBIC), \n",
    "                transforms.RandomCrop(SIZE),\n",
    "            ])\n",
    "            \n",
    "        self.split = split\n",
    "        self.size = SIZE\n",
    "        self.paths = [os.path.join(paths, file) for file in os.listdir(paths) if os.path.isfile(\n",
    "            os.path.join(paths, file))]\n",
    "        \n",
    "        \n",
    "    def __getitem__(self, index):\n",
    "        img = Image.open(self.paths[index]).convert(\"RGB\")\n",
    "        img_original = self.transforms(img)\n",
    "        img_original = np.asarray(img_original)\n",
    "        img_lab = rgb2lab(img_original)\n",
    "        img_lab = (img_lab + 128) / 255\n",
    "        img_ab = img_lab[:, :, 1:3]\n",
    "        img_ab = torch.from_numpy(img_ab.transpose((2, 0, 1))).float()\n",
    "        img_gray = rgb2gray(img_original)\n",
    "        img_gray = torch.from_numpy(img_gray).unsqueeze(0).float()\n",
    "        return img_gray, img_ab\n",
    "    \n",
    "    def __len__(self):\n",
    "        return len(self.paths)"
   ]
  },
  {
   "cell_type": "code",
   "execution_count": 6,
   "metadata": {},
   "outputs": [],
   "source": [
    "# Training\n",
    "batch_size = 128\n",
    "train_imagefolder = LabImageFolder('../../datasets/dataset/train/colour')\n",
    "train_loader = torch.utils.data.DataLoader(train_imagefolder, batch_size=batch_size, shuffle=True)\n",
    "# Validation \n",
    "val_imagefolder = LabImageFolder('../../datasets/dataset/test/colour' , 'val')\n",
    "val_loader = torch.utils.data.DataLoader(val_imagefolder, batch_size=batch_size, shuffle=False)"
   ]
  },
  {
   "cell_type": "code",
   "execution_count": 7,
   "metadata": {
    "id": "NOQfP1feNkfS"
   },
   "outputs": [],
   "source": [
    "kernel_size=3\n",
    "stride_en=1\n",
    "stride_de=1\n",
    "padding=1\n",
    "scale_factor=2\n",
    "padding_mode='zeros'\n",
    "\n",
    "\n",
    "class ResBlock(nn.Module):\n",
    "    def __init__(self, in_size, kernel_size, stride, padding, padding_mode, encoder):\n",
    "        super().__init__()\n",
    "        if (encoder):\n",
    "            self.conv1 = nn.Conv2d(in_size, in_size, kernel_size=kernel_size, stride=stride, padding=padding, padding_mode=padding_mode)\n",
    "        else:\n",
    "            self.conv1 = nn.ConvTranspose2d(in_size, in_size, kernel_size=kernel_size, stride=stride, padding=padding, padding_mode=padding_mode)\n",
    "\n",
    "        self.batchnorm1 = nn.BatchNorm2d(in_size)\n",
    "\n",
    "    def convblock(self, x):\n",
    "        x = F.leaky_relu(self.batchnorm1(self.conv1(x)), negative_slope=0.1)\n",
    "        x = F.leaky_relu(self.batchnorm1(self.conv1(x)), negative_slope=0.1)\n",
    "        x = F.leaky_relu(self.batchnorm1(self.conv1(x)), negative_slope=0.1)\n",
    "        return x\n",
    "   \n",
    "    def forward(self, x): \n",
    "        return x + self.convblock(x)\n",
    "    \n",
    "    \n",
    "    \n",
    "class ColorizationNet(nn.Module):\n",
    "    def __init__(self, input_size=128):\n",
    "        super(ColorizationNet, self).__init__()\n",
    "\n",
    "        self.conv1 = nn.Conv2d(1, 16, kernel_size=kernel_size, stride=stride_en, padding=padding, padding_mode=padding_mode)\n",
    "        self.resblock1 = ResBlock(in_size=16, kernel_size=kernel_size, stride=stride_en, padding=padding, padding_mode=padding_mode, encoder=True)\n",
    "        self.conv2 = nn.Conv2d(16, 32, kernel_size=kernel_size, stride=stride_en, padding=padding, padding_mode=padding_mode)\n",
    "        self.resblock2 = ResBlock(in_size=32, kernel_size=kernel_size, stride=stride_en, padding=padding, padding_mode=padding_mode, encoder=True)\n",
    "        self.conv3 = nn.Conv2d(32, 64, kernel_size=kernel_size, stride=stride_en, padding=padding, padding_mode=padding_mode)\n",
    "        \n",
    "        self.convtrans1 = nn.ConvTranspose2d(64, 32, kernel_size=kernel_size, stride=stride_de, padding=padding, padding_mode=padding_mode)\n",
    "        self.resblock3 = ResBlock(in_size=32, kernel_size=kernel_size, stride=stride_de, padding=padding, padding_mode=padding_mode, encoder=False)\n",
    "        self.convtrans2 = nn.ConvTranspose2d(32, 16, kernel_size=kernel_size, stride=stride_de, padding=padding, padding_mode=padding_mode)\n",
    "        self.resblock4 = ResBlock(in_size=16, kernel_size=kernel_size, stride=stride_de, padding=padding, padding_mode=padding_mode, encoder=False) \n",
    "        self.convtrans3 = nn.ConvTranspose2d(16, 8, kernel_size=kernel_size, stride=stride_de, padding=padding, padding_mode=padding_mode)\n",
    "        self.convtrans4 = nn.ConvTranspose2d(8, 2, kernel_size=kernel_size, stride=stride_de, padding=padding, padding_mode=padding_mode)\n",
    "\n",
    "        self.batchnorm8 = nn.BatchNorm2d(8)\n",
    "        self.batchnorm16 = nn.BatchNorm2d(16)\n",
    "        self.batchnorm32 = nn.BatchNorm2d(32)\n",
    "        self.batchnorm64 = nn.BatchNorm2d(64)\n",
    "        \n",
    "        \n",
    "    def forward(self, input):\n",
    "        # encoder\n",
    "        x = F.leaky_relu(self.batchnorm16(self.conv1(input)), negative_slope=0.1)\n",
    "        x = F.avg_pool2d(x, kernel_size=3, stride=2, padding=1)\n",
    "        x = self.resblock1(x)\n",
    "        x = F.leaky_relu(self.batchnorm32(self.conv2(x)), negative_slope=0.1)\n",
    "        x = F.avg_pool2d(x, kernel_size=3, stride=2, padding=1)\n",
    "        x = self.resblock2(x)\n",
    "        x = F.leaky_relu(self.batchnorm64(self.conv3(x)), negative_slope=0.1)\n",
    "        x = F.avg_pool2d(x, kernel_size=3, stride=2, padding=1)\n",
    "        \n",
    "        # decoder\n",
    "        x = F.leaky_relu(self.batchnorm32(self.convtrans1(x)), negative_slope=0.1)\n",
    "        x = F.interpolate(x, scale_factor=scale_factor)\n",
    "        x = self.resblock3(x)\n",
    "        x = F.leaky_relu(self.batchnorm16(self.convtrans2(x)), negative_slope=0.1)\n",
    "        x = F.interpolate(x, scale_factor=scale_factor)\n",
    "        x = self.resblock4(x)\n",
    "        x = F.leaky_relu(self.batchnorm8(self.convtrans3(x)), negative_slope=0.1)\n",
    "        x = F.interpolate(self.convtrans4(x), scale_factor=scale_factor)\n",
    "        return x"
   ]
  },
  {
   "cell_type": "code",
   "execution_count": 8,
   "metadata": {
    "id": "OtRkAkIjTeq1"
   },
   "outputs": [],
   "source": [
    "model = ColorizationNet()"
   ]
  },
  {
   "cell_type": "code",
   "execution_count": 9,
   "metadata": {
    "id": "1PU0wtkPRasL"
   },
   "outputs": [],
   "source": [
    "criterion = nn.MSELoss()"
   ]
  },
  {
   "cell_type": "code",
   "execution_count": 10,
   "metadata": {
    "id": "j3YZ3977TTl4"
   },
   "outputs": [],
   "source": [
    "optimizer = torch.optim.Adam(model.parameters(), lr=1e-2)"
   ]
  },
  {
   "cell_type": "code",
   "execution_count": 11,
   "metadata": {
    "id": "eeHK3BUtANrw"
   },
   "outputs": [],
   "source": [
    "# # Move model and loss function to GPU\n",
    "if use_gpu: \n",
    "    criterion = criterion.cuda()\n",
    "    model = model.cuda()"
   ]
  },
  {
   "cell_type": "code",
   "execution_count": 12,
   "metadata": {
    "scrolled": false
   },
   "outputs": [
    {
     "name": "stdout",
     "output_type": "stream",
     "text": [
      "----------------------------------------------------------------\n",
      "        Layer (type)               Output Shape         Param #\n",
      "================================================================\n",
      "            Conv2d-1           [-1, 16, 64, 64]             160\n",
      "       BatchNorm2d-2           [-1, 16, 64, 64]              32\n",
      "            Conv2d-3           [-1, 16, 32, 32]           2,320\n",
      "       BatchNorm2d-4           [-1, 16, 32, 32]              32\n",
      "            Conv2d-5           [-1, 16, 32, 32]           2,320\n",
      "       BatchNorm2d-6           [-1, 16, 32, 32]              32\n",
      "            Conv2d-7           [-1, 16, 32, 32]           2,320\n",
      "       BatchNorm2d-8           [-1, 16, 32, 32]              32\n",
      "          ResBlock-9           [-1, 16, 32, 32]               0\n",
      "           Conv2d-10           [-1, 32, 32, 32]           4,640\n",
      "      BatchNorm2d-11           [-1, 32, 32, 32]              64\n",
      "           Conv2d-12           [-1, 32, 16, 16]           9,248\n",
      "      BatchNorm2d-13           [-1, 32, 16, 16]              64\n",
      "           Conv2d-14           [-1, 32, 16, 16]           9,248\n",
      "      BatchNorm2d-15           [-1, 32, 16, 16]              64\n",
      "           Conv2d-16           [-1, 32, 16, 16]           9,248\n",
      "      BatchNorm2d-17           [-1, 32, 16, 16]              64\n",
      "         ResBlock-18           [-1, 32, 16, 16]               0\n",
      "           Conv2d-19           [-1, 64, 16, 16]          18,496\n",
      "      BatchNorm2d-20           [-1, 64, 16, 16]             128\n",
      "  ConvTranspose2d-21             [-1, 32, 8, 8]          18,464\n",
      "      BatchNorm2d-22             [-1, 32, 8, 8]              64\n",
      "  ConvTranspose2d-23           [-1, 32, 16, 16]           9,248\n",
      "      BatchNorm2d-24           [-1, 32, 16, 16]              64\n",
      "  ConvTranspose2d-25           [-1, 32, 16, 16]           9,248\n",
      "      BatchNorm2d-26           [-1, 32, 16, 16]              64\n",
      "  ConvTranspose2d-27           [-1, 32, 16, 16]           9,248\n",
      "      BatchNorm2d-28           [-1, 32, 16, 16]              64\n",
      "         ResBlock-29           [-1, 32, 16, 16]               0\n",
      "  ConvTranspose2d-30           [-1, 16, 16, 16]           4,624\n",
      "      BatchNorm2d-31           [-1, 16, 16, 16]              32\n",
      "  ConvTranspose2d-32           [-1, 16, 32, 32]           2,320\n",
      "      BatchNorm2d-33           [-1, 16, 32, 32]              32\n",
      "  ConvTranspose2d-34           [-1, 16, 32, 32]           2,320\n",
      "      BatchNorm2d-35           [-1, 16, 32, 32]              32\n",
      "  ConvTranspose2d-36           [-1, 16, 32, 32]           2,320\n",
      "      BatchNorm2d-37           [-1, 16, 32, 32]              32\n",
      "         ResBlock-38           [-1, 16, 32, 32]               0\n",
      "  ConvTranspose2d-39            [-1, 8, 32, 32]           1,160\n",
      "      BatchNorm2d-40            [-1, 8, 32, 32]              16\n",
      "  ConvTranspose2d-41            [-1, 2, 32, 32]             146\n",
      "================================================================\n",
      "Total params: 118,010\n",
      "Trainable params: 118,010\n",
      "Non-trainable params: 0\n",
      "----------------------------------------------------------------\n",
      "Input size (MB): 0.02\n",
      "Forward/backward pass size (MB): 4.61\n",
      "Params size (MB): 0.45\n",
      "Estimated Total Size (MB): 5.08\n",
      "----------------------------------------------------------------\n"
     ]
    }
   ],
   "source": [
    "if use_gpu: \n",
    "    from torchsummary import summary\n",
    "\n",
    "    summary(model, (1, 64, 64))"
   ]
  },
  {
   "cell_type": "code",
   "execution_count": 13,
   "metadata": {
    "id": "2FDRt12jsIkr"
   },
   "outputs": [],
   "source": [
    "class AverageMeter(object):\n",
    "  '''A handy class from the PyTorch ImageNet tutorial''' \n",
    "  def __init__(self):\n",
    "    self.reset()\n",
    "  def reset(self):\n",
    "    self.val, self.avg, self.sum, self.count = 0, 0, 0, 0\n",
    "  def update(self, val, n=1):\n",
    "    self.val = val\n",
    "    self.sum += val * n\n",
    "    self.count += n\n",
    "    self.avg = self.sum / self.count\n",
    "\n",
    "def to_rgb(grayscale_input, ab_input, save_path=None, save_name=None):\n",
    "  '''Show/save rgb image from grayscale and ab channels\n",
    "     Input save_path in the form {'grayscale': '/path/', 'colorized': '/path/'}'''\n",
    "  plt.clf() # clear matplotlib \n",
    "  color_image = torch.cat((grayscale_input, ab_input), 0).numpy() # combine channels\n",
    "  color_image = color_image.transpose((1, 2, 0))  # rescale for matplotlib\n",
    "  color_image[:, :, 0:1] = color_image[:, :, 0:1] * 100\n",
    "  color_image[:, :, 1:3] = color_image[:, :, 1:3] * 255 - 128   \n",
    "  color_image = lab2rgb(color_image.astype(np.float64))\n",
    "  grayscale_input = grayscale_input.squeeze().numpy()\n",
    "  if save_path is not None and save_name is not None: \n",
    "    plt.imsave(arr=grayscale_input, fname='{}{}'.format(save_path['grayscale'], save_name), cmap='gray')\n",
    "    plt.imsave(arr=color_image, fname='{}{}'.format(save_path['colorized'], save_name))"
   ]
  },
  {
   "cell_type": "code",
   "execution_count": 14,
   "metadata": {},
   "outputs": [],
   "source": [
    "color_imgs = 'outputs/color/'\n",
    "gray_imgs = 'outputs/gray/'"
   ]
  },
  {
   "cell_type": "code",
   "execution_count": 15,
   "metadata": {
    "id": "M_OTbyOcrh9J"
   },
   "outputs": [],
   "source": [
    "def validate(val_loader, model, criterion, save_images, epoch):\n",
    "    _loss = AverageMeter()\n",
    "\n",
    "    model.eval()\n",
    "    already_saved_images = False\n",
    "    for gray, ab in val_loader:\n",
    "        if use_gpu: \n",
    "            gray, ab = gray.cuda(), ab.cuda()\n",
    "\n",
    "        # Run model and record loss\n",
    "        output_ab = model(gray) # throw away class predictions\n",
    "        loss = criterion(output_ab, ab)\n",
    "        \n",
    "        _loss.update(loss.item(), gray.size(0))\n",
    "\n",
    "        # Save images to file\n",
    "        if save_images and not already_saved_images:\n",
    "            already_saved_images = True\n",
    "            for j in range(min(len(output_ab), 10)): # save at most 5 images\n",
    "                save_path = {'grayscale': gray_imgs, 'colorized': color_imgs}\n",
    "                save_name = 'img-{}-epoch-{}.jpg'.format(j, epoch)\n",
    "                to_rgb(gray[j].cpu(), ab_input=output_ab[j].detach().cpu(), save_path=save_path, save_name=save_name)\n",
    "\n",
    "    print('Validate: Loss {loss.val:.4f} ({loss.avg:.4f})\\t'.format(\n",
    "         loss=_loss))\n",
    "\n",
    "    print('Finished validation.')\n",
    "    if epoch >= 0:\n",
    "        writer.add_scalar(\"Loss/test\", _loss.avg, epoch)\n",
    "    return _loss.avg"
   ]
  },
  {
   "cell_type": "code",
   "execution_count": 16,
   "metadata": {
    "id": "FOo__iEnvLMB"
   },
   "outputs": [],
   "source": [
    "def train(train_loader, model, criterion, optimizer, epoch):\n",
    "    print(f'Starting training epoch {epoch}')\n",
    "    _loss = AverageMeter()\n",
    "    \n",
    "    model.train()\n",
    "\n",
    "    for gray, ab in train_loader:\n",
    "        if use_gpu: \n",
    "            gray, ab = gray.cuda(), ab.cuda()\n",
    "            \n",
    "        optimizer.zero_grad()\n",
    "\n",
    "        output_ab = model(gray) \n",
    "        loss = criterion(output_ab, ab) \n",
    "        loss.backward()\n",
    "        optimizer.step()\n",
    "        \n",
    "        _loss.update(loss.item(), gray.size(0))\n",
    "        \n",
    "    print(f'Epoch: {epoch}, Loss {_loss.val:.4f} ({_loss.avg:.4f})')\n",
    "    \n",
    "    print(f'Finished training epoch {epoch}')\n",
    "    if epoch >= 0:\n",
    "        writer.add_scalar(\"Loss/train\", _loss.avg, epoch)"
   ]
  },
  {
   "cell_type": "code",
   "execution_count": 17,
   "metadata": {
    "id": "ckNmKA5VwSh1"
   },
   "outputs": [],
   "source": [
    "# Make folders and set parameters\n",
    "checkpoints = 'checkpoints'\n",
    "os.makedirs(color_imgs, exist_ok=True)\n",
    "os.makedirs(gray_imgs, exist_ok=True)\n",
    "os.makedirs(checkpoints, exist_ok=True)\n",
    "save_images = True\n",
    "best_losses = 1e10\n",
    "epochs = 1000"
   ]
  },
  {
   "cell_type": "code",
   "execution_count": 18,
   "metadata": {
    "colab": {
     "base_uri": "https://localhost:8080/",
     "height": 625
    },
    "id": "XUR6ALi3AZoO",
    "outputId": "4b274c7b-fc1d-4e14-dc1f-a7ef93f3663f",
    "scrolled": true
   },
   "outputs": [
    {
     "name": "stdout",
     "output_type": "stream",
     "text": [
      "Starting training epoch 0\n",
      "Epoch: 0, Loss 0.0080 (0.0405)\n",
      "Finished training epoch 0\n",
      "Validate: Loss 0.0086 (0.0095)\t\n",
      "Finished validation.\n",
      "Starting training epoch 1\n",
      "Epoch: 1, Loss 0.0075 (0.0080)\n",
      "Finished training epoch 1\n",
      "Validate: Loss 0.0072 (0.0076)\t\n",
      "Finished validation.\n",
      "Starting training epoch 2\n",
      "Epoch: 2, Loss 0.0066 (0.0077)\n",
      "Finished training epoch 2\n",
      "Validate: Loss 0.0074 (0.0077)\t\n",
      "Finished validation.\n",
      "Starting training epoch 3\n",
      "Epoch: 3, Loss 0.0073 (0.0074)\n",
      "Finished training epoch 3\n",
      "Validate: Loss 0.0074 (0.0078)\t\n",
      "Finished validation.\n",
      "Starting training epoch 4\n",
      "Epoch: 4, Loss 0.0071 (0.0072)\n",
      "Finished training epoch 4\n",
      "Validate: Loss 0.0076 (0.0081)\t\n",
      "Finished validation.\n",
      "Starting training epoch 5\n",
      "Epoch: 5, Loss 0.0073 (0.0070)\n",
      "Finished training epoch 5\n",
      "Validate: Loss 0.0077 (0.0081)\t\n",
      "Finished validation.\n",
      "Starting training epoch 6\n",
      "Epoch: 6, Loss 0.0072 (0.0070)\n",
      "Finished training epoch 6\n",
      "Validate: Loss 0.0082 (0.0088)\t\n",
      "Finished validation.\n",
      "Starting training epoch 7\n",
      "Epoch: 7, Loss 0.0065 (0.0068)\n",
      "Finished training epoch 7\n",
      "Validate: Loss 0.0076 (0.0079)\t\n",
      "Finished validation.\n",
      "Starting training epoch 8\n",
      "Epoch: 8, Loss 0.0064 (0.0068)\n",
      "Finished training epoch 8\n",
      "Validate: Loss 0.0082 (0.0087)\t\n",
      "Finished validation.\n",
      "Starting training epoch 9\n",
      "Epoch: 9, Loss 0.0065 (0.0067)\n",
      "Finished training epoch 9\n",
      "Validate: Loss 0.0092 (0.0091)\t\n",
      "Finished validation.\n",
      "Starting training epoch 10\n",
      "Epoch: 10, Loss 0.0067 (0.0067)\n",
      "Finished training epoch 10\n",
      "Validate: Loss 0.0084 (0.0083)\t\n",
      "Finished validation.\n",
      "Starting training epoch 11\n",
      "Epoch: 11, Loss 0.0062 (0.0066)\n",
      "Finished training epoch 11\n",
      "Validate: Loss 0.0092 (0.0089)\t\n",
      "Finished validation.\n",
      "Starting training epoch 12\n",
      "Epoch: 12, Loss 0.0058 (0.0066)\n",
      "Finished training epoch 12\n",
      "Validate: Loss 0.0106 (0.0102)\t\n",
      "Finished validation.\n",
      "Starting training epoch 13\n",
      "Epoch: 13, Loss 0.0065 (0.0066)\n",
      "Finished training epoch 13\n",
      "Validate: Loss 0.0132 (0.0127)\t\n",
      "Finished validation.\n",
      "Starting training epoch 14\n",
      "Epoch: 14, Loss 0.0061 (0.0066)\n",
      "Finished training epoch 14\n"
     ]
    },
    {
     "name": "stderr",
     "output_type": "stream",
     "text": [
      "/home/konrad/.local/lib/python3.10/site-packages/skimage/_shared/utils.py:394: UserWarning: Color data out of range: Z < 0 in 23 pixels\n",
      "  return func(*args, **kwargs)\n",
      "/home/konrad/.local/lib/python3.10/site-packages/skimage/_shared/utils.py:394: UserWarning: Color data out of range: Z < 0 in 1 pixels\n",
      "  return func(*args, **kwargs)\n",
      "/home/konrad/.local/lib/python3.10/site-packages/skimage/_shared/utils.py:394: UserWarning: Color data out of range: Z < 0 in 12 pixels\n",
      "  return func(*args, **kwargs)\n",
      "/home/konrad/.local/lib/python3.10/site-packages/skimage/_shared/utils.py:394: UserWarning: Color data out of range: Z < 0 in 2 pixels\n",
      "  return func(*args, **kwargs)\n",
      "/home/konrad/.local/lib/python3.10/site-packages/skimage/_shared/utils.py:394: UserWarning: Color data out of range: Z < 0 in 20 pixels\n",
      "  return func(*args, **kwargs)\n",
      "/home/konrad/.local/lib/python3.10/site-packages/skimage/_shared/utils.py:394: UserWarning: Color data out of range: Z < 0 in 76 pixels\n",
      "  return func(*args, **kwargs)\n",
      "/home/konrad/.local/lib/python3.10/site-packages/skimage/_shared/utils.py:394: UserWarning: Color data out of range: Z < 0 in 80 pixels\n",
      "  return func(*args, **kwargs)\n",
      "/home/konrad/.local/lib/python3.10/site-packages/skimage/_shared/utils.py:394: UserWarning: Color data out of range: Z < 0 in 34 pixels\n",
      "  return func(*args, **kwargs)\n"
     ]
    },
    {
     "name": "stdout",
     "output_type": "stream",
     "text": [
      "Validate: Loss 0.0176 (0.0167)\t\n",
      "Finished validation.\n",
      "Starting training epoch 15\n",
      "Epoch: 15, Loss 0.0068 (0.0065)\n",
      "Finished training epoch 15\n"
     ]
    },
    {
     "name": "stderr",
     "output_type": "stream",
     "text": [
      "/home/konrad/.local/lib/python3.10/site-packages/skimage/_shared/utils.py:394: UserWarning: Color data out of range: Z < 0 in 18 pixels\n",
      "  return func(*args, **kwargs)\n",
      "/home/konrad/.local/lib/python3.10/site-packages/skimage/_shared/utils.py:394: UserWarning: Color data out of range: Z < 0 in 3 pixels\n",
      "  return func(*args, **kwargs)\n",
      "/home/konrad/.local/lib/python3.10/site-packages/skimage/_shared/utils.py:394: UserWarning: Color data out of range: Z < 0 in 22 pixels\n",
      "  return func(*args, **kwargs)\n",
      "/home/konrad/.local/lib/python3.10/site-packages/skimage/_shared/utils.py:394: UserWarning: Color data out of range: Z < 0 in 7 pixels\n",
      "  return func(*args, **kwargs)\n",
      "/home/konrad/.local/lib/python3.10/site-packages/skimage/_shared/utils.py:394: UserWarning: Color data out of range: Z < 0 in 29 pixels\n",
      "  return func(*args, **kwargs)\n",
      "/home/konrad/.local/lib/python3.10/site-packages/skimage/_shared/utils.py:394: UserWarning: Color data out of range: Z < 0 in 97 pixels\n",
      "  return func(*args, **kwargs)\n",
      "/home/konrad/.local/lib/python3.10/site-packages/skimage/_shared/utils.py:394: UserWarning: Color data out of range: Z < 0 in 127 pixels\n",
      "  return func(*args, **kwargs)\n",
      "/home/konrad/.local/lib/python3.10/site-packages/skimage/_shared/utils.py:394: UserWarning: Color data out of range: Z < 0 in 55 pixels\n",
      "  return func(*args, **kwargs)\n"
     ]
    },
    {
     "name": "stdout",
     "output_type": "stream",
     "text": [
      "Validate: Loss 0.0176 (0.0167)\t\n",
      "Finished validation.\n",
      "Starting training epoch 16\n",
      "Epoch: 16, Loss 0.0067 (0.0066)\n",
      "Finished training epoch 16\n"
     ]
    },
    {
     "name": "stderr",
     "output_type": "stream",
     "text": [
      "/home/konrad/.local/lib/python3.10/site-packages/skimage/_shared/utils.py:394: UserWarning: Color data out of range: Z < 0 in 17 pixels\n",
      "  return func(*args, **kwargs)\n",
      "/home/konrad/.local/lib/python3.10/site-packages/skimage/_shared/utils.py:394: UserWarning: Color data out of range: Z < 0 in 25 pixels\n",
      "  return func(*args, **kwargs)\n",
      "/home/konrad/.local/lib/python3.10/site-packages/skimage/_shared/utils.py:394: UserWarning: Color data out of range: Z < 0 in 33 pixels\n",
      "  return func(*args, **kwargs)\n",
      "/home/konrad/.local/lib/python3.10/site-packages/skimage/_shared/utils.py:394: UserWarning: Color data out of range: Z < 0 in 13 pixels\n",
      "  return func(*args, **kwargs)\n"
     ]
    },
    {
     "name": "stdout",
     "output_type": "stream",
     "text": [
      "Validate: Loss 0.0122 (0.0116)\t\n",
      "Finished validation.\n",
      "Starting training epoch 17\n",
      "Epoch: 17, Loss 0.0065 (0.0065)\n",
      "Finished training epoch 17\n"
     ]
    },
    {
     "name": "stderr",
     "output_type": "stream",
     "text": [
      "/home/konrad/.local/lib/python3.10/site-packages/skimage/_shared/utils.py:394: UserWarning: Color data out of range: Z < 0 in 5 pixels\n",
      "  return func(*args, **kwargs)\n",
      "/home/konrad/.local/lib/python3.10/site-packages/skimage/_shared/utils.py:394: UserWarning: Color data out of range: Z < 0 in 28 pixels\n",
      "  return func(*args, **kwargs)\n",
      "/home/konrad/.local/lib/python3.10/site-packages/skimage/_shared/utils.py:394: UserWarning: Color data out of range: Z < 0 in 51 pixels\n",
      "  return func(*args, **kwargs)\n",
      "/home/konrad/.local/lib/python3.10/site-packages/skimage/_shared/utils.py:394: UserWarning: Color data out of range: Z < 0 in 93 pixels\n",
      "  return func(*args, **kwargs)\n",
      "/home/konrad/.local/lib/python3.10/site-packages/skimage/_shared/utils.py:394: UserWarning: Color data out of range: Z < 0 in 77 pixels\n",
      "  return func(*args, **kwargs)\n"
     ]
    },
    {
     "name": "stdout",
     "output_type": "stream",
     "text": [
      "Validate: Loss 0.0241 (0.0231)\t\n",
      "Finished validation.\n",
      "Starting training epoch 18\n",
      "Epoch: 18, Loss 0.0073 (0.0065)\n",
      "Finished training epoch 18\n"
     ]
    },
    {
     "name": "stderr",
     "output_type": "stream",
     "text": [
      "/home/konrad/.local/lib/python3.10/site-packages/skimage/_shared/utils.py:394: UserWarning: Color data out of range: Z < 0 in 10 pixels\n",
      "  return func(*args, **kwargs)\n",
      "/home/konrad/.local/lib/python3.10/site-packages/skimage/_shared/utils.py:394: UserWarning: Color data out of range: Z < 0 in 4 pixels\n",
      "  return func(*args, **kwargs)\n",
      "/home/konrad/.local/lib/python3.10/site-packages/skimage/_shared/utils.py:394: UserWarning: Color data out of range: Z < 0 in 31 pixels\n",
      "  return func(*args, **kwargs)\n",
      "/home/konrad/.local/lib/python3.10/site-packages/skimage/_shared/utils.py:394: UserWarning: Color data out of range: Z < 0 in 26 pixels\n",
      "  return func(*args, **kwargs)\n",
      "/home/konrad/.local/lib/python3.10/site-packages/skimage/_shared/utils.py:394: UserWarning: Color data out of range: Z < 0 in 105 pixels\n",
      "  return func(*args, **kwargs)\n",
      "/home/konrad/.local/lib/python3.10/site-packages/skimage/_shared/utils.py:394: UserWarning: Color data out of range: Z < 0 in 139 pixels\n",
      "  return func(*args, **kwargs)\n",
      "/home/konrad/.local/lib/python3.10/site-packages/skimage/_shared/utils.py:394: UserWarning: Color data out of range: Z < 0 in 109 pixels\n",
      "  return func(*args, **kwargs)\n"
     ]
    },
    {
     "name": "stdout",
     "output_type": "stream",
     "text": [
      "Validate: Loss 0.0195 (0.0185)\t\n",
      "Finished validation.\n",
      "Starting training epoch 19\n",
      "Epoch: 19, Loss 0.0064 (0.0065)\n",
      "Finished training epoch 19\n"
     ]
    },
    {
     "name": "stderr",
     "output_type": "stream",
     "text": [
      "/home/konrad/.local/lib/python3.10/site-packages/skimage/_shared/utils.py:394: UserWarning: Color data out of range: Z < 0 in 8 pixels\n",
      "  return func(*args, **kwargs)\n",
      "/home/konrad/.local/lib/python3.10/site-packages/skimage/_shared/utils.py:394: UserWarning: Color data out of range: Z < 0 in 35 pixels\n",
      "  return func(*args, **kwargs)\n",
      "/home/konrad/.local/lib/python3.10/site-packages/skimage/_shared/utils.py:394: UserWarning: Color data out of range: Z < 0 in 47 pixels\n",
      "  return func(*args, **kwargs)\n",
      "/home/konrad/.local/lib/python3.10/site-packages/skimage/_shared/utils.py:394: UserWarning: Color data out of range: Z < 0 in 111 pixels\n",
      "  return func(*args, **kwargs)\n",
      "/home/konrad/.local/lib/python3.10/site-packages/skimage/_shared/utils.py:394: UserWarning: Color data out of range: Z < 0 in 73 pixels\n",
      "  return func(*args, **kwargs)\n"
     ]
    },
    {
     "name": "stdout",
     "output_type": "stream",
     "text": [
      "Validate: Loss 0.0194 (0.0185)\t\n",
      "Finished validation.\n",
      "Starting training epoch 20\n",
      "Epoch: 20, Loss 0.0066 (0.0065)\n",
      "Finished training epoch 20\n"
     ]
    },
    {
     "name": "stderr",
     "output_type": "stream",
     "text": [
      "/home/konrad/.local/lib/python3.10/site-packages/skimage/_shared/utils.py:394: UserWarning: Color data out of range: Z < 0 in 30 pixels\n",
      "  return func(*args, **kwargs)\n",
      "/home/konrad/.local/lib/python3.10/site-packages/skimage/_shared/utils.py:394: UserWarning: Color data out of range: Z < 0 in 59 pixels\n",
      "  return func(*args, **kwargs)\n",
      "/home/konrad/.local/lib/python3.10/site-packages/skimage/_shared/utils.py:394: UserWarning: Color data out of range: Z < 0 in 61 pixels\n",
      "  return func(*args, **kwargs)\n",
      "/home/konrad/.local/lib/python3.10/site-packages/skimage/_shared/utils.py:394: UserWarning: Color data out of range: Z < 0 in 32 pixels\n",
      "  return func(*args, **kwargs)\n",
      "/home/konrad/.local/lib/python3.10/site-packages/skimage/_shared/utils.py:394: UserWarning: Color data out of range: Z < 0 in 133 pixels\n",
      "  return func(*args, **kwargs)\n",
      "/home/konrad/.local/lib/python3.10/site-packages/skimage/_shared/utils.py:394: UserWarning: Color data out of range: Z < 0 in 201 pixels\n",
      "  return func(*args, **kwargs)\n",
      "/home/konrad/.local/lib/python3.10/site-packages/skimage/_shared/utils.py:394: UserWarning: Color data out of range: Z < 0 in 125 pixels\n",
      "  return func(*args, **kwargs)\n"
     ]
    },
    {
     "name": "stdout",
     "output_type": "stream",
     "text": [
      "Validate: Loss 0.0239 (0.0228)\t\n",
      "Finished validation.\n",
      "Starting training epoch 21\n",
      "Epoch: 21, Loss 0.0064 (0.0064)\n",
      "Finished training epoch 21\n"
     ]
    },
    {
     "name": "stderr",
     "output_type": "stream",
     "text": [
      "/home/konrad/.local/lib/python3.10/site-packages/skimage/_shared/utils.py:394: UserWarning: Color data out of range: Z < 0 in 181 pixels\n",
      "  return func(*args, **kwargs)\n",
      "/home/konrad/.local/lib/python3.10/site-packages/skimage/_shared/utils.py:394: UserWarning: Color data out of range: Z < 0 in 265 pixels\n",
      "  return func(*args, **kwargs)\n",
      "/home/konrad/.local/lib/python3.10/site-packages/skimage/_shared/utils.py:394: UserWarning: Color data out of range: Z < 0 in 213 pixels\n",
      "  return func(*args, **kwargs)\n",
      "/home/konrad/.local/lib/python3.10/site-packages/skimage/_shared/utils.py:394: UserWarning: Color data out of range: Z < 0 in 187 pixels\n",
      "  return func(*args, **kwargs)\n",
      "/home/konrad/.local/lib/python3.10/site-packages/skimage/_shared/utils.py:394: UserWarning: Color data out of range: Z < 0 in 88 pixels\n",
      "  return func(*args, **kwargs)\n",
      "/home/konrad/.local/lib/python3.10/site-packages/skimage/_shared/utils.py:394: UserWarning: Color data out of range: Z < 0 in 443 pixels\n",
      "  return func(*args, **kwargs)\n",
      "/home/konrad/.local/lib/python3.10/site-packages/skimage/_shared/utils.py:394: UserWarning: Color data out of range: Z < 0 in 516 pixels\n",
      "  return func(*args, **kwargs)\n",
      "/home/konrad/.local/lib/python3.10/site-packages/skimage/_shared/utils.py:394: UserWarning: Color data out of range: Z < 0 in 205 pixels\n",
      "  return func(*args, **kwargs)\n",
      "/home/konrad/.local/lib/python3.10/site-packages/skimage/_shared/utils.py:394: UserWarning: Color data out of range: Z < 0 in 9 pixels\n",
      "  return func(*args, **kwargs)\n"
     ]
    },
    {
     "name": "stdout",
     "output_type": "stream",
     "text": [
      "Validate: Loss 0.0252 (0.0239)\t\n",
      "Finished validation.\n",
      "Starting training epoch 22\n",
      "Epoch: 22, Loss 0.0075 (0.0065)\n",
      "Finished training epoch 22\n"
     ]
    },
    {
     "name": "stderr",
     "output_type": "stream",
     "text": [
      "/home/konrad/.local/lib/python3.10/site-packages/skimage/_shared/utils.py:394: UserWarning: Color data out of range: Z < 0 in 162 pixels\n",
      "  return func(*args, **kwargs)\n",
      "/home/konrad/.local/lib/python3.10/site-packages/skimage/_shared/utils.py:394: UserWarning: Color data out of range: Z < 0 in 250 pixels\n",
      "  return func(*args, **kwargs)\n",
      "/home/konrad/.local/lib/python3.10/site-packages/skimage/_shared/utils.py:394: UserWarning: Color data out of range: Z < 0 in 171 pixels\n",
      "  return func(*args, **kwargs)\n",
      "/home/konrad/.local/lib/python3.10/site-packages/skimage/_shared/utils.py:394: UserWarning: Color data out of range: Z < 0 in 174 pixels\n",
      "  return func(*args, **kwargs)\n",
      "/home/konrad/.local/lib/python3.10/site-packages/skimage/_shared/utils.py:394: UserWarning: Color data out of range: Z < 0 in 259 pixels\n",
      "  return func(*args, **kwargs)\n",
      "/home/konrad/.local/lib/python3.10/site-packages/skimage/_shared/utils.py:394: UserWarning: Color data out of range: Z < 0 in 436 pixels\n",
      "  return func(*args, **kwargs)\n",
      "/home/konrad/.local/lib/python3.10/site-packages/skimage/_shared/utils.py:394: UserWarning: Color data out of range: Z < 0 in 152 pixels\n",
      "  return func(*args, **kwargs)\n"
     ]
    },
    {
     "name": "stdout",
     "output_type": "stream",
     "text": [
      "Validate: Loss 0.0271 (0.0258)\t\n",
      "Finished validation.\n",
      "Starting training epoch 23\n",
      "Epoch: 23, Loss 0.0072 (0.0064)\n",
      "Finished training epoch 23\n"
     ]
    },
    {
     "name": "stderr",
     "output_type": "stream",
     "text": [
      "/home/konrad/.local/lib/python3.10/site-packages/skimage/_shared/utils.py:394: UserWarning: Color data out of range: Z < 0 in 239 pixels\n",
      "  return func(*args, **kwargs)\n",
      "/home/konrad/.local/lib/python3.10/site-packages/skimage/_shared/utils.py:394: UserWarning: Color data out of range: Z < 0 in 381 pixels\n",
      "  return func(*args, **kwargs)\n",
      "/home/konrad/.local/lib/python3.10/site-packages/skimage/_shared/utils.py:394: UserWarning: Color data out of range: Z < 0 in 278 pixels\n",
      "  return func(*args, **kwargs)\n",
      "/home/konrad/.local/lib/python3.10/site-packages/skimage/_shared/utils.py:394: UserWarning: Color data out of range: Z < 0 in 11 pixels\n",
      "  return func(*args, **kwargs)\n",
      "/home/konrad/.local/lib/python3.10/site-packages/skimage/_shared/utils.py:394: UserWarning: Color data out of range: Z < 0 in 241 pixels\n",
      "  return func(*args, **kwargs)\n",
      "/home/konrad/.local/lib/python3.10/site-packages/skimage/_shared/utils.py:394: UserWarning: Color data out of range: Z < 0 in 399 pixels\n",
      "  return func(*args, **kwargs)\n",
      "/home/konrad/.local/lib/python3.10/site-packages/skimage/_shared/utils.py:394: UserWarning: Color data out of range: Z < 0 in 574 pixels\n",
      "  return func(*args, **kwargs)\n",
      "/home/konrad/.local/lib/python3.10/site-packages/skimage/_shared/utils.py:394: UserWarning: Color data out of range: Z < 0 in 229 pixels\n",
      "  return func(*args, **kwargs)\n",
      "/home/konrad/.local/lib/python3.10/site-packages/skimage/_shared/utils.py:394: UserWarning: Color data out of range: Z < 0 in 27 pixels\n",
      "  return func(*args, **kwargs)\n"
     ]
    },
    {
     "name": "stdout",
     "output_type": "stream",
     "text": [
      "Validate: Loss 0.0301 (0.0287)\t\n",
      "Finished validation.\n",
      "Starting training epoch 24\n",
      "Epoch: 24, Loss 0.0071 (0.0064)\n",
      "Finished training epoch 24\n"
     ]
    },
    {
     "name": "stderr",
     "output_type": "stream",
     "text": [
      "/home/konrad/.local/lib/python3.10/site-packages/skimage/_shared/utils.py:394: UserWarning: Color data out of range: Z < 0 in 112 pixels\n",
      "  return func(*args, **kwargs)\n",
      "/home/konrad/.local/lib/python3.10/site-packages/skimage/_shared/utils.py:394: UserWarning: Color data out of range: Z < 0 in 185 pixels\n",
      "  return func(*args, **kwargs)\n",
      "/home/konrad/.local/lib/python3.10/site-packages/skimage/_shared/utils.py:394: UserWarning: Color data out of range: Z < 0 in 156 pixels\n",
      "  return func(*args, **kwargs)\n",
      "/home/konrad/.local/lib/python3.10/site-packages/skimage/_shared/utils.py:394: UserWarning: Color data out of range: Z < 0 in 153 pixels\n",
      "  return func(*args, **kwargs)\n",
      "/home/konrad/.local/lib/python3.10/site-packages/skimage/_shared/utils.py:394: UserWarning: Color data out of range: Z < 0 in 56 pixels\n",
      "  return func(*args, **kwargs)\n",
      "/home/konrad/.local/lib/python3.10/site-packages/skimage/_shared/utils.py:394: UserWarning: Color data out of range: Z < 0 in 210 pixels\n",
      "  return func(*args, **kwargs)\n",
      "/home/konrad/.local/lib/python3.10/site-packages/skimage/_shared/utils.py:394: UserWarning: Color data out of range: Z < 0 in 386 pixels\n",
      "  return func(*args, **kwargs)\n",
      "/home/konrad/.local/lib/python3.10/site-packages/skimage/_shared/utils.py:394: UserWarning: Color data out of range: Z < 0 in 159 pixels\n",
      "  return func(*args, **kwargs)\n",
      "/home/konrad/.local/lib/python3.10/site-packages/skimage/_shared/utils.py:394: UserWarning: Color data out of range: Z < 0 in 6 pixels\n",
      "  return func(*args, **kwargs)\n"
     ]
    },
    {
     "name": "stdout",
     "output_type": "stream",
     "text": [
      "Validate: Loss 0.0241 (0.0230)\t\n",
      "Finished validation.\n",
      "Starting training epoch 25\n",
      "Epoch: 25, Loss 0.0065 (0.0064)\n",
      "Finished training epoch 25\n"
     ]
    },
    {
     "name": "stderr",
     "output_type": "stream",
     "text": [
      "/home/konrad/.local/lib/python3.10/site-packages/skimage/_shared/utils.py:394: UserWarning: Color data out of range: Z < 0 in 240 pixels\n",
      "  return func(*args, **kwargs)\n",
      "/home/konrad/.local/lib/python3.10/site-packages/skimage/_shared/utils.py:394: UserWarning: Color data out of range: Z < 0 in 453 pixels\n",
      "  return func(*args, **kwargs)\n",
      "/home/konrad/.local/lib/python3.10/site-packages/skimage/_shared/utils.py:394: UserWarning: Color data out of range: Z < 0 in 389 pixels\n",
      "  return func(*args, **kwargs)\n",
      "/home/konrad/.local/lib/python3.10/site-packages/skimage/_shared/utils.py:394: UserWarning: Color data out of range: Z < 0 in 288 pixels\n",
      "  return func(*args, **kwargs)\n",
      "/home/konrad/.local/lib/python3.10/site-packages/skimage/_shared/utils.py:394: UserWarning: Color data out of range: Z < 0 in 170 pixels\n",
      "  return func(*args, **kwargs)\n",
      "/home/konrad/.local/lib/python3.10/site-packages/skimage/_shared/utils.py:394: UserWarning: Color data out of range: Z < 0 in 422 pixels\n",
      "  return func(*args, **kwargs)\n",
      "/home/konrad/.local/lib/python3.10/site-packages/skimage/_shared/utils.py:394: UserWarning: Color data out of range: Z < 0 in 601 pixels\n",
      "  return func(*args, **kwargs)\n",
      "/home/konrad/.local/lib/python3.10/site-packages/skimage/_shared/utils.py:394: UserWarning: Color data out of range: Z < 0 in 277 pixels\n",
      "  return func(*args, **kwargs)\n",
      "/home/konrad/.local/lib/python3.10/site-packages/skimage/_shared/utils.py:394: UserWarning: Color data out of range: Z < 0 in 43 pixels\n",
      "  return func(*args, **kwargs)\n"
     ]
    },
    {
     "name": "stdout",
     "output_type": "stream",
     "text": [
      "Validate: Loss 0.0301 (0.0287)\t\n",
      "Finished validation.\n",
      "Starting training epoch 26\n",
      "Epoch: 26, Loss 0.0060 (0.0064)\n",
      "Finished training epoch 26\n"
     ]
    },
    {
     "name": "stderr",
     "output_type": "stream",
     "text": [
      "/home/konrad/.local/lib/python3.10/site-packages/skimage/_shared/utils.py:394: UserWarning: Color data out of range: Z < 0 in 568 pixels\n",
      "  return func(*args, **kwargs)\n",
      "/home/konrad/.local/lib/python3.10/site-packages/skimage/_shared/utils.py:394: UserWarning: Color data out of range: Z < 0 in 385 pixels\n",
      "  return func(*args, **kwargs)\n",
      "/home/konrad/.local/lib/python3.10/site-packages/skimage/_shared/utils.py:394: UserWarning: Color data out of range: Z < 0 in 42 pixels\n",
      "  return func(*args, **kwargs)\n",
      "/home/konrad/.local/lib/python3.10/site-packages/skimage/_shared/utils.py:394: UserWarning: Color data out of range: Z < 0 in 295 pixels\n",
      "  return func(*args, **kwargs)\n",
      "/home/konrad/.local/lib/python3.10/site-packages/skimage/_shared/utils.py:394: UserWarning: Color data out of range: Z < 0 in 214 pixels\n",
      "  return func(*args, **kwargs)\n",
      "/home/konrad/.local/lib/python3.10/site-packages/skimage/_shared/utils.py:394: UserWarning: Color data out of range: Z < 0 in 631 pixels\n",
      "  return func(*args, **kwargs)\n",
      "/home/konrad/.local/lib/python3.10/site-packages/skimage/_shared/utils.py:394: UserWarning: Color data out of range: Z < 0 in 701 pixels\n",
      "  return func(*args, **kwargs)\n",
      "/home/konrad/.local/lib/python3.10/site-packages/skimage/_shared/utils.py:394: UserWarning: Color data out of range: Z < 0 in 253 pixels\n",
      "  return func(*args, **kwargs)\n",
      "/home/konrad/.local/lib/python3.10/site-packages/skimage/_shared/utils.py:394: UserWarning: Color data out of range: Z < 0 in 64 pixels\n",
      "  return func(*args, **kwargs)\n"
     ]
    },
    {
     "name": "stdout",
     "output_type": "stream",
     "text": [
      "Validate: Loss 0.0294 (0.0282)\t\n",
      "Finished validation.\n",
      "Starting training epoch 27\n",
      "Epoch: 27, Loss 0.0062 (0.0064)\n",
      "Finished training epoch 27\n"
     ]
    },
    {
     "name": "stderr",
     "output_type": "stream",
     "text": [
      "/home/konrad/.local/lib/python3.10/site-packages/skimage/_shared/utils.py:394: UserWarning: Color data out of range: Z < 0 in 533 pixels\n",
      "  return func(*args, **kwargs)\n",
      "/home/konrad/.local/lib/python3.10/site-packages/skimage/_shared/utils.py:394: UserWarning: Color data out of range: Z < 0 in 791 pixels\n",
      "  return func(*args, **kwargs)\n",
      "/home/konrad/.local/lib/python3.10/site-packages/skimage/_shared/utils.py:394: UserWarning: Color data out of range: Z < 0 in 750 pixels\n",
      "  return func(*args, **kwargs)\n",
      "/home/konrad/.local/lib/python3.10/site-packages/skimage/_shared/utils.py:394: UserWarning: Color data out of range: Z < 0 in 71 pixels\n",
      "  return func(*args, **kwargs)\n",
      "/home/konrad/.local/lib/python3.10/site-packages/skimage/_shared/utils.py:394: UserWarning: Color data out of range: Z < 0 in 483 pixels\n",
      "  return func(*args, **kwargs)\n",
      "/home/konrad/.local/lib/python3.10/site-packages/skimage/_shared/utils.py:394: UserWarning: Color data out of range: Z < 0 in 458 pixels\n",
      "  return func(*args, **kwargs)\n",
      "/home/konrad/.local/lib/python3.10/site-packages/skimage/_shared/utils.py:394: UserWarning: Color data out of range: Z < 0 in 684 pixels\n",
      "  return func(*args, **kwargs)\n",
      "/home/konrad/.local/lib/python3.10/site-packages/skimage/_shared/utils.py:394: UserWarning: Color data out of range: Z < 0 in 835 pixels\n",
      "  return func(*args, **kwargs)\n",
      "/home/konrad/.local/lib/python3.10/site-packages/skimage/_shared/utils.py:394: UserWarning: Color data out of range: Z < 0 in 377 pixels\n",
      "  return func(*args, **kwargs)\n",
      "/home/konrad/.local/lib/python3.10/site-packages/skimage/_shared/utils.py:394: UserWarning: Color data out of range: Z < 0 in 166 pixels\n",
      "  return func(*args, **kwargs)\n"
     ]
    },
    {
     "name": "stdout",
     "output_type": "stream",
     "text": [
      "Validate: Loss 0.0359 (0.0343)\t\n",
      "Finished validation.\n",
      "Starting training epoch 28\n",
      "Epoch: 28, Loss 0.0059 (0.0064)\n",
      "Finished training epoch 28\n"
     ]
    },
    {
     "name": "stderr",
     "output_type": "stream",
     "text": [
      "/home/konrad/.local/lib/python3.10/site-packages/skimage/_shared/utils.py:394: UserWarning: Color data out of range: Z < 0 in 198 pixels\n",
      "  return func(*args, **kwargs)\n",
      "/home/konrad/.local/lib/python3.10/site-packages/skimage/_shared/utils.py:394: UserWarning: Color data out of range: Z < 0 in 350 pixels\n",
      "  return func(*args, **kwargs)\n",
      "/home/konrad/.local/lib/python3.10/site-packages/skimage/_shared/utils.py:394: UserWarning: Color data out of range: Z < 0 in 247 pixels\n",
      "  return func(*args, **kwargs)\n",
      "/home/konrad/.local/lib/python3.10/site-packages/skimage/_shared/utils.py:394: UserWarning: Color data out of range: Z < 0 in 219 pixels\n",
      "  return func(*args, **kwargs)\n",
      "/home/konrad/.local/lib/python3.10/site-packages/skimage/_shared/utils.py:394: UserWarning: Color data out of range: Z < 0 in 103 pixels\n",
      "  return func(*args, **kwargs)\n",
      "/home/konrad/.local/lib/python3.10/site-packages/skimage/_shared/utils.py:394: UserWarning: Color data out of range: Z < 0 in 467 pixels\n",
      "  return func(*args, **kwargs)\n",
      "/home/konrad/.local/lib/python3.10/site-packages/skimage/_shared/utils.py:394: UserWarning: Color data out of range: Z < 0 in 200 pixels\n",
      "  return func(*args, **kwargs)\n"
     ]
    },
    {
     "name": "stdout",
     "output_type": "stream",
     "text": [
      "Validate: Loss 0.0331 (0.0317)\t\n",
      "Finished validation.\n",
      "Starting training epoch 29\n",
      "Epoch: 29, Loss 0.0068 (0.0064)\n",
      "Finished training epoch 29\n"
     ]
    },
    {
     "name": "stderr",
     "output_type": "stream",
     "text": [
      "/home/konrad/.local/lib/python3.10/site-packages/skimage/_shared/utils.py:394: UserWarning: Color data out of range: Z < 0 in 499 pixels\n",
      "  return func(*args, **kwargs)\n",
      "/home/konrad/.local/lib/python3.10/site-packages/skimage/_shared/utils.py:394: UserWarning: Color data out of range: Z < 0 in 766 pixels\n",
      "  return func(*args, **kwargs)\n",
      "/home/konrad/.local/lib/python3.10/site-packages/skimage/_shared/utils.py:394: UserWarning: Color data out of range: Z < 0 in 707 pixels\n",
      "  return func(*args, **kwargs)\n",
      "/home/konrad/.local/lib/python3.10/site-packages/skimage/_shared/utils.py:394: UserWarning: Color data out of range: Z < 0 in 65 pixels\n",
      "  return func(*args, **kwargs)\n",
      "/home/konrad/.local/lib/python3.10/site-packages/skimage/_shared/utils.py:394: UserWarning: Color data out of range: Z < 0 in 420 pixels\n",
      "  return func(*args, **kwargs)\n",
      "/home/konrad/.local/lib/python3.10/site-packages/skimage/_shared/utils.py:394: UserWarning: Color data out of range: Z < 0 in 658 pixels\n",
      "  return func(*args, **kwargs)\n",
      "/home/konrad/.local/lib/python3.10/site-packages/skimage/_shared/utils.py:394: UserWarning: Color data out of range: Z < 0 in 819 pixels\n",
      "  return func(*args, **kwargs)\n",
      "/home/konrad/.local/lib/python3.10/site-packages/skimage/_shared/utils.py:394: UserWarning: Color data out of range: Z < 0 in 369 pixels\n",
      "  return func(*args, **kwargs)\n",
      "/home/konrad/.local/lib/python3.10/site-packages/skimage/_shared/utils.py:394: UserWarning: Color data out of range: Z < 0 in 154 pixels\n",
      "  return func(*args, **kwargs)\n"
     ]
    },
    {
     "name": "stdout",
     "output_type": "stream",
     "text": [
      "Validate: Loss 0.0299 (0.0285)\t\n",
      "Finished validation.\n",
      "Starting training epoch 30\n",
      "Epoch: 30, Loss 0.0067 (0.0063)\n",
      "Finished training epoch 30\n"
     ]
    },
    {
     "name": "stderr",
     "output_type": "stream",
     "text": [
      "/home/konrad/.local/lib/python3.10/site-packages/skimage/_shared/utils.py:394: UserWarning: Color data out of range: Z < 0 in 579 pixels\n",
      "  return func(*args, **kwargs)\n",
      "/home/konrad/.local/lib/python3.10/site-packages/skimage/_shared/utils.py:394: UserWarning: Color data out of range: Z < 0 in 849 pixels\n",
      "  return func(*args, **kwargs)\n",
      "/home/konrad/.local/lib/python3.10/site-packages/skimage/_shared/utils.py:394: UserWarning: Color data out of range: Z < 0 in 764 pixels\n",
      "  return func(*args, **kwargs)\n",
      "/home/konrad/.local/lib/python3.10/site-packages/skimage/_shared/utils.py:394: UserWarning: Color data out of range: Z < 0 in 67 pixels\n",
      "  return func(*args, **kwargs)\n",
      "/home/konrad/.local/lib/python3.10/site-packages/skimage/_shared/utils.py:394: UserWarning: Color data out of range: Z < 0 in 476 pixels\n",
      "  return func(*args, **kwargs)\n",
      "/home/konrad/.local/lib/python3.10/site-packages/skimage/_shared/utils.py:394: UserWarning: Color data out of range: Z < 0 in 438 pixels\n",
      "  return func(*args, **kwargs)\n",
      "/home/konrad/.local/lib/python3.10/site-packages/skimage/_shared/utils.py:394: UserWarning: Color data out of range: Z < 0 in 732 pixels\n",
      "  return func(*args, **kwargs)\n",
      "/home/konrad/.local/lib/python3.10/site-packages/skimage/_shared/utils.py:394: UserWarning: Color data out of range: Z < 0 in 844 pixels\n",
      "  return func(*args, **kwargs)\n",
      "/home/konrad/.local/lib/python3.10/site-packages/skimage/_shared/utils.py:394: UserWarning: Color data out of range: Z < 0 in 387 pixels\n",
      "  return func(*args, **kwargs)\n",
      "/home/konrad/.local/lib/python3.10/site-packages/skimage/_shared/utils.py:394: UserWarning: Color data out of range: Z < 0 in 163 pixels\n",
      "  return func(*args, **kwargs)\n"
     ]
    },
    {
     "name": "stdout",
     "output_type": "stream",
     "text": [
      "Validate: Loss 0.0304 (0.0291)\t\n",
      "Finished validation.\n",
      "Starting training epoch 31\n",
      "Epoch: 31, Loss 0.0063 (0.0063)\n",
      "Finished training epoch 31\n"
     ]
    },
    {
     "name": "stderr",
     "output_type": "stream",
     "text": [
      "/home/konrad/.local/lib/python3.10/site-packages/skimage/_shared/utils.py:394: UserWarning: Color data out of range: Z < 0 in 596 pixels\n",
      "  return func(*args, **kwargs)\n",
      "/home/konrad/.local/lib/python3.10/site-packages/skimage/_shared/utils.py:394: UserWarning: Color data out of range: Z < 0 in 428 pixels\n",
      "  return func(*args, **kwargs)\n",
      "/home/konrad/.local/lib/python3.10/site-packages/skimage/_shared/utils.py:394: UserWarning: Color data out of range: Z < 0 in 340 pixels\n",
      "  return func(*args, **kwargs)\n",
      "/home/konrad/.local/lib/python3.10/site-packages/skimage/_shared/utils.py:394: UserWarning: Color data out of range: Z < 0 in 227 pixels\n",
      "  return func(*args, **kwargs)\n",
      "/home/konrad/.local/lib/python3.10/site-packages/skimage/_shared/utils.py:394: UserWarning: Color data out of range: Z < 0 in 529 pixels\n",
      "  return func(*args, **kwargs)\n",
      "/home/konrad/.local/lib/python3.10/site-packages/skimage/_shared/utils.py:394: UserWarning: Color data out of range: Z < 0 in 255 pixels\n",
      "  return func(*args, **kwargs)\n"
     ]
    },
    {
     "name": "stdout",
     "output_type": "stream",
     "text": [
      "Validate: Loss 0.0291 (0.0277)\t\n",
      "Finished validation.\n",
      "Starting training epoch 32\n",
      "Epoch: 32, Loss 0.0058 (0.0063)\n",
      "Finished training epoch 32\n"
     ]
    },
    {
     "name": "stderr",
     "output_type": "stream",
     "text": [
      "/home/konrad/.local/lib/python3.10/site-packages/skimage/_shared/utils.py:394: UserWarning: Color data out of range: Z < 0 in 45 pixels\n",
      "  return func(*args, **kwargs)\n",
      "/home/konrad/.local/lib/python3.10/site-packages/skimage/_shared/utils.py:394: UserWarning: Color data out of range: Z < 0 in 57 pixels\n",
      "  return func(*args, **kwargs)\n",
      "/home/konrad/.local/lib/python3.10/site-packages/skimage/_shared/utils.py:394: UserWarning: Color data out of range: Z < 0 in 108 pixels\n",
      "  return func(*args, **kwargs)\n",
      "/home/konrad/.local/lib/python3.10/site-packages/skimage/_shared/utils.py:394: UserWarning: Color data out of range: Z < 0 in 44 pixels\n",
      "  return func(*args, **kwargs)\n",
      "/home/konrad/.local/lib/python3.10/site-packages/skimage/_shared/utils.py:394: UserWarning: Color data out of range: Z < 0 in 360 pixels\n",
      "  return func(*args, **kwargs)\n",
      "/home/konrad/.local/lib/python3.10/site-packages/skimage/_shared/utils.py:394: UserWarning: Color data out of range: Z < 0 in 395 pixels\n",
      "  return func(*args, **kwargs)\n"
     ]
    },
    {
     "name": "stdout",
     "output_type": "stream",
     "text": [
      "Validate: Loss 0.0147 (0.0139)\t\n",
      "Finished validation.\n",
      "Starting training epoch 33\n",
      "Epoch: 33, Loss 0.0065 (0.0063)\n",
      "Finished training epoch 33\n"
     ]
    },
    {
     "name": "stderr",
     "output_type": "stream",
     "text": [
      "/home/konrad/.local/lib/python3.10/site-packages/skimage/_shared/utils.py:394: UserWarning: Color data out of range: Z < 0 in 134 pixels\n",
      "  return func(*args, **kwargs)\n",
      "/home/konrad/.local/lib/python3.10/site-packages/skimage/_shared/utils.py:394: UserWarning: Color data out of range: Z < 0 in 164 pixels\n",
      "  return func(*args, **kwargs)\n",
      "/home/konrad/.local/lib/python3.10/site-packages/skimage/_shared/utils.py:394: UserWarning: Color data out of range: Z < 0 in 148 pixels\n",
      "  return func(*args, **kwargs)\n",
      "/home/konrad/.local/lib/python3.10/site-packages/skimage/_shared/utils.py:394: UserWarning: Color data out of range: Z < 0 in 50 pixels\n",
      "  return func(*args, **kwargs)\n",
      "/home/konrad/.local/lib/python3.10/site-packages/skimage/_shared/utils.py:394: UserWarning: Color data out of range: Z < 0 in 299 pixels\n",
      "  return func(*args, **kwargs)\n",
      "/home/konrad/.local/lib/python3.10/site-packages/skimage/_shared/utils.py:394: UserWarning: Color data out of range: Z < 0 in 442 pixels\n",
      "  return func(*args, **kwargs)\n",
      "/home/konrad/.local/lib/python3.10/site-packages/skimage/_shared/utils.py:394: UserWarning: Color data out of range: Z < 0 in 189 pixels\n",
      "  return func(*args, **kwargs)\n"
     ]
    },
    {
     "name": "stdout",
     "output_type": "stream",
     "text": [
      "Validate: Loss 0.0208 (0.0198)\t\n",
      "Finished validation.\n",
      "Starting training epoch 34\n",
      "Epoch: 34, Loss 0.0058 (0.0063)\n",
      "Finished training epoch 34\n"
     ]
    },
    {
     "name": "stderr",
     "output_type": "stream",
     "text": [
      "/home/konrad/.local/lib/python3.10/site-packages/skimage/_shared/utils.py:394: UserWarning: Color data out of range: Z < 0 in 39 pixels\n",
      "  return func(*args, **kwargs)\n",
      "/home/konrad/.local/lib/python3.10/site-packages/skimage/_shared/utils.py:394: UserWarning: Color data out of range: Z < 0 in 63 pixels\n",
      "  return func(*args, **kwargs)\n",
      "/home/konrad/.local/lib/python3.10/site-packages/skimage/_shared/utils.py:394: UserWarning: Color data out of range: Z < 0 in 75 pixels\n",
      "  return func(*args, **kwargs)\n",
      "/home/konrad/.local/lib/python3.10/site-packages/skimage/_shared/utils.py:394: UserWarning: Color data out of range: Z < 0 in 94 pixels\n",
      "  return func(*args, **kwargs)\n",
      "/home/konrad/.local/lib/python3.10/site-packages/skimage/_shared/utils.py:394: UserWarning: Color data out of range: Z < 0 in 190 pixels\n",
      "  return func(*args, **kwargs)\n",
      "/home/konrad/.local/lib/python3.10/site-packages/skimage/_shared/utils.py:394: UserWarning: Color data out of range: Z < 0 in 161 pixels\n",
      "  return func(*args, **kwargs)\n"
     ]
    },
    {
     "name": "stdout",
     "output_type": "stream",
     "text": [
      "Validate: Loss 0.0248 (0.0237)\t\n",
      "Finished validation.\n",
      "Starting training epoch 35\n",
      "Epoch: 35, Loss 0.0060 (0.0063)\n",
      "Finished training epoch 35\n"
     ]
    },
    {
     "name": "stderr",
     "output_type": "stream",
     "text": [
      "/home/konrad/.local/lib/python3.10/site-packages/skimage/_shared/utils.py:394: UserWarning: Color data out of range: Z < 0 in 115 pixels\n",
      "  return func(*args, **kwargs)\n",
      "/home/konrad/.local/lib/python3.10/site-packages/skimage/_shared/utils.py:394: UserWarning: Color data out of range: Z < 0 in 183 pixels\n",
      "  return func(*args, **kwargs)\n",
      "/home/konrad/.local/lib/python3.10/site-packages/skimage/_shared/utils.py:394: UserWarning: Color data out of range: Z < 0 in 186 pixels\n",
      "  return func(*args, **kwargs)\n",
      "/home/konrad/.local/lib/python3.10/site-packages/skimage/_shared/utils.py:394: UserWarning: Color data out of range: Z < 0 in 147 pixels\n",
      "  return func(*args, **kwargs)\n",
      "/home/konrad/.local/lib/python3.10/site-packages/skimage/_shared/utils.py:394: UserWarning: Color data out of range: Z < 0 in 60 pixels\n",
      "  return func(*args, **kwargs)\n",
      "/home/konrad/.local/lib/python3.10/site-packages/skimage/_shared/utils.py:394: UserWarning: Color data out of range: Z < 0 in 410 pixels\n",
      "  return func(*args, **kwargs)\n",
      "/home/konrad/.local/lib/python3.10/site-packages/skimage/_shared/utils.py:394: UserWarning: Color data out of range: Z < 0 in 493 pixels\n",
      "  return func(*args, **kwargs)\n",
      "/home/konrad/.local/lib/python3.10/site-packages/skimage/_shared/utils.py:394: UserWarning: Color data out of range: Z < 0 in 197 pixels\n",
      "  return func(*args, **kwargs)\n"
     ]
    },
    {
     "name": "stdout",
     "output_type": "stream",
     "text": [
      "Validate: Loss 0.0152 (0.0143)\t\n",
      "Finished validation.\n",
      "Starting training epoch 36\n",
      "Epoch: 36, Loss 0.0064 (0.0063)\n",
      "Finished training epoch 36\n"
     ]
    },
    {
     "name": "stderr",
     "output_type": "stream",
     "text": [
      "/home/konrad/.local/lib/python3.10/site-packages/skimage/_shared/utils.py:394: UserWarning: Color data out of range: Z < 0 in 58 pixels\n",
      "  return func(*args, **kwargs)\n",
      "/home/konrad/.local/lib/python3.10/site-packages/skimage/_shared/utils.py:394: UserWarning: Color data out of range: Z < 0 in 281 pixels\n",
      "  return func(*args, **kwargs)\n",
      "/home/konrad/.local/lib/python3.10/site-packages/skimage/_shared/utils.py:394: UserWarning: Color data out of range: Z < 0 in 232 pixels\n",
      "  return func(*args, **kwargs)\n"
     ]
    },
    {
     "name": "stdout",
     "output_type": "stream",
     "text": [
      "Validate: Loss 0.0166 (0.0157)\t\n",
      "Finished validation.\n",
      "Starting training epoch 37\n",
      "Epoch: 37, Loss 0.0062 (0.0062)\n",
      "Finished training epoch 37\n"
     ]
    },
    {
     "name": "stderr",
     "output_type": "stream",
     "text": [
      "/home/konrad/.local/lib/python3.10/site-packages/skimage/_shared/utils.py:394: UserWarning: Color data out of range: Z < 0 in 217 pixels\n",
      "  return func(*args, **kwargs)\n",
      "/home/konrad/.local/lib/python3.10/site-packages/skimage/_shared/utils.py:394: UserWarning: Color data out of range: Z < 0 in 184 pixels\n",
      "  return func(*args, **kwargs)\n",
      "/home/konrad/.local/lib/python3.10/site-packages/skimage/_shared/utils.py:394: UserWarning: Color data out of range: Z < 0 in 86 pixels\n",
      "  return func(*args, **kwargs)\n",
      "/home/konrad/.local/lib/python3.10/site-packages/skimage/_shared/utils.py:394: UserWarning: Color data out of range: Z < 0 in 244 pixels\n",
      "  return func(*args, **kwargs)\n",
      "/home/konrad/.local/lib/python3.10/site-packages/skimage/_shared/utils.py:394: UserWarning: Color data out of range: Z < 0 in 396 pixels\n",
      "  return func(*args, **kwargs)\n",
      "/home/konrad/.local/lib/python3.10/site-packages/skimage/_shared/utils.py:394: UserWarning: Color data out of range: Z < 0 in 209 pixels\n",
      "  return func(*args, **kwargs)\n"
     ]
    },
    {
     "name": "stdout",
     "output_type": "stream",
     "text": [
      "Validate: Loss 0.0250 (0.0239)\t\n",
      "Finished validation.\n",
      "Starting training epoch 38\n",
      "Epoch: 38, Loss 0.0061 (0.0062)\n",
      "Finished training epoch 38\n"
     ]
    },
    {
     "name": "stderr",
     "output_type": "stream",
     "text": [
      "/home/konrad/.local/lib/python3.10/site-packages/skimage/_shared/utils.py:394: UserWarning: Color data out of range: Z < 0 in 49 pixels\n",
      "  return func(*args, **kwargs)\n",
      "/home/konrad/.local/lib/python3.10/site-packages/skimage/_shared/utils.py:394: UserWarning: Color data out of range: Z < 0 in 74 pixels\n",
      "  return func(*args, **kwargs)\n"
     ]
    },
    {
     "name": "stdout",
     "output_type": "stream",
     "text": [
      "Validate: Loss 0.0101 (0.0096)\t\n",
      "Finished validation.\n",
      "Starting training epoch 39\n",
      "Epoch: 39, Loss 0.0065 (0.0061)\n",
      "Finished training epoch 39\n",
      "Validate: Loss 0.0077 (0.0076)\t\n",
      "Finished validation.\n",
      "Starting training epoch 40\n",
      "Epoch: 40, Loss 0.0057 (0.0062)\n",
      "Finished training epoch 40\n"
     ]
    },
    {
     "name": "stderr",
     "output_type": "stream",
     "text": [
      "/home/konrad/.local/lib/python3.10/site-packages/skimage/_shared/utils.py:394: UserWarning: Color data out of range: Z < 0 in 129 pixels\n",
      "  return func(*args, **kwargs)\n",
      "/home/konrad/.local/lib/python3.10/site-packages/skimage/_shared/utils.py:394: UserWarning: Color data out of range: Z < 0 in 52 pixels\n",
      "  return func(*args, **kwargs)\n",
      "/home/konrad/.local/lib/python3.10/site-packages/skimage/_shared/utils.py:394: UserWarning: Color data out of range: Z < 0 in 528 pixels\n",
      "  return func(*args, **kwargs)\n",
      "/home/konrad/.local/lib/python3.10/site-packages/skimage/_shared/utils.py:394: UserWarning: Color data out of range: Z < 0 in 158 pixels\n",
      "  return func(*args, **kwargs)\n"
     ]
    },
    {
     "name": "stdout",
     "output_type": "stream",
     "text": [
      "Validate: Loss 0.0095 (0.0090)\t\n",
      "Finished validation.\n",
      "Starting training epoch 41\n",
      "Epoch: 41, Loss 0.0058 (0.0062)\n",
      "Finished training epoch 41\n"
     ]
    },
    {
     "name": "stderr",
     "output_type": "stream",
     "text": [
      "/home/konrad/.local/lib/python3.10/site-packages/skimage/_shared/utils.py:394: UserWarning: Color data out of range: Z < 0 in 36 pixels\n",
      "  return func(*args, **kwargs)\n"
     ]
    },
    {
     "name": "stdout",
     "output_type": "stream",
     "text": [
      "Validate: Loss 0.0087 (0.0085)\t\n",
      "Finished validation.\n",
      "Starting training epoch 42\n",
      "Epoch: 42, Loss 0.0057 (0.0061)\n",
      "Finished training epoch 42\n"
     ]
    },
    {
     "name": "stderr",
     "output_type": "stream",
     "text": [
      "/home/konrad/.local/lib/python3.10/site-packages/skimage/_shared/utils.py:394: UserWarning: Color data out of range: Z < 0 in 236 pixels\n",
      "  return func(*args, **kwargs)\n",
      "/home/konrad/.local/lib/python3.10/site-packages/skimage/_shared/utils.py:394: UserWarning: Color data out of range: Z < 0 in 82 pixels\n",
      "  return func(*args, **kwargs)\n",
      "/home/konrad/.local/lib/python3.10/site-packages/skimage/_shared/utils.py:394: UserWarning: Color data out of range: Z < 0 in 87 pixels\n",
      "  return func(*args, **kwargs)\n",
      "/home/konrad/.local/lib/python3.10/site-packages/skimage/_shared/utils.py:394: UserWarning: Color data out of range: Z < 0 in 617 pixels\n",
      "  return func(*args, **kwargs)\n",
      "/home/konrad/.local/lib/python3.10/site-packages/skimage/_shared/utils.py:394: UserWarning: Color data out of range: Z < 0 in 376 pixels\n",
      "  return func(*args, **kwargs)\n"
     ]
    },
    {
     "name": "stdout",
     "output_type": "stream",
     "text": [
      "Validate: Loss 0.0096 (0.0091)\t\n",
      "Finished validation.\n",
      "Starting training epoch 43\n",
      "Epoch: 43, Loss 0.0057 (0.0061)\n",
      "Finished training epoch 43\n"
     ]
    },
    {
     "name": "stderr",
     "output_type": "stream",
     "text": [
      "/home/konrad/.local/lib/python3.10/site-packages/skimage/_shared/utils.py:394: UserWarning: Color data out of range: Z < 0 in 70 pixels\n",
      "  return func(*args, **kwargs)\n",
      "/home/konrad/.local/lib/python3.10/site-packages/skimage/_shared/utils.py:394: UserWarning: Color data out of range: Z < 0 in 273 pixels\n",
      "  return func(*args, **kwargs)\n"
     ]
    },
    {
     "name": "stdout",
     "output_type": "stream",
     "text": [
      "Validate: Loss 0.0095 (0.0092)\t\n",
      "Finished validation.\n",
      "Starting training epoch 44\n",
      "Epoch: 44, Loss 0.0067 (0.0061)\n",
      "Finished training epoch 44\n"
     ]
    },
    {
     "name": "stderr",
     "output_type": "stream",
     "text": [
      "/home/konrad/.local/lib/python3.10/site-packages/skimage/_shared/utils.py:394: UserWarning: Color data out of range: Z < 0 in 116 pixels\n",
      "  return func(*args, **kwargs)\n",
      "/home/konrad/.local/lib/python3.10/site-packages/skimage/_shared/utils.py:394: UserWarning: Color data out of range: Z < 0 in 24 pixels\n",
      "  return func(*args, **kwargs)\n",
      "/home/konrad/.local/lib/python3.10/site-packages/skimage/_shared/utils.py:394: UserWarning: Color data out of range: Z < 0 in 48 pixels\n",
      "  return func(*args, **kwargs)\n",
      "/home/konrad/.local/lib/python3.10/site-packages/skimage/_shared/utils.py:394: UserWarning: Color data out of range: Z < 0 in 447 pixels\n",
      "  return func(*args, **kwargs)\n",
      "/home/konrad/.local/lib/python3.10/site-packages/skimage/_shared/utils.py:394: UserWarning: Color data out of range: Z < 0 in 294 pixels\n",
      "  return func(*args, **kwargs)\n"
     ]
    },
    {
     "name": "stdout",
     "output_type": "stream",
     "text": [
      "Validate: Loss 0.0093 (0.0090)\t\n",
      "Finished validation.\n",
      "Starting training epoch 45\n",
      "Epoch: 45, Loss 0.0058 (0.0060)\n",
      "Finished training epoch 45\n"
     ]
    },
    {
     "name": "stderr",
     "output_type": "stream",
     "text": [
      "/home/konrad/.local/lib/python3.10/site-packages/skimage/_shared/utils.py:394: UserWarning: Color data out of range: Z < 0 in 300 pixels\n",
      "  return func(*args, **kwargs)\n",
      "/home/konrad/.local/lib/python3.10/site-packages/skimage/_shared/utils.py:394: UserWarning: Color data out of range: Z < 0 in 390 pixels\n",
      "  return func(*args, **kwargs)\n",
      "/home/konrad/.local/lib/python3.10/site-packages/skimage/_shared/utils.py:394: UserWarning: Color data out of range: Z < 0 in 365 pixels\n",
      "  return func(*args, **kwargs)\n",
      "/home/konrad/.local/lib/python3.10/site-packages/skimage/_shared/utils.py:394: UserWarning: Color data out of range: Z < 0 in 208 pixels\n",
      "  return func(*args, **kwargs)\n",
      "/home/konrad/.local/lib/python3.10/site-packages/skimage/_shared/utils.py:394: UserWarning: Color data out of range: Z < 0 in 110 pixels\n",
      "  return func(*args, **kwargs)\n",
      "/home/konrad/.local/lib/python3.10/site-packages/skimage/_shared/utils.py:394: UserWarning: Color data out of range: Z < 0 in 863 pixels\n",
      "  return func(*args, **kwargs)\n",
      "/home/konrad/.local/lib/python3.10/site-packages/skimage/_shared/utils.py:394: UserWarning: Color data out of range: Z < 0 in 624 pixels\n",
      "  return func(*args, **kwargs)\n",
      "/home/konrad/.local/lib/python3.10/site-packages/skimage/_shared/utils.py:394: UserWarning: Color data out of range: Z < 0 in 368 pixels\n",
      "  return func(*args, **kwargs)\n"
     ]
    },
    {
     "name": "stdout",
     "output_type": "stream",
     "text": [
      "Validate: Loss 0.0114 (0.0108)\t\n",
      "Finished validation.\n",
      "Starting training epoch 46\n",
      "Epoch: 46, Loss 0.0061 (0.0061)\n",
      "Finished training epoch 46\n"
     ]
    },
    {
     "name": "stderr",
     "output_type": "stream",
     "text": [
      "/home/konrad/.local/lib/python3.10/site-packages/skimage/_shared/utils.py:394: UserWarning: Color data out of range: Z < 0 in 218 pixels\n",
      "  return func(*args, **kwargs)\n",
      "/home/konrad/.local/lib/python3.10/site-packages/skimage/_shared/utils.py:394: UserWarning: Color data out of range: Z < 0 in 903 pixels\n",
      "  return func(*args, **kwargs)\n",
      "/home/konrad/.local/lib/python3.10/site-packages/skimage/_shared/utils.py:394: UserWarning: Color data out of range: Z < 0 in 556 pixels\n",
      "  return func(*args, **kwargs)\n",
      "/home/konrad/.local/lib/python3.10/site-packages/skimage/_shared/utils.py:394: UserWarning: Color data out of range: Z < 0 in 356 pixels\n",
      "  return func(*args, **kwargs)\n"
     ]
    },
    {
     "name": "stdout",
     "output_type": "stream",
     "text": [
      "Validate: Loss 0.0107 (0.0101)\t\n",
      "Finished validation.\n",
      "Starting training epoch 47\n",
      "Epoch: 47, Loss 0.0067 (0.0061)\n",
      "Finished training epoch 47\n"
     ]
    },
    {
     "name": "stderr",
     "output_type": "stream",
     "text": [
      "/home/konrad/.local/lib/python3.10/site-packages/skimage/_shared/utils.py:394: UserWarning: Color data out of range: Z < 0 in 92 pixels\n",
      "  return func(*args, **kwargs)\n",
      "/home/konrad/.local/lib/python3.10/site-packages/skimage/_shared/utils.py:394: UserWarning: Color data out of range: Z < 0 in 636 pixels\n",
      "  return func(*args, **kwargs)\n",
      "/home/konrad/.local/lib/python3.10/site-packages/skimage/_shared/utils.py:394: UserWarning: Color data out of range: Z < 0 in 284 pixels\n",
      "  return func(*args, **kwargs)\n",
      "/home/konrad/.local/lib/python3.10/site-packages/skimage/_shared/utils.py:394: UserWarning: Color data out of range: Z < 0 in 142 pixels\n",
      "  return func(*args, **kwargs)\n"
     ]
    },
    {
     "name": "stdout",
     "output_type": "stream",
     "text": [
      "Validate: Loss 0.0091 (0.0087)\t\n",
      "Finished validation.\n",
      "Starting training epoch 48\n",
      "Epoch: 48, Loss 0.0055 (0.0061)\n",
      "Finished training epoch 48\n"
     ]
    },
    {
     "name": "stderr",
     "output_type": "stream",
     "text": [
      "/home/konrad/.local/lib/python3.10/site-packages/skimage/_shared/utils.py:394: UserWarning: Color data out of range: Z < 0 in 114 pixels\n",
      "  return func(*args, **kwargs)\n",
      "/home/konrad/.local/lib/python3.10/site-packages/skimage/_shared/utils.py:394: UserWarning: Color data out of range: Z < 0 in 37 pixels\n",
      "  return func(*args, **kwargs)\n",
      "/home/konrad/.local/lib/python3.10/site-packages/skimage/_shared/utils.py:394: UserWarning: Color data out of range: Z < 0 in 508 pixels\n",
      "  return func(*args, **kwargs)\n",
      "/home/konrad/.local/lib/python3.10/site-packages/skimage/_shared/utils.py:394: UserWarning: Color data out of range: Z < 0 in 221 pixels\n",
      "  return func(*args, **kwargs)\n"
     ]
    },
    {
     "name": "stdout",
     "output_type": "stream",
     "text": [
      "Validate: Loss 0.0084 (0.0082)\t\n",
      "Finished validation.\n",
      "Starting training epoch 49\n",
      "Epoch: 49, Loss 0.0064 (0.0060)\n",
      "Finished training epoch 49\n"
     ]
    },
    {
     "name": "stderr",
     "output_type": "stream",
     "text": [
      "/home/konrad/.local/lib/python3.10/site-packages/skimage/_shared/utils.py:394: UserWarning: Color data out of range: Z < 0 in 276 pixels\n",
      "  return func(*args, **kwargs)\n",
      "/home/konrad/.local/lib/python3.10/site-packages/skimage/_shared/utils.py:394: UserWarning: Color data out of range: Z < 0 in 128 pixels\n",
      "  return func(*args, **kwargs)\n",
      "/home/konrad/.local/lib/python3.10/site-packages/skimage/_shared/utils.py:394: UserWarning: Color data out of range: Z < 0 in 790 pixels\n",
      "  return func(*args, **kwargs)\n"
     ]
    },
    {
     "name": "stdout",
     "output_type": "stream",
     "text": [
      "Validate: Loss 0.0098 (0.0093)\t\n",
      "Finished validation.\n",
      "Starting training epoch 50\n",
      "Epoch: 50, Loss 0.0065 (0.0060)\n",
      "Finished training epoch 50\n"
     ]
    },
    {
     "name": "stderr",
     "output_type": "stream",
     "text": [
      "/home/konrad/.local/lib/python3.10/site-packages/skimage/_shared/utils.py:394: UserWarning: Color data out of range: Z < 0 in 85 pixels\n",
      "  return func(*args, **kwargs)\n",
      "/home/konrad/.local/lib/python3.10/site-packages/skimage/_shared/utils.py:394: UserWarning: Color data out of range: Z < 0 in 543 pixels\n",
      "  return func(*args, **kwargs)\n",
      "/home/konrad/.local/lib/python3.10/site-packages/skimage/_shared/utils.py:394: UserWarning: Color data out of range: Z < 0 in 270 pixels\n",
      "  return func(*args, **kwargs)\n"
     ]
    },
    {
     "name": "stdout",
     "output_type": "stream",
     "text": [
      "Validate: Loss 0.0084 (0.0084)\t\n",
      "Finished validation.\n",
      "Starting training epoch 51\n",
      "Epoch: 51, Loss 0.0062 (0.0060)\n",
      "Finished training epoch 51\n"
     ]
    },
    {
     "name": "stderr",
     "output_type": "stream",
     "text": [
      "/home/konrad/.local/lib/python3.10/site-packages/skimage/_shared/utils.py:394: UserWarning: Color data out of range: Z < 0 in 461 pixels\n",
      "  return func(*args, **kwargs)\n",
      "/home/konrad/.local/lib/python3.10/site-packages/skimage/_shared/utils.py:394: UserWarning: Color data out of range: Z < 0 in 336 pixels\n",
      "  return func(*args, **kwargs)\n",
      "/home/konrad/.local/lib/python3.10/site-packages/skimage/_shared/utils.py:394: UserWarning: Color data out of range: Z < 0 in 144 pixels\n",
      "  return func(*args, **kwargs)\n",
      "/home/konrad/.local/lib/python3.10/site-packages/skimage/_shared/utils.py:394: UserWarning: Color data out of range: Z < 0 in 949 pixels\n",
      "  return func(*args, **kwargs)\n",
      "/home/konrad/.local/lib/python3.10/site-packages/skimage/_shared/utils.py:394: UserWarning: Color data out of range: Z < 0 in 497 pixels\n",
      "  return func(*args, **kwargs)\n",
      "/home/konrad/.local/lib/python3.10/site-packages/skimage/_shared/utils.py:394: UserWarning: Color data out of range: Z < 0 in 84 pixels\n",
      "  return func(*args, **kwargs)\n"
     ]
    },
    {
     "name": "stdout",
     "output_type": "stream",
     "text": [
      "Validate: Loss 0.0096 (0.0092)\t\n",
      "Finished validation.\n",
      "Starting training epoch 52\n",
      "Epoch: 52, Loss 0.0066 (0.0060)\n",
      "Finished training epoch 52\n"
     ]
    },
    {
     "name": "stderr",
     "output_type": "stream",
     "text": [
      "/home/konrad/.local/lib/python3.10/site-packages/skimage/_shared/utils.py:394: UserWarning: Color data out of range: Z < 0 in 638 pixels\n",
      "  return func(*args, **kwargs)\n",
      "/home/konrad/.local/lib/python3.10/site-packages/skimage/_shared/utils.py:394: UserWarning: Color data out of range: Z < 0 in 548 pixels\n",
      "  return func(*args, **kwargs)\n",
      "/home/konrad/.local/lib/python3.10/site-packages/skimage/_shared/utils.py:394: UserWarning: Color data out of range: Z < 0 in 382 pixels\n",
      "  return func(*args, **kwargs)\n",
      "/home/konrad/.local/lib/python3.10/site-packages/skimage/_shared/utils.py:394: UserWarning: Color data out of range: Z < 0 in 215 pixels\n",
      "  return func(*args, **kwargs)\n",
      "/home/konrad/.local/lib/python3.10/site-packages/skimage/_shared/utils.py:394: UserWarning: Color data out of range: Z < 0 in 216 pixels\n",
      "  return func(*args, **kwargs)\n",
      "/home/konrad/.local/lib/python3.10/site-packages/skimage/_shared/utils.py:394: UserWarning: Color data out of range: Z < 0 in 1194 pixels\n",
      "  return func(*args, **kwargs)\n",
      "/home/konrad/.local/lib/python3.10/site-packages/skimage/_shared/utils.py:394: UserWarning: Color data out of range: Z < 0 in 737 pixels\n",
      "  return func(*args, **kwargs)\n",
      "/home/konrad/.local/lib/python3.10/site-packages/skimage/_shared/utils.py:394: UserWarning: Color data out of range: Z < 0 in 107 pixels\n",
      "  return func(*args, **kwargs)\n"
     ]
    },
    {
     "name": "stdout",
     "output_type": "stream",
     "text": [
      "Validate: Loss 0.0119 (0.0113)\t\n",
      "Finished validation.\n",
      "Starting training epoch 53\n",
      "Epoch: 53, Loss 0.0060 (0.0060)\n",
      "Finished training epoch 53\n"
     ]
    },
    {
     "name": "stderr",
     "output_type": "stream",
     "text": [
      "/home/konrad/.local/lib/python3.10/site-packages/skimage/_shared/utils.py:394: UserWarning: Color data out of range: Z < 0 in 248 pixels\n",
      "  return func(*args, **kwargs)\n",
      "/home/konrad/.local/lib/python3.10/site-packages/skimage/_shared/utils.py:394: UserWarning: Color data out of range: Z < 0 in 137 pixels\n",
      "  return func(*args, **kwargs)\n",
      "/home/konrad/.local/lib/python3.10/site-packages/skimage/_shared/utils.py:394: UserWarning: Color data out of range: Z < 0 in 728 pixels\n",
      "  return func(*args, **kwargs)\n",
      "/home/konrad/.local/lib/python3.10/site-packages/skimage/_shared/utils.py:394: UserWarning: Color data out of range: Z < 0 in 451 pixels\n",
      "  return func(*args, **kwargs)\n"
     ]
    },
    {
     "name": "stdout",
     "output_type": "stream",
     "text": [
      "Validate: Loss 0.0101 (0.0096)\t\n",
      "Finished validation.\n",
      "Starting training epoch 54\n",
      "Epoch: 54, Loss 0.0058 (0.0059)\n",
      "Finished training epoch 54\n"
     ]
    },
    {
     "name": "stderr",
     "output_type": "stream",
     "text": [
      "/home/konrad/.local/lib/python3.10/site-packages/skimage/_shared/utils.py:394: UserWarning: Color data out of range: Z < 0 in 157 pixels\n",
      "  return func(*args, **kwargs)\n",
      "/home/konrad/.local/lib/python3.10/site-packages/skimage/_shared/utils.py:394: UserWarning: Color data out of range: Z < 0 in 72 pixels\n",
      "  return func(*args, **kwargs)\n",
      "/home/konrad/.local/lib/python3.10/site-packages/skimage/_shared/utils.py:394: UserWarning: Color data out of range: Z < 0 in 375 pixels\n",
      "  return func(*args, **kwargs)\n",
      "/home/konrad/.local/lib/python3.10/site-packages/skimage/_shared/utils.py:394: UserWarning: Color data out of range: Z < 0 in 366 pixels\n",
      "  return func(*args, **kwargs)\n"
     ]
    },
    {
     "name": "stdout",
     "output_type": "stream",
     "text": [
      "Validate: Loss 0.0104 (0.0100)\t\n",
      "Finished validation.\n",
      "Starting training epoch 55\n",
      "Epoch: 55, Loss 0.0062 (0.0060)\n",
      "Finished training epoch 55\n"
     ]
    },
    {
     "name": "stderr",
     "output_type": "stream",
     "text": [
      "/home/konrad/.local/lib/python3.10/site-packages/skimage/_shared/utils.py:394: UserWarning: Color data out of range: Z < 0 in 21 pixels\n",
      "  return func(*args, **kwargs)\n"
     ]
    },
    {
     "name": "stdout",
     "output_type": "stream",
     "text": [
      "Validate: Loss 0.0078 (0.0076)\t\n",
      "Finished validation.\n",
      "Starting training epoch 56\n",
      "Epoch: 56, Loss 0.0062 (0.0059)\n",
      "Finished training epoch 56\n",
      "Validate: Loss 0.0077 (0.0077)\t\n",
      "Finished validation.\n",
      "Starting training epoch 57\n",
      "Epoch: 57, Loss 0.0068 (0.0059)\n",
      "Finished training epoch 57\n",
      "Validate: Loss 0.0075 (0.0076)\t\n",
      "Finished validation.\n",
      "Starting training epoch 58\n",
      "Epoch: 58, Loss 0.0058 (0.0059)\n",
      "Finished training epoch 58\n",
      "Validate: Loss 0.0082 (0.0083)\t\n",
      "Finished validation.\n",
      "Starting training epoch 59\n",
      "Epoch: 59, Loss 0.0056 (0.0058)\n",
      "Finished training epoch 59\n"
     ]
    },
    {
     "name": "stderr",
     "output_type": "stream",
     "text": [
      "/home/konrad/.local/lib/python3.10/site-packages/skimage/_shared/utils.py:394: UserWarning: Color data out of range: Z < 0 in 78 pixels\n",
      "  return func(*args, **kwargs)\n",
      "/home/konrad/.local/lib/python3.10/site-packages/skimage/_shared/utils.py:394: UserWarning: Color data out of range: Z < 0 in 15 pixels\n",
      "  return func(*args, **kwargs)\n",
      "/home/konrad/.local/lib/python3.10/site-packages/skimage/_shared/utils.py:394: UserWarning: Color data out of range: Z < 0 in 192 pixels\n",
      "  return func(*args, **kwargs)\n",
      "/home/konrad/.local/lib/python3.10/site-packages/skimage/_shared/utils.py:394: UserWarning: Color data out of range: Z < 0 in 121 pixels\n",
      "  return func(*args, **kwargs)\n"
     ]
    },
    {
     "name": "stdout",
     "output_type": "stream",
     "text": [
      "Validate: Loss 0.0094 (0.0091)\t\n",
      "Finished validation.\n",
      "Starting training epoch 60\n",
      "Epoch: 60, Loss 0.0062 (0.0058)\n",
      "Finished training epoch 60\n",
      "Validate: Loss 0.0077 (0.0076)\t\n",
      "Finished validation.\n",
      "Starting training epoch 61\n",
      "Epoch: 61, Loss 0.0053 (0.0058)\n",
      "Finished training epoch 61\n",
      "Validate: Loss 0.0075 (0.0079)\t\n",
      "Finished validation.\n",
      "Starting training epoch 62\n",
      "Epoch: 62, Loss 0.0053 (0.0058)\n",
      "Finished training epoch 62\n",
      "Validate: Loss 0.0080 (0.0081)\t\n",
      "Finished validation.\n",
      "Starting training epoch 63\n",
      "Epoch: 63, Loss 0.0060 (0.0058)\n",
      "Finished training epoch 63\n",
      "Validate: Loss 0.0073 (0.0076)\t\n",
      "Finished validation.\n",
      "Starting training epoch 64\n",
      "Epoch: 64, Loss 0.0055 (0.0058)\n",
      "Finished training epoch 64\n",
      "Validate: Loss 0.0081 (0.0083)\t\n",
      "Finished validation.\n",
      "Starting training epoch 65\n",
      "Epoch: 65, Loss 0.0063 (0.0057)\n",
      "Finished training epoch 65\n"
     ]
    },
    {
     "name": "stderr",
     "output_type": "stream",
     "text": [
      "/home/konrad/.local/lib/python3.10/site-packages/skimage/_shared/utils.py:394: UserWarning: Color data out of range: Z < 0 in 79 pixels\n",
      "  return func(*args, **kwargs)\n",
      "/home/konrad/.local/lib/python3.10/site-packages/skimage/_shared/utils.py:394: UserWarning: Color data out of range: Z < 0 in 338 pixels\n",
      "  return func(*args, **kwargs)\n"
     ]
    },
    {
     "name": "stdout",
     "output_type": "stream",
     "text": [
      "Validate: Loss 0.0085 (0.0087)\t\n",
      "Finished validation.\n",
      "Starting training epoch 66\n",
      "Epoch: 66, Loss 0.0049 (0.0057)\n",
      "Finished training epoch 66\n",
      "Validate: Loss 0.0080 (0.0080)\t\n",
      "Finished validation.\n",
      "Starting training epoch 67\n",
      "Epoch: 67, Loss 0.0052 (0.0058)\n",
      "Finished training epoch 67\n"
     ]
    },
    {
     "name": "stderr",
     "output_type": "stream",
     "text": [
      "/home/konrad/.local/lib/python3.10/site-packages/skimage/_shared/utils.py:394: UserWarning: Color data out of range: Z < 0 in 19 pixels\n",
      "  return func(*args, **kwargs)\n",
      "/home/konrad/.local/lib/python3.10/site-packages/skimage/_shared/utils.py:394: UserWarning: Color data out of range: Z < 0 in 38 pixels\n",
      "  return func(*args, **kwargs)\n",
      "/home/konrad/.local/lib/python3.10/site-packages/skimage/_shared/utils.py:394: UserWarning: Color data out of range: Z < 0 in 251 pixels\n",
      "  return func(*args, **kwargs)\n"
     ]
    },
    {
     "name": "stdout",
     "output_type": "stream",
     "text": [
      "Validate: Loss 0.0093 (0.0090)\t\n",
      "Finished validation.\n",
      "Starting training epoch 68\n",
      "Epoch: 68, Loss 0.0055 (0.0057)\n",
      "Finished training epoch 68\n"
     ]
    },
    {
     "name": "stderr",
     "output_type": "stream",
     "text": [
      "/home/konrad/.local/lib/python3.10/site-packages/skimage/_shared/utils.py:394: UserWarning: Color data out of range: Z < 0 in 136 pixels\n",
      "  return func(*args, **kwargs)\n",
      "/home/konrad/.local/lib/python3.10/site-packages/skimage/_shared/utils.py:394: UserWarning: Color data out of range: Z < 0 in 106 pixels\n",
      "  return func(*args, **kwargs)\n",
      "/home/konrad/.local/lib/python3.10/site-packages/skimage/_shared/utils.py:394: UserWarning: Color data out of range: Z < 0 in 620 pixels\n",
      "  return func(*args, **kwargs)\n",
      "/home/konrad/.local/lib/python3.10/site-packages/skimage/_shared/utils.py:394: UserWarning: Color data out of range: Z < 0 in 308 pixels\n",
      "  return func(*args, **kwargs)\n",
      "/home/konrad/.local/lib/python3.10/site-packages/skimage/_shared/utils.py:394: UserWarning: Color data out of range: Z < 0 in 130 pixels\n",
      "  return func(*args, **kwargs)\n"
     ]
    },
    {
     "name": "stdout",
     "output_type": "stream",
     "text": [
      "Validate: Loss 0.0089 (0.0086)\t\n",
      "Finished validation.\n",
      "Starting training epoch 69\n",
      "Epoch: 69, Loss 0.0059 (0.0057)\n",
      "Finished training epoch 69\n"
     ]
    },
    {
     "name": "stderr",
     "output_type": "stream",
     "text": [
      "/home/konrad/.local/lib/python3.10/site-packages/skimage/_shared/utils.py:394: UserWarning: Color data out of range: Z < 0 in 275 pixels\n",
      "  return func(*args, **kwargs)\n",
      "/home/konrad/.local/lib/python3.10/site-packages/skimage/_shared/utils.py:394: UserWarning: Color data out of range: Z < 0 in 168 pixels\n",
      "  return func(*args, **kwargs)\n",
      "/home/konrad/.local/lib/python3.10/site-packages/skimage/_shared/utils.py:394: UserWarning: Color data out of range: Z < 0 in 104 pixels\n",
      "  return func(*args, **kwargs)\n",
      "/home/konrad/.local/lib/python3.10/site-packages/skimage/_shared/utils.py:394: UserWarning: Color data out of range: Z < 0 in 16 pixels\n",
      "  return func(*args, **kwargs)\n"
     ]
    },
    {
     "name": "stdout",
     "output_type": "stream",
     "text": [
      "Validate: Loss 0.0085 (0.0084)\t\n",
      "Finished validation.\n",
      "Starting training epoch 70\n",
      "Epoch: 70, Loss 0.0059 (0.0057)\n",
      "Finished training epoch 70\n"
     ]
    },
    {
     "name": "stderr",
     "output_type": "stream",
     "text": [
      "/home/konrad/.local/lib/python3.10/site-packages/skimage/_shared/utils.py:394: UserWarning: Color data out of range: Z < 0 in 54 pixels\n",
      "  return func(*args, **kwargs)\n"
     ]
    },
    {
     "name": "stdout",
     "output_type": "stream",
     "text": [
      "Validate: Loss 0.0090 (0.0087)\t\n",
      "Finished validation.\n",
      "Starting training epoch 71\n",
      "Epoch: 71, Loss 0.0058 (0.0057)\n",
      "Finished training epoch 71\n"
     ]
    },
    {
     "name": "stderr",
     "output_type": "stream",
     "text": [
      "/home/konrad/.local/lib/python3.10/site-packages/skimage/_shared/utils.py:394: UserWarning: Color data out of range: Z < 0 in 551 pixels\n",
      "  return func(*args, **kwargs)\n",
      "/home/konrad/.local/lib/python3.10/site-packages/skimage/_shared/utils.py:394: UserWarning: Color data out of range: Z < 0 in 693 pixels\n",
      "  return func(*args, **kwargs)\n",
      "/home/konrad/.local/lib/python3.10/site-packages/skimage/_shared/utils.py:394: UserWarning: Color data out of range: Z < 0 in 560 pixels\n",
      "  return func(*args, **kwargs)\n",
      "/home/konrad/.local/lib/python3.10/site-packages/skimage/_shared/utils.py:394: UserWarning: Color data out of range: Z < 0 in 46 pixels\n",
      "  return func(*args, **kwargs)\n",
      "/home/konrad/.local/lib/python3.10/site-packages/skimage/_shared/utils.py:394: UserWarning: Color data out of range: Z < 0 in 374 pixels\n",
      "  return func(*args, **kwargs)\n",
      "/home/konrad/.local/lib/python3.10/site-packages/skimage/_shared/utils.py:394: UserWarning: Color data out of range: Z < 0 in 341 pixels\n",
      "  return func(*args, **kwargs)\n",
      "/home/konrad/.local/lib/python3.10/site-packages/skimage/_shared/utils.py:394: UserWarning: Color data out of range: Z < 0 in 1006 pixels\n",
      "  return func(*args, **kwargs)\n",
      "/home/konrad/.local/lib/python3.10/site-packages/skimage/_shared/utils.py:394: UserWarning: Color data out of range: Z < 0 in 788 pixels\n",
      "  return func(*args, **kwargs)\n",
      "/home/konrad/.local/lib/python3.10/site-packages/skimage/_shared/utils.py:394: UserWarning: Color data out of range: Z < 0 in 464 pixels\n",
      "  return func(*args, **kwargs)\n"
     ]
    },
    {
     "name": "stdout",
     "output_type": "stream",
     "text": [
      "Validate: Loss 0.0129 (0.0123)\t\n",
      "Finished validation.\n",
      "Starting training epoch 72\n",
      "Epoch: 72, Loss 0.0059 (0.0056)\n",
      "Finished training epoch 72\n"
     ]
    },
    {
     "name": "stderr",
     "output_type": "stream",
     "text": [
      "/home/konrad/.local/lib/python3.10/site-packages/skimage/_shared/utils.py:394: UserWarning: Color data out of range: Z < 0 in 222 pixels\n",
      "  return func(*args, **kwargs)\n"
     ]
    },
    {
     "name": "stdout",
     "output_type": "stream",
     "text": [
      "Validate: Loss 0.0104 (0.0103)\t\n",
      "Finished validation.\n",
      "Starting training epoch 73\n",
      "Epoch: 73, Loss 0.0061 (0.0056)\n",
      "Finished training epoch 73\n"
     ]
    },
    {
     "name": "stderr",
     "output_type": "stream",
     "text": [
      "/home/konrad/.local/lib/python3.10/site-packages/skimage/_shared/utils.py:394: UserWarning: Color data out of range: Z < 0 in 91 pixels\n",
      "  return func(*args, **kwargs)\n"
     ]
    },
    {
     "name": "stdout",
     "output_type": "stream",
     "text": [
      "Validate: Loss 0.0085 (0.0085)\t\n",
      "Finished validation.\n",
      "Starting training epoch 74\n",
      "Epoch: 74, Loss 0.0061 (0.0056)\n",
      "Finished training epoch 74\n"
     ]
    },
    {
     "name": "stderr",
     "output_type": "stream",
     "text": [
      "/home/konrad/.local/lib/python3.10/site-packages/skimage/_shared/utils.py:394: UserWarning: Color data out of range: Z < 0 in 14 pixels\n",
      "  return func(*args, **kwargs)\n",
      "/home/konrad/.local/lib/python3.10/site-packages/skimage/_shared/utils.py:394: UserWarning: Color data out of range: Z < 0 in 89 pixels\n",
      "  return func(*args, **kwargs)\n"
     ]
    },
    {
     "name": "stdout",
     "output_type": "stream",
     "text": [
      "Validate: Loss 0.0078 (0.0077)\t\n",
      "Finished validation.\n",
      "Starting training epoch 75\n",
      "Epoch: 75, Loss 0.0050 (0.0056)\n",
      "Finished training epoch 75\n"
     ]
    },
    {
     "name": "stderr",
     "output_type": "stream",
     "text": [
      "/home/konrad/.local/lib/python3.10/site-packages/skimage/_shared/utils.py:394: UserWarning: Color data out of range: Z < 0 in 1123 pixels\n",
      "  return func(*args, **kwargs)\n",
      "/home/konrad/.local/lib/python3.10/site-packages/skimage/_shared/utils.py:394: UserWarning: Color data out of range: Z < 0 in 1121 pixels\n",
      "  return func(*args, **kwargs)\n",
      "/home/konrad/.local/lib/python3.10/site-packages/skimage/_shared/utils.py:394: UserWarning: Color data out of range: Z < 0 in 1005 pixels\n",
      "  return func(*args, **kwargs)\n",
      "/home/konrad/.local/lib/python3.10/site-packages/skimage/_shared/utils.py:394: UserWarning: Color data out of range: Z < 0 in 630 pixels\n",
      "  return func(*args, **kwargs)\n",
      "/home/konrad/.local/lib/python3.10/site-packages/skimage/_shared/utils.py:394: UserWarning: Color data out of range: Z < 0 in 951 pixels\n",
      "  return func(*args, **kwargs)\n",
      "/home/konrad/.local/lib/python3.10/site-packages/skimage/_shared/utils.py:394: UserWarning: Color data out of range: Z < 0 in 1250 pixels\n",
      "  return func(*args, **kwargs)\n",
      "/home/konrad/.local/lib/python3.10/site-packages/skimage/_shared/utils.py:394: UserWarning: Color data out of range: Z < 0 in 836 pixels\n",
      "  return func(*args, **kwargs)\n",
      "/home/konrad/.local/lib/python3.10/site-packages/skimage/_shared/utils.py:394: UserWarning: Color data out of range: Z < 0 in 840 pixels\n",
      "  return func(*args, **kwargs)\n"
     ]
    },
    {
     "name": "stdout",
     "output_type": "stream",
     "text": [
      "Validate: Loss 0.0149 (0.0142)\t\n",
      "Finished validation.\n",
      "Starting training epoch 76\n",
      "Epoch: 76, Loss 0.0054 (0.0056)\n",
      "Finished training epoch 76\n"
     ]
    },
    {
     "name": "stderr",
     "output_type": "stream",
     "text": [
      "/home/konrad/.local/lib/python3.10/site-packages/skimage/_shared/utils.py:394: UserWarning: Color data out of range: Z < 0 in 175 pixels\n",
      "  return func(*args, **kwargs)\n",
      "/home/konrad/.local/lib/python3.10/site-packages/skimage/_shared/utils.py:394: UserWarning: Color data out of range: Z < 0 in 41 pixels\n",
      "  return func(*args, **kwargs)\n",
      "/home/konrad/.local/lib/python3.10/site-packages/skimage/_shared/utils.py:394: UserWarning: Color data out of range: Z < 0 in 319 pixels\n",
      "  return func(*args, **kwargs)\n",
      "/home/konrad/.local/lib/python3.10/site-packages/skimage/_shared/utils.py:394: UserWarning: Color data out of range: Z < 0 in 257 pixels\n",
      "  return func(*args, **kwargs)\n"
     ]
    },
    {
     "name": "stdout",
     "output_type": "stream",
     "text": [
      "Validate: Loss 0.0097 (0.0095)\t\n",
      "Finished validation.\n",
      "Starting training epoch 77\n",
      "Epoch: 77, Loss 0.0058 (0.0055)\n",
      "Finished training epoch 77\n",
      "Validate: Loss 0.0076 (0.0079)\t\n",
      "Finished validation.\n",
      "Starting training epoch 78\n",
      "Epoch: 78, Loss 0.0053 (0.0055)\n",
      "Finished training epoch 78\n"
     ]
    },
    {
     "name": "stderr",
     "output_type": "stream",
     "text": [
      "/home/konrad/.local/lib/python3.10/site-packages/skimage/_shared/utils.py:394: UserWarning: Color data out of range: Z < 0 in 207 pixels\n",
      "  return func(*args, **kwargs)\n",
      "/home/konrad/.local/lib/python3.10/site-packages/skimage/_shared/utils.py:394: UserWarning: Color data out of range: Z < 0 in 123 pixels\n",
      "  return func(*args, **kwargs)\n"
     ]
    },
    {
     "name": "stdout",
     "output_type": "stream",
     "text": [
      "Validate: Loss 0.0083 (0.0082)\t\n",
      "Finished validation.\n",
      "Starting training epoch 79\n",
      "Epoch: 79, Loss 0.0057 (0.0056)\n",
      "Finished training epoch 79\n"
     ]
    },
    {
     "name": "stderr",
     "output_type": "stream",
     "text": [
      "/home/konrad/.local/lib/python3.10/site-packages/skimage/_shared/utils.py:394: UserWarning: Color data out of range: Z < 0 in 118 pixels\n",
      "  return func(*args, **kwargs)\n",
      "/home/konrad/.local/lib/python3.10/site-packages/skimage/_shared/utils.py:394: UserWarning: Color data out of range: Z < 0 in 522 pixels\n",
      "  return func(*args, **kwargs)\n",
      "/home/konrad/.local/lib/python3.10/site-packages/skimage/_shared/utils.py:394: UserWarning: Color data out of range: Z < 0 in 62 pixels\n",
      "  return func(*args, **kwargs)\n"
     ]
    },
    {
     "name": "stdout",
     "output_type": "stream",
     "text": [
      "Validate: Loss 0.0086 (0.0087)\t\n",
      "Finished validation.\n",
      "Starting training epoch 80\n",
      "Epoch: 80, Loss 0.0058 (0.0055)\n",
      "Finished training epoch 80\n"
     ]
    },
    {
     "name": "stderr",
     "output_type": "stream",
     "text": [
      "/home/konrad/.local/lib/python3.10/site-packages/skimage/_shared/utils.py:394: UserWarning: Color data out of range: Z < 0 in 122 pixels\n",
      "  return func(*args, **kwargs)\n"
     ]
    },
    {
     "name": "stdout",
     "output_type": "stream",
     "text": [
      "Validate: Loss 0.0077 (0.0078)\t\n",
      "Finished validation.\n",
      "Starting training epoch 81\n",
      "Epoch: 81, Loss 0.0055 (0.0056)\n",
      "Finished training epoch 81\n",
      "Validate: Loss 0.0100 (0.0109)\t\n",
      "Finished validation.\n",
      "Starting training epoch 82\n",
      "Epoch: 82, Loss 0.0046 (0.0055)\n",
      "Finished training epoch 82\n",
      "Validate: Loss 0.0088 (0.0092)\t\n",
      "Finished validation.\n",
      "Starting training epoch 83\n",
      "Epoch: 83, Loss 0.0047 (0.0055)\n",
      "Finished training epoch 83\n"
     ]
    },
    {
     "name": "stderr",
     "output_type": "stream",
     "text": [
      "/home/konrad/.local/lib/python3.10/site-packages/skimage/_shared/utils.py:394: UserWarning: Color data out of range: Z < 0 in 362 pixels\n",
      "  return func(*args, **kwargs)\n",
      "/home/konrad/.local/lib/python3.10/site-packages/skimage/_shared/utils.py:394: UserWarning: Color data out of range: Z < 0 in 202 pixels\n",
      "  return func(*args, **kwargs)\n"
     ]
    },
    {
     "name": "stdout",
     "output_type": "stream",
     "text": [
      "Validate: Loss 0.0084 (0.0083)\t\n",
      "Finished validation.\n",
      "Starting training epoch 84\n",
      "Epoch: 84, Loss 0.0058 (0.0054)\n",
      "Finished training epoch 84\n"
     ]
    },
    {
     "name": "stderr",
     "output_type": "stream",
     "text": [
      "/home/konrad/.local/lib/python3.10/site-packages/skimage/_shared/utils.py:394: UserWarning: Color data out of range: Z < 0 in 521 pixels\n",
      "  return func(*args, **kwargs)\n",
      "/home/konrad/.local/lib/python3.10/site-packages/skimage/_shared/utils.py:394: UserWarning: Color data out of range: Z < 0 in 352 pixels\n",
      "  return func(*args, **kwargs)\n"
     ]
    },
    {
     "name": "stdout",
     "output_type": "stream",
     "text": [
      "Validate: Loss 0.0094 (0.0090)\t\n",
      "Finished validation.\n",
      "Starting training epoch 85\n",
      "Epoch: 85, Loss 0.0060 (0.0054)\n",
      "Finished training epoch 85\n",
      "Validate: Loss 0.0077 (0.0078)\t\n",
      "Finished validation.\n",
      "Starting training epoch 86\n",
      "Epoch: 86, Loss 0.0053 (0.0054)\n",
      "Finished training epoch 86\n"
     ]
    },
    {
     "name": "stderr",
     "output_type": "stream",
     "text": [
      "/home/konrad/.local/lib/python3.10/site-packages/skimage/_shared/utils.py:394: UserWarning: Color data out of range: Z < 0 in 68 pixels\n",
      "  return func(*args, **kwargs)\n"
     ]
    },
    {
     "name": "stdout",
     "output_type": "stream",
     "text": [
      "Validate: Loss 0.0076 (0.0076)\t\n",
      "Finished validation.\n",
      "Starting training epoch 87\n",
      "Epoch: 87, Loss 0.0051 (0.0055)\n",
      "Finished training epoch 87\n"
     ]
    },
    {
     "name": "stderr",
     "output_type": "stream",
     "text": [
      "/home/konrad/.local/lib/python3.10/site-packages/skimage/_shared/utils.py:394: UserWarning: Color data out of range: Z < 0 in 481 pixels\n",
      "  return func(*args, **kwargs)\n"
     ]
    },
    {
     "name": "stdout",
     "output_type": "stream",
     "text": [
      "Validate: Loss 0.0089 (0.0086)\t\n",
      "Finished validation.\n",
      "Starting training epoch 88\n",
      "Epoch: 88, Loss 0.0057 (0.0054)\n",
      "Finished training epoch 88\n"
     ]
    },
    {
     "name": "stderr",
     "output_type": "stream",
     "text": [
      "/home/konrad/.local/lib/python3.10/site-packages/skimage/_shared/utils.py:394: UserWarning: Color data out of range: Z < 0 in 432 pixels\n",
      "  return func(*args, **kwargs)\n",
      "/home/konrad/.local/lib/python3.10/site-packages/skimage/_shared/utils.py:394: UserWarning: Color data out of range: Z < 0 in 874 pixels\n",
      "  return func(*args, **kwargs)\n",
      "/home/konrad/.local/lib/python3.10/site-packages/skimage/_shared/utils.py:394: UserWarning: Color data out of range: Z < 0 in 897 pixels\n",
      "  return func(*args, **kwargs)\n",
      "/home/konrad/.local/lib/python3.10/site-packages/skimage/_shared/utils.py:394: UserWarning: Color data out of range: Z < 0 in 801 pixels\n",
      "  return func(*args, **kwargs)\n",
      "/home/konrad/.local/lib/python3.10/site-packages/skimage/_shared/utils.py:394: UserWarning: Color data out of range: Z < 0 in 813 pixels\n",
      "  return func(*args, **kwargs)\n",
      "/home/konrad/.local/lib/python3.10/site-packages/skimage/_shared/utils.py:394: UserWarning: Color data out of range: Z < 0 in 565 pixels\n",
      "  return func(*args, **kwargs)\n",
      "/home/konrad/.local/lib/python3.10/site-packages/skimage/_shared/utils.py:394: UserWarning: Color data out of range: Z < 0 in 628 pixels\n",
      "  return func(*args, **kwargs)\n",
      "/home/konrad/.local/lib/python3.10/site-packages/skimage/_shared/utils.py:394: UserWarning: Color data out of range: Z < 0 in 445 pixels\n",
      "  return func(*args, **kwargs)\n"
     ]
    },
    {
     "name": "stdout",
     "output_type": "stream",
     "text": [
      "Validate: Loss 0.0131 (0.0125)\t\n",
      "Finished validation.\n",
      "Starting training epoch 89\n",
      "Epoch: 89, Loss 0.0052 (0.0053)\n",
      "Finished training epoch 89\n",
      "Validate: Loss 0.0109 (0.0113)\t\n",
      "Finished validation.\n",
      "Starting training epoch 90\n",
      "Epoch: 90, Loss 0.0054 (0.0054)\n",
      "Finished training epoch 90\n",
      "Validate: Loss 0.0302 (0.0314)\t\n",
      "Finished validation.\n",
      "Starting training epoch 91\n",
      "Epoch: 91, Loss 0.0052 (0.0053)\n",
      "Finished training epoch 91\n",
      "Validate: Loss 0.0076 (0.0076)\t\n",
      "Finished validation.\n",
      "Starting training epoch 92\n",
      "Epoch: 92, Loss 0.0051 (0.0053)\n",
      "Finished training epoch 92\n"
     ]
    },
    {
     "name": "stderr",
     "output_type": "stream",
     "text": [
      "/home/konrad/.local/lib/python3.10/site-packages/skimage/_shared/utils.py:394: UserWarning: Color data out of range: Z < 0 in 616 pixels\n",
      "  return func(*args, **kwargs)\n",
      "/home/konrad/.local/lib/python3.10/site-packages/skimage/_shared/utils.py:394: UserWarning: Color data out of range: Z < 0 in 388 pixels\n",
      "  return func(*args, **kwargs)\n",
      "/home/konrad/.local/lib/python3.10/site-packages/skimage/_shared/utils.py:394: UserWarning: Color data out of range: Z < 0 in 355 pixels\n",
      "  return func(*args, **kwargs)\n",
      "/home/konrad/.local/lib/python3.10/site-packages/skimage/_shared/utils.py:394: UserWarning: Color data out of range: Z < 0 in 176 pixels\n",
      "  return func(*args, **kwargs)\n",
      "/home/konrad/.local/lib/python3.10/site-packages/skimage/_shared/utils.py:394: UserWarning: Color data out of range: Z < 0 in 680 pixels\n",
      "  return func(*args, **kwargs)\n",
      "/home/konrad/.local/lib/python3.10/site-packages/skimage/_shared/utils.py:394: UserWarning: Color data out of range: Z < 0 in 550 pixels\n",
      "  return func(*args, **kwargs)\n"
     ]
    },
    {
     "name": "stdout",
     "output_type": "stream",
     "text": [
      "Validate: Loss 0.0119 (0.0113)\t\n",
      "Finished validation.\n",
      "Starting training epoch 93\n",
      "Epoch: 93, Loss 0.0053 (0.0053)\n",
      "Finished training epoch 93\n",
      "Validate: Loss 0.0285 (0.0298)\t\n",
      "Finished validation.\n",
      "Starting training epoch 94\n",
      "Epoch: 94, Loss 0.0052 (0.0053)\n",
      "Finished training epoch 94\n",
      "Validate: Loss 0.0074 (0.0075)\t\n",
      "Finished validation.\n",
      "Starting training epoch 95\n",
      "Epoch: 95, Loss 0.0055 (0.0053)\n",
      "Finished training epoch 95\n",
      "Validate: Loss 0.0077 (0.0081)\t\n",
      "Finished validation.\n",
      "Starting training epoch 96\n",
      "Epoch: 96, Loss 0.0051 (0.0052)\n",
      "Finished training epoch 96\n",
      "Validate: Loss 0.0099 (0.0098)\t\n",
      "Finished validation.\n",
      "Starting training epoch 97\n",
      "Epoch: 97, Loss 0.0054 (0.0052)\n",
      "Finished training epoch 97\n"
     ]
    },
    {
     "name": "stderr",
     "output_type": "stream",
     "text": [
      "/home/konrad/.local/lib/python3.10/site-packages/skimage/_shared/utils.py:394: UserWarning: Color data out of range: Z < 0 in 81 pixels\n",
      "  return func(*args, **kwargs)\n"
     ]
    },
    {
     "name": "stdout",
     "output_type": "stream",
     "text": [
      "Validate: Loss 0.0082 (0.0079)\t\n",
      "Finished validation.\n",
      "Starting training epoch 98\n",
      "Epoch: 98, Loss 0.0052 (0.0052)\n",
      "Finished training epoch 98\n",
      "Validate: Loss 0.0086 (0.0089)\t\n",
      "Finished validation.\n",
      "Starting training epoch 99\n",
      "Epoch: 99, Loss 0.0050 (0.0052)\n",
      "Finished training epoch 99\n"
     ]
    },
    {
     "name": "stderr",
     "output_type": "stream",
     "text": [
      "/home/konrad/.local/lib/python3.10/site-packages/skimage/_shared/utils.py:394: UserWarning: Color data out of range: Z < 0 in 357 pixels\n",
      "  return func(*args, **kwargs)\n"
     ]
    },
    {
     "name": "stdout",
     "output_type": "stream",
     "text": [
      "Validate: Loss 0.0094 (0.0092)\t\n",
      "Finished validation.\n",
      "Starting training epoch 100\n",
      "Epoch: 100, Loss 0.0047 (0.0052)\n",
      "Finished training epoch 100\n",
      "Validate: Loss 0.0097 (0.0103)\t\n",
      "Finished validation.\n",
      "Starting training epoch 101\n",
      "Epoch: 101, Loss 0.0055 (0.0052)\n",
      "Finished training epoch 101\n",
      "Validate: Loss 0.0107 (0.0108)\t\n",
      "Finished validation.\n",
      "Starting training epoch 102\n",
      "Epoch: 102, Loss 0.0049 (0.0052)\n",
      "Finished training epoch 102\n",
      "Validate: Loss 0.0081 (0.0082)\t\n",
      "Finished validation.\n",
      "Starting training epoch 103\n",
      "Epoch: 103, Loss 0.0045 (0.0052)\n",
      "Finished training epoch 103\n",
      "Validate: Loss 0.0081 (0.0085)\t\n",
      "Finished validation.\n",
      "Starting training epoch 104\n",
      "Epoch: 104, Loss 0.0056 (0.0051)\n",
      "Finished training epoch 104\n",
      "Validate: Loss 0.0095 (0.0095)\t\n",
      "Finished validation.\n",
      "Starting training epoch 105\n",
      "Epoch: 105, Loss 0.0051 (0.0051)\n",
      "Finished training epoch 105\n"
     ]
    },
    {
     "name": "stderr",
     "output_type": "stream",
     "text": [
      "/home/konrad/.local/lib/python3.10/site-packages/skimage/_shared/utils.py:394: UserWarning: Color data out of range: Z < 0 in 120 pixels\n",
      "  return func(*args, **kwargs)\n"
     ]
    },
    {
     "name": "stdout",
     "output_type": "stream",
     "text": [
      "Validate: Loss 0.0091 (0.0093)\t\n",
      "Finished validation.\n",
      "Starting training epoch 106\n",
      "Epoch: 106, Loss 0.0059 (0.0051)\n",
      "Finished training epoch 106\n",
      "Validate: Loss 0.0164 (0.0171)\t\n",
      "Finished validation.\n",
      "Starting training epoch 107\n",
      "Epoch: 107, Loss 0.0048 (0.0051)\n",
      "Finished training epoch 107\n",
      "Validate: Loss 0.0159 (0.0167)\t\n",
      "Finished validation.\n",
      "Starting training epoch 108\n",
      "Epoch: 108, Loss 0.0051 (0.0051)\n",
      "Finished training epoch 108\n",
      "Validate: Loss 0.0091 (0.0095)\t\n",
      "Finished validation.\n",
      "Starting training epoch 109\n",
      "Epoch: 109, Loss 0.0056 (0.0050)\n",
      "Finished training epoch 109\n",
      "Validate: Loss 0.0086 (0.0087)\t\n",
      "Finished validation.\n",
      "Starting training epoch 110\n",
      "Epoch: 110, Loss 0.0051 (0.0050)\n",
      "Finished training epoch 110\n"
     ]
    },
    {
     "name": "stderr",
     "output_type": "stream",
     "text": [
      "/home/konrad/.local/lib/python3.10/site-packages/skimage/_shared/utils.py:394: UserWarning: Color data out of range: Z < 0 in 291 pixels\n",
      "  return func(*args, **kwargs)\n",
      "/home/konrad/.local/lib/python3.10/site-packages/skimage/_shared/utils.py:394: UserWarning: Color data out of range: Z < 0 in 169 pixels\n",
      "  return func(*args, **kwargs)\n",
      "/home/konrad/.local/lib/python3.10/site-packages/skimage/_shared/utils.py:394: UserWarning: Color data out of range: Z < 0 in 349 pixels\n",
      "  return func(*args, **kwargs)\n"
     ]
    },
    {
     "name": "stdout",
     "output_type": "stream",
     "text": [
      "Validate: Loss 0.0099 (0.0097)\t\n",
      "Finished validation.\n",
      "Starting training epoch 111\n",
      "Epoch: 111, Loss 0.0059 (0.0050)\n",
      "Finished training epoch 111\n"
     ]
    },
    {
     "name": "stderr",
     "output_type": "stream",
     "text": [
      "/home/konrad/.local/lib/python3.10/site-packages/skimage/_shared/utils.py:394: UserWarning: Color data out of range: Z < 0 in 517 pixels\n",
      "  return func(*args, **kwargs)\n",
      "/home/konrad/.local/lib/python3.10/site-packages/skimage/_shared/utils.py:394: UserWarning: Color data out of range: Z < 0 in 303 pixels\n",
      "  return func(*args, **kwargs)\n",
      "/home/konrad/.local/lib/python3.10/site-packages/skimage/_shared/utils.py:394: UserWarning: Color data out of range: Z < 0 in 540 pixels\n",
      "  return func(*args, **kwargs)\n",
      "/home/konrad/.local/lib/python3.10/site-packages/skimage/_shared/utils.py:394: UserWarning: Color data out of range: Z < 0 in 457 pixels\n",
      "  return func(*args, **kwargs)\n",
      "/home/konrad/.local/lib/python3.10/site-packages/skimage/_shared/utils.py:394: UserWarning: Color data out of range: Z < 0 in 151 pixels\n",
      "  return func(*args, **kwargs)\n"
     ]
    },
    {
     "name": "stdout",
     "output_type": "stream",
     "text": [
      "Validate: Loss 0.0114 (0.0113)\t\n",
      "Finished validation.\n",
      "Starting training epoch 112\n",
      "Epoch: 112, Loss 0.0049 (0.0050)\n",
      "Finished training epoch 112\n"
     ]
    },
    {
     "name": "stderr",
     "output_type": "stream",
     "text": [
      "/home/konrad/.local/lib/python3.10/site-packages/skimage/_shared/utils.py:394: UserWarning: Color data out of range: Z < 0 in 90 pixels\n",
      "  return func(*args, **kwargs)\n",
      "/home/konrad/.local/lib/python3.10/site-packages/skimage/_shared/utils.py:394: UserWarning: Color data out of range: Z < 0 in 138 pixels\n",
      "  return func(*args, **kwargs)\n",
      "/home/konrad/.local/lib/python3.10/site-packages/skimage/_shared/utils.py:394: UserWarning: Color data out of range: Z < 0 in 466 pixels\n",
      "  return func(*args, **kwargs)\n"
     ]
    },
    {
     "name": "stdout",
     "output_type": "stream",
     "text": [
      "Validate: Loss 0.0092 (0.0088)\t\n",
      "Finished validation.\n",
      "Starting training epoch 113\n",
      "Epoch: 113, Loss 0.0055 (0.0050)\n",
      "Finished training epoch 113\n"
     ]
    },
    {
     "name": "stderr",
     "output_type": "stream",
     "text": [
      "/home/konrad/.local/lib/python3.10/site-packages/skimage/_shared/utils.py:394: UserWarning: Color data out of range: Z < 0 in 66 pixels\n",
      "  return func(*args, **kwargs)\n"
     ]
    },
    {
     "name": "stdout",
     "output_type": "stream",
     "text": [
      "Validate: Loss 0.0090 (0.0087)\t\n",
      "Finished validation.\n",
      "Starting training epoch 114\n",
      "Epoch: 114, Loss 0.0050 (0.0050)\n",
      "Finished training epoch 114\n",
      "Validate: Loss 0.0095 (0.0102)\t\n",
      "Finished validation.\n",
      "Starting training epoch 115\n",
      "Epoch: 115, Loss 0.0043 (0.0050)\n",
      "Finished training epoch 115\n"
     ]
    },
    {
     "name": "stderr",
     "output_type": "stream",
     "text": [
      "/home/konrad/.local/lib/python3.10/site-packages/skimage/_shared/utils.py:394: UserWarning: Color data out of range: Z < 0 in 1117 pixels\n",
      "  return func(*args, **kwargs)\n",
      "/home/konrad/.local/lib/python3.10/site-packages/skimage/_shared/utils.py:394: UserWarning: Color data out of range: Z < 0 in 812 pixels\n",
      "  return func(*args, **kwargs)\n",
      "/home/konrad/.local/lib/python3.10/site-packages/skimage/_shared/utils.py:394: UserWarning: Color data out of range: Z < 0 in 421 pixels\n",
      "  return func(*args, **kwargs)\n",
      "/home/konrad/.local/lib/python3.10/site-packages/skimage/_shared/utils.py:394: UserWarning: Color data out of range: Z < 0 in 692 pixels\n",
      "  return func(*args, **kwargs)\n",
      "/home/konrad/.local/lib/python3.10/site-packages/skimage/_shared/utils.py:394: UserWarning: Color data out of range: Z < 0 in 346 pixels\n",
      "  return func(*args, **kwargs)\n",
      "/home/konrad/.local/lib/python3.10/site-packages/skimage/_shared/utils.py:394: UserWarning: Color data out of range: Z < 0 in 1376 pixels\n",
      "  return func(*args, **kwargs)\n",
      "/home/konrad/.local/lib/python3.10/site-packages/skimage/_shared/utils.py:394: UserWarning: Color data out of range: Z < 0 in 751 pixels\n",
      "  return func(*args, **kwargs)\n",
      "/home/konrad/.local/lib/python3.10/site-packages/skimage/_shared/utils.py:394: UserWarning: Color data out of range: Z < 0 in 853 pixels\n",
      "  return func(*args, **kwargs)\n",
      "/home/konrad/.local/lib/python3.10/site-packages/skimage/_shared/utils.py:394: UserWarning: Color data out of range: Z < 0 in 526 pixels\n",
      "  return func(*args, **kwargs)\n"
     ]
    },
    {
     "name": "stdout",
     "output_type": "stream",
     "text": [
      "Validate: Loss 0.0190 (0.0177)\t\n",
      "Finished validation.\n",
      "Starting training epoch 116\n",
      "Epoch: 116, Loss 0.0055 (0.0049)\n",
      "Finished training epoch 116\n",
      "Validate: Loss 0.0081 (0.0082)\t\n",
      "Finished validation.\n",
      "Starting training epoch 117\n",
      "Epoch: 117, Loss 0.0048 (0.0049)\n",
      "Finished training epoch 117\n"
     ]
    },
    {
     "name": "stderr",
     "output_type": "stream",
     "text": [
      "/home/konrad/.local/lib/python3.10/site-packages/skimage/_shared/utils.py:394: UserWarning: Color data out of range: Z < 0 in 1108 pixels\n",
      "  return func(*args, **kwargs)\n",
      "/home/konrad/.local/lib/python3.10/site-packages/skimage/_shared/utils.py:394: UserWarning: Color data out of range: Z < 0 in 40 pixels\n",
      "  return func(*args, **kwargs)\n",
      "/home/konrad/.local/lib/python3.10/site-packages/skimage/_shared/utils.py:394: UserWarning: Color data out of range: Z < 0 in 857 pixels\n",
      "  return func(*args, **kwargs)\n",
      "/home/konrad/.local/lib/python3.10/site-packages/skimage/_shared/utils.py:394: UserWarning: Color data out of range: Z < 0 in 730 pixels\n",
      "  return func(*args, **kwargs)\n",
      "/home/konrad/.local/lib/python3.10/site-packages/skimage/_shared/utils.py:394: UserWarning: Color data out of range: Z < 0 in 559 pixels\n",
      "  return func(*args, **kwargs)\n",
      "/home/konrad/.local/lib/python3.10/site-packages/skimage/_shared/utils.py:394: UserWarning: Color data out of range: Z < 0 in 364 pixels\n",
      "  return func(*args, **kwargs)\n"
     ]
    },
    {
     "name": "stdout",
     "output_type": "stream",
     "text": [
      "Validate: Loss 0.0169 (0.0157)\t\n",
      "Finished validation.\n",
      "Starting training epoch 118\n",
      "Epoch: 118, Loss 0.0048 (0.0049)\n",
      "Finished training epoch 118\n"
     ]
    },
    {
     "name": "stderr",
     "output_type": "stream",
     "text": [
      "/home/konrad/.local/lib/python3.10/site-packages/skimage/_shared/utils.py:394: UserWarning: Color data out of range: Z < 0 in 274 pixels\n",
      "  return func(*args, **kwargs)\n",
      "/home/konrad/.local/lib/python3.10/site-packages/skimage/_shared/utils.py:394: UserWarning: Color data out of range: Z < 0 in 441 pixels\n",
      "  return func(*args, **kwargs)\n"
     ]
    },
    {
     "name": "stdout",
     "output_type": "stream",
     "text": [
      "Validate: Loss 0.0098 (0.0098)\t\n",
      "Finished validation.\n",
      "Starting training epoch 119\n",
      "Epoch: 119, Loss 0.0046 (0.0049)\n",
      "Finished training epoch 119\n",
      "Validate: Loss 0.0102 (0.0109)\t\n",
      "Finished validation.\n",
      "Starting training epoch 120\n",
      "Epoch: 120, Loss 0.0053 (0.0050)\n",
      "Finished training epoch 120\n"
     ]
    },
    {
     "name": "stderr",
     "output_type": "stream",
     "text": [
      "/home/konrad/.local/lib/python3.10/site-packages/skimage/_shared/utils.py:394: UserWarning: Color data out of range: Z < 0 in 472 pixels\n",
      "  return func(*args, **kwargs)\n",
      "/home/konrad/.local/lib/python3.10/site-packages/skimage/_shared/utils.py:394: UserWarning: Color data out of range: Z < 0 in 501 pixels\n",
      "  return func(*args, **kwargs)\n",
      "/home/konrad/.local/lib/python3.10/site-packages/skimage/_shared/utils.py:394: UserWarning: Color data out of range: Z < 0 in 165 pixels\n",
      "  return func(*args, **kwargs)\n",
      "/home/konrad/.local/lib/python3.10/site-packages/skimage/_shared/utils.py:394: UserWarning: Color data out of range: Z < 0 in 677 pixels\n",
      "  return func(*args, **kwargs)\n",
      "/home/konrad/.local/lib/python3.10/site-packages/skimage/_shared/utils.py:394: UserWarning: Color data out of range: Z < 0 in 400 pixels\n",
      "  return func(*args, **kwargs)\n",
      "/home/konrad/.local/lib/python3.10/site-packages/skimage/_shared/utils.py:394: UserWarning: Color data out of range: Z < 0 in 102 pixels\n",
      "  return func(*args, **kwargs)\n"
     ]
    },
    {
     "name": "stdout",
     "output_type": "stream",
     "text": [
      "Validate: Loss 0.0098 (0.0095)\t\n",
      "Finished validation.\n",
      "Starting training epoch 121\n",
      "Epoch: 121, Loss 0.0047 (0.0049)\n",
      "Finished training epoch 121\n"
     ]
    },
    {
     "name": "stderr",
     "output_type": "stream",
     "text": [
      "/home/konrad/.local/lib/python3.10/site-packages/skimage/_shared/utils.py:394: UserWarning: Color data out of range: Z < 0 in 561 pixels\n",
      "  return func(*args, **kwargs)\n",
      "/home/konrad/.local/lib/python3.10/site-packages/skimage/_shared/utils.py:394: UserWarning: Color data out of range: Z < 0 in 931 pixels\n",
      "  return func(*args, **kwargs)\n",
      "/home/konrad/.local/lib/python3.10/site-packages/skimage/_shared/utils.py:394: UserWarning: Color data out of range: Z < 0 in 1166 pixels\n",
      "  return func(*args, **kwargs)\n",
      "/home/konrad/.local/lib/python3.10/site-packages/skimage/_shared/utils.py:394: UserWarning: Color data out of range: Z < 0 in 623 pixels\n",
      "  return func(*args, **kwargs)\n",
      "/home/konrad/.local/lib/python3.10/site-packages/skimage/_shared/utils.py:394: UserWarning: Color data out of range: Z < 0 in 999 pixels\n",
      "  return func(*args, **kwargs)\n",
      "/home/konrad/.local/lib/python3.10/site-packages/skimage/_shared/utils.py:394: UserWarning: Color data out of range: Z < 0 in 792 pixels\n",
      "  return func(*args, **kwargs)\n",
      "/home/konrad/.local/lib/python3.10/site-packages/skimage/_shared/utils.py:394: UserWarning: Color data out of range: Z < 0 in 744 pixels\n",
      "  return func(*args, **kwargs)\n",
      "/home/konrad/.local/lib/python3.10/site-packages/skimage/_shared/utils.py:394: UserWarning: Color data out of range: Z < 0 in 404 pixels\n",
      "  return func(*args, **kwargs)\n"
     ]
    },
    {
     "name": "stdout",
     "output_type": "stream",
     "text": [
      "Validate: Loss 0.0160 (0.0155)\t\n",
      "Finished validation.\n",
      "Starting training epoch 122\n",
      "Epoch: 122, Loss 0.0046 (0.0049)\n",
      "Finished training epoch 122\n",
      "Validate: Loss 0.0098 (0.0103)\t\n",
      "Finished validation.\n",
      "Starting training epoch 123\n",
      "Epoch: 123, Loss 0.0047 (0.0049)\n",
      "Finished training epoch 123\n",
      "Validate: Loss 0.0153 (0.0165)\t\n",
      "Finished validation.\n",
      "Starting training epoch 124\n",
      "Epoch: 124, Loss 0.0044 (0.0048)\n",
      "Finished training epoch 124\n",
      "Validate: Loss 0.0086 (0.0091)\t\n",
      "Finished validation.\n",
      "Starting training epoch 125\n",
      "Epoch: 125, Loss 0.0052 (0.0048)\n",
      "Finished training epoch 125\n"
     ]
    },
    {
     "name": "stderr",
     "output_type": "stream",
     "text": [
      "/home/konrad/.local/lib/python3.10/site-packages/skimage/_shared/utils.py:394: UserWarning: Color data out of range: Z < 0 in 440 pixels\n",
      "  return func(*args, **kwargs)\n",
      "/home/konrad/.local/lib/python3.10/site-packages/skimage/_shared/utils.py:394: UserWarning: Color data out of range: Z < 0 in 519 pixels\n",
      "  return func(*args, **kwargs)\n",
      "/home/konrad/.local/lib/python3.10/site-packages/skimage/_shared/utils.py:394: UserWarning: Color data out of range: Z < 0 in 562 pixels\n",
      "  return func(*args, **kwargs)\n",
      "/home/konrad/.local/lib/python3.10/site-packages/skimage/_shared/utils.py:394: UserWarning: Color data out of range: Z < 0 in 573 pixels\n",
      "  return func(*args, **kwargs)\n"
     ]
    },
    {
     "name": "stdout",
     "output_type": "stream",
     "text": [
      "Validate: Loss 0.0136 (0.0133)\t\n",
      "Finished validation.\n",
      "Starting training epoch 126\n",
      "Epoch: 126, Loss 0.0049 (0.0048)\n",
      "Finished training epoch 126\n"
     ]
    },
    {
     "name": "stderr",
     "output_type": "stream",
     "text": [
      "/home/konrad/.local/lib/python3.10/site-packages/skimage/_shared/utils.py:394: UserWarning: Color data out of range: Z < 0 in 518 pixels\n",
      "  return func(*args, **kwargs)\n",
      "/home/konrad/.local/lib/python3.10/site-packages/skimage/_shared/utils.py:394: UserWarning: Color data out of range: Z < 0 in 309 pixels\n",
      "  return func(*args, **kwargs)\n"
     ]
    },
    {
     "name": "stdout",
     "output_type": "stream",
     "text": [
      "Validate: Loss 0.0110 (0.0112)\t\n",
      "Finished validation.\n",
      "Starting training epoch 127\n",
      "Epoch: 127, Loss 0.0052 (0.0047)\n",
      "Finished training epoch 127\n"
     ]
    },
    {
     "name": "stderr",
     "output_type": "stream",
     "text": [
      "/home/konrad/.local/lib/python3.10/site-packages/skimage/_shared/utils.py:394: UserWarning: Color data out of range: Z < 0 in 143 pixels\n",
      "  return func(*args, **kwargs)\n"
     ]
    },
    {
     "name": "stdout",
     "output_type": "stream",
     "text": [
      "Validate: Loss 0.0102 (0.0102)\t\n",
      "Finished validation.\n",
      "Starting training epoch 128\n",
      "Epoch: 128, Loss 0.0047 (0.0048)\n",
      "Finished training epoch 128\n"
     ]
    },
    {
     "name": "stderr",
     "output_type": "stream",
     "text": [
      "/home/konrad/.local/lib/python3.10/site-packages/skimage/_shared/utils.py:394: UserWarning: Color data out of range: Z < 0 in 425 pixels\n",
      "  return func(*args, **kwargs)\n",
      "/home/konrad/.local/lib/python3.10/site-packages/skimage/_shared/utils.py:394: UserWarning: Color data out of range: Z < 0 in 298 pixels\n",
      "  return func(*args, **kwargs)\n",
      "/home/konrad/.local/lib/python3.10/site-packages/skimage/_shared/utils.py:394: UserWarning: Color data out of range: Z < 0 in 668 pixels\n",
      "  return func(*args, **kwargs)\n",
      "/home/konrad/.local/lib/python3.10/site-packages/skimage/_shared/utils.py:394: UserWarning: Color data out of range: Z < 0 in 402 pixels\n",
      "  return func(*args, **kwargs)\n"
     ]
    },
    {
     "name": "stdout",
     "output_type": "stream",
     "text": [
      "Validate: Loss 0.0123 (0.0126)\t\n",
      "Finished validation.\n",
      "Starting training epoch 129\n",
      "Epoch: 129, Loss 0.0050 (0.0047)\n",
      "Finished training epoch 129\n"
     ]
    },
    {
     "name": "stderr",
     "output_type": "stream",
     "text": [
      "/home/konrad/.local/lib/python3.10/site-packages/skimage/_shared/utils.py:394: UserWarning: Color data out of range: Z < 0 in 430 pixels\n",
      "  return func(*args, **kwargs)\n",
      "/home/konrad/.local/lib/python3.10/site-packages/skimage/_shared/utils.py:394: UserWarning: Color data out of range: Z < 0 in 160 pixels\n",
      "  return func(*args, **kwargs)\n",
      "/home/konrad/.local/lib/python3.10/site-packages/skimage/_shared/utils.py:394: UserWarning: Color data out of range: Z < 0 in 660 pixels\n",
      "  return func(*args, **kwargs)\n"
     ]
    },
    {
     "name": "stdout",
     "output_type": "stream",
     "text": [
      "Validate: Loss 0.0121 (0.0117)\t\n",
      "Finished validation.\n",
      "Starting training epoch 130\n",
      "Epoch: 130, Loss 0.0045 (0.0047)\n",
      "Finished training epoch 130\n"
     ]
    },
    {
     "name": "stderr",
     "output_type": "stream",
     "text": [
      "/home/konrad/.local/lib/python3.10/site-packages/skimage/_shared/utils.py:394: UserWarning: Color data out of range: Z < 0 in 1229 pixels\n",
      "  return func(*args, **kwargs)\n",
      "/home/konrad/.local/lib/python3.10/site-packages/skimage/_shared/utils.py:394: UserWarning: Color data out of range: Z < 0 in 1396 pixels\n",
      "  return func(*args, **kwargs)\n",
      "/home/konrad/.local/lib/python3.10/site-packages/skimage/_shared/utils.py:394: UserWarning: Color data out of range: Z < 0 in 1818 pixels\n",
      "  return func(*args, **kwargs)\n",
      "/home/konrad/.local/lib/python3.10/site-packages/skimage/_shared/utils.py:394: UserWarning: Color data out of range: Z < 0 in 392 pixels\n",
      "  return func(*args, **kwargs)\n",
      "/home/konrad/.local/lib/python3.10/site-packages/skimage/_shared/utils.py:394: UserWarning: Color data out of range: Z < 0 in 1029 pixels\n",
      "  return func(*args, **kwargs)\n",
      "/home/konrad/.local/lib/python3.10/site-packages/skimage/_shared/utils.py:394: UserWarning: Color data out of range: Z < 0 in 1383 pixels\n",
      "  return func(*args, **kwargs)\n",
      "/home/konrad/.local/lib/python3.10/site-packages/skimage/_shared/utils.py:394: UserWarning: Color data out of range: Z < 0 in 1505 pixels\n",
      "  return func(*args, **kwargs)\n",
      "/home/konrad/.local/lib/python3.10/site-packages/skimage/_shared/utils.py:394: UserWarning: Color data out of range: Z < 0 in 1292 pixels\n",
      "  return func(*args, **kwargs)\n",
      "/home/konrad/.local/lib/python3.10/site-packages/skimage/_shared/utils.py:394: UserWarning: Color data out of range: Z < 0 in 1193 pixels\n",
      "  return func(*args, **kwargs)\n",
      "/home/konrad/.local/lib/python3.10/site-packages/skimage/_shared/utils.py:394: UserWarning: Color data out of range: Z < 0 in 900 pixels\n",
      "  return func(*args, **kwargs)\n"
     ]
    },
    {
     "name": "stdout",
     "output_type": "stream",
     "text": [
      "Validate: Loss 0.0235 (0.0221)\t\n",
      "Finished validation.\n",
      "Starting training epoch 131\n",
      "Epoch: 131, Loss 0.0044 (0.0048)\n",
      "Finished training epoch 131\n"
     ]
    },
    {
     "name": "stderr",
     "output_type": "stream",
     "text": [
      "/home/konrad/.local/lib/python3.10/site-packages/skimage/_shared/utils.py:394: UserWarning: Color data out of range: Z < 0 in 1036 pixels\n",
      "  return func(*args, **kwargs)\n",
      "/home/konrad/.local/lib/python3.10/site-packages/skimage/_shared/utils.py:394: UserWarning: Color data out of range: Z < 0 in 1107 pixels\n",
      "  return func(*args, **kwargs)\n",
      "/home/konrad/.local/lib/python3.10/site-packages/skimage/_shared/utils.py:394: UserWarning: Color data out of range: Z < 0 in 703 pixels\n",
      "  return func(*args, **kwargs)\n",
      "/home/konrad/.local/lib/python3.10/site-packages/skimage/_shared/utils.py:394: UserWarning: Color data out of range: Z < 0 in 830 pixels\n",
      "  return func(*args, **kwargs)\n",
      "/home/konrad/.local/lib/python3.10/site-packages/skimage/_shared/utils.py:394: UserWarning: Color data out of range: Z < 0 in 928 pixels\n",
      "  return func(*args, **kwargs)\n",
      "/home/konrad/.local/lib/python3.10/site-packages/skimage/_shared/utils.py:394: UserWarning: Color data out of range: Z < 0 in 634 pixels\n",
      "  return func(*args, **kwargs)\n",
      "/home/konrad/.local/lib/python3.10/site-packages/skimage/_shared/utils.py:394: UserWarning: Color data out of range: Z < 0 in 379 pixels\n",
      "  return func(*args, **kwargs)\n"
     ]
    },
    {
     "name": "stdout",
     "output_type": "stream",
     "text": [
      "Validate: Loss 0.0136 (0.0139)\t\n",
      "Finished validation.\n",
      "Starting training epoch 132\n",
      "Epoch: 132, Loss 0.0050 (0.0047)\n",
      "Finished training epoch 132\n"
     ]
    },
    {
     "name": "stderr",
     "output_type": "stream",
     "text": [
      "/home/konrad/.local/lib/python3.10/site-packages/skimage/_shared/utils.py:394: UserWarning: Color data out of range: Z < 0 in 659 pixels\n",
      "  return func(*args, **kwargs)\n",
      "/home/konrad/.local/lib/python3.10/site-packages/skimage/_shared/utils.py:394: UserWarning: Color data out of range: Z < 0 in 1242 pixels\n",
      "  return func(*args, **kwargs)\n",
      "/home/konrad/.local/lib/python3.10/site-packages/skimage/_shared/utils.py:394: UserWarning: Color data out of range: Z < 0 in 1747 pixels\n",
      "  return func(*args, **kwargs)\n",
      "/home/konrad/.local/lib/python3.10/site-packages/skimage/_shared/utils.py:394: UserWarning: Color data out of range: Z < 0 in 941 pixels\n",
      "  return func(*args, **kwargs)\n",
      "/home/konrad/.local/lib/python3.10/site-packages/skimage/_shared/utils.py:394: UserWarning: Color data out of range: Z < 0 in 1615 pixels\n",
      "  return func(*args, **kwargs)\n",
      "/home/konrad/.local/lib/python3.10/site-packages/skimage/_shared/utils.py:394: UserWarning: Color data out of range: Z < 0 in 1003 pixels\n",
      "  return func(*args, **kwargs)\n",
      "/home/konrad/.local/lib/python3.10/site-packages/skimage/_shared/utils.py:394: UserWarning: Color data out of range: Z < 0 in 828 pixels\n",
      "  return func(*args, **kwargs)\n",
      "/home/konrad/.local/lib/python3.10/site-packages/skimage/_shared/utils.py:394: UserWarning: Color data out of range: Z < 0 in 954 pixels\n",
      "  return func(*args, **kwargs)\n",
      "/home/konrad/.local/lib/python3.10/site-packages/skimage/_shared/utils.py:394: UserWarning: Color data out of range: Z < 0 in 818 pixels\n",
      "  return func(*args, **kwargs)\n"
     ]
    },
    {
     "name": "stdout",
     "output_type": "stream",
     "text": [
      "Validate: Loss 0.0167 (0.0164)\t\n",
      "Finished validation.\n",
      "Starting training epoch 133\n",
      "Epoch: 133, Loss 0.0047 (0.0046)\n",
      "Finished training epoch 133\n"
     ]
    },
    {
     "name": "stderr",
     "output_type": "stream",
     "text": [
      "/home/konrad/.local/lib/python3.10/site-packages/skimage/_shared/utils.py:394: UserWarning: Color data out of range: Z < 0 in 135 pixels\n",
      "  return func(*args, **kwargs)\n"
     ]
    },
    {
     "name": "stdout",
     "output_type": "stream",
     "text": [
      "Validate: Loss 0.0090 (0.0091)\t\n",
      "Finished validation.\n",
      "Starting training epoch 134\n",
      "Epoch: 134, Loss 0.0047 (0.0047)\n",
      "Finished training epoch 134\n"
     ]
    },
    {
     "name": "stderr",
     "output_type": "stream",
     "text": [
      "/home/konrad/.local/lib/python3.10/site-packages/skimage/_shared/utils.py:394: UserWarning: Color data out of range: Z < 0 in 793 pixels\n",
      "  return func(*args, **kwargs)\n",
      "/home/konrad/.local/lib/python3.10/site-packages/skimage/_shared/utils.py:394: UserWarning: Color data out of range: Z < 0 in 944 pixels\n",
      "  return func(*args, **kwargs)\n",
      "/home/konrad/.local/lib/python3.10/site-packages/skimage/_shared/utils.py:394: UserWarning: Color data out of range: Z < 0 in 514 pixels\n",
      "  return func(*args, **kwargs)\n",
      "/home/konrad/.local/lib/python3.10/site-packages/skimage/_shared/utils.py:394: UserWarning: Color data out of range: Z < 0 in 807 pixels\n",
      "  return func(*args, **kwargs)\n",
      "/home/konrad/.local/lib/python3.10/site-packages/skimage/_shared/utils.py:394: UserWarning: Color data out of range: Z < 0 in 343 pixels\n",
      "  return func(*args, **kwargs)\n",
      "/home/konrad/.local/lib/python3.10/site-packages/skimage/_shared/utils.py:394: UserWarning: Color data out of range: Z < 0 in 1378 pixels\n",
      "  return func(*args, **kwargs)\n",
      "/home/konrad/.local/lib/python3.10/site-packages/skimage/_shared/utils.py:394: UserWarning: Color data out of range: Z < 0 in 1084 pixels\n",
      "  return func(*args, **kwargs)\n",
      "/home/konrad/.local/lib/python3.10/site-packages/skimage/_shared/utils.py:394: UserWarning: Color data out of range: Z < 0 in 1085 pixels\n",
      "  return func(*args, **kwargs)\n",
      "/home/konrad/.local/lib/python3.10/site-packages/skimage/_shared/utils.py:394: UserWarning: Color data out of range: Z < 0 in 588 pixels\n",
      "  return func(*args, **kwargs)\n"
     ]
    },
    {
     "name": "stdout",
     "output_type": "stream",
     "text": [
      "Validate: Loss 0.0226 (0.0204)\t\n",
      "Finished validation.\n",
      "Starting training epoch 135\n",
      "Epoch: 135, Loss 0.0050 (0.0047)\n",
      "Finished training epoch 135\n"
     ]
    },
    {
     "name": "stderr",
     "output_type": "stream",
     "text": [
      "/home/konrad/.local/lib/python3.10/site-packages/skimage/_shared/utils.py:394: UserWarning: Color data out of range: Z < 0 in 480 pixels\n",
      "  return func(*args, **kwargs)\n",
      "/home/konrad/.local/lib/python3.10/site-packages/skimage/_shared/utils.py:394: UserWarning: Color data out of range: Z < 0 in 411 pixels\n",
      "  return func(*args, **kwargs)\n",
      "/home/konrad/.local/lib/python3.10/site-packages/skimage/_shared/utils.py:394: UserWarning: Color data out of range: Z < 0 in 242 pixels\n",
      "  return func(*args, **kwargs)\n",
      "/home/konrad/.local/lib/python3.10/site-packages/skimage/_shared/utils.py:394: UserWarning: Color data out of range: Z < 0 in 132 pixels\n",
      "  return func(*args, **kwargs)\n",
      "/home/konrad/.local/lib/python3.10/site-packages/skimage/_shared/utils.py:394: UserWarning: Color data out of range: Z < 0 in 748 pixels\n",
      "  return func(*args, **kwargs)\n",
      "/home/konrad/.local/lib/python3.10/site-packages/skimage/_shared/utils.py:394: UserWarning: Color data out of range: Z < 0 in 567 pixels\n",
      "  return func(*args, **kwargs)\n"
     ]
    },
    {
     "name": "stdout",
     "output_type": "stream",
     "text": [
      "Validate: Loss 0.0126 (0.0124)\t\n",
      "Finished validation.\n",
      "Starting training epoch 136\n",
      "Epoch: 136, Loss 0.0049 (0.0046)\n",
      "Finished training epoch 136\n"
     ]
    },
    {
     "name": "stderr",
     "output_type": "stream",
     "text": [
      "/home/konrad/.local/lib/python3.10/site-packages/skimage/_shared/utils.py:394: UserWarning: Color data out of range: Z < 0 in 312 pixels\n",
      "  return func(*args, **kwargs)\n",
      "/home/konrad/.local/lib/python3.10/site-packages/skimage/_shared/utils.py:394: UserWarning: Color data out of range: Z < 0 in 554 pixels\n",
      "  return func(*args, **kwargs)\n",
      "/home/konrad/.local/lib/python3.10/site-packages/skimage/_shared/utils.py:394: UserWarning: Color data out of range: Z < 0 in 304 pixels\n",
      "  return func(*args, **kwargs)\n"
     ]
    },
    {
     "name": "stdout",
     "output_type": "stream",
     "text": [
      "Validate: Loss 0.0099 (0.0101)\t\n",
      "Finished validation.\n",
      "Starting training epoch 137\n",
      "Epoch: 137, Loss 0.0051 (0.0046)\n",
      "Finished training epoch 137\n"
     ]
    },
    {
     "name": "stderr",
     "output_type": "stream",
     "text": [
      "/home/konrad/.local/lib/python3.10/site-packages/skimage/_shared/utils.py:394: UserWarning: Color data out of range: Z < 0 in 901 pixels\n",
      "  return func(*args, **kwargs)\n",
      "/home/konrad/.local/lib/python3.10/site-packages/skimage/_shared/utils.py:394: UserWarning: Color data out of range: Z < 0 in 1230 pixels\n",
      "  return func(*args, **kwargs)\n",
      "/home/konrad/.local/lib/python3.10/site-packages/skimage/_shared/utils.py:394: UserWarning: Color data out of range: Z < 0 in 827 pixels\n",
      "  return func(*args, **kwargs)\n",
      "/home/konrad/.local/lib/python3.10/site-packages/skimage/_shared/utils.py:394: UserWarning: Color data out of range: Z < 0 in 449 pixels\n",
      "  return func(*args, **kwargs)\n"
     ]
    },
    {
     "name": "stdout",
     "output_type": "stream",
     "text": [
      "Validate: Loss 0.0118 (0.0117)\t\n",
      "Finished validation.\n",
      "Starting training epoch 138\n",
      "Epoch: 138, Loss 0.0049 (0.0047)\n",
      "Finished training epoch 138\n"
     ]
    },
    {
     "name": "stderr",
     "output_type": "stream",
     "text": [
      "/home/konrad/.local/lib/python3.10/site-packages/skimage/_shared/utils.py:394: UserWarning: Color data out of range: Z < 0 in 401 pixels\n",
      "  return func(*args, **kwargs)\n",
      "/home/konrad/.local/lib/python3.10/site-packages/skimage/_shared/utils.py:394: UserWarning: Color data out of range: Z < 0 in 437 pixels\n",
      "  return func(*args, **kwargs)\n",
      "/home/konrad/.local/lib/python3.10/site-packages/skimage/_shared/utils.py:394: UserWarning: Color data out of range: Z < 0 in 199 pixels\n",
      "  return func(*args, **kwargs)\n",
      "/home/konrad/.local/lib/python3.10/site-packages/skimage/_shared/utils.py:394: UserWarning: Color data out of range: Z < 0 in 329 pixels\n",
      "  return func(*args, **kwargs)\n"
     ]
    },
    {
     "name": "stdout",
     "output_type": "stream",
     "text": [
      "Validate: Loss 0.0100 (0.0100)\t\n",
      "Finished validation.\n",
      "Starting training epoch 139\n",
      "Epoch: 139, Loss 0.0048 (0.0046)\n",
      "Finished training epoch 139\n"
     ]
    },
    {
     "name": "stderr",
     "output_type": "stream",
     "text": [
      "/home/konrad/.local/lib/python3.10/site-packages/skimage/_shared/utils.py:394: UserWarning: Color data out of range: Z < 0 in 858 pixels\n",
      "  return func(*args, **kwargs)\n",
      "/home/konrad/.local/lib/python3.10/site-packages/skimage/_shared/utils.py:394: UserWarning: Color data out of range: Z < 0 in 1561 pixels\n",
      "  return func(*args, **kwargs)\n",
      "/home/konrad/.local/lib/python3.10/site-packages/skimage/_shared/utils.py:394: UserWarning: Color data out of range: Z < 0 in 2234 pixels\n",
      "  return func(*args, **kwargs)\n",
      "/home/konrad/.local/lib/python3.10/site-packages/skimage/_shared/utils.py:394: UserWarning: Color data out of range: Z < 0 in 964 pixels\n",
      "  return func(*args, **kwargs)\n",
      "/home/konrad/.local/lib/python3.10/site-packages/skimage/_shared/utils.py:394: UserWarning: Color data out of range: Z < 0 in 2041 pixels\n",
      "  return func(*args, **kwargs)\n",
      "/home/konrad/.local/lib/python3.10/site-packages/skimage/_shared/utils.py:394: UserWarning: Color data out of range: Z < 0 in 1079 pixels\n",
      "  return func(*args, **kwargs)\n",
      "/home/konrad/.local/lib/python3.10/site-packages/skimage/_shared/utils.py:394: UserWarning: Color data out of range: Z < 0 in 811 pixels\n",
      "  return func(*args, **kwargs)\n",
      "/home/konrad/.local/lib/python3.10/site-packages/skimage/_shared/utils.py:394: UserWarning: Color data out of range: Z < 0 in 1209 pixels\n",
      "  return func(*args, **kwargs)\n",
      "/home/konrad/.local/lib/python3.10/site-packages/skimage/_shared/utils.py:394: UserWarning: Color data out of range: Z < 0 in 888 pixels\n",
      "  return func(*args, **kwargs)\n"
     ]
    },
    {
     "name": "stdout",
     "output_type": "stream",
     "text": [
      "Validate: Loss 0.0146 (0.0145)\t\n",
      "Finished validation.\n",
      "Starting training epoch 140\n",
      "Epoch: 140, Loss 0.0042 (0.0046)\n",
      "Finished training epoch 140\n"
     ]
    },
    {
     "name": "stderr",
     "output_type": "stream",
     "text": [
      "/home/konrad/.local/lib/python3.10/site-packages/skimage/_shared/utils.py:394: UserWarning: Color data out of range: Z < 0 in 847 pixels\n",
      "  return func(*args, **kwargs)\n",
      "/home/konrad/.local/lib/python3.10/site-packages/skimage/_shared/utils.py:394: UserWarning: Color data out of range: Z < 0 in 1111 pixels\n",
      "  return func(*args, **kwargs)\n",
      "/home/konrad/.local/lib/python3.10/site-packages/skimage/_shared/utils.py:394: UserWarning: Color data out of range: Z < 0 in 1127 pixels\n",
      "  return func(*args, **kwargs)\n",
      "/home/konrad/.local/lib/python3.10/site-packages/skimage/_shared/utils.py:394: UserWarning: Color data out of range: Z < 0 in 513 pixels\n",
      "  return func(*args, **kwargs)\n",
      "/home/konrad/.local/lib/python3.10/site-packages/skimage/_shared/utils.py:394: UserWarning: Color data out of range: Z < 0 in 1010 pixels\n",
      "  return func(*args, **kwargs)\n",
      "/home/konrad/.local/lib/python3.10/site-packages/skimage/_shared/utils.py:394: UserWarning: Color data out of range: Z < 0 in 1064 pixels\n",
      "  return func(*args, **kwargs)\n",
      "/home/konrad/.local/lib/python3.10/site-packages/skimage/_shared/utils.py:394: UserWarning: Color data out of range: Z < 0 in 685 pixels\n",
      "  return func(*args, **kwargs)\n",
      "/home/konrad/.local/lib/python3.10/site-packages/skimage/_shared/utils.py:394: UserWarning: Color data out of range: Z < 0 in 523 pixels\n",
      "  return func(*args, **kwargs)\n",
      "/home/konrad/.local/lib/python3.10/site-packages/skimage/_shared/utils.py:394: UserWarning: Color data out of range: Z < 0 in 639 pixels\n",
      "  return func(*args, **kwargs)\n"
     ]
    },
    {
     "name": "stdout",
     "output_type": "stream",
     "text": [
      "Validate: Loss 0.0173 (0.0162)\t\n",
      "Finished validation.\n",
      "Starting training epoch 141\n",
      "Epoch: 141, Loss 0.0042 (0.0046)\n",
      "Finished training epoch 141\n"
     ]
    },
    {
     "name": "stderr",
     "output_type": "stream",
     "text": [
      "/home/konrad/.local/lib/python3.10/site-packages/skimage/_shared/utils.py:394: UserWarning: Color data out of range: Z < 0 in 644 pixels\n",
      "  return func(*args, **kwargs)\n",
      "/home/konrad/.local/lib/python3.10/site-packages/skimage/_shared/utils.py:394: UserWarning: Color data out of range: Z < 0 in 650 pixels\n",
      "  return func(*args, **kwargs)\n",
      "/home/konrad/.local/lib/python3.10/site-packages/skimage/_shared/utils.py:394: UserWarning: Color data out of range: Z < 0 in 946 pixels\n",
      "  return func(*args, **kwargs)\n",
      "/home/konrad/.local/lib/python3.10/site-packages/skimage/_shared/utils.py:394: UserWarning: Color data out of range: Z < 0 in 845 pixels\n",
      "  return func(*args, **kwargs)\n",
      "/home/konrad/.local/lib/python3.10/site-packages/skimage/_shared/utils.py:394: UserWarning: Color data out of range: Z < 0 in 358 pixels\n",
      "  return func(*args, **kwargs)\n"
     ]
    },
    {
     "name": "stdout",
     "output_type": "stream",
     "text": [
      "Validate: Loss 0.0141 (0.0136)\t\n",
      "Finished validation.\n",
      "Starting training epoch 142\n",
      "Epoch: 142, Loss 0.0042 (0.0045)\n",
      "Finished training epoch 142\n"
     ]
    },
    {
     "name": "stderr",
     "output_type": "stream",
     "text": [
      "/home/konrad/.local/lib/python3.10/site-packages/skimage/_shared/utils.py:394: UserWarning: Color data out of range: Z < 0 in 407 pixels\n",
      "  return func(*args, **kwargs)\n",
      "/home/konrad/.local/lib/python3.10/site-packages/skimage/_shared/utils.py:394: UserWarning: Color data out of range: Z < 0 in 245 pixels\n",
      "  return func(*args, **kwargs)\n",
      "/home/konrad/.local/lib/python3.10/site-packages/skimage/_shared/utils.py:394: UserWarning: Color data out of range: Z < 0 in 178 pixels\n",
      "  return func(*args, **kwargs)\n",
      "/home/konrad/.local/lib/python3.10/site-packages/skimage/_shared/utils.py:394: UserWarning: Color data out of range: Z < 0 in 1095 pixels\n",
      "  return func(*args, **kwargs)\n",
      "/home/konrad/.local/lib/python3.10/site-packages/skimage/_shared/utils.py:394: UserWarning: Color data out of range: Z < 0 in 661 pixels\n",
      "  return func(*args, **kwargs)\n",
      "/home/konrad/.local/lib/python3.10/site-packages/skimage/_shared/utils.py:394: UserWarning: Color data out of range: Z < 0 in 317 pixels\n",
      "  return func(*args, **kwargs)\n"
     ]
    },
    {
     "name": "stdout",
     "output_type": "stream",
     "text": [
      "Validate: Loss 0.0136 (0.0132)\t\n",
      "Finished validation.\n",
      "Starting training epoch 143\n",
      "Epoch: 143, Loss 0.0041 (0.0045)\n",
      "Finished training epoch 143\n"
     ]
    },
    {
     "name": "stderr",
     "output_type": "stream",
     "text": [
      "/home/konrad/.local/lib/python3.10/site-packages/skimage/_shared/utils.py:394: UserWarning: Color data out of range: Z < 0 in 643 pixels\n",
      "  return func(*args, **kwargs)\n",
      "/home/konrad/.local/lib/python3.10/site-packages/skimage/_shared/utils.py:394: UserWarning: Color data out of range: Z < 0 in 911 pixels\n",
      "  return func(*args, **kwargs)\n",
      "/home/konrad/.local/lib/python3.10/site-packages/skimage/_shared/utils.py:394: UserWarning: Color data out of range: Z < 0 in 814 pixels\n",
      "  return func(*args, **kwargs)\n",
      "/home/konrad/.local/lib/python3.10/site-packages/skimage/_shared/utils.py:394: UserWarning: Color data out of range: Z < 0 in 691 pixels\n",
      "  return func(*args, **kwargs)\n",
      "/home/konrad/.local/lib/python3.10/site-packages/skimage/_shared/utils.py:394: UserWarning: Color data out of range: Z < 0 in 729 pixels\n",
      "  return func(*args, **kwargs)\n",
      "/home/konrad/.local/lib/python3.10/site-packages/skimage/_shared/utils.py:394: UserWarning: Color data out of range: Z < 0 in 996 pixels\n",
      "  return func(*args, **kwargs)\n",
      "/home/konrad/.local/lib/python3.10/site-packages/skimage/_shared/utils.py:394: UserWarning: Color data out of range: Z < 0 in 894 pixels\n",
      "  return func(*args, **kwargs)\n"
     ]
    },
    {
     "name": "stdout",
     "output_type": "stream",
     "text": [
      "Validate: Loss 0.0141 (0.0136)\t\n",
      "Finished validation.\n",
      "Starting training epoch 144\n",
      "Epoch: 144, Loss 0.0040 (0.0045)\n",
      "Finished training epoch 144\n"
     ]
    },
    {
     "name": "stderr",
     "output_type": "stream",
     "text": [
      "/home/konrad/.local/lib/python3.10/site-packages/skimage/_shared/utils.py:394: UserWarning: Color data out of range: Z < 0 in 359 pixels\n",
      "  return func(*args, **kwargs)\n",
      "/home/konrad/.local/lib/python3.10/site-packages/skimage/_shared/utils.py:394: UserWarning: Color data out of range: Z < 0 in 172 pixels\n",
      "  return func(*args, **kwargs)\n",
      "/home/konrad/.local/lib/python3.10/site-packages/skimage/_shared/utils.py:394: UserWarning: Color data out of range: Z < 0 in 230 pixels\n",
      "  return func(*args, **kwargs)\n"
     ]
    },
    {
     "name": "stdout",
     "output_type": "stream",
     "text": [
      "Validate: Loss 0.0113 (0.0116)\t\n",
      "Finished validation.\n",
      "Starting training epoch 145\n",
      "Epoch: 145, Loss 0.0041 (0.0045)\n",
      "Finished training epoch 145\n"
     ]
    },
    {
     "name": "stderr",
     "output_type": "stream",
     "text": [
      "/home/konrad/.local/lib/python3.10/site-packages/skimage/_shared/utils.py:394: UserWarning: Color data out of range: Z < 0 in 150 pixels\n",
      "  return func(*args, **kwargs)\n",
      "/home/konrad/.local/lib/python3.10/site-packages/skimage/_shared/utils.py:394: UserWarning: Color data out of range: Z < 0 in 279 pixels\n",
      "  return func(*args, **kwargs)\n",
      "/home/konrad/.local/lib/python3.10/site-packages/skimage/_shared/utils.py:394: UserWarning: Color data out of range: Z < 0 in 345 pixels\n",
      "  return func(*args, **kwargs)\n"
     ]
    },
    {
     "name": "stdout",
     "output_type": "stream",
     "text": [
      "Validate: Loss 0.0124 (0.0131)\t\n",
      "Finished validation.\n",
      "Starting training epoch 146\n",
      "Epoch: 146, Loss 0.0046 (0.0045)\n",
      "Finished training epoch 146\n"
     ]
    },
    {
     "name": "stderr",
     "output_type": "stream",
     "text": [
      "/home/konrad/.local/lib/python3.10/site-packages/skimage/_shared/utils.py:394: UserWarning: Color data out of range: Z < 0 in 370 pixels\n",
      "  return func(*args, **kwargs)\n",
      "/home/konrad/.local/lib/python3.10/site-packages/skimage/_shared/utils.py:394: UserWarning: Color data out of range: Z < 0 in 196 pixels\n",
      "  return func(*args, **kwargs)\n",
      "/home/konrad/.local/lib/python3.10/site-packages/skimage/_shared/utils.py:394: UserWarning: Color data out of range: Z < 0 in 131 pixels\n",
      "  return func(*args, **kwargs)\n"
     ]
    },
    {
     "name": "stdout",
     "output_type": "stream",
     "text": [
      "Validate: Loss 0.0103 (0.0106)\t\n",
      "Finished validation.\n",
      "Starting training epoch 147\n",
      "Epoch: 147, Loss 0.0043 (0.0045)\n",
      "Finished training epoch 147\n"
     ]
    },
    {
     "name": "stderr",
     "output_type": "stream",
     "text": [
      "/home/konrad/.local/lib/python3.10/site-packages/skimage/_shared/utils.py:394: UserWarning: Color data out of range: Z < 0 in 305 pixels\n",
      "  return func(*args, **kwargs)\n",
      "/home/konrad/.local/lib/python3.10/site-packages/skimage/_shared/utils.py:394: UserWarning: Color data out of range: Z < 0 in 460 pixels\n",
      "  return func(*args, **kwargs)\n",
      "/home/konrad/.local/lib/python3.10/site-packages/skimage/_shared/utils.py:394: UserWarning: Color data out of range: Z < 0 in 237 pixels\n",
      "  return func(*args, **kwargs)\n",
      "/home/konrad/.local/lib/python3.10/site-packages/skimage/_shared/utils.py:394: UserWarning: Color data out of range: Z < 0 in 206 pixels\n",
      "  return func(*args, **kwargs)\n",
      "/home/konrad/.local/lib/python3.10/site-packages/skimage/_shared/utils.py:394: UserWarning: Color data out of range: Z < 0 in 852 pixels\n",
      "  return func(*args, **kwargs)\n",
      "/home/konrad/.local/lib/python3.10/site-packages/skimage/_shared/utils.py:394: UserWarning: Color data out of range: Z < 0 in 306 pixels\n",
      "  return func(*args, **kwargs)\n"
     ]
    },
    {
     "name": "stdout",
     "output_type": "stream",
     "text": [
      "Validate: Loss 0.0114 (0.0112)\t\n",
      "Finished validation.\n",
      "Starting training epoch 148\n",
      "Epoch: 148, Loss 0.0048 (0.0045)\n",
      "Finished training epoch 148\n"
     ]
    },
    {
     "name": "stderr",
     "output_type": "stream",
     "text": [
      "/home/konrad/.local/lib/python3.10/site-packages/skimage/_shared/utils.py:394: UserWarning: Color data out of range: Z < 0 in 774 pixels\n",
      "  return func(*args, **kwargs)\n",
      "/home/konrad/.local/lib/python3.10/site-packages/skimage/_shared/utils.py:394: UserWarning: Color data out of range: Z < 0 in 826 pixels\n",
      "  return func(*args, **kwargs)\n",
      "/home/konrad/.local/lib/python3.10/site-packages/skimage/_shared/utils.py:394: UserWarning: Color data out of range: Z < 0 in 475 pixels\n",
      "  return func(*args, **kwargs)\n",
      "/home/konrad/.local/lib/python3.10/site-packages/skimage/_shared/utils.py:394: UserWarning: Color data out of range: Z < 0 in 489 pixels\n",
      "  return func(*args, **kwargs)\n",
      "/home/konrad/.local/lib/python3.10/site-packages/skimage/_shared/utils.py:394: UserWarning: Color data out of range: Z < 0 in 1276 pixels\n",
      "  return func(*args, **kwargs)\n",
      "/home/konrad/.local/lib/python3.10/site-packages/skimage/_shared/utils.py:394: UserWarning: Color data out of range: Z < 0 in 925 pixels\n",
      "  return func(*args, **kwargs)\n",
      "/home/konrad/.local/lib/python3.10/site-packages/skimage/_shared/utils.py:394: UserWarning: Color data out of range: Z < 0 in 505 pixels\n",
      "  return func(*args, **kwargs)\n"
     ]
    },
    {
     "name": "stdout",
     "output_type": "stream",
     "text": [
      "Validate: Loss 0.0150 (0.0142)\t\n",
      "Finished validation.\n",
      "Starting training epoch 149\n",
      "Epoch: 149, Loss 0.0045 (0.0045)\n",
      "Finished training epoch 149\n"
     ]
    },
    {
     "name": "stderr",
     "output_type": "stream",
     "text": [
      "/home/konrad/.local/lib/python3.10/site-packages/skimage/_shared/utils.py:394: UserWarning: Color data out of range: Z < 0 in 582 pixels\n",
      "  return func(*args, **kwargs)\n",
      "/home/konrad/.local/lib/python3.10/site-packages/skimage/_shared/utils.py:394: UserWarning: Color data out of range: Z < 0 in 549 pixels\n",
      "  return func(*args, **kwargs)\n",
      "/home/konrad/.local/lib/python3.10/site-packages/skimage/_shared/utils.py:394: UserWarning: Color data out of range: Z < 0 in 372 pixels\n",
      "  return func(*args, **kwargs)\n",
      "/home/konrad/.local/lib/python3.10/site-packages/skimage/_shared/utils.py:394: UserWarning: Color data out of range: Z < 0 in 311 pixels\n",
      "  return func(*args, **kwargs)\n",
      "/home/konrad/.local/lib/python3.10/site-packages/skimage/_shared/utils.py:394: UserWarning: Color data out of range: Z < 0 in 1042 pixels\n",
      "  return func(*args, **kwargs)\n",
      "/home/konrad/.local/lib/python3.10/site-packages/skimage/_shared/utils.py:394: UserWarning: Color data out of range: Z < 0 in 804 pixels\n",
      "  return func(*args, **kwargs)\n",
      "/home/konrad/.local/lib/python3.10/site-packages/skimage/_shared/utils.py:394: UserWarning: Color data out of range: Z < 0 in 371 pixels\n",
      "  return func(*args, **kwargs)\n"
     ]
    },
    {
     "name": "stdout",
     "output_type": "stream",
     "text": [
      "Validate: Loss 0.0144 (0.0138)\t\n",
      "Finished validation.\n",
      "Starting training epoch 150\n",
      "Epoch: 150, Loss 0.0044 (0.0045)\n",
      "Finished training epoch 150\n"
     ]
    },
    {
     "name": "stderr",
     "output_type": "stream",
     "text": [
      "/home/konrad/.local/lib/python3.10/site-packages/skimage/_shared/utils.py:394: UserWarning: Color data out of range: Z < 0 in 983 pixels\n",
      "  return func(*args, **kwargs)\n",
      "/home/konrad/.local/lib/python3.10/site-packages/skimage/_shared/utils.py:394: UserWarning: Color data out of range: Z < 0 in 1146 pixels\n",
      "  return func(*args, **kwargs)\n",
      "/home/konrad/.local/lib/python3.10/site-packages/skimage/_shared/utils.py:394: UserWarning: Color data out of range: Z < 0 in 1192 pixels\n",
      "  return func(*args, **kwargs)\n",
      "/home/konrad/.local/lib/python3.10/site-packages/skimage/_shared/utils.py:394: UserWarning: Color data out of range: Z < 0 in 957 pixels\n",
      "  return func(*args, **kwargs)\n",
      "/home/konrad/.local/lib/python3.10/site-packages/skimage/_shared/utils.py:394: UserWarning: Color data out of range: Z < 0 in 1187 pixels\n",
      "  return func(*args, **kwargs)\n",
      "/home/konrad/.local/lib/python3.10/site-packages/skimage/_shared/utils.py:394: UserWarning: Color data out of range: Z < 0 in 1394 pixels\n",
      "  return func(*args, **kwargs)\n",
      "/home/konrad/.local/lib/python3.10/site-packages/skimage/_shared/utils.py:394: UserWarning: Color data out of range: Z < 0 in 1119 pixels\n",
      "  return func(*args, **kwargs)\n",
      "/home/konrad/.local/lib/python3.10/site-packages/skimage/_shared/utils.py:394: UserWarning: Color data out of range: Z < 0 in 1327 pixels\n",
      "  return func(*args, **kwargs)\n",
      "/home/konrad/.local/lib/python3.10/site-packages/skimage/_shared/utils.py:394: UserWarning: Color data out of range: Z < 0 in 981 pixels\n",
      "  return func(*args, **kwargs)\n"
     ]
    },
    {
     "name": "stdout",
     "output_type": "stream",
     "text": [
      "Validate: Loss 0.0229 (0.0213)\t\n",
      "Finished validation.\n",
      "Starting training epoch 151\n",
      "Epoch: 151, Loss 0.0045 (0.0044)\n",
      "Finished training epoch 151\n"
     ]
    },
    {
     "name": "stderr",
     "output_type": "stream",
     "text": [
      "/home/konrad/.local/lib/python3.10/site-packages/skimage/_shared/utils.py:394: UserWarning: Color data out of range: Z < 0 in 662 pixels\n",
      "  return func(*args, **kwargs)\n",
      "/home/konrad/.local/lib/python3.10/site-packages/skimage/_shared/utils.py:394: UserWarning: Color data out of range: Z < 0 in 609 pixels\n",
      "  return func(*args, **kwargs)\n",
      "/home/konrad/.local/lib/python3.10/site-packages/skimage/_shared/utils.py:394: UserWarning: Color data out of range: Z < 0 in 898 pixels\n",
      "  return func(*args, **kwargs)\n",
      "/home/konrad/.local/lib/python3.10/site-packages/skimage/_shared/utils.py:394: UserWarning: Color data out of range: Z < 0 in 667 pixels\n",
      "  return func(*args, **kwargs)\n",
      "/home/konrad/.local/lib/python3.10/site-packages/skimage/_shared/utils.py:394: UserWarning: Color data out of range: Z < 0 in 383 pixels\n",
      "  return func(*args, **kwargs)\n"
     ]
    },
    {
     "name": "stdout",
     "output_type": "stream",
     "text": [
      "Validate: Loss 0.0138 (0.0131)\t\n",
      "Finished validation.\n",
      "Starting training epoch 152\n",
      "Epoch: 152, Loss 0.0048 (0.0044)\n",
      "Finished training epoch 152\n"
     ]
    },
    {
     "name": "stderr",
     "output_type": "stream",
     "text": [
      "/home/konrad/.local/lib/python3.10/site-packages/skimage/_shared/utils.py:394: UserWarning: Color data out of range: Z < 0 in 238 pixels\n",
      "  return func(*args, **kwargs)\n"
     ]
    },
    {
     "name": "stdout",
     "output_type": "stream",
     "text": [
      "Validate: Loss 0.0133 (0.0130)\t\n",
      "Finished validation.\n",
      "Starting training epoch 153\n",
      "Epoch: 153, Loss 0.0043 (0.0044)\n",
      "Finished training epoch 153\n"
     ]
    },
    {
     "name": "stderr",
     "output_type": "stream",
     "text": [
      "/home/konrad/.local/lib/python3.10/site-packages/skimage/_shared/utils.py:394: UserWarning: Color data out of range: Z < 0 in 578 pixels\n",
      "  return func(*args, **kwargs)\n",
      "/home/konrad/.local/lib/python3.10/site-packages/skimage/_shared/utils.py:394: UserWarning: Color data out of range: Z < 0 in 515 pixels\n",
      "  return func(*args, **kwargs)\n",
      "/home/konrad/.local/lib/python3.10/site-packages/skimage/_shared/utils.py:394: UserWarning: Color data out of range: Z < 0 in 384 pixels\n",
      "  return func(*args, **kwargs)\n",
      "/home/konrad/.local/lib/python3.10/site-packages/skimage/_shared/utils.py:394: UserWarning: Color data out of range: Z < 0 in 339 pixels\n",
      "  return func(*args, **kwargs)\n",
      "/home/konrad/.local/lib/python3.10/site-packages/skimage/_shared/utils.py:394: UserWarning: Color data out of range: Z < 0 in 938 pixels\n",
      "  return func(*args, **kwargs)\n",
      "/home/konrad/.local/lib/python3.10/site-packages/skimage/_shared/utils.py:394: UserWarning: Color data out of range: Z < 0 in 182 pixels\n",
      "  return func(*args, **kwargs)\n"
     ]
    },
    {
     "name": "stdout",
     "output_type": "stream",
     "text": [
      "Validate: Loss 0.0133 (0.0128)\t\n",
      "Finished validation.\n",
      "Starting training epoch 154\n",
      "Epoch: 154, Loss 0.0039 (0.0044)\n",
      "Finished training epoch 154\n"
     ]
    },
    {
     "name": "stderr",
     "output_type": "stream",
     "text": [
      "/home/konrad/.local/lib/python3.10/site-packages/skimage/_shared/utils.py:394: UserWarning: Color data out of range: Z < 0 in 426 pixels\n",
      "  return func(*args, **kwargs)\n",
      "/home/konrad/.local/lib/python3.10/site-packages/skimage/_shared/utils.py:394: UserWarning: Color data out of range: Z < 0 in 212 pixels\n",
      "  return func(*args, **kwargs)\n"
     ]
    },
    {
     "name": "stdout",
     "output_type": "stream",
     "text": [
      "Validate: Loss 0.0114 (0.0114)\t\n",
      "Finished validation.\n",
      "Starting training epoch 155\n",
      "Epoch: 155, Loss 0.0047 (0.0044)\n",
      "Finished training epoch 155\n"
     ]
    },
    {
     "name": "stderr",
     "output_type": "stream",
     "text": [
      "/home/konrad/.local/lib/python3.10/site-packages/skimage/_shared/utils.py:394: UserWarning: Color data out of range: Z < 0 in 1176 pixels\n",
      "  return func(*args, **kwargs)\n",
      "/home/konrad/.local/lib/python3.10/site-packages/skimage/_shared/utils.py:394: UserWarning: Color data out of range: Z < 0 in 1664 pixels\n",
      "  return func(*args, **kwargs)\n",
      "/home/konrad/.local/lib/python3.10/site-packages/skimage/_shared/utils.py:394: UserWarning: Color data out of range: Z < 0 in 2040 pixels\n",
      "  return func(*args, **kwargs)\n",
      "/home/konrad/.local/lib/python3.10/site-packages/skimage/_shared/utils.py:394: UserWarning: Color data out of range: Z < 0 in 1142 pixels\n",
      "  return func(*args, **kwargs)\n",
      "/home/konrad/.local/lib/python3.10/site-packages/skimage/_shared/utils.py:394: UserWarning: Color data out of range: Z < 0 in 1873 pixels\n",
      "  return func(*args, **kwargs)\n",
      "/home/konrad/.local/lib/python3.10/site-packages/skimage/_shared/utils.py:394: UserWarning: Color data out of range: Z < 0 in 1596 pixels\n",
      "  return func(*args, **kwargs)\n",
      "/home/konrad/.local/lib/python3.10/site-packages/skimage/_shared/utils.py:394: UserWarning: Color data out of range: Z < 0 in 1634 pixels\n",
      "  return func(*args, **kwargs)\n",
      "/home/konrad/.local/lib/python3.10/site-packages/skimage/_shared/utils.py:394: UserWarning: Color data out of range: Z < 0 in 1388 pixels\n",
      "  return func(*args, **kwargs)\n",
      "/home/konrad/.local/lib/python3.10/site-packages/skimage/_shared/utils.py:394: UserWarning: Color data out of range: Z < 0 in 1054 pixels\n",
      "  return func(*args, **kwargs)\n"
     ]
    },
    {
     "name": "stdout",
     "output_type": "stream",
     "text": [
      "Validate: Loss 0.0272 (0.0253)\t\n",
      "Finished validation.\n",
      "Starting training epoch 156\n",
      "Epoch: 156, Loss 0.0049 (0.0044)\n",
      "Finished training epoch 156\n"
     ]
    },
    {
     "name": "stderr",
     "output_type": "stream",
     "text": [
      "/home/konrad/.local/lib/python3.10/site-packages/skimage/_shared/utils.py:394: UserWarning: Color data out of range: Z < 0 in 1126 pixels\n",
      "  return func(*args, **kwargs)\n",
      "/home/konrad/.local/lib/python3.10/site-packages/skimage/_shared/utils.py:394: UserWarning: Color data out of range: Z < 0 in 746 pixels\n",
      "  return func(*args, **kwargs)\n",
      "/home/konrad/.local/lib/python3.10/site-packages/skimage/_shared/utils.py:394: UserWarning: Color data out of range: Z < 0 in 1001 pixels\n",
      "  return func(*args, **kwargs)\n",
      "/home/konrad/.local/lib/python3.10/site-packages/skimage/_shared/utils.py:394: UserWarning: Color data out of range: Z < 0 in 1179 pixels\n",
      "  return func(*args, **kwargs)\n",
      "/home/konrad/.local/lib/python3.10/site-packages/skimage/_shared/utils.py:394: UserWarning: Color data out of range: Z < 0 in 1308 pixels\n",
      "  return func(*args, **kwargs)\n",
      "/home/konrad/.local/lib/python3.10/site-packages/skimage/_shared/utils.py:394: UserWarning: Color data out of range: Z < 0 in 1078 pixels\n",
      "  return func(*args, **kwargs)\n"
     ]
    },
    {
     "name": "stdout",
     "output_type": "stream",
     "text": [
      "Validate: Loss 0.0196 (0.0183)\t\n",
      "Finished validation.\n",
      "Starting training epoch 157\n",
      "Epoch: 157, Loss 0.0051 (0.0044)\n",
      "Finished training epoch 157\n",
      "Validate: Loss 0.0090 (0.0092)\t\n",
      "Finished validation.\n",
      "Starting training epoch 158\n",
      "Epoch: 158, Loss 0.0047 (0.0043)\n",
      "Finished training epoch 158\n"
     ]
    },
    {
     "name": "stderr",
     "output_type": "stream",
     "text": [
      "/home/konrad/.local/lib/python3.10/site-packages/skimage/_shared/utils.py:394: UserWarning: Color data out of range: Z < 0 in 1705 pixels\n",
      "  return func(*args, **kwargs)\n",
      "/home/konrad/.local/lib/python3.10/site-packages/skimage/_shared/utils.py:394: UserWarning: Color data out of range: Z < 0 in 1063 pixels\n",
      "  return func(*args, **kwargs)\n",
      "/home/konrad/.local/lib/python3.10/site-packages/skimage/_shared/utils.py:394: UserWarning: Color data out of range: Z < 0 in 1613 pixels\n",
      "  return func(*args, **kwargs)\n",
      "/home/konrad/.local/lib/python3.10/site-packages/skimage/_shared/utils.py:394: UserWarning: Color data out of range: Z < 0 in 1400 pixels\n",
      "  return func(*args, **kwargs)\n",
      "/home/konrad/.local/lib/python3.10/site-packages/skimage/_shared/utils.py:394: UserWarning: Color data out of range: Z < 0 in 1235 pixels\n",
      "  return func(*args, **kwargs)\n",
      "/home/konrad/.local/lib/python3.10/site-packages/skimage/_shared/utils.py:394: UserWarning: Color data out of range: Z < 0 in 1297 pixels\n",
      "  return func(*args, **kwargs)\n",
      "/home/konrad/.local/lib/python3.10/site-packages/skimage/_shared/utils.py:394: UserWarning: Color data out of range: Z < 0 in 1099 pixels\n",
      "  return func(*args, **kwargs)\n"
     ]
    },
    {
     "name": "stdout",
     "output_type": "stream",
     "text": [
      "Validate: Loss 0.0216 (0.0204)\t\n",
      "Finished validation.\n",
      "Starting training epoch 159\n",
      "Epoch: 159, Loss 0.0046 (0.0044)\n",
      "Finished training epoch 159\n"
     ]
    },
    {
     "name": "stderr",
     "output_type": "stream",
     "text": [
      "/home/konrad/.local/lib/python3.10/site-packages/skimage/_shared/utils.py:394: UserWarning: Color data out of range: Z < 0 in 397 pixels\n",
      "  return func(*args, **kwargs)\n",
      "/home/konrad/.local/lib/python3.10/site-packages/skimage/_shared/utils.py:394: UserWarning: Color data out of range: Z < 0 in 98 pixels\n",
      "  return func(*args, **kwargs)\n",
      "/home/konrad/.local/lib/python3.10/site-packages/skimage/_shared/utils.py:394: UserWarning: Color data out of range: Z < 0 in 742 pixels\n",
      "  return func(*args, **kwargs)\n",
      "/home/konrad/.local/lib/python3.10/site-packages/skimage/_shared/utils.py:394: UserWarning: Color data out of range: Z < 0 in 507 pixels\n",
      "  return func(*args, **kwargs)\n"
     ]
    },
    {
     "name": "stdout",
     "output_type": "stream",
     "text": [
      "Validate: Loss 0.0139 (0.0137)\t\n",
      "Finished validation.\n",
      "Starting training epoch 160\n",
      "Epoch: 160, Loss 0.0044 (0.0044)\n",
      "Finished training epoch 160\n"
     ]
    },
    {
     "name": "stderr",
     "output_type": "stream",
     "text": [
      "/home/konrad/.local/lib/python3.10/site-packages/skimage/_shared/utils.py:394: UserWarning: Color data out of range: Z < 0 in 681 pixels\n",
      "  return func(*args, **kwargs)\n",
      "/home/konrad/.local/lib/python3.10/site-packages/skimage/_shared/utils.py:394: UserWarning: Color data out of range: Z < 0 in 1172 pixels\n",
      "  return func(*args, **kwargs)\n",
      "/home/konrad/.local/lib/python3.10/site-packages/skimage/_shared/utils.py:394: UserWarning: Color data out of range: Z < 0 in 1564 pixels\n",
      "  return func(*args, **kwargs)\n",
      "/home/konrad/.local/lib/python3.10/site-packages/skimage/_shared/utils.py:394: UserWarning: Color data out of range: Z < 0 in 1356 pixels\n",
      "  return func(*args, **kwargs)\n",
      "/home/konrad/.local/lib/python3.10/site-packages/skimage/_shared/utils.py:394: UserWarning: Color data out of range: Z < 0 in 604 pixels\n",
      "  return func(*args, **kwargs)\n",
      "/home/konrad/.local/lib/python3.10/site-packages/skimage/_shared/utils.py:394: UserWarning: Color data out of range: Z < 0 in 571 pixels\n",
      "  return func(*args, **kwargs)\n"
     ]
    },
    {
     "name": "stdout",
     "output_type": "stream",
     "text": [
      "Validate: Loss 0.0134 (0.0133)\t\n",
      "Finished validation.\n",
      "Starting training epoch 161\n",
      "Epoch: 161, Loss 0.0049 (0.0043)\n",
      "Finished training epoch 161\n"
     ]
    },
    {
     "name": "stderr",
     "output_type": "stream",
     "text": [
      "/home/konrad/.local/lib/python3.10/site-packages/skimage/_shared/utils.py:394: UserWarning: Color data out of range: Z < 0 in 977 pixels\n",
      "  return func(*args, **kwargs)\n",
      "/home/konrad/.local/lib/python3.10/site-packages/skimage/_shared/utils.py:394: UserWarning: Color data out of range: Z < 0 in 998 pixels\n",
      "  return func(*args, **kwargs)\n",
      "/home/konrad/.local/lib/python3.10/site-packages/skimage/_shared/utils.py:394: UserWarning: Color data out of range: Z < 0 in 263 pixels\n",
      "  return func(*args, **kwargs)\n",
      "/home/konrad/.local/lib/python3.10/site-packages/skimage/_shared/utils.py:394: UserWarning: Color data out of range: Z < 0 in 739 pixels\n",
      "  return func(*args, **kwargs)\n",
      "/home/konrad/.local/lib/python3.10/site-packages/skimage/_shared/utils.py:394: UserWarning: Color data out of range: Z < 0 in 610 pixels\n",
      "  return func(*args, **kwargs)\n",
      "/home/konrad/.local/lib/python3.10/site-packages/skimage/_shared/utils.py:394: UserWarning: Color data out of range: Z < 0 in 1441 pixels\n",
      "  return func(*args, **kwargs)\n",
      "/home/konrad/.local/lib/python3.10/site-packages/skimage/_shared/utils.py:394: UserWarning: Color data out of range: Z < 0 in 1331 pixels\n",
      "  return func(*args, **kwargs)\n",
      "/home/konrad/.local/lib/python3.10/site-packages/skimage/_shared/utils.py:394: UserWarning: Color data out of range: Z < 0 in 1009 pixels\n",
      "  return func(*args, **kwargs)\n",
      "/home/konrad/.local/lib/python3.10/site-packages/skimage/_shared/utils.py:394: UserWarning: Color data out of range: Z < 0 in 654 pixels\n",
      "  return func(*args, **kwargs)\n"
     ]
    },
    {
     "name": "stdout",
     "output_type": "stream",
     "text": [
      "Validate: Loss 0.0201 (0.0184)\t\n",
      "Finished validation.\n",
      "Starting training epoch 162\n",
      "Epoch: 162, Loss 0.0049 (0.0043)\n",
      "Finished training epoch 162\n"
     ]
    },
    {
     "name": "stderr",
     "output_type": "stream",
     "text": [
      "/home/konrad/.local/lib/python3.10/site-packages/skimage/_shared/utils.py:394: UserWarning: Color data out of range: Z < 0 in 1045 pixels\n",
      "  return func(*args, **kwargs)\n",
      "/home/konrad/.local/lib/python3.10/site-packages/skimage/_shared/utils.py:394: UserWarning: Color data out of range: Z < 0 in 832 pixels\n",
      "  return func(*args, **kwargs)\n",
      "/home/konrad/.local/lib/python3.10/site-packages/skimage/_shared/utils.py:394: UserWarning: Color data out of range: Z < 0 in 552 pixels\n",
      "  return func(*args, **kwargs)\n",
      "/home/konrad/.local/lib/python3.10/site-packages/skimage/_shared/utils.py:394: UserWarning: Color data out of range: Z < 0 in 647 pixels\n",
      "  return func(*args, **kwargs)\n",
      "/home/konrad/.local/lib/python3.10/site-packages/skimage/_shared/utils.py:394: UserWarning: Color data out of range: Z < 0 in 1170 pixels\n",
      "  return func(*args, **kwargs)\n",
      "/home/konrad/.local/lib/python3.10/site-packages/skimage/_shared/utils.py:394: UserWarning: Color data out of range: Z < 0 in 1056 pixels\n",
      "  return func(*args, **kwargs)\n",
      "/home/konrad/.local/lib/python3.10/site-packages/skimage/_shared/utils.py:394: UserWarning: Color data out of range: Z < 0 in 800 pixels\n",
      "  return func(*args, **kwargs)\n",
      "/home/konrad/.local/lib/python3.10/site-packages/skimage/_shared/utils.py:394: UserWarning: Color data out of range: Z < 0 in 553 pixels\n",
      "  return func(*args, **kwargs)\n"
     ]
    },
    {
     "name": "stdout",
     "output_type": "stream",
     "text": [
      "Validate: Loss 0.0161 (0.0151)\t\n",
      "Finished validation.\n",
      "Starting training epoch 163\n",
      "Epoch: 163, Loss 0.0045 (0.0043)\n",
      "Finished training epoch 163\n"
     ]
    },
    {
     "name": "stderr",
     "output_type": "stream",
     "text": [
      "/home/konrad/.local/lib/python3.10/site-packages/skimage/_shared/utils.py:394: UserWarning: Color data out of range: Z < 0 in 431 pixels\n",
      "  return func(*args, **kwargs)\n",
      "/home/konrad/.local/lib/python3.10/site-packages/skimage/_shared/utils.py:394: UserWarning: Color data out of range: Z < 0 in 482 pixels\n",
      "  return func(*args, **kwargs)\n",
      "/home/konrad/.local/lib/python3.10/site-packages/skimage/_shared/utils.py:394: UserWarning: Color data out of range: Z < 0 in 715 pixels\n",
      "  return func(*args, **kwargs)\n",
      "/home/konrad/.local/lib/python3.10/site-packages/skimage/_shared/utils.py:394: UserWarning: Color data out of range: Z < 0 in 532 pixels\n",
      "  return func(*args, **kwargs)\n"
     ]
    },
    {
     "name": "stdout",
     "output_type": "stream",
     "text": [
      "Validate: Loss 0.0151 (0.0150)\t\n",
      "Finished validation.\n",
      "Starting training epoch 164\n",
      "Epoch: 164, Loss 0.0039 (0.0043)\n",
      "Finished training epoch 164\n"
     ]
    },
    {
     "name": "stderr",
     "output_type": "stream",
     "text": [
      "/home/konrad/.local/lib/python3.10/site-packages/skimage/_shared/utils.py:394: UserWarning: Color data out of range: Z < 0 in 719 pixels\n",
      "  return func(*args, **kwargs)\n",
      "/home/konrad/.local/lib/python3.10/site-packages/skimage/_shared/utils.py:394: UserWarning: Color data out of range: Z < 0 in 99 pixels\n",
      "  return func(*args, **kwargs)\n",
      "/home/konrad/.local/lib/python3.10/site-packages/skimage/_shared/utils.py:394: UserWarning: Color data out of range: Z < 0 in 1150 pixels\n",
      "  return func(*args, **kwargs)\n",
      "/home/konrad/.local/lib/python3.10/site-packages/skimage/_shared/utils.py:394: UserWarning: Color data out of range: Z < 0 in 459 pixels\n",
      "  return func(*args, **kwargs)\n"
     ]
    },
    {
     "name": "stdout",
     "output_type": "stream",
     "text": [
      "Validate: Loss 0.0167 (0.0162)\t\n",
      "Finished validation.\n",
      "Starting training epoch 165\n",
      "Epoch: 165, Loss 0.0043 (0.0043)\n",
      "Finished training epoch 165\n"
     ]
    },
    {
     "name": "stderr",
     "output_type": "stream",
     "text": [
      "/home/konrad/.local/lib/python3.10/site-packages/skimage/_shared/utils.py:394: UserWarning: Color data out of range: Z < 0 in 195 pixels\n",
      "  return func(*args, **kwargs)\n",
      "/home/konrad/.local/lib/python3.10/site-packages/skimage/_shared/utils.py:394: UserWarning: Color data out of range: Z < 0 in 126 pixels\n",
      "  return func(*args, **kwargs)\n",
      "/home/konrad/.local/lib/python3.10/site-packages/skimage/_shared/utils.py:394: UserWarning: Color data out of range: Z < 0 in 868 pixels\n",
      "  return func(*args, **kwargs)\n"
     ]
    },
    {
     "name": "stdout",
     "output_type": "stream",
     "text": [
      "Validate: Loss 0.0128 (0.0126)\t\n",
      "Finished validation.\n",
      "Starting training epoch 166\n",
      "Epoch: 166, Loss 0.0044 (0.0043)\n",
      "Finished training epoch 166\n"
     ]
    },
    {
     "name": "stderr",
     "output_type": "stream",
     "text": [
      "/home/konrad/.local/lib/python3.10/site-packages/skimage/_shared/utils.py:394: UserWarning: Color data out of range: Z < 0 in 1241 pixels\n",
      "  return func(*args, **kwargs)\n",
      "/home/konrad/.local/lib/python3.10/site-packages/skimage/_shared/utils.py:394: UserWarning: Color data out of range: Z < 0 in 1427 pixels\n",
      "  return func(*args, **kwargs)\n",
      "/home/konrad/.local/lib/python3.10/site-packages/skimage/_shared/utils.py:394: UserWarning: Color data out of range: Z < 0 in 260 pixels\n",
      "  return func(*args, **kwargs)\n",
      "/home/konrad/.local/lib/python3.10/site-packages/skimage/_shared/utils.py:394: UserWarning: Color data out of range: Z < 0 in 955 pixels\n",
      "  return func(*args, **kwargs)\n",
      "/home/konrad/.local/lib/python3.10/site-packages/skimage/_shared/utils.py:394: UserWarning: Color data out of range: Z < 0 in 1411 pixels\n",
      "  return func(*args, **kwargs)\n",
      "/home/konrad/.local/lib/python3.10/site-packages/skimage/_shared/utils.py:394: UserWarning: Color data out of range: Z < 0 in 1364 pixels\n",
      "  return func(*args, **kwargs)\n",
      "/home/konrad/.local/lib/python3.10/site-packages/skimage/_shared/utils.py:394: UserWarning: Color data out of range: Z < 0 in 1471 pixels\n",
      "  return func(*args, **kwargs)\n",
      "/home/konrad/.local/lib/python3.10/site-packages/skimage/_shared/utils.py:394: UserWarning: Color data out of range: Z < 0 in 1125 pixels\n",
      "  return func(*args, **kwargs)\n",
      "/home/konrad/.local/lib/python3.10/site-packages/skimage/_shared/utils.py:394: UserWarning: Color data out of range: Z < 0 in 848 pixels\n",
      "  return func(*args, **kwargs)\n"
     ]
    },
    {
     "name": "stdout",
     "output_type": "stream",
     "text": [
      "Validate: Loss 0.0211 (0.0198)\t\n",
      "Finished validation.\n",
      "Starting training epoch 167\n",
      "Epoch: 167, Loss 0.0043 (0.0043)\n",
      "Finished training epoch 167\n"
     ]
    },
    {
     "name": "stderr",
     "output_type": "stream",
     "text": [
      "/home/konrad/.local/lib/python3.10/site-packages/skimage/_shared/utils.py:394: UserWarning: Color data out of range: Z < 0 in 468 pixels\n",
      "  return func(*args, **kwargs)\n",
      "/home/konrad/.local/lib/python3.10/site-packages/skimage/_shared/utils.py:394: UserWarning: Color data out of range: Z < 0 in 344 pixels\n",
      "  return func(*args, **kwargs)\n",
      "/home/konrad/.local/lib/python3.10/site-packages/skimage/_shared/utils.py:394: UserWarning: Color data out of range: Z < 0 in 1197 pixels\n",
      "  return func(*args, **kwargs)\n",
      "/home/konrad/.local/lib/python3.10/site-packages/skimage/_shared/utils.py:394: UserWarning: Color data out of range: Z < 0 in 268 pixels\n",
      "  return func(*args, **kwargs)\n"
     ]
    },
    {
     "name": "stdout",
     "output_type": "stream",
     "text": [
      "Validate: Loss 0.0137 (0.0130)\t\n",
      "Finished validation.\n",
      "Starting training epoch 168\n",
      "Epoch: 168, Loss 0.0047 (0.0042)\n",
      "Finished training epoch 168\n",
      "Validate: Loss 0.0098 (0.0096)\t\n",
      "Finished validation.\n",
      "Starting training epoch 169\n",
      "Epoch: 169, Loss 0.0045 (0.0043)\n",
      "Finished training epoch 169\n"
     ]
    },
    {
     "name": "stderr",
     "output_type": "stream",
     "text": [
      "/home/konrad/.local/lib/python3.10/site-packages/skimage/_shared/utils.py:394: UserWarning: Color data out of range: Z < 0 in 757 pixels\n",
      "  return func(*args, **kwargs)\n",
      "/home/konrad/.local/lib/python3.10/site-packages/skimage/_shared/utils.py:394: UserWarning: Color data out of range: Z < 0 in 948 pixels\n",
      "  return func(*args, **kwargs)\n",
      "/home/konrad/.local/lib/python3.10/site-packages/skimage/_shared/utils.py:394: UserWarning: Color data out of range: Z < 0 in 839 pixels\n",
      "  return func(*args, **kwargs)\n",
      "/home/konrad/.local/lib/python3.10/site-packages/skimage/_shared/utils.py:394: UserWarning: Color data out of range: Z < 0 in 180 pixels\n",
      "  return func(*args, **kwargs)\n",
      "/home/konrad/.local/lib/python3.10/site-packages/skimage/_shared/utils.py:394: UserWarning: Color data out of range: Z < 0 in 564 pixels\n",
      "  return func(*args, **kwargs)\n",
      "/home/konrad/.local/lib/python3.10/site-packages/skimage/_shared/utils.py:394: UserWarning: Color data out of range: Z < 0 in 721 pixels\n",
      "  return func(*args, **kwargs)\n"
     ]
    },
    {
     "name": "stdout",
     "output_type": "stream",
     "text": [
      "Validate: Loss 0.0172 (0.0158)\t\n",
      "Finished validation.\n",
      "Starting training epoch 170\n",
      "Epoch: 170, Loss 0.0039 (0.0043)\n",
      "Finished training epoch 170\n",
      "Validate: Loss 0.0085 (0.0091)\t\n",
      "Finished validation.\n",
      "Starting training epoch 171\n",
      "Epoch: 171, Loss 0.0046 (0.0043)\n",
      "Finished training epoch 171\n",
      "Validate: Loss 0.0090 (0.0090)\t\n",
      "Finished validation.\n",
      "Starting training epoch 172\n",
      "Epoch: 172, Loss 0.0050 (0.0042)\n",
      "Finished training epoch 172\n"
     ]
    },
    {
     "name": "stderr",
     "output_type": "stream",
     "text": [
      "/home/konrad/.local/lib/python3.10/site-packages/skimage/_shared/utils.py:394: UserWarning: Color data out of range: Z < 0 in 592 pixels\n",
      "  return func(*args, **kwargs)\n",
      "/home/konrad/.local/lib/python3.10/site-packages/skimage/_shared/utils.py:394: UserWarning: Color data out of range: Z < 0 in 188 pixels\n",
      "  return func(*args, **kwargs)\n",
      "/home/konrad/.local/lib/python3.10/site-packages/skimage/_shared/utils.py:394: UserWarning: Color data out of range: Z < 0 in 95 pixels\n",
      "  return func(*args, **kwargs)\n",
      "/home/konrad/.local/lib/python3.10/site-packages/skimage/_shared/utils.py:394: UserWarning: Color data out of range: Z < 0 in 323 pixels\n",
      "  return func(*args, **kwargs)\n"
     ]
    },
    {
     "name": "stdout",
     "output_type": "stream",
     "text": [
      "Validate: Loss 0.0142 (0.0138)\t\n",
      "Finished validation.\n",
      "Starting training epoch 173\n",
      "Epoch: 173, Loss 0.0042 (0.0042)\n",
      "Finished training epoch 173\n"
     ]
    },
    {
     "name": "stderr",
     "output_type": "stream",
     "text": [
      "/home/konrad/.local/lib/python3.10/site-packages/skimage/_shared/utils.py:394: UserWarning: Color data out of range: Z < 0 in 233 pixels\n",
      "  return func(*args, **kwargs)\n",
      "/home/konrad/.local/lib/python3.10/site-packages/skimage/_shared/utils.py:394: UserWarning: Color data out of range: Z < 0 in 889 pixels\n",
      "  return func(*args, **kwargs)\n",
      "/home/konrad/.local/lib/python3.10/site-packages/skimage/_shared/utils.py:394: UserWarning: Color data out of range: Z < 0 in 498 pixels\n",
      "  return func(*args, **kwargs)\n",
      "/home/konrad/.local/lib/python3.10/site-packages/skimage/_shared/utils.py:394: UserWarning: Color data out of range: Z < 0 in 124 pixels\n",
      "  return func(*args, **kwargs)\n"
     ]
    },
    {
     "name": "stdout",
     "output_type": "stream",
     "text": [
      "Validate: Loss 0.0119 (0.0114)\t\n",
      "Finished validation.\n",
      "Starting training epoch 174\n",
      "Epoch: 174, Loss 0.0046 (0.0042)\n",
      "Finished training epoch 174\n"
     ]
    },
    {
     "name": "stderr",
     "output_type": "stream",
     "text": [
      "/home/konrad/.local/lib/python3.10/site-packages/skimage/_shared/utils.py:394: UserWarning: Color data out of range: Z < 0 in 762 pixels\n",
      "  return func(*args, **kwargs)\n",
      "/home/konrad/.local/lib/python3.10/site-packages/skimage/_shared/utils.py:394: UserWarning: Color data out of range: Z < 0 in 671 pixels\n",
      "  return func(*args, **kwargs)\n"
     ]
    },
    {
     "name": "stdout",
     "output_type": "stream",
     "text": [
      "Validate: Loss 0.0113 (0.0113)\t\n",
      "Finished validation.\n",
      "Starting training epoch 175\n",
      "Epoch: 175, Loss 0.0042 (0.0042)\n",
      "Finished training epoch 175\n"
     ]
    },
    {
     "name": "stderr",
     "output_type": "stream",
     "text": [
      "/home/konrad/.local/lib/python3.10/site-packages/skimage/_shared/utils.py:394: UserWarning: Color data out of range: Z < 0 in 292 pixels\n",
      "  return func(*args, **kwargs)\n",
      "/home/konrad/.local/lib/python3.10/site-packages/skimage/_shared/utils.py:394: UserWarning: Color data out of range: Z < 0 in 478 pixels\n",
      "  return func(*args, **kwargs)\n",
      "/home/konrad/.local/lib/python3.10/site-packages/skimage/_shared/utils.py:394: UserWarning: Color data out of range: Z < 0 in 416 pixels\n",
      "  return func(*args, **kwargs)\n",
      "/home/konrad/.local/lib/python3.10/site-packages/skimage/_shared/utils.py:394: UserWarning: Color data out of range: Z < 0 in 330 pixels\n",
      "  return func(*args, **kwargs)\n",
      "/home/konrad/.local/lib/python3.10/site-packages/skimage/_shared/utils.py:394: UserWarning: Color data out of range: Z < 0 in 530 pixels\n",
      "  return func(*args, **kwargs)\n",
      "/home/konrad/.local/lib/python3.10/site-packages/skimage/_shared/utils.py:394: UserWarning: Color data out of range: Z < 0 in 117 pixels\n",
      "  return func(*args, **kwargs)\n"
     ]
    },
    {
     "name": "stdout",
     "output_type": "stream",
     "text": [
      "Validate: Loss 0.0092 (0.0092)\t\n",
      "Finished validation.\n",
      "Starting training epoch 176\n",
      "Epoch: 176, Loss 0.0040 (0.0042)\n",
      "Finished training epoch 176\n"
     ]
    },
    {
     "name": "stderr",
     "output_type": "stream",
     "text": [
      "/home/konrad/.local/lib/python3.10/site-packages/skimage/_shared/utils.py:394: UserWarning: Color data out of range: Z < 0 in 678 pixels\n",
      "  return func(*args, **kwargs)\n",
      "/home/konrad/.local/lib/python3.10/site-packages/skimage/_shared/utils.py:394: UserWarning: Color data out of range: Z < 0 in 500 pixels\n",
      "  return func(*args, **kwargs)\n"
     ]
    },
    {
     "name": "stdout",
     "output_type": "stream",
     "text": [
      "Validate: Loss 0.0104 (0.0102)\t\n",
      "Finished validation.\n",
      "Starting training epoch 177\n",
      "Epoch: 177, Loss 0.0041 (0.0042)\n",
      "Finished training epoch 177\n"
     ]
    },
    {
     "name": "stderr",
     "output_type": "stream",
     "text": [
      "/home/konrad/.local/lib/python3.10/site-packages/skimage/_shared/utils.py:394: UserWarning: Color data out of range: Z < 0 in 698 pixels\n",
      "  return func(*args, **kwargs)\n",
      "/home/konrad/.local/lib/python3.10/site-packages/skimage/_shared/utils.py:394: UserWarning: Color data out of range: Z < 0 in 347 pixels\n",
      "  return func(*args, **kwargs)\n",
      "/home/konrad/.local/lib/python3.10/site-packages/skimage/_shared/utils.py:394: UserWarning: Color data out of range: Z < 0 in 926 pixels\n",
      "  return func(*args, **kwargs)\n",
      "/home/konrad/.local/lib/python3.10/site-packages/skimage/_shared/utils.py:394: UserWarning: Color data out of range: Z < 0 in 656 pixels\n",
      "  return func(*args, **kwargs)\n",
      "/home/konrad/.local/lib/python3.10/site-packages/skimage/_shared/utils.py:394: UserWarning: Color data out of range: Z < 0 in 146 pixels\n",
      "  return func(*args, **kwargs)\n"
     ]
    },
    {
     "name": "stdout",
     "output_type": "stream",
     "text": [
      "Validate: Loss 0.0158 (0.0150)\t\n",
      "Finished validation.\n",
      "Starting training epoch 178\n",
      "Epoch: 178, Loss 0.0042 (0.0041)\n",
      "Finished training epoch 178\n",
      "Validate: Loss 0.0082 (0.0088)\t\n",
      "Finished validation.\n",
      "Starting training epoch 179\n",
      "Epoch: 179, Loss 0.0041 (0.0041)\n",
      "Finished training epoch 179\n",
      "Validate: Loss 0.0097 (0.0096)\t\n",
      "Finished validation.\n",
      "Starting training epoch 180\n",
      "Epoch: 180, Loss 0.0046 (0.0042)\n",
      "Finished training epoch 180\n"
     ]
    },
    {
     "name": "stderr",
     "output_type": "stream",
     "text": [
      "/home/konrad/.local/lib/python3.10/site-packages/skimage/_shared/utils.py:394: UserWarning: Color data out of range: Z < 0 in 856 pixels\n",
      "  return func(*args, **kwargs)\n",
      "/home/konrad/.local/lib/python3.10/site-packages/skimage/_shared/utils.py:394: UserWarning: Color data out of range: Z < 0 in 1282 pixels\n",
      "  return func(*args, **kwargs)\n",
      "/home/konrad/.local/lib/python3.10/site-packages/skimage/_shared/utils.py:394: UserWarning: Color data out of range: Z < 0 in 413 pixels\n",
      "  return func(*args, **kwargs)\n",
      "/home/konrad/.local/lib/python3.10/site-packages/skimage/_shared/utils.py:394: UserWarning: Color data out of range: Z < 0 in 246 pixels\n",
      "  return func(*args, **kwargs)\n"
     ]
    },
    {
     "name": "stdout",
     "output_type": "stream",
     "text": [
      "Validate: Loss 0.0158 (0.0151)\t\n",
      "Finished validation.\n",
      "Starting training epoch 181\n",
      "Epoch: 181, Loss 0.0039 (0.0041)\n",
      "Finished training epoch 181\n"
     ]
    },
    {
     "name": "stderr",
     "output_type": "stream",
     "text": [
      "/home/konrad/.local/lib/python3.10/site-packages/skimage/_shared/utils.py:394: UserWarning: Color data out of range: Z < 0 in 695 pixels\n",
      "  return func(*args, **kwargs)\n",
      "/home/konrad/.local/lib/python3.10/site-packages/skimage/_shared/utils.py:394: UserWarning: Color data out of range: Z < 0 in 486 pixels\n",
      "  return func(*args, **kwargs)\n",
      "/home/konrad/.local/lib/python3.10/site-packages/skimage/_shared/utils.py:394: UserWarning: Color data out of range: Z < 0 in 861 pixels\n",
      "  return func(*args, **kwargs)\n",
      "/home/konrad/.local/lib/python3.10/site-packages/skimage/_shared/utils.py:394: UserWarning: Color data out of range: Z < 0 in 921 pixels\n",
      "  return func(*args, **kwargs)\n"
     ]
    },
    {
     "name": "stdout",
     "output_type": "stream",
     "text": [
      "Validate: Loss 0.0158 (0.0150)\t\n",
      "Finished validation.\n",
      "Starting training epoch 182\n",
      "Epoch: 182, Loss 0.0040 (0.0042)\n",
      "Finished training epoch 182\n"
     ]
    },
    {
     "name": "stderr",
     "output_type": "stream",
     "text": [
      "/home/konrad/.local/lib/python3.10/site-packages/skimage/_shared/utils.py:394: UserWarning: Color data out of range: Z < 0 in 100 pixels\n",
      "  return func(*args, **kwargs)\n"
     ]
    },
    {
     "name": "stdout",
     "output_type": "stream",
     "text": [
      "Validate: Loss 0.0112 (0.0110)\t\n",
      "Finished validation.\n",
      "Starting training epoch 183\n",
      "Epoch: 183, Loss 0.0040 (0.0041)\n",
      "Finished training epoch 183\n"
     ]
    },
    {
     "name": "stderr",
     "output_type": "stream",
     "text": [
      "/home/konrad/.local/lib/python3.10/site-packages/skimage/_shared/utils.py:394: UserWarning: Color data out of range: Z < 0 in 837 pixels\n",
      "  return func(*args, **kwargs)\n",
      "/home/konrad/.local/lib/python3.10/site-packages/skimage/_shared/utils.py:394: UserWarning: Color data out of range: Z < 0 in 771 pixels\n",
      "  return func(*args, **kwargs)\n",
      "/home/konrad/.local/lib/python3.10/site-packages/skimage/_shared/utils.py:394: UserWarning: Color data out of range: Z < 0 in 855 pixels\n",
      "  return func(*args, **kwargs)\n",
      "/home/konrad/.local/lib/python3.10/site-packages/skimage/_shared/utils.py:394: UserWarning: Color data out of range: Z < 0 in 595 pixels\n",
      "  return func(*args, **kwargs)\n",
      "/home/konrad/.local/lib/python3.10/site-packages/skimage/_shared/utils.py:394: UserWarning: Color data out of range: Z < 0 in 1062 pixels\n",
      "  return func(*args, **kwargs)\n",
      "/home/konrad/.local/lib/python3.10/site-packages/skimage/_shared/utils.py:394: UserWarning: Color data out of range: Z < 0 in 1325 pixels\n",
      "  return func(*args, **kwargs)\n",
      "/home/konrad/.local/lib/python3.10/site-packages/skimage/_shared/utils.py:394: UserWarning: Color data out of range: Z < 0 in 351 pixels\n",
      "  return func(*args, **kwargs)\n"
     ]
    },
    {
     "name": "stdout",
     "output_type": "stream",
     "text": [
      "Validate: Loss 0.0169 (0.0162)\t\n",
      "Finished validation.\n",
      "Starting training epoch 184\n",
      "Epoch: 184, Loss 0.0043 (0.0041)\n",
      "Finished training epoch 184\n"
     ]
    },
    {
     "name": "stderr",
     "output_type": "stream",
     "text": [
      "/home/konrad/.local/lib/python3.10/site-packages/skimage/_shared/utils.py:394: UserWarning: Color data out of range: Z < 0 in 1699 pixels\n",
      "  return func(*args, **kwargs)\n",
      "/home/konrad/.local/lib/python3.10/site-packages/skimage/_shared/utils.py:394: UserWarning: Color data out of range: Z < 0 in 249 pixels\n",
      "  return func(*args, **kwargs)\n",
      "/home/konrad/.local/lib/python3.10/site-packages/skimage/_shared/utils.py:394: UserWarning: Color data out of range: Z < 0 in 600 pixels\n",
      "  return func(*args, **kwargs)\n",
      "/home/konrad/.local/lib/python3.10/site-packages/skimage/_shared/utils.py:394: UserWarning: Color data out of range: Z < 0 in 1516 pixels\n",
      "  return func(*args, **kwargs)\n",
      "/home/konrad/.local/lib/python3.10/site-packages/skimage/_shared/utils.py:394: UserWarning: Color data out of range: Z < 0 in 1207 pixels\n",
      "  return func(*args, **kwargs)\n",
      "/home/konrad/.local/lib/python3.10/site-packages/skimage/_shared/utils.py:394: UserWarning: Color data out of range: Z < 0 in 627 pixels\n",
      "  return func(*args, **kwargs)\n"
     ]
    },
    {
     "name": "stdout",
     "output_type": "stream",
     "text": [
      "Validate: Loss 0.0184 (0.0177)\t\n",
      "Finished validation.\n",
      "Starting training epoch 185\n",
      "Epoch: 185, Loss 0.0045 (0.0041)\n",
      "Finished training epoch 185\n"
     ]
    },
    {
     "name": "stderr",
     "output_type": "stream",
     "text": [
      "/home/konrad/.local/lib/python3.10/site-packages/skimage/_shared/utils.py:394: UserWarning: Color data out of range: Z < 0 in 577 pixels\n",
      "  return func(*args, **kwargs)\n"
     ]
    },
    {
     "name": "stdout",
     "output_type": "stream",
     "text": [
      "Validate: Loss 0.0095 (0.0092)\t\n",
      "Finished validation.\n",
      "Starting training epoch 186\n",
      "Epoch: 186, Loss 0.0039 (0.0042)\n",
      "Finished training epoch 186\n",
      "Validate: Loss 0.0107 (0.0102)\t\n",
      "Finished validation.\n",
      "Starting training epoch 187\n",
      "Epoch: 187, Loss 0.0040 (0.0041)\n",
      "Finished training epoch 187\n"
     ]
    },
    {
     "name": "stderr",
     "output_type": "stream",
     "text": [
      "/home/konrad/.local/lib/python3.10/site-packages/skimage/_shared/utils.py:394: UserWarning: Color data out of range: Z < 0 in 96 pixels\n",
      "  return func(*args, **kwargs)\n"
     ]
    },
    {
     "name": "stdout",
     "output_type": "stream",
     "text": [
      "Validate: Loss 0.0136 (0.0132)\t\n",
      "Finished validation.\n",
      "Starting training epoch 188\n",
      "Epoch: 188, Loss 0.0042 (0.0041)\n",
      "Finished training epoch 188\n"
     ]
    },
    {
     "name": "stderr",
     "output_type": "stream",
     "text": [
      "/home/konrad/.local/lib/python3.10/site-packages/skimage/_shared/utils.py:394: UserWarning: Color data out of range: Z < 0 in 723 pixels\n",
      "  return func(*args, **kwargs)\n",
      "/home/konrad/.local/lib/python3.10/site-packages/skimage/_shared/utils.py:394: UserWarning: Color data out of range: Z < 0 in 1115 pixels\n",
      "  return func(*args, **kwargs)\n",
      "/home/konrad/.local/lib/python3.10/site-packages/skimage/_shared/utils.py:394: UserWarning: Color data out of range: Z < 0 in 591 pixels\n",
      "  return func(*args, **kwargs)\n",
      "/home/konrad/.local/lib/python3.10/site-packages/skimage/_shared/utils.py:394: UserWarning: Color data out of range: Z < 0 in 875 pixels\n",
      "  return func(*args, **kwargs)\n",
      "/home/konrad/.local/lib/python3.10/site-packages/skimage/_shared/utils.py:394: UserWarning: Color data out of range: Z < 0 in 1110 pixels\n",
      "  return func(*args, **kwargs)\n",
      "/home/konrad/.local/lib/python3.10/site-packages/skimage/_shared/utils.py:394: UserWarning: Color data out of range: Z < 0 in 716 pixels\n",
      "  return func(*args, **kwargs)\n"
     ]
    },
    {
     "name": "stdout",
     "output_type": "stream",
     "text": [
      "Validate: Loss 0.0177 (0.0172)\t\n",
      "Finished validation.\n",
      "Starting training epoch 189\n",
      "Epoch: 189, Loss 0.0042 (0.0041)\n",
      "Finished training epoch 189\n"
     ]
    },
    {
     "name": "stderr",
     "output_type": "stream",
     "text": [
      "/home/konrad/.local/lib/python3.10/site-packages/skimage/_shared/utils.py:394: UserWarning: Color data out of range: Z < 0 in 575 pixels\n",
      "  return func(*args, **kwargs)\n",
      "/home/konrad/.local/lib/python3.10/site-packages/skimage/_shared/utils.py:394: UserWarning: Color data out of range: Z < 0 in 796 pixels\n",
      "  return func(*args, **kwargs)\n",
      "/home/konrad/.local/lib/python3.10/site-packages/skimage/_shared/utils.py:394: UserWarning: Color data out of range: Z < 0 in 725 pixels\n",
      "  return func(*args, **kwargs)\n"
     ]
    },
    {
     "name": "stdout",
     "output_type": "stream",
     "text": [
      "Validate: Loss 0.0131 (0.0127)\t\n",
      "Finished validation.\n",
      "Starting training epoch 190\n",
      "Epoch: 190, Loss 0.0038 (0.0041)\n",
      "Finished training epoch 190\n"
     ]
    },
    {
     "name": "stderr",
     "output_type": "stream",
     "text": [
      "/home/konrad/.local/lib/python3.10/site-packages/skimage/_shared/utils.py:394: UserWarning: Color data out of range: Z < 0 in 640 pixels\n",
      "  return func(*args, **kwargs)\n",
      "/home/konrad/.local/lib/python3.10/site-packages/skimage/_shared/utils.py:394: UserWarning: Color data out of range: Z < 0 in 605 pixels\n",
      "  return func(*args, **kwargs)\n",
      "/home/konrad/.local/lib/python3.10/site-packages/skimage/_shared/utils.py:394: UserWarning: Color data out of range: Z < 0 in 296 pixels\n",
      "  return func(*args, **kwargs)\n",
      "/home/konrad/.local/lib/python3.10/site-packages/skimage/_shared/utils.py:394: UserWarning: Color data out of range: Z < 0 in 113 pixels\n",
      "  return func(*args, **kwargs)\n",
      "/home/konrad/.local/lib/python3.10/site-packages/skimage/_shared/utils.py:394: UserWarning: Color data out of range: Z < 0 in 767 pixels\n",
      "  return func(*args, **kwargs)\n",
      "/home/konrad/.local/lib/python3.10/site-packages/skimage/_shared/utils.py:394: UserWarning: Color data out of range: Z < 0 in 831 pixels\n",
      "  return func(*args, **kwargs)\n"
     ]
    },
    {
     "name": "stdout",
     "output_type": "stream",
     "text": [
      "Validate: Loss 0.0121 (0.0116)\t\n",
      "Finished validation.\n",
      "Starting training epoch 191\n",
      "Epoch: 191, Loss 0.0037 (0.0041)\n",
      "Finished training epoch 191\n"
     ]
    },
    {
     "name": "stderr",
     "output_type": "stream",
     "text": [
      "/home/konrad/.local/lib/python3.10/site-packages/skimage/_shared/utils.py:394: UserWarning: Color data out of range: Z < 0 in 736 pixels\n",
      "  return func(*args, **kwargs)\n"
     ]
    },
    {
     "name": "stdout",
     "output_type": "stream",
     "text": [
      "Validate: Loss 0.0129 (0.0124)\t\n",
      "Finished validation.\n",
      "Starting training epoch 192\n",
      "Epoch: 192, Loss 0.0040 (0.0041)\n",
      "Finished training epoch 192\n",
      "Validate: Loss 0.0084 (0.0085)\t\n",
      "Finished validation.\n",
      "Starting training epoch 193\n",
      "Epoch: 193, Loss 0.0044 (0.0040)\n",
      "Finished training epoch 193\n"
     ]
    },
    {
     "name": "stderr",
     "output_type": "stream",
     "text": [
      "/home/konrad/.local/lib/python3.10/site-packages/skimage/_shared/utils.py:394: UserWarning: Color data out of range: Z < 0 in 225 pixels\n",
      "  return func(*args, **kwargs)\n"
     ]
    },
    {
     "name": "stdout",
     "output_type": "stream",
     "text": [
      "Validate: Loss 0.0145 (0.0138)\t\n",
      "Finished validation.\n",
      "Starting training epoch 194\n",
      "Epoch: 194, Loss 0.0045 (0.0041)\n",
      "Finished training epoch 194\n"
     ]
    },
    {
     "name": "stderr",
     "output_type": "stream",
     "text": [
      "/home/konrad/.local/lib/python3.10/site-packages/skimage/_shared/utils.py:394: UserWarning: Color data out of range: Z < 0 in 1044 pixels\n",
      "  return func(*args, **kwargs)\n",
      "/home/konrad/.local/lib/python3.10/site-packages/skimage/_shared/utils.py:394: UserWarning: Color data out of range: Z < 0 in 784 pixels\n",
      "  return func(*args, **kwargs)\n",
      "/home/konrad/.local/lib/python3.10/site-packages/skimage/_shared/utils.py:394: UserWarning: Color data out of range: Z < 0 in 1334 pixels\n",
      "  return func(*args, **kwargs)\n",
      "/home/konrad/.local/lib/python3.10/site-packages/skimage/_shared/utils.py:394: UserWarning: Color data out of range: Z < 0 in 1208 pixels\n",
      "  return func(*args, **kwargs)\n",
      "/home/konrad/.local/lib/python3.10/site-packages/skimage/_shared/utils.py:394: UserWarning: Color data out of range: Z < 0 in 645 pixels\n",
      "  return func(*args, **kwargs)\n"
     ]
    },
    {
     "name": "stdout",
     "output_type": "stream",
     "text": [
      "Validate: Loss 0.0206 (0.0197)\t\n",
      "Finished validation.\n",
      "Starting training epoch 195\n",
      "Epoch: 195, Loss 0.0040 (0.0040)\n",
      "Finished training epoch 195\n"
     ]
    },
    {
     "name": "stderr",
     "output_type": "stream",
     "text": [
      "/home/konrad/.local/lib/python3.10/site-packages/skimage/_shared/utils.py:394: UserWarning: Color data out of range: Z < 0 in 803 pixels\n",
      "  return func(*args, **kwargs)\n",
      "/home/konrad/.local/lib/python3.10/site-packages/skimage/_shared/utils.py:394: UserWarning: Color data out of range: Z < 0 in 1068 pixels\n",
      "  return func(*args, **kwargs)\n",
      "/home/konrad/.local/lib/python3.10/site-packages/skimage/_shared/utils.py:394: UserWarning: Color data out of range: Z < 0 in 141 pixels\n",
      "  return func(*args, **kwargs)\n",
      "/home/konrad/.local/lib/python3.10/site-packages/skimage/_shared/utils.py:394: UserWarning: Color data out of range: Z < 0 in 557 pixels\n",
      "  return func(*args, **kwargs)\n",
      "/home/konrad/.local/lib/python3.10/site-packages/skimage/_shared/utils.py:394: UserWarning: Color data out of range: Z < 0 in 454 pixels\n",
      "  return func(*args, **kwargs)\n",
      "/home/konrad/.local/lib/python3.10/site-packages/skimage/_shared/utils.py:394: UserWarning: Color data out of range: Z < 0 in 1156 pixels\n",
      "  return func(*args, **kwargs)\n",
      "/home/konrad/.local/lib/python3.10/site-packages/skimage/_shared/utils.py:394: UserWarning: Color data out of range: Z < 0 in 1131 pixels\n",
      "  return func(*args, **kwargs)\n",
      "/home/konrad/.local/lib/python3.10/site-packages/skimage/_shared/utils.py:394: UserWarning: Color data out of range: Z < 0 in 327 pixels\n",
      "  return func(*args, **kwargs)\n"
     ]
    },
    {
     "name": "stdout",
     "output_type": "stream",
     "text": [
      "Validate: Loss 0.0195 (0.0187)\t\n",
      "Finished validation.\n",
      "Starting training epoch 196\n",
      "Epoch: 196, Loss 0.0039 (0.0040)\n",
      "Finished training epoch 196\n"
     ]
    },
    {
     "name": "stderr",
     "output_type": "stream",
     "text": [
      "/home/konrad/.local/lib/python3.10/site-packages/skimage/_shared/utils.py:394: UserWarning: Color data out of range: Z < 0 in 943 pixels\n",
      "  return func(*args, **kwargs)\n",
      "/home/konrad/.local/lib/python3.10/site-packages/skimage/_shared/utils.py:394: UserWarning: Color data out of range: Z < 0 in 527 pixels\n",
      "  return func(*args, **kwargs)\n",
      "/home/konrad/.local/lib/python3.10/site-packages/skimage/_shared/utils.py:394: UserWarning: Color data out of range: Z < 0 in 261 pixels\n",
      "  return func(*args, **kwargs)\n",
      "/home/konrad/.local/lib/python3.10/site-packages/skimage/_shared/utils.py:394: UserWarning: Color data out of range: Z < 0 in 194 pixels\n",
      "  return func(*args, **kwargs)\n",
      "/home/konrad/.local/lib/python3.10/site-packages/skimage/_shared/utils.py:394: UserWarning: Color data out of range: Z < 0 in 1217 pixels\n",
      "  return func(*args, **kwargs)\n",
      "/home/konrad/.local/lib/python3.10/site-packages/skimage/_shared/utils.py:394: UserWarning: Color data out of range: Z < 0 in 961 pixels\n",
      "  return func(*args, **kwargs)\n",
      "/home/konrad/.local/lib/python3.10/site-packages/skimage/_shared/utils.py:394: UserWarning: Color data out of range: Z < 0 in 415 pixels\n",
      "  return func(*args, **kwargs)\n"
     ]
    },
    {
     "name": "stdout",
     "output_type": "stream",
     "text": [
      "Validate: Loss 0.0182 (0.0170)\t\n",
      "Finished validation.\n",
      "Starting training epoch 197\n",
      "Epoch: 197, Loss 0.0040 (0.0040)\n",
      "Finished training epoch 197\n"
     ]
    },
    {
     "name": "stderr",
     "output_type": "stream",
     "text": [
      "/home/konrad/.local/lib/python3.10/site-packages/skimage/_shared/utils.py:394: UserWarning: Color data out of range: Z < 0 in 69 pixels\n",
      "  return func(*args, **kwargs)\n"
     ]
    },
    {
     "name": "stdout",
     "output_type": "stream",
     "text": [
      "Validate: Loss 0.0119 (0.0115)\t\n",
      "Finished validation.\n",
      "Starting training epoch 198\n",
      "Epoch: 198, Loss 0.0039 (0.0040)\n",
      "Finished training epoch 198\n"
     ]
    },
    {
     "name": "stderr",
     "output_type": "stream",
     "text": [
      "/home/konrad/.local/lib/python3.10/site-packages/skimage/_shared/utils.py:394: UserWarning: Color data out of range: Z < 0 in 1186 pixels\n",
      "  return func(*args, **kwargs)\n",
      "/home/konrad/.local/lib/python3.10/site-packages/skimage/_shared/utils.py:394: UserWarning: Color data out of range: Z < 0 in 1053 pixels\n",
      "  return func(*args, **kwargs)\n",
      "/home/konrad/.local/lib/python3.10/site-packages/skimage/_shared/utils.py:394: UserWarning: Color data out of range: Z < 0 in 1002 pixels\n",
      "  return func(*args, **kwargs)\n",
      "/home/konrad/.local/lib/python3.10/site-packages/skimage/_shared/utils.py:394: UserWarning: Color data out of range: Z < 0 in 492 pixels\n",
      "  return func(*args, **kwargs)\n"
     ]
    },
    {
     "name": "stdout",
     "output_type": "stream",
     "text": [
      "Validate: Loss 0.0168 (0.0164)\t\n",
      "Finished validation.\n",
      "Starting training epoch 199\n",
      "Epoch: 199, Loss 0.0039 (0.0040)\n",
      "Finished training epoch 199\n"
     ]
    },
    {
     "name": "stderr",
     "output_type": "stream",
     "text": [
      "/home/konrad/.local/lib/python3.10/site-packages/skimage/_shared/utils.py:394: UserWarning: Color data out of range: Z < 0 in 789 pixels\n",
      "  return func(*args, **kwargs)\n",
      "/home/konrad/.local/lib/python3.10/site-packages/skimage/_shared/utils.py:394: UserWarning: Color data out of range: Z < 0 in 893 pixels\n",
      "  return func(*args, **kwargs)\n",
      "/home/konrad/.local/lib/python3.10/site-packages/skimage/_shared/utils.py:394: UserWarning: Color data out of range: Z < 0 in 785 pixels\n",
      "  return func(*args, **kwargs)\n",
      "/home/konrad/.local/lib/python3.10/site-packages/skimage/_shared/utils.py:394: UserWarning: Color data out of range: Z < 0 in 781 pixels\n",
      "  return func(*args, **kwargs)\n"
     ]
    },
    {
     "name": "stdout",
     "output_type": "stream",
     "text": [
      "Validate: Loss 0.0145 (0.0139)\t\n",
      "Finished validation.\n",
      "Starting training epoch 200\n",
      "Epoch: 200, Loss 0.0035 (0.0040)\n",
      "Finished training epoch 200\n"
     ]
    },
    {
     "name": "stderr",
     "output_type": "stream",
     "text": [
      "/home/konrad/.local/lib/python3.10/site-packages/skimage/_shared/utils.py:394: UserWarning: Color data out of range: Z < 0 in 1310 pixels\n",
      "  return func(*args, **kwargs)\n",
      "/home/konrad/.local/lib/python3.10/site-packages/skimage/_shared/utils.py:394: UserWarning: Color data out of range: Z < 0 in 1469 pixels\n",
      "  return func(*args, **kwargs)\n",
      "/home/konrad/.local/lib/python3.10/site-packages/skimage/_shared/utils.py:394: UserWarning: Color data out of range: Z < 0 in 1147 pixels\n",
      "  return func(*args, **kwargs)\n",
      "/home/konrad/.local/lib/python3.10/site-packages/skimage/_shared/utils.py:394: UserWarning: Color data out of range: Z < 0 in 663 pixels\n",
      "  return func(*args, **kwargs)\n"
     ]
    },
    {
     "name": "stdout",
     "output_type": "stream",
     "text": [
      "Validate: Loss 0.0195 (0.0187)\t\n",
      "Finished validation.\n",
      "Starting training epoch 201\n",
      "Epoch: 201, Loss 0.0042 (0.0040)\n",
      "Finished training epoch 201\n"
     ]
    },
    {
     "name": "stderr",
     "output_type": "stream",
     "text": [
      "/home/konrad/.local/lib/python3.10/site-packages/skimage/_shared/utils.py:394: UserWarning: Color data out of range: Z < 0 in 990 pixels\n",
      "  return func(*args, **kwargs)\n",
      "/home/konrad/.local/lib/python3.10/site-packages/skimage/_shared/utils.py:394: UserWarning: Color data out of range: Z < 0 in 1582 pixels\n",
      "  return func(*args, **kwargs)\n",
      "/home/konrad/.local/lib/python3.10/site-packages/skimage/_shared/utils.py:394: UserWarning: Color data out of range: Z < 0 in 2036 pixels\n",
      "  return func(*args, **kwargs)\n",
      "/home/konrad/.local/lib/python3.10/site-packages/skimage/_shared/utils.py:394: UserWarning: Color data out of range: Z < 0 in 193 pixels\n",
      "  return func(*args, **kwargs)\n",
      "/home/konrad/.local/lib/python3.10/site-packages/skimage/_shared/utils.py:394: UserWarning: Color data out of range: Z < 0 in 932 pixels\n",
      "  return func(*args, **kwargs)\n",
      "/home/konrad/.local/lib/python3.10/site-packages/skimage/_shared/utils.py:394: UserWarning: Color data out of range: Z < 0 in 1884 pixels\n",
      "  return func(*args, **kwargs)\n",
      "/home/konrad/.local/lib/python3.10/site-packages/skimage/_shared/utils.py:394: UserWarning: Color data out of range: Z < 0 in 1417 pixels\n",
      "  return func(*args, **kwargs)\n",
      "/home/konrad/.local/lib/python3.10/site-packages/skimage/_shared/utils.py:394: UserWarning: Color data out of range: Z < 0 in 1375 pixels\n",
      "  return func(*args, **kwargs)\n",
      "/home/konrad/.local/lib/python3.10/site-packages/skimage/_shared/utils.py:394: UserWarning: Color data out of range: Z < 0 in 1050 pixels\n",
      "  return func(*args, **kwargs)\n",
      "/home/konrad/.local/lib/python3.10/site-packages/skimage/_shared/utils.py:394: UserWarning: Color data out of range: Z < 0 in 935 pixels\n",
      "  return func(*args, **kwargs)\n"
     ]
    },
    {
     "name": "stdout",
     "output_type": "stream",
     "text": [
      "Validate: Loss 0.0230 (0.0221)\t\n",
      "Finished validation.\n",
      "Starting training epoch 202\n",
      "Epoch: 202, Loss 0.0043 (0.0040)\n",
      "Finished training epoch 202\n"
     ]
    },
    {
     "name": "stderr",
     "output_type": "stream",
     "text": [
      "/home/konrad/.local/lib/python3.10/site-packages/skimage/_shared/utils.py:394: UserWarning: Color data out of range: Z < 0 in 753 pixels\n",
      "  return func(*args, **kwargs)\n",
      "/home/konrad/.local/lib/python3.10/site-packages/skimage/_shared/utils.py:394: UserWarning: Color data out of range: Z < 0 in 965 pixels\n",
      "  return func(*args, **kwargs)\n",
      "/home/konrad/.local/lib/python3.10/site-packages/skimage/_shared/utils.py:394: UserWarning: Color data out of range: Z < 0 in 1004 pixels\n",
      "  return func(*args, **kwargs)\n",
      "/home/konrad/.local/lib/python3.10/site-packages/skimage/_shared/utils.py:394: UserWarning: Color data out of range: Z < 0 in 488 pixels\n",
      "  return func(*args, **kwargs)\n",
      "/home/konrad/.local/lib/python3.10/site-packages/skimage/_shared/utils.py:394: UserWarning: Color data out of range: Z < 0 in 769 pixels\n",
      "  return func(*args, **kwargs)\n",
      "/home/konrad/.local/lib/python3.10/site-packages/skimage/_shared/utils.py:394: UserWarning: Color data out of range: Z < 0 in 880 pixels\n",
      "  return func(*args, **kwargs)\n",
      "/home/konrad/.local/lib/python3.10/site-packages/skimage/_shared/utils.py:394: UserWarning: Color data out of range: Z < 0 in 510 pixels\n",
      "  return func(*args, **kwargs)\n",
      "/home/konrad/.local/lib/python3.10/site-packages/skimage/_shared/utils.py:394: UserWarning: Color data out of range: Z < 0 in 320 pixels\n",
      "  return func(*args, **kwargs)\n"
     ]
    },
    {
     "name": "stdout",
     "output_type": "stream",
     "text": [
      "Validate: Loss 0.0156 (0.0152)\t\n",
      "Finished validation.\n",
      "Starting training epoch 203\n",
      "Epoch: 203, Loss 0.0040 (0.0039)\n",
      "Finished training epoch 203\n"
     ]
    },
    {
     "name": "stderr",
     "output_type": "stream",
     "text": [
      "/home/konrad/.local/lib/python3.10/site-packages/skimage/_shared/utils.py:394: UserWarning: Color data out of range: Z < 0 in 971 pixels\n",
      "  return func(*args, **kwargs)\n",
      "/home/konrad/.local/lib/python3.10/site-packages/skimage/_shared/utils.py:394: UserWarning: Color data out of range: Z < 0 in 1182 pixels\n",
      "  return func(*args, **kwargs)\n",
      "/home/konrad/.local/lib/python3.10/site-packages/skimage/_shared/utils.py:394: UserWarning: Color data out of range: Z < 0 in 1014 pixels\n",
      "  return func(*args, **kwargs)\n",
      "/home/konrad/.local/lib/python3.10/site-packages/skimage/_shared/utils.py:394: UserWarning: Color data out of range: Z < 0 in 637 pixels\n",
      "  return func(*args, **kwargs)\n",
      "/home/konrad/.local/lib/python3.10/site-packages/skimage/_shared/utils.py:394: UserWarning: Color data out of range: Z < 0 in 1368 pixels\n",
      "  return func(*args, **kwargs)\n",
      "/home/konrad/.local/lib/python3.10/site-packages/skimage/_shared/utils.py:394: UserWarning: Color data out of range: Z < 0 in 1093 pixels\n",
      "  return func(*args, **kwargs)\n",
      "/home/konrad/.local/lib/python3.10/site-packages/skimage/_shared/utils.py:394: UserWarning: Color data out of range: Z < 0 in 652 pixels\n",
      "  return func(*args, **kwargs)\n"
     ]
    },
    {
     "name": "stdout",
     "output_type": "stream",
     "text": [
      "Validate: Loss 0.0183 (0.0174)\t\n",
      "Finished validation.\n",
      "Starting training epoch 204\n",
      "Epoch: 204, Loss 0.0041 (0.0040)\n",
      "Finished training epoch 204\n"
     ]
    },
    {
     "name": "stderr",
     "output_type": "stream",
     "text": [
      "/home/konrad/.local/lib/python3.10/site-packages/skimage/_shared/utils.py:394: UserWarning: Color data out of range: Z < 0 in 745 pixels\n",
      "  return func(*args, **kwargs)\n",
      "/home/konrad/.local/lib/python3.10/site-packages/skimage/_shared/utils.py:394: UserWarning: Color data out of range: Z < 0 in 993 pixels\n",
      "  return func(*args, **kwargs)\n",
      "/home/konrad/.local/lib/python3.10/site-packages/skimage/_shared/utils.py:394: UserWarning: Color data out of range: Z < 0 in 496 pixels\n",
      "  return func(*args, **kwargs)\n",
      "/home/konrad/.local/lib/python3.10/site-packages/skimage/_shared/utils.py:394: UserWarning: Color data out of range: Z < 0 in 1188 pixels\n",
      "  return func(*args, **kwargs)\n",
      "/home/konrad/.local/lib/python3.10/site-packages/skimage/_shared/utils.py:394: UserWarning: Color data out of range: Z < 0 in 980 pixels\n",
      "  return func(*args, **kwargs)\n",
      "/home/konrad/.local/lib/python3.10/site-packages/skimage/_shared/utils.py:394: UserWarning: Color data out of range: Z < 0 in 337 pixels\n",
      "  return func(*args, **kwargs)\n"
     ]
    },
    {
     "name": "stdout",
     "output_type": "stream",
     "text": [
      "Validate: Loss 0.0190 (0.0182)\t\n",
      "Finished validation.\n",
      "Starting training epoch 205\n",
      "Epoch: 205, Loss 0.0036 (0.0039)\n",
      "Finished training epoch 205\n"
     ]
    },
    {
     "name": "stderr",
     "output_type": "stream",
     "text": [
      "/home/konrad/.local/lib/python3.10/site-packages/skimage/_shared/utils.py:394: UserWarning: Color data out of range: Z < 0 in 566 pixels\n",
      "  return func(*args, **kwargs)\n",
      "/home/konrad/.local/lib/python3.10/site-packages/skimage/_shared/utils.py:394: UserWarning: Color data out of range: Z < 0 in 272 pixels\n",
      "  return func(*args, **kwargs)\n",
      "/home/konrad/.local/lib/python3.10/site-packages/skimage/_shared/utils.py:394: UserWarning: Color data out of range: Z < 0 in 622 pixels\n",
      "  return func(*args, **kwargs)\n"
     ]
    },
    {
     "name": "stdout",
     "output_type": "stream",
     "text": [
      "Validate: Loss 0.0110 (0.0109)\t\n",
      "Finished validation.\n",
      "Starting training epoch 206\n",
      "Epoch: 206, Loss 0.0038 (0.0039)\n",
      "Finished training epoch 206\n"
     ]
    },
    {
     "name": "stderr",
     "output_type": "stream",
     "text": [
      "/home/konrad/.local/lib/python3.10/site-packages/skimage/_shared/utils.py:394: UserWarning: Color data out of range: Z < 0 in 735 pixels\n",
      "  return func(*args, **kwargs)\n",
      "/home/konrad/.local/lib/python3.10/site-packages/skimage/_shared/utils.py:394: UserWarning: Color data out of range: Z < 0 in 890 pixels\n",
      "  return func(*args, **kwargs)\n",
      "/home/konrad/.local/lib/python3.10/site-packages/skimage/_shared/utils.py:394: UserWarning: Color data out of range: Z < 0 in 779 pixels\n",
      "  return func(*args, **kwargs)\n",
      "/home/konrad/.local/lib/python3.10/site-packages/skimage/_shared/utils.py:394: UserWarning: Color data out of range: Z < 0 in 710 pixels\n",
      "  return func(*args, **kwargs)\n",
      "/home/konrad/.local/lib/python3.10/site-packages/skimage/_shared/utils.py:394: UserWarning: Color data out of range: Z < 0 in 795 pixels\n",
      "  return func(*args, **kwargs)\n"
     ]
    },
    {
     "name": "stdout",
     "output_type": "stream",
     "text": [
      "Validate: Loss 0.0136 (0.0134)\t\n",
      "Finished validation.\n",
      "Starting training epoch 207\n",
      "Epoch: 207, Loss 0.0035 (0.0039)\n",
      "Finished training epoch 207\n",
      "Validate: Loss 0.0096 (0.0096)\t\n",
      "Finished validation.\n",
      "Starting training epoch 208\n",
      "Epoch: 208, Loss 0.0044 (0.0039)\n",
      "Finished training epoch 208\n"
     ]
    },
    {
     "name": "stderr",
     "output_type": "stream",
     "text": [
      "/home/konrad/.local/lib/python3.10/site-packages/skimage/_shared/utils.py:394: UserWarning: Color data out of range: Z < 0 in 1405 pixels\n",
      "  return func(*args, **kwargs)\n",
      "/home/konrad/.local/lib/python3.10/site-packages/skimage/_shared/utils.py:394: UserWarning: Color data out of range: Z < 0 in 1973 pixels\n",
      "  return func(*args, **kwargs)\n",
      "/home/konrad/.local/lib/python3.10/site-packages/skimage/_shared/utils.py:394: UserWarning: Color data out of range: Z < 0 in 2484 pixels\n",
      "  return func(*args, **kwargs)\n",
      "/home/konrad/.local/lib/python3.10/site-packages/skimage/_shared/utils.py:394: UserWarning: Color data out of range: Z < 0 in 412 pixels\n",
      "  return func(*args, **kwargs)\n",
      "/home/konrad/.local/lib/python3.10/site-packages/skimage/_shared/utils.py:394: UserWarning: Color data out of range: Z < 0 in 1393 pixels\n",
      "  return func(*args, **kwargs)\n",
      "/home/konrad/.local/lib/python3.10/site-packages/skimage/_shared/utils.py:394: UserWarning: Color data out of range: Z < 0 in 2348 pixels\n",
      "  return func(*args, **kwargs)\n",
      "/home/konrad/.local/lib/python3.10/site-packages/skimage/_shared/utils.py:394: UserWarning: Color data out of range: Z < 0 in 1732 pixels\n",
      "  return func(*args, **kwargs)\n",
      "/home/konrad/.local/lib/python3.10/site-packages/skimage/_shared/utils.py:394: UserWarning: Color data out of range: Z < 0 in 1645 pixels\n",
      "  return func(*args, **kwargs)\n",
      "/home/konrad/.local/lib/python3.10/site-packages/skimage/_shared/utils.py:394: UserWarning: Color data out of range: Z < 0 in 1668 pixels\n",
      "  return func(*args, **kwargs)\n"
     ]
    },
    {
     "name": "stdout",
     "output_type": "stream",
     "text": [
      "Validate: Loss 0.0313 (0.0299)\t\n",
      "Finished validation.\n",
      "Starting training epoch 209\n",
      "Epoch: 209, Loss 0.0037 (0.0040)\n",
      "Finished training epoch 209\n"
     ]
    },
    {
     "name": "stderr",
     "output_type": "stream",
     "text": [
      "/home/konrad/.local/lib/python3.10/site-packages/skimage/_shared/utils.py:394: UserWarning: Color data out of range: Z < 0 in 696 pixels\n",
      "  return func(*args, **kwargs)\n",
      "/home/konrad/.local/lib/python3.10/site-packages/skimage/_shared/utils.py:394: UserWarning: Color data out of range: Z < 0 in 145 pixels\n",
      "  return func(*args, **kwargs)\n",
      "/home/konrad/.local/lib/python3.10/site-packages/skimage/_shared/utils.py:394: UserWarning: Color data out of range: Z < 0 in 587 pixels\n",
      "  return func(*args, **kwargs)\n"
     ]
    },
    {
     "name": "stdout",
     "output_type": "stream",
     "text": [
      "Validate: Loss 0.0119 (0.0115)\t\n",
      "Finished validation.\n",
      "Starting training epoch 210\n",
      "Epoch: 210, Loss 0.0043 (0.0040)\n",
      "Finished training epoch 210\n",
      "Validate: Loss 0.0082 (0.0084)\t\n",
      "Finished validation.\n",
      "Starting training epoch 211\n",
      "Epoch: 211, Loss 0.0043 (0.0040)\n",
      "Finished training epoch 211\n"
     ]
    },
    {
     "name": "stderr",
     "output_type": "stream",
     "text": [
      "/home/konrad/.local/lib/python3.10/site-packages/skimage/_shared/utils.py:394: UserWarning: Color data out of range: Z < 0 in 843 pixels\n",
      "  return func(*args, **kwargs)\n",
      "/home/konrad/.local/lib/python3.10/site-packages/skimage/_shared/utils.py:394: UserWarning: Color data out of range: Z < 0 in 1185 pixels\n",
      "  return func(*args, **kwargs)\n",
      "/home/konrad/.local/lib/python3.10/site-packages/skimage/_shared/utils.py:394: UserWarning: Color data out of range: Z < 0 in 1392 pixels\n",
      "  return func(*args, **kwargs)\n",
      "/home/konrad/.local/lib/python3.10/site-packages/skimage/_shared/utils.py:394: UserWarning: Color data out of range: Z < 0 in 1374 pixels\n",
      "  return func(*args, **kwargs)\n",
      "/home/konrad/.local/lib/python3.10/site-packages/skimage/_shared/utils.py:394: UserWarning: Color data out of range: Z < 0 in 916 pixels\n",
      "  return func(*args, **kwargs)\n",
      "/home/konrad/.local/lib/python3.10/site-packages/skimage/_shared/utils.py:394: UserWarning: Color data out of range: Z < 0 in 705 pixels\n",
      "  return func(*args, **kwargs)\n"
     ]
    },
    {
     "name": "stdout",
     "output_type": "stream",
     "text": [
      "Validate: Loss 0.0161 (0.0157)\t\n",
      "Finished validation.\n",
      "Starting training epoch 212\n",
      "Epoch: 212, Loss 0.0036 (0.0039)\n",
      "Finished training epoch 212\n"
     ]
    },
    {
     "name": "stderr",
     "output_type": "stream",
     "text": [
      "/home/konrad/.local/lib/python3.10/site-packages/skimage/_shared/utils.py:394: UserWarning: Color data out of range: Z < 0 in 1404 pixels\n",
      "  return func(*args, **kwargs)\n",
      "/home/konrad/.local/lib/python3.10/site-packages/skimage/_shared/utils.py:394: UserWarning: Color data out of range: Z < 0 in 1689 pixels\n",
      "  return func(*args, **kwargs)\n",
      "/home/konrad/.local/lib/python3.10/site-packages/skimage/_shared/utils.py:394: UserWarning: Color data out of range: Z < 0 in 167 pixels\n",
      "  return func(*args, **kwargs)\n",
      "/home/konrad/.local/lib/python3.10/site-packages/skimage/_shared/utils.py:394: UserWarning: Color data out of range: Z < 0 in 882 pixels\n",
      "  return func(*args, **kwargs)\n",
      "/home/konrad/.local/lib/python3.10/site-packages/skimage/_shared/utils.py:394: UserWarning: Color data out of range: Z < 0 in 1571 pixels\n",
      "  return func(*args, **kwargs)\n",
      "/home/konrad/.local/lib/python3.10/site-packages/skimage/_shared/utils.py:394: UserWarning: Color data out of range: Z < 0 in 1139 pixels\n",
      "  return func(*args, **kwargs)\n",
      "/home/konrad/.local/lib/python3.10/site-packages/skimage/_shared/utils.py:394: UserWarning: Color data out of range: Z < 0 in 1202 pixels\n",
      "  return func(*args, **kwargs)\n",
      "/home/konrad/.local/lib/python3.10/site-packages/skimage/_shared/utils.py:394: UserWarning: Color data out of range: Z < 0 in 866 pixels\n",
      "  return func(*args, **kwargs)\n"
     ]
    },
    {
     "name": "stdout",
     "output_type": "stream",
     "text": [
      "Validate: Loss 0.0210 (0.0203)\t\n",
      "Finished validation.\n",
      "Starting training epoch 213\n",
      "Epoch: 213, Loss 0.0041 (0.0039)\n",
      "Finished training epoch 213\n",
      "Validate: Loss 0.0079 (0.0082)\t\n",
      "Finished validation.\n",
      "Starting training epoch 214\n",
      "Epoch: 214, Loss 0.0038 (0.0039)\n",
      "Finished training epoch 214\n"
     ]
    },
    {
     "name": "stderr",
     "output_type": "stream",
     "text": [
      "/home/konrad/.local/lib/python3.10/site-packages/skimage/_shared/utils.py:394: UserWarning: Color data out of range: Z < 0 in 1113 pixels\n",
      "  return func(*args, **kwargs)\n",
      "/home/konrad/.local/lib/python3.10/site-packages/skimage/_shared/utils.py:394: UserWarning: Color data out of range: Z < 0 in 1454 pixels\n",
      "  return func(*args, **kwargs)\n",
      "/home/konrad/.local/lib/python3.10/site-packages/skimage/_shared/utils.py:394: UserWarning: Color data out of range: Z < 0 in 1782 pixels\n",
      "  return func(*args, **kwargs)\n",
      "/home/konrad/.local/lib/python3.10/site-packages/skimage/_shared/utils.py:394: UserWarning: Color data out of range: Z < 0 in 283 pixels\n",
      "  return func(*args, **kwargs)\n",
      "/home/konrad/.local/lib/python3.10/site-packages/skimage/_shared/utils.py:394: UserWarning: Color data out of range: Z < 0 in 1033 pixels\n",
      "  return func(*args, **kwargs)\n",
      "/home/konrad/.local/lib/python3.10/site-packages/skimage/_shared/utils.py:394: UserWarning: Color data out of range: Z < 0 in 1440 pixels\n",
      "  return func(*args, **kwargs)\n",
      "/home/konrad/.local/lib/python3.10/site-packages/skimage/_shared/utils.py:394: UserWarning: Color data out of range: Z < 0 in 1321 pixels\n",
      "  return func(*args, **kwargs)\n",
      "/home/konrad/.local/lib/python3.10/site-packages/skimage/_shared/utils.py:394: UserWarning: Color data out of range: Z < 0 in 1365 pixels\n",
      "  return func(*args, **kwargs)\n",
      "/home/konrad/.local/lib/python3.10/site-packages/skimage/_shared/utils.py:394: UserWarning: Color data out of range: Z < 0 in 1212 pixels\n",
      "  return func(*args, **kwargs)\n"
     ]
    },
    {
     "name": "stdout",
     "output_type": "stream",
     "text": [
      "Validate: Loss 0.0259 (0.0246)\t\n",
      "Finished validation.\n",
      "Starting training epoch 215\n",
      "Epoch: 215, Loss 0.0039 (0.0039)\n",
      "Finished training epoch 215\n"
     ]
    },
    {
     "name": "stderr",
     "output_type": "stream",
     "text": [
      "/home/konrad/.local/lib/python3.10/site-packages/skimage/_shared/utils.py:394: UserWarning: Color data out of range: Z < 0 in 1058 pixels\n",
      "  return func(*args, **kwargs)\n",
      "/home/konrad/.local/lib/python3.10/site-packages/skimage/_shared/utils.py:394: UserWarning: Color data out of range: Z < 0 in 699 pixels\n",
      "  return func(*args, **kwargs)\n",
      "/home/konrad/.local/lib/python3.10/site-packages/skimage/_shared/utils.py:394: UserWarning: Color data out of range: Z < 0 in 1069 pixels\n",
      "  return func(*args, **kwargs)\n",
      "/home/konrad/.local/lib/python3.10/site-packages/skimage/_shared/utils.py:394: UserWarning: Color data out of range: Z < 0 in 648 pixels\n",
      "  return func(*args, **kwargs)\n",
      "/home/konrad/.local/lib/python3.10/site-packages/skimage/_shared/utils.py:394: UserWarning: Color data out of range: Z < 0 in 406 pixels\n",
      "  return func(*args, **kwargs)\n"
     ]
    },
    {
     "name": "stdout",
     "output_type": "stream",
     "text": [
      "Validate: Loss 0.0187 (0.0179)\t\n",
      "Finished validation.\n",
      "Starting training epoch 216\n",
      "Epoch: 216, Loss 0.0034 (0.0039)\n",
      "Finished training epoch 216\n"
     ]
    },
    {
     "name": "stderr",
     "output_type": "stream",
     "text": [
      "/home/konrad/.local/lib/python3.10/site-packages/skimage/_shared/utils.py:394: UserWarning: Color data out of range: Z < 0 in 1349 pixels\n",
      "  return func(*args, **kwargs)\n",
      "/home/konrad/.local/lib/python3.10/site-packages/skimage/_shared/utils.py:394: UserWarning: Color data out of range: Z < 0 in 1911 pixels\n",
      "  return func(*args, **kwargs)\n",
      "/home/konrad/.local/lib/python3.10/site-packages/skimage/_shared/utils.py:394: UserWarning: Color data out of range: Z < 0 in 2651 pixels\n",
      "  return func(*args, **kwargs)\n",
      "/home/konrad/.local/lib/python3.10/site-packages/skimage/_shared/utils.py:394: UserWarning: Color data out of range: Z < 0 in 511 pixels\n",
      "  return func(*args, **kwargs)\n",
      "/home/konrad/.local/lib/python3.10/site-packages/skimage/_shared/utils.py:394: UserWarning: Color data out of range: Z < 0 in 1436 pixels\n",
      "  return func(*args, **kwargs)\n",
      "/home/konrad/.local/lib/python3.10/site-packages/skimage/_shared/utils.py:394: UserWarning: Color data out of range: Z < 0 in 2369 pixels\n",
      "  return func(*args, **kwargs)\n",
      "/home/konrad/.local/lib/python3.10/site-packages/skimage/_shared/utils.py:394: UserWarning: Color data out of range: Z < 0 in 1729 pixels\n",
      "  return func(*args, **kwargs)\n",
      "/home/konrad/.local/lib/python3.10/site-packages/skimage/_shared/utils.py:394: UserWarning: Color data out of range: Z < 0 in 1692 pixels\n",
      "  return func(*args, **kwargs)\n",
      "/home/konrad/.local/lib/python3.10/site-packages/skimage/_shared/utils.py:394: UserWarning: Color data out of range: Z < 0 in 1352 pixels\n",
      "  return func(*args, **kwargs)\n"
     ]
    },
    {
     "name": "stdout",
     "output_type": "stream",
     "text": [
      "Validate: Loss 0.0326 (0.0309)\t\n",
      "Finished validation.\n",
      "Starting training epoch 217\n",
      "Epoch: 217, Loss 0.0037 (0.0039)\n",
      "Finished training epoch 217\n"
     ]
    },
    {
     "name": "stderr",
     "output_type": "stream",
     "text": [
      "/home/konrad/.local/lib/python3.10/site-packages/skimage/_shared/utils.py:394: UserWarning: Color data out of range: Z < 0 in 1031 pixels\n",
      "  return func(*args, **kwargs)\n",
      "/home/konrad/.local/lib/python3.10/site-packages/skimage/_shared/utils.py:394: UserWarning: Color data out of range: Z < 0 in 1051 pixels\n",
      "  return func(*args, **kwargs)\n",
      "/home/konrad/.local/lib/python3.10/site-packages/skimage/_shared/utils.py:394: UserWarning: Color data out of range: Z < 0 in 625 pixels\n",
      "  return func(*args, **kwargs)\n"
     ]
    },
    {
     "name": "stdout",
     "output_type": "stream",
     "text": [
      "Validate: Loss 0.0181 (0.0174)\t\n",
      "Finished validation.\n",
      "Starting training epoch 218\n",
      "Epoch: 218, Loss 0.0038 (0.0039)\n",
      "Finished training epoch 218\n"
     ]
    },
    {
     "name": "stderr",
     "output_type": "stream",
     "text": [
      "/home/konrad/.local/lib/python3.10/site-packages/skimage/_shared/utils.py:394: UserWarning: Color data out of range: Z < 0 in 770 pixels\n",
      "  return func(*args, **kwargs)\n",
      "/home/konrad/.local/lib/python3.10/site-packages/skimage/_shared/utils.py:394: UserWarning: Color data out of range: Z < 0 in 252 pixels\n",
      "  return func(*args, **kwargs)\n",
      "/home/konrad/.local/lib/python3.10/site-packages/skimage/_shared/utils.py:394: UserWarning: Color data out of range: Z < 0 in 937 pixels\n",
      "  return func(*args, **kwargs)\n",
      "/home/konrad/.local/lib/python3.10/site-packages/skimage/_shared/utils.py:394: UserWarning: Color data out of range: Z < 0 in 267 pixels\n",
      "  return func(*args, **kwargs)\n"
     ]
    },
    {
     "name": "stdout",
     "output_type": "stream",
     "text": [
      "Validate: Loss 0.0143 (0.0137)\t\n",
      "Finished validation.\n",
      "Starting training epoch 219\n",
      "Epoch: 219, Loss 0.0039 (0.0039)\n",
      "Finished training epoch 219\n"
     ]
    },
    {
     "name": "stderr",
     "output_type": "stream",
     "text": [
      "/home/konrad/.local/lib/python3.10/site-packages/skimage/_shared/utils.py:394: UserWarning: Color data out of range: Z < 0 in 1189 pixels\n",
      "  return func(*args, **kwargs)\n",
      "/home/konrad/.local/lib/python3.10/site-packages/skimage/_shared/utils.py:394: UserWarning: Color data out of range: Z < 0 in 1739 pixels\n",
      "  return func(*args, **kwargs)\n",
      "/home/konrad/.local/lib/python3.10/site-packages/skimage/_shared/utils.py:394: UserWarning: Color data out of range: Z < 0 in 2469 pixels\n",
      "  return func(*args, **kwargs)\n",
      "/home/konrad/.local/lib/python3.10/site-packages/skimage/_shared/utils.py:394: UserWarning: Color data out of range: Z < 0 in 342 pixels\n",
      "  return func(*args, **kwargs)\n",
      "/home/konrad/.local/lib/python3.10/site-packages/skimage/_shared/utils.py:394: UserWarning: Color data out of range: Z < 0 in 1279 pixels\n",
      "  return func(*args, **kwargs)\n",
      "/home/konrad/.local/lib/python3.10/site-packages/skimage/_shared/utils.py:394: UserWarning: Color data out of range: Z < 0 in 2254 pixels\n",
      "  return func(*args, **kwargs)\n",
      "/home/konrad/.local/lib/python3.10/site-packages/skimage/_shared/utils.py:394: UserWarning: Color data out of range: Z < 0 in 1546 pixels\n",
      "  return func(*args, **kwargs)\n",
      "/home/konrad/.local/lib/python3.10/site-packages/skimage/_shared/utils.py:394: UserWarning: Color data out of range: Z < 0 in 1578 pixels\n",
      "  return func(*args, **kwargs)\n"
     ]
    },
    {
     "name": "stdout",
     "output_type": "stream",
     "text": [
      "Validate: Loss 0.0299 (0.0288)\t\n",
      "Finished validation.\n",
      "Starting training epoch 220\n",
      "Epoch: 220, Loss 0.0034 (0.0039)\n",
      "Finished training epoch 220\n"
     ]
    },
    {
     "name": "stderr",
     "output_type": "stream",
     "text": [
      "/home/konrad/.local/lib/python3.10/site-packages/skimage/_shared/utils.py:394: UserWarning: Color data out of range: Z < 0 in 1019 pixels\n",
      "  return func(*args, **kwargs)\n",
      "/home/konrad/.local/lib/python3.10/site-packages/skimage/_shared/utils.py:394: UserWarning: Color data out of range: Z < 0 in 1204 pixels\n",
      "  return func(*args, **kwargs)\n",
      "/home/konrad/.local/lib/python3.10/site-packages/skimage/_shared/utils.py:394: UserWarning: Color data out of range: Z < 0 in 367 pixels\n",
      "  return func(*args, **kwargs)\n",
      "/home/konrad/.local/lib/python3.10/site-packages/skimage/_shared/utils.py:394: UserWarning: Color data out of range: Z < 0 in 968 pixels\n",
      "  return func(*args, **kwargs)\n",
      "/home/konrad/.local/lib/python3.10/site-packages/skimage/_shared/utils.py:394: UserWarning: Color data out of range: Z < 0 in 829 pixels\n",
      "  return func(*args, **kwargs)\n",
      "/home/konrad/.local/lib/python3.10/site-packages/skimage/_shared/utils.py:394: UserWarning: Color data out of range: Z < 0 in 594 pixels\n",
      "  return func(*args, **kwargs)\n"
     ]
    },
    {
     "name": "stdout",
     "output_type": "stream",
     "text": [
      "Validate: Loss 0.0144 (0.0143)\t\n",
      "Finished validation.\n",
      "Starting training epoch 221\n",
      "Epoch: 221, Loss 0.0040 (0.0038)\n",
      "Finished training epoch 221\n"
     ]
    },
    {
     "name": "stderr",
     "output_type": "stream",
     "text": [
      "/home/konrad/.local/lib/python3.10/site-packages/skimage/_shared/utils.py:394: UserWarning: Color data out of range: Z < 0 in 969 pixels\n",
      "  return func(*args, **kwargs)\n",
      "/home/konrad/.local/lib/python3.10/site-packages/skimage/_shared/utils.py:394: UserWarning: Color data out of range: Z < 0 in 1453 pixels\n",
      "  return func(*args, **kwargs)\n",
      "/home/konrad/.local/lib/python3.10/site-packages/skimage/_shared/utils.py:394: UserWarning: Color data out of range: Z < 0 in 1909 pixels\n",
      "  return func(*args, **kwargs)\n",
      "/home/konrad/.local/lib/python3.10/site-packages/skimage/_shared/utils.py:394: UserWarning: Color data out of range: Z < 0 in 1651 pixels\n",
      "  return func(*args, **kwargs)\n",
      "/home/konrad/.local/lib/python3.10/site-packages/skimage/_shared/utils.py:394: UserWarning: Color data out of range: Z < 0 in 1424 pixels\n",
      "  return func(*args, **kwargs)\n",
      "/home/konrad/.local/lib/python3.10/site-packages/skimage/_shared/utils.py:394: UserWarning: Color data out of range: Z < 0 in 780 pixels\n",
      "  return func(*args, **kwargs)\n"
     ]
    },
    {
     "name": "stdout",
     "output_type": "stream",
     "text": [
      "Validate: Loss 0.0198 (0.0193)\t\n",
      "Finished validation.\n",
      "Starting training epoch 222\n",
      "Epoch: 222, Loss 0.0043 (0.0038)\n",
      "Finished training epoch 222\n",
      "Validate: Loss 0.0083 (0.0085)\t\n",
      "Finished validation.\n",
      "Starting training epoch 223\n",
      "Epoch: 223, Loss 0.0039 (0.0038)\n",
      "Finished training epoch 223\n"
     ]
    },
    {
     "name": "stderr",
     "output_type": "stream",
     "text": [
      "/home/konrad/.local/lib/python3.10/site-packages/skimage/_shared/utils.py:394: UserWarning: Color data out of range: Z < 0 in 783 pixels\n",
      "  return func(*args, **kwargs)\n",
      "/home/konrad/.local/lib/python3.10/site-packages/skimage/_shared/utils.py:394: UserWarning: Color data out of range: Z < 0 in 615 pixels\n",
      "  return func(*args, **kwargs)\n",
      "/home/konrad/.local/lib/python3.10/site-packages/skimage/_shared/utils.py:394: UserWarning: Color data out of range: Z < 0 in 310 pixels\n",
      "  return func(*args, **kwargs)\n"
     ]
    },
    {
     "name": "stdout",
     "output_type": "stream",
     "text": [
      "Validate: Loss 0.0125 (0.0122)\t\n",
      "Finished validation.\n",
      "Starting training epoch 224\n",
      "Epoch: 224, Loss 0.0037 (0.0039)\n",
      "Finished training epoch 224\n"
     ]
    },
    {
     "name": "stderr",
     "output_type": "stream",
     "text": [
      "/home/konrad/.local/lib/python3.10/site-packages/skimage/_shared/utils.py:394: UserWarning: Color data out of range: Z < 0 in 825 pixels\n",
      "  return func(*args, **kwargs)\n",
      "/home/konrad/.local/lib/python3.10/site-packages/skimage/_shared/utils.py:394: UserWarning: Color data out of range: Z < 0 in 672 pixels\n",
      "  return func(*args, **kwargs)\n"
     ]
    },
    {
     "name": "stdout",
     "output_type": "stream",
     "text": [
      "Validate: Loss 0.0112 (0.0112)\t\n",
      "Finished validation.\n",
      "Starting training epoch 225\n",
      "Epoch: 225, Loss 0.0037 (0.0039)\n",
      "Finished training epoch 225\n"
     ]
    },
    {
     "name": "stderr",
     "output_type": "stream",
     "text": [
      "/home/konrad/.local/lib/python3.10/site-packages/skimage/_shared/utils.py:394: UserWarning: Color data out of range: Z < 0 in 506 pixels\n",
      "  return func(*args, **kwargs)\n",
      "/home/konrad/.local/lib/python3.10/site-packages/skimage/_shared/utils.py:394: UserWarning: Color data out of range: Z < 0 in 191 pixels\n",
      "  return func(*args, **kwargs)\n",
      "/home/konrad/.local/lib/python3.10/site-packages/skimage/_shared/utils.py:394: UserWarning: Color data out of range: Z < 0 in 525 pixels\n",
      "  return func(*args, **kwargs)\n",
      "/home/konrad/.local/lib/python3.10/site-packages/skimage/_shared/utils.py:394: UserWarning: Color data out of range: Z < 0 in 354 pixels\n",
      "  return func(*args, **kwargs)\n"
     ]
    },
    {
     "name": "stdout",
     "output_type": "stream",
     "text": [
      "Validate: Loss 0.0094 (0.0093)\t\n",
      "Finished validation.\n",
      "Starting training epoch 226\n",
      "Epoch: 226, Loss 0.0039 (0.0038)\n",
      "Finished training epoch 226\n"
     ]
    },
    {
     "name": "stderr",
     "output_type": "stream",
     "text": [
      "/home/konrad/.local/lib/python3.10/site-packages/skimage/_shared/utils.py:394: UserWarning: Color data out of range: Z < 0 in 177 pixels\n",
      "  return func(*args, **kwargs)\n"
     ]
    },
    {
     "name": "stdout",
     "output_type": "stream",
     "text": [
      "Validate: Loss 0.0088 (0.0088)\t\n",
      "Finished validation.\n",
      "Starting training epoch 227\n",
      "Epoch: 227, Loss 0.0036 (0.0039)\n",
      "Finished training epoch 227\n"
     ]
    },
    {
     "name": "stderr",
     "output_type": "stream",
     "text": [
      "/home/konrad/.local/lib/python3.10/site-packages/skimage/_shared/utils.py:394: UserWarning: Color data out of range: Z < 0 in 463 pixels\n",
      "  return func(*args, **kwargs)\n"
     ]
    },
    {
     "name": "stdout",
     "output_type": "stream",
     "text": [
      "Validate: Loss 0.0101 (0.0099)\t\n",
      "Finished validation.\n",
      "Starting training epoch 228\n",
      "Epoch: 228, Loss 0.0038 (0.0038)\n",
      "Finished training epoch 228\n"
     ]
    },
    {
     "name": "stderr",
     "output_type": "stream",
     "text": [
      "/home/konrad/.local/lib/python3.10/site-packages/skimage/_shared/utils.py:394: UserWarning: Color data out of range: Z < 0 in 53 pixels\n",
      "  return func(*args, **kwargs)\n"
     ]
    },
    {
     "name": "stdout",
     "output_type": "stream",
     "text": [
      "Validate: Loss 0.0084 (0.0086)\t\n",
      "Finished validation.\n",
      "Starting training epoch 229\n",
      "Epoch: 229, Loss 0.0036 (0.0038)\n",
      "Finished training epoch 229\n"
     ]
    },
    {
     "name": "stderr",
     "output_type": "stream",
     "text": [
      "/home/konrad/.local/lib/python3.10/site-packages/skimage/_shared/utils.py:394: UserWarning: Color data out of range: Z < 0 in 899 pixels\n",
      "  return func(*args, **kwargs)\n",
      "/home/konrad/.local/lib/python3.10/site-packages/skimage/_shared/utils.py:394: UserWarning: Color data out of range: Z < 0 in 1274 pixels\n",
      "  return func(*args, **kwargs)\n",
      "/home/konrad/.local/lib/python3.10/site-packages/skimage/_shared/utils.py:394: UserWarning: Color data out of range: Z < 0 in 264 pixels\n",
      "  return func(*args, **kwargs)\n",
      "/home/konrad/.local/lib/python3.10/site-packages/skimage/_shared/utils.py:394: UserWarning: Color data out of range: Z < 0 in 1380 pixels\n",
      "  return func(*args, **kwargs)\n",
      "/home/konrad/.local/lib/python3.10/site-packages/skimage/_shared/utils.py:394: UserWarning: Color data out of range: Z < 0 in 992 pixels\n",
      "  return func(*args, **kwargs)\n",
      "/home/konrad/.local/lib/python3.10/site-packages/skimage/_shared/utils.py:394: UserWarning: Color data out of range: Z < 0 in 734 pixels\n",
      "  return func(*args, **kwargs)\n"
     ]
    },
    {
     "name": "stdout",
     "output_type": "stream",
     "text": [
      "Validate: Loss 0.0201 (0.0194)\t\n",
      "Finished validation.\n",
      "Starting training epoch 230\n",
      "Epoch: 230, Loss 0.0036 (0.0038)\n",
      "Finished training epoch 230\n",
      "Validate: Loss 0.0086 (0.0086)\t\n",
      "Finished validation.\n",
      "Starting training epoch 231\n",
      "Epoch: 231, Loss 0.0038 (0.0038)\n",
      "Finished training epoch 231\n"
     ]
    },
    {
     "name": "stderr",
     "output_type": "stream",
     "text": [
      "/home/konrad/.local/lib/python3.10/site-packages/skimage/_shared/utils.py:394: UserWarning: Color data out of range: Z < 0 in 173 pixels\n",
      "  return func(*args, **kwargs)\n"
     ]
    },
    {
     "name": "stdout",
     "output_type": "stream",
     "text": [
      "Validate: Loss 0.0114 (0.0110)\t\n",
      "Finished validation.\n",
      "Starting training epoch 232\n",
      "Epoch: 232, Loss 0.0037 (0.0038)\n",
      "Finished training epoch 232\n",
      "Validate: Loss 0.0098 (0.0097)\t\n",
      "Finished validation.\n",
      "Starting training epoch 233\n",
      "Epoch: 233, Loss 0.0038 (0.0038)\n",
      "Finished training epoch 233\n",
      "Validate: Loss 0.0097 (0.0098)\t\n",
      "Finished validation.\n",
      "Starting training epoch 234\n",
      "Epoch: 234, Loss 0.0039 (0.0038)\n",
      "Finished training epoch 234\n"
     ]
    },
    {
     "name": "stderr",
     "output_type": "stream",
     "text": [
      "/home/konrad/.local/lib/python3.10/site-packages/skimage/_shared/utils.py:394: UserWarning: Color data out of range: Z < 0 in 870 pixels\n",
      "  return func(*args, **kwargs)\n",
      "/home/konrad/.local/lib/python3.10/site-packages/skimage/_shared/utils.py:394: UserWarning: Color data out of range: Z < 0 in 905 pixels\n",
      "  return func(*args, **kwargs)\n",
      "/home/konrad/.local/lib/python3.10/site-packages/skimage/_shared/utils.py:394: UserWarning: Color data out of range: Z < 0 in 833 pixels\n",
      "  return func(*args, **kwargs)\n",
      "/home/konrad/.local/lib/python3.10/site-packages/skimage/_shared/utils.py:394: UserWarning: Color data out of range: Z < 0 in 940 pixels\n",
      "  return func(*args, **kwargs)\n",
      "/home/konrad/.local/lib/python3.10/site-packages/skimage/_shared/utils.py:394: UserWarning: Color data out of range: Z < 0 in 408 pixels\n",
      "  return func(*args, **kwargs)\n"
     ]
    },
    {
     "name": "stdout",
     "output_type": "stream",
     "text": [
      "Validate: Loss 0.0160 (0.0154)\t\n",
      "Finished validation.\n",
      "Starting training epoch 235\n",
      "Epoch: 235, Loss 0.0036 (0.0038)\n",
      "Finished training epoch 235\n"
     ]
    },
    {
     "name": "stderr",
     "output_type": "stream",
     "text": [
      "/home/konrad/.local/lib/python3.10/site-packages/skimage/_shared/utils.py:394: UserWarning: Color data out of range: Z < 0 in 884 pixels\n",
      "  return func(*args, **kwargs)\n",
      "/home/konrad/.local/lib/python3.10/site-packages/skimage/_shared/utils.py:394: UserWarning: Color data out of range: Z < 0 in 1167 pixels\n",
      "  return func(*args, **kwargs)\n",
      "/home/konrad/.local/lib/python3.10/site-packages/skimage/_shared/utils.py:394: UserWarning: Color data out of range: Z < 0 in 1220 pixels\n",
      "  return func(*args, **kwargs)\n",
      "/home/konrad/.local/lib/python3.10/site-packages/skimage/_shared/utils.py:394: UserWarning: Color data out of range: Z < 0 in 1061 pixels\n",
      "  return func(*args, **kwargs)\n",
      "/home/konrad/.local/lib/python3.10/site-packages/skimage/_shared/utils.py:394: UserWarning: Color data out of range: Z < 0 in 1129 pixels\n",
      "  return func(*args, **kwargs)\n",
      "/home/konrad/.local/lib/python3.10/site-packages/skimage/_shared/utils.py:394: UserWarning: Color data out of range: Z < 0 in 1048 pixels\n",
      "  return func(*args, **kwargs)\n",
      "/home/konrad/.local/lib/python3.10/site-packages/skimage/_shared/utils.py:394: UserWarning: Color data out of range: Z < 0 in 542 pixels\n",
      "  return func(*args, **kwargs)\n"
     ]
    },
    {
     "name": "stdout",
     "output_type": "stream",
     "text": [
      "Validate: Loss 0.0195 (0.0189)\t\n",
      "Finished validation.\n",
      "Starting training epoch 236\n",
      "Epoch: 236, Loss 0.0037 (0.0038)\n",
      "Finished training epoch 236\n"
     ]
    },
    {
     "name": "stderr",
     "output_type": "stream",
     "text": [
      "/home/konrad/.local/lib/python3.10/site-packages/skimage/_shared/utils.py:394: UserWarning: Color data out of range: Z < 0 in 805 pixels\n",
      "  return func(*args, **kwargs)\n",
      "/home/konrad/.local/lib/python3.10/site-packages/skimage/_shared/utils.py:394: UserWarning: Color data out of range: Z < 0 in 864 pixels\n",
      "  return func(*args, **kwargs)\n",
      "/home/konrad/.local/lib/python3.10/site-packages/skimage/_shared/utils.py:394: UserWarning: Color data out of range: Z < 0 in 756 pixels\n",
      "  return func(*args, **kwargs)\n",
      "/home/konrad/.local/lib/python3.10/site-packages/skimage/_shared/utils.py:394: UserWarning: Color data out of range: Z < 0 in 484 pixels\n",
      "  return func(*args, **kwargs)\n",
      "/home/konrad/.local/lib/python3.10/site-packages/skimage/_shared/utils.py:394: UserWarning: Color data out of range: Z < 0 in 741 pixels\n",
      "  return func(*args, **kwargs)\n",
      "/home/konrad/.local/lib/python3.10/site-packages/skimage/_shared/utils.py:394: UserWarning: Color data out of range: Z < 0 in 908 pixels\n",
      "  return func(*args, **kwargs)\n",
      "/home/konrad/.local/lib/python3.10/site-packages/skimage/_shared/utils.py:394: UserWarning: Color data out of range: Z < 0 in 446 pixels\n",
      "  return func(*args, **kwargs)\n"
     ]
    },
    {
     "name": "stdout",
     "output_type": "stream",
     "text": [
      "Validate: Loss 0.0160 (0.0153)\t\n",
      "Finished validation.\n",
      "Starting training epoch 237\n",
      "Epoch: 237, Loss 0.0043 (0.0038)\n",
      "Finished training epoch 237\n"
     ]
    },
    {
     "name": "stderr",
     "output_type": "stream",
     "text": [
      "/home/konrad/.local/lib/python3.10/site-packages/skimage/_shared/utils.py:394: UserWarning: Color data out of range: Z < 0 in 773 pixels\n",
      "  return func(*args, **kwargs)\n",
      "/home/konrad/.local/lib/python3.10/site-packages/skimage/_shared/utils.py:394: UserWarning: Color data out of range: Z < 0 in 653 pixels\n",
      "  return func(*args, **kwargs)\n",
      "/home/konrad/.local/lib/python3.10/site-packages/skimage/_shared/utils.py:394: UserWarning: Color data out of range: Z < 0 in 570 pixels\n",
      "  return func(*args, **kwargs)\n",
      "/home/konrad/.local/lib/python3.10/site-packages/skimage/_shared/utils.py:394: UserWarning: Color data out of range: Z < 0 in 313 pixels\n",
      "  return func(*args, **kwargs)\n"
     ]
    },
    {
     "name": "stdout",
     "output_type": "stream",
     "text": [
      "Validate: Loss 0.0128 (0.0126)\t\n",
      "Finished validation.\n",
      "Starting training epoch 238\n",
      "Epoch: 238, Loss 0.0040 (0.0038)\n",
      "Finished training epoch 238\n"
     ]
    },
    {
     "name": "stderr",
     "output_type": "stream",
     "text": [
      "/home/konrad/.local/lib/python3.10/site-packages/skimage/_shared/utils.py:394: UserWarning: Color data out of range: Z < 0 in 287 pixels\n",
      "  return func(*args, **kwargs)\n",
      "/home/konrad/.local/lib/python3.10/site-packages/skimage/_shared/utils.py:394: UserWarning: Color data out of range: Z < 0 in 474 pixels\n",
      "  return func(*args, **kwargs)\n",
      "/home/konrad/.local/lib/python3.10/site-packages/skimage/_shared/utils.py:394: UserWarning: Color data out of range: Z < 0 in 155 pixels\n",
      "  return func(*args, **kwargs)\n"
     ]
    },
    {
     "name": "stdout",
     "output_type": "stream",
     "text": [
      "Validate: Loss 0.0105 (0.0103)\t\n",
      "Finished validation.\n",
      "Starting training epoch 239\n",
      "Epoch: 239, Loss 0.0040 (0.0038)\n",
      "Finished training epoch 239\n"
     ]
    },
    {
     "name": "stderr",
     "output_type": "stream",
     "text": [
      "/home/konrad/.local/lib/python3.10/site-packages/skimage/_shared/utils.py:394: UserWarning: Color data out of range: Z < 0 in 1076 pixels\n",
      "  return func(*args, **kwargs)\n",
      "/home/konrad/.local/lib/python3.10/site-packages/skimage/_shared/utils.py:394: UserWarning: Color data out of range: Z < 0 in 1168 pixels\n",
      "  return func(*args, **kwargs)\n",
      "/home/konrad/.local/lib/python3.10/site-packages/skimage/_shared/utils.py:394: UserWarning: Color data out of range: Z < 0 in 1105 pixels\n",
      "  return func(*args, **kwargs)\n",
      "/home/konrad/.local/lib/python3.10/site-packages/skimage/_shared/utils.py:394: UserWarning: Color data out of range: Z < 0 in 997 pixels\n",
      "  return func(*args, **kwargs)\n",
      "/home/konrad/.local/lib/python3.10/site-packages/skimage/_shared/utils.py:394: UserWarning: Color data out of range: Z < 0 in 712 pixels\n",
      "  return func(*args, **kwargs)\n"
     ]
    },
    {
     "name": "stdout",
     "output_type": "stream",
     "text": [
      "Validate: Loss 0.0176 (0.0170)\t\n",
      "Finished validation.\n",
      "Starting training epoch 240\n",
      "Epoch: 240, Loss 0.0036 (0.0038)\n",
      "Finished training epoch 240\n"
     ]
    },
    {
     "name": "stderr",
     "output_type": "stream",
     "text": [
      "/home/konrad/.local/lib/python3.10/site-packages/skimage/_shared/utils.py:394: UserWarning: Color data out of range: Z < 0 in 391 pixels\n",
      "  return func(*args, **kwargs)\n",
      "/home/konrad/.local/lib/python3.10/site-packages/skimage/_shared/utils.py:394: UserWarning: Color data out of range: Z < 0 in 290 pixels\n",
      "  return func(*args, **kwargs)\n"
     ]
    },
    {
     "name": "stdout",
     "output_type": "stream",
     "text": [
      "Validate: Loss 0.0094 (0.0096)\t\n",
      "Finished validation.\n",
      "Starting training epoch 241\n",
      "Epoch: 241, Loss 0.0036 (0.0038)\n",
      "Finished training epoch 241\n"
     ]
    },
    {
     "name": "stderr",
     "output_type": "stream",
     "text": [
      "/home/konrad/.local/lib/python3.10/site-packages/skimage/_shared/utils.py:394: UserWarning: Color data out of range: Z < 0 in 686 pixels\n",
      "  return func(*args, **kwargs)\n",
      "/home/konrad/.local/lib/python3.10/site-packages/skimage/_shared/utils.py:394: UserWarning: Color data out of range: Z < 0 in 220 pixels\n",
      "  return func(*args, **kwargs)\n"
     ]
    },
    {
     "name": "stdout",
     "output_type": "stream",
     "text": [
      "Validate: Loss 0.0119 (0.0117)\t\n",
      "Finished validation.\n",
      "Starting training epoch 242\n",
      "Epoch: 242, Loss 0.0038 (0.0038)\n",
      "Finished training epoch 242\n"
     ]
    },
    {
     "name": "stderr",
     "output_type": "stream",
     "text": [
      "/home/konrad/.local/lib/python3.10/site-packages/skimage/_shared/utils.py:394: UserWarning: Color data out of range: Z < 0 in 348 pixels\n",
      "  return func(*args, **kwargs)\n"
     ]
    },
    {
     "name": "stdout",
     "output_type": "stream",
     "text": [
      "Validate: Loss 0.0099 (0.0099)\t\n",
      "Finished validation.\n",
      "Starting training epoch 243\n",
      "Epoch: 243, Loss 0.0037 (0.0037)\n",
      "Finished training epoch 243\n",
      "Validate: Loss 0.0090 (0.0092)\t\n",
      "Finished validation.\n",
      "Starting training epoch 244\n",
      "Epoch: 244, Loss 0.0041 (0.0037)\n",
      "Finished training epoch 244\n"
     ]
    },
    {
     "name": "stderr",
     "output_type": "stream",
     "text": [
      "/home/konrad/.local/lib/python3.10/site-packages/skimage/_shared/utils.py:394: UserWarning: Color data out of range: Z < 0 in 211 pixels\n",
      "  return func(*args, **kwargs)\n"
     ]
    },
    {
     "name": "stdout",
     "output_type": "stream",
     "text": [
      "Validate: Loss 0.0094 (0.0095)\t\n",
      "Finished validation.\n",
      "Starting training epoch 245\n",
      "Epoch: 245, Loss 0.0038 (0.0038)\n",
      "Finished training epoch 245\n"
     ]
    },
    {
     "name": "stderr",
     "output_type": "stream",
     "text": [
      "/home/konrad/.local/lib/python3.10/site-packages/skimage/_shared/utils.py:394: UserWarning: Color data out of range: Z < 0 in 674 pixels\n",
      "  return func(*args, **kwargs)\n",
      "/home/konrad/.local/lib/python3.10/site-packages/skimage/_shared/utils.py:394: UserWarning: Color data out of range: Z < 0 in 765 pixels\n",
      "  return func(*args, **kwargs)\n",
      "/home/konrad/.local/lib/python3.10/site-packages/skimage/_shared/utils.py:394: UserWarning: Color data out of range: Z < 0 in 280 pixels\n",
      "  return func(*args, **kwargs)\n",
      "/home/konrad/.local/lib/python3.10/site-packages/skimage/_shared/utils.py:394: UserWarning: Color data out of range: Z < 0 in 760 pixels\n",
      "  return func(*args, **kwargs)\n",
      "/home/konrad/.local/lib/python3.10/site-packages/skimage/_shared/utils.py:394: UserWarning: Color data out of range: Z < 0 in 301 pixels\n",
      "  return func(*args, **kwargs)\n",
      "/home/konrad/.local/lib/python3.10/site-packages/skimage/_shared/utils.py:394: UserWarning: Color data out of range: Z < 0 in 424 pixels\n",
      "  return func(*args, **kwargs)\n"
     ]
    },
    {
     "name": "stdout",
     "output_type": "stream",
     "text": [
      "Validate: Loss 0.0145 (0.0139)\t\n",
      "Finished validation.\n",
      "Starting training epoch 246\n",
      "Epoch: 246, Loss 0.0038 (0.0037)\n",
      "Finished training epoch 246\n",
      "Validate: Loss 0.0093 (0.0093)\t\n",
      "Finished validation.\n",
      "Starting training epoch 247\n",
      "Epoch: 247, Loss 0.0034 (0.0037)\n",
      "Finished training epoch 247\n"
     ]
    },
    {
     "name": "stderr",
     "output_type": "stream",
     "text": [
      "/home/konrad/.local/lib/python3.10/site-packages/skimage/_shared/utils.py:394: UserWarning: Color data out of range: Z < 0 in 473 pixels\n",
      "  return func(*args, **kwargs)\n",
      "/home/konrad/.local/lib/python3.10/site-packages/skimage/_shared/utils.py:394: UserWarning: Color data out of range: Z < 0 in 607 pixels\n",
      "  return func(*args, **kwargs)\n"
     ]
    },
    {
     "name": "stdout",
     "output_type": "stream",
     "text": [
      "Validate: Loss 0.0106 (0.0109)\t\n",
      "Finished validation.\n",
      "Starting training epoch 248\n",
      "Epoch: 248, Loss 0.0037 (0.0037)\n",
      "Finished training epoch 248\n",
      "Validate: Loss 0.0093 (0.0094)\t\n",
      "Finished validation.\n",
      "Starting training epoch 249\n",
      "Epoch: 249, Loss 0.0039 (0.0037)\n",
      "Finished training epoch 249\n"
     ]
    },
    {
     "name": "stderr",
     "output_type": "stream",
     "text": [
      "/home/konrad/.local/lib/python3.10/site-packages/skimage/_shared/utils.py:394: UserWarning: Color data out of range: Z < 0 in 538 pixels\n",
      "  return func(*args, **kwargs)\n",
      "/home/konrad/.local/lib/python3.10/site-packages/skimage/_shared/utils.py:394: UserWarning: Color data out of range: Z < 0 in 334 pixels\n",
      "  return func(*args, **kwargs)\n"
     ]
    },
    {
     "name": "stdout",
     "output_type": "stream",
     "text": [
      "Validate: Loss 0.0095 (0.0096)\t\n",
      "Finished validation.\n",
      "Starting training epoch 250\n",
      "Epoch: 250, Loss 0.0037 (0.0037)\n",
      "Finished training epoch 250\n"
     ]
    },
    {
     "name": "stderr",
     "output_type": "stream",
     "text": [
      "/home/konrad/.local/lib/python3.10/site-packages/skimage/_shared/utils.py:394: UserWarning: Color data out of range: Z < 0 in 709 pixels\n",
      "  return func(*args, **kwargs)\n",
      "/home/konrad/.local/lib/python3.10/site-packages/skimage/_shared/utils.py:394: UserWarning: Color data out of range: Z < 0 in 403 pixels\n",
      "  return func(*args, **kwargs)\n",
      "/home/konrad/.local/lib/python3.10/site-packages/skimage/_shared/utils.py:394: UserWarning: Color data out of range: Z < 0 in 140 pixels\n",
      "  return func(*args, **kwargs)\n",
      "/home/konrad/.local/lib/python3.10/site-packages/skimage/_shared/utils.py:394: UserWarning: Color data out of range: Z < 0 in 842 pixels\n",
      "  return func(*args, **kwargs)\n",
      "/home/konrad/.local/lib/python3.10/site-packages/skimage/_shared/utils.py:394: UserWarning: Color data out of range: Z < 0 in 740 pixels\n",
      "  return func(*args, **kwargs)\n"
     ]
    },
    {
     "name": "stdout",
     "output_type": "stream",
     "text": [
      "Validate: Loss 0.0125 (0.0122)\t\n",
      "Finished validation.\n",
      "Starting training epoch 251\n",
      "Epoch: 251, Loss 0.0041 (0.0037)\n",
      "Finished training epoch 251\n"
     ]
    },
    {
     "name": "stderr",
     "output_type": "stream",
     "text": [
      "/home/konrad/.local/lib/python3.10/site-packages/skimage/_shared/utils.py:394: UserWarning: Color data out of range: Z < 0 in 726 pixels\n",
      "  return func(*args, **kwargs)\n",
      "/home/konrad/.local/lib/python3.10/site-packages/skimage/_shared/utils.py:394: UserWarning: Color data out of range: Z < 0 in 758 pixels\n",
      "  return func(*args, **kwargs)\n",
      "/home/konrad/.local/lib/python3.10/site-packages/skimage/_shared/utils.py:394: UserWarning: Color data out of range: Z < 0 in 331 pixels\n",
      "  return func(*args, **kwargs)\n"
     ]
    },
    {
     "name": "stdout",
     "output_type": "stream",
     "text": [
      "Validate: Loss 0.0132 (0.0130)\t\n",
      "Finished validation.\n",
      "Starting training epoch 252\n",
      "Epoch: 252, Loss 0.0034 (0.0037)\n",
      "Finished training epoch 252\n"
     ]
    },
    {
     "name": "stderr",
     "output_type": "stream",
     "text": [
      "/home/konrad/.local/lib/python3.10/site-packages/skimage/_shared/utils.py:394: UserWarning: Color data out of range: Z < 0 in 711 pixels\n",
      "  return func(*args, **kwargs)\n",
      "/home/konrad/.local/lib/python3.10/site-packages/skimage/_shared/utils.py:394: UserWarning: Color data out of range: Z < 0 in 576 pixels\n",
      "  return func(*args, **kwargs)\n",
      "/home/konrad/.local/lib/python3.10/site-packages/skimage/_shared/utils.py:394: UserWarning: Color data out of range: Z < 0 in 471 pixels\n",
      "  return func(*args, **kwargs)\n",
      "/home/konrad/.local/lib/python3.10/site-packages/skimage/_shared/utils.py:394: UserWarning: Color data out of range: Z < 0 in 282 pixels\n",
      "  return func(*args, **kwargs)\n",
      "/home/konrad/.local/lib/python3.10/site-packages/skimage/_shared/utils.py:394: UserWarning: Color data out of range: Z < 0 in 285 pixels\n",
      "  return func(*args, **kwargs)\n"
     ]
    },
    {
     "name": "stdout",
     "output_type": "stream",
     "text": [
      "Validate: Loss 0.0144 (0.0140)\t\n",
      "Finished validation.\n",
      "Starting training epoch 253\n",
      "Epoch: 253, Loss 0.0039 (0.0037)\n",
      "Finished training epoch 253\n"
     ]
    },
    {
     "name": "stderr",
     "output_type": "stream",
     "text": [
      "/home/konrad/.local/lib/python3.10/site-packages/skimage/_shared/utils.py:394: UserWarning: Color data out of range: Z < 0 in 1484 pixels\n",
      "  return func(*args, **kwargs)\n",
      "/home/konrad/.local/lib/python3.10/site-packages/skimage/_shared/utils.py:394: UserWarning: Color data out of range: Z < 0 in 1926 pixels\n",
      "  return func(*args, **kwargs)\n",
      "/home/konrad/.local/lib/python3.10/site-packages/skimage/_shared/utils.py:394: UserWarning: Color data out of range: Z < 0 in 1655 pixels\n",
      "  return func(*args, **kwargs)\n",
      "/home/konrad/.local/lib/python3.10/site-packages/skimage/_shared/utils.py:394: UserWarning: Color data out of range: Z < 0 in 1474 pixels\n",
      "  return func(*args, **kwargs)\n",
      "/home/konrad/.local/lib/python3.10/site-packages/skimage/_shared/utils.py:394: UserWarning: Color data out of range: Z < 0 in 994 pixels\n",
      "  return func(*args, **kwargs)\n",
      "/home/konrad/.local/lib/python3.10/site-packages/skimage/_shared/utils.py:394: UserWarning: Color data out of range: Z < 0 in 850 pixels\n",
      "  return func(*args, **kwargs)\n"
     ]
    },
    {
     "name": "stdout",
     "output_type": "stream",
     "text": [
      "Validate: Loss 0.0246 (0.0235)\t\n",
      "Finished validation.\n",
      "Starting training epoch 254\n",
      "Epoch: 254, Loss 0.0034 (0.0038)\n",
      "Finished training epoch 254\n"
     ]
    },
    {
     "name": "stderr",
     "output_type": "stream",
     "text": [
      "/home/konrad/.local/lib/python3.10/site-packages/skimage/_shared/utils.py:394: UserWarning: Color data out of range: Z < 0 in 1768 pixels\n",
      "  return func(*args, **kwargs)\n",
      "/home/konrad/.local/lib/python3.10/site-packages/skimage/_shared/utils.py:394: UserWarning: Color data out of range: Z < 0 in 2379 pixels\n",
      "  return func(*args, **kwargs)\n",
      "/home/konrad/.local/lib/python3.10/site-packages/skimage/_shared/utils.py:394: UserWarning: Color data out of range: Z < 0 in 1261 pixels\n",
      "  return func(*args, **kwargs)\n",
      "/home/konrad/.local/lib/python3.10/site-packages/skimage/_shared/utils.py:394: UserWarning: Color data out of range: Z < 0 in 2119 pixels\n",
      "  return func(*args, **kwargs)\n",
      "/home/konrad/.local/lib/python3.10/site-packages/skimage/_shared/utils.py:394: UserWarning: Color data out of range: Z < 0 in 1509 pixels\n",
      "  return func(*args, **kwargs)\n",
      "/home/konrad/.local/lib/python3.10/site-packages/skimage/_shared/utils.py:394: UserWarning: Color data out of range: Z < 0 in 1528 pixels\n",
      "  return func(*args, **kwargs)\n"
     ]
    },
    {
     "name": "stdout",
     "output_type": "stream",
     "text": [
      "Validate: Loss 0.0278 (0.0266)\t\n",
      "Finished validation.\n",
      "Starting training epoch 255\n",
      "Epoch: 255, Loss 0.0036 (0.0037)\n",
      "Finished training epoch 255\n"
     ]
    },
    {
     "name": "stderr",
     "output_type": "stream",
     "text": [
      "/home/konrad/.local/lib/python3.10/site-packages/skimage/_shared/utils.py:394: UserWarning: Color data out of range: Z < 0 in 1215 pixels\n",
      "  return func(*args, **kwargs)\n",
      "/home/konrad/.local/lib/python3.10/site-packages/skimage/_shared/utils.py:394: UserWarning: Color data out of range: Z < 0 in 1736 pixels\n",
      "  return func(*args, **kwargs)\n",
      "/home/konrad/.local/lib/python3.10/site-packages/skimage/_shared/utils.py:394: UserWarning: Color data out of range: Z < 0 in 2246 pixels\n",
      "  return func(*args, **kwargs)\n",
      "/home/konrad/.local/lib/python3.10/site-packages/skimage/_shared/utils.py:394: UserWarning: Color data out of range: Z < 0 in 1240 pixels\n",
      "  return func(*args, **kwargs)\n",
      "/home/konrad/.local/lib/python3.10/site-packages/skimage/_shared/utils.py:394: UserWarning: Color data out of range: Z < 0 in 1988 pixels\n",
      "  return func(*args, **kwargs)\n",
      "/home/konrad/.local/lib/python3.10/site-packages/skimage/_shared/utils.py:394: UserWarning: Color data out of range: Z < 0 in 1607 pixels\n",
      "  return func(*args, **kwargs)\n",
      "/home/konrad/.local/lib/python3.10/site-packages/skimage/_shared/utils.py:394: UserWarning: Color data out of range: Z < 0 in 1504 pixels\n",
      "  return func(*args, **kwargs)\n",
      "/home/konrad/.local/lib/python3.10/site-packages/skimage/_shared/utils.py:394: UserWarning: Color data out of range: Z < 0 in 1065 pixels\n",
      "  return func(*args, **kwargs)\n"
     ]
    },
    {
     "name": "stdout",
     "output_type": "stream",
     "text": [
      "Validate: Loss 0.0270 (0.0259)\t\n",
      "Finished validation.\n",
      "Starting training epoch 256\n",
      "Epoch: 256, Loss 0.0034 (0.0037)\n",
      "Finished training epoch 256\n"
     ]
    },
    {
     "name": "stderr",
     "output_type": "stream",
     "text": [
      "/home/konrad/.local/lib/python3.10/site-packages/skimage/_shared/utils.py:394: UserWarning: Color data out of range: Z < 0 in 423 pixels\n",
      "  return func(*args, **kwargs)\n",
      "/home/konrad/.local/lib/python3.10/site-packages/skimage/_shared/utils.py:394: UserWarning: Color data out of range: Z < 0 in 302 pixels\n",
      "  return func(*args, **kwargs)\n"
     ]
    },
    {
     "name": "stdout",
     "output_type": "stream",
     "text": [
      "Validate: Loss 0.0102 (0.0103)\t\n",
      "Finished validation.\n",
      "Starting training epoch 257\n",
      "Epoch: 257, Loss 0.0035 (0.0037)\n",
      "Finished training epoch 257\n"
     ]
    },
    {
     "name": "stderr",
     "output_type": "stream",
     "text": [
      "/home/konrad/.local/lib/python3.10/site-packages/skimage/_shared/utils.py:394: UserWarning: Color data out of range: Z < 0 in 1533 pixels\n",
      "  return func(*args, **kwargs)\n",
      "/home/konrad/.local/lib/python3.10/site-packages/skimage/_shared/utils.py:394: UserWarning: Color data out of range: Z < 0 in 2044 pixels\n",
      "  return func(*args, **kwargs)\n",
      "/home/konrad/.local/lib/python3.10/site-packages/skimage/_shared/utils.py:394: UserWarning: Color data out of range: Z < 0 in 269 pixels\n",
      "  return func(*args, **kwargs)\n",
      "/home/konrad/.local/lib/python3.10/site-packages/skimage/_shared/utils.py:394: UserWarning: Color data out of range: Z < 0 in 1016 pixels\n",
      "  return func(*args, **kwargs)\n",
      "/home/konrad/.local/lib/python3.10/site-packages/skimage/_shared/utils.py:394: UserWarning: Color data out of range: Z < 0 in 1763 pixels\n",
      "  return func(*args, **kwargs)\n",
      "/home/konrad/.local/lib/python3.10/site-packages/skimage/_shared/utils.py:394: UserWarning: Color data out of range: Z < 0 in 1355 pixels\n",
      "  return func(*args, **kwargs)\n"
     ]
    },
    {
     "name": "stdout",
     "output_type": "stream",
     "text": [
      "Validate: Loss 0.0247 (0.0236)\t\n",
      "Finished validation.\n",
      "Starting training epoch 258\n",
      "Epoch: 258, Loss 0.0033 (0.0037)\n",
      "Finished training epoch 258\n"
     ]
    },
    {
     "name": "stderr",
     "output_type": "stream",
     "text": [
      "/home/konrad/.local/lib/python3.10/site-packages/skimage/_shared/utils.py:394: UserWarning: Color data out of range: Z < 0 in 867 pixels\n",
      "  return func(*args, **kwargs)\n",
      "/home/konrad/.local/lib/python3.10/site-packages/skimage/_shared/utils.py:394: UserWarning: Color data out of range: Z < 0 in 1191 pixels\n",
      "  return func(*args, **kwargs)\n",
      "/home/konrad/.local/lib/python3.10/site-packages/skimage/_shared/utils.py:394: UserWarning: Color data out of range: Z < 0 in 665 pixels\n",
      "  return func(*args, **kwargs)\n",
      "/home/konrad/.local/lib/python3.10/site-packages/skimage/_shared/utils.py:394: UserWarning: Color data out of range: Z < 0 in 1198 pixels\n",
      "  return func(*args, **kwargs)\n"
     ]
    },
    {
     "name": "stdout",
     "output_type": "stream",
     "text": [
      "Validate: Loss 0.0193 (0.0185)\t\n",
      "Finished validation.\n",
      "Starting training epoch 259\n",
      "Epoch: 259, Loss 0.0036 (0.0037)\n",
      "Finished training epoch 259\n"
     ]
    },
    {
     "name": "stderr",
     "output_type": "stream",
     "text": [
      "/home/konrad/.local/lib/python3.10/site-packages/skimage/_shared/utils.py:394: UserWarning: Color data out of range: Z < 0 in 919 pixels\n",
      "  return func(*args, **kwargs)\n",
      "/home/konrad/.local/lib/python3.10/site-packages/skimage/_shared/utils.py:394: UserWarning: Color data out of range: Z < 0 in 1462 pixels\n",
      "  return func(*args, **kwargs)\n",
      "/home/konrad/.local/lib/python3.10/site-packages/skimage/_shared/utils.py:394: UserWarning: Color data out of range: Z < 0 in 1694 pixels\n",
      "  return func(*args, **kwargs)\n",
      "/home/konrad/.local/lib/python3.10/site-packages/skimage/_shared/utils.py:394: UserWarning: Color data out of range: Z < 0 in 1606 pixels\n",
      "  return func(*args, **kwargs)\n",
      "/home/konrad/.local/lib/python3.10/site-packages/skimage/_shared/utils.py:394: UserWarning: Color data out of range: Z < 0 in 1253 pixels\n",
      "  return func(*args, **kwargs)\n"
     ]
    },
    {
     "name": "stdout",
     "output_type": "stream",
     "text": [
      "Validate: Loss 0.0202 (0.0195)\t\n",
      "Finished validation.\n",
      "Starting training epoch 260\n",
      "Epoch: 260, Loss 0.0036 (0.0037)\n",
      "Finished training epoch 260\n"
     ]
    },
    {
     "name": "stderr",
     "output_type": "stream",
     "text": [
      "/home/konrad/.local/lib/python3.10/site-packages/skimage/_shared/utils.py:394: UserWarning: Color data out of range: Z < 0 in 923 pixels\n",
      "  return func(*args, **kwargs)\n",
      "/home/konrad/.local/lib/python3.10/site-packages/skimage/_shared/utils.py:394: UserWarning: Color data out of range: Z < 0 in 933 pixels\n",
      "  return func(*args, **kwargs)\n",
      "/home/konrad/.local/lib/python3.10/site-packages/skimage/_shared/utils.py:394: UserWarning: Color data out of range: Z < 0 in 462 pixels\n",
      "  return func(*args, **kwargs)\n",
      "/home/konrad/.local/lib/python3.10/site-packages/skimage/_shared/utils.py:394: UserWarning: Color data out of range: Z < 0 in 479 pixels\n",
      "  return func(*args, **kwargs)\n"
     ]
    },
    {
     "name": "stdout",
     "output_type": "stream",
     "text": [
      "Validate: Loss 0.0153 (0.0148)\t\n",
      "Finished validation.\n",
      "Starting training epoch 261\n",
      "Epoch: 261, Loss 0.0037 (0.0037)\n",
      "Finished training epoch 261\n"
     ]
    },
    {
     "name": "stderr",
     "output_type": "stream",
     "text": [
      "/home/konrad/.local/lib/python3.10/site-packages/skimage/_shared/utils.py:394: UserWarning: Color data out of range: Z < 0 in 266 pixels\n",
      "  return func(*args, **kwargs)\n",
      "/home/konrad/.local/lib/python3.10/site-packages/skimage/_shared/utils.py:394: UserWarning: Color data out of range: Z < 0 in 224 pixels\n",
      "  return func(*args, **kwargs)\n",
      "/home/konrad/.local/lib/python3.10/site-packages/skimage/_shared/utils.py:394: UserWarning: Color data out of range: Z < 0 in 234 pixels\n",
      "  return func(*args, **kwargs)\n"
     ]
    },
    {
     "name": "stdout",
     "output_type": "stream",
     "text": [
      "Validate: Loss 0.0097 (0.0100)\t\n",
      "Finished validation.\n",
      "Starting training epoch 262\n",
      "Epoch: 262, Loss 0.0037 (0.0036)\n",
      "Finished training epoch 262\n"
     ]
    },
    {
     "name": "stderr",
     "output_type": "stream",
     "text": [
      "/home/konrad/.local/lib/python3.10/site-packages/skimage/_shared/utils.py:394: UserWarning: Color data out of range: Z < 0 in 179 pixels\n",
      "  return func(*args, **kwargs)\n",
      "/home/konrad/.local/lib/python3.10/site-packages/skimage/_shared/utils.py:394: UserWarning: Color data out of range: Z < 0 in 322 pixels\n",
      "  return func(*args, **kwargs)\n"
     ]
    },
    {
     "name": "stdout",
     "output_type": "stream",
     "text": [
      "Validate: Loss 0.0099 (0.0099)\t\n",
      "Finished validation.\n",
      "Starting training epoch 263\n",
      "Epoch: 263, Loss 0.0032 (0.0037)\n",
      "Finished training epoch 263\n"
     ]
    },
    {
     "name": "stderr",
     "output_type": "stream",
     "text": [
      "/home/konrad/.local/lib/python3.10/site-packages/skimage/_shared/utils.py:394: UserWarning: Color data out of range: Z < 0 in 433 pixels\n",
      "  return func(*args, **kwargs)\n",
      "/home/konrad/.local/lib/python3.10/site-packages/skimage/_shared/utils.py:394: UserWarning: Color data out of range: Z < 0 in 613 pixels\n",
      "  return func(*args, **kwargs)\n",
      "/home/konrad/.local/lib/python3.10/site-packages/skimage/_shared/utils.py:394: UserWarning: Color data out of range: Z < 0 in 149 pixels\n",
      "  return func(*args, **kwargs)\n"
     ]
    },
    {
     "name": "stdout",
     "output_type": "stream",
     "text": [
      "Validate: Loss 0.0128 (0.0124)\t\n",
      "Finished validation.\n",
      "Starting training epoch 264\n",
      "Epoch: 264, Loss 0.0039 (0.0037)\n",
      "Finished training epoch 264\n"
     ]
    },
    {
     "name": "stderr",
     "output_type": "stream",
     "text": [
      "/home/konrad/.local/lib/python3.10/site-packages/skimage/_shared/utils.py:394: UserWarning: Color data out of range: Z < 0 in 204 pixels\n",
      "  return func(*args, **kwargs)\n",
      "/home/konrad/.local/lib/python3.10/site-packages/skimage/_shared/utils.py:394: UserWarning: Color data out of range: Z < 0 in 363 pixels\n",
      "  return func(*args, **kwargs)\n"
     ]
    },
    {
     "name": "stdout",
     "output_type": "stream",
     "text": [
      "Validate: Loss 0.0094 (0.0097)\t\n",
      "Finished validation.\n",
      "Starting training epoch 265\n",
      "Epoch: 265, Loss 0.0038 (0.0036)\n",
      "Finished training epoch 265\n",
      "Validate: Loss 0.0087 (0.0090)\t\n",
      "Finished validation.\n",
      "Starting training epoch 266\n",
      "Epoch: 266, Loss 0.0034 (0.0036)\n",
      "Finished training epoch 266\n",
      "Validate: Loss 0.0098 (0.0104)\t\n",
      "Finished validation.\n",
      "Starting training epoch 267\n",
      "Epoch: 267, Loss 0.0036 (0.0036)\n",
      "Finished training epoch 267\n",
      "Validate: Loss 0.0086 (0.0089)\t\n",
      "Finished validation.\n",
      "Starting training epoch 268\n",
      "Epoch: 268, Loss 0.0036 (0.0037)\n",
      "Finished training epoch 268\n",
      "Validate: Loss 0.0089 (0.0090)\t\n",
      "Finished validation.\n",
      "Starting training epoch 269\n",
      "Epoch: 269, Loss 0.0040 (0.0036)\n",
      "Finished training epoch 269\n"
     ]
    },
    {
     "name": "stderr",
     "output_type": "stream",
     "text": [
      "/home/konrad/.local/lib/python3.10/site-packages/skimage/_shared/utils.py:394: UserWarning: Color data out of range: Z < 0 in 231 pixels\n",
      "  return func(*args, **kwargs)\n"
     ]
    },
    {
     "name": "stdout",
     "output_type": "stream",
     "text": [
      "Validate: Loss 0.0090 (0.0094)\t\n",
      "Finished validation.\n",
      "Starting training epoch 270\n",
      "Epoch: 270, Loss 0.0032 (0.0037)\n",
      "Finished training epoch 270\n"
     ]
    },
    {
     "name": "stderr",
     "output_type": "stream",
     "text": [
      "/home/konrad/.local/lib/python3.10/site-packages/skimage/_shared/utils.py:394: UserWarning: Color data out of range: Z < 0 in 502 pixels\n",
      "  return func(*args, **kwargs)\n",
      "/home/konrad/.local/lib/python3.10/site-packages/skimage/_shared/utils.py:394: UserWarning: Color data out of range: Z < 0 in 119 pixels\n",
      "  return func(*args, **kwargs)\n",
      "/home/konrad/.local/lib/python3.10/site-packages/skimage/_shared/utils.py:394: UserWarning: Color data out of range: Z < 0 in 572 pixels\n",
      "  return func(*args, **kwargs)\n"
     ]
    },
    {
     "name": "stdout",
     "output_type": "stream",
     "text": [
      "Validate: Loss 0.0107 (0.0108)\t\n",
      "Finished validation.\n",
      "Starting training epoch 271\n",
      "Epoch: 271, Loss 0.0039 (0.0037)\n",
      "Finished training epoch 271\n",
      "Validate: Loss 0.0083 (0.0088)\t\n",
      "Finished validation.\n",
      "Starting training epoch 272\n",
      "Epoch: 272, Loss 0.0038 (0.0037)\n",
      "Finished training epoch 272\n",
      "Validate: Loss 0.0099 (0.0098)\t\n",
      "Finished validation.\n",
      "Starting training epoch 273\n",
      "Epoch: 273, Loss 0.0044 (0.0036)\n",
      "Finished training epoch 273\n"
     ]
    },
    {
     "name": "stderr",
     "output_type": "stream",
     "text": [
      "/home/konrad/.local/lib/python3.10/site-packages/skimage/_shared/utils.py:394: UserWarning: Color data out of range: Z < 0 in 700 pixels\n",
      "  return func(*args, **kwargs)\n",
      "/home/konrad/.local/lib/python3.10/site-packages/skimage/_shared/utils.py:394: UserWarning: Color data out of range: Z < 0 in 583 pixels\n",
      "  return func(*args, **kwargs)\n",
      "/home/konrad/.local/lib/python3.10/site-packages/skimage/_shared/utils.py:394: UserWarning: Color data out of range: Z < 0 in 544 pixels\n",
      "  return func(*args, **kwargs)\n"
     ]
    },
    {
     "name": "stdout",
     "output_type": "stream",
     "text": [
      "Validate: Loss 0.0158 (0.0151)\t\n",
      "Finished validation.\n",
      "Starting training epoch 274\n",
      "Epoch: 274, Loss 0.0041 (0.0036)\n",
      "Finished training epoch 274\n"
     ]
    },
    {
     "name": "stderr",
     "output_type": "stream",
     "text": [
      "/home/konrad/.local/lib/python3.10/site-packages/skimage/_shared/utils.py:394: UserWarning: Color data out of range: Z < 0 in 254 pixels\n",
      "  return func(*args, **kwargs)\n"
     ]
    },
    {
     "name": "stdout",
     "output_type": "stream",
     "text": [
      "Validate: Loss 0.0093 (0.0094)\t\n",
      "Finished validation.\n",
      "Starting training epoch 275\n",
      "Epoch: 275, Loss 0.0037 (0.0036)\n",
      "Finished training epoch 275\n"
     ]
    },
    {
     "name": "stderr",
     "output_type": "stream",
     "text": [
      "/home/konrad/.local/lib/python3.10/site-packages/skimage/_shared/utils.py:394: UserWarning: Color data out of range: Z < 0 in 83 pixels\n",
      "  return func(*args, **kwargs)\n",
      "/home/konrad/.local/lib/python3.10/site-packages/skimage/_shared/utils.py:394: UserWarning: Color data out of range: Z < 0 in 293 pixels\n",
      "  return func(*args, **kwargs)\n"
     ]
    },
    {
     "name": "stdout",
     "output_type": "stream",
     "text": [
      "Validate: Loss 0.0091 (0.0092)\t\n",
      "Finished validation.\n",
      "Starting training epoch 276\n",
      "Epoch: 276, Loss 0.0035 (0.0036)\n",
      "Finished training epoch 276\n"
     ]
    },
    {
     "name": "stderr",
     "output_type": "stream",
     "text": [
      "/home/konrad/.local/lib/python3.10/site-packages/skimage/_shared/utils.py:394: UserWarning: Color data out of range: Z < 0 in 271 pixels\n",
      "  return func(*args, **kwargs)\n"
     ]
    },
    {
     "name": "stdout",
     "output_type": "stream",
     "text": [
      "Validate: Loss 0.0087 (0.0091)\t\n",
      "Finished validation.\n",
      "Starting training epoch 277\n",
      "Epoch: 277, Loss 0.0035 (0.0036)\n",
      "Finished training epoch 277\n",
      "Validate: Loss 0.0082 (0.0087)\t\n",
      "Finished validation.\n",
      "Starting training epoch 278\n",
      "Epoch: 278, Loss 0.0038 (0.0036)\n",
      "Finished training epoch 278\n"
     ]
    },
    {
     "name": "stderr",
     "output_type": "stream",
     "text": [
      "/home/konrad/.local/lib/python3.10/site-packages/skimage/_shared/utils.py:394: UserWarning: Color data out of range: Z < 0 in 547 pixels\n",
      "  return func(*args, **kwargs)\n",
      "/home/konrad/.local/lib/python3.10/site-packages/skimage/_shared/utils.py:394: UserWarning: Color data out of range: Z < 0 in 101 pixels\n",
      "  return func(*args, **kwargs)\n"
     ]
    },
    {
     "name": "stdout",
     "output_type": "stream",
     "text": [
      "Validate: Loss 0.0105 (0.0102)\t\n",
      "Finished validation.\n",
      "Starting training epoch 279\n",
      "Epoch: 279, Loss 0.0040 (0.0036)\n",
      "Finished training epoch 279\n"
     ]
    },
    {
     "name": "stderr",
     "output_type": "stream",
     "text": [
      "/home/konrad/.local/lib/python3.10/site-packages/skimage/_shared/utils.py:394: UserWarning: Color data out of range: Z < 0 in 226 pixels\n",
      "  return func(*args, **kwargs)\n"
     ]
    },
    {
     "name": "stdout",
     "output_type": "stream",
     "text": [
      "Validate: Loss 0.0110 (0.0110)\t\n",
      "Finished validation.\n",
      "Starting training epoch 280\n",
      "Epoch: 280, Loss 0.0038 (0.0036)\n",
      "Finished training epoch 280\n",
      "Validate: Loss 0.0088 (0.0089)\t\n",
      "Finished validation.\n",
      "Starting training epoch 281\n",
      "Epoch: 281, Loss 0.0040 (0.0036)\n",
      "Finished training epoch 281\n",
      "Validate: Loss 0.0101 (0.0100)\t\n",
      "Finished validation.\n",
      "Starting training epoch 282\n",
      "Epoch: 282, Loss 0.0036 (0.0036)\n",
      "Finished training epoch 282\n"
     ]
    },
    {
     "name": "stderr",
     "output_type": "stream",
     "text": [
      "/home/konrad/.local/lib/python3.10/site-packages/skimage/_shared/utils.py:394: UserWarning: Color data out of range: Z < 0 in 917 pixels\n",
      "  return func(*args, **kwargs)\n"
     ]
    },
    {
     "name": "stdout",
     "output_type": "stream",
     "text": [
      "Validate: Loss 0.0137 (0.0133)\t\n",
      "Finished validation.\n",
      "Starting training epoch 283\n",
      "Epoch: 283, Loss 0.0039 (0.0036)\n",
      "Finished training epoch 283\n",
      "Validate: Loss 0.0088 (0.0093)\t\n",
      "Finished validation.\n",
      "Starting training epoch 284\n",
      "Epoch: 284, Loss 0.0036 (0.0036)\n",
      "Finished training epoch 284\n",
      "Validate: Loss 0.0085 (0.0087)\t\n",
      "Finished validation.\n",
      "Starting training epoch 285\n",
      "Epoch: 285, Loss 0.0035 (0.0036)\n",
      "Finished training epoch 285\n",
      "Validate: Loss 0.0124 (0.0121)\t\n",
      "Finished validation.\n",
      "Starting training epoch 286\n",
      "Epoch: 286, Loss 0.0032 (0.0036)\n",
      "Finished training epoch 286\n"
     ]
    },
    {
     "name": "stderr",
     "output_type": "stream",
     "text": [
      "/home/konrad/.local/lib/python3.10/site-packages/skimage/_shared/utils.py:394: UserWarning: Color data out of range: Z < 0 in 361 pixels\n",
      "  return func(*args, **kwargs)\n"
     ]
    },
    {
     "name": "stdout",
     "output_type": "stream",
     "text": [
      "Validate: Loss 0.0107 (0.0109)\t\n",
      "Finished validation.\n",
      "Starting training epoch 287\n",
      "Epoch: 287, Loss 0.0037 (0.0036)\n",
      "Finished training epoch 287\n",
      "Validate: Loss 0.0090 (0.0095)\t\n",
      "Finished validation.\n",
      "Starting training epoch 288\n",
      "Epoch: 288, Loss 0.0036 (0.0036)\n",
      "Finished training epoch 288\n",
      "Validate: Loss 0.0086 (0.0091)\t\n",
      "Finished validation.\n",
      "Starting training epoch 289\n",
      "Epoch: 289, Loss 0.0034 (0.0036)\n",
      "Finished training epoch 289\n"
     ]
    },
    {
     "name": "stderr",
     "output_type": "stream",
     "text": [
      "/home/konrad/.local/lib/python3.10/site-packages/skimage/_shared/utils.py:394: UserWarning: Color data out of range: Z < 0 in 896 pixels\n",
      "  return func(*args, **kwargs)\n",
      "/home/konrad/.local/lib/python3.10/site-packages/skimage/_shared/utils.py:394: UserWarning: Color data out of range: Z < 0 in 1028 pixels\n",
      "  return func(*args, **kwargs)\n",
      "/home/konrad/.local/lib/python3.10/site-packages/skimage/_shared/utils.py:394: UserWarning: Color data out of range: Z < 0 in 1315 pixels\n",
      "  return func(*args, **kwargs)\n",
      "/home/konrad/.local/lib/python3.10/site-packages/skimage/_shared/utils.py:394: UserWarning: Color data out of range: Z < 0 in 1272 pixels\n",
      "  return func(*args, **kwargs)\n",
      "/home/konrad/.local/lib/python3.10/site-packages/skimage/_shared/utils.py:394: UserWarning: Color data out of range: Z < 0 in 683 pixels\n",
      "  return func(*args, **kwargs)\n"
     ]
    },
    {
     "name": "stdout",
     "output_type": "stream",
     "text": [
      "Validate: Loss 0.0178 (0.0172)\t\n",
      "Finished validation.\n",
      "Starting training epoch 290\n",
      "Epoch: 290, Loss 0.0032 (0.0035)\n",
      "Finished training epoch 290\n",
      "Validate: Loss 0.0086 (0.0089)\t\n",
      "Finished validation.\n",
      "Starting training epoch 291\n",
      "Epoch: 291, Loss 0.0038 (0.0035)\n",
      "Finished training epoch 291\n"
     ]
    },
    {
     "name": "stderr",
     "output_type": "stream",
     "text": [
      "/home/konrad/.local/lib/python3.10/site-packages/skimage/_shared/utils.py:394: UserWarning: Color data out of range: Z < 0 in 817 pixels\n",
      "  return func(*args, **kwargs)\n",
      "/home/konrad/.local/lib/python3.10/site-packages/skimage/_shared/utils.py:394: UserWarning: Color data out of range: Z < 0 in 704 pixels\n",
      "  return func(*args, **kwargs)\n"
     ]
    },
    {
     "name": "stdout",
     "output_type": "stream",
     "text": [
      "Validate: Loss 0.0141 (0.0137)\t\n",
      "Finished validation.\n",
      "Starting training epoch 292\n",
      "Epoch: 292, Loss 0.0034 (0.0036)\n",
      "Finished training epoch 292\n",
      "Validate: Loss 0.0092 (0.0097)\t\n",
      "Finished validation.\n",
      "Starting training epoch 293\n",
      "Epoch: 293, Loss 0.0036 (0.0036)\n",
      "Finished training epoch 293\n",
      "Validate: Loss 0.0099 (0.0099)\t\n",
      "Finished validation.\n",
      "Starting training epoch 294\n",
      "Epoch: 294, Loss 0.0035 (0.0035)\n",
      "Finished training epoch 294\n"
     ]
    },
    {
     "name": "stderr",
     "output_type": "stream",
     "text": [
      "/home/konrad/.local/lib/python3.10/site-packages/skimage/_shared/utils.py:394: UserWarning: Color data out of range: Z < 0 in 806 pixels\n",
      "  return func(*args, **kwargs)\n",
      "/home/konrad/.local/lib/python3.10/site-packages/skimage/_shared/utils.py:394: UserWarning: Color data out of range: Z < 0 in 581 pixels\n",
      "  return func(*args, **kwargs)\n",
      "/home/konrad/.local/lib/python3.10/site-packages/skimage/_shared/utils.py:394: UserWarning: Color data out of range: Z < 0 in 335 pixels\n",
      "  return func(*args, **kwargs)\n",
      "/home/konrad/.local/lib/python3.10/site-packages/skimage/_shared/utils.py:394: UserWarning: Color data out of range: Z < 0 in 689 pixels\n",
      "  return func(*args, **kwargs)\n"
     ]
    },
    {
     "name": "stdout",
     "output_type": "stream",
     "text": [
      "Validate: Loss 0.0128 (0.0124)\t\n",
      "Finished validation.\n",
      "Starting training epoch 295\n",
      "Epoch: 295, Loss 0.0034 (0.0036)\n",
      "Finished training epoch 295\n"
     ]
    },
    {
     "name": "stderr",
     "output_type": "stream",
     "text": [
      "/home/konrad/.local/lib/python3.10/site-packages/skimage/_shared/utils.py:394: UserWarning: Color data out of range: Z < 0 in 315 pixels\n",
      "  return func(*args, **kwargs)\n"
     ]
    },
    {
     "name": "stdout",
     "output_type": "stream",
     "text": [
      "Validate: Loss 0.0105 (0.0107)\t\n",
      "Finished validation.\n",
      "Starting training epoch 296\n",
      "Epoch: 296, Loss 0.0040 (0.0035)\n",
      "Finished training epoch 296\n",
      "Validate: Loss 0.0097 (0.0099)\t\n",
      "Finished validation.\n",
      "Starting training epoch 297\n",
      "Epoch: 297, Loss 0.0033 (0.0036)\n",
      "Finished training epoch 297\n"
     ]
    },
    {
     "name": "stderr",
     "output_type": "stream",
     "text": [
      "/home/konrad/.local/lib/python3.10/site-packages/skimage/_shared/utils.py:394: UserWarning: Color data out of range: Z < 0 in 243 pixels\n",
      "  return func(*args, **kwargs)\n"
     ]
    },
    {
     "name": "stdout",
     "output_type": "stream",
     "text": [
      "Validate: Loss 0.0108 (0.0108)\t\n",
      "Finished validation.\n",
      "Starting training epoch 298\n",
      "Epoch: 298, Loss 0.0036 (0.0035)\n",
      "Finished training epoch 298\n"
     ]
    },
    {
     "name": "stderr",
     "output_type": "stream",
     "text": [
      "/home/konrad/.local/lib/python3.10/site-packages/skimage/_shared/utils.py:394: UserWarning: Color data out of range: Z < 0 in 1000 pixels\n",
      "  return func(*args, **kwargs)\n",
      "/home/konrad/.local/lib/python3.10/site-packages/skimage/_shared/utils.py:394: UserWarning: Color data out of range: Z < 0 in 934 pixels\n",
      "  return func(*args, **kwargs)\n",
      "/home/konrad/.local/lib/python3.10/site-packages/skimage/_shared/utils.py:394: UserWarning: Color data out of range: Z < 0 in 885 pixels\n",
      "  return func(*args, **kwargs)\n",
      "/home/konrad/.local/lib/python3.10/site-packages/skimage/_shared/utils.py:394: UserWarning: Color data out of range: Z < 0 in 629 pixels\n",
      "  return func(*args, **kwargs)\n"
     ]
    },
    {
     "name": "stdout",
     "output_type": "stream",
     "text": [
      "Validate: Loss 0.0150 (0.0146)\t\n",
      "Finished validation.\n",
      "Starting training epoch 299\n",
      "Epoch: 299, Loss 0.0033 (0.0036)\n",
      "Finished training epoch 299\n",
      "Validate: Loss 0.0092 (0.0096)\t\n",
      "Finished validation.\n",
      "Starting training epoch 300\n",
      "Epoch: 300, Loss 0.0038 (0.0036)\n",
      "Finished training epoch 300\n",
      "Validate: Loss 0.0094 (0.0097)\t\n",
      "Finished validation.\n",
      "Starting training epoch 301\n",
      "Epoch: 301, Loss 0.0040 (0.0036)\n",
      "Finished training epoch 301\n",
      "Validate: Loss 0.0095 (0.0097)\t\n",
      "Finished validation.\n",
      "Starting training epoch 302\n",
      "Epoch: 302, Loss 0.0041 (0.0035)\n",
      "Finished training epoch 302\n",
      "Validate: Loss 0.0087 (0.0089)\t\n",
      "Finished validation.\n",
      "Starting training epoch 303\n",
      "Epoch: 303, Loss 0.0037 (0.0035)\n",
      "Finished training epoch 303\n"
     ]
    },
    {
     "name": "stderr",
     "output_type": "stream",
     "text": [
      "/home/konrad/.local/lib/python3.10/site-packages/skimage/_shared/utils.py:394: UserWarning: Color data out of range: Z < 0 in 988 pixels\n",
      "  return func(*args, **kwargs)\n",
      "/home/konrad/.local/lib/python3.10/site-packages/skimage/_shared/utils.py:394: UserWarning: Color data out of range: Z < 0 in 978 pixels\n",
      "  return func(*args, **kwargs)\n",
      "/home/konrad/.local/lib/python3.10/site-packages/skimage/_shared/utils.py:394: UserWarning: Color data out of range: Z < 0 in 1041 pixels\n",
      "  return func(*args, **kwargs)\n",
      "/home/konrad/.local/lib/python3.10/site-packages/skimage/_shared/utils.py:394: UserWarning: Color data out of range: Z < 0 in 871 pixels\n",
      "  return func(*args, **kwargs)\n",
      "/home/konrad/.local/lib/python3.10/site-packages/skimage/_shared/utils.py:394: UserWarning: Color data out of range: Z < 0 in 1311 pixels\n",
      "  return func(*args, **kwargs)\n",
      "/home/konrad/.local/lib/python3.10/site-packages/skimage/_shared/utils.py:394: UserWarning: Color data out of range: Z < 0 in 1145 pixels\n",
      "  return func(*args, **kwargs)\n",
      "/home/konrad/.local/lib/python3.10/site-packages/skimage/_shared/utils.py:394: UserWarning: Color data out of range: Z < 0 in 593 pixels\n",
      "  return func(*args, **kwargs)\n"
     ]
    },
    {
     "name": "stdout",
     "output_type": "stream",
     "text": [
      "Validate: Loss 0.0168 (0.0162)\t\n",
      "Finished validation.\n",
      "Starting training epoch 304\n",
      "Epoch: 304, Loss 0.0040 (0.0035)\n",
      "Finished training epoch 304\n",
      "Validate: Loss 0.0092 (0.0095)\t\n",
      "Finished validation.\n",
      "Starting training epoch 305\n",
      "Epoch: 305, Loss 0.0035 (0.0035)\n",
      "Finished training epoch 305\n",
      "Validate: Loss 0.0087 (0.0091)\t\n",
      "Finished validation.\n",
      "Starting training epoch 306\n",
      "Epoch: 306, Loss 0.0037 (0.0035)\n",
      "Finished training epoch 306\n",
      "Validate: Loss 0.0090 (0.0096)\t\n",
      "Finished validation.\n",
      "Starting training epoch 307\n",
      "Epoch: 307, Loss 0.0032 (0.0036)\n",
      "Finished training epoch 307\n",
      "Validate: Loss 0.0096 (0.0097)\t\n",
      "Finished validation.\n",
      "Starting training epoch 308\n",
      "Epoch: 308, Loss 0.0035 (0.0035)\n",
      "Finished training epoch 308\n"
     ]
    },
    {
     "name": "stderr",
     "output_type": "stream",
     "text": [
      "/home/konrad/.local/lib/python3.10/site-packages/skimage/_shared/utils.py:394: UserWarning: Color data out of range: Z < 0 in 456 pixels\n",
      "  return func(*args, **kwargs)\n"
     ]
    },
    {
     "name": "stdout",
     "output_type": "stream",
     "text": [
      "Validate: Loss 0.0103 (0.0104)\t\n",
      "Finished validation.\n",
      "Starting training epoch 309\n",
      "Epoch: 309, Loss 0.0036 (0.0035)\n",
      "Finished training epoch 309\n",
      "Validate: Loss 0.0086 (0.0090)\t\n",
      "Finished validation.\n",
      "Starting training epoch 310\n",
      "Epoch: 310, Loss 0.0036 (0.0035)\n",
      "Finished training epoch 310\n",
      "Validate: Loss 0.0092 (0.0094)\t\n",
      "Finished validation.\n",
      "Starting training epoch 311\n",
      "Epoch: 311, Loss 0.0036 (0.0035)\n",
      "Finished training epoch 311\n",
      "Validate: Loss 0.0098 (0.0100)\t\n",
      "Finished validation.\n",
      "Starting training epoch 312\n",
      "Epoch: 312, Loss 0.0036 (0.0035)\n",
      "Finished training epoch 312\n"
     ]
    },
    {
     "name": "stderr",
     "output_type": "stream",
     "text": [
      "/home/konrad/.local/lib/python3.10/site-packages/skimage/_shared/utils.py:394: UserWarning: Color data out of range: Z < 0 in 651 pixels\n",
      "  return func(*args, **kwargs)\n",
      "/home/konrad/.local/lib/python3.10/site-packages/skimage/_shared/utils.py:394: UserWarning: Color data out of range: Z < 0 in 673 pixels\n",
      "  return func(*args, **kwargs)\n"
     ]
    },
    {
     "name": "stdout",
     "output_type": "stream",
     "text": [
      "Validate: Loss 0.0130 (0.0127)\t\n",
      "Finished validation.\n",
      "Starting training epoch 313\n",
      "Epoch: 313, Loss 0.0036 (0.0035)\n",
      "Finished training epoch 313\n"
     ]
    },
    {
     "name": "stderr",
     "output_type": "stream",
     "text": [
      "/home/konrad/.local/lib/python3.10/site-packages/skimage/_shared/utils.py:394: UserWarning: Color data out of range: Z < 0 in 794 pixels\n",
      "  return func(*args, **kwargs)\n",
      "/home/konrad/.local/lib/python3.10/site-packages/skimage/_shared/utils.py:394: UserWarning: Color data out of range: Z < 0 in 958 pixels\n",
      "  return func(*args, **kwargs)\n",
      "/home/konrad/.local/lib/python3.10/site-packages/skimage/_shared/utils.py:394: UserWarning: Color data out of range: Z < 0 in 947 pixels\n",
      "  return func(*args, **kwargs)\n",
      "/home/konrad/.local/lib/python3.10/site-packages/skimage/_shared/utils.py:394: UserWarning: Color data out of range: Z < 0 in 906 pixels\n",
      "  return func(*args, **kwargs)\n",
      "/home/konrad/.local/lib/python3.10/site-packages/skimage/_shared/utils.py:394: UserWarning: Color data out of range: Z < 0 in 962 pixels\n",
      "  return func(*args, **kwargs)\n"
     ]
    },
    {
     "name": "stdout",
     "output_type": "stream",
     "text": [
      "Validate: Loss 0.0155 (0.0150)\t\n",
      "Finished validation.\n",
      "Starting training epoch 314\n",
      "Epoch: 314, Loss 0.0041 (0.0035)\n",
      "Finished training epoch 314\n",
      "Validate: Loss 0.0101 (0.0102)\t\n",
      "Finished validation.\n",
      "Starting training epoch 315\n",
      "Epoch: 315, Loss 0.0032 (0.0035)\n",
      "Finished training epoch 315\n",
      "Validate: Loss 0.0103 (0.0103)\t\n",
      "Finished validation.\n",
      "Starting training epoch 316\n",
      "Epoch: 316, Loss 0.0032 (0.0035)\n",
      "Finished training epoch 316\n",
      "Validate: Loss 0.0089 (0.0091)\t\n",
      "Finished validation.\n",
      "Starting training epoch 317\n",
      "Epoch: 317, Loss 0.0034 (0.0035)\n",
      "Finished training epoch 317\n"
     ]
    },
    {
     "name": "stderr",
     "output_type": "stream",
     "text": [
      "/home/konrad/.local/lib/python3.10/site-packages/skimage/_shared/utils.py:394: UserWarning: Color data out of range: Z < 0 in 586 pixels\n",
      "  return func(*args, **kwargs)\n"
     ]
    },
    {
     "name": "stdout",
     "output_type": "stream",
     "text": [
      "Validate: Loss 0.0115 (0.0115)\t\n",
      "Finished validation.\n",
      "Starting training epoch 318\n",
      "Epoch: 318, Loss 0.0038 (0.0035)\n",
      "Finished training epoch 318\n"
     ]
    },
    {
     "name": "stderr",
     "output_type": "stream",
     "text": [
      "/home/konrad/.local/lib/python3.10/site-packages/skimage/_shared/utils.py:394: UserWarning: Color data out of range: Z < 0 in 569 pixels\n",
      "  return func(*args, **kwargs)\n"
     ]
    },
    {
     "name": "stdout",
     "output_type": "stream",
     "text": [
      "Validate: Loss 0.0148 (0.0145)\t\n",
      "Finished validation.\n",
      "Starting training epoch 319\n",
      "Epoch: 319, Loss 0.0038 (0.0035)\n",
      "Finished training epoch 319\n"
     ]
    },
    {
     "name": "stderr",
     "output_type": "stream",
     "text": [
      "/home/konrad/.local/lib/python3.10/site-packages/skimage/_shared/utils.py:394: UserWarning: Color data out of range: Z < 0 in 429 pixels\n",
      "  return func(*args, **kwargs)\n",
      "/home/konrad/.local/lib/python3.10/site-packages/skimage/_shared/utils.py:394: UserWarning: Color data out of range: Z < 0 in 470 pixels\n",
      "  return func(*args, **kwargs)\n",
      "/home/konrad/.local/lib/python3.10/site-packages/skimage/_shared/utils.py:394: UserWarning: Color data out of range: Z < 0 in 332 pixels\n",
      "  return func(*args, **kwargs)\n"
     ]
    },
    {
     "name": "stdout",
     "output_type": "stream",
     "text": [
      "Validate: Loss 0.0134 (0.0133)\t\n",
      "Finished validation.\n",
      "Starting training epoch 320\n",
      "Epoch: 320, Loss 0.0036 (0.0035)\n",
      "Finished training epoch 320\n"
     ]
    },
    {
     "name": "stderr",
     "output_type": "stream",
     "text": [
      "/home/konrad/.local/lib/python3.10/site-packages/skimage/_shared/utils.py:394: UserWarning: Color data out of range: Z < 0 in 776 pixels\n",
      "  return func(*args, **kwargs)\n",
      "/home/konrad/.local/lib/python3.10/site-packages/skimage/_shared/utils.py:394: UserWarning: Color data out of range: Z < 0 in 930 pixels\n",
      "  return func(*args, **kwargs)\n",
      "/home/konrad/.local/lib/python3.10/site-packages/skimage/_shared/utils.py:394: UserWarning: Color data out of range: Z < 0 in 419 pixels\n",
      "  return func(*args, **kwargs)\n",
      "/home/konrad/.local/lib/python3.10/site-packages/skimage/_shared/utils.py:394: UserWarning: Color data out of range: Z < 0 in 924 pixels\n",
      "  return func(*args, **kwargs)\n"
     ]
    },
    {
     "name": "stdout",
     "output_type": "stream",
     "text": [
      "Validate: Loss 0.0158 (0.0155)\t\n",
      "Finished validation.\n",
      "Starting training epoch 321\n",
      "Epoch: 321, Loss 0.0032 (0.0035)\n",
      "Finished training epoch 321\n"
     ]
    },
    {
     "name": "stderr",
     "output_type": "stream",
     "text": [
      "/home/konrad/.local/lib/python3.10/site-packages/skimage/_shared/utils.py:394: UserWarning: Color data out of range: Z < 0 in 642 pixels\n",
      "  return func(*args, **kwargs)\n"
     ]
    },
    {
     "name": "stdout",
     "output_type": "stream",
     "text": [
      "Validate: Loss 0.0109 (0.0107)\t\n",
      "Finished validation.\n",
      "Starting training epoch 322\n",
      "Epoch: 322, Loss 0.0032 (0.0035)\n",
      "Finished training epoch 322\n"
     ]
    },
    {
     "name": "stderr",
     "output_type": "stream",
     "text": [
      "/home/konrad/.local/lib/python3.10/site-packages/skimage/_shared/utils.py:394: UserWarning: Color data out of range: Z < 0 in 763 pixels\n",
      "  return func(*args, **kwargs)\n",
      "/home/konrad/.local/lib/python3.10/site-packages/skimage/_shared/utils.py:394: UserWarning: Color data out of range: Z < 0 in 823 pixels\n",
      "  return func(*args, **kwargs)\n",
      "/home/konrad/.local/lib/python3.10/site-packages/skimage/_shared/utils.py:394: UserWarning: Color data out of range: Z < 0 in 822 pixels\n",
      "  return func(*args, **kwargs)\n",
      "/home/konrad/.local/lib/python3.10/site-packages/skimage/_shared/utils.py:394: UserWarning: Color data out of range: Z < 0 in 1074 pixels\n",
      "  return func(*args, **kwargs)\n"
     ]
    },
    {
     "name": "stdout",
     "output_type": "stream",
     "text": [
      "Validate: Loss 0.0174 (0.0166)\t\n",
      "Finished validation.\n",
      "Starting training epoch 323\n",
      "Epoch: 323, Loss 0.0038 (0.0035)\n",
      "Finished training epoch 323\n"
     ]
    },
    {
     "name": "stderr",
     "output_type": "stream",
     "text": [
      "/home/konrad/.local/lib/python3.10/site-packages/skimage/_shared/utils.py:394: UserWarning: Color data out of range: Z < 0 in 1755 pixels\n",
      "  return func(*args, **kwargs)\n",
      "/home/konrad/.local/lib/python3.10/site-packages/skimage/_shared/utils.py:394: UserWarning: Color data out of range: Z < 0 in 1444 pixels\n",
      "  return func(*args, **kwargs)\n",
      "/home/konrad/.local/lib/python3.10/site-packages/skimage/_shared/utils.py:394: UserWarning: Color data out of range: Z < 0 in 1335 pixels\n",
      "  return func(*args, **kwargs)\n",
      "/home/konrad/.local/lib/python3.10/site-packages/skimage/_shared/utils.py:394: UserWarning: Color data out of range: Z < 0 in 664 pixels\n",
      "  return func(*args, **kwargs)\n"
     ]
    },
    {
     "name": "stdout",
     "output_type": "stream",
     "text": [
      "Validate: Loss 0.0211 (0.0203)\t\n",
      "Finished validation.\n",
      "Starting training epoch 324\n",
      "Epoch: 324, Loss 0.0035 (0.0035)\n",
      "Finished training epoch 324\n",
      "Validate: Loss 0.0088 (0.0091)\t\n",
      "Finished validation.\n",
      "Starting training epoch 325\n",
      "Epoch: 325, Loss 0.0039 (0.0035)\n",
      "Finished training epoch 325\n"
     ]
    },
    {
     "name": "stderr",
     "output_type": "stream",
     "text": [
      "/home/konrad/.local/lib/python3.10/site-packages/skimage/_shared/utils.py:394: UserWarning: Color data out of range: Z < 0 in 1249 pixels\n",
      "  return func(*args, **kwargs)\n",
      "/home/konrad/.local/lib/python3.10/site-packages/skimage/_shared/utils.py:394: UserWarning: Color data out of range: Z < 0 in 1027 pixels\n",
      "  return func(*args, **kwargs)\n",
      "/home/konrad/.local/lib/python3.10/site-packages/skimage/_shared/utils.py:394: UserWarning: Color data out of range: Z < 0 in 697 pixels\n",
      "  return func(*args, **kwargs)\n"
     ]
    },
    {
     "name": "stdout",
     "output_type": "stream",
     "text": [
      "Validate: Loss 0.0179 (0.0174)\t\n",
      "Finished validation.\n",
      "Starting training epoch 326\n",
      "Epoch: 326, Loss 0.0035 (0.0035)\n",
      "Finished training epoch 326\n"
     ]
    },
    {
     "name": "stderr",
     "output_type": "stream",
     "text": [
      "/home/konrad/.local/lib/python3.10/site-packages/skimage/_shared/utils.py:394: UserWarning: Color data out of range: Z < 0 in 520 pixels\n",
      "  return func(*args, **kwargs)\n",
      "/home/konrad/.local/lib/python3.10/site-packages/skimage/_shared/utils.py:394: UserWarning: Color data out of range: Z < 0 in 679 pixels\n",
      "  return func(*args, **kwargs)\n"
     ]
    },
    {
     "name": "stdout",
     "output_type": "stream",
     "text": [
      "Validate: Loss 0.0154 (0.0151)\t\n",
      "Finished validation.\n",
      "Starting training epoch 327\n",
      "Epoch: 327, Loss 0.0034 (0.0035)\n",
      "Finished training epoch 327\n"
     ]
    },
    {
     "name": "stderr",
     "output_type": "stream",
     "text": [
      "/home/konrad/.local/lib/python3.10/site-packages/skimage/_shared/utils.py:394: UserWarning: Color data out of range: Z < 0 in 418 pixels\n",
      "  return func(*args, **kwargs)\n"
     ]
    },
    {
     "name": "stdout",
     "output_type": "stream",
     "text": [
      "Validate: Loss 0.0103 (0.0102)\t\n",
      "Finished validation.\n",
      "Starting training epoch 328\n",
      "Epoch: 328, Loss 0.0038 (0.0035)\n",
      "Finished training epoch 328\n"
     ]
    },
    {
     "name": "stderr",
     "output_type": "stream",
     "text": [
      "/home/konrad/.local/lib/python3.10/site-packages/skimage/_shared/utils.py:394: UserWarning: Color data out of range: Z < 0 in 439 pixels\n",
      "  return func(*args, **kwargs)\n"
     ]
    },
    {
     "name": "stdout",
     "output_type": "stream",
     "text": [
      "Validate: Loss 0.0099 (0.0101)\t\n",
      "Finished validation.\n",
      "Starting training epoch 329\n",
      "Epoch: 329, Loss 0.0039 (0.0035)\n",
      "Finished training epoch 329\n",
      "Validate: Loss 0.0090 (0.0095)\t\n",
      "Finished validation.\n",
      "Starting training epoch 330\n",
      "Epoch: 330, Loss 0.0033 (0.0035)\n",
      "Finished training epoch 330\n",
      "Validate: Loss 0.0087 (0.0092)\t\n",
      "Finished validation.\n",
      "Starting training epoch 331\n",
      "Epoch: 331, Loss 0.0036 (0.0035)\n",
      "Finished training epoch 331\n"
     ]
    },
    {
     "name": "stderr",
     "output_type": "stream",
     "text": [
      "/home/konrad/.local/lib/python3.10/site-packages/skimage/_shared/utils.py:394: UserWarning: Color data out of range: Z < 0 in 775 pixels\n",
      "  return func(*args, **kwargs)\n"
     ]
    },
    {
     "name": "stdout",
     "output_type": "stream",
     "text": [
      "Validate: Loss 0.0136 (0.0131)\t\n",
      "Finished validation.\n",
      "Starting training epoch 332\n",
      "Epoch: 332, Loss 0.0034 (0.0035)\n",
      "Finished training epoch 332\n",
      "Validate: Loss 0.0089 (0.0094)\t\n",
      "Finished validation.\n",
      "Starting training epoch 333\n",
      "Epoch: 333, Loss 0.0032 (0.0035)\n",
      "Finished training epoch 333\n",
      "Validate: Loss 0.0087 (0.0092)\t\n",
      "Finished validation.\n",
      "Starting training epoch 334\n",
      "Epoch: 334, Loss 0.0031 (0.0035)\n",
      "Finished training epoch 334\n"
     ]
    },
    {
     "name": "stderr",
     "output_type": "stream",
     "text": [
      "/home/konrad/.local/lib/python3.10/site-packages/skimage/_shared/utils.py:394: UserWarning: Color data out of range: Z < 0 in 495 pixels\n",
      "  return func(*args, **kwargs)\n",
      "/home/konrad/.local/lib/python3.10/site-packages/skimage/_shared/utils.py:394: UserWarning: Color data out of range: Z < 0 in 535 pixels\n",
      "  return func(*args, **kwargs)\n"
     ]
    },
    {
     "name": "stdout",
     "output_type": "stream",
     "text": [
      "Validate: Loss 0.0122 (0.0122)\t\n",
      "Finished validation.\n",
      "Starting training epoch 335\n",
      "Epoch: 335, Loss 0.0033 (0.0035)\n",
      "Finished training epoch 335\n"
     ]
    },
    {
     "name": "stderr",
     "output_type": "stream",
     "text": [
      "/home/konrad/.local/lib/python3.10/site-packages/skimage/_shared/utils.py:394: UserWarning: Color data out of range: Z < 0 in 448 pixels\n",
      "  return func(*args, **kwargs)\n"
     ]
    },
    {
     "name": "stdout",
     "output_type": "stream",
     "text": [
      "Validate: Loss 0.0094 (0.0097)\t\n",
      "Finished validation.\n",
      "Starting training epoch 336\n",
      "Epoch: 336, Loss 0.0035 (0.0034)\n",
      "Finished training epoch 336\n",
      "Validate: Loss 0.0091 (0.0093)\t\n",
      "Finished validation.\n",
      "Starting training epoch 337\n",
      "Epoch: 337, Loss 0.0035 (0.0035)\n",
      "Finished training epoch 337\n"
     ]
    },
    {
     "name": "stderr",
     "output_type": "stream",
     "text": [
      "/home/konrad/.local/lib/python3.10/site-packages/skimage/_shared/utils.py:394: UserWarning: Color data out of range: Z < 0 in 469 pixels\n",
      "  return func(*args, **kwargs)\n"
     ]
    },
    {
     "name": "stdout",
     "output_type": "stream",
     "text": [
      "Validate: Loss 0.0095 (0.0099)\t\n",
      "Finished validation.\n",
      "Starting training epoch 338\n",
      "Epoch: 338, Loss 0.0034 (0.0034)\n",
      "Finished training epoch 338\n"
     ]
    },
    {
     "name": "stderr",
     "output_type": "stream",
     "text": [
      "/home/konrad/.local/lib/python3.10/site-packages/skimage/_shared/utils.py:394: UserWarning: Color data out of range: Z < 0 in 536 pixels\n",
      "  return func(*args, **kwargs)\n",
      "/home/konrad/.local/lib/python3.10/site-packages/skimage/_shared/utils.py:394: UserWarning: Color data out of range: Z < 0 in 618 pixels\n",
      "  return func(*args, **kwargs)\n"
     ]
    },
    {
     "name": "stdout",
     "output_type": "stream",
     "text": [
      "Validate: Loss 0.0119 (0.0119)\t\n",
      "Finished validation.\n",
      "Starting training epoch 339\n",
      "Epoch: 339, Loss 0.0031 (0.0034)\n",
      "Finished training epoch 339\n",
      "Validate: Loss 0.0090 (0.0094)\t\n",
      "Finished validation.\n",
      "Starting training epoch 340\n",
      "Epoch: 340, Loss 0.0033 (0.0035)\n",
      "Finished training epoch 340\n",
      "Validate: Loss 0.0096 (0.0101)\t\n",
      "Finished validation.\n",
      "Starting training epoch 341\n",
      "Epoch: 341, Loss 0.0034 (0.0035)\n",
      "Finished training epoch 341\n"
     ]
    },
    {
     "name": "stderr",
     "output_type": "stream",
     "text": [
      "/home/konrad/.local/lib/python3.10/site-packages/skimage/_shared/utils.py:394: UserWarning: Color data out of range: Z < 0 in 256 pixels\n",
      "  return func(*args, **kwargs)\n",
      "/home/konrad/.local/lib/python3.10/site-packages/skimage/_shared/utils.py:394: UserWarning: Color data out of range: Z < 0 in 778 pixels\n",
      "  return func(*args, **kwargs)\n"
     ]
    },
    {
     "name": "stdout",
     "output_type": "stream",
     "text": [
      "Validate: Loss 0.0122 (0.0118)\t\n",
      "Finished validation.\n",
      "Starting training epoch 342\n",
      "Epoch: 342, Loss 0.0033 (0.0035)\n",
      "Finished training epoch 342\n",
      "Validate: Loss 0.0123 (0.0121)\t\n",
      "Finished validation.\n",
      "Starting training epoch 343\n",
      "Epoch: 343, Loss 0.0038 (0.0034)\n",
      "Finished training epoch 343\n",
      "Validate: Loss 0.0090 (0.0093)\t\n",
      "Finished validation.\n",
      "Starting training epoch 344\n",
      "Epoch: 344, Loss 0.0036 (0.0034)\n",
      "Finished training epoch 344\n"
     ]
    },
    {
     "name": "stderr",
     "output_type": "stream",
     "text": [
      "/home/konrad/.local/lib/python3.10/site-packages/skimage/_shared/utils.py:394: UserWarning: Color data out of range: Z < 0 in 585 pixels\n",
      "  return func(*args, **kwargs)\n",
      "/home/konrad/.local/lib/python3.10/site-packages/skimage/_shared/utils.py:394: UserWarning: Color data out of range: Z < 0 in 380 pixels\n",
      "  return func(*args, **kwargs)\n"
     ]
    },
    {
     "name": "stdout",
     "output_type": "stream",
     "text": [
      "Validate: Loss 0.0109 (0.0111)\t\n",
      "Finished validation.\n",
      "Starting training epoch 345\n",
      "Epoch: 345, Loss 0.0038 (0.0035)\n",
      "Finished training epoch 345\n",
      "Validate: Loss 0.0088 (0.0091)\t\n",
      "Finished validation.\n",
      "Starting training epoch 346\n",
      "Epoch: 346, Loss 0.0037 (0.0034)\n",
      "Finished training epoch 346\n"
     ]
    },
    {
     "name": "stderr",
     "output_type": "stream",
     "text": [
      "/home/konrad/.local/lib/python3.10/site-packages/skimage/_shared/utils.py:394: UserWarning: Color data out of range: Z < 0 in 531 pixels\n",
      "  return func(*args, **kwargs)\n"
     ]
    },
    {
     "name": "stdout",
     "output_type": "stream",
     "text": [
      "Validate: Loss 0.0125 (0.0123)\t\n",
      "Finished validation.\n",
      "Starting training epoch 347\n",
      "Epoch: 347, Loss 0.0032 (0.0035)\n",
      "Finished training epoch 347\n",
      "Validate: Loss 0.0091 (0.0094)\t\n",
      "Finished validation.\n",
      "Starting training epoch 348\n",
      "Epoch: 348, Loss 0.0039 (0.0034)\n",
      "Finished training epoch 348\n"
     ]
    },
    {
     "name": "stderr",
     "output_type": "stream",
     "text": [
      "/home/konrad/.local/lib/python3.10/site-packages/skimage/_shared/utils.py:394: UserWarning: Color data out of range: Z < 0 in 914 pixels\n",
      "  return func(*args, **kwargs)\n",
      "/home/konrad/.local/lib/python3.10/site-packages/skimage/_shared/utils.py:394: UserWarning: Color data out of range: Z < 0 in 1333 pixels\n",
      "  return func(*args, **kwargs)\n",
      "/home/konrad/.local/lib/python3.10/site-packages/skimage/_shared/utils.py:394: UserWarning: Color data out of range: Z < 0 in 1700 pixels\n",
      "  return func(*args, **kwargs)\n",
      "/home/konrad/.local/lib/python3.10/site-packages/skimage/_shared/utils.py:394: UserWarning: Color data out of range: Z < 0 in 1539 pixels\n",
      "  return func(*args, **kwargs)\n",
      "/home/konrad/.local/lib/python3.10/site-packages/skimage/_shared/utils.py:394: UserWarning: Color data out of range: Z < 0 in 1307 pixels\n",
      "  return func(*args, **kwargs)\n",
      "/home/konrad/.local/lib/python3.10/site-packages/skimage/_shared/utils.py:394: UserWarning: Color data out of range: Z < 0 in 1196 pixels\n",
      "  return func(*args, **kwargs)\n",
      "/home/konrad/.local/lib/python3.10/site-packages/skimage/_shared/utils.py:394: UserWarning: Color data out of range: Z < 0 in 956 pixels\n",
      "  return func(*args, **kwargs)\n"
     ]
    },
    {
     "name": "stdout",
     "output_type": "stream",
     "text": [
      "Validate: Loss 0.0212 (0.0204)\t\n",
      "Finished validation.\n",
      "Starting training epoch 349\n",
      "Epoch: 349, Loss 0.0031 (0.0034)\n",
      "Finished training epoch 349\n"
     ]
    },
    {
     "name": "stderr",
     "output_type": "stream",
     "text": [
      "/home/konrad/.local/lib/python3.10/site-packages/skimage/_shared/utils.py:394: UserWarning: Color data out of range: Z < 0 in 608 pixels\n",
      "  return func(*args, **kwargs)\n"
     ]
    },
    {
     "name": "stdout",
     "output_type": "stream",
     "text": [
      "Validate: Loss 0.0101 (0.0102)\t\n",
      "Finished validation.\n",
      "Starting training epoch 350\n",
      "Epoch: 350, Loss 0.0033 (0.0034)\n",
      "Finished training epoch 350\n",
      "Validate: Loss 0.0130 (0.0128)\t\n",
      "Finished validation.\n",
      "Starting training epoch 351\n",
      "Epoch: 351, Loss 0.0031 (0.0034)\n",
      "Finished training epoch 351\n",
      "Validate: Loss 0.0106 (0.0108)\t\n",
      "Finished validation.\n",
      "Starting training epoch 352\n",
      "Epoch: 352, Loss 0.0035 (0.0034)\n",
      "Finished training epoch 352\n"
     ]
    },
    {
     "name": "stderr",
     "output_type": "stream",
     "text": [
      "/home/konrad/.local/lib/python3.10/site-packages/skimage/_shared/utils.py:394: UserWarning: Color data out of range: Z < 0 in 945 pixels\n",
      "  return func(*args, **kwargs)\n",
      "/home/konrad/.local/lib/python3.10/site-packages/skimage/_shared/utils.py:394: UserWarning: Color data out of range: Z < 0 in 682 pixels\n",
      "  return func(*args, **kwargs)\n"
     ]
    },
    {
     "name": "stdout",
     "output_type": "stream",
     "text": [
      "Validate: Loss 0.0148 (0.0144)\t\n",
      "Finished validation.\n",
      "Starting training epoch 353\n",
      "Epoch: 353, Loss 0.0033 (0.0034)\n",
      "Finished training epoch 353\n",
      "Validate: Loss 0.0098 (0.0100)\t\n",
      "Finished validation.\n",
      "Starting training epoch 354\n",
      "Epoch: 354, Loss 0.0030 (0.0034)\n",
      "Finished training epoch 354\n",
      "Validate: Loss 0.0113 (0.0114)\t\n",
      "Finished validation.\n",
      "Starting training epoch 355\n",
      "Epoch: 355, Loss 0.0035 (0.0035)\n",
      "Finished training epoch 355\n"
     ]
    },
    {
     "name": "stderr",
     "output_type": "stream",
     "text": [
      "/home/konrad/.local/lib/python3.10/site-packages/skimage/_shared/utils.py:394: UserWarning: Color data out of range: Z < 0 in 872 pixels\n",
      "  return func(*args, **kwargs)\n"
     ]
    },
    {
     "name": "stdout",
     "output_type": "stream",
     "text": [
      "Validate: Loss 0.0134 (0.0132)\t\n",
      "Finished validation.\n",
      "Starting training epoch 356\n",
      "Epoch: 356, Loss 0.0035 (0.0034)\n",
      "Finished training epoch 356\n"
     ]
    },
    {
     "name": "stderr",
     "output_type": "stream",
     "text": [
      "/home/konrad/.local/lib/python3.10/site-packages/skimage/_shared/utils.py:394: UserWarning: Color data out of range: Z < 0 in 989 pixels\n",
      "  return func(*args, **kwargs)\n"
     ]
    },
    {
     "name": "stdout",
     "output_type": "stream",
     "text": [
      "Validate: Loss 0.0162 (0.0159)\t\n",
      "Finished validation.\n",
      "Starting training epoch 357\n",
      "Epoch: 357, Loss 0.0033 (0.0034)\n",
      "Finished training epoch 357\n"
     ]
    },
    {
     "name": "stderr",
     "output_type": "stream",
     "text": [
      "/home/konrad/.local/lib/python3.10/site-packages/skimage/_shared/utils.py:394: UserWarning: Color data out of range: Z < 0 in 235 pixels\n",
      "  return func(*args, **kwargs)\n",
      "/home/konrad/.local/lib/python3.10/site-packages/skimage/_shared/utils.py:394: UserWarning: Color data out of range: Z < 0 in 509 pixels\n",
      "  return func(*args, **kwargs)\n"
     ]
    },
    {
     "name": "stdout",
     "output_type": "stream",
     "text": [
      "Validate: Loss 0.0124 (0.0123)\t\n",
      "Finished validation.\n",
      "Starting training epoch 358\n",
      "Epoch: 358, Loss 0.0037 (0.0034)\n",
      "Finished training epoch 358\n"
     ]
    },
    {
     "name": "stderr",
     "output_type": "stream",
     "text": [
      "/home/konrad/.local/lib/python3.10/site-packages/skimage/_shared/utils.py:394: UserWarning: Color data out of range: Z < 0 in 598 pixels\n",
      "  return func(*args, **kwargs)\n",
      "/home/konrad/.local/lib/python3.10/site-packages/skimage/_shared/utils.py:394: UserWarning: Color data out of range: Z < 0 in 974 pixels\n",
      "  return func(*args, **kwargs)\n",
      "/home/konrad/.local/lib/python3.10/site-packages/skimage/_shared/utils.py:394: UserWarning: Color data out of range: Z < 0 in 743 pixels\n",
      "  return func(*args, **kwargs)\n"
     ]
    },
    {
     "name": "stdout",
     "output_type": "stream",
     "text": [
      "Validate: Loss 0.0167 (0.0162)\t\n",
      "Finished validation.\n",
      "Starting training epoch 359\n",
      "Epoch: 359, Loss 0.0034 (0.0034)\n",
      "Finished training epoch 359\n"
     ]
    },
    {
     "name": "stderr",
     "output_type": "stream",
     "text": [
      "/home/konrad/.local/lib/python3.10/site-packages/skimage/_shared/utils.py:394: UserWarning: Color data out of range: Z < 0 in 203 pixels\n",
      "  return func(*args, **kwargs)\n"
     ]
    },
    {
     "name": "stdout",
     "output_type": "stream",
     "text": [
      "Validate: Loss 0.0107 (0.0106)\t\n",
      "Finished validation.\n",
      "Starting training epoch 360\n",
      "Epoch: 360, Loss 0.0033 (0.0035)\n",
      "Finished training epoch 360\n"
     ]
    },
    {
     "name": "stderr",
     "output_type": "stream",
     "text": [
      "/home/konrad/.local/lib/python3.10/site-packages/skimage/_shared/utils.py:394: UserWarning: Color data out of range: Z < 0 in 1023 pixels\n",
      "  return func(*args, **kwargs)\n",
      "/home/konrad/.local/lib/python3.10/site-packages/skimage/_shared/utils.py:394: UserWarning: Color data out of range: Z < 0 in 670 pixels\n",
      "  return func(*args, **kwargs)\n",
      "/home/konrad/.local/lib/python3.10/site-packages/skimage/_shared/utils.py:394: UserWarning: Color data out of range: Z < 0 in 1309 pixels\n",
      "  return func(*args, **kwargs)\n",
      "/home/konrad/.local/lib/python3.10/site-packages/skimage/_shared/utils.py:394: UserWarning: Color data out of range: Z < 0 in 975 pixels\n",
      "  return func(*args, **kwargs)\n"
     ]
    },
    {
     "name": "stdout",
     "output_type": "stream",
     "text": [
      "Validate: Loss 0.0197 (0.0191)\t\n",
      "Finished validation.\n",
      "Starting training epoch 361\n",
      "Epoch: 361, Loss 0.0037 (0.0034)\n",
      "Finished training epoch 361\n",
      "Validate: Loss 0.0092 (0.0094)\t\n",
      "Finished validation.\n",
      "Starting training epoch 362\n",
      "Epoch: 362, Loss 0.0032 (0.0034)\n",
      "Finished training epoch 362\n"
     ]
    },
    {
     "name": "stderr",
     "output_type": "stream",
     "text": [
      "/home/konrad/.local/lib/python3.10/site-packages/skimage/_shared/utils.py:394: UserWarning: Color data out of range: Z < 0 in 289 pixels\n",
      "  return func(*args, **kwargs)\n"
     ]
    },
    {
     "name": "stdout",
     "output_type": "stream",
     "text": [
      "Validate: Loss 0.0133 (0.0131)\t\n",
      "Finished validation.\n",
      "Starting training epoch 363\n",
      "Epoch: 363, Loss 0.0033 (0.0034)\n",
      "Finished training epoch 363\n",
      "Validate: Loss 0.0087 (0.0091)\t\n",
      "Finished validation.\n",
      "Starting training epoch 364\n",
      "Epoch: 364, Loss 0.0036 (0.0034)\n",
      "Finished training epoch 364\n",
      "Validate: Loss 0.0104 (0.0102)\t\n",
      "Finished validation.\n",
      "Starting training epoch 365\n",
      "Epoch: 365, Loss 0.0038 (0.0034)\n",
      "Finished training epoch 365\n"
     ]
    },
    {
     "name": "stderr",
     "output_type": "stream",
     "text": [
      "/home/konrad/.local/lib/python3.10/site-packages/skimage/_shared/utils.py:394: UserWarning: Color data out of range: Z < 0 in 316 pixels\n",
      "  return func(*args, **kwargs)\n",
      "/home/konrad/.local/lib/python3.10/site-packages/skimage/_shared/utils.py:394: UserWarning: Color data out of range: Z < 0 in 754 pixels\n",
      "  return func(*args, **kwargs)\n"
     ]
    },
    {
     "name": "stdout",
     "output_type": "stream",
     "text": [
      "Validate: Loss 0.0126 (0.0123)\t\n",
      "Finished validation.\n",
      "Starting training epoch 366\n",
      "Epoch: 366, Loss 0.0036 (0.0034)\n",
      "Finished training epoch 366\n"
     ]
    },
    {
     "name": "stderr",
     "output_type": "stream",
     "text": [
      "/home/konrad/.local/lib/python3.10/site-packages/skimage/_shared/utils.py:394: UserWarning: Color data out of range: Z < 0 in 967 pixels\n",
      "  return func(*args, **kwargs)\n",
      "/home/konrad/.local/lib/python3.10/site-packages/skimage/_shared/utils.py:394: UserWarning: Color data out of range: Z < 0 in 1011 pixels\n",
      "  return func(*args, **kwargs)\n",
      "/home/konrad/.local/lib/python3.10/site-packages/skimage/_shared/utils.py:394: UserWarning: Color data out of range: Z < 0 in 353 pixels\n",
      "  return func(*args, **kwargs)\n"
     ]
    },
    {
     "name": "stdout",
     "output_type": "stream",
     "text": [
      "Validate: Loss 0.0166 (0.0160)\t\n",
      "Finished validation.\n",
      "Starting training epoch 367\n",
      "Epoch: 367, Loss 0.0039 (0.0034)\n",
      "Finished training epoch 367\n"
     ]
    },
    {
     "name": "stderr",
     "output_type": "stream",
     "text": [
      "/home/konrad/.local/lib/python3.10/site-packages/skimage/_shared/utils.py:394: UserWarning: Color data out of range: Z < 0 in 324 pixels\n",
      "  return func(*args, **kwargs)\n",
      "/home/konrad/.local/lib/python3.10/site-packages/skimage/_shared/utils.py:394: UserWarning: Color data out of range: Z < 0 in 307 pixels\n",
      "  return func(*args, **kwargs)\n"
     ]
    },
    {
     "name": "stdout",
     "output_type": "stream",
     "text": [
      "Validate: Loss 0.0096 (0.0095)\t\n",
      "Finished validation.\n",
      "Starting training epoch 368\n",
      "Epoch: 368, Loss 0.0034 (0.0034)\n",
      "Finished training epoch 368\n"
     ]
    },
    {
     "name": "stderr",
     "output_type": "stream",
     "text": [
      "/home/konrad/.local/lib/python3.10/site-packages/skimage/_shared/utils.py:394: UserWarning: Color data out of range: Z < 0 in 657 pixels\n",
      "  return func(*args, **kwargs)\n",
      "/home/konrad/.local/lib/python3.10/site-packages/skimage/_shared/utils.py:394: UserWarning: Color data out of range: Z < 0 in 929 pixels\n",
      "  return func(*args, **kwargs)\n",
      "/home/konrad/.local/lib/python3.10/site-packages/skimage/_shared/utils.py:394: UserWarning: Color data out of range: Z < 0 in 649 pixels\n",
      "  return func(*args, **kwargs)\n"
     ]
    },
    {
     "name": "stdout",
     "output_type": "stream",
     "text": [
      "Validate: Loss 0.0129 (0.0125)\t\n",
      "Finished validation.\n",
      "Starting training epoch 369\n",
      "Epoch: 369, Loss 0.0035 (0.0034)\n",
      "Finished training epoch 369\n",
      "Validate: Loss 0.0086 (0.0086)\t\n",
      "Finished validation.\n",
      "Starting training epoch 370\n",
      "Epoch: 370, Loss 0.0034 (0.0034)\n",
      "Finished training epoch 370\n",
      "Validate: Loss 0.0120 (0.0116)\t\n",
      "Finished validation.\n",
      "Starting training epoch 371\n",
      "Epoch: 371, Loss 0.0032 (0.0034)\n",
      "Finished training epoch 371\n",
      "Validate: Loss 0.0093 (0.0096)\t\n",
      "Finished validation.\n",
      "Starting training epoch 372\n",
      "Epoch: 372, Loss 0.0036 (0.0034)\n",
      "Finished training epoch 372\n"
     ]
    },
    {
     "name": "stderr",
     "output_type": "stream",
     "text": [
      "/home/konrad/.local/lib/python3.10/site-packages/skimage/_shared/utils.py:394: UserWarning: Color data out of range: Z < 0 in 580 pixels\n",
      "  return func(*args, **kwargs)\n"
     ]
    },
    {
     "name": "stdout",
     "output_type": "stream",
     "text": [
      "Validate: Loss 0.0096 (0.0097)\t\n",
      "Finished validation.\n",
      "Starting training epoch 373\n",
      "Epoch: 373, Loss 0.0030 (0.0034)\n",
      "Finished training epoch 373\n"
     ]
    },
    {
     "name": "stderr",
     "output_type": "stream",
     "text": [
      "/home/konrad/.local/lib/python3.10/site-packages/skimage/_shared/utils.py:394: UserWarning: Color data out of range: Z < 0 in 1290 pixels\n",
      "  return func(*args, **kwargs)\n",
      "/home/konrad/.local/lib/python3.10/site-packages/skimage/_shared/utils.py:394: UserWarning: Color data out of range: Z < 0 in 1623 pixels\n",
      "  return func(*args, **kwargs)\n",
      "/home/konrad/.local/lib/python3.10/site-packages/skimage/_shared/utils.py:394: UserWarning: Color data out of range: Z < 0 in 877 pixels\n",
      "  return func(*args, **kwargs)\n",
      "/home/konrad/.local/lib/python3.10/site-packages/skimage/_shared/utils.py:394: UserWarning: Color data out of range: Z < 0 in 1361 pixels\n",
      "  return func(*args, **kwargs)\n",
      "/home/konrad/.local/lib/python3.10/site-packages/skimage/_shared/utils.py:394: UserWarning: Color data out of range: Z < 0 in 1280 pixels\n",
      "  return func(*args, **kwargs)\n",
      "/home/konrad/.local/lib/python3.10/site-packages/skimage/_shared/utils.py:394: UserWarning: Color data out of range: Z < 0 in 841 pixels\n",
      "  return func(*args, **kwargs)\n"
     ]
    },
    {
     "name": "stdout",
     "output_type": "stream",
     "text": [
      "Validate: Loss 0.0220 (0.0209)\t\n",
      "Finished validation.\n",
      "Starting training epoch 374\n",
      "Epoch: 374, Loss 0.0036 (0.0034)\n",
      "Finished training epoch 374\n"
     ]
    },
    {
     "name": "stderr",
     "output_type": "stream",
     "text": [
      "/home/konrad/.local/lib/python3.10/site-packages/skimage/_shared/utils.py:394: UserWarning: Color data out of range: Z < 0 in 772 pixels\n",
      "  return func(*args, **kwargs)\n",
      "/home/konrad/.local/lib/python3.10/site-packages/skimage/_shared/utils.py:394: UserWarning: Color data out of range: Z < 0 in 405 pixels\n",
      "  return func(*args, **kwargs)\n"
     ]
    },
    {
     "name": "stdout",
     "output_type": "stream",
     "text": [
      "Validate: Loss 0.0138 (0.0133)\t\n",
      "Finished validation.\n",
      "Starting training epoch 375\n",
      "Epoch: 375, Loss 0.0032 (0.0034)\n",
      "Finished training epoch 375\n"
     ]
    },
    {
     "name": "stderr",
     "output_type": "stream",
     "text": [
      "/home/konrad/.local/lib/python3.10/site-packages/skimage/_shared/utils.py:394: UserWarning: Color data out of range: Z < 0 in 599 pixels\n",
      "  return func(*args, **kwargs)\n"
     ]
    },
    {
     "name": "stdout",
     "output_type": "stream",
     "text": [
      "Validate: Loss 0.0119 (0.0115)\t\n",
      "Finished validation.\n",
      "Starting training epoch 376\n",
      "Epoch: 376, Loss 0.0033 (0.0034)\n",
      "Finished training epoch 376\n",
      "Validate: Loss 0.0106 (0.0104)\t\n",
      "Finished validation.\n",
      "Starting training epoch 377\n",
      "Epoch: 377, Loss 0.0034 (0.0034)\n",
      "Finished training epoch 377\n"
     ]
    },
    {
     "name": "stderr",
     "output_type": "stream",
     "text": [
      "/home/konrad/.local/lib/python3.10/site-packages/skimage/_shared/utils.py:394: UserWarning: Color data out of range: Z < 0 in 1090 pixels\n",
      "  return func(*args, **kwargs)\n"
     ]
    },
    {
     "name": "stdout",
     "output_type": "stream",
     "text": [
      "Validate: Loss 0.0140 (0.0137)\t\n",
      "Finished validation.\n",
      "Starting training epoch 378\n",
      "Epoch: 378, Loss 0.0034 (0.0034)\n",
      "Finished training epoch 378\n",
      "Validate: Loss 0.0093 (0.0095)\t\n",
      "Finished validation.\n",
      "Starting training epoch 379\n",
      "Epoch: 379, Loss 0.0033 (0.0034)\n",
      "Finished training epoch 379\n",
      "Validate: Loss 0.0090 (0.0093)\t\n",
      "Finished validation.\n",
      "Starting training epoch 380\n",
      "Epoch: 380, Loss 0.0039 (0.0033)\n",
      "Finished training epoch 380\n"
     ]
    },
    {
     "name": "stderr",
     "output_type": "stream",
     "text": [
      "/home/konrad/.local/lib/python3.10/site-packages/skimage/_shared/utils.py:394: UserWarning: Color data out of range: Z < 0 in 972 pixels\n",
      "  return func(*args, **kwargs)\n"
     ]
    },
    {
     "name": "stdout",
     "output_type": "stream",
     "text": [
      "Validate: Loss 0.0157 (0.0151)\t\n",
      "Finished validation.\n",
      "Starting training epoch 381\n",
      "Epoch: 381, Loss 0.0032 (0.0034)\n",
      "Finished training epoch 381\n"
     ]
    },
    {
     "name": "stderr",
     "output_type": "stream",
     "text": [
      "/home/konrad/.local/lib/python3.10/site-packages/skimage/_shared/utils.py:394: UserWarning: Color data out of range: Z < 0 in 918 pixels\n",
      "  return func(*args, **kwargs)\n",
      "/home/konrad/.local/lib/python3.10/site-packages/skimage/_shared/utils.py:394: UserWarning: Color data out of range: Z < 0 in 907 pixels\n",
      "  return func(*args, **kwargs)\n",
      "/home/konrad/.local/lib/python3.10/site-packages/skimage/_shared/utils.py:394: UserWarning: Color data out of range: Z < 0 in 485 pixels\n",
      "  return func(*args, **kwargs)\n"
     ]
    },
    {
     "name": "stdout",
     "output_type": "stream",
     "text": [
      "Validate: Loss 0.0141 (0.0136)\t\n",
      "Finished validation.\n",
      "Starting training epoch 382\n",
      "Epoch: 382, Loss 0.0034 (0.0034)\n",
      "Finished training epoch 382\n"
     ]
    },
    {
     "name": "stderr",
     "output_type": "stream",
     "text": [
      "/home/konrad/.local/lib/python3.10/site-packages/skimage/_shared/utils.py:394: UserWarning: Color data out of range: Z < 0 in 333 pixels\n",
      "  return func(*args, **kwargs)\n"
     ]
    },
    {
     "name": "stdout",
     "output_type": "stream",
     "text": [
      "Validate: Loss 0.0137 (0.0134)\t\n",
      "Finished validation.\n",
      "Starting training epoch 383\n",
      "Epoch: 383, Loss 0.0036 (0.0033)\n",
      "Finished training epoch 383\n",
      "Validate: Loss 0.0086 (0.0092)\t\n",
      "Finished validation.\n",
      "Starting training epoch 384\n",
      "Epoch: 384, Loss 0.0035 (0.0033)\n",
      "Finished training epoch 384\n",
      "Validate: Loss 0.0089 (0.0094)\t\n",
      "Finished validation.\n",
      "Starting training epoch 385\n",
      "Epoch: 385, Loss 0.0033 (0.0034)\n",
      "Finished training epoch 385\n",
      "Validate: Loss 0.0116 (0.0114)\t\n",
      "Finished validation.\n",
      "Starting training epoch 386\n",
      "Epoch: 386, Loss 0.0035 (0.0034)\n",
      "Finished training epoch 386\n",
      "Validate: Loss 0.0091 (0.0094)\t\n",
      "Finished validation.\n",
      "Starting training epoch 387\n",
      "Epoch: 387, Loss 0.0034 (0.0034)\n",
      "Finished training epoch 387\n",
      "Validate: Loss 0.0088 (0.0091)\t\n",
      "Finished validation.\n",
      "Starting training epoch 388\n",
      "Epoch: 388, Loss 0.0034 (0.0034)\n",
      "Finished training epoch 388\n"
     ]
    },
    {
     "name": "stderr",
     "output_type": "stream",
     "text": [
      "/home/konrad/.local/lib/python3.10/site-packages/skimage/_shared/utils.py:394: UserWarning: Color data out of range: Z < 0 in 450 pixels\n",
      "  return func(*args, **kwargs)\n",
      "/home/konrad/.local/lib/python3.10/site-packages/skimage/_shared/utils.py:394: UserWarning: Color data out of range: Z < 0 in 1149 pixels\n",
      "  return func(*args, **kwargs)\n",
      "/home/konrad/.local/lib/python3.10/site-packages/skimage/_shared/utils.py:394: UserWarning: Color data out of range: Z < 0 in 1008 pixels\n",
      "  return func(*args, **kwargs)\n"
     ]
    },
    {
     "name": "stdout",
     "output_type": "stream",
     "text": [
      "Validate: Loss 0.0173 (0.0167)\t\n",
      "Finished validation.\n",
      "Starting training epoch 389\n",
      "Epoch: 389, Loss 0.0032 (0.0033)\n",
      "Finished training epoch 389\n",
      "Validate: Loss 0.0088 (0.0092)\t\n",
      "Finished validation.\n",
      "Starting training epoch 390\n",
      "Epoch: 390, Loss 0.0031 (0.0034)\n",
      "Finished training epoch 390\n",
      "Validate: Loss 0.0088 (0.0093)\t\n",
      "Finished validation.\n",
      "Starting training epoch 391\n",
      "Epoch: 391, Loss 0.0029 (0.0033)\n",
      "Finished training epoch 391\n"
     ]
    },
    {
     "name": "stderr",
     "output_type": "stream",
     "text": [
      "/home/konrad/.local/lib/python3.10/site-packages/skimage/_shared/utils.py:394: UserWarning: Color data out of range: Z < 0 in 537 pixels\n",
      "  return func(*args, **kwargs)\n"
     ]
    },
    {
     "name": "stdout",
     "output_type": "stream",
     "text": [
      "Validate: Loss 0.0126 (0.0123)\t\n",
      "Finished validation.\n",
      "Starting training epoch 392\n",
      "Epoch: 392, Loss 0.0033 (0.0034)\n",
      "Finished training epoch 392\n",
      "Validate: Loss 0.0093 (0.0098)\t\n",
      "Finished validation.\n",
      "Starting training epoch 393\n",
      "Epoch: 393, Loss 0.0034 (0.0034)\n",
      "Finished training epoch 393\n",
      "Validate: Loss 0.0091 (0.0096)\t\n",
      "Finished validation.\n",
      "Starting training epoch 394\n",
      "Epoch: 394, Loss 0.0029 (0.0033)\n",
      "Finished training epoch 394\n",
      "Validate: Loss 0.0091 (0.0092)\t\n",
      "Finished validation.\n",
      "Starting training epoch 395\n",
      "Epoch: 395, Loss 0.0033 (0.0033)\n",
      "Finished training epoch 395\n",
      "Validate: Loss 0.0090 (0.0095)\t\n",
      "Finished validation.\n",
      "Starting training epoch 396\n",
      "Epoch: 396, Loss 0.0033 (0.0033)\n",
      "Finished training epoch 396\n",
      "Validate: Loss 0.0100 (0.0107)\t\n",
      "Finished validation.\n",
      "Starting training epoch 397\n",
      "Epoch: 397, Loss 0.0037 (0.0033)\n",
      "Finished training epoch 397\n",
      "Validate: Loss 0.0095 (0.0094)\t\n",
      "Finished validation.\n",
      "Starting training epoch 398\n",
      "Epoch: 398, Loss 0.0033 (0.0034)\n",
      "Finished training epoch 398\n"
     ]
    },
    {
     "name": "stderr",
     "output_type": "stream",
     "text": [
      "/home/konrad/.local/lib/python3.10/site-packages/skimage/_shared/utils.py:394: UserWarning: Color data out of range: Z < 0 in 258 pixels\n",
      "  return func(*args, **kwargs)\n"
     ]
    },
    {
     "name": "stdout",
     "output_type": "stream",
     "text": [
      "Validate: Loss 0.0091 (0.0093)\t\n",
      "Finished validation.\n",
      "Starting training epoch 399\n",
      "Epoch: 399, Loss 0.0033 (0.0033)\n",
      "Finished training epoch 399\n",
      "Validate: Loss 0.0091 (0.0091)\t\n",
      "Finished validation.\n",
      "Starting training epoch 400\n",
      "Epoch: 400, Loss 0.0032 (0.0033)\n",
      "Finished training epoch 400\n",
      "Validate: Loss 0.0143 (0.0136)\t\n",
      "Finished validation.\n",
      "Starting training epoch 401\n",
      "Epoch: 401, Loss 0.0032 (0.0033)\n",
      "Finished training epoch 401\n",
      "Validate: Loss 0.0091 (0.0096)\t\n",
      "Finished validation.\n",
      "Starting training epoch 402\n",
      "Epoch: 402, Loss 0.0037 (0.0033)\n",
      "Finished training epoch 402\n",
      "Validate: Loss 0.0098 (0.0097)\t\n",
      "Finished validation.\n",
      "Starting training epoch 403\n",
      "Epoch: 403, Loss 0.0036 (0.0033)\n",
      "Finished training epoch 403\n"
     ]
    },
    {
     "name": "stderr",
     "output_type": "stream",
     "text": [
      "/home/konrad/.local/lib/python3.10/site-packages/skimage/_shared/utils.py:394: UserWarning: Color data out of range: Z < 0 in 223 pixels\n",
      "  return func(*args, **kwargs)\n"
     ]
    },
    {
     "name": "stdout",
     "output_type": "stream",
     "text": [
      "Validate: Loss 0.0107 (0.0103)\t\n",
      "Finished validation.\n",
      "Starting training epoch 404\n",
      "Epoch: 404, Loss 0.0034 (0.0033)\n",
      "Finished training epoch 404\n",
      "Validate: Loss 0.0086 (0.0087)\t\n",
      "Finished validation.\n",
      "Starting training epoch 405\n",
      "Epoch: 405, Loss 0.0037 (0.0034)\n",
      "Finished training epoch 405\n"
     ]
    },
    {
     "name": "stderr",
     "output_type": "stream",
     "text": [
      "/home/konrad/.local/lib/python3.10/site-packages/skimage/_shared/utils.py:394: UserWarning: Color data out of range: Z < 0 in 749 pixels\n",
      "  return func(*args, **kwargs)\n",
      "/home/konrad/.local/lib/python3.10/site-packages/skimage/_shared/utils.py:394: UserWarning: Color data out of range: Z < 0 in 414 pixels\n",
      "  return func(*args, **kwargs)\n",
      "/home/konrad/.local/lib/python3.10/site-packages/skimage/_shared/utils.py:394: UserWarning: Color data out of range: Z < 0 in 950 pixels\n",
      "  return func(*args, **kwargs)\n",
      "/home/konrad/.local/lib/python3.10/site-packages/skimage/_shared/utils.py:394: UserWarning: Color data out of range: Z < 0 in 713 pixels\n",
      "  return func(*args, **kwargs)\n"
     ]
    },
    {
     "name": "stdout",
     "output_type": "stream",
     "text": [
      "Validate: Loss 0.0132 (0.0129)\t\n",
      "Finished validation.\n",
      "Starting training epoch 406\n",
      "Epoch: 406, Loss 0.0037 (0.0034)\n",
      "Finished training epoch 406\n",
      "Validate: Loss 0.0087 (0.0092)\t\n",
      "Finished validation.\n",
      "Starting training epoch 407\n",
      "Epoch: 407, Loss 0.0031 (0.0033)\n",
      "Finished training epoch 407\n",
      "Validate: Loss 0.0092 (0.0097)\t\n",
      "Finished validation.\n",
      "Starting training epoch 408\n",
      "Epoch: 408, Loss 0.0031 (0.0033)\n",
      "Finished training epoch 408\n",
      "Validate: Loss 0.0090 (0.0093)\t\n",
      "Finished validation.\n",
      "Starting training epoch 409\n",
      "Epoch: 409, Loss 0.0032 (0.0034)\n",
      "Finished training epoch 409\n",
      "Validate: Loss 0.0093 (0.0098)\t\n",
      "Finished validation.\n",
      "Starting training epoch 410\n",
      "Epoch: 410, Loss 0.0037 (0.0033)\n",
      "Finished training epoch 410\n",
      "Validate: Loss 0.0108 (0.0116)\t\n",
      "Finished validation.\n",
      "Starting training epoch 411\n",
      "Epoch: 411, Loss 0.0033 (0.0033)\n",
      "Finished training epoch 411\n",
      "Validate: Loss 0.0093 (0.0095)\t\n",
      "Finished validation.\n",
      "Starting training epoch 412\n",
      "Epoch: 412, Loss 0.0030 (0.0033)\n",
      "Finished training epoch 412\n",
      "Validate: Loss 0.0090 (0.0092)\t\n",
      "Finished validation.\n",
      "Starting training epoch 413\n",
      "Epoch: 413, Loss 0.0033 (0.0033)\n",
      "Finished training epoch 413\n",
      "Validate: Loss 0.0097 (0.0102)\t\n",
      "Finished validation.\n",
      "Starting training epoch 414\n",
      "Epoch: 414, Loss 0.0032 (0.0033)\n",
      "Finished training epoch 414\n",
      "Validate: Loss 0.0088 (0.0092)\t\n",
      "Finished validation.\n",
      "Starting training epoch 415\n",
      "Epoch: 415, Loss 0.0036 (0.0033)\n",
      "Finished training epoch 415\n",
      "Validate: Loss 0.0102 (0.0109)\t\n",
      "Finished validation.\n",
      "Starting training epoch 416\n",
      "Epoch: 416, Loss 0.0035 (0.0033)\n",
      "Finished training epoch 416\n",
      "Validate: Loss 0.0087 (0.0091)\t\n",
      "Finished validation.\n",
      "Starting training epoch 417\n",
      "Epoch: 417, Loss 0.0032 (0.0033)\n",
      "Finished training epoch 417\n",
      "Validate: Loss 0.0100 (0.0099)\t\n",
      "Finished validation.\n",
      "Starting training epoch 418\n",
      "Epoch: 418, Loss 0.0032 (0.0033)\n",
      "Finished training epoch 418\n",
      "Validate: Loss 0.0127 (0.0136)\t\n",
      "Finished validation.\n",
      "Starting training epoch 419\n",
      "Epoch: 419, Loss 0.0037 (0.0033)\n",
      "Finished training epoch 419\n",
      "Validate: Loss 0.0096 (0.0101)\t\n",
      "Finished validation.\n",
      "Starting training epoch 420\n",
      "Epoch: 420, Loss 0.0032 (0.0034)\n",
      "Finished training epoch 420\n"
     ]
    },
    {
     "name": "stderr",
     "output_type": "stream",
     "text": [
      "/home/konrad/.local/lib/python3.10/site-packages/skimage/_shared/utils.py:394: UserWarning: Color data out of range: Z < 0 in 1233 pixels\n",
      "  return func(*args, **kwargs)\n"
     ]
    },
    {
     "name": "stdout",
     "output_type": "stream",
     "text": [
      "Validate: Loss 0.0186 (0.0177)\t\n",
      "Finished validation.\n",
      "Starting training epoch 421\n",
      "Epoch: 421, Loss 0.0036 (0.0033)\n",
      "Finished training epoch 421\n",
      "Validate: Loss 0.0105 (0.0104)\t\n",
      "Finished validation.\n",
      "Starting training epoch 422\n",
      "Epoch: 422, Loss 0.0035 (0.0033)\n",
      "Finished training epoch 422\n"
     ]
    },
    {
     "name": "stderr",
     "output_type": "stream",
     "text": [
      "/home/konrad/.local/lib/python3.10/site-packages/skimage/_shared/utils.py:394: UserWarning: Color data out of range: Z < 0 in 504 pixels\n",
      "  return func(*args, **kwargs)\n"
     ]
    },
    {
     "name": "stdout",
     "output_type": "stream",
     "text": [
      "Validate: Loss 0.0112 (0.0111)\t\n",
      "Finished validation.\n",
      "Starting training epoch 423\n",
      "Epoch: 423, Loss 0.0028 (0.0033)\n",
      "Finished training epoch 423\n",
      "Validate: Loss 0.0091 (0.0095)\t\n",
      "Finished validation.\n",
      "Starting training epoch 424\n",
      "Epoch: 424, Loss 0.0034 (0.0033)\n",
      "Finished training epoch 424\n",
      "Validate: Loss 0.0088 (0.0090)\t\n",
      "Finished validation.\n",
      "Starting training epoch 425\n",
      "Epoch: 425, Loss 0.0035 (0.0033)\n",
      "Finished training epoch 425\n"
     ]
    },
    {
     "name": "stderr",
     "output_type": "stream",
     "text": [
      "/home/konrad/.local/lib/python3.10/site-packages/skimage/_shared/utils.py:394: UserWarning: Color data out of range: Z < 0 in 694 pixels\n",
      "  return func(*args, **kwargs)\n"
     ]
    },
    {
     "name": "stdout",
     "output_type": "stream",
     "text": [
      "Validate: Loss 0.0128 (0.0123)\t\n",
      "Finished validation.\n",
      "Starting training epoch 426\n",
      "Epoch: 426, Loss 0.0035 (0.0033)\n",
      "Finished training epoch 426\n",
      "Validate: Loss 0.0095 (0.0098)\t\n",
      "Finished validation.\n",
      "Starting training epoch 427\n",
      "Epoch: 427, Loss 0.0034 (0.0033)\n",
      "Finished training epoch 427\n",
      "Validate: Loss 0.0083 (0.0086)\t\n",
      "Finished validation.\n",
      "Starting training epoch 428\n",
      "Epoch: 428, Loss 0.0033 (0.0033)\n",
      "Finished training epoch 428\n"
     ]
    },
    {
     "name": "stderr",
     "output_type": "stream",
     "text": [
      "/home/konrad/.local/lib/python3.10/site-packages/skimage/_shared/utils.py:394: UserWarning: Color data out of range: Z < 0 in 444 pixels\n",
      "  return func(*args, **kwargs)\n",
      "/home/konrad/.local/lib/python3.10/site-packages/skimage/_shared/utils.py:394: UserWarning: Color data out of range: Z < 0 in 539 pixels\n",
      "  return func(*args, **kwargs)\n"
     ]
    },
    {
     "name": "stdout",
     "output_type": "stream",
     "text": [
      "Validate: Loss 0.0100 (0.0100)\t\n",
      "Finished validation.\n",
      "Starting training epoch 429\n",
      "Epoch: 429, Loss 0.0030 (0.0033)\n",
      "Finished training epoch 429\n"
     ]
    },
    {
     "name": "stderr",
     "output_type": "stream",
     "text": [
      "/home/konrad/.local/lib/python3.10/site-packages/skimage/_shared/utils.py:394: UserWarning: Color data out of range: Z < 0 in 286 pixels\n",
      "  return func(*args, **kwargs)\n"
     ]
    },
    {
     "name": "stdout",
     "output_type": "stream",
     "text": [
      "Validate: Loss 0.0093 (0.0095)\t\n",
      "Finished validation.\n",
      "Starting training epoch 430\n",
      "Epoch: 430, Loss 0.0033 (0.0033)\n",
      "Finished training epoch 430\n",
      "Validate: Loss 0.0096 (0.0101)\t\n",
      "Finished validation.\n",
      "Starting training epoch 431\n",
      "Epoch: 431, Loss 0.0030 (0.0033)\n",
      "Finished training epoch 431\n",
      "Validate: Loss 0.0093 (0.0094)\t\n",
      "Finished validation.\n",
      "Starting training epoch 432\n",
      "Epoch: 432, Loss 0.0033 (0.0033)\n",
      "Finished training epoch 432\n",
      "Validate: Loss 0.0113 (0.0119)\t\n",
      "Finished validation.\n",
      "Starting training epoch 433\n",
      "Epoch: 433, Loss 0.0036 (0.0033)\n",
      "Finished training epoch 433\n",
      "Validate: Loss 0.0121 (0.0120)\t\n",
      "Finished validation.\n",
      "Starting training epoch 434\n",
      "Epoch: 434, Loss 0.0033 (0.0033)\n",
      "Finished training epoch 434\n",
      "Validate: Loss 0.0087 (0.0091)\t\n",
      "Finished validation.\n",
      "Starting training epoch 435\n",
      "Epoch: 435, Loss 0.0035 (0.0033)\n",
      "Finished training epoch 435\n",
      "Validate: Loss 0.0087 (0.0090)\t\n",
      "Finished validation.\n",
      "Starting training epoch 436\n",
      "Epoch: 436, Loss 0.0032 (0.0033)\n",
      "Finished training epoch 436\n",
      "Validate: Loss 0.0088 (0.0091)\t\n",
      "Finished validation.\n",
      "Starting training epoch 437\n",
      "Epoch: 437, Loss 0.0035 (0.0033)\n",
      "Finished training epoch 437\n",
      "Validate: Loss 0.0110 (0.0116)\t\n",
      "Finished validation.\n",
      "Starting training epoch 438\n",
      "Epoch: 438, Loss 0.0037 (0.0033)\n",
      "Finished training epoch 438\n",
      "Validate: Loss 0.0093 (0.0095)\t\n",
      "Finished validation.\n",
      "Starting training epoch 439\n",
      "Epoch: 439, Loss 0.0034 (0.0033)\n",
      "Finished training epoch 439\n"
     ]
    },
    {
     "name": "stderr",
     "output_type": "stream",
     "text": [
      "/home/konrad/.local/lib/python3.10/site-packages/skimage/_shared/utils.py:394: UserWarning: Color data out of range: Z < 0 in 465 pixels\n",
      "  return func(*args, **kwargs)\n"
     ]
    },
    {
     "name": "stdout",
     "output_type": "stream",
     "text": [
      "Validate: Loss 0.0100 (0.0099)\t\n",
      "Finished validation.\n",
      "Starting training epoch 440\n",
      "Epoch: 440, Loss 0.0036 (0.0033)\n",
      "Finished training epoch 440\n",
      "Validate: Loss 0.0103 (0.0109)\t\n",
      "Finished validation.\n",
      "Starting training epoch 441\n",
      "Epoch: 441, Loss 0.0034 (0.0033)\n",
      "Finished training epoch 441\n",
      "Validate: Loss 0.0088 (0.0092)\t\n",
      "Finished validation.\n",
      "Starting training epoch 442\n",
      "Epoch: 442, Loss 0.0035 (0.0033)\n",
      "Finished training epoch 442\n"
     ]
    },
    {
     "name": "stderr",
     "output_type": "stream",
     "text": [
      "/home/konrad/.local/lib/python3.10/site-packages/skimage/_shared/utils.py:394: UserWarning: Color data out of range: Z < 0 in 435 pixels\n",
      "  return func(*args, **kwargs)\n"
     ]
    },
    {
     "name": "stdout",
     "output_type": "stream",
     "text": [
      "Validate: Loss 0.0091 (0.0094)\t\n",
      "Finished validation.\n",
      "Starting training epoch 443\n",
      "Epoch: 443, Loss 0.0034 (0.0032)\n",
      "Finished training epoch 443\n"
     ]
    },
    {
     "name": "stderr",
     "output_type": "stream",
     "text": [
      "/home/konrad/.local/lib/python3.10/site-packages/skimage/_shared/utils.py:394: UserWarning: Color data out of range: Z < 0 in 602 pixels\n",
      "  return func(*args, **kwargs)\n",
      "/home/konrad/.local/lib/python3.10/site-packages/skimage/_shared/utils.py:394: UserWarning: Color data out of range: Z < 0 in 838 pixels\n",
      "  return func(*args, **kwargs)\n"
     ]
    },
    {
     "name": "stdout",
     "output_type": "stream",
     "text": [
      "Validate: Loss 0.0138 (0.0133)\t\n",
      "Finished validation.\n",
      "Starting training epoch 444\n",
      "Epoch: 444, Loss 0.0034 (0.0033)\n",
      "Finished training epoch 444\n",
      "Validate: Loss 0.0116 (0.0125)\t\n",
      "Finished validation.\n",
      "Starting training epoch 445\n",
      "Epoch: 445, Loss 0.0032 (0.0033)\n",
      "Finished training epoch 445\n",
      "Validate: Loss 0.0090 (0.0091)\t\n",
      "Finished validation.\n",
      "Starting training epoch 446\n",
      "Epoch: 446, Loss 0.0033 (0.0033)\n",
      "Finished training epoch 446\n",
      "Validate: Loss 0.0116 (0.0125)\t\n",
      "Finished validation.\n",
      "Starting training epoch 447\n",
      "Epoch: 447, Loss 0.0029 (0.0033)\n",
      "Finished training epoch 447\n",
      "Validate: Loss 0.0113 (0.0120)\t\n",
      "Finished validation.\n",
      "Starting training epoch 448\n",
      "Epoch: 448, Loss 0.0035 (0.0033)\n",
      "Finished training epoch 448\n",
      "Validate: Loss 0.0094 (0.0099)\t\n",
      "Finished validation.\n",
      "Starting training epoch 449\n",
      "Epoch: 449, Loss 0.0034 (0.0033)\n",
      "Finished training epoch 449\n",
      "Validate: Loss 0.0088 (0.0093)\t\n",
      "Finished validation.\n",
      "Starting training epoch 450\n",
      "Epoch: 450, Loss 0.0029 (0.0033)\n",
      "Finished training epoch 450\n",
      "Validate: Loss 0.0094 (0.0101)\t\n",
      "Finished validation.\n",
      "Starting training epoch 451\n",
      "Epoch: 451, Loss 0.0033 (0.0033)\n",
      "Finished training epoch 451\n",
      "Validate: Loss 0.0086 (0.0088)\t\n",
      "Finished validation.\n",
      "Starting training epoch 452\n",
      "Epoch: 452, Loss 0.0032 (0.0033)\n",
      "Finished training epoch 452\n",
      "Validate: Loss 0.0087 (0.0092)\t\n",
      "Finished validation.\n",
      "Starting training epoch 453\n",
      "Epoch: 453, Loss 0.0034 (0.0033)\n",
      "Finished training epoch 453\n",
      "Validate: Loss 0.0089 (0.0091)\t\n",
      "Finished validation.\n",
      "Starting training epoch 454\n",
      "Epoch: 454, Loss 0.0031 (0.0033)\n",
      "Finished training epoch 454\n",
      "Validate: Loss 0.0088 (0.0090)\t\n",
      "Finished validation.\n",
      "Starting training epoch 455\n",
      "Epoch: 455, Loss 0.0032 (0.0033)\n",
      "Finished training epoch 455\n",
      "Validate: Loss 0.0092 (0.0096)\t\n",
      "Finished validation.\n",
      "Starting training epoch 456\n",
      "Epoch: 456, Loss 0.0036 (0.0033)\n",
      "Finished training epoch 456\n",
      "Validate: Loss 0.0089 (0.0092)\t\n",
      "Finished validation.\n",
      "Starting training epoch 457\n",
      "Epoch: 457, Loss 0.0032 (0.0033)\n",
      "Finished training epoch 457\n",
      "Validate: Loss 0.0125 (0.0121)\t\n",
      "Finished validation.\n",
      "Starting training epoch 458\n",
      "Epoch: 458, Loss 0.0031 (0.0033)\n",
      "Finished training epoch 458\n"
     ]
    },
    {
     "name": "stderr",
     "output_type": "stream",
     "text": [
      "/home/konrad/.local/lib/python3.10/site-packages/skimage/_shared/utils.py:394: UserWarning: Color data out of range: Z < 0 in 878 pixels\n",
      "  return func(*args, **kwargs)\n",
      "/home/konrad/.local/lib/python3.10/site-packages/skimage/_shared/utils.py:394: UserWarning: Color data out of range: Z < 0 in 1124 pixels\n",
      "  return func(*args, **kwargs)\n"
     ]
    },
    {
     "name": "stdout",
     "output_type": "stream",
     "text": [
      "Validate: Loss 0.0176 (0.0168)\t\n",
      "Finished validation.\n",
      "Starting training epoch 459\n",
      "Epoch: 459, Loss 0.0033 (0.0032)\n",
      "Finished training epoch 459\n",
      "Validate: Loss 0.0113 (0.0113)\t\n",
      "Finished validation.\n",
      "Starting training epoch 460\n",
      "Epoch: 460, Loss 0.0031 (0.0033)\n",
      "Finished training epoch 460\n",
      "Validate: Loss 0.0103 (0.0099)\t\n",
      "Finished validation.\n",
      "Starting training epoch 461\n",
      "Epoch: 461, Loss 0.0035 (0.0033)\n",
      "Finished training epoch 461\n",
      "Validate: Loss 0.0088 (0.0092)\t\n",
      "Finished validation.\n",
      "Starting training epoch 462\n",
      "Epoch: 462, Loss 0.0034 (0.0032)\n",
      "Finished training epoch 462\n",
      "Validate: Loss 0.0096 (0.0102)\t\n",
      "Finished validation.\n",
      "Starting training epoch 463\n",
      "Epoch: 463, Loss 0.0034 (0.0032)\n",
      "Finished training epoch 463\n",
      "Validate: Loss 0.0085 (0.0086)\t\n",
      "Finished validation.\n",
      "Starting training epoch 464\n",
      "Epoch: 464, Loss 0.0031 (0.0032)\n",
      "Finished training epoch 464\n",
      "Validate: Loss 0.0123 (0.0118)\t\n",
      "Finished validation.\n",
      "Starting training epoch 465\n",
      "Epoch: 465, Loss 0.0034 (0.0032)\n",
      "Finished training epoch 465\n",
      "Validate: Loss 0.0100 (0.0106)\t\n",
      "Finished validation.\n",
      "Starting training epoch 466\n",
      "Epoch: 466, Loss 0.0032 (0.0032)\n",
      "Finished training epoch 466\n",
      "Validate: Loss 0.0094 (0.0097)\t\n",
      "Finished validation.\n",
      "Starting training epoch 467\n",
      "Epoch: 467, Loss 0.0032 (0.0032)\n",
      "Finished training epoch 467\n",
      "Validate: Loss 0.0086 (0.0090)\t\n",
      "Finished validation.\n",
      "Starting training epoch 468\n",
      "Epoch: 468, Loss 0.0030 (0.0033)\n",
      "Finished training epoch 468\n",
      "Validate: Loss 0.0110 (0.0119)\t\n",
      "Finished validation.\n",
      "Starting training epoch 469\n",
      "Epoch: 469, Loss 0.0033 (0.0032)\n",
      "Finished training epoch 469\n",
      "Validate: Loss 0.0097 (0.0097)\t\n",
      "Finished validation.\n",
      "Starting training epoch 470\n",
      "Epoch: 470, Loss 0.0033 (0.0032)\n",
      "Finished training epoch 470\n",
      "Validate: Loss 0.0113 (0.0112)\t\n",
      "Finished validation.\n",
      "Starting training epoch 471\n",
      "Epoch: 471, Loss 0.0036 (0.0032)\n",
      "Finished training epoch 471\n",
      "Validate: Loss 0.0089 (0.0095)\t\n",
      "Finished validation.\n",
      "Starting training epoch 472\n",
      "Epoch: 472, Loss 0.0031 (0.0033)\n",
      "Finished training epoch 472\n",
      "Validate: Loss 0.0103 (0.0110)\t\n",
      "Finished validation.\n",
      "Starting training epoch 473\n",
      "Epoch: 473, Loss 0.0035 (0.0033)\n",
      "Finished training epoch 473\n",
      "Validate: Loss 0.0104 (0.0104)\t\n",
      "Finished validation.\n",
      "Starting training epoch 474\n",
      "Epoch: 474, Loss 0.0028 (0.0033)\n",
      "Finished training epoch 474\n",
      "Validate: Loss 0.0110 (0.0118)\t\n",
      "Finished validation.\n",
      "Starting training epoch 475\n",
      "Epoch: 475, Loss 0.0031 (0.0032)\n",
      "Finished training epoch 475\n",
      "Validate: Loss 0.0090 (0.0096)\t\n",
      "Finished validation.\n",
      "Starting training epoch 476\n",
      "Epoch: 476, Loss 0.0030 (0.0032)\n",
      "Finished training epoch 476\n",
      "Validate: Loss 0.0083 (0.0086)\t\n",
      "Finished validation.\n",
      "Starting training epoch 477\n",
      "Epoch: 477, Loss 0.0031 (0.0033)\n",
      "Finished training epoch 477\n",
      "Validate: Loss 0.0084 (0.0087)\t\n",
      "Finished validation.\n",
      "Starting training epoch 478\n",
      "Epoch: 478, Loss 0.0031 (0.0032)\n",
      "Finished training epoch 478\n",
      "Validate: Loss 0.0082 (0.0084)\t\n",
      "Finished validation.\n",
      "Starting training epoch 479\n",
      "Epoch: 479, Loss 0.0036 (0.0033)\n",
      "Finished training epoch 479\n",
      "Validate: Loss 0.0086 (0.0090)\t\n",
      "Finished validation.\n",
      "Starting training epoch 480\n",
      "Epoch: 480, Loss 0.0032 (0.0032)\n",
      "Finished training epoch 480\n",
      "Validate: Loss 0.0085 (0.0088)\t\n",
      "Finished validation.\n",
      "Starting training epoch 481\n",
      "Epoch: 481, Loss 0.0036 (0.0032)\n",
      "Finished training epoch 481\n",
      "Validate: Loss 0.0083 (0.0085)\t\n",
      "Finished validation.\n",
      "Starting training epoch 482\n",
      "Epoch: 482, Loss 0.0035 (0.0032)\n",
      "Finished training epoch 482\n",
      "Validate: Loss 0.0090 (0.0094)\t\n",
      "Finished validation.\n",
      "Starting training epoch 483\n",
      "Epoch: 483, Loss 0.0036 (0.0032)\n",
      "Finished training epoch 483\n",
      "Validate: Loss 0.0083 (0.0087)\t\n",
      "Finished validation.\n",
      "Starting training epoch 484\n",
      "Epoch: 484, Loss 0.0031 (0.0032)\n",
      "Finished training epoch 484\n",
      "Validate: Loss 0.0100 (0.0106)\t\n",
      "Finished validation.\n",
      "Starting training epoch 485\n",
      "Epoch: 485, Loss 0.0033 (0.0033)\n",
      "Finished training epoch 485\n",
      "Validate: Loss 0.0089 (0.0092)\t\n",
      "Finished validation.\n",
      "Starting training epoch 486\n",
      "Epoch: 486, Loss 0.0032 (0.0032)\n",
      "Finished training epoch 486\n",
      "Validate: Loss 0.0094 (0.0094)\t\n",
      "Finished validation.\n",
      "Starting training epoch 487\n",
      "Epoch: 487, Loss 0.0031 (0.0032)\n",
      "Finished training epoch 487\n",
      "Validate: Loss 0.0093 (0.0098)\t\n",
      "Finished validation.\n",
      "Starting training epoch 488\n",
      "Epoch: 488, Loss 0.0033 (0.0033)\n",
      "Finished training epoch 488\n",
      "Validate: Loss 0.0085 (0.0089)\t\n",
      "Finished validation.\n",
      "Starting training epoch 489\n",
      "Epoch: 489, Loss 0.0032 (0.0032)\n",
      "Finished training epoch 489\n",
      "Validate: Loss 0.0098 (0.0097)\t\n",
      "Finished validation.\n",
      "Starting training epoch 490\n",
      "Epoch: 490, Loss 0.0035 (0.0032)\n",
      "Finished training epoch 490\n",
      "Validate: Loss 0.0087 (0.0090)\t\n",
      "Finished validation.\n",
      "Starting training epoch 491\n",
      "Epoch: 491, Loss 0.0034 (0.0032)\n",
      "Finished training epoch 491\n",
      "Validate: Loss 0.0090 (0.0093)\t\n",
      "Finished validation.\n",
      "Starting training epoch 492\n",
      "Epoch: 492, Loss 0.0035 (0.0033)\n",
      "Finished training epoch 492\n",
      "Validate: Loss 0.0083 (0.0086)\t\n",
      "Finished validation.\n",
      "Starting training epoch 493\n",
      "Epoch: 493, Loss 0.0032 (0.0032)\n",
      "Finished training epoch 493\n",
      "Validate: Loss 0.0126 (0.0135)\t\n",
      "Finished validation.\n",
      "Starting training epoch 494\n",
      "Epoch: 494, Loss 0.0031 (0.0032)\n",
      "Finished training epoch 494\n",
      "Validate: Loss 0.0099 (0.0101)\t\n",
      "Finished validation.\n",
      "Starting training epoch 495\n",
      "Epoch: 495, Loss 0.0033 (0.0032)\n",
      "Finished training epoch 495\n",
      "Validate: Loss 0.0090 (0.0094)\t\n",
      "Finished validation.\n",
      "Starting training epoch 496\n",
      "Epoch: 496, Loss 0.0030 (0.0033)\n",
      "Finished training epoch 496\n",
      "Validate: Loss 0.0125 (0.0131)\t\n",
      "Finished validation.\n",
      "Starting training epoch 497\n",
      "Epoch: 497, Loss 0.0031 (0.0032)\n",
      "Finished training epoch 497\n",
      "Validate: Loss 0.0098 (0.0103)\t\n",
      "Finished validation.\n",
      "Starting training epoch 498\n",
      "Epoch: 498, Loss 0.0031 (0.0033)\n",
      "Finished training epoch 498\n",
      "Validate: Loss 0.0111 (0.0119)\t\n",
      "Finished validation.\n",
      "Starting training epoch 499\n",
      "Epoch: 499, Loss 0.0033 (0.0032)\n",
      "Finished training epoch 499\n",
      "Validate: Loss 0.0090 (0.0095)\t\n",
      "Finished validation.\n",
      "Starting training epoch 500\n",
      "Epoch: 500, Loss 0.0032 (0.0032)\n",
      "Finished training epoch 500\n",
      "Validate: Loss 0.0114 (0.0122)\t\n",
      "Finished validation.\n",
      "Starting training epoch 501\n",
      "Epoch: 501, Loss 0.0032 (0.0032)\n",
      "Finished training epoch 501\n",
      "Validate: Loss 0.0107 (0.0114)\t\n",
      "Finished validation.\n",
      "Starting training epoch 502\n",
      "Epoch: 502, Loss 0.0030 (0.0032)\n",
      "Finished training epoch 502\n"
     ]
    },
    {
     "name": "stderr",
     "output_type": "stream",
     "text": [
      "/home/konrad/.local/lib/python3.10/site-packages/skimage/_shared/utils.py:394: UserWarning: Color data out of range: Z < 0 in 503 pixels\n",
      "  return func(*args, **kwargs)\n"
     ]
    },
    {
     "name": "stdout",
     "output_type": "stream",
     "text": [
      "Validate: Loss 0.0091 (0.0095)\t\n",
      "Finished validation.\n",
      "Starting training epoch 503\n",
      "Epoch: 503, Loss 0.0031 (0.0032)\n",
      "Finished training epoch 503\n"
     ]
    },
    {
     "name": "stderr",
     "output_type": "stream",
     "text": [
      "/home/konrad/.local/lib/python3.10/site-packages/skimage/_shared/utils.py:394: UserWarning: Color data out of range: Z < 0 in 984 pixels\n",
      "  return func(*args, **kwargs)\n",
      "/home/konrad/.local/lib/python3.10/site-packages/skimage/_shared/utils.py:394: UserWarning: Color data out of range: Z < 0 in 1164 pixels\n",
      "  return func(*args, **kwargs)\n",
      "/home/konrad/.local/lib/python3.10/site-packages/skimage/_shared/utils.py:394: UserWarning: Color data out of range: Z < 0 in 708 pixels\n",
      "  return func(*args, **kwargs)\n",
      "/home/konrad/.local/lib/python3.10/site-packages/skimage/_shared/utils.py:394: UserWarning: Color data out of range: Z < 0 in 1237 pixels\n",
      "  return func(*args, **kwargs)\n",
      "/home/konrad/.local/lib/python3.10/site-packages/skimage/_shared/utils.py:394: UserWarning: Color data out of range: Z < 0 in 1226 pixels\n",
      "  return func(*args, **kwargs)\n",
      "/home/konrad/.local/lib/python3.10/site-packages/skimage/_shared/utils.py:394: UserWarning: Color data out of range: Z < 0 in 314 pixels\n",
      "  return func(*args, **kwargs)\n"
     ]
    },
    {
     "name": "stdout",
     "output_type": "stream",
     "text": [
      "Validate: Loss 0.0198 (0.0190)\t\n",
      "Finished validation.\n",
      "Starting training epoch 504\n",
      "Epoch: 504, Loss 0.0032 (0.0032)\n",
      "Finished training epoch 504\n",
      "Validate: Loss 0.0088 (0.0092)\t\n",
      "Finished validation.\n",
      "Starting training epoch 505\n",
      "Epoch: 505, Loss 0.0037 (0.0033)\n",
      "Finished training epoch 505\n",
      "Validate: Loss 0.0105 (0.0101)\t\n",
      "Finished validation.\n",
      "Starting training epoch 506\n",
      "Epoch: 506, Loss 0.0033 (0.0032)\n",
      "Finished training epoch 506\n",
      "Validate: Loss 0.0094 (0.0093)\t\n",
      "Finished validation.\n",
      "Starting training epoch 507\n",
      "Epoch: 507, Loss 0.0032 (0.0032)\n",
      "Finished training epoch 507\n",
      "Validate: Loss 0.0091 (0.0097)\t\n",
      "Finished validation.\n",
      "Starting training epoch 508\n",
      "Epoch: 508, Loss 0.0034 (0.0032)\n",
      "Finished training epoch 508\n",
      "Validate: Loss 0.0098 (0.0103)\t\n",
      "Finished validation.\n",
      "Starting training epoch 509\n",
      "Epoch: 509, Loss 0.0033 (0.0032)\n",
      "Finished training epoch 509\n",
      "Validate: Loss 0.0100 (0.0107)\t\n",
      "Finished validation.\n",
      "Starting training epoch 510\n",
      "Epoch: 510, Loss 0.0034 (0.0032)\n",
      "Finished training epoch 510\n",
      "Validate: Loss 0.0105 (0.0112)\t\n",
      "Finished validation.\n",
      "Starting training epoch 511\n",
      "Epoch: 511, Loss 0.0034 (0.0032)\n",
      "Finished training epoch 511\n",
      "Validate: Loss 0.0123 (0.0132)\t\n",
      "Finished validation.\n",
      "Starting training epoch 512\n",
      "Epoch: 512, Loss 0.0033 (0.0032)\n",
      "Finished training epoch 512\n",
      "Validate: Loss 0.0142 (0.0152)\t\n",
      "Finished validation.\n",
      "Starting training epoch 513\n",
      "Epoch: 513, Loss 0.0032 (0.0032)\n",
      "Finished training epoch 513\n",
      "Validate: Loss 0.0103 (0.0111)\t\n",
      "Finished validation.\n",
      "Starting training epoch 514\n",
      "Epoch: 514, Loss 0.0038 (0.0032)\n",
      "Finished training epoch 514\n",
      "Validate: Loss 0.0102 (0.0109)\t\n",
      "Finished validation.\n",
      "Starting training epoch 515\n",
      "Epoch: 515, Loss 0.0031 (0.0032)\n",
      "Finished training epoch 515\n",
      "Validate: Loss 0.0091 (0.0097)\t\n",
      "Finished validation.\n",
      "Starting training epoch 516\n",
      "Epoch: 516, Loss 0.0034 (0.0032)\n",
      "Finished training epoch 516\n",
      "Validate: Loss 0.0099 (0.0104)\t\n",
      "Finished validation.\n",
      "Starting training epoch 517\n",
      "Epoch: 517, Loss 0.0034 (0.0032)\n",
      "Finished training epoch 517\n",
      "Validate: Loss 0.0096 (0.0101)\t\n",
      "Finished validation.\n",
      "Starting training epoch 518\n",
      "Epoch: 518, Loss 0.0031 (0.0032)\n",
      "Finished training epoch 518\n",
      "Validate: Loss 0.0086 (0.0090)\t\n",
      "Finished validation.\n",
      "Starting training epoch 519\n",
      "Epoch: 519, Loss 0.0032 (0.0032)\n",
      "Finished training epoch 519\n",
      "Validate: Loss 0.0085 (0.0088)\t\n",
      "Finished validation.\n",
      "Starting training epoch 520\n",
      "Epoch: 520, Loss 0.0031 (0.0032)\n",
      "Finished training epoch 520\n",
      "Validate: Loss 0.0083 (0.0086)\t\n",
      "Finished validation.\n",
      "Starting training epoch 521\n",
      "Epoch: 521, Loss 0.0034 (0.0032)\n",
      "Finished training epoch 521\n",
      "Validate: Loss 0.0086 (0.0090)\t\n",
      "Finished validation.\n",
      "Starting training epoch 522\n",
      "Epoch: 522, Loss 0.0032 (0.0032)\n",
      "Finished training epoch 522\n",
      "Validate: Loss 0.0085 (0.0090)\t\n",
      "Finished validation.\n",
      "Starting training epoch 523\n",
      "Epoch: 523, Loss 0.0034 (0.0032)\n",
      "Finished training epoch 523\n",
      "Validate: Loss 0.0092 (0.0098)\t\n",
      "Finished validation.\n",
      "Starting training epoch 524\n",
      "Epoch: 524, Loss 0.0033 (0.0031)\n",
      "Finished training epoch 524\n",
      "Validate: Loss 0.0101 (0.0100)\t\n",
      "Finished validation.\n",
      "Starting training epoch 525\n",
      "Epoch: 525, Loss 0.0035 (0.0032)\n",
      "Finished training epoch 525\n"
     ]
    },
    {
     "name": "stderr",
     "output_type": "stream",
     "text": [
      "/home/konrad/.local/lib/python3.10/site-packages/skimage/_shared/utils.py:394: UserWarning: Color data out of range: Z < 0 in 328 pixels\n",
      "  return func(*args, **kwargs)\n"
     ]
    },
    {
     "name": "stdout",
     "output_type": "stream",
     "text": [
      "Validate: Loss 0.0088 (0.0090)\t\n",
      "Finished validation.\n",
      "Starting training epoch 526\n",
      "Epoch: 526, Loss 0.0034 (0.0032)\n",
      "Finished training epoch 526\n",
      "Validate: Loss 0.0103 (0.0101)\t\n",
      "Finished validation.\n",
      "Starting training epoch 527\n",
      "Epoch: 527, Loss 0.0034 (0.0032)\n",
      "Finished training epoch 527\n",
      "Validate: Loss 0.0087 (0.0089)\t\n",
      "Finished validation.\n",
      "Starting training epoch 528\n",
      "Epoch: 528, Loss 0.0035 (0.0032)\n",
      "Finished training epoch 528\n"
     ]
    },
    {
     "name": "stderr",
     "output_type": "stream",
     "text": [
      "/home/konrad/.local/lib/python3.10/site-packages/skimage/_shared/utils.py:394: UserWarning: Color data out of range: Z < 0 in 621 pixels\n",
      "  return func(*args, **kwargs)\n"
     ]
    },
    {
     "name": "stdout",
     "output_type": "stream",
     "text": [
      "Validate: Loss 0.0112 (0.0110)\t\n",
      "Finished validation.\n",
      "Starting training epoch 529\n",
      "Epoch: 529, Loss 0.0032 (0.0032)\n",
      "Finished training epoch 529\n",
      "Validate: Loss 0.0094 (0.0099)\t\n",
      "Finished validation.\n",
      "Starting training epoch 530\n",
      "Epoch: 530, Loss 0.0031 (0.0032)\n",
      "Finished training epoch 530\n",
      "Validate: Loss 0.0098 (0.0104)\t\n",
      "Finished validation.\n",
      "Starting training epoch 531\n",
      "Epoch: 531, Loss 0.0036 (0.0032)\n",
      "Finished training epoch 531\n",
      "Validate: Loss 0.0084 (0.0087)\t\n",
      "Finished validation.\n",
      "Starting training epoch 532\n",
      "Epoch: 532, Loss 0.0037 (0.0032)\n",
      "Finished training epoch 532\n",
      "Validate: Loss 0.0086 (0.0087)\t\n",
      "Finished validation.\n",
      "Starting training epoch 533\n",
      "Epoch: 533, Loss 0.0034 (0.0032)\n",
      "Finished training epoch 533\n",
      "Validate: Loss 0.0087 (0.0088)\t\n",
      "Finished validation.\n",
      "Starting training epoch 534\n",
      "Epoch: 534, Loss 0.0030 (0.0032)\n",
      "Finished training epoch 534\n",
      "Validate: Loss 0.0092 (0.0099)\t\n",
      "Finished validation.\n",
      "Starting training epoch 535\n",
      "Epoch: 535, Loss 0.0035 (0.0032)\n",
      "Finished training epoch 535\n",
      "Validate: Loss 0.0096 (0.0104)\t\n",
      "Finished validation.\n",
      "Starting training epoch 536\n",
      "Epoch: 536, Loss 0.0029 (0.0032)\n",
      "Finished training epoch 536\n"
     ]
    },
    {
     "name": "stderr",
     "output_type": "stream",
     "text": [
      "/home/konrad/.local/lib/python3.10/site-packages/skimage/_shared/utils.py:394: UserWarning: Color data out of range: Z < 0 in 904 pixels\n",
      "  return func(*args, **kwargs)\n",
      "/home/konrad/.local/lib/python3.10/site-packages/skimage/_shared/utils.py:394: UserWarning: Color data out of range: Z < 0 in 597 pixels\n",
      "  return func(*args, **kwargs)\n"
     ]
    },
    {
     "name": "stdout",
     "output_type": "stream",
     "text": [
      "Validate: Loss 0.0120 (0.0117)\t\n",
      "Finished validation.\n",
      "Starting training epoch 537\n",
      "Epoch: 537, Loss 0.0032 (0.0032)\n",
      "Finished training epoch 537\n",
      "Validate: Loss 0.0091 (0.0096)\t\n",
      "Finished validation.\n",
      "Starting training epoch 538\n",
      "Epoch: 538, Loss 0.0034 (0.0032)\n",
      "Finished training epoch 538\n",
      "Validate: Loss 0.0095 (0.0102)\t\n",
      "Finished validation.\n",
      "Starting training epoch 539\n",
      "Epoch: 539, Loss 0.0036 (0.0032)\n",
      "Finished training epoch 539\n",
      "Validate: Loss 0.0100 (0.0107)\t\n",
      "Finished validation.\n",
      "Starting training epoch 540\n",
      "Epoch: 540, Loss 0.0033 (0.0032)\n",
      "Finished training epoch 540\n",
      "Validate: Loss 0.0092 (0.0095)\t\n",
      "Finished validation.\n",
      "Starting training epoch 541\n",
      "Epoch: 541, Loss 0.0033 (0.0032)\n",
      "Finished training epoch 541\n",
      "Validate: Loss 0.0096 (0.0098)\t\n",
      "Finished validation.\n",
      "Starting training epoch 542\n",
      "Epoch: 542, Loss 0.0031 (0.0032)\n",
      "Finished training epoch 542\n",
      "Validate: Loss 0.0100 (0.0107)\t\n",
      "Finished validation.\n",
      "Starting training epoch 543\n",
      "Epoch: 543, Loss 0.0030 (0.0032)\n",
      "Finished training epoch 543\n",
      "Validate: Loss 0.0085 (0.0089)\t\n",
      "Finished validation.\n",
      "Starting training epoch 544\n",
      "Epoch: 544, Loss 0.0030 (0.0032)\n",
      "Finished training epoch 544\n",
      "Validate: Loss 0.0087 (0.0091)\t\n",
      "Finished validation.\n",
      "Starting training epoch 545\n",
      "Epoch: 545, Loss 0.0034 (0.0032)\n",
      "Finished training epoch 545\n",
      "Validate: Loss 0.0085 (0.0089)\t\n",
      "Finished validation.\n",
      "Starting training epoch 546\n",
      "Epoch: 546, Loss 0.0031 (0.0032)\n",
      "Finished training epoch 546\n",
      "Validate: Loss 0.0102 (0.0100)\t\n",
      "Finished validation.\n",
      "Starting training epoch 547\n",
      "Epoch: 547, Loss 0.0032 (0.0032)\n",
      "Finished training epoch 547\n",
      "Validate: Loss 0.0090 (0.0092)\t\n",
      "Finished validation.\n",
      "Starting training epoch 548\n",
      "Epoch: 548, Loss 0.0033 (0.0032)\n",
      "Finished training epoch 548\n",
      "Validate: Loss 0.0120 (0.0115)\t\n",
      "Finished validation.\n",
      "Starting training epoch 549\n",
      "Epoch: 549, Loss 0.0038 (0.0032)\n",
      "Finished training epoch 549\n",
      "Validate: Loss 0.0087 (0.0091)\t\n",
      "Finished validation.\n",
      "Starting training epoch 550\n",
      "Epoch: 550, Loss 0.0029 (0.0032)\n",
      "Finished training epoch 550\n",
      "Validate: Loss 0.0108 (0.0105)\t\n",
      "Finished validation.\n",
      "Starting training epoch 551\n",
      "Epoch: 551, Loss 0.0034 (0.0032)\n",
      "Finished training epoch 551\n",
      "Validate: Loss 0.0084 (0.0089)\t\n",
      "Finished validation.\n",
      "Starting training epoch 552\n",
      "Epoch: 552, Loss 0.0026 (0.0032)\n",
      "Finished training epoch 552\n",
      "Validate: Loss 0.0112 (0.0120)\t\n",
      "Finished validation.\n",
      "Starting training epoch 553\n",
      "Epoch: 553, Loss 0.0029 (0.0031)\n",
      "Finished training epoch 553\n",
      "Validate: Loss 0.0090 (0.0095)\t\n",
      "Finished validation.\n",
      "Starting training epoch 554\n",
      "Epoch: 554, Loss 0.0030 (0.0031)\n",
      "Finished training epoch 554\n",
      "Validate: Loss 0.0091 (0.0097)\t\n",
      "Finished validation.\n",
      "Starting training epoch 555\n",
      "Epoch: 555, Loss 0.0033 (0.0032)\n",
      "Finished training epoch 555\n",
      "Validate: Loss 0.0096 (0.0101)\t\n",
      "Finished validation.\n",
      "Starting training epoch 556\n",
      "Epoch: 556, Loss 0.0033 (0.0032)\n",
      "Finished training epoch 556\n",
      "Validate: Loss 0.0090 (0.0093)\t\n",
      "Finished validation.\n",
      "Starting training epoch 557\n",
      "Epoch: 557, Loss 0.0034 (0.0032)\n",
      "Finished training epoch 557\n"
     ]
    },
    {
     "name": "stderr",
     "output_type": "stream",
     "text": [
      "/home/konrad/.local/lib/python3.10/site-packages/skimage/_shared/utils.py:394: UserWarning: Color data out of range: Z < 0 in 534 pixels\n",
      "  return func(*args, **kwargs)\n"
     ]
    },
    {
     "name": "stdout",
     "output_type": "stream",
     "text": [
      "Validate: Loss 0.0127 (0.0123)\t\n",
      "Finished validation.\n",
      "Starting training epoch 558\n",
      "Epoch: 558, Loss 0.0032 (0.0032)\n",
      "Finished training epoch 558\n",
      "Validate: Loss 0.0086 (0.0090)\t\n",
      "Finished validation.\n",
      "Starting training epoch 559\n",
      "Epoch: 559, Loss 0.0029 (0.0032)\n",
      "Finished training epoch 559\n",
      "Validate: Loss 0.0102 (0.0109)\t\n",
      "Finished validation.\n",
      "Starting training epoch 560\n",
      "Epoch: 560, Loss 0.0031 (0.0031)\n",
      "Finished training epoch 560\n"
     ]
    },
    {
     "name": "stderr",
     "output_type": "stream",
     "text": [
      "/home/konrad/.local/lib/python3.10/site-packages/skimage/_shared/utils.py:394: UserWarning: Color data out of range: Z < 0 in 427 pixels\n",
      "  return func(*args, **kwargs)\n"
     ]
    },
    {
     "name": "stdout",
     "output_type": "stream",
     "text": [
      "Validate: Loss 0.0100 (0.0099)\t\n",
      "Finished validation.\n",
      "Starting training epoch 561\n",
      "Epoch: 561, Loss 0.0033 (0.0032)\n",
      "Finished training epoch 561\n",
      "Validate: Loss 0.0091 (0.0092)\t\n",
      "Finished validation.\n",
      "Starting training epoch 562\n",
      "Epoch: 562, Loss 0.0033 (0.0031)\n",
      "Finished training epoch 562\n",
      "Validate: Loss 0.0091 (0.0097)\t\n",
      "Finished validation.\n",
      "Starting training epoch 563\n",
      "Epoch: 563, Loss 0.0031 (0.0031)\n",
      "Finished training epoch 563\n",
      "Validate: Loss 0.0085 (0.0088)\t\n",
      "Finished validation.\n",
      "Starting training epoch 564\n",
      "Epoch: 564, Loss 0.0033 (0.0032)\n",
      "Finished training epoch 564\n",
      "Validate: Loss 0.0103 (0.0109)\t\n",
      "Finished validation.\n",
      "Starting training epoch 565\n",
      "Epoch: 565, Loss 0.0035 (0.0032)\n",
      "Finished training epoch 565\n",
      "Validate: Loss 0.0090 (0.0093)\t\n",
      "Finished validation.\n",
      "Starting training epoch 566\n",
      "Epoch: 566, Loss 0.0030 (0.0031)\n",
      "Finished training epoch 566\n",
      "Validate: Loss 0.0101 (0.0107)\t\n",
      "Finished validation.\n",
      "Starting training epoch 567\n",
      "Epoch: 567, Loss 0.0028 (0.0031)\n",
      "Finished training epoch 567\n",
      "Validate: Loss 0.0115 (0.0123)\t\n",
      "Finished validation.\n",
      "Starting training epoch 568\n",
      "Epoch: 568, Loss 0.0033 (0.0031)\n",
      "Finished training epoch 568\n"
     ]
    },
    {
     "name": "stderr",
     "output_type": "stream",
     "text": [
      "/home/konrad/.local/lib/python3.10/site-packages/skimage/_shared/utils.py:394: UserWarning: Color data out of range: Z < 0 in 724 pixels\n",
      "  return func(*args, **kwargs)\n"
     ]
    },
    {
     "name": "stdout",
     "output_type": "stream",
     "text": [
      "Validate: Loss 0.0107 (0.0104)\t\n",
      "Finished validation.\n",
      "Starting training epoch 569\n",
      "Epoch: 569, Loss 0.0032 (0.0032)\n",
      "Finished training epoch 569\n",
      "Validate: Loss 0.0123 (0.0131)\t\n",
      "Finished validation.\n",
      "Starting training epoch 570\n",
      "Epoch: 570, Loss 0.0032 (0.0032)\n",
      "Finished training epoch 570\n",
      "Validate: Loss 0.0093 (0.0096)\t\n",
      "Finished validation.\n",
      "Starting training epoch 571\n",
      "Epoch: 571, Loss 0.0032 (0.0032)\n",
      "Finished training epoch 571\n",
      "Validate: Loss 0.0106 (0.0113)\t\n",
      "Finished validation.\n",
      "Starting training epoch 572\n",
      "Epoch: 572, Loss 0.0032 (0.0032)\n",
      "Finished training epoch 572\n",
      "Validate: Loss 0.0102 (0.0108)\t\n",
      "Finished validation.\n",
      "Starting training epoch 573\n",
      "Epoch: 573, Loss 0.0030 (0.0032)\n",
      "Finished training epoch 573\n",
      "Validate: Loss 0.0088 (0.0093)\t\n",
      "Finished validation.\n",
      "Starting training epoch 574\n",
      "Epoch: 574, Loss 0.0031 (0.0032)\n",
      "Finished training epoch 574\n",
      "Validate: Loss 0.0085 (0.0089)\t\n",
      "Finished validation.\n",
      "Starting training epoch 575\n",
      "Epoch: 575, Loss 0.0032 (0.0032)\n",
      "Finished training epoch 575\n",
      "Validate: Loss 0.0124 (0.0134)\t\n",
      "Finished validation.\n",
      "Starting training epoch 576\n",
      "Epoch: 576, Loss 0.0033 (0.0031)\n",
      "Finished training epoch 576\n",
      "Validate: Loss 0.0089 (0.0095)\t\n",
      "Finished validation.\n",
      "Starting training epoch 577\n",
      "Epoch: 577, Loss 0.0032 (0.0031)\n",
      "Finished training epoch 577\n",
      "Validate: Loss 0.0092 (0.0095)\t\n",
      "Finished validation.\n",
      "Starting training epoch 578\n",
      "Epoch: 578, Loss 0.0036 (0.0032)\n",
      "Finished training epoch 578\n",
      "Validate: Loss 0.0142 (0.0152)\t\n",
      "Finished validation.\n",
      "Starting training epoch 579\n",
      "Epoch: 579, Loss 0.0032 (0.0032)\n",
      "Finished training epoch 579\n",
      "Validate: Loss 0.0095 (0.0098)\t\n",
      "Finished validation.\n",
      "Starting training epoch 580\n",
      "Epoch: 580, Loss 0.0030 (0.0032)\n",
      "Finished training epoch 580\n",
      "Validate: Loss 0.0087 (0.0091)\t\n",
      "Finished validation.\n",
      "Starting training epoch 581\n",
      "Epoch: 581, Loss 0.0037 (0.0032)\n",
      "Finished training epoch 581\n",
      "Validate: Loss 0.0094 (0.0100)\t\n",
      "Finished validation.\n",
      "Starting training epoch 582\n",
      "Epoch: 582, Loss 0.0029 (0.0032)\n",
      "Finished training epoch 582\n",
      "Validate: Loss 0.0087 (0.0092)\t\n",
      "Finished validation.\n",
      "Starting training epoch 583\n",
      "Epoch: 583, Loss 0.0032 (0.0032)\n",
      "Finished training epoch 583\n"
     ]
    },
    {
     "name": "stderr",
     "output_type": "stream",
     "text": [
      "/home/konrad/.local/lib/python3.10/site-packages/skimage/_shared/utils.py:394: UserWarning: Color data out of range: Z < 0 in 262 pixels\n",
      "  return func(*args, **kwargs)\n"
     ]
    },
    {
     "name": "stdout",
     "output_type": "stream",
     "text": [
      "Validate: Loss 0.0085 (0.0088)\t\n",
      "Finished validation.\n",
      "Starting training epoch 584\n",
      "Epoch: 584, Loss 0.0031 (0.0031)\n",
      "Finished training epoch 584\n",
      "Validate: Loss 0.0101 (0.0108)\t\n",
      "Finished validation.\n",
      "Starting training epoch 585\n",
      "Epoch: 585, Loss 0.0035 (0.0031)\n",
      "Finished training epoch 585\n",
      "Validate: Loss 0.0093 (0.0100)\t\n",
      "Finished validation.\n",
      "Starting training epoch 586\n",
      "Epoch: 586, Loss 0.0034 (0.0031)\n",
      "Finished training epoch 586\n",
      "Validate: Loss 0.0087 (0.0092)\t\n",
      "Finished validation.\n",
      "Starting training epoch 587\n",
      "Epoch: 587, Loss 0.0035 (0.0031)\n",
      "Finished training epoch 587\n",
      "Validate: Loss 0.0100 (0.0107)\t\n",
      "Finished validation.\n",
      "Starting training epoch 588\n",
      "Epoch: 588, Loss 0.0029 (0.0031)\n",
      "Finished training epoch 588\n",
      "Validate: Loss 0.0088 (0.0094)\t\n",
      "Finished validation.\n",
      "Starting training epoch 589\n",
      "Epoch: 589, Loss 0.0036 (0.0032)\n",
      "Finished training epoch 589\n",
      "Validate: Loss 0.0140 (0.0149)\t\n",
      "Finished validation.\n",
      "Starting training epoch 590\n",
      "Epoch: 590, Loss 0.0030 (0.0031)\n",
      "Finished training epoch 590\n",
      "Validate: Loss 0.0090 (0.0097)\t\n",
      "Finished validation.\n",
      "Starting training epoch 591\n",
      "Epoch: 591, Loss 0.0034 (0.0031)\n",
      "Finished training epoch 591\n",
      "Validate: Loss 0.0093 (0.0098)\t\n",
      "Finished validation.\n",
      "Starting training epoch 592\n",
      "Epoch: 592, Loss 0.0032 (0.0031)\n",
      "Finished training epoch 592\n"
     ]
    },
    {
     "name": "stderr",
     "output_type": "stream",
     "text": [
      "/home/konrad/.local/lib/python3.10/site-packages/skimage/_shared/utils.py:394: UserWarning: Color data out of range: Z < 0 in 915 pixels\n",
      "  return func(*args, **kwargs)\n"
     ]
    },
    {
     "name": "stdout",
     "output_type": "stream",
     "text": [
      "Validate: Loss 0.0104 (0.0102)\t\n",
      "Finished validation.\n",
      "Starting training epoch 593\n",
      "Epoch: 593, Loss 0.0032 (0.0031)\n",
      "Finished training epoch 593\n",
      "Validate: Loss 0.0118 (0.0128)\t\n",
      "Finished validation.\n",
      "Starting training epoch 594\n",
      "Epoch: 594, Loss 0.0028 (0.0031)\n",
      "Finished training epoch 594\n",
      "Validate: Loss 0.0119 (0.0129)\t\n",
      "Finished validation.\n",
      "Starting training epoch 595\n",
      "Epoch: 595, Loss 0.0034 (0.0031)\n",
      "Finished training epoch 595\n",
      "Validate: Loss 0.0123 (0.0132)\t\n",
      "Finished validation.\n",
      "Starting training epoch 596\n",
      "Epoch: 596, Loss 0.0030 (0.0031)\n",
      "Finished training epoch 596\n",
      "Validate: Loss 0.0099 (0.0100)\t\n",
      "Finished validation.\n",
      "Starting training epoch 597\n",
      "Epoch: 597, Loss 0.0029 (0.0031)\n",
      "Finished training epoch 597\n",
      "Validate: Loss 0.0090 (0.0091)\t\n",
      "Finished validation.\n",
      "Starting training epoch 598\n",
      "Epoch: 598, Loss 0.0036 (0.0032)\n",
      "Finished training epoch 598\n",
      "Validate: Loss 0.0093 (0.0098)\t\n",
      "Finished validation.\n",
      "Starting training epoch 599\n",
      "Epoch: 599, Loss 0.0030 (0.0031)\n",
      "Finished training epoch 599\n",
      "Validate: Loss 0.0108 (0.0116)\t\n",
      "Finished validation.\n",
      "Starting training epoch 600\n",
      "Epoch: 600, Loss 0.0036 (0.0031)\n",
      "Finished training epoch 600\n",
      "Validate: Loss 0.0090 (0.0093)\t\n",
      "Finished validation.\n",
      "Starting training epoch 601\n",
      "Epoch: 601, Loss 0.0030 (0.0032)\n",
      "Finished training epoch 601\n",
      "Validate: Loss 0.0090 (0.0095)\t\n",
      "Finished validation.\n",
      "Starting training epoch 602\n",
      "Epoch: 602, Loss 0.0033 (0.0032)\n",
      "Finished training epoch 602\n",
      "Validate: Loss 0.0130 (0.0138)\t\n",
      "Finished validation.\n",
      "Starting training epoch 603\n",
      "Epoch: 603, Loss 0.0032 (0.0032)\n",
      "Finished training epoch 603\n",
      "Validate: Loss 0.0082 (0.0086)\t\n",
      "Finished validation.\n",
      "Starting training epoch 604\n",
      "Epoch: 604, Loss 0.0030 (0.0031)\n",
      "Finished training epoch 604\n",
      "Validate: Loss 0.0100 (0.0105)\t\n",
      "Finished validation.\n",
      "Starting training epoch 605\n",
      "Epoch: 605, Loss 0.0031 (0.0031)\n",
      "Finished training epoch 605\n",
      "Validate: Loss 0.0105 (0.0112)\t\n",
      "Finished validation.\n",
      "Starting training epoch 606\n",
      "Epoch: 606, Loss 0.0030 (0.0031)\n",
      "Finished training epoch 606\n",
      "Validate: Loss 0.0126 (0.0134)\t\n",
      "Finished validation.\n",
      "Starting training epoch 607\n",
      "Epoch: 607, Loss 0.0031 (0.0031)\n",
      "Finished training epoch 607\n",
      "Validate: Loss 0.0108 (0.0117)\t\n",
      "Finished validation.\n",
      "Starting training epoch 608\n",
      "Epoch: 608, Loss 0.0031 (0.0031)\n",
      "Finished training epoch 608\n",
      "Validate: Loss 0.0086 (0.0091)\t\n",
      "Finished validation.\n",
      "Starting training epoch 609\n",
      "Epoch: 609, Loss 0.0029 (0.0031)\n",
      "Finished training epoch 609\n",
      "Validate: Loss 0.0088 (0.0093)\t\n",
      "Finished validation.\n",
      "Starting training epoch 610\n",
      "Epoch: 610, Loss 0.0027 (0.0031)\n",
      "Finished training epoch 610\n",
      "Validate: Loss 0.0118 (0.0126)\t\n",
      "Finished validation.\n",
      "Starting training epoch 611\n",
      "Epoch: 611, Loss 0.0031 (0.0031)\n",
      "Finished training epoch 611\n",
      "Validate: Loss 0.0091 (0.0093)\t\n",
      "Finished validation.\n",
      "Starting training epoch 612\n",
      "Epoch: 612, Loss 0.0033 (0.0031)\n",
      "Finished training epoch 612\n",
      "Validate: Loss 0.0109 (0.0108)\t\n",
      "Finished validation.\n",
      "Starting training epoch 613\n",
      "Epoch: 613, Loss 0.0030 (0.0031)\n",
      "Finished training epoch 613\n",
      "Validate: Loss 0.0092 (0.0093)\t\n",
      "Finished validation.\n",
      "Starting training epoch 614\n",
      "Epoch: 614, Loss 0.0030 (0.0031)\n",
      "Finished training epoch 614\n",
      "Validate: Loss 0.0086 (0.0092)\t\n",
      "Finished validation.\n",
      "Starting training epoch 615\n",
      "Epoch: 615, Loss 0.0030 (0.0032)\n",
      "Finished training epoch 615\n",
      "Validate: Loss 0.0093 (0.0099)\t\n",
      "Finished validation.\n",
      "Starting training epoch 616\n",
      "Epoch: 616, Loss 0.0036 (0.0031)\n",
      "Finished training epoch 616\n",
      "Validate: Loss 0.0089 (0.0096)\t\n",
      "Finished validation.\n",
      "Starting training epoch 617\n",
      "Epoch: 617, Loss 0.0026 (0.0031)\n",
      "Finished training epoch 617\n"
     ]
    },
    {
     "name": "stderr",
     "output_type": "stream",
     "text": [
      "/home/konrad/.local/lib/python3.10/site-packages/skimage/_shared/utils.py:394: UserWarning: Color data out of range: Z < 0 in 706 pixels\n",
      "  return func(*args, **kwargs)\n",
      "/home/konrad/.local/lib/python3.10/site-packages/skimage/_shared/utils.py:394: UserWarning: Color data out of range: Z < 0 in 541 pixels\n",
      "  return func(*args, **kwargs)\n"
     ]
    },
    {
     "name": "stdout",
     "output_type": "stream",
     "text": [
      "Validate: Loss 0.0130 (0.0125)\t\n",
      "Finished validation.\n",
      "Starting training epoch 618\n",
      "Epoch: 618, Loss 0.0034 (0.0031)\n",
      "Finished training epoch 618\n",
      "Validate: Loss 0.0123 (0.0132)\t\n",
      "Finished validation.\n",
      "Starting training epoch 619\n",
      "Epoch: 619, Loss 0.0033 (0.0031)\n",
      "Finished training epoch 619\n",
      "Validate: Loss 0.0094 (0.0094)\t\n",
      "Finished validation.\n",
      "Starting training epoch 620\n",
      "Epoch: 620, Loss 0.0035 (0.0031)\n",
      "Finished training epoch 620\n",
      "Validate: Loss 0.0084 (0.0086)\t\n",
      "Finished validation.\n",
      "Starting training epoch 621\n",
      "Epoch: 621, Loss 0.0029 (0.0032)\n",
      "Finished training epoch 621\n",
      "Validate: Loss 0.0087 (0.0092)\t\n",
      "Finished validation.\n",
      "Starting training epoch 622\n",
      "Epoch: 622, Loss 0.0029 (0.0031)\n",
      "Finished training epoch 622\n",
      "Validate: Loss 0.0082 (0.0085)\t\n",
      "Finished validation.\n",
      "Starting training epoch 623\n",
      "Epoch: 623, Loss 0.0035 (0.0032)\n",
      "Finished training epoch 623\n",
      "Validate: Loss 0.0083 (0.0088)\t\n",
      "Finished validation.\n",
      "Starting training epoch 624\n",
      "Epoch: 624, Loss 0.0031 (0.0031)\n",
      "Finished training epoch 624\n",
      "Validate: Loss 0.0085 (0.0087)\t\n",
      "Finished validation.\n",
      "Starting training epoch 625\n",
      "Epoch: 625, Loss 0.0032 (0.0031)\n",
      "Finished training epoch 625\n",
      "Validate: Loss 0.0099 (0.0106)\t\n",
      "Finished validation.\n",
      "Starting training epoch 626\n",
      "Epoch: 626, Loss 0.0034 (0.0031)\n",
      "Finished training epoch 626\n",
      "Validate: Loss 0.0093 (0.0099)\t\n",
      "Finished validation.\n",
      "Starting training epoch 627\n",
      "Epoch: 627, Loss 0.0028 (0.0031)\n",
      "Finished training epoch 627\n",
      "Validate: Loss 0.0109 (0.0117)\t\n",
      "Finished validation.\n",
      "Starting training epoch 628\n",
      "Epoch: 628, Loss 0.0032 (0.0031)\n",
      "Finished training epoch 628\n",
      "Validate: Loss 0.0087 (0.0091)\t\n",
      "Finished validation.\n",
      "Starting training epoch 629\n",
      "Epoch: 629, Loss 0.0030 (0.0031)\n",
      "Finished training epoch 629\n",
      "Validate: Loss 0.0088 (0.0090)\t\n",
      "Finished validation.\n",
      "Starting training epoch 630\n",
      "Epoch: 630, Loss 0.0030 (0.0031)\n",
      "Finished training epoch 630\n",
      "Validate: Loss 0.0084 (0.0087)\t\n",
      "Finished validation.\n",
      "Starting training epoch 631\n",
      "Epoch: 631, Loss 0.0030 (0.0031)\n",
      "Finished training epoch 631\n",
      "Validate: Loss 0.0091 (0.0096)\t\n",
      "Finished validation.\n",
      "Starting training epoch 632\n",
      "Epoch: 632, Loss 0.0030 (0.0031)\n",
      "Finished training epoch 632\n",
      "Validate: Loss 0.0092 (0.0097)\t\n",
      "Finished validation.\n",
      "Starting training epoch 633\n",
      "Epoch: 633, Loss 0.0034 (0.0031)\n",
      "Finished training epoch 633\n",
      "Validate: Loss 0.0094 (0.0099)\t\n",
      "Finished validation.\n",
      "Starting training epoch 634\n",
      "Epoch: 634, Loss 0.0030 (0.0031)\n",
      "Finished training epoch 634\n",
      "Validate: Loss 0.0087 (0.0089)\t\n",
      "Finished validation.\n",
      "Starting training epoch 635\n",
      "Epoch: 635, Loss 0.0030 (0.0031)\n",
      "Finished training epoch 635\n",
      "Validate: Loss 0.0087 (0.0090)\t\n",
      "Finished validation.\n",
      "Starting training epoch 636\n",
      "Epoch: 636, Loss 0.0033 (0.0031)\n",
      "Finished training epoch 636\n",
      "Validate: Loss 0.0095 (0.0101)\t\n",
      "Finished validation.\n",
      "Starting training epoch 637\n",
      "Epoch: 637, Loss 0.0034 (0.0031)\n",
      "Finished training epoch 637\n",
      "Validate: Loss 0.0133 (0.0143)\t\n",
      "Finished validation.\n",
      "Starting training epoch 638\n",
      "Epoch: 638, Loss 0.0031 (0.0031)\n",
      "Finished training epoch 638\n",
      "Validate: Loss 0.0086 (0.0091)\t\n",
      "Finished validation.\n",
      "Starting training epoch 639\n",
      "Epoch: 639, Loss 0.0030 (0.0031)\n",
      "Finished training epoch 639\n",
      "Validate: Loss 0.0110 (0.0117)\t\n",
      "Finished validation.\n",
      "Starting training epoch 640\n",
      "Epoch: 640, Loss 0.0031 (0.0031)\n",
      "Finished training epoch 640\n",
      "Validate: Loss 0.0111 (0.0118)\t\n",
      "Finished validation.\n",
      "Starting training epoch 641\n",
      "Epoch: 641, Loss 0.0030 (0.0031)\n",
      "Finished training epoch 641\n",
      "Validate: Loss 0.0103 (0.0109)\t\n",
      "Finished validation.\n",
      "Starting training epoch 642\n",
      "Epoch: 642, Loss 0.0030 (0.0031)\n",
      "Finished training epoch 642\n",
      "Validate: Loss 0.0088 (0.0089)\t\n",
      "Finished validation.\n",
      "Starting training epoch 643\n",
      "Epoch: 643, Loss 0.0032 (0.0031)\n",
      "Finished training epoch 643\n",
      "Validate: Loss 0.0087 (0.0092)\t\n",
      "Finished validation.\n",
      "Starting training epoch 644\n",
      "Epoch: 644, Loss 0.0034 (0.0031)\n",
      "Finished training epoch 644\n",
      "Validate: Loss 0.0102 (0.0110)\t\n",
      "Finished validation.\n",
      "Starting training epoch 645\n",
      "Epoch: 645, Loss 0.0032 (0.0031)\n",
      "Finished training epoch 645\n",
      "Validate: Loss 0.0098 (0.0106)\t\n",
      "Finished validation.\n",
      "Starting training epoch 646\n",
      "Epoch: 646, Loss 0.0029 (0.0031)\n",
      "Finished training epoch 646\n",
      "Validate: Loss 0.0126 (0.0136)\t\n",
      "Finished validation.\n",
      "Starting training epoch 647\n",
      "Epoch: 647, Loss 0.0032 (0.0031)\n",
      "Finished training epoch 647\n",
      "Validate: Loss 0.0086 (0.0090)\t\n",
      "Finished validation.\n",
      "Starting training epoch 648\n",
      "Epoch: 648, Loss 0.0031 (0.0031)\n",
      "Finished training epoch 648\n",
      "Validate: Loss 0.0140 (0.0151)\t\n",
      "Finished validation.\n",
      "Starting training epoch 649\n",
      "Epoch: 649, Loss 0.0032 (0.0031)\n",
      "Finished training epoch 649\n",
      "Validate: Loss 0.0085 (0.0089)\t\n",
      "Finished validation.\n",
      "Starting training epoch 650\n",
      "Epoch: 650, Loss 0.0037 (0.0031)\n",
      "Finished training epoch 650\n",
      "Validate: Loss 0.0104 (0.0110)\t\n",
      "Finished validation.\n",
      "Starting training epoch 651\n",
      "Epoch: 651, Loss 0.0030 (0.0031)\n",
      "Finished training epoch 651\n",
      "Validate: Loss 0.0099 (0.0097)\t\n",
      "Finished validation.\n",
      "Starting training epoch 652\n",
      "Epoch: 652, Loss 0.0029 (0.0031)\n",
      "Finished training epoch 652\n",
      "Validate: Loss 0.0088 (0.0093)\t\n",
      "Finished validation.\n",
      "Starting training epoch 653\n",
      "Epoch: 653, Loss 0.0031 (0.0031)\n",
      "Finished training epoch 653\n",
      "Validate: Loss 0.0088 (0.0090)\t\n",
      "Finished validation.\n",
      "Starting training epoch 654\n",
      "Epoch: 654, Loss 0.0029 (0.0031)\n",
      "Finished training epoch 654\n",
      "Validate: Loss 0.0087 (0.0090)\t\n",
      "Finished validation.\n",
      "Starting training epoch 655\n",
      "Epoch: 655, Loss 0.0030 (0.0031)\n",
      "Finished training epoch 655\n",
      "Validate: Loss 0.0093 (0.0095)\t\n",
      "Finished validation.\n",
      "Starting training epoch 656\n",
      "Epoch: 656, Loss 0.0036 (0.0031)\n",
      "Finished training epoch 656\n",
      "Validate: Loss 0.0109 (0.0115)\t\n",
      "Finished validation.\n",
      "Starting training epoch 657\n",
      "Epoch: 657, Loss 0.0035 (0.0031)\n",
      "Finished training epoch 657\n",
      "Validate: Loss 0.0085 (0.0086)\t\n",
      "Finished validation.\n",
      "Starting training epoch 658\n",
      "Epoch: 658, Loss 0.0035 (0.0031)\n",
      "Finished training epoch 658\n",
      "Validate: Loss 0.0091 (0.0098)\t\n",
      "Finished validation.\n",
      "Starting training epoch 659\n",
      "Epoch: 659, Loss 0.0032 (0.0031)\n",
      "Finished training epoch 659\n",
      "Validate: Loss 0.0102 (0.0108)\t\n",
      "Finished validation.\n",
      "Starting training epoch 660\n",
      "Epoch: 660, Loss 0.0034 (0.0031)\n",
      "Finished training epoch 660\n",
      "Validate: Loss 0.0098 (0.0106)\t\n",
      "Finished validation.\n",
      "Starting training epoch 661\n",
      "Epoch: 661, Loss 0.0032 (0.0031)\n",
      "Finished training epoch 661\n",
      "Validate: Loss 0.0109 (0.0116)\t\n",
      "Finished validation.\n",
      "Starting training epoch 662\n",
      "Epoch: 662, Loss 0.0029 (0.0031)\n",
      "Finished training epoch 662\n",
      "Validate: Loss 0.0141 (0.0150)\t\n",
      "Finished validation.\n",
      "Starting training epoch 663\n",
      "Epoch: 663, Loss 0.0030 (0.0031)\n",
      "Finished training epoch 663\n",
      "Validate: Loss 0.0090 (0.0097)\t\n",
      "Finished validation.\n",
      "Starting training epoch 664\n",
      "Epoch: 664, Loss 0.0036 (0.0031)\n",
      "Finished training epoch 664\n",
      "Validate: Loss 0.0084 (0.0088)\t\n",
      "Finished validation.\n",
      "Starting training epoch 665\n",
      "Epoch: 665, Loss 0.0029 (0.0031)\n",
      "Finished training epoch 665\n",
      "Validate: Loss 0.0081 (0.0084)\t\n",
      "Finished validation.\n",
      "Starting training epoch 666\n",
      "Epoch: 666, Loss 0.0029 (0.0031)\n",
      "Finished training epoch 666\n",
      "Validate: Loss 0.0133 (0.0129)\t\n",
      "Finished validation.\n",
      "Starting training epoch 667\n",
      "Epoch: 667, Loss 0.0032 (0.0031)\n",
      "Finished training epoch 667\n",
      "Validate: Loss 0.0090 (0.0092)\t\n",
      "Finished validation.\n",
      "Starting training epoch 668\n",
      "Epoch: 668, Loss 0.0030 (0.0031)\n",
      "Finished training epoch 668\n",
      "Validate: Loss 0.0095 (0.0103)\t\n",
      "Finished validation.\n",
      "Starting training epoch 669\n",
      "Epoch: 669, Loss 0.0030 (0.0031)\n",
      "Finished training epoch 669\n",
      "Validate: Loss 0.0118 (0.0127)\t\n",
      "Finished validation.\n",
      "Starting training epoch 670\n",
      "Epoch: 670, Loss 0.0029 (0.0031)\n",
      "Finished training epoch 670\n",
      "Validate: Loss 0.0095 (0.0100)\t\n",
      "Finished validation.\n",
      "Starting training epoch 671\n",
      "Epoch: 671, Loss 0.0033 (0.0031)\n",
      "Finished training epoch 671\n",
      "Validate: Loss 0.0085 (0.0090)\t\n",
      "Finished validation.\n",
      "Starting training epoch 672\n",
      "Epoch: 672, Loss 0.0032 (0.0031)\n",
      "Finished training epoch 672\n",
      "Validate: Loss 0.0084 (0.0089)\t\n",
      "Finished validation.\n",
      "Starting training epoch 673\n",
      "Epoch: 673, Loss 0.0033 (0.0031)\n",
      "Finished training epoch 673\n",
      "Validate: Loss 0.0110 (0.0116)\t\n",
      "Finished validation.\n",
      "Starting training epoch 674\n",
      "Epoch: 674, Loss 0.0028 (0.0031)\n",
      "Finished training epoch 674\n"
     ]
    },
    {
     "name": "stderr",
     "output_type": "stream",
     "text": [
      "/home/konrad/.local/lib/python3.10/site-packages/skimage/_shared/utils.py:394: UserWarning: Color data out of range: Z < 0 in 512 pixels\n",
      "  return func(*args, **kwargs)\n"
     ]
    },
    {
     "name": "stdout",
     "output_type": "stream",
     "text": [
      "Validate: Loss 0.0120 (0.0117)\t\n",
      "Finished validation.\n",
      "Starting training epoch 675\n",
      "Epoch: 675, Loss 0.0032 (0.0031)\n",
      "Finished training epoch 675\n",
      "Validate: Loss 0.0112 (0.0119)\t\n",
      "Finished validation.\n",
      "Starting training epoch 676\n",
      "Epoch: 676, Loss 0.0030 (0.0031)\n",
      "Finished training epoch 676\n",
      "Validate: Loss 0.0083 (0.0086)\t\n",
      "Finished validation.\n",
      "Starting training epoch 677\n",
      "Epoch: 677, Loss 0.0031 (0.0031)\n",
      "Finished training epoch 677\n",
      "Validate: Loss 0.0087 (0.0092)\t\n",
      "Finished validation.\n",
      "Starting training epoch 678\n",
      "Epoch: 678, Loss 0.0030 (0.0031)\n",
      "Finished training epoch 678\n"
     ]
    },
    {
     "name": "stderr",
     "output_type": "stream",
     "text": [
      "/home/konrad/.local/lib/python3.10/site-packages/skimage/_shared/utils.py:394: UserWarning: Color data out of range: Z < 0 in 619 pixels\n",
      "  return func(*args, **kwargs)\n",
      "/home/konrad/.local/lib/python3.10/site-packages/skimage/_shared/utils.py:394: UserWarning: Color data out of range: Z < 0 in 991 pixels\n",
      "  return func(*args, **kwargs)\n"
     ]
    },
    {
     "name": "stdout",
     "output_type": "stream",
     "text": [
      "Validate: Loss 0.0132 (0.0127)\t\n",
      "Finished validation.\n",
      "Starting training epoch 679\n",
      "Epoch: 679, Loss 0.0031 (0.0031)\n",
      "Finished training epoch 679\n",
      "Validate: Loss 0.0091 (0.0092)\t\n",
      "Finished validation.\n",
      "Starting training epoch 680\n",
      "Epoch: 680, Loss 0.0030 (0.0031)\n",
      "Finished training epoch 680\n",
      "Validate: Loss 0.0102 (0.0103)\t\n",
      "Finished validation.\n",
      "Starting training epoch 681\n",
      "Epoch: 681, Loss 0.0029 (0.0031)\n",
      "Finished training epoch 681\n",
      "Validate: Loss 0.0099 (0.0106)\t\n",
      "Finished validation.\n",
      "Starting training epoch 682\n",
      "Epoch: 682, Loss 0.0029 (0.0031)\n",
      "Finished training epoch 682\n",
      "Validate: Loss 0.0085 (0.0090)\t\n",
      "Finished validation.\n",
      "Starting training epoch 683\n",
      "Epoch: 683, Loss 0.0032 (0.0031)\n",
      "Finished training epoch 683\n",
      "Validate: Loss 0.0099 (0.0106)\t\n",
      "Finished validation.\n",
      "Starting training epoch 684\n",
      "Epoch: 684, Loss 0.0031 (0.0031)\n",
      "Finished training epoch 684\n",
      "Validate: Loss 0.0089 (0.0090)\t\n",
      "Finished validation.\n",
      "Starting training epoch 685\n",
      "Epoch: 685, Loss 0.0028 (0.0031)\n",
      "Finished training epoch 685\n",
      "Validate: Loss 0.0097 (0.0096)\t\n",
      "Finished validation.\n",
      "Starting training epoch 686\n",
      "Epoch: 686, Loss 0.0034 (0.0031)\n",
      "Finished training epoch 686\n",
      "Validate: Loss 0.0089 (0.0093)\t\n",
      "Finished validation.\n",
      "Starting training epoch 687\n",
      "Epoch: 687, Loss 0.0032 (0.0031)\n",
      "Finished training epoch 687\n",
      "Validate: Loss 0.0092 (0.0099)\t\n",
      "Finished validation.\n",
      "Starting training epoch 688\n",
      "Epoch: 688, Loss 0.0031 (0.0031)\n",
      "Finished training epoch 688\n"
     ]
    },
    {
     "name": "stderr",
     "output_type": "stream",
     "text": [
      "/home/konrad/.local/lib/python3.10/site-packages/skimage/_shared/utils.py:394: UserWarning: Color data out of range: Z < 0 in 960 pixels\n",
      "  return func(*args, **kwargs)\n",
      "/home/konrad/.local/lib/python3.10/site-packages/skimage/_shared/utils.py:394: UserWarning: Color data out of range: Z < 0 in 797 pixels\n",
      "  return func(*args, **kwargs)\n",
      "/home/konrad/.local/lib/python3.10/site-packages/skimage/_shared/utils.py:394: UserWarning: Color data out of range: Z < 0 in 1216 pixels\n",
      "  return func(*args, **kwargs)\n"
     ]
    },
    {
     "name": "stdout",
     "output_type": "stream",
     "text": [
      "Validate: Loss 0.0175 (0.0168)\t\n",
      "Finished validation.\n",
      "Starting training epoch 689\n",
      "Epoch: 689, Loss 0.0032 (0.0030)\n",
      "Finished training epoch 689\n",
      "Validate: Loss 0.0144 (0.0138)\t\n",
      "Finished validation.\n",
      "Starting training epoch 690\n",
      "Epoch: 690, Loss 0.0034 (0.0031)\n",
      "Finished training epoch 690\n",
      "Validate: Loss 0.0089 (0.0094)\t\n",
      "Finished validation.\n",
      "Starting training epoch 691\n",
      "Epoch: 691, Loss 0.0030 (0.0031)\n",
      "Finished training epoch 691\n",
      "Validate: Loss 0.0088 (0.0093)\t\n",
      "Finished validation.\n",
      "Starting training epoch 692\n",
      "Epoch: 692, Loss 0.0029 (0.0031)\n",
      "Finished training epoch 692\n",
      "Validate: Loss 0.0082 (0.0086)\t\n",
      "Finished validation.\n",
      "Starting training epoch 693\n",
      "Epoch: 693, Loss 0.0034 (0.0031)\n",
      "Finished training epoch 693\n",
      "Validate: Loss 0.0094 (0.0102)\t\n",
      "Finished validation.\n",
      "Starting training epoch 694\n",
      "Epoch: 694, Loss 0.0032 (0.0031)\n",
      "Finished training epoch 694\n",
      "Validate: Loss 0.0089 (0.0095)\t\n",
      "Finished validation.\n",
      "Starting training epoch 695\n"
     ]
    },
    {
     "name": "stderr",
     "output_type": "stream",
     "text": [
      "Exception in thread Thread-5:\n",
      "Traceback (most recent call last):\n",
      "  File \"/usr/lib/python3.10/threading.py\", line 1016, in _bootstrap_inner\n",
      "    self.run()\n",
      "  File \"/home/konrad/.local/lib/python3.10/site-packages/tensorboard/summary/writer/event_file_writer.py\", line 233, in run\n",
      "    self._record_writer.write(data)\n",
      "  File \"/home/konrad/.local/lib/python3.10/site-packages/tensorboard/summary/writer/record_writer.py\", line 40, in write\n",
      "    self._writer.write(header + header_crc + data + footer_crc)\n",
      "  File \"/home/konrad/.local/lib/python3.10/site-packages/tensorboard/compat/tensorflow_stub/io/gfile.py\", line 766, in write\n",
      "    self.fs.append(self.filename, file_content, self.binary_mode)\n",
      "  File \"/home/konrad/.local/lib/python3.10/site-packages/tensorboard/compat/tensorflow_stub/io/gfile.py\", line 160, in append\n",
      "    self._write(filename, file_content, \"ab\" if binary_mode else \"a\")\n",
      "  File \"/home/konrad/.local/lib/python3.10/site-packages/tensorboard/compat/tensorflow_stub/io/gfile.py\", line 164, in _write\n",
      "    with io.open(filename, mode, encoding=encoding) as f:\n",
      "FileNotFoundError: [Errno 2] No such file or directory: b'runs/Dec21_22-44-44_konrad-Legion-5/events.out.tfevents.1671659084.konrad-Legion-5.19980.0'\n"
     ]
    },
    {
     "name": "stdout",
     "output_type": "stream",
     "text": [
      "Epoch: 695, Loss 0.0032 (0.0031)\n",
      "Finished training epoch 695\n",
      "Validate: Loss 0.0085 (0.0091)\t\n",
      "Finished validation.\n",
      "Starting training epoch 696\n",
      "Epoch: 696, Loss 0.0033 (0.0031)\n",
      "Finished training epoch 696\n",
      "Validate: Loss 0.0092 (0.0097)\t\n",
      "Finished validation.\n",
      "Starting training epoch 697\n",
      "Epoch: 697, Loss 0.0030 (0.0030)\n",
      "Finished training epoch 697\n",
      "Validate: Loss 0.0095 (0.0096)\t\n",
      "Finished validation.\n",
      "Starting training epoch 698\n",
      "Epoch: 698, Loss 0.0029 (0.0031)\n",
      "Finished training epoch 698\n",
      "Validate: Loss 0.0086 (0.0090)\t\n",
      "Finished validation.\n",
      "Starting training epoch 699\n",
      "Epoch: 699, Loss 0.0028 (0.0030)\n",
      "Finished training epoch 699\n",
      "Validate: Loss 0.0098 (0.0098)\t\n",
      "Finished validation.\n",
      "Starting training epoch 700\n",
      "Epoch: 700, Loss 0.0036 (0.0030)\n",
      "Finished training epoch 700\n",
      "Validate: Loss 0.0089 (0.0095)\t\n",
      "Finished validation.\n"
     ]
    },
    {
     "ename": "KeyboardInterrupt",
     "evalue": "",
     "output_type": "error",
     "traceback": [
      "\u001b[0;31m---------------------------------------------------------------------------\u001b[0m",
      "\u001b[0;31mKeyboardInterrupt\u001b[0m                         Traceback (most recent call last)",
      "\u001b[0;32m/tmp/ipykernel_19980/1439675641.py\u001b[0m in \u001b[0;36m<module>\u001b[0;34m\u001b[0m\n\u001b[1;32m      4\u001b[0m     \u001b[0mtrain\u001b[0m\u001b[0;34m(\u001b[0m\u001b[0mtrain_loader\u001b[0m\u001b[0;34m,\u001b[0m \u001b[0mmodel\u001b[0m\u001b[0;34m,\u001b[0m \u001b[0mcriterion\u001b[0m\u001b[0;34m,\u001b[0m \u001b[0moptimizer\u001b[0m\u001b[0;34m,\u001b[0m \u001b[0mepoch\u001b[0m\u001b[0;34m)\u001b[0m\u001b[0;34m\u001b[0m\u001b[0;34m\u001b[0m\u001b[0m\n\u001b[1;32m      5\u001b[0m     \u001b[0;32mwith\u001b[0m \u001b[0mtorch\u001b[0m\u001b[0;34m.\u001b[0m\u001b[0mno_grad\u001b[0m\u001b[0;34m(\u001b[0m\u001b[0;34m)\u001b[0m\u001b[0;34m:\u001b[0m\u001b[0;34m\u001b[0m\u001b[0;34m\u001b[0m\u001b[0m\n\u001b[0;32m----> 6\u001b[0;31m         \u001b[0mlosses\u001b[0m \u001b[0;34m=\u001b[0m \u001b[0mvalidate\u001b[0m\u001b[0;34m(\u001b[0m\u001b[0mval_loader\u001b[0m\u001b[0;34m,\u001b[0m \u001b[0mmodel\u001b[0m\u001b[0;34m,\u001b[0m \u001b[0mcriterion\u001b[0m\u001b[0;34m,\u001b[0m \u001b[0msave_images\u001b[0m\u001b[0;34m,\u001b[0m \u001b[0mepoch\u001b[0m\u001b[0;34m)\u001b[0m\u001b[0;34m\u001b[0m\u001b[0;34m\u001b[0m\u001b[0m\n\u001b[0m\u001b[1;32m      7\u001b[0m     \u001b[0;31m# Save checkpoint and replace old best model if current model is better\u001b[0m\u001b[0;34m\u001b[0m\u001b[0;34m\u001b[0m\u001b[0m\n\u001b[1;32m      8\u001b[0m     \u001b[0;32mif\u001b[0m \u001b[0mlosses\u001b[0m \u001b[0;34m<\u001b[0m \u001b[0mbest_losses\u001b[0m\u001b[0;34m:\u001b[0m\u001b[0;34m\u001b[0m\u001b[0;34m\u001b[0m\u001b[0m\n",
      "\u001b[0;32m/tmp/ipykernel_19980/1193958470.py\u001b[0m in \u001b[0;36mvalidate\u001b[0;34m(val_loader, model, criterion, save_images, epoch)\u001b[0m\n\u001b[1;32m     27\u001b[0m     \u001b[0mprint\u001b[0m\u001b[0;34m(\u001b[0m\u001b[0;34m'Finished validation.'\u001b[0m\u001b[0;34m)\u001b[0m\u001b[0;34m\u001b[0m\u001b[0;34m\u001b[0m\u001b[0m\n\u001b[1;32m     28\u001b[0m     \u001b[0;32mif\u001b[0m \u001b[0mepoch\u001b[0m \u001b[0;34m>=\u001b[0m \u001b[0;36m0\u001b[0m\u001b[0;34m:\u001b[0m\u001b[0;34m\u001b[0m\u001b[0;34m\u001b[0m\u001b[0m\n\u001b[0;32m---> 29\u001b[0;31m         \u001b[0mwriter\u001b[0m\u001b[0;34m.\u001b[0m\u001b[0madd_scalar\u001b[0m\u001b[0;34m(\u001b[0m\u001b[0;34m\"Loss/test\"\u001b[0m\u001b[0;34m,\u001b[0m \u001b[0m_loss\u001b[0m\u001b[0;34m.\u001b[0m\u001b[0mavg\u001b[0m\u001b[0;34m,\u001b[0m \u001b[0mepoch\u001b[0m\u001b[0;34m)\u001b[0m\u001b[0;34m\u001b[0m\u001b[0;34m\u001b[0m\u001b[0m\n\u001b[0m\u001b[1;32m     30\u001b[0m     \u001b[0;32mreturn\u001b[0m \u001b[0m_loss\u001b[0m\u001b[0;34m.\u001b[0m\u001b[0mavg\u001b[0m\u001b[0;34m\u001b[0m\u001b[0;34m\u001b[0m\u001b[0m\n",
      "\u001b[0;32m~/.local/lib/python3.10/site-packages/torch/utils/tensorboard/writer.py\u001b[0m in \u001b[0;36madd_scalar\u001b[0;34m(self, tag, scalar_value, global_step, walltime, new_style, double_precision)\u001b[0m\n\u001b[1;32m    389\u001b[0m             \u001b[0mtag\u001b[0m\u001b[0;34m,\u001b[0m \u001b[0mscalar_value\u001b[0m\u001b[0;34m,\u001b[0m \u001b[0mnew_style\u001b[0m\u001b[0;34m=\u001b[0m\u001b[0mnew_style\u001b[0m\u001b[0;34m,\u001b[0m \u001b[0mdouble_precision\u001b[0m\u001b[0;34m=\u001b[0m\u001b[0mdouble_precision\u001b[0m\u001b[0;34m\u001b[0m\u001b[0;34m\u001b[0m\u001b[0m\n\u001b[1;32m    390\u001b[0m         )\n\u001b[0;32m--> 391\u001b[0;31m         \u001b[0mself\u001b[0m\u001b[0;34m.\u001b[0m\u001b[0m_get_file_writer\u001b[0m\u001b[0;34m(\u001b[0m\u001b[0;34m)\u001b[0m\u001b[0;34m.\u001b[0m\u001b[0madd_summary\u001b[0m\u001b[0;34m(\u001b[0m\u001b[0msummary\u001b[0m\u001b[0;34m,\u001b[0m \u001b[0mglobal_step\u001b[0m\u001b[0;34m,\u001b[0m \u001b[0mwalltime\u001b[0m\u001b[0;34m)\u001b[0m\u001b[0;34m\u001b[0m\u001b[0;34m\u001b[0m\u001b[0m\n\u001b[0m\u001b[1;32m    392\u001b[0m \u001b[0;34m\u001b[0m\u001b[0m\n\u001b[1;32m    393\u001b[0m     \u001b[0;32mdef\u001b[0m \u001b[0madd_scalars\u001b[0m\u001b[0;34m(\u001b[0m\u001b[0mself\u001b[0m\u001b[0;34m,\u001b[0m \u001b[0mmain_tag\u001b[0m\u001b[0;34m,\u001b[0m \u001b[0mtag_scalar_dict\u001b[0m\u001b[0;34m,\u001b[0m \u001b[0mglobal_step\u001b[0m\u001b[0;34m=\u001b[0m\u001b[0;32mNone\u001b[0m\u001b[0;34m,\u001b[0m \u001b[0mwalltime\u001b[0m\u001b[0;34m=\u001b[0m\u001b[0;32mNone\u001b[0m\u001b[0;34m)\u001b[0m\u001b[0;34m:\u001b[0m\u001b[0;34m\u001b[0m\u001b[0;34m\u001b[0m\u001b[0m\n",
      "\u001b[0;32m~/.local/lib/python3.10/site-packages/torch/utils/tensorboard/writer.py\u001b[0m in \u001b[0;36madd_summary\u001b[0;34m(self, summary, global_step, walltime)\u001b[0m\n\u001b[1;32m    111\u001b[0m         \"\"\"\n\u001b[1;32m    112\u001b[0m         \u001b[0mevent\u001b[0m \u001b[0;34m=\u001b[0m \u001b[0mevent_pb2\u001b[0m\u001b[0;34m.\u001b[0m\u001b[0mEvent\u001b[0m\u001b[0;34m(\u001b[0m\u001b[0msummary\u001b[0m\u001b[0;34m=\u001b[0m\u001b[0msummary\u001b[0m\u001b[0;34m)\u001b[0m\u001b[0;34m\u001b[0m\u001b[0;34m\u001b[0m\u001b[0m\n\u001b[0;32m--> 113\u001b[0;31m         \u001b[0mself\u001b[0m\u001b[0;34m.\u001b[0m\u001b[0madd_event\u001b[0m\u001b[0;34m(\u001b[0m\u001b[0mevent\u001b[0m\u001b[0;34m,\u001b[0m \u001b[0mglobal_step\u001b[0m\u001b[0;34m,\u001b[0m \u001b[0mwalltime\u001b[0m\u001b[0;34m)\u001b[0m\u001b[0;34m\u001b[0m\u001b[0;34m\u001b[0m\u001b[0m\n\u001b[0m\u001b[1;32m    114\u001b[0m \u001b[0;34m\u001b[0m\u001b[0m\n\u001b[1;32m    115\u001b[0m     \u001b[0;32mdef\u001b[0m \u001b[0madd_graph\u001b[0m\u001b[0;34m(\u001b[0m\u001b[0mself\u001b[0m\u001b[0;34m,\u001b[0m \u001b[0mgraph_profile\u001b[0m\u001b[0;34m,\u001b[0m \u001b[0mwalltime\u001b[0m\u001b[0;34m=\u001b[0m\u001b[0;32mNone\u001b[0m\u001b[0;34m)\u001b[0m\u001b[0;34m:\u001b[0m\u001b[0;34m\u001b[0m\u001b[0;34m\u001b[0m\u001b[0m\n",
      "\u001b[0;32m~/.local/lib/python3.10/site-packages/torch/utils/tensorboard/writer.py\u001b[0m in \u001b[0;36madd_event\u001b[0;34m(self, event, step, walltime)\u001b[0m\n\u001b[1;32m     96\u001b[0m             \u001b[0;31m# since protobuf might not convert depending on version\u001b[0m\u001b[0;34m\u001b[0m\u001b[0;34m\u001b[0m\u001b[0m\n\u001b[1;32m     97\u001b[0m             \u001b[0mevent\u001b[0m\u001b[0;34m.\u001b[0m\u001b[0mstep\u001b[0m \u001b[0;34m=\u001b[0m \u001b[0mint\u001b[0m\u001b[0;34m(\u001b[0m\u001b[0mstep\u001b[0m\u001b[0;34m)\u001b[0m\u001b[0;34m\u001b[0m\u001b[0;34m\u001b[0m\u001b[0m\n\u001b[0;32m---> 98\u001b[0;31m         \u001b[0mself\u001b[0m\u001b[0;34m.\u001b[0m\u001b[0mevent_writer\u001b[0m\u001b[0;34m.\u001b[0m\u001b[0madd_event\u001b[0m\u001b[0;34m(\u001b[0m\u001b[0mevent\u001b[0m\u001b[0;34m)\u001b[0m\u001b[0;34m\u001b[0m\u001b[0;34m\u001b[0m\u001b[0m\n\u001b[0m\u001b[1;32m     99\u001b[0m \u001b[0;34m\u001b[0m\u001b[0m\n\u001b[1;32m    100\u001b[0m     \u001b[0;32mdef\u001b[0m \u001b[0madd_summary\u001b[0m\u001b[0;34m(\u001b[0m\u001b[0mself\u001b[0m\u001b[0;34m,\u001b[0m \u001b[0msummary\u001b[0m\u001b[0;34m,\u001b[0m \u001b[0mglobal_step\u001b[0m\u001b[0;34m=\u001b[0m\u001b[0;32mNone\u001b[0m\u001b[0;34m,\u001b[0m \u001b[0mwalltime\u001b[0m\u001b[0;34m=\u001b[0m\u001b[0;32mNone\u001b[0m\u001b[0;34m)\u001b[0m\u001b[0;34m:\u001b[0m\u001b[0;34m\u001b[0m\u001b[0;34m\u001b[0m\u001b[0m\n",
      "\u001b[0;32m~/.local/lib/python3.10/site-packages/tensorboard/summary/writer/event_file_writer.py\u001b[0m in \u001b[0;36madd_event\u001b[0;34m(self, event)\u001b[0m\n\u001b[1;32m    111\u001b[0m                 \u001b[0;34m\" but got %s\"\u001b[0m \u001b[0;34m%\u001b[0m \u001b[0mtype\u001b[0m\u001b[0;34m(\u001b[0m\u001b[0mevent\u001b[0m\u001b[0;34m)\u001b[0m\u001b[0;34m\u001b[0m\u001b[0;34m\u001b[0m\u001b[0m\n\u001b[1;32m    112\u001b[0m             )\n\u001b[0;32m--> 113\u001b[0;31m         \u001b[0mself\u001b[0m\u001b[0;34m.\u001b[0m\u001b[0m_async_writer\u001b[0m\u001b[0;34m.\u001b[0m\u001b[0mwrite\u001b[0m\u001b[0;34m(\u001b[0m\u001b[0mevent\u001b[0m\u001b[0;34m.\u001b[0m\u001b[0mSerializeToString\u001b[0m\u001b[0;34m(\u001b[0m\u001b[0;34m)\u001b[0m\u001b[0;34m)\u001b[0m\u001b[0;34m\u001b[0m\u001b[0;34m\u001b[0m\u001b[0m\n\u001b[0m\u001b[1;32m    114\u001b[0m \u001b[0;34m\u001b[0m\u001b[0m\n\u001b[1;32m    115\u001b[0m     \u001b[0;32mdef\u001b[0m \u001b[0mflush\u001b[0m\u001b[0;34m(\u001b[0m\u001b[0mself\u001b[0m\u001b[0;34m)\u001b[0m\u001b[0;34m:\u001b[0m\u001b[0;34m\u001b[0m\u001b[0;34m\u001b[0m\u001b[0m\n",
      "\u001b[0;32m~/.local/lib/python3.10/site-packages/tensorboard/summary/writer/event_file_writer.py\u001b[0m in \u001b[0;36mwrite\u001b[0;34m(self, bytestring)\u001b[0m\n\u001b[1;32m    164\u001b[0m             \u001b[0;32mif\u001b[0m \u001b[0mself\u001b[0m\u001b[0;34m.\u001b[0m\u001b[0m_closed\u001b[0m\u001b[0;34m:\u001b[0m\u001b[0;34m\u001b[0m\u001b[0;34m\u001b[0m\u001b[0m\n\u001b[1;32m    165\u001b[0m                 \u001b[0;32mraise\u001b[0m \u001b[0mIOError\u001b[0m\u001b[0;34m(\u001b[0m\u001b[0;34m\"Writer is closed\"\u001b[0m\u001b[0;34m)\u001b[0m\u001b[0;34m\u001b[0m\u001b[0;34m\u001b[0m\u001b[0m\n\u001b[0;32m--> 166\u001b[0;31m             \u001b[0mself\u001b[0m\u001b[0;34m.\u001b[0m\u001b[0m_byte_queue\u001b[0m\u001b[0;34m.\u001b[0m\u001b[0mput\u001b[0m\u001b[0;34m(\u001b[0m\u001b[0mbytestring\u001b[0m\u001b[0;34m)\u001b[0m\u001b[0;34m\u001b[0m\u001b[0;34m\u001b[0m\u001b[0m\n\u001b[0m\u001b[1;32m    167\u001b[0m \u001b[0;34m\u001b[0m\u001b[0m\n\u001b[1;32m    168\u001b[0m     \u001b[0;32mdef\u001b[0m \u001b[0mflush\u001b[0m\u001b[0;34m(\u001b[0m\u001b[0mself\u001b[0m\u001b[0;34m)\u001b[0m\u001b[0;34m:\u001b[0m\u001b[0;34m\u001b[0m\u001b[0;34m\u001b[0m\u001b[0m\n",
      "\u001b[0;32m/usr/lib/python3.10/queue.py\u001b[0m in \u001b[0;36mput\u001b[0;34m(self, item, block, timeout)\u001b[0m\n\u001b[1;32m    138\u001b[0m                 \u001b[0;32melif\u001b[0m \u001b[0mtimeout\u001b[0m \u001b[0;32mis\u001b[0m \u001b[0;32mNone\u001b[0m\u001b[0;34m:\u001b[0m\u001b[0;34m\u001b[0m\u001b[0;34m\u001b[0m\u001b[0m\n\u001b[1;32m    139\u001b[0m                     \u001b[0;32mwhile\u001b[0m \u001b[0mself\u001b[0m\u001b[0;34m.\u001b[0m\u001b[0m_qsize\u001b[0m\u001b[0;34m(\u001b[0m\u001b[0;34m)\u001b[0m \u001b[0;34m>=\u001b[0m \u001b[0mself\u001b[0m\u001b[0;34m.\u001b[0m\u001b[0mmaxsize\u001b[0m\u001b[0;34m:\u001b[0m\u001b[0;34m\u001b[0m\u001b[0;34m\u001b[0m\u001b[0m\n\u001b[0;32m--> 140\u001b[0;31m                         \u001b[0mself\u001b[0m\u001b[0;34m.\u001b[0m\u001b[0mnot_full\u001b[0m\u001b[0;34m.\u001b[0m\u001b[0mwait\u001b[0m\u001b[0;34m(\u001b[0m\u001b[0;34m)\u001b[0m\u001b[0;34m\u001b[0m\u001b[0;34m\u001b[0m\u001b[0m\n\u001b[0m\u001b[1;32m    141\u001b[0m                 \u001b[0;32melif\u001b[0m \u001b[0mtimeout\u001b[0m \u001b[0;34m<\u001b[0m \u001b[0;36m0\u001b[0m\u001b[0;34m:\u001b[0m\u001b[0;34m\u001b[0m\u001b[0;34m\u001b[0m\u001b[0m\n\u001b[1;32m    142\u001b[0m                     \u001b[0;32mraise\u001b[0m \u001b[0mValueError\u001b[0m\u001b[0;34m(\u001b[0m\u001b[0;34m\"'timeout' must be a non-negative number\"\u001b[0m\u001b[0;34m)\u001b[0m\u001b[0;34m\u001b[0m\u001b[0;34m\u001b[0m\u001b[0m\n",
      "\u001b[0;32m/usr/lib/python3.10/threading.py\u001b[0m in \u001b[0;36mwait\u001b[0;34m(self, timeout)\u001b[0m\n\u001b[1;32m    318\u001b[0m         \u001b[0;32mtry\u001b[0m\u001b[0;34m:\u001b[0m    \u001b[0;31m# restore state no matter what (e.g., KeyboardInterrupt)\u001b[0m\u001b[0;34m\u001b[0m\u001b[0;34m\u001b[0m\u001b[0m\n\u001b[1;32m    319\u001b[0m             \u001b[0;32mif\u001b[0m \u001b[0mtimeout\u001b[0m \u001b[0;32mis\u001b[0m \u001b[0;32mNone\u001b[0m\u001b[0;34m:\u001b[0m\u001b[0;34m\u001b[0m\u001b[0;34m\u001b[0m\u001b[0m\n\u001b[0;32m--> 320\u001b[0;31m                 \u001b[0mwaiter\u001b[0m\u001b[0;34m.\u001b[0m\u001b[0macquire\u001b[0m\u001b[0;34m(\u001b[0m\u001b[0;34m)\u001b[0m\u001b[0;34m\u001b[0m\u001b[0;34m\u001b[0m\u001b[0m\n\u001b[0m\u001b[1;32m    321\u001b[0m                 \u001b[0mgotit\u001b[0m \u001b[0;34m=\u001b[0m \u001b[0;32mTrue\u001b[0m\u001b[0;34m\u001b[0m\u001b[0;34m\u001b[0m\u001b[0m\n\u001b[1;32m    322\u001b[0m             \u001b[0;32melse\u001b[0m\u001b[0;34m:\u001b[0m\u001b[0;34m\u001b[0m\u001b[0;34m\u001b[0m\u001b[0m\n",
      "\u001b[0;31mKeyboardInterrupt\u001b[0m: "
     ]
    },
    {
     "data": {
      "text/plain": [
       "<Figure size 432x288 with 0 Axes>"
      ]
     },
     "metadata": {},
     "output_type": "display_data"
    }
   ],
   "source": [
    "# Train model\n",
    "for epoch in range(epochs):\n",
    "    # Train for one epoch, then validate\n",
    "    train(train_loader, model, criterion, optimizer, epoch)\n",
    "    with torch.no_grad():\n",
    "        losses = validate(val_loader, model, criterion, save_images, epoch)\n",
    "    # Save checkpoint and replace old best model if current model is better\n",
    "    if losses < best_losses:\n",
    "        best_losses = losses\n",
    "        torch.save(model.state_dict(), '{}/model-epoch-{}-losses-{:.6f}.pth'.format(checkpoints,epoch+1,losses))\n",
    "\n",
    "    if epoch == epochs - 1:\n",
    "        torch.save(model.state_dict(), '{}/model-epoch-{}-last-losses-{:.6f}.pth'.format(checkpoints,epoch+1,losses))\n"
   ]
  },
  {
   "cell_type": "code",
   "execution_count": null,
   "metadata": {},
   "outputs": [],
   "source": [
    "torch.save(model.state_dict(), '{}/model-epoch-last-losses-{:.6f}.pth'.format(checkpoints,losses))"
   ]
  },
  {
   "cell_type": "code",
   "execution_count": null,
   "metadata": {
    "colab": {
     "base_uri": "https://localhost:8080/",
     "height": 1593
    },
    "id": "UcovGnpHMl9D",
    "outputId": "90b7a2b4-dc03-4862-cf02-c7ddbbb7e500"
   },
   "outputs": [],
   "source": [
    "# Validate\n",
    "save_images = True\n",
    "with torch.no_grad():\n",
    "    validate(val_loader, model, criterion, save_images, -1)"
   ]
  },
  {
   "cell_type": "code",
   "execution_count": null,
   "metadata": {},
   "outputs": [],
   "source": [
    "# # Show images \n",
    "# image_pairs = []\n",
    "\n",
    "# for i in range(10):\n",
    "#     image_pairs.append((f'{color_imgs}img-{i}-epoch-{best_epoch}.jpg', f'{gray_imgs}img-{i}-epoch-{best_epoch}.jpg'))\n",
    "    \n",
    "# for c, g in image_pairs:\n",
    "#   color = mpimg.imread(c)\n",
    "#   gray  = mpimg.imread(g)\n",
    "#   f, axarr = plt.subplots(1, 2)\n",
    "#   f.set_size_inches(15, 15)\n",
    "#   axarr[0].imshow(gray, cmap='gray')\n",
    "#   axarr[1].imshow(color)\n",
    "#   axarr[0].axis('off'), axarr[1].axis('off')\n",
    "#   plt.show()"
   ]
  },
  {
   "cell_type": "code",
   "execution_count": null,
   "metadata": {},
   "outputs": [],
   "source": []
  }
 ],
 "metadata": {
  "accelerator": "GPU",
  "colab": {
   "provenance": []
  },
  "kernelspec": {
   "display_name": "Python 3 (ipykernel)",
   "language": "python",
   "name": "python3"
  },
  "language_info": {
   "codemirror_mode": {
    "name": "ipython",
    "version": 3
   },
   "file_extension": ".py",
   "mimetype": "text/x-python",
   "name": "python",
   "nbconvert_exporter": "python",
   "pygments_lexer": "ipython3",
   "version": "3.10.6"
  }
 },
 "nbformat": 4,
 "nbformat_minor": 4
}
