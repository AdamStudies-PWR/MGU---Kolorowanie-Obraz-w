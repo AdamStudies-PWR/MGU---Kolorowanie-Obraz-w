{
 "cells": [
  {
   "cell_type": "code",
   "execution_count": 35,
   "metadata": {
    "id": "J_Y9UFYhKbuE"
   },
   "outputs": [],
   "source": [
    "# For plotting\n",
    "import numpy as np\n",
    "import matplotlib.pyplot as plt\n",
    "import matplotlib.image as mpimg\n",
    "%matplotlib inline\n",
    "# For conversion\n",
    "from skimage.color import lab2rgb, rgb2lab, rgb2gray\n",
    "from skimage import io\n",
    "# For everything\n",
    "import torch\n",
    "import torch.nn as nn\n",
    "import torch.nn.functional as F\n",
    "# For our model\n",
    "import torchvision\n",
    "import torchvision.models as models\n",
    "from torchvision import datasets, transforms\n",
    "from PIL import Image\n",
    "# For utilities\n",
    "import os, shutil, time"
   ]
  },
  {
   "cell_type": "code",
   "execution_count": 1,
   "metadata": {},
   "outputs": [
    {
     "data": {
      "text/html": [
       "\n",
       "      <iframe id=\"tensorboard-frame-cea8cf6c3ad939a7\" width=\"100%\" height=\"800\" frameborder=\"0\">\n",
       "      </iframe>\n",
       "      <script>\n",
       "        (function() {\n",
       "          const frame = document.getElementById(\"tensorboard-frame-cea8cf6c3ad939a7\");\n",
       "          const url = new URL(\"/\", window.location);\n",
       "          const port = 6007;\n",
       "          if (port) {\n",
       "            url.port = port;\n",
       "          }\n",
       "          frame.src = url;\n",
       "        })();\n",
       "      </script>\n",
       "    "
      ],
      "text/plain": [
       "<IPython.core.display.HTML object>"
      ]
     },
     "metadata": {},
     "output_type": "display_data"
    }
   ],
   "source": [
    "%load_ext tensorboard\n",
    "%tensorboard --logdir=runs"
   ]
  },
  {
   "cell_type": "code",
   "execution_count": 37,
   "metadata": {},
   "outputs": [],
   "source": [
    "from torch.utils.tensorboard import SummaryWriter\n",
    "writer = SummaryWriter()"
   ]
  },
  {
   "cell_type": "code",
   "execution_count": 38,
   "metadata": {
    "id": "gMolrzKA_1uJ"
   },
   "outputs": [
    {
     "name": "stdout",
     "output_type": "stream",
     "text": [
      "True\n"
     ]
    }
   ],
   "source": [
    "# Check if GPU is available\n",
    "use_gpu = torch.cuda.is_available()\n",
    "print(use_gpu)"
   ]
  },
  {
   "cell_type": "code",
   "execution_count": 39,
   "metadata": {},
   "outputs": [],
   "source": [
    "# # calculate mean and std deviation\n",
    "\n",
    "# from pathlib import Path\n",
    "\n",
    "# imageFilesDir = Path('../datasets/dataset/train/colour')\n",
    "# files = list(imageFilesDir.rglob('*.jpg'))\n",
    "\n",
    "# # Since the std can't be calculated by simply finding it for each image and averaging like  \n",
    "# # the mean can be, to get the std we first calculate the overall mean in a first run then  \n",
    "# # run it again to get the std.\n",
    "\n",
    "# mean = np.array([0.,0.,0.])\n",
    "# stdTemp = np.array([0.,0.,0.])\n",
    "# std = np.array([0.,0.,0.])\n",
    "\n",
    "# numSamples = len(files)\n",
    "\n",
    "# for i in range(numSamples):\n",
    "#     im = np.asarray(Image.open(str(files[i])).convert(\"RGB\"))\n",
    "#     im = im / 255.\n",
    "    \n",
    "#     for j in range(3):\n",
    "#         mean[j] += np.mean(im[:,:,j])\n",
    "\n",
    "# mean = (mean/numSamples)\n",
    "\n",
    "# for i in range(numSamples):\n",
    "#     im = np.asarray(Image.open(str(files[i])).convert(\"RGB\"))\n",
    "#     im = im / 255.\n",
    "    \n",
    "#     for j in range(3):\n",
    "#         stdTemp[j] += ((im[:,:,j] - mean[j])**2).sum()/(im.shape[0]*im.shape[1])\n",
    "\n",
    "# std = np.sqrt(stdTemp/numSamples)\n",
    "\n",
    "# print(mean)\n",
    "# print(std)"
   ]
  },
  {
   "cell_type": "code",
   "execution_count": 40,
   "metadata": {
    "id": "05NviQfzU2Mv"
   },
   "outputs": [],
   "source": [
    "SIZE = 64\n",
    "class LabImageFolder(torch.utils.data.Dataset):\n",
    "    def __init__(self, paths, split='train'):\n",
    "        if split == 'train':\n",
    "            self.transforms = transforms.Compose([\n",
    "                transforms.Resize((SIZE, SIZE), transforms.InterpolationMode.BICUBIC),\n",
    "                transforms.RandomCrop(SIZE),\n",
    "                transforms.RandomHorizontalFlip(), \n",
    "#                 torchvision.transforms.ToTensor(),\n",
    "#                 torchvision.transforms.Normalize((0.44549203, 0.39243516, 0.29437839), (0.2846632, 0.24304812, 0.26394198)),\n",
    "            ])\n",
    "        elif split == 'val':\n",
    "            self.transforms = transforms.Compose([\n",
    "                transforms.Resize((SIZE, SIZE), transforms.InterpolationMode.BICUBIC), \n",
    "                transforms.RandomCrop(SIZE),\n",
    "#                 torchvision.transforms.ToTensor(),\n",
    "#                 torchvision.transforms.Normalize((0.44549203, 0.39243516, 0.29437839), (0.2846632, 0.24304812, 0.26394198)),\n",
    "            ])\n",
    "            \n",
    "        self.split = split\n",
    "        self.size = SIZE\n",
    "        self.paths = [os.path.join(paths, file) for file in os.listdir(paths) if os.path.isfile(\n",
    "            os.path.join(paths, file))]\n",
    "        \n",
    "        \n",
    "    def __getitem__(self, index):\n",
    "        img = Image.open(self.paths[index]).convert(\"RGB\")\n",
    "        img_original = self.transforms(img)\n",
    "        img_original = np.asarray(img_original)\n",
    "        img_lab = rgb2lab(img_original)\n",
    "        img_lab = (img_lab + 128) / 255\n",
    "        img_ab = img_lab[:, :, 1:3]\n",
    "        img_ab = torch.from_numpy(img_ab.transpose((2, 0, 1))).float()\n",
    "        img_gray = rgb2gray(img_original)\n",
    "        img_gray = torch.from_numpy(img_gray).unsqueeze(0).float()\n",
    "        return img_gray, img_ab\n",
    "    \n",
    "    def __len__(self):\n",
    "        return len(self.paths)"
   ]
  },
  {
   "cell_type": "code",
   "execution_count": 41,
   "metadata": {},
   "outputs": [],
   "source": [
    "# Training\n",
    "batch_size = 128\n",
    "train_imagefolder = LabImageFolder('../../datasets/dataset/train/colour')\n",
    "train_loader = torch.utils.data.DataLoader(train_imagefolder, batch_size=batch_size, shuffle=True)\n",
    "# Validation \n",
    "val_imagefolder = LabImageFolder('../../datasets/dataset/test/colour' , 'val')\n",
    "val_loader = torch.utils.data.DataLoader(val_imagefolder, batch_size=batch_size, shuffle=False)"
   ]
  },
  {
   "cell_type": "code",
   "execution_count": 42,
   "metadata": {
    "id": "NOQfP1feNkfS"
   },
   "outputs": [],
   "source": [
    "kernel_size=3\n",
    "stride_en=2\n",
    "stride_de=1\n",
    "padding=1\n",
    "scale_factor=2\n",
    "padding_mode='zeros'\n",
    "class ColorizationNet(nn.Module):\n",
    "  def __init__(self, input_size=128):\n",
    "    super(ColorizationNet, self).__init__()\n",
    "\n",
    "    \n",
    "#     resnet = models.resnet18(num_classes=10)\n",
    "#     resnet.conv1 = torch.nn.Conv2d(3, 64, kernel_size=3, stride=2, padding=1, bias=False)\n",
    "#     resnet.conv1.weight = nn.Parameter(resnet.conv1.weight.sum(dim=1).unsqueeze(1)) \n",
    "#     self.midlevel_resnet = nn.Sequential(*list(resnet.children())[0:6])\n",
    "    \n",
    "    \n",
    "    self.encoder = nn.Sequential(       \n",
    "      nn.Conv2d(1, 16, kernel_size=kernel_size, stride=stride_en, padding=padding, padding_mode=padding_mode),\n",
    "      nn.BatchNorm2d(16),\n",
    "      nn.ReLU(),\n",
    "      nn.Conv2d(16, 32, kernel_size=kernel_size, stride=stride_en, padding=padding, padding_mode=padding_mode),\n",
    "      nn.BatchNorm2d(32),\n",
    "      nn.ReLU(),\n",
    "      nn.Conv2d(32, 64, kernel_size=kernel_size, stride=stride_en, padding=padding, padding_mode=padding_mode),\n",
    "      nn.BatchNorm2d(64),\n",
    "      nn.ReLU(),   \n",
    "    )     \n",
    "        \n",
    "    self.decoder = nn.Sequential(  \n",
    "      nn.ConvTranspose2d(64, 32, kernel_size=kernel_size, stride=stride_de, padding=padding, padding_mode=padding_mode),\n",
    "      nn.BatchNorm2d(32),\n",
    "      nn.ReLU(),\n",
    "      nn.Upsample(scale_factor=scale_factor),   \n",
    "      nn.ConvTranspose2d(32, 16, kernel_size=kernel_size, stride=stride_de, padding=padding, padding_mode=padding_mode),\n",
    "      nn.BatchNorm2d(16),\n",
    "      nn.ReLU(),\n",
    "      nn.Upsample(scale_factor=scale_factor),\n",
    "      nn.ConvTranspose2d(16, 8, kernel_size=kernel_size, stride=stride_de, padding=padding, padding_mode=padding_mode),\n",
    "      nn.BatchNorm2d(8),\n",
    "      nn.ReLU(),\n",
    "      nn.ConvTranspose2d(8, 2, kernel_size=kernel_size, stride=stride_de, padding=padding, padding_mode=padding_mode),\n",
    "      nn.Upsample(scale_factor=scale_factor)\n",
    "    )\n",
    "\n",
    "  def forward(self, input):\n",
    "\n",
    "    encoder = self.encoder(input)\n",
    "    # Upsample to get colors\n",
    "    output = self.decoder(encoder)\n",
    "    return output"
   ]
  },
  {
   "cell_type": "code",
   "execution_count": 43,
   "metadata": {
    "id": "OtRkAkIjTeq1"
   },
   "outputs": [],
   "source": [
    "model = ColorizationNet()"
   ]
  },
  {
   "cell_type": "code",
   "execution_count": 44,
   "metadata": {
    "id": "1PU0wtkPRasL"
   },
   "outputs": [],
   "source": [
    "criterion = nn.MSELoss()"
   ]
  },
  {
   "cell_type": "code",
   "execution_count": 45,
   "metadata": {
    "id": "j3YZ3977TTl4"
   },
   "outputs": [],
   "source": [
    "optimizer = torch.optim.Adam(model.parameters(), lr=1e-2)"
   ]
  },
  {
   "cell_type": "code",
   "execution_count": 46,
   "metadata": {
    "id": "eeHK3BUtANrw"
   },
   "outputs": [],
   "source": [
    "# # Move model and loss function to GPU\n",
    "if use_gpu: \n",
    "    criterion = criterion.cuda()\n",
    "    model = model.cuda()"
   ]
  },
  {
   "cell_type": "code",
   "execution_count": 47,
   "metadata": {
    "scrolled": false
   },
   "outputs": [
    {
     "name": "stdout",
     "output_type": "stream",
     "text": [
      "----------------------------------------------------------------\n",
      "        Layer (type)               Output Shape         Param #\n",
      "================================================================\n",
      "            Conv2d-1           [-1, 16, 32, 32]             160\n",
      "       BatchNorm2d-2           [-1, 16, 32, 32]              32\n",
      "              ReLU-3           [-1, 16, 32, 32]               0\n",
      "            Conv2d-4           [-1, 32, 16, 16]           4,640\n",
      "       BatchNorm2d-5           [-1, 32, 16, 16]              64\n",
      "              ReLU-6           [-1, 32, 16, 16]               0\n",
      "            Conv2d-7             [-1, 64, 8, 8]          18,496\n",
      "       BatchNorm2d-8             [-1, 64, 8, 8]             128\n",
      "              ReLU-9             [-1, 64, 8, 8]               0\n",
      "  ConvTranspose2d-10             [-1, 32, 8, 8]          18,464\n",
      "      BatchNorm2d-11             [-1, 32, 8, 8]              64\n",
      "             ReLU-12             [-1, 32, 8, 8]               0\n",
      "         Upsample-13           [-1, 32, 16, 16]               0\n",
      "  ConvTranspose2d-14           [-1, 16, 16, 16]           4,624\n",
      "      BatchNorm2d-15           [-1, 16, 16, 16]              32\n",
      "             ReLU-16           [-1, 16, 16, 16]               0\n",
      "         Upsample-17           [-1, 16, 32, 32]               0\n",
      "  ConvTranspose2d-18            [-1, 8, 32, 32]           1,160\n",
      "      BatchNorm2d-19            [-1, 8, 32, 32]              16\n",
      "             ReLU-20            [-1, 8, 32, 32]               0\n",
      "  ConvTranspose2d-21            [-1, 2, 32, 32]             146\n",
      "         Upsample-22            [-1, 2, 64, 64]               0\n",
      "================================================================\n",
      "Total params: 48,026\n",
      "Trainable params: 48,026\n",
      "Non-trainable params: 0\n",
      "----------------------------------------------------------------\n",
      "Input size (MB): 0.02\n",
      "Forward/backward pass size (MB): 1.25\n",
      "Params size (MB): 0.18\n",
      "Estimated Total Size (MB): 1.45\n",
      "----------------------------------------------------------------\n"
     ]
    }
   ],
   "source": [
    "from torchsummary import summary\n",
    "\n",
    "# summary(model, (1, 32, 32))\n",
    "summary(model, (1, 64, 64))\n",
    "# summary(model, (1, 256, 256))"
   ]
  },
  {
   "cell_type": "code",
   "execution_count": 48,
   "metadata": {
    "id": "2FDRt12jsIkr"
   },
   "outputs": [],
   "source": [
    "class AverageMeter(object):\n",
    "  '''A handy class from the PyTorch ImageNet tutorial''' \n",
    "  def __init__(self):\n",
    "    self.reset()\n",
    "  def reset(self):\n",
    "    self.val, self.avg, self.sum, self.count = 0, 0, 0, 0\n",
    "  def update(self, val, n=1):\n",
    "    self.val = val\n",
    "    self.sum += val * n\n",
    "    self.count += n\n",
    "    self.avg = self.sum / self.count\n",
    "\n",
    "def to_rgb(grayscale_input, ab_input, save_path=None, save_name=None):\n",
    "  '''Show/save rgb image from grayscale and ab channels\n",
    "     Input save_path in the form {'grayscale': '/path/', 'colorized': '/path/'}'''\n",
    "  plt.clf() # clear matplotlib \n",
    "  color_image = torch.cat((grayscale_input, ab_input), 0).numpy() # combine channels\n",
    "  color_image = color_image.transpose((1, 2, 0))  # rescale for matplotlib\n",
    "  color_image[:, :, 0:1] = color_image[:, :, 0:1] * 100\n",
    "  color_image[:, :, 1:3] = color_image[:, :, 1:3] * 255 - 128   \n",
    "  color_image = lab2rgb(color_image.astype(np.float64))\n",
    "  grayscale_input = grayscale_input.squeeze().numpy()\n",
    "  if save_path is not None and save_name is not None: \n",
    "    plt.imsave(arr=grayscale_input, fname='{}{}'.format(save_path['grayscale'], save_name), cmap='gray')\n",
    "    plt.imsave(arr=color_image, fname='{}{}'.format(save_path['colorized'], save_name))"
   ]
  },
  {
   "cell_type": "code",
   "execution_count": 49,
   "metadata": {},
   "outputs": [],
   "source": [
    "color_imgs = 'outputs/color/'\n",
    "gray_imgs = 'outputs/gray/'"
   ]
  },
  {
   "cell_type": "code",
   "execution_count": 50,
   "metadata": {
    "id": "M_OTbyOcrh9J"
   },
   "outputs": [],
   "source": [
    "def validate(val_loader, model, criterion, save_images, epoch):\n",
    "    _loss = AverageMeter()\n",
    "\n",
    "    model.eval()\n",
    "    already_saved_images = False\n",
    "    for gray, ab in val_loader:\n",
    "        if use_gpu: \n",
    "            gray, ab = gray.cuda(), ab.cuda()\n",
    "\n",
    "        # Run model and record loss\n",
    "        output_ab = model(gray) # throw away class predictions\n",
    "        loss = criterion(output_ab, ab)\n",
    "        \n",
    "        _loss.update(loss.item(), gray.size(0))\n",
    "\n",
    "        # Save images to file\n",
    "        if save_images and not already_saved_images:\n",
    "            already_saved_images = True\n",
    "            for j in range(min(len(output_ab), 10)): # save at most 5 images\n",
    "                save_path = {'grayscale': gray_imgs, 'colorized': color_imgs}\n",
    "                save_name = 'img-{}-epoch-{}.jpg'.format(j, epoch)\n",
    "                to_rgb(gray[j].cpu(), ab_input=output_ab[j].detach().cpu(), save_path=save_path, save_name=save_name)\n",
    "\n",
    "    print('Validate: Loss {loss.val:.4f} ({loss.avg:.4f})\\t'.format(\n",
    "         loss=_loss))\n",
    "\n",
    "    print('Finished validation.')\n",
    "\n",
    "    writer.add_scalar(\"Loss/test\", _loss.avg, epoch)\n",
    "    return _loss.avg"
   ]
  },
  {
   "cell_type": "code",
   "execution_count": 51,
   "metadata": {
    "scrolled": true
   },
   "outputs": [
    {
     "name": "stdout",
     "output_type": "stream",
     "text": [
      "Tracer cannot infer type of (ColorizationNet(\n",
      "  (encoder): Sequential(\n",
      "    (0): Conv2d(1, 16, kernel_size=(3, 3), stride=(2, 2), padding=(1, 1))\n",
      "    (1): BatchNorm2d(16, eps=1e-05, momentum=0.1, affine=True, track_running_stats=True)\n",
      "    (2): ReLU()\n",
      "    (3): Conv2d(16, 32, kernel_size=(3, 3), stride=(2, 2), padding=(1, 1))\n",
      "    (4): BatchNorm2d(32, eps=1e-05, momentum=0.1, affine=True, track_running_stats=True)\n",
      "    (5): ReLU()\n",
      "    (6): Conv2d(32, 64, kernel_size=(3, 3), stride=(2, 2), padding=(1, 1))\n",
      "    (7): BatchNorm2d(64, eps=1e-05, momentum=0.1, affine=True, track_running_stats=True)\n",
      "    (8): ReLU()\n",
      "  )\n",
      "  (decoder): Sequential(\n",
      "    (0): ConvTranspose2d(64, 32, kernel_size=(3, 3), stride=(1, 1), padding=(1, 1))\n",
      "    (1): BatchNorm2d(32, eps=1e-05, momentum=0.1, affine=True, track_running_stats=True)\n",
      "    (2): ReLU()\n",
      "    (3): Upsample(scale_factor=2.0, mode=nearest)\n",
      "    (4): ConvTranspose2d(32, 16, kernel_size=(3, 3), stride=(1, 1), padding=(1, 1))\n",
      "    (5): BatchNorm2d(16, eps=1e-05, momentum=0.1, affine=True, track_running_stats=True)\n",
      "    (6): ReLU()\n",
      "    (7): Upsample(scale_factor=2.0, mode=nearest)\n",
      "    (8): ConvTranspose2d(16, 8, kernel_size=(3, 3), stride=(1, 1), padding=(1, 1))\n",
      "    (9): BatchNorm2d(8, eps=1e-05, momentum=0.1, affine=True, track_running_stats=True)\n",
      "    (10): ReLU()\n",
      "    (11): ConvTranspose2d(8, 2, kernel_size=(3, 3), stride=(1, 1), padding=(1, 1))\n",
      "    (12): Upsample(scale_factor=2.0, mode=nearest)\n",
      "  )\n",
      "), <__main__.LabImageFolder object at 0x7fc9d812ce20>)\n",
      ":Cannot infer concrete type of torch.nn.Module\n",
      "Error occurs, No graph saved\n"
     ]
    },
    {
     "ename": "RuntimeError",
     "evalue": "Tracer cannot infer type of (ColorizationNet(\n  (encoder): Sequential(\n    (0): Conv2d(1, 16, kernel_size=(3, 3), stride=(2, 2), padding=(1, 1))\n    (1): BatchNorm2d(16, eps=1e-05, momentum=0.1, affine=True, track_running_stats=True)\n    (2): ReLU()\n    (3): Conv2d(16, 32, kernel_size=(3, 3), stride=(2, 2), padding=(1, 1))\n    (4): BatchNorm2d(32, eps=1e-05, momentum=0.1, affine=True, track_running_stats=True)\n    (5): ReLU()\n    (6): Conv2d(32, 64, kernel_size=(3, 3), stride=(2, 2), padding=(1, 1))\n    (7): BatchNorm2d(64, eps=1e-05, momentum=0.1, affine=True, track_running_stats=True)\n    (8): ReLU()\n  )\n  (decoder): Sequential(\n    (0): ConvTranspose2d(64, 32, kernel_size=(3, 3), stride=(1, 1), padding=(1, 1))\n    (1): BatchNorm2d(32, eps=1e-05, momentum=0.1, affine=True, track_running_stats=True)\n    (2): ReLU()\n    (3): Upsample(scale_factor=2.0, mode=nearest)\n    (4): ConvTranspose2d(32, 16, kernel_size=(3, 3), stride=(1, 1), padding=(1, 1))\n    (5): BatchNorm2d(16, eps=1e-05, momentum=0.1, affine=True, track_running_stats=True)\n    (6): ReLU()\n    (7): Upsample(scale_factor=2.0, mode=nearest)\n    (8): ConvTranspose2d(16, 8, kernel_size=(3, 3), stride=(1, 1), padding=(1, 1))\n    (9): BatchNorm2d(8, eps=1e-05, momentum=0.1, affine=True, track_running_stats=True)\n    (10): ReLU()\n    (11): ConvTranspose2d(8, 2, kernel_size=(3, 3), stride=(1, 1), padding=(1, 1))\n    (12): Upsample(scale_factor=2.0, mode=nearest)\n  )\n), <__main__.LabImageFolder object at 0x7fc9d812ce20>)\n:Cannot infer concrete type of torch.nn.Module",
     "output_type": "error",
     "traceback": [
      "\u001b[0;31m---------------------------------------------------------------------------\u001b[0m",
      "\u001b[0;31mRuntimeError\u001b[0m                              Traceback (most recent call last)",
      "\u001b[0;32m/tmp/ipykernel_29818/2655163282.py\u001b[0m in \u001b[0;36m<module>\u001b[0;34m\u001b[0m\n\u001b[0;32m----> 1\u001b[0;31m \u001b[0mwriter\u001b[0m\u001b[0;34m.\u001b[0m\u001b[0madd_graph\u001b[0m\u001b[0;34m(\u001b[0m\u001b[0mmodel\u001b[0m\u001b[0;34m,\u001b[0m \u001b[0;34m[\u001b[0m\u001b[0mmodel\u001b[0m\u001b[0;34m,\u001b[0m \u001b[0mtrain_loader\u001b[0m\u001b[0;34m.\u001b[0m\u001b[0mdataset\u001b[0m\u001b[0;34m]\u001b[0m\u001b[0;34m)\u001b[0m\u001b[0;34m\u001b[0m\u001b[0;34m\u001b[0m\u001b[0m\n\u001b[0m\u001b[1;32m      2\u001b[0m \u001b[0mwriter\u001b[0m\u001b[0;34m.\u001b[0m\u001b[0mclose\u001b[0m\u001b[0;34m(\u001b[0m\u001b[0;34m)\u001b[0m\u001b[0;34m\u001b[0m\u001b[0;34m\u001b[0m\u001b[0m\n",
      "\u001b[0;32m~/.local/lib/python3.10/site-packages/torch/utils/tensorboard/writer.py\u001b[0m in \u001b[0;36madd_graph\u001b[0;34m(self, model, input_to_model, verbose, use_strict_trace)\u001b[0m\n\u001b[1;32m    839\u001b[0m             \u001b[0;31m# A valid PyTorch model should have a 'forward' method\u001b[0m\u001b[0;34m\u001b[0m\u001b[0;34m\u001b[0m\u001b[0m\n\u001b[1;32m    840\u001b[0m             self._get_file_writer().add_graph(\n\u001b[0;32m--> 841\u001b[0;31m                 \u001b[0mgraph\u001b[0m\u001b[0;34m(\u001b[0m\u001b[0mmodel\u001b[0m\u001b[0;34m,\u001b[0m \u001b[0minput_to_model\u001b[0m\u001b[0;34m,\u001b[0m \u001b[0mverbose\u001b[0m\u001b[0;34m,\u001b[0m \u001b[0muse_strict_trace\u001b[0m\u001b[0;34m)\u001b[0m\u001b[0;34m\u001b[0m\u001b[0;34m\u001b[0m\u001b[0m\n\u001b[0m\u001b[1;32m    842\u001b[0m             )\n\u001b[1;32m    843\u001b[0m         \u001b[0;32melse\u001b[0m\u001b[0;34m:\u001b[0m\u001b[0;34m\u001b[0m\u001b[0;34m\u001b[0m\u001b[0m\n",
      "\u001b[0;32m~/.local/lib/python3.10/site-packages/torch/utils/tensorboard/_pytorch_graph.py\u001b[0m in \u001b[0;36mgraph\u001b[0;34m(model, args, verbose, use_strict_trace)\u001b[0m\n\u001b[1;32m    341\u001b[0m             \u001b[0mprint\u001b[0m\u001b[0;34m(\u001b[0m\u001b[0me\u001b[0m\u001b[0;34m)\u001b[0m\u001b[0;34m\u001b[0m\u001b[0;34m\u001b[0m\u001b[0m\n\u001b[1;32m    342\u001b[0m             \u001b[0mprint\u001b[0m\u001b[0;34m(\u001b[0m\u001b[0;34m\"Error occurs, No graph saved\"\u001b[0m\u001b[0;34m)\u001b[0m\u001b[0;34m\u001b[0m\u001b[0;34m\u001b[0m\u001b[0m\n\u001b[0;32m--> 343\u001b[0;31m             \u001b[0;32mraise\u001b[0m \u001b[0me\u001b[0m\u001b[0;34m\u001b[0m\u001b[0;34m\u001b[0m\u001b[0m\n\u001b[0m\u001b[1;32m    344\u001b[0m \u001b[0;34m\u001b[0m\u001b[0m\n\u001b[1;32m    345\u001b[0m     \u001b[0;32mif\u001b[0m \u001b[0mverbose\u001b[0m\u001b[0;34m:\u001b[0m\u001b[0;34m\u001b[0m\u001b[0;34m\u001b[0m\u001b[0m\n",
      "\u001b[0;32m~/.local/lib/python3.10/site-packages/torch/utils/tensorboard/_pytorch_graph.py\u001b[0m in \u001b[0;36mgraph\u001b[0;34m(model, args, verbose, use_strict_trace)\u001b[0m\n\u001b[1;32m    335\u001b[0m     \u001b[0;32mwith\u001b[0m \u001b[0m_set_model_to_eval\u001b[0m\u001b[0;34m(\u001b[0m\u001b[0mmodel\u001b[0m\u001b[0;34m)\u001b[0m\u001b[0;34m:\u001b[0m\u001b[0;34m\u001b[0m\u001b[0;34m\u001b[0m\u001b[0m\n\u001b[1;32m    336\u001b[0m         \u001b[0;32mtry\u001b[0m\u001b[0;34m:\u001b[0m\u001b[0;34m\u001b[0m\u001b[0;34m\u001b[0m\u001b[0m\n\u001b[0;32m--> 337\u001b[0;31m             \u001b[0mtrace\u001b[0m \u001b[0;34m=\u001b[0m \u001b[0mtorch\u001b[0m\u001b[0;34m.\u001b[0m\u001b[0mjit\u001b[0m\u001b[0;34m.\u001b[0m\u001b[0mtrace\u001b[0m\u001b[0;34m(\u001b[0m\u001b[0mmodel\u001b[0m\u001b[0;34m,\u001b[0m \u001b[0margs\u001b[0m\u001b[0;34m,\u001b[0m \u001b[0mstrict\u001b[0m\u001b[0;34m=\u001b[0m\u001b[0muse_strict_trace\u001b[0m\u001b[0;34m)\u001b[0m\u001b[0;34m\u001b[0m\u001b[0;34m\u001b[0m\u001b[0m\n\u001b[0m\u001b[1;32m    338\u001b[0m             \u001b[0mgraph\u001b[0m \u001b[0;34m=\u001b[0m \u001b[0mtrace\u001b[0m\u001b[0;34m.\u001b[0m\u001b[0mgraph\u001b[0m\u001b[0;34m\u001b[0m\u001b[0;34m\u001b[0m\u001b[0m\n\u001b[1;32m    339\u001b[0m             \u001b[0mtorch\u001b[0m\u001b[0;34m.\u001b[0m\u001b[0m_C\u001b[0m\u001b[0;34m.\u001b[0m\u001b[0m_jit_pass_inline\u001b[0m\u001b[0;34m(\u001b[0m\u001b[0mgraph\u001b[0m\u001b[0;34m)\u001b[0m\u001b[0;34m\u001b[0m\u001b[0;34m\u001b[0m\u001b[0m\n",
      "\u001b[0;32m~/.local/lib/python3.10/site-packages/torch/jit/_trace.py\u001b[0m in \u001b[0;36mtrace\u001b[0;34m(func, example_inputs, optimize, check_trace, check_inputs, check_tolerance, strict, _force_outplace, _module_class, _compilation_unit)\u001b[0m\n\u001b[1;32m    757\u001b[0m \u001b[0;34m\u001b[0m\u001b[0m\n\u001b[1;32m    758\u001b[0m     \u001b[0;32mif\u001b[0m \u001b[0misinstance\u001b[0m\u001b[0;34m(\u001b[0m\u001b[0mfunc\u001b[0m\u001b[0;34m,\u001b[0m \u001b[0mtorch\u001b[0m\u001b[0;34m.\u001b[0m\u001b[0mnn\u001b[0m\u001b[0;34m.\u001b[0m\u001b[0mModule\u001b[0m\u001b[0;34m)\u001b[0m\u001b[0;34m:\u001b[0m\u001b[0;34m\u001b[0m\u001b[0;34m\u001b[0m\u001b[0m\n\u001b[0;32m--> 759\u001b[0;31m         return trace_module(\n\u001b[0m\u001b[1;32m    760\u001b[0m             \u001b[0mfunc\u001b[0m\u001b[0;34m,\u001b[0m\u001b[0;34m\u001b[0m\u001b[0;34m\u001b[0m\u001b[0m\n\u001b[1;32m    761\u001b[0m             \u001b[0;34m{\u001b[0m\u001b[0;34m\"forward\"\u001b[0m\u001b[0;34m:\u001b[0m \u001b[0mexample_inputs\u001b[0m\u001b[0;34m}\u001b[0m\u001b[0;34m,\u001b[0m\u001b[0;34m\u001b[0m\u001b[0;34m\u001b[0m\u001b[0m\n",
      "\u001b[0;32m~/.local/lib/python3.10/site-packages/torch/jit/_trace.py\u001b[0m in \u001b[0;36mtrace_module\u001b[0;34m(mod, inputs, optimize, check_trace, check_inputs, check_tolerance, strict, _force_outplace, _module_class, _compilation_unit)\u001b[0m\n\u001b[1;32m    974\u001b[0m             \u001b[0mexample_inputs\u001b[0m \u001b[0;34m=\u001b[0m \u001b[0mmake_tuple\u001b[0m\u001b[0;34m(\u001b[0m\u001b[0mexample_inputs\u001b[0m\u001b[0;34m)\u001b[0m\u001b[0;34m\u001b[0m\u001b[0;34m\u001b[0m\u001b[0m\n\u001b[1;32m    975\u001b[0m \u001b[0;34m\u001b[0m\u001b[0m\n\u001b[0;32m--> 976\u001b[0;31m             module._c._create_method_from_trace(\n\u001b[0m\u001b[1;32m    977\u001b[0m                 \u001b[0mmethod_name\u001b[0m\u001b[0;34m,\u001b[0m\u001b[0;34m\u001b[0m\u001b[0;34m\u001b[0m\u001b[0m\n\u001b[1;32m    978\u001b[0m                 \u001b[0mfunc\u001b[0m\u001b[0;34m,\u001b[0m\u001b[0;34m\u001b[0m\u001b[0;34m\u001b[0m\u001b[0m\n",
      "\u001b[0;31mRuntimeError\u001b[0m: Tracer cannot infer type of (ColorizationNet(\n  (encoder): Sequential(\n    (0): Conv2d(1, 16, kernel_size=(3, 3), stride=(2, 2), padding=(1, 1))\n    (1): BatchNorm2d(16, eps=1e-05, momentum=0.1, affine=True, track_running_stats=True)\n    (2): ReLU()\n    (3): Conv2d(16, 32, kernel_size=(3, 3), stride=(2, 2), padding=(1, 1))\n    (4): BatchNorm2d(32, eps=1e-05, momentum=0.1, affine=True, track_running_stats=True)\n    (5): ReLU()\n    (6): Conv2d(32, 64, kernel_size=(3, 3), stride=(2, 2), padding=(1, 1))\n    (7): BatchNorm2d(64, eps=1e-05, momentum=0.1, affine=True, track_running_stats=True)\n    (8): ReLU()\n  )\n  (decoder): Sequential(\n    (0): ConvTranspose2d(64, 32, kernel_size=(3, 3), stride=(1, 1), padding=(1, 1))\n    (1): BatchNorm2d(32, eps=1e-05, momentum=0.1, affine=True, track_running_stats=True)\n    (2): ReLU()\n    (3): Upsample(scale_factor=2.0, mode=nearest)\n    (4): ConvTranspose2d(32, 16, kernel_size=(3, 3), stride=(1, 1), padding=(1, 1))\n    (5): BatchNorm2d(16, eps=1e-05, momentum=0.1, affine=True, track_running_stats=True)\n    (6): ReLU()\n    (7): Upsample(scale_factor=2.0, mode=nearest)\n    (8): ConvTranspose2d(16, 8, kernel_size=(3, 3), stride=(1, 1), padding=(1, 1))\n    (9): BatchNorm2d(8, eps=1e-05, momentum=0.1, affine=True, track_running_stats=True)\n    (10): ReLU()\n    (11): ConvTranspose2d(8, 2, kernel_size=(3, 3), stride=(1, 1), padding=(1, 1))\n    (12): Upsample(scale_factor=2.0, mode=nearest)\n  )\n), <__main__.LabImageFolder object at 0x7fc9d812ce20>)\n:Cannot infer concrete type of torch.nn.Module"
     ]
    }
   ],
   "source": [
    "# writer.add_graph(model, [model, train_loader.dataset])\n",
    "# writer.close()"
   ]
  },
  {
   "cell_type": "code",
   "execution_count": 52,
   "metadata": {
    "id": "FOo__iEnvLMB"
   },
   "outputs": [],
   "source": [
    "def train(train_loader, model, criterion, optimizer, epoch):\n",
    "    print(f'Starting training epoch {epoch}')\n",
    "    _loss = AverageMeter()\n",
    "    \n",
    "    model.train()\n",
    "\n",
    "    for gray, ab in train_loader:\n",
    "        if use_gpu: \n",
    "            gray, ab = gray.cuda(), ab.cuda()\n",
    "            \n",
    "        optimizer.zero_grad()\n",
    "\n",
    "        output_ab = model(gray) \n",
    "        loss = criterion(output_ab, ab) \n",
    "        loss.backward()\n",
    "        optimizer.step()\n",
    "        \n",
    "        _loss.update(loss.item(), gray.size(0))\n",
    "        \n",
    "    print(f'Epoch: {epoch}, Loss {_loss.val:.4f} ({_loss.avg:.4f})')\n",
    "    \n",
    "    print(f'Finished training epoch {epoch}')\n",
    "    writer.add_scalar(\"Loss/train\", _loss.avg, epoch)"
   ]
  },
  {
   "cell_type": "code",
   "execution_count": 53,
   "metadata": {
    "id": "ckNmKA5VwSh1"
   },
   "outputs": [],
   "source": [
    "# Make folders and set parameters\n",
    "checkpoints = 'checkpoints'\n",
    "os.makedirs(color_imgs, exist_ok=True)\n",
    "os.makedirs(gray_imgs, exist_ok=True)\n",
    "os.makedirs(checkpoints, exist_ok=True)\n",
    "save_images = True\n",
    "best_losses = 1e10\n",
    "epochs = 200"
   ]
  },
  {
   "cell_type": "code",
   "execution_count": 54,
   "metadata": {
    "colab": {
     "base_uri": "https://localhost:8080/",
     "height": 625
    },
    "id": "XUR6ALi3AZoO",
    "outputId": "4b274c7b-fc1d-4e14-dc1f-a7ef93f3663f",
    "scrolled": false
   },
   "outputs": [
    {
     "name": "stdout",
     "output_type": "stream",
     "text": [
      "Starting training epoch 0\n",
      "Epoch: 0, Loss 0.0099 (0.0343)\n",
      "Finished training epoch 0\n"
     ]
    },
    {
     "name": "stderr",
     "output_type": "stream",
     "text": [
      "/home/konrad/.local/lib/python3.10/site-packages/skimage/_shared/utils.py:394: UserWarning: Color data out of range: Z < 0 in 3 pixels\n",
      "  return func(*args, **kwargs)\n",
      "/home/konrad/.local/lib/python3.10/site-packages/skimage/_shared/utils.py:394: UserWarning: Color data out of range: Z < 0 in 8 pixels\n",
      "  return func(*args, **kwargs)\n"
     ]
    },
    {
     "name": "stdout",
     "output_type": "stream",
     "text": [
      "Validate: Loss 0.0080 (0.0080)\t\n",
      "Finished validation.\n",
      "Starting training epoch 1\n",
      "Epoch: 1, Loss 0.0074 (0.0082)\n",
      "Finished training epoch 1\n",
      "Validate: Loss 0.0074 (0.0074)\t\n",
      "Finished validation.\n",
      "Starting training epoch 2\n",
      "Epoch: 2, Loss 0.0083 (0.0079)\n",
      "Finished training epoch 2\n"
     ]
    },
    {
     "name": "stderr",
     "output_type": "stream",
     "text": [
      "/home/konrad/.local/lib/python3.10/site-packages/skimage/_shared/utils.py:394: UserWarning: Color data out of range: Z < 0 in 15 pixels\n",
      "  return func(*args, **kwargs)\n",
      "/home/konrad/.local/lib/python3.10/site-packages/skimage/_shared/utils.py:394: UserWarning: Color data out of range: Z < 0 in 12 pixels\n",
      "  return func(*args, **kwargs)\n",
      "/home/konrad/.local/lib/python3.10/site-packages/skimage/_shared/utils.py:394: UserWarning: Color data out of range: Z < 0 in 1 pixels\n",
      "  return func(*args, **kwargs)\n"
     ]
    },
    {
     "name": "stdout",
     "output_type": "stream",
     "text": [
      "Validate: Loss 0.0075 (0.0074)\t\n",
      "Finished validation.\n",
      "Starting training epoch 3\n",
      "Epoch: 3, Loss 0.0076 (0.0075)\n",
      "Finished training epoch 3\n",
      "Validate: Loss 0.0070 (0.0072)\t\n",
      "Finished validation.\n",
      "Starting training epoch 4\n",
      "Epoch: 4, Loss 0.0083 (0.0074)\n",
      "Finished training epoch 4\n"
     ]
    },
    {
     "name": "stderr",
     "output_type": "stream",
     "text": [
      "/home/konrad/.local/lib/python3.10/site-packages/skimage/_shared/utils.py:394: UserWarning: Color data out of range: Z < 0 in 18 pixels\n",
      "  return func(*args, **kwargs)\n",
      "/home/konrad/.local/lib/python3.10/site-packages/skimage/_shared/utils.py:394: UserWarning: Color data out of range: Z < 0 in 25 pixels\n",
      "  return func(*args, **kwargs)\n",
      "/home/konrad/.local/lib/python3.10/site-packages/skimage/_shared/utils.py:394: UserWarning: Color data out of range: Z < 0 in 2 pixels\n",
      "  return func(*args, **kwargs)\n"
     ]
    },
    {
     "name": "stdout",
     "output_type": "stream",
     "text": [
      "Validate: Loss 0.0074 (0.0072)\t\n",
      "Finished validation.\n",
      "Starting training epoch 5\n",
      "Epoch: 5, Loss 0.0078 (0.0073)\n",
      "Finished training epoch 5\n",
      "Validate: Loss 0.0069 (0.0070)\t\n",
      "Finished validation.\n",
      "Starting training epoch 6\n",
      "Epoch: 6, Loss 0.0066 (0.0071)\n",
      "Finished training epoch 6\n",
      "Validate: Loss 0.0066 (0.0067)\t\n",
      "Finished validation.\n",
      "Starting training epoch 7\n",
      "Epoch: 7, Loss 0.0069 (0.0070)\n",
      "Finished training epoch 7\n",
      "Validate: Loss 0.0066 (0.0067)\t\n",
      "Finished validation.\n",
      "Starting training epoch 8\n",
      "Epoch: 8, Loss 0.0069 (0.0070)\n",
      "Finished training epoch 8\n",
      "Validate: Loss 0.0066 (0.0067)\t\n",
      "Finished validation.\n",
      "Starting training epoch 9\n",
      "Epoch: 9, Loss 0.0072 (0.0071)\n",
      "Finished training epoch 9\n",
      "Validate: Loss 0.0066 (0.0067)\t\n",
      "Finished validation.\n",
      "Starting training epoch 10\n",
      "Epoch: 10, Loss 0.0074 (0.0069)\n",
      "Finished training epoch 10\n",
      "Validate: Loss 0.0066 (0.0067)\t\n",
      "Finished validation.\n",
      "Starting training epoch 11\n",
      "Epoch: 11, Loss 0.0079 (0.0069)\n",
      "Finished training epoch 11\n",
      "Validate: Loss 0.0066 (0.0066)\t\n",
      "Finished validation.\n",
      "Starting training epoch 12\n",
      "Epoch: 12, Loss 0.0064 (0.0069)\n",
      "Finished training epoch 12\n"
     ]
    },
    {
     "name": "stderr",
     "output_type": "stream",
     "text": [
      "/home/konrad/.local/lib/python3.10/site-packages/skimage/_shared/utils.py:394: UserWarning: Color data out of range: Z < 0 in 4 pixels\n",
      "  return func(*args, **kwargs)\n"
     ]
    },
    {
     "name": "stdout",
     "output_type": "stream",
     "text": [
      "Validate: Loss 0.0067 (0.0067)\t\n",
      "Finished validation.\n",
      "Starting training epoch 13\n",
      "Epoch: 13, Loss 0.0069 (0.0068)\n",
      "Finished training epoch 13\n",
      "Validate: Loss 0.0065 (0.0065)\t\n",
      "Finished validation.\n",
      "Starting training epoch 14\n",
      "Epoch: 14, Loss 0.0061 (0.0068)\n",
      "Finished training epoch 14\n",
      "Validate: Loss 0.0064 (0.0065)\t\n",
      "Finished validation.\n",
      "Starting training epoch 15\n",
      "Epoch: 15, Loss 0.0066 (0.0067)\n",
      "Finished training epoch 15\n",
      "Validate: Loss 0.0067 (0.0066)\t\n",
      "Finished validation.\n",
      "Starting training epoch 16\n",
      "Epoch: 16, Loss 0.0066 (0.0067)\n",
      "Finished training epoch 16\n",
      "Validate: Loss 0.0064 (0.0064)\t\n",
      "Finished validation.\n",
      "Starting training epoch 17\n",
      "Epoch: 17, Loss 0.0070 (0.0067)\n",
      "Finished training epoch 17\n",
      "Validate: Loss 0.0065 (0.0065)\t\n",
      "Finished validation.\n",
      "Starting training epoch 18\n",
      "Epoch: 18, Loss 0.0066 (0.0067)\n",
      "Finished training epoch 18\n",
      "Validate: Loss 0.0065 (0.0065)\t\n",
      "Finished validation.\n",
      "Starting training epoch 19\n",
      "Epoch: 19, Loss 0.0063 (0.0067)\n",
      "Finished training epoch 19\n",
      "Validate: Loss 0.0066 (0.0065)\t\n",
      "Finished validation.\n",
      "Starting training epoch 20\n",
      "Epoch: 20, Loss 0.0070 (0.0067)\n",
      "Finished training epoch 20\n"
     ]
    },
    {
     "name": "stderr",
     "output_type": "stream",
     "text": [
      "/home/konrad/.local/lib/python3.10/site-packages/skimage/_shared/utils.py:394: UserWarning: Color data out of range: Z < 0 in 13 pixels\n",
      "  return func(*args, **kwargs)\n"
     ]
    },
    {
     "name": "stdout",
     "output_type": "stream",
     "text": [
      "Validate: Loss 0.0068 (0.0068)\t\n",
      "Finished validation.\n",
      "Starting training epoch 21\n",
      "Epoch: 21, Loss 0.0064 (0.0066)\n",
      "Finished training epoch 21\n",
      "Validate: Loss 0.0063 (0.0064)\t\n",
      "Finished validation.\n",
      "Starting training epoch 22\n",
      "Epoch: 22, Loss 0.0070 (0.0066)\n",
      "Finished training epoch 22\n",
      "Validate: Loss 0.0066 (0.0065)\t\n",
      "Finished validation.\n",
      "Starting training epoch 23\n",
      "Epoch: 23, Loss 0.0066 (0.0065)\n",
      "Finished training epoch 23\n",
      "Validate: Loss 0.0066 (0.0065)\t\n",
      "Finished validation.\n",
      "Starting training epoch 24\n",
      "Epoch: 24, Loss 0.0064 (0.0065)\n",
      "Finished training epoch 24\n",
      "Validate: Loss 0.0065 (0.0065)\t\n",
      "Finished validation.\n",
      "Starting training epoch 25\n",
      "Epoch: 25, Loss 0.0067 (0.0065)\n",
      "Finished training epoch 25\n",
      "Validate: Loss 0.0064 (0.0063)\t\n",
      "Finished validation.\n",
      "Starting training epoch 26\n",
      "Epoch: 26, Loss 0.0062 (0.0065)\n",
      "Finished training epoch 26\n",
      "Validate: Loss 0.0064 (0.0064)\t\n",
      "Finished validation.\n",
      "Starting training epoch 27\n",
      "Epoch: 27, Loss 0.0066 (0.0064)\n",
      "Finished training epoch 27\n",
      "Validate: Loss 0.0063 (0.0065)\t\n",
      "Finished validation.\n",
      "Starting training epoch 28\n",
      "Epoch: 28, Loss 0.0064 (0.0064)\n",
      "Finished training epoch 28\n",
      "Validate: Loss 0.0066 (0.0067)\t\n",
      "Finished validation.\n",
      "Starting training epoch 29\n",
      "Epoch: 29, Loss 0.0065 (0.0064)\n",
      "Finished training epoch 29\n",
      "Validate: Loss 0.0066 (0.0064)\t\n",
      "Finished validation.\n",
      "Starting training epoch 30\n",
      "Epoch: 30, Loss 0.0062 (0.0064)\n",
      "Finished training epoch 30\n",
      "Validate: Loss 0.0063 (0.0063)\t\n",
      "Finished validation.\n",
      "Starting training epoch 31\n",
      "Epoch: 31, Loss 0.0062 (0.0064)\n",
      "Finished training epoch 31\n",
      "Validate: Loss 0.0067 (0.0066)\t\n",
      "Finished validation.\n",
      "Starting training epoch 32\n",
      "Epoch: 32, Loss 0.0060 (0.0063)\n",
      "Finished training epoch 32\n",
      "Validate: Loss 0.0062 (0.0062)\t\n",
      "Finished validation.\n",
      "Starting training epoch 33\n",
      "Epoch: 33, Loss 0.0065 (0.0064)\n",
      "Finished training epoch 33\n",
      "Validate: Loss 0.0063 (0.0064)\t\n",
      "Finished validation.\n",
      "Starting training epoch 34\n",
      "Epoch: 34, Loss 0.0066 (0.0064)\n",
      "Finished training epoch 34\n",
      "Validate: Loss 0.0063 (0.0062)\t\n",
      "Finished validation.\n",
      "Starting training epoch 35\n",
      "Epoch: 35, Loss 0.0063 (0.0063)\n",
      "Finished training epoch 35\n",
      "Validate: Loss 0.0062 (0.0062)\t\n",
      "Finished validation.\n",
      "Starting training epoch 36\n",
      "Epoch: 36, Loss 0.0064 (0.0063)\n",
      "Finished training epoch 36\n",
      "Validate: Loss 0.0063 (0.0062)\t\n",
      "Finished validation.\n",
      "Starting training epoch 37\n",
      "Epoch: 37, Loss 0.0062 (0.0063)\n",
      "Finished training epoch 37\n",
      "Validate: Loss 0.0061 (0.0062)\t\n",
      "Finished validation.\n",
      "Starting training epoch 38\n",
      "Epoch: 38, Loss 0.0059 (0.0063)\n",
      "Finished training epoch 38\n",
      "Validate: Loss 0.0071 (0.0073)\t\n",
      "Finished validation.\n",
      "Starting training epoch 39\n",
      "Epoch: 39, Loss 0.0053 (0.0063)\n",
      "Finished training epoch 39\n",
      "Validate: Loss 0.0064 (0.0064)\t\n",
      "Finished validation.\n",
      "Starting training epoch 40\n",
      "Epoch: 40, Loss 0.0063 (0.0062)\n",
      "Finished training epoch 40\n",
      "Validate: Loss 0.0063 (0.0063)\t\n",
      "Finished validation.\n",
      "Starting training epoch 41\n",
      "Epoch: 41, Loss 0.0073 (0.0062)\n",
      "Finished training epoch 41\n",
      "Validate: Loss 0.0061 (0.0063)\t\n",
      "Finished validation.\n",
      "Starting training epoch 42\n",
      "Epoch: 42, Loss 0.0061 (0.0062)\n",
      "Finished training epoch 42\n",
      "Validate: Loss 0.0061 (0.0061)\t\n",
      "Finished validation.\n",
      "Starting training epoch 43\n",
      "Epoch: 43, Loss 0.0064 (0.0062)\n",
      "Finished training epoch 43\n",
      "Validate: Loss 0.0062 (0.0062)\t\n",
      "Finished validation.\n",
      "Starting training epoch 44\n",
      "Epoch: 44, Loss 0.0063 (0.0062)\n",
      "Finished training epoch 44\n"
     ]
    },
    {
     "name": "stderr",
     "output_type": "stream",
     "text": [
      "/home/konrad/.local/lib/python3.10/site-packages/skimage/_shared/utils.py:394: UserWarning: Color data out of range: Z < 0 in 42 pixels\n",
      "  return func(*args, **kwargs)\n",
      "/home/konrad/.local/lib/python3.10/site-packages/skimage/_shared/utils.py:394: UserWarning: Color data out of range: Z < 0 in 55 pixels\n",
      "  return func(*args, **kwargs)\n"
     ]
    },
    {
     "name": "stdout",
     "output_type": "stream",
     "text": [
      "Validate: Loss 0.0062 (0.0062)\t\n",
      "Finished validation.\n",
      "Starting training epoch 45\n",
      "Epoch: 45, Loss 0.0062 (0.0062)\n",
      "Finished training epoch 45\n",
      "Validate: Loss 0.0061 (0.0062)\t\n",
      "Finished validation.\n",
      "Starting training epoch 46\n",
      "Epoch: 46, Loss 0.0064 (0.0061)\n",
      "Finished training epoch 46\n",
      "Validate: Loss 0.0063 (0.0062)\t\n",
      "Finished validation.\n",
      "Starting training epoch 47\n",
      "Epoch: 47, Loss 0.0058 (0.0061)\n",
      "Finished training epoch 47\n",
      "Validate: Loss 0.0065 (0.0065)\t\n",
      "Finished validation.\n",
      "Starting training epoch 48\n",
      "Epoch: 48, Loss 0.0059 (0.0061)\n",
      "Finished training epoch 48\n",
      "Validate: Loss 0.0064 (0.0065)\t\n",
      "Finished validation.\n",
      "Starting training epoch 49\n",
      "Epoch: 49, Loss 0.0060 (0.0061)\n",
      "Finished training epoch 49\n",
      "Validate: Loss 0.0060 (0.0060)\t\n",
      "Finished validation.\n",
      "Starting training epoch 50\n",
      "Epoch: 50, Loss 0.0061 (0.0061)\n",
      "Finished training epoch 50\n"
     ]
    },
    {
     "name": "stderr",
     "output_type": "stream",
     "text": [
      "/home/konrad/.local/lib/python3.10/site-packages/skimage/_shared/utils.py:394: UserWarning: Color data out of range: Z < 0 in 16 pixels\n",
      "  return func(*args, **kwargs)\n"
     ]
    },
    {
     "name": "stdout",
     "output_type": "stream",
     "text": [
      "Validate: Loss 0.0068 (0.0067)\t\n",
      "Finished validation.\n",
      "Starting training epoch 51\n",
      "Epoch: 51, Loss 0.0061 (0.0060)\n",
      "Finished training epoch 51\n",
      "Validate: Loss 0.0065 (0.0066)\t\n",
      "Finished validation.\n",
      "Starting training epoch 52\n",
      "Epoch: 52, Loss 0.0060 (0.0060)\n",
      "Finished training epoch 52\n",
      "Validate: Loss 0.0064 (0.0063)\t\n",
      "Finished validation.\n",
      "Starting training epoch 53\n",
      "Epoch: 53, Loss 0.0057 (0.0060)\n",
      "Finished training epoch 53\n",
      "Validate: Loss 0.0060 (0.0061)\t\n",
      "Finished validation.\n",
      "Starting training epoch 54\n",
      "Epoch: 54, Loss 0.0061 (0.0060)\n",
      "Finished training epoch 54\n",
      "Validate: Loss 0.0060 (0.0060)\t\n",
      "Finished validation.\n",
      "Starting training epoch 55\n",
      "Epoch: 55, Loss 0.0061 (0.0060)\n",
      "Finished training epoch 55\n",
      "Validate: Loss 0.0065 (0.0063)\t\n",
      "Finished validation.\n",
      "Starting training epoch 56\n",
      "Epoch: 56, Loss 0.0070 (0.0060)\n",
      "Finished training epoch 56\n"
     ]
    },
    {
     "name": "stderr",
     "output_type": "stream",
     "text": [
      "/home/konrad/.local/lib/python3.10/site-packages/skimage/_shared/utils.py:394: UserWarning: Color data out of range: Z < 0 in 36 pixels\n",
      "  return func(*args, **kwargs)\n",
      "/home/konrad/.local/lib/python3.10/site-packages/skimage/_shared/utils.py:394: UserWarning: Color data out of range: Z < 0 in 6 pixels\n",
      "  return func(*args, **kwargs)\n"
     ]
    },
    {
     "name": "stdout",
     "output_type": "stream",
     "text": [
      "Validate: Loss 0.0062 (0.0062)\t\n",
      "Finished validation.\n",
      "Starting training epoch 57\n",
      "Epoch: 57, Loss 0.0058 (0.0060)\n",
      "Finished training epoch 57\n",
      "Validate: Loss 0.0062 (0.0062)\t\n",
      "Finished validation.\n",
      "Starting training epoch 58\n",
      "Epoch: 58, Loss 0.0055 (0.0059)\n",
      "Finished training epoch 58\n",
      "Validate: Loss 0.0059 (0.0061)\t\n",
      "Finished validation.\n",
      "Starting training epoch 59\n",
      "Epoch: 59, Loss 0.0053 (0.0059)\n",
      "Finished training epoch 59\n",
      "Validate: Loss 0.0061 (0.0063)\t\n",
      "Finished validation.\n",
      "Starting training epoch 60\n",
      "Epoch: 60, Loss 0.0059 (0.0059)\n",
      "Finished training epoch 60\n",
      "Validate: Loss 0.0060 (0.0061)\t\n",
      "Finished validation.\n",
      "Starting training epoch 61\n",
      "Epoch: 61, Loss 0.0054 (0.0059)\n",
      "Finished training epoch 61\n",
      "Validate: Loss 0.0059 (0.0060)\t\n",
      "Finished validation.\n",
      "Starting training epoch 62\n",
      "Epoch: 62, Loss 0.0055 (0.0059)\n",
      "Finished training epoch 62\n",
      "Validate: Loss 0.0060 (0.0061)\t\n",
      "Finished validation.\n",
      "Starting training epoch 63\n",
      "Epoch: 63, Loss 0.0056 (0.0058)\n",
      "Finished training epoch 63\n"
     ]
    },
    {
     "name": "stderr",
     "output_type": "stream",
     "text": [
      "/home/konrad/.local/lib/python3.10/site-packages/skimage/_shared/utils.py:394: UserWarning: Color data out of range: Z < 0 in 29 pixels\n",
      "  return func(*args, **kwargs)\n"
     ]
    },
    {
     "name": "stdout",
     "output_type": "stream",
     "text": [
      "Validate: Loss 0.0066 (0.0063)\t\n",
      "Finished validation.\n",
      "Starting training epoch 64\n",
      "Epoch: 64, Loss 0.0065 (0.0058)\n",
      "Finished training epoch 64\n",
      "Validate: Loss 0.0061 (0.0063)\t\n",
      "Finished validation.\n",
      "Starting training epoch 65\n",
      "Epoch: 65, Loss 0.0054 (0.0058)\n",
      "Finished training epoch 65\n",
      "Validate: Loss 0.0060 (0.0060)\t\n",
      "Finished validation.\n",
      "Starting training epoch 66\n",
      "Epoch: 66, Loss 0.0057 (0.0058)\n",
      "Finished training epoch 66\n",
      "Validate: Loss 0.0064 (0.0064)\t\n",
      "Finished validation.\n",
      "Starting training epoch 67\n",
      "Epoch: 67, Loss 0.0063 (0.0058)\n",
      "Finished training epoch 67\n",
      "Validate: Loss 0.0059 (0.0060)\t\n",
      "Finished validation.\n",
      "Starting training epoch 68\n",
      "Epoch: 68, Loss 0.0055 (0.0058)\n",
      "Finished training epoch 68\n",
      "Validate: Loss 0.0060 (0.0061)\t\n",
      "Finished validation.\n",
      "Starting training epoch 69\n",
      "Epoch: 69, Loss 0.0051 (0.0057)\n",
      "Finished training epoch 69\n",
      "Validate: Loss 0.0060 (0.0062)\t\n",
      "Finished validation.\n",
      "Starting training epoch 70\n",
      "Epoch: 70, Loss 0.0056 (0.0058)\n",
      "Finished training epoch 70\n",
      "Validate: Loss 0.0060 (0.0061)\t\n",
      "Finished validation.\n",
      "Starting training epoch 71\n",
      "Epoch: 71, Loss 0.0065 (0.0057)\n",
      "Finished training epoch 71\n"
     ]
    },
    {
     "name": "stderr",
     "output_type": "stream",
     "text": [
      "/home/konrad/.local/lib/python3.10/site-packages/skimage/_shared/utils.py:394: UserWarning: Color data out of range: Z < 0 in 10 pixels\n",
      "  return func(*args, **kwargs)\n"
     ]
    },
    {
     "name": "stdout",
     "output_type": "stream",
     "text": [
      "Validate: Loss 0.0064 (0.0064)\t\n",
      "Finished validation.\n",
      "Starting training epoch 72\n",
      "Epoch: 72, Loss 0.0063 (0.0057)\n",
      "Finished training epoch 72\n",
      "Validate: Loss 0.0061 (0.0060)\t\n",
      "Finished validation.\n",
      "Starting training epoch 73\n",
      "Epoch: 73, Loss 0.0059 (0.0057)\n",
      "Finished training epoch 73\n",
      "Validate: Loss 0.0063 (0.0067)\t\n",
      "Finished validation.\n",
      "Starting training epoch 74\n",
      "Epoch: 74, Loss 0.0052 (0.0057)\n",
      "Finished training epoch 74\n",
      "Validate: Loss 0.0057 (0.0060)\t\n",
      "Finished validation.\n",
      "Starting training epoch 75\n",
      "Epoch: 75, Loss 0.0058 (0.0057)\n",
      "Finished training epoch 75\n",
      "Validate: Loss 0.0061 (0.0061)\t\n",
      "Finished validation.\n",
      "Starting training epoch 76\n",
      "Epoch: 76, Loss 0.0061 (0.0057)\n",
      "Finished training epoch 76\n",
      "Validate: Loss 0.0065 (0.0064)\t\n",
      "Finished validation.\n",
      "Starting training epoch 77\n",
      "Epoch: 77, Loss 0.0057 (0.0056)\n",
      "Finished training epoch 77\n",
      "Validate: Loss 0.0059 (0.0061)\t\n",
      "Finished validation.\n",
      "Starting training epoch 78\n",
      "Epoch: 78, Loss 0.0059 (0.0056)\n",
      "Finished training epoch 78\n",
      "Validate: Loss 0.0059 (0.0059)\t\n",
      "Finished validation.\n",
      "Starting training epoch 79\n",
      "Epoch: 79, Loss 0.0061 (0.0056)\n",
      "Finished training epoch 79\n",
      "Validate: Loss 0.0063 (0.0063)\t\n",
      "Finished validation.\n",
      "Starting training epoch 80\n",
      "Epoch: 80, Loss 0.0059 (0.0056)\n",
      "Finished training epoch 80\n",
      "Validate: Loss 0.0065 (0.0066)\t\n",
      "Finished validation.\n",
      "Starting training epoch 81\n",
      "Epoch: 81, Loss 0.0056 (0.0056)\n",
      "Finished training epoch 81\n"
     ]
    },
    {
     "name": "stderr",
     "output_type": "stream",
     "text": [
      "/home/konrad/.local/lib/python3.10/site-packages/skimage/_shared/utils.py:394: UserWarning: Color data out of range: Z < 0 in 21 pixels\n",
      "  return func(*args, **kwargs)\n"
     ]
    },
    {
     "name": "stdout",
     "output_type": "stream",
     "text": [
      "Validate: Loss 0.0062 (0.0061)\t\n",
      "Finished validation.\n",
      "Starting training epoch 82\n",
      "Epoch: 82, Loss 0.0060 (0.0055)\n",
      "Finished training epoch 82\n",
      "Validate: Loss 0.0061 (0.0061)\t\n",
      "Finished validation.\n",
      "Starting training epoch 83\n",
      "Epoch: 83, Loss 0.0058 (0.0056)\n",
      "Finished training epoch 83\n",
      "Validate: Loss 0.0065 (0.0063)\t\n",
      "Finished validation.\n",
      "Starting training epoch 84\n",
      "Epoch: 84, Loss 0.0060 (0.0055)\n",
      "Finished training epoch 84\n",
      "Validate: Loss 0.0060 (0.0061)\t\n",
      "Finished validation.\n",
      "Starting training epoch 85\n",
      "Epoch: 85, Loss 0.0054 (0.0055)\n",
      "Finished training epoch 85\n",
      "Validate: Loss 0.0059 (0.0061)\t\n",
      "Finished validation.\n",
      "Starting training epoch 86\n",
      "Epoch: 86, Loss 0.0057 (0.0055)\n",
      "Finished training epoch 86\n",
      "Validate: Loss 0.0062 (0.0060)\t\n",
      "Finished validation.\n",
      "Starting training epoch 87\n",
      "Epoch: 87, Loss 0.0050 (0.0055)\n",
      "Finished training epoch 87\n",
      "Validate: Loss 0.0060 (0.0060)\t\n",
      "Finished validation.\n",
      "Starting training epoch 88\n",
      "Epoch: 88, Loss 0.0058 (0.0055)\n",
      "Finished training epoch 88\n"
     ]
    },
    {
     "name": "stderr",
     "output_type": "stream",
     "text": [
      "/home/konrad/.local/lib/python3.10/site-packages/skimage/_shared/utils.py:394: UserWarning: Color data out of range: Z < 0 in 19 pixels\n",
      "  return func(*args, **kwargs)\n"
     ]
    },
    {
     "name": "stdout",
     "output_type": "stream",
     "text": [
      "Validate: Loss 0.0062 (0.0063)\t\n",
      "Finished validation.\n",
      "Starting training epoch 89\n",
      "Epoch: 89, Loss 0.0058 (0.0054)\n",
      "Finished training epoch 89\n",
      "Validate: Loss 0.0066 (0.0064)\t\n",
      "Finished validation.\n",
      "Starting training epoch 90\n",
      "Epoch: 90, Loss 0.0052 (0.0054)\n",
      "Finished training epoch 90\n",
      "Validate: Loss 0.0058 (0.0060)\t\n",
      "Finished validation.\n",
      "Starting training epoch 91\n",
      "Epoch: 91, Loss 0.0065 (0.0054)\n",
      "Finished training epoch 91\n",
      "Validate: Loss 0.0062 (0.0062)\t\n",
      "Finished validation.\n",
      "Starting training epoch 92\n",
      "Epoch: 92, Loss 0.0060 (0.0055)\n",
      "Finished training epoch 92\n"
     ]
    },
    {
     "name": "stderr",
     "output_type": "stream",
     "text": [
      "/home/konrad/.local/lib/python3.10/site-packages/skimage/_shared/utils.py:394: UserWarning: Color data out of range: Z < 0 in 5 pixels\n",
      "  return func(*args, **kwargs)\n"
     ]
    },
    {
     "name": "stdout",
     "output_type": "stream",
     "text": [
      "Validate: Loss 0.0059 (0.0060)\t\n",
      "Finished validation.\n",
      "Starting training epoch 93\n",
      "Epoch: 93, Loss 0.0051 (0.0054)\n",
      "Finished training epoch 93\n",
      "Validate: Loss 0.0062 (0.0060)\t\n",
      "Finished validation.\n",
      "Starting training epoch 94\n",
      "Epoch: 94, Loss 0.0061 (0.0054)\n",
      "Finished training epoch 94\n"
     ]
    },
    {
     "name": "stderr",
     "output_type": "stream",
     "text": [
      "/home/konrad/.local/lib/python3.10/site-packages/skimage/_shared/utils.py:394: UserWarning: Color data out of range: Z < 0 in 7 pixels\n",
      "  return func(*args, **kwargs)\n"
     ]
    },
    {
     "name": "stdout",
     "output_type": "stream",
     "text": [
      "Validate: Loss 0.0063 (0.0063)\t\n",
      "Finished validation.\n",
      "Starting training epoch 95\n",
      "Epoch: 95, Loss 0.0055 (0.0054)\n",
      "Finished training epoch 95\n",
      "Validate: Loss 0.0059 (0.0059)\t\n",
      "Finished validation.\n",
      "Starting training epoch 96\n",
      "Epoch: 96, Loss 0.0047 (0.0054)\n",
      "Finished training epoch 96\n",
      "Validate: Loss 0.0060 (0.0061)\t\n",
      "Finished validation.\n",
      "Starting training epoch 97\n",
      "Epoch: 97, Loss 0.0053 (0.0054)\n",
      "Finished training epoch 97\n",
      "Validate: Loss 0.0061 (0.0063)\t\n",
      "Finished validation.\n",
      "Starting training epoch 98\n",
      "Epoch: 98, Loss 0.0052 (0.0054)\n",
      "Finished training epoch 98\n",
      "Validate: Loss 0.0059 (0.0060)\t\n",
      "Finished validation.\n",
      "Starting training epoch 99\n",
      "Epoch: 99, Loss 0.0048 (0.0054)\n",
      "Finished training epoch 99\n",
      "Validate: Loss 0.0062 (0.0062)\t\n",
      "Finished validation.\n",
      "Starting training epoch 100\n",
      "Epoch: 100, Loss 0.0055 (0.0053)\n",
      "Finished training epoch 100\n",
      "Validate: Loss 0.0061 (0.0061)\t\n",
      "Finished validation.\n",
      "Starting training epoch 101\n",
      "Epoch: 101, Loss 0.0058 (0.0053)\n",
      "Finished training epoch 101\n",
      "Validate: Loss 0.0061 (0.0060)\t\n",
      "Finished validation.\n",
      "Starting training epoch 102\n",
      "Epoch: 102, Loss 0.0054 (0.0053)\n",
      "Finished training epoch 102\n",
      "Validate: Loss 0.0061 (0.0061)\t\n",
      "Finished validation.\n",
      "Starting training epoch 103\n",
      "Epoch: 103, Loss 0.0055 (0.0053)\n",
      "Finished training epoch 103\n",
      "Validate: Loss 0.0062 (0.0063)\t\n",
      "Finished validation.\n",
      "Starting training epoch 104\n",
      "Epoch: 104, Loss 0.0047 (0.0052)\n",
      "Finished training epoch 104\n",
      "Validate: Loss 0.0058 (0.0059)\t\n",
      "Finished validation.\n",
      "Starting training epoch 105\n",
      "Epoch: 105, Loss 0.0056 (0.0052)\n",
      "Finished training epoch 105\n",
      "Validate: Loss 0.0062 (0.0062)\t\n",
      "Finished validation.\n",
      "Starting training epoch 106\n",
      "Epoch: 106, Loss 0.0048 (0.0052)\n",
      "Finished training epoch 106\n",
      "Validate: Loss 0.0060 (0.0060)\t\n",
      "Finished validation.\n",
      "Starting training epoch 107\n",
      "Epoch: 107, Loss 0.0052 (0.0052)\n",
      "Finished training epoch 107\n"
     ]
    },
    {
     "name": "stderr",
     "output_type": "stream",
     "text": [
      "/home/konrad/.local/lib/python3.10/site-packages/skimage/_shared/utils.py:394: UserWarning: Color data out of range: Z < 0 in 30 pixels\n",
      "  return func(*args, **kwargs)\n"
     ]
    },
    {
     "name": "stdout",
     "output_type": "stream",
     "text": [
      "Validate: Loss 0.0061 (0.0062)\t\n",
      "Finished validation.\n",
      "Starting training epoch 108\n",
      "Epoch: 108, Loss 0.0049 (0.0052)\n",
      "Finished training epoch 108\n",
      "Validate: Loss 0.0061 (0.0061)\t\n",
      "Finished validation.\n",
      "Starting training epoch 109\n",
      "Epoch: 109, Loss 0.0052 (0.0052)\n",
      "Finished training epoch 109\n",
      "Validate: Loss 0.0060 (0.0062)\t\n",
      "Finished validation.\n",
      "Starting training epoch 110\n",
      "Epoch: 110, Loss 0.0053 (0.0052)\n",
      "Finished training epoch 110\n",
      "Validate: Loss 0.0063 (0.0063)\t\n",
      "Finished validation.\n",
      "Starting training epoch 111\n",
      "Epoch: 111, Loss 0.0056 (0.0052)\n",
      "Finished training epoch 111\n",
      "Validate: Loss 0.0060 (0.0061)\t\n",
      "Finished validation.\n",
      "Starting training epoch 112\n",
      "Epoch: 112, Loss 0.0053 (0.0052)\n",
      "Finished training epoch 112\n"
     ]
    },
    {
     "name": "stderr",
     "output_type": "stream",
     "text": [
      "/home/konrad/.local/lib/python3.10/site-packages/skimage/_shared/utils.py:394: UserWarning: Color data out of range: Z < 0 in 20 pixels\n",
      "  return func(*args, **kwargs)\n",
      "/home/konrad/.local/lib/python3.10/site-packages/skimage/_shared/utils.py:394: UserWarning: Color data out of range: Z < 0 in 9 pixels\n",
      "  return func(*args, **kwargs)\n"
     ]
    },
    {
     "name": "stdout",
     "output_type": "stream",
     "text": [
      "Validate: Loss 0.0063 (0.0065)\t\n",
      "Finished validation.\n",
      "Starting training epoch 113\n",
      "Epoch: 113, Loss 0.0051 (0.0052)\n",
      "Finished training epoch 113\n",
      "Validate: Loss 0.0069 (0.0067)\t\n",
      "Finished validation.\n",
      "Starting training epoch 114\n",
      "Epoch: 114, Loss 0.0054 (0.0051)\n",
      "Finished training epoch 114\n",
      "Validate: Loss 0.0062 (0.0062)\t\n",
      "Finished validation.\n",
      "Starting training epoch 115\n",
      "Epoch: 115, Loss 0.0055 (0.0051)\n",
      "Finished training epoch 115\n",
      "Validate: Loss 0.0060 (0.0060)\t\n",
      "Finished validation.\n",
      "Starting training epoch 116\n",
      "Epoch: 116, Loss 0.0056 (0.0051)\n",
      "Finished training epoch 116\n",
      "Validate: Loss 0.0065 (0.0066)\t\n",
      "Finished validation.\n",
      "Starting training epoch 117\n",
      "Epoch: 117, Loss 0.0050 (0.0052)\n",
      "Finished training epoch 117\n"
     ]
    },
    {
     "name": "stderr",
     "output_type": "stream",
     "text": [
      "/home/konrad/.local/lib/python3.10/site-packages/skimage/_shared/utils.py:394: UserWarning: Color data out of range: Z < 0 in 73 pixels\n",
      "  return func(*args, **kwargs)\n",
      "/home/konrad/.local/lib/python3.10/site-packages/skimage/_shared/utils.py:394: UserWarning: Color data out of range: Z < 0 in 11 pixels\n",
      "  return func(*args, **kwargs)\n"
     ]
    },
    {
     "name": "stdout",
     "output_type": "stream",
     "text": [
      "Validate: Loss 0.0068 (0.0067)\t\n",
      "Finished validation.\n",
      "Starting training epoch 118\n",
      "Epoch: 118, Loss 0.0048 (0.0052)\n",
      "Finished training epoch 118\n",
      "Validate: Loss 0.0064 (0.0064)\t\n",
      "Finished validation.\n",
      "Starting training epoch 119\n",
      "Epoch: 119, Loss 0.0048 (0.0051)\n",
      "Finished training epoch 119\n"
     ]
    },
    {
     "name": "stderr",
     "output_type": "stream",
     "text": [
      "/home/konrad/.local/lib/python3.10/site-packages/skimage/_shared/utils.py:394: UserWarning: Color data out of range: Z < 0 in 85 pixels\n",
      "  return func(*args, **kwargs)\n"
     ]
    },
    {
     "name": "stdout",
     "output_type": "stream",
     "text": [
      "Validate: Loss 0.0067 (0.0067)\t\n",
      "Finished validation.\n",
      "Starting training epoch 120\n",
      "Epoch: 120, Loss 0.0048 (0.0051)\n",
      "Finished training epoch 120\n",
      "Validate: Loss 0.0061 (0.0061)\t\n",
      "Finished validation.\n",
      "Starting training epoch 121\n",
      "Epoch: 121, Loss 0.0052 (0.0051)\n",
      "Finished training epoch 121\n",
      "Validate: Loss 0.0062 (0.0062)\t\n",
      "Finished validation.\n",
      "Starting training epoch 122\n",
      "Epoch: 122, Loss 0.0047 (0.0051)\n",
      "Finished training epoch 122\n",
      "Validate: Loss 0.0067 (0.0069)\t\n",
      "Finished validation.\n",
      "Starting training epoch 123\n",
      "Epoch: 123, Loss 0.0053 (0.0050)\n",
      "Finished training epoch 123\n",
      "Validate: Loss 0.0064 (0.0064)\t\n",
      "Finished validation.\n",
      "Starting training epoch 124\n",
      "Epoch: 124, Loss 0.0050 (0.0050)\n",
      "Finished training epoch 124\n",
      "Validate: Loss 0.0060 (0.0059)\t\n",
      "Finished validation.\n",
      "Starting training epoch 125\n",
      "Epoch: 125, Loss 0.0054 (0.0051)\n",
      "Finished training epoch 125\n"
     ]
    },
    {
     "name": "stderr",
     "output_type": "stream",
     "text": [
      "/home/konrad/.local/lib/python3.10/site-packages/skimage/_shared/utils.py:394: UserWarning: Color data out of range: Z < 0 in 79 pixels\n",
      "  return func(*args, **kwargs)\n"
     ]
    },
    {
     "name": "stdout",
     "output_type": "stream",
     "text": [
      "Validate: Loss 0.0066 (0.0067)\t\n",
      "Finished validation.\n",
      "Starting training epoch 126\n",
      "Epoch: 126, Loss 0.0045 (0.0050)\n",
      "Finished training epoch 126\n"
     ]
    },
    {
     "name": "stderr",
     "output_type": "stream",
     "text": [
      "/home/konrad/.local/lib/python3.10/site-packages/skimage/_shared/utils.py:394: UserWarning: Color data out of range: Z < 0 in 35 pixels\n",
      "  return func(*args, **kwargs)\n"
     ]
    },
    {
     "name": "stdout",
     "output_type": "stream",
     "text": [
      "Validate: Loss 0.0066 (0.0064)\t\n",
      "Finished validation.\n",
      "Starting training epoch 127\n",
      "Epoch: 127, Loss 0.0051 (0.0051)\n",
      "Finished training epoch 127\n",
      "Validate: Loss 0.0065 (0.0066)\t\n",
      "Finished validation.\n",
      "Starting training epoch 128\n",
      "Epoch: 128, Loss 0.0052 (0.0050)\n",
      "Finished training epoch 128\n",
      "Validate: Loss 0.0064 (0.0066)\t\n",
      "Finished validation.\n",
      "Starting training epoch 129\n",
      "Epoch: 129, Loss 0.0060 (0.0050)\n",
      "Finished training epoch 129\n",
      "Validate: Loss 0.0062 (0.0062)\t\n",
      "Finished validation.\n",
      "Starting training epoch 130\n",
      "Epoch: 130, Loss 0.0053 (0.0050)\n",
      "Finished training epoch 130\n",
      "Validate: Loss 0.0061 (0.0061)\t\n",
      "Finished validation.\n",
      "Starting training epoch 131\n",
      "Epoch: 131, Loss 0.0054 (0.0050)\n",
      "Finished training epoch 131\n",
      "Validate: Loss 0.0060 (0.0061)\t\n",
      "Finished validation.\n",
      "Starting training epoch 132\n",
      "Epoch: 132, Loss 0.0051 (0.0050)\n",
      "Finished training epoch 132\n",
      "Validate: Loss 0.0061 (0.0061)\t\n",
      "Finished validation.\n",
      "Starting training epoch 133\n",
      "Epoch: 133, Loss 0.0057 (0.0050)\n",
      "Finished training epoch 133\n",
      "Validate: Loss 0.0061 (0.0061)\t\n",
      "Finished validation.\n",
      "Starting training epoch 134\n",
      "Epoch: 134, Loss 0.0049 (0.0050)\n",
      "Finished training epoch 134\n",
      "Validate: Loss 0.0060 (0.0061)\t\n",
      "Finished validation.\n",
      "Starting training epoch 135\n",
      "Epoch: 135, Loss 0.0048 (0.0050)\n",
      "Finished training epoch 135\n",
      "Validate: Loss 0.0061 (0.0062)\t\n",
      "Finished validation.\n",
      "Starting training epoch 136\n",
      "Epoch: 136, Loss 0.0050 (0.0049)\n",
      "Finished training epoch 136\n",
      "Validate: Loss 0.0059 (0.0060)\t\n",
      "Finished validation.\n",
      "Starting training epoch 137\n",
      "Epoch: 137, Loss 0.0045 (0.0049)\n",
      "Finished training epoch 137\n"
     ]
    },
    {
     "name": "stderr",
     "output_type": "stream",
     "text": [
      "/home/konrad/.local/lib/python3.10/site-packages/skimage/_shared/utils.py:394: UserWarning: Color data out of range: Z < 0 in 50 pixels\n",
      "  return func(*args, **kwargs)\n"
     ]
    },
    {
     "name": "stdout",
     "output_type": "stream",
     "text": [
      "Validate: Loss 0.0068 (0.0071)\t\n",
      "Finished validation.\n",
      "Starting training epoch 138\n",
      "Epoch: 138, Loss 0.0053 (0.0049)\n",
      "Finished training epoch 138\n",
      "Validate: Loss 0.0060 (0.0062)\t\n",
      "Finished validation.\n",
      "Starting training epoch 139\n",
      "Epoch: 139, Loss 0.0057 (0.0049)\n",
      "Finished training epoch 139\n",
      "Validate: Loss 0.0061 (0.0061)\t\n",
      "Finished validation.\n",
      "Starting training epoch 140\n",
      "Epoch: 140, Loss 0.0052 (0.0049)\n",
      "Finished training epoch 140\n"
     ]
    },
    {
     "name": "stderr",
     "output_type": "stream",
     "text": [
      "/home/konrad/.local/lib/python3.10/site-packages/skimage/_shared/utils.py:394: UserWarning: Color data out of range: Z < 0 in 28 pixels\n",
      "  return func(*args, **kwargs)\n",
      "/home/konrad/.local/lib/python3.10/site-packages/skimage/_shared/utils.py:394: UserWarning: Color data out of range: Z < 0 in 296 pixels\n",
      "  return func(*args, **kwargs)\n"
     ]
    },
    {
     "name": "stdout",
     "output_type": "stream",
     "text": [
      "Validate: Loss 0.0065 (0.0065)\t\n",
      "Finished validation.\n",
      "Starting training epoch 141\n",
      "Epoch: 141, Loss 0.0045 (0.0050)\n",
      "Finished training epoch 141\n",
      "Validate: Loss 0.0066 (0.0063)\t\n",
      "Finished validation.\n",
      "Starting training epoch 142\n",
      "Epoch: 142, Loss 0.0053 (0.0050)\n",
      "Finished training epoch 142\n",
      "Validate: Loss 0.0061 (0.0063)\t\n",
      "Finished validation.\n",
      "Starting training epoch 143\n",
      "Epoch: 143, Loss 0.0044 (0.0049)\n",
      "Finished training epoch 143\n",
      "Validate: Loss 0.0059 (0.0063)\t\n",
      "Finished validation.\n",
      "Starting training epoch 144\n",
      "Epoch: 144, Loss 0.0054 (0.0049)\n",
      "Finished training epoch 144\n",
      "Validate: Loss 0.0062 (0.0063)\t\n",
      "Finished validation.\n",
      "Starting training epoch 145\n",
      "Epoch: 145, Loss 0.0046 (0.0049)\n",
      "Finished training epoch 145\n",
      "Validate: Loss 0.0062 (0.0063)\t\n",
      "Finished validation.\n",
      "Starting training epoch 146\n",
      "Epoch: 146, Loss 0.0048 (0.0049)\n",
      "Finished training epoch 146\n",
      "Validate: Loss 0.0060 (0.0062)\t\n",
      "Finished validation.\n",
      "Starting training epoch 147\n",
      "Epoch: 147, Loss 0.0043 (0.0049)\n",
      "Finished training epoch 147\n",
      "Validate: Loss 0.0061 (0.0061)\t\n",
      "Finished validation.\n",
      "Starting training epoch 148\n",
      "Epoch: 148, Loss 0.0049 (0.0048)\n",
      "Finished training epoch 148\n",
      "Validate: Loss 0.0060 (0.0063)\t\n",
      "Finished validation.\n",
      "Starting training epoch 149\n",
      "Epoch: 149, Loss 0.0046 (0.0049)\n",
      "Finished training epoch 149\n",
      "Validate: Loss 0.0061 (0.0061)\t\n",
      "Finished validation.\n",
      "Starting training epoch 150\n",
      "Epoch: 150, Loss 0.0050 (0.0049)\n",
      "Finished training epoch 150\n"
     ]
    },
    {
     "name": "stderr",
     "output_type": "stream",
     "text": [
      "/home/konrad/.local/lib/python3.10/site-packages/skimage/_shared/utils.py:394: UserWarning: Color data out of range: Z < 0 in 99 pixels\n",
      "  return func(*args, **kwargs)\n"
     ]
    },
    {
     "name": "stdout",
     "output_type": "stream",
     "text": [
      "Validate: Loss 0.0071 (0.0069)\t\n",
      "Finished validation.\n",
      "Starting training epoch 151\n",
      "Epoch: 151, Loss 0.0043 (0.0049)\n",
      "Finished training epoch 151\n",
      "Validate: Loss 0.0059 (0.0063)\t\n",
      "Finished validation.\n",
      "Starting training epoch 152\n",
      "Epoch: 152, Loss 0.0055 (0.0049)\n",
      "Finished training epoch 152\n",
      "Validate: Loss 0.0062 (0.0064)\t\n",
      "Finished validation.\n",
      "Starting training epoch 153\n",
      "Epoch: 153, Loss 0.0050 (0.0049)\n",
      "Finished training epoch 153\n",
      "Validate: Loss 0.0060 (0.0062)\t\n",
      "Finished validation.\n",
      "Starting training epoch 154\n",
      "Epoch: 154, Loss 0.0051 (0.0048)\n",
      "Finished training epoch 154\n",
      "Validate: Loss 0.0060 (0.0063)\t\n",
      "Finished validation.\n",
      "Starting training epoch 155\n",
      "Epoch: 155, Loss 0.0051 (0.0048)\n",
      "Finished training epoch 155\n",
      "Validate: Loss 0.0060 (0.0060)\t\n",
      "Finished validation.\n",
      "Starting training epoch 156\n",
      "Epoch: 156, Loss 0.0049 (0.0050)\n",
      "Finished training epoch 156\n",
      "Validate: Loss 0.0064 (0.0065)\t\n",
      "Finished validation.\n",
      "Starting training epoch 157\n",
      "Epoch: 157, Loss 0.0050 (0.0049)\n",
      "Finished training epoch 157\n",
      "Validate: Loss 0.0057 (0.0060)\t\n",
      "Finished validation.\n",
      "Starting training epoch 158\n",
      "Epoch: 158, Loss 0.0051 (0.0048)\n",
      "Finished training epoch 158\n",
      "Validate: Loss 0.0059 (0.0062)\t\n",
      "Finished validation.\n",
      "Starting training epoch 159\n",
      "Epoch: 159, Loss 0.0048 (0.0048)\n",
      "Finished training epoch 159\n",
      "Validate: Loss 0.0062 (0.0063)\t\n",
      "Finished validation.\n",
      "Starting training epoch 160\n",
      "Epoch: 160, Loss 0.0047 (0.0049)\n",
      "Finished training epoch 160\n"
     ]
    },
    {
     "name": "stderr",
     "output_type": "stream",
     "text": [
      "/home/konrad/.local/lib/python3.10/site-packages/skimage/_shared/utils.py:394: UserWarning: Color data out of range: Z < 0 in 108 pixels\n",
      "  return func(*args, **kwargs)\n"
     ]
    },
    {
     "name": "stdout",
     "output_type": "stream",
     "text": [
      "Validate: Loss 0.0059 (0.0062)\t\n",
      "Finished validation.\n",
      "Starting training epoch 161\n",
      "Epoch: 161, Loss 0.0047 (0.0048)\n",
      "Finished training epoch 161\n",
      "Validate: Loss 0.0060 (0.0062)\t\n",
      "Finished validation.\n",
      "Starting training epoch 162\n",
      "Epoch: 162, Loss 0.0049 (0.0048)\n",
      "Finished training epoch 162\n",
      "Validate: Loss 0.0062 (0.0062)\t\n",
      "Finished validation.\n",
      "Starting training epoch 163\n",
      "Epoch: 163, Loss 0.0049 (0.0048)\n",
      "Finished training epoch 163\n",
      "Validate: Loss 0.0060 (0.0061)\t\n",
      "Finished validation.\n",
      "Starting training epoch 164\n",
      "Epoch: 164, Loss 0.0045 (0.0048)\n",
      "Finished training epoch 164\n",
      "Validate: Loss 0.0062 (0.0064)\t\n",
      "Finished validation.\n",
      "Starting training epoch 165\n",
      "Epoch: 165, Loss 0.0047 (0.0048)\n",
      "Finished training epoch 165\n",
      "Validate: Loss 0.0060 (0.0063)\t\n",
      "Finished validation.\n",
      "Starting training epoch 166\n",
      "Epoch: 166, Loss 0.0050 (0.0048)\n",
      "Finished training epoch 166\n"
     ]
    },
    {
     "name": "stderr",
     "output_type": "stream",
     "text": [
      "/home/konrad/.local/lib/python3.10/site-packages/skimage/_shared/utils.py:394: UserWarning: Color data out of range: Z < 0 in 94 pixels\n",
      "  return func(*args, **kwargs)\n"
     ]
    },
    {
     "name": "stdout",
     "output_type": "stream",
     "text": [
      "Validate: Loss 0.0062 (0.0063)\t\n",
      "Finished validation.\n",
      "Starting training epoch 167\n",
      "Epoch: 167, Loss 0.0049 (0.0048)\n",
      "Finished training epoch 167\n",
      "Validate: Loss 0.0061 (0.0063)\t\n",
      "Finished validation.\n",
      "Starting training epoch 168\n",
      "Epoch: 168, Loss 0.0050 (0.0048)\n",
      "Finished training epoch 168\n"
     ]
    },
    {
     "name": "stderr",
     "output_type": "stream",
     "text": [
      "/home/konrad/.local/lib/python3.10/site-packages/skimage/_shared/utils.py:394: UserWarning: Color data out of range: Z < 0 in 14 pixels\n",
      "  return func(*args, **kwargs)\n"
     ]
    },
    {
     "name": "stdout",
     "output_type": "stream",
     "text": [
      "Validate: Loss 0.0065 (0.0063)\t\n",
      "Finished validation.\n",
      "Starting training epoch 169\n",
      "Epoch: 169, Loss 0.0052 (0.0048)\n",
      "Finished training epoch 169\n",
      "Validate: Loss 0.0059 (0.0060)\t\n",
      "Finished validation.\n",
      "Starting training epoch 170\n",
      "Epoch: 170, Loss 0.0046 (0.0048)\n",
      "Finished training epoch 170\n",
      "Validate: Loss 0.0065 (0.0066)\t\n",
      "Finished validation.\n",
      "Starting training epoch 171\n",
      "Epoch: 171, Loss 0.0047 (0.0047)\n",
      "Finished training epoch 171\n",
      "Validate: Loss 0.0067 (0.0065)\t\n",
      "Finished validation.\n",
      "Starting training epoch 172\n",
      "Epoch: 172, Loss 0.0045 (0.0048)\n",
      "Finished training epoch 172\n"
     ]
    },
    {
     "name": "stderr",
     "output_type": "stream",
     "text": [
      "/home/konrad/.local/lib/python3.10/site-packages/skimage/_shared/utils.py:394: UserWarning: Color data out of range: Z < 0 in 37 pixels\n",
      "  return func(*args, **kwargs)\n"
     ]
    },
    {
     "name": "stdout",
     "output_type": "stream",
     "text": [
      "Validate: Loss 0.0063 (0.0064)\t\n",
      "Finished validation.\n",
      "Starting training epoch 173\n",
      "Epoch: 173, Loss 0.0042 (0.0048)\n",
      "Finished training epoch 173\n"
     ]
    },
    {
     "name": "stderr",
     "output_type": "stream",
     "text": [
      "/home/konrad/.local/lib/python3.10/site-packages/skimage/_shared/utils.py:394: UserWarning: Color data out of range: Z < 0 in 24 pixels\n",
      "  return func(*args, **kwargs)\n"
     ]
    },
    {
     "name": "stdout",
     "output_type": "stream",
     "text": [
      "Validate: Loss 0.0059 (0.0061)\t\n",
      "Finished validation.\n",
      "Starting training epoch 174\n",
      "Epoch: 174, Loss 0.0047 (0.0048)\n",
      "Finished training epoch 174\n"
     ]
    },
    {
     "name": "stderr",
     "output_type": "stream",
     "text": [
      "/home/konrad/.local/lib/python3.10/site-packages/skimage/_shared/utils.py:394: UserWarning: Color data out of range: Z < 0 in 58 pixels\n",
      "  return func(*args, **kwargs)\n"
     ]
    },
    {
     "name": "stdout",
     "output_type": "stream",
     "text": [
      "Validate: Loss 0.0060 (0.0062)\t\n",
      "Finished validation.\n",
      "Starting training epoch 175\n",
      "Epoch: 175, Loss 0.0046 (0.0047)\n",
      "Finished training epoch 175\n"
     ]
    },
    {
     "name": "stderr",
     "output_type": "stream",
     "text": [
      "/home/konrad/.local/lib/python3.10/site-packages/skimage/_shared/utils.py:394: UserWarning: Color data out of range: Z < 0 in 93 pixels\n",
      "  return func(*args, **kwargs)\n"
     ]
    },
    {
     "name": "stdout",
     "output_type": "stream",
     "text": [
      "Validate: Loss 0.0063 (0.0063)\t\n",
      "Finished validation.\n",
      "Starting training epoch 176\n",
      "Epoch: 176, Loss 0.0043 (0.0048)\n",
      "Finished training epoch 176\n"
     ]
    },
    {
     "name": "stderr",
     "output_type": "stream",
     "text": [
      "/home/konrad/.local/lib/python3.10/site-packages/skimage/_shared/utils.py:394: UserWarning: Color data out of range: Z < 0 in 22 pixels\n",
      "  return func(*args, **kwargs)\n"
     ]
    },
    {
     "name": "stdout",
     "output_type": "stream",
     "text": [
      "Validate: Loss 0.0062 (0.0065)\t\n",
      "Finished validation.\n",
      "Starting training epoch 177\n",
      "Epoch: 177, Loss 0.0051 (0.0047)\n",
      "Finished training epoch 177\n",
      "Validate: Loss 0.0062 (0.0063)\t\n",
      "Finished validation.\n",
      "Starting training epoch 178\n",
      "Epoch: 178, Loss 0.0051 (0.0047)\n",
      "Finished training epoch 178\n"
     ]
    },
    {
     "name": "stderr",
     "output_type": "stream",
     "text": [
      "/home/konrad/.local/lib/python3.10/site-packages/skimage/_shared/utils.py:394: UserWarning: Color data out of range: Z < 0 in 51 pixels\n",
      "  return func(*args, **kwargs)\n"
     ]
    },
    {
     "name": "stdout",
     "output_type": "stream",
     "text": [
      "Validate: Loss 0.0063 (0.0063)\t\n",
      "Finished validation.\n",
      "Starting training epoch 179\n",
      "Epoch: 179, Loss 0.0049 (0.0047)\n",
      "Finished training epoch 179\n",
      "Validate: Loss 0.0062 (0.0064)\t\n",
      "Finished validation.\n",
      "Starting training epoch 180\n",
      "Epoch: 180, Loss 0.0042 (0.0047)\n",
      "Finished training epoch 180\n",
      "Validate: Loss 0.0067 (0.0070)\t\n",
      "Finished validation.\n",
      "Starting training epoch 181\n",
      "Epoch: 181, Loss 0.0041 (0.0047)\n",
      "Finished training epoch 181\n",
      "Validate: Loss 0.0060 (0.0062)\t\n",
      "Finished validation.\n",
      "Starting training epoch 182\n",
      "Epoch: 182, Loss 0.0048 (0.0047)\n",
      "Finished training epoch 182\n",
      "Validate: Loss 0.0060 (0.0062)\t\n",
      "Finished validation.\n",
      "Starting training epoch 183\n",
      "Epoch: 183, Loss 0.0055 (0.0047)\n",
      "Finished training epoch 183\n",
      "Validate: Loss 0.0065 (0.0066)\t\n",
      "Finished validation.\n",
      "Starting training epoch 184\n",
      "Epoch: 184, Loss 0.0049 (0.0047)\n",
      "Finished training epoch 184\n",
      "Validate: Loss 0.0061 (0.0062)\t\n",
      "Finished validation.\n",
      "Starting training epoch 185\n",
      "Epoch: 185, Loss 0.0049 (0.0047)\n",
      "Finished training epoch 185\n",
      "Validate: Loss 0.0061 (0.0062)\t\n",
      "Finished validation.\n",
      "Starting training epoch 186\n",
      "Epoch: 186, Loss 0.0046 (0.0047)\n",
      "Finished training epoch 186\n",
      "Validate: Loss 0.0059 (0.0062)\t\n",
      "Finished validation.\n",
      "Starting training epoch 187\n",
      "Epoch: 187, Loss 0.0050 (0.0047)\n",
      "Finished training epoch 187\n",
      "Validate: Loss 0.0067 (0.0066)\t\n",
      "Finished validation.\n",
      "Starting training epoch 188\n",
      "Epoch: 188, Loss 0.0042 (0.0047)\n",
      "Finished training epoch 188\n",
      "Validate: Loss 0.0062 (0.0064)\t\n",
      "Finished validation.\n",
      "Starting training epoch 189\n",
      "Epoch: 189, Loss 0.0043 (0.0047)\n",
      "Finished training epoch 189\n",
      "Validate: Loss 0.0059 (0.0063)\t\n",
      "Finished validation.\n",
      "Starting training epoch 190\n",
      "Epoch: 190, Loss 0.0047 (0.0048)\n",
      "Finished training epoch 190\n",
      "Validate: Loss 0.0063 (0.0066)\t\n",
      "Finished validation.\n",
      "Starting training epoch 191\n",
      "Epoch: 191, Loss 0.0050 (0.0047)\n",
      "Finished training epoch 191\n",
      "Validate: Loss 0.0062 (0.0064)\t\n",
      "Finished validation.\n",
      "Starting training epoch 192\n",
      "Epoch: 192, Loss 0.0047 (0.0047)\n",
      "Finished training epoch 192\n",
      "Validate: Loss 0.0065 (0.0066)\t\n",
      "Finished validation.\n",
      "Starting training epoch 193\n",
      "Epoch: 193, Loss 0.0040 (0.0047)\n",
      "Finished training epoch 193\n",
      "Validate: Loss 0.0061 (0.0063)\t\n",
      "Finished validation.\n",
      "Starting training epoch 194\n",
      "Epoch: 194, Loss 0.0048 (0.0047)\n",
      "Finished training epoch 194\n",
      "Validate: Loss 0.0064 (0.0064)\t\n",
      "Finished validation.\n",
      "Starting training epoch 195\n",
      "Epoch: 195, Loss 0.0051 (0.0047)\n",
      "Finished training epoch 195\n",
      "Validate: Loss 0.0062 (0.0064)\t\n",
      "Finished validation.\n",
      "Starting training epoch 196\n",
      "Epoch: 196, Loss 0.0048 (0.0047)\n",
      "Finished training epoch 196\n"
     ]
    },
    {
     "name": "stderr",
     "output_type": "stream",
     "text": [
      "/home/konrad/.local/lib/python3.10/site-packages/skimage/_shared/utils.py:394: UserWarning: Color data out of range: Z < 0 in 54 pixels\n",
      "  return func(*args, **kwargs)\n"
     ]
    },
    {
     "name": "stdout",
     "output_type": "stream",
     "text": [
      "Validate: Loss 0.0059 (0.0062)\t\n",
      "Finished validation.\n",
      "Starting training epoch 197\n",
      "Epoch: 197, Loss 0.0046 (0.0047)\n",
      "Finished training epoch 197\n",
      "Validate: Loss 0.0063 (0.0064)\t\n",
      "Finished validation.\n",
      "Starting training epoch 198\n",
      "Epoch: 198, Loss 0.0047 (0.0047)\n",
      "Finished training epoch 198\n",
      "Validate: Loss 0.0058 (0.0062)\t\n",
      "Finished validation.\n",
      "Starting training epoch 199\n",
      "Epoch: 199, Loss 0.0046 (0.0047)\n",
      "Finished training epoch 199\n",
      "Validate: Loss 0.0059 (0.0064)\t\n",
      "Finished validation.\n"
     ]
    },
    {
     "data": {
      "text/plain": [
       "<Figure size 432x288 with 0 Axes>"
      ]
     },
     "metadata": {},
     "output_type": "display_data"
    }
   ],
   "source": [
    "# Train model\n",
    "for epoch in range(epochs):\n",
    "    # Train for one epoch, then validate\n",
    "    train(train_loader, model, criterion, optimizer, epoch)\n",
    "    with torch.no_grad():\n",
    "        losses = validate(val_loader, model, criterion, save_images, epoch)\n",
    "    # Save checkpoint and replace old best model if current model is better\n",
    "    if losses < best_losses:\n",
    "        best_losses = losses\n",
    "        torch.save(model.state_dict(), '{}/model-epoch-{}-losses-{:.3f}.pth'.format(checkpoints,epoch+1,losses))"
   ]
  },
  {
   "cell_type": "code",
   "execution_count": null,
   "metadata": {
    "id": "IIsL343mAkTS"
   },
   "outputs": [],
   "source": [
    "# Load model\n",
    "best_epoch = 44\n",
    "pretrained = torch.load(f'{checkpoints}/model-epoch-{best_epoch}-losses-0.002.pth', map_location=lambda storage, loc: storage)\n",
    "model.load_state_dict(pretrained)"
   ]
  },
  {
   "cell_type": "code",
   "execution_count": null,
   "metadata": {
    "colab": {
     "base_uri": "https://localhost:8080/",
     "height": 1593
    },
    "id": "UcovGnpHMl9D",
    "outputId": "90b7a2b4-dc03-4862-cf02-c7ddbbb7e500"
   },
   "outputs": [],
   "source": [
    "# Validate\n",
    "save_images = True\n",
    "with torch.no_grad():\n",
    "  validate(val_loader, model, criterion, save_images, 44)"
   ]
  },
  {
   "cell_type": "code",
   "execution_count": null,
   "metadata": {},
   "outputs": [],
   "source": [
    "# Show images \n",
    "image_pairs = []\n",
    "\n",
    "for i in range(10):\n",
    "    image_pairs.append((f'{color_imgs}img-{i}-epoch-{best_epoch}.jpg', f'{gray_imgs}img-{i}-epoch-{best_epoch}.jpg'))\n",
    "    \n",
    "for c, g in image_pairs:\n",
    "  color = mpimg.imread(c)\n",
    "  gray  = mpimg.imread(g)\n",
    "  f, axarr = plt.subplots(1, 2)\n",
    "  f.set_size_inches(15, 15)\n",
    "  axarr[0].imshow(gray, cmap='gray')\n",
    "  axarr[1].imshow(color)\n",
    "  axarr[0].axis('off'), axarr[1].axis('off')\n",
    "  plt.show()"
   ]
  },
  {
   "cell_type": "code",
   "execution_count": null,
   "metadata": {},
   "outputs": [],
   "source": []
  }
 ],
 "metadata": {
  "accelerator": "GPU",
  "colab": {
   "provenance": []
  },
  "kernelspec": {
   "display_name": "Python 3 (ipykernel)",
   "language": "python",
   "name": "python3"
  },
  "language_info": {
   "codemirror_mode": {
    "name": "ipython",
    "version": 3
   },
   "file_extension": ".py",
   "mimetype": "text/x-python",
   "name": "python",
   "nbconvert_exporter": "python",
   "pygments_lexer": "ipython3",
   "version": "3.10.6"
  }
 },
 "nbformat": 4,
 "nbformat_minor": 4
}
