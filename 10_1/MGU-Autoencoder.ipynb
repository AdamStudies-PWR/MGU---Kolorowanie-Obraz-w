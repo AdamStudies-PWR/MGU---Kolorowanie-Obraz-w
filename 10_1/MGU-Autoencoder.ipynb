{
 "cells": [
  {
   "cell_type": "code",
   "execution_count": 1,
   "metadata": {
    "id": "J_Y9UFYhKbuE"
   },
   "outputs": [],
   "source": [
    "# For plotting\n",
    "import numpy as np\n",
    "import matplotlib.pyplot as plt\n",
    "import matplotlib.image as mpimg\n",
    "%matplotlib inline\n",
    "# For conversion\n",
    "from skimage.color import lab2rgb, rgb2lab, rgb2gray\n",
    "from skimage import io\n",
    "# For everything\n",
    "import torch\n",
    "import torch.nn as nn\n",
    "import torch.nn.functional as F\n",
    "# For our model\n",
    "import torchvision\n",
    "import torchvision.models as models\n",
    "from torchvision import datasets, transforms\n",
    "from torchmetrics import MeanSquaredError, PeakSignalNoiseRatio, StructuralSimilarityIndexMeasure\n",
    "from PIL import Image\n",
    "# For utilities\n",
    "import os, shutil, time"
   ]
  },
  {
   "cell_type": "code",
   "execution_count": 2,
   "metadata": {},
   "outputs": [
    {
     "data": {
      "text/html": [
       "\n",
       "      <iframe id=\"tensorboard-frame-97b894e64badf947\" width=\"100%\" height=\"800\" frameborder=\"0\">\n",
       "      </iframe>\n",
       "      <script>\n",
       "        (function() {\n",
       "          const frame = document.getElementById(\"tensorboard-frame-97b894e64badf947\");\n",
       "          const url = new URL(\"/\", window.location);\n",
       "          const port = 6007;\n",
       "          if (port) {\n",
       "            url.port = port;\n",
       "          }\n",
       "          frame.src = url;\n",
       "        })();\n",
       "      </script>\n",
       "    "
      ],
      "text/plain": [
       "<IPython.core.display.HTML object>"
      ]
     },
     "metadata": {},
     "output_type": "display_data"
    }
   ],
   "source": [
    "%load_ext tensorboard\n",
    "%tensorboard --logdir=runs"
   ]
  },
  {
   "cell_type": "code",
   "execution_count": 3,
   "metadata": {},
   "outputs": [],
   "source": [
    "from torch.utils.tensorboard import SummaryWriter\n",
    "writer = SummaryWriter()"
   ]
  },
  {
   "cell_type": "code",
   "execution_count": 4,
   "metadata": {
    "id": "gMolrzKA_1uJ"
   },
   "outputs": [
    {
     "name": "stdout",
     "output_type": "stream",
     "text": [
      "True\n"
     ]
    }
   ],
   "source": [
    "# Check if GPU is available\n",
    "use_gpu = torch.cuda.is_available()\n",
    "print(use_gpu)"
   ]
  },
  {
   "cell_type": "code",
   "execution_count": 5,
   "metadata": {
    "id": "05NviQfzU2Mv"
   },
   "outputs": [],
   "source": [
    "SIZE = 32\n",
    "class LabImageFolder(torch.utils.data.Dataset):\n",
    "    def __init__(self, paths, split='train'):\n",
    "        if split == 'train':\n",
    "            self.transforms = transforms.Compose([\n",
    "                transforms.Resize((SIZE, SIZE), transforms.InterpolationMode.BICUBIC),\n",
    "                transforms.RandomCrop(SIZE),\n",
    "                transforms.RandomHorizontalFlip(), \n",
    "            ])\n",
    "        elif split == 'val':\n",
    "            self.transforms = transforms.Compose([\n",
    "                transforms.Resize((SIZE, SIZE), transforms.InterpolationMode.BICUBIC), \n",
    "                transforms.RandomCrop(SIZE),\n",
    "            ])\n",
    "            \n",
    "        self.split = split\n",
    "        self.size = SIZE\n",
    "        self.paths = [os.path.join(paths, file) for file in os.listdir(paths) if os.path.isfile(\n",
    "            os.path.join(paths, file))]\n",
    "        \n",
    "        \n",
    "    def __getitem__(self, index):\n",
    "        img = Image.open(self.paths[index]).convert(\"RGB\")\n",
    "        img_original = self.transforms(img)\n",
    "        img_original = np.asarray(img_original)\n",
    "        img_lab = rgb2lab(img_original)\n",
    "        img_lab = (img_lab + 128) / 255\n",
    "        img_ab = img_lab[:, :, 1:3]\n",
    "        img_ab = torch.from_numpy(img_ab.transpose((2, 0, 1))).float()\n",
    "        img_gray = rgb2gray(img_original)\n",
    "        img_gray = torch.from_numpy(img_gray).unsqueeze(0).float()\n",
    "        return img_gray, img_ab\n",
    "    \n",
    "    def __len__(self):\n",
    "        return len(self.paths)"
   ]
  },
  {
   "cell_type": "code",
   "execution_count": 6,
   "metadata": {},
   "outputs": [],
   "source": [
    "# Training\n",
    "batch_size = 128\n",
    "train_imagefolder = LabImageFolder('../../datasets/cifar10/train')\n",
    "train_loader = torch.utils.data.DataLoader(train_imagefolder, batch_size=batch_size, shuffle=True)\n",
    "# Validation \n",
    "val_imagefolder = LabImageFolder('../../datasets/cifar10/val' , 'val')\n",
    "val_loader = torch.utils.data.DataLoader(val_imagefolder, batch_size=batch_size, shuffle=False)"
   ]
  },
  {
   "cell_type": "code",
   "execution_count": 7,
   "metadata": {
    "id": "NOQfP1feNkfS"
   },
   "outputs": [],
   "source": [
    "kernel_size=3\n",
    "stride_en=2\n",
    "stride_de=1\n",
    "padding=1\n",
    "scale_factor=2\n",
    "padding_mode='zeros'\n",
    "\n",
    "\n",
    "class Autoencoder(nn.Module):\n",
    "    def __init__(self):\n",
    "        super(Autoencoder, self).__init__()\n",
    "\n",
    "        self.conv1 = nn.Conv2d(1, 16, kernel_size=kernel_size, stride=stride_en, padding=padding, padding_mode=padding_mode)\n",
    "        self.conv2 = nn.Conv2d(16, 32, kernel_size=kernel_size, stride=stride_en, padding=padding, padding_mode=padding_mode)\n",
    "        self.conv3 = nn.Conv2d(32, 64, kernel_size=kernel_size, stride=stride_en, padding=padding, padding_mode=padding_mode)\n",
    "        \n",
    "        self.convtrans1 = nn.ConvTranspose2d(64, 32, kernel_size=kernel_size, stride=stride_de, padding=padding, padding_mode=padding_mode)\n",
    "        self.convtrans2 = nn.ConvTranspose2d(32, 16, kernel_size=kernel_size, stride=stride_de, padding=padding, padding_mode=padding_mode)\n",
    "        self.convtrans3 = nn.ConvTranspose2d(16, 8, kernel_size=kernel_size, stride=stride_de, padding=padding, padding_mode=padding_mode)\n",
    "        self.convtrans4 = nn.ConvTranspose2d(8, 2, kernel_size=kernel_size, stride=stride_de, padding=padding, padding_mode=padding_mode)\n",
    "\n",
    "        self.batchnorm8 = nn.BatchNorm2d(8)\n",
    "        self.batchnorm16 = nn.BatchNorm2d(16)\n",
    "        self.batchnorm32 = nn.BatchNorm2d(32)\n",
    "        self.batchnorm64 = nn.BatchNorm2d(64)\n",
    "        \n",
    "        \n",
    "    def forward(self, input):\n",
    "        # encoder\n",
    "        x = F.relu(self.batchnorm16(self.conv1(input)))\n",
    "        x = F.relu(self.batchnorm32(self.conv2(x)))\n",
    "        x = F.relu(self.batchnorm64(self.conv3(x)))\n",
    "        \n",
    "        # decoder\n",
    "        x = F.relu(self.batchnorm32(self.convtrans1(x)))\n",
    "        x = F.interpolate(x, scale_factor=scale_factor)\n",
    "        x = F.relu(self.batchnorm16(self.convtrans2(x)))\n",
    "        x = F.interpolate(x, scale_factor=scale_factor)\n",
    "        x = F.relu(self.batchnorm8(self.convtrans3(x)))\n",
    "        x = F.interpolate(self.convtrans4(x), scale_factor=scale_factor)\n",
    "\n",
    "        return x"
   ]
  },
  {
   "cell_type": "code",
   "execution_count": 8,
   "metadata": {
    "id": "OtRkAkIjTeq1"
   },
   "outputs": [],
   "source": [
    "model = Autoencoder()"
   ]
  },
  {
   "cell_type": "code",
   "execution_count": 9,
   "metadata": {},
   "outputs": [],
   "source": [
    "criterion = [MeanSquaredError(), PeakSignalNoiseRatio(data_range=1.0), StructuralSimilarityIndexMeasure(data_range=1.0)]"
   ]
  },
  {
   "cell_type": "code",
   "execution_count": 10,
   "metadata": {
    "id": "j3YZ3977TTl4"
   },
   "outputs": [],
   "source": [
    "optimizer = torch.optim.Adam(model.parameters(), lr=1e-2)"
   ]
  },
  {
   "cell_type": "code",
   "execution_count": 11,
   "metadata": {
    "id": "eeHK3BUtANrw"
   },
   "outputs": [],
   "source": [
    "# # Move model and loss function to GPU\n",
    "if use_gpu: \n",
    "    criterion = [criterion[0].to(\"cuda\"), criterion[1].to(\"cuda\"), criterion[2].to(\"cuda\")]\n",
    "    model = model.cuda()"
   ]
  },
  {
   "cell_type": "code",
   "execution_count": 12,
   "metadata": {
    "scrolled": false
   },
   "outputs": [
    {
     "name": "stdout",
     "output_type": "stream",
     "text": [
      "----------------------------------------------------------------\n",
      "        Layer (type)               Output Shape         Param #\n",
      "================================================================\n",
      "            Conv2d-1           [-1, 16, 16, 16]             160\n",
      "       BatchNorm2d-2           [-1, 16, 16, 16]              32\n",
      "            Conv2d-3             [-1, 32, 8, 8]           4,640\n",
      "       BatchNorm2d-4             [-1, 32, 8, 8]              64\n",
      "            Conv2d-5             [-1, 64, 4, 4]          18,496\n",
      "       BatchNorm2d-6             [-1, 64, 4, 4]             128\n",
      "   ConvTranspose2d-7             [-1, 32, 4, 4]          18,464\n",
      "       BatchNorm2d-8             [-1, 32, 4, 4]              64\n",
      "   ConvTranspose2d-9             [-1, 16, 8, 8]           4,624\n",
      "      BatchNorm2d-10             [-1, 16, 8, 8]              32\n",
      "  ConvTranspose2d-11            [-1, 8, 16, 16]           1,160\n",
      "      BatchNorm2d-12            [-1, 8, 16, 16]              16\n",
      "  ConvTranspose2d-13            [-1, 2, 16, 16]             146\n",
      "================================================================\n",
      "Total params: 48,026\n",
      "Trainable params: 48,026\n",
      "Non-trainable params: 0\n",
      "----------------------------------------------------------------\n",
      "Input size (MB): 0.00\n",
      "Forward/backward pass size (MB): 0.17\n",
      "Params size (MB): 0.18\n",
      "Estimated Total Size (MB): 0.36\n",
      "----------------------------------------------------------------\n"
     ]
    }
   ],
   "source": [
    "if use_gpu: \n",
    "    from torchsummary import summary\n",
    "    summary(model, (1, SIZE, SIZE))"
   ]
  },
  {
   "cell_type": "code",
   "execution_count": 13,
   "metadata": {
    "id": "2FDRt12jsIkr"
   },
   "outputs": [],
   "source": [
    "class AverageMeter(object):\n",
    "    '''A handy class from the PyTorch ImageNet tutorial''' \n",
    "    def __init__(self):\n",
    "        self.reset()\n",
    "    def reset(self):\n",
    "        self.val, self.avg, self.sum, self.count = 0, 0, 0, 0\n",
    "    def update(self, val, n=1):\n",
    "        self.val = val\n",
    "        self.sum += val * n\n",
    "        self.count += n\n",
    "        self.avg = self.sum / self.count\n",
    "\n",
    "def to_rgb(grayscale_input, ab_input, save_path=None, save_name=None):\n",
    "    '''Show/save rgb image from grayscale and ab channels\n",
    "       Input save_path in the form {'grayscale': '/path/', 'colorized': '/path/'}'''\n",
    "    plt.clf() # clear matplotlib \n",
    "    color_image = torch.cat((grayscale_input, ab_input), 0).numpy() # combine channels\n",
    "    color_image = color_image.transpose((1, 2, 0))  # rescale for matplotlib\n",
    "    color_image[:, :, 0:1] = color_image[:, :, 0:1] * 100\n",
    "    color_image[:, :, 1:3] = color_image[:, :, 1:3] * 255 - 128   \n",
    "    color_image = lab2rgb(color_image.astype(np.float64))\n",
    "    grayscale_input = grayscale_input.squeeze().numpy()\n",
    "    if save_path is not None and save_name is not None: \n",
    "        plt.imsave(arr=grayscale_input, fname='{}{}'.format(save_path['grayscale'], save_name), cmap='gray')\n",
    "        plt.imsave(arr=color_image, fname='{}{}'.format(save_path['colorized'], save_name))"
   ]
  },
  {
   "cell_type": "code",
   "execution_count": 14,
   "metadata": {},
   "outputs": [],
   "source": [
    "color_imgs = 'outputs/color/'\n",
    "gray_imgs = 'outputs/gray/'"
   ]
  },
  {
   "cell_type": "code",
   "execution_count": 15,
   "metadata": {
    "id": "M_OTbyOcrh9J"
   },
   "outputs": [],
   "source": [
    "def validate(val_loader, model, criterion, save_images, epoch):\n",
    "    _loss = [AverageMeter(), AverageMeter(), AverageMeter()]\n",
    "\n",
    "    model.eval()\n",
    "    already_saved_images = False\n",
    "    for gray, ab in val_loader:\n",
    "        if use_gpu: \n",
    "            gray, ab = gray.cuda(), ab.cuda()\n",
    "\n",
    "        # Run model and record loss\n",
    "        output_ab = model(gray) # throw away class predictions\n",
    "        loss = [criterion[0](output_ab, ab), criterion[1](output_ab, ab), criterion[2](output_ab, ab)]\n",
    "        \n",
    "        _loss[0].update(loss[0].item(), gray.size(0))\n",
    "        _loss[1].update(loss[1].item(), gray.size(0))\n",
    "        _loss[2].update(loss[2].item(), gray.size(0))\n",
    "\n",
    "        # Save images to file\n",
    "        if save_images and not already_saved_images:\n",
    "            already_saved_images = True\n",
    "            for j in range(min(len(output_ab), 10)): # save at most 5 images\n",
    "                save_path = {'grayscale': gray_imgs, 'colorized': color_imgs}\n",
    "                save_name = 'img-{}-epoch-{}.jpg'.format(j, epoch)\n",
    "                to_rgb(gray[j].cpu(), ab_input=output_ab[j].detach().cpu(), save_path=save_path, save_name=save_name)\n",
    "\n",
    "    print(f'Validate: MSE {_loss[0].val:.8f} ({_loss[0].avg:.8f}), PSNR {_loss[1].val:.8f} ({_loss[1].avg:.8f}), SSIM {_loss[2].val:.8f} ({_loss[2].avg:.8f})')\n",
    "\n",
    "    print('Finished validation.')\n",
    "    if epoch >= 0:        \n",
    "        writer.add_scalar(\"MSE/test\", _loss[0].avg, epoch)\n",
    "        writer.add_scalar(\"PSNR/test\", _loss[1].avg, epoch)\n",
    "        writer.add_scalar(\"SSIM/test\", _loss[2].avg, epoch)\n",
    "    return _loss[0].avg, _loss[1].avg, _loss[2].avg"
   ]
  },
  {
   "cell_type": "code",
   "execution_count": 16,
   "metadata": {
    "id": "FOo__iEnvLMB"
   },
   "outputs": [],
   "source": [
    "def train(train_loader, model, criterion, optimizer, epoch):\n",
    "    print(f'Starting training epoch {epoch}')\n",
    "    _loss = [AverageMeter(), AverageMeter(), AverageMeter()]\n",
    "    \n",
    "    model.train()\n",
    "\n",
    "    for gray, ab in train_loader:\n",
    "        if use_gpu: \n",
    "            gray, ab = gray.cuda(), ab.cuda()\n",
    "            \n",
    "        optimizer.zero_grad()\n",
    "\n",
    "        output_ab = model(gray) \n",
    "        loss = [criterion[0](output_ab, ab), criterion[1](output_ab, ab), criterion[2](output_ab, ab)]\n",
    "        \n",
    "        loss[0].backward()\n",
    "        optimizer.step()\n",
    "        \n",
    "        _loss[0].update(loss[0].item(), gray.size(0))\n",
    "        _loss[1].update(loss[1].item(), gray.size(0))\n",
    "        _loss[2].update(loss[2].item(), gray.size(0))\n",
    "        \n",
    "    print(f'Epoch: {epoch}, MSE {_loss[0].val:.8f} ({_loss[0].avg:.8f}), PSNR {_loss[1].val:.8f} ({_loss[1].avg:.8f}), SSIM {_loss[2].val:.8f} ({_loss[2].avg:.8f})')\n",
    "\n",
    "    print(f'Finished training epoch {epoch}')\n",
    "    if epoch >= 0:\n",
    "        writer.add_scalar(\"MSE/train\", _loss[0].avg, epoch)\n",
    "        writer.add_scalar(\"PSNR/train\", _loss[1].avg, epoch)\n",
    "        writer.add_scalar(\"SSIM/train\", _loss[2].avg, epoch)"
   ]
  },
  {
   "cell_type": "code",
   "execution_count": 17,
   "metadata": {
    "id": "ckNmKA5VwSh1"
   },
   "outputs": [],
   "source": [
    "# Make folders and set parameters\n",
    "checkpoints = 'checkpoints'\n",
    "os.makedirs(color_imgs, exist_ok=True)\n",
    "os.makedirs(gray_imgs, exist_ok=True)\n",
    "os.makedirs(checkpoints, exist_ok=True)\n",
    "save_images = True\n",
    "best_losses = [1e10, 1e10, 1e10]\n",
    "best_epoch = -1\n",
    "patience = 50\n",
    "epochs = 500"
   ]
  },
  {
   "cell_type": "code",
   "execution_count": 18,
   "metadata": {
    "colab": {
     "base_uri": "https://localhost:8080/",
     "height": 625
    },
    "id": "XUR6ALi3AZoO",
    "outputId": "4b274c7b-fc1d-4e14-dc1f-a7ef93f3663f",
    "scrolled": true
   },
   "outputs": [
    {
     "name": "stdout",
     "output_type": "stream",
     "text": [
      "Starting training epoch 0\n",
      "Epoch: 0, MSE 0.00236279 (0.00680099), PSNR 26.26574516 (24.10485087), SSIM 0.72902524 (0.68562312)\n",
      "Finished training epoch 0\n",
      "Validate: MSE 0.00371635 (0.00331523), PSNR 24.29883194 (24.86133724), SSIM 0.64437044 (0.71164127)\n",
      "Finished validation.\n",
      "Starting training epoch 1\n",
      "Epoch: 1, MSE 0.00241660 (0.00290992), PSNR 26.16795731 (25.39315139), SSIM 0.77453399 (0.74808238)\n",
      "Finished training epoch 1\n",
      "Validate: MSE 0.00336713 (0.00357604), PSNR 24.72740746 (24.56307506), SSIM 0.67050004 (0.73275071)\n",
      "Finished validation.\n",
      "Starting training epoch 2\n",
      "Epoch: 2, MSE 0.00256545 (0.00266102), PSNR 25.90836906 (25.77143605), SSIM 0.76085919 (0.75887578)\n",
      "Finished training epoch 2\n",
      "Validate: MSE 0.00326473 (0.00340442), PSNR 24.86153030 (24.79282401), SSIM 0.68858463 (0.75702783)\n",
      "Finished validation.\n",
      "Starting training epoch 3\n",
      "Epoch: 3, MSE 0.00306578 (0.00258378), PSNR 25.13458633 (25.90071177), SSIM 0.79098105 (0.76462931)\n",
      "Finished training epoch 3\n",
      "Validate: MSE 0.00322338 (0.00296830), PSNR 24.91688728 (25.34478645), SSIM 0.69164979 (0.76027013)\n",
      "Finished validation.\n",
      "Starting training epoch 4\n",
      "Epoch: 4, MSE 0.00241034 (0.00251926), PSNR 26.17920876 (26.01308848), SSIM 0.74275768 (0.76819303)\n",
      "Finished training epoch 4\n",
      "Validate: MSE 0.00326984 (0.00293738), PSNR 24.85473061 (25.38867904), SSIM 0.69562817 (0.75989020)\n",
      "Finished validation.\n",
      "Starting training epoch 5\n",
      "Epoch: 5, MSE 0.00223268 (0.00248239), PSNR 26.51173019 (26.07520558), SSIM 0.79371655 (0.77039046)\n",
      "Finished training epoch 5\n",
      "Validate: MSE 0.00341035 (0.00292664), PSNR 24.67200851 (25.40515461), SSIM 0.69217122 (0.76076049)\n",
      "Finished validation.\n",
      "Starting training epoch 6\n",
      "Epoch: 6, MSE 0.00263101 (0.00245260), PSNR 25.79877281 (26.12501758), SSIM 0.77601546 (0.77187054)\n",
      "Finished training epoch 6\n",
      "Validate: MSE 0.00379361 (0.00307351), PSNR 24.20947456 (25.19907412), SSIM 0.69267118 (0.76262982)\n",
      "Finished validation.\n",
      "Starting training epoch 7\n",
      "Epoch: 7, MSE 0.00236267 (0.00243037), PSNR 26.26596451 (26.16473185), SSIM 0.77689779 (0.77311481)\n",
      "Finished training epoch 7\n",
      "Validate: MSE 0.00371763 (0.00305219), PSNR 24.29733849 (25.22873736), SSIM 0.69288492 (0.76237306)\n",
      "Finished validation.\n",
      "Starting training epoch 8\n",
      "Epoch: 8, MSE 0.00233144 (0.00240895), PSNR 26.32376289 (26.20418026), SSIM 0.78487957 (0.77364565)\n",
      "Finished training epoch 8\n",
      "Validate: MSE 0.00359318 (0.00295847), PSNR 24.44520760 (25.35865032), SSIM 0.69851273 (0.76720512)\n",
      "Finished validation.\n",
      "Starting training epoch 9\n",
      "Epoch: 9, MSE 0.00245860 (0.00240446), PSNR 26.09311867 (26.21492413), SSIM 0.75519401 (0.77417696)\n",
      "Finished training epoch 9\n",
      "Validate: MSE 0.00478212 (0.00370082), PSNR 23.20379639 (24.41177207), SSIM 0.69440997 (0.76372790)\n",
      "Finished validation.\n",
      "Starting training epoch 10\n",
      "Epoch: 10, MSE 0.00238704 (0.00237877), PSNR 26.22140694 (26.25910068), SSIM 0.77585042 (0.77472546)\n",
      "Finished training epoch 10\n",
      "Validate: MSE 0.00472542 (0.00371756), PSNR 23.25559807 (24.39659350), SSIM 0.69444895 (0.76451341)\n",
      "Finished validation.\n",
      "Starting training epoch 11\n",
      "Epoch: 11, MSE 0.00211795 (0.00235954), PSNR 26.74084663 (26.29325951), SSIM 0.78547096 (0.77515241)\n",
      "Finished training epoch 11\n",
      "Validate: MSE 0.00661971 (0.00494254), PSNR 21.79160881 (23.17848405), SSIM 0.69135344 (0.76585717)\n",
      "Finished validation.\n",
      "Starting training epoch 12\n",
      "Epoch: 12, MSE 0.00224019 (0.00235680), PSNR 26.49714851 (26.30009012), SSIM 0.78129566 (0.77557596)\n",
      "Finished training epoch 12\n",
      "Validate: MSE 0.00421109 (0.00325605), PSNR 23.75604820 (24.96035306), SSIM 0.69800234 (0.76933040)\n",
      "Finished validation.\n",
      "Starting training epoch 13\n",
      "Epoch: 13, MSE 0.00234814 (0.00234214), PSNR 26.29276085 (26.32705558), SSIM 0.78277814 (0.77596038)\n",
      "Finished training epoch 13\n",
      "Validate: MSE 0.00323516 (0.00306620), PSNR 24.90103912 (25.24552992), SSIM 0.70305669 (0.77152439)\n",
      "Finished validation.\n",
      "Starting training epoch 14\n",
      "Epoch: 14, MSE 0.00222954 (0.00233652), PSNR 26.51785278 (26.34085510), SSIM 0.77141440 (0.77633182)\n",
      "Finished training epoch 14\n",
      "Validate: MSE 0.00338216 (0.00318503), PSNR 24.70805550 (25.08102486), SSIM 0.70194709 (0.77109888)\n",
      "Finished validation.\n",
      "Starting training epoch 15\n",
      "Epoch: 15, MSE 0.00277260 (0.00232591), PSNR 25.57112885 (26.35670714), SSIM 0.78086442 (0.77654447)\n",
      "Finished training epoch 15\n",
      "Validate: MSE 0.00663230 (0.00482606), PSNR 21.78335762 (23.30085667), SSIM 0.68297994 (0.75672780)\n",
      "Finished validation.\n",
      "Starting training epoch 16\n",
      "Epoch: 16, MSE 0.00262192 (0.00232219), PSNR 25.81380081 (26.36311839), SSIM 0.78139251 (0.77689316)\n",
      "Finished training epoch 16\n",
      "Validate: MSE 0.00344033 (0.00350743), PSNR 24.63399315 (24.68506324), SSIM 0.69885772 (0.76738511)\n",
      "Finished validation.\n",
      "Starting training epoch 17\n",
      "Epoch: 17, MSE 0.00224004 (0.00232095), PSNR 26.49743080 (26.36408051), SSIM 0.78666890 (0.77699827)\n",
      "Finished training epoch 17\n",
      "Validate: MSE 0.00326499 (0.00323647), PSNR 24.86118507 (25.02215207), SSIM 0.70302022 (0.77256223)\n",
      "Finished validation.\n",
      "Starting training epoch 18\n",
      "Epoch: 18, MSE 0.00208512 (0.00230367), PSNR 26.80868530 (26.39591193), SSIM 0.76915038 (0.77733344)\n",
      "Finished training epoch 18\n",
      "Validate: MSE 0.00374361 (0.00366144), PSNR 24.26708794 (24.50523994), SSIM 0.69965196 (0.77066816)\n",
      "Finished validation.\n",
      "Starting training epoch 19\n",
      "Epoch: 19, MSE 0.00207911 (0.00229282), PSNR 26.82122993 (26.41960194), SSIM 0.77319175 (0.77763233)\n",
      "Finished training epoch 19\n",
      "Validate: MSE 0.00333131 (0.00329454), PSNR 24.77384186 (24.95625778), SSIM 0.70142710 (0.77192237)\n",
      "Finished validation.\n",
      "Starting training epoch 20\n",
      "Epoch: 20, MSE 0.00198908 (0.00231074), PSNR 27.01347542 (26.38713388), SSIM 0.77400547 (0.77767644)\n",
      "Finished training epoch 20\n",
      "Validate: MSE 0.00336512 (0.00280530), PSNR 24.72999763 (25.59023682), SSIM 0.70384395 (0.77335093)\n",
      "Finished validation.\n",
      "Starting training epoch 21\n",
      "Epoch: 21, MSE 0.00220660 (0.00228709), PSNR 26.56275940 (26.42935232), SSIM 0.76687372 (0.77787317)\n",
      "Finished training epoch 21\n"
     ]
    },
    {
     "name": "stderr",
     "output_type": "stream",
     "text": [
      "/home/konrad/.local/lib/python3.10/site-packages/skimage/_shared/utils.py:394: UserWarning: Color data out of range: Z < 0 in 12 pixels\n",
      "  return func(*args, **kwargs)\n"
     ]
    },
    {
     "name": "stdout",
     "output_type": "stream",
     "text": [
      "Validate: MSE 0.00539325 (0.00577996), PSNR 22.68149185 (22.53053926), SSIM 0.68694866 (0.75575990)\n",
      "Finished validation.\n",
      "Starting training epoch 22\n",
      "Epoch: 22, MSE 0.00218623 (0.00228376), PSNR 26.60304832 (26.43644467), SSIM 0.78189260 (0.77798159)\n",
      "Finished training epoch 22\n",
      "Validate: MSE 0.00334331 (0.00288176), PSNR 24.75823212 (25.48557003), SSIM 0.70107937 (0.77347383)\n",
      "Finished validation.\n",
      "Starting training epoch 23\n",
      "Epoch: 23, MSE 0.00220047 (0.00227435), PSNR 26.57483673 (26.45557460), SSIM 0.78832859 (0.77809521)\n",
      "Finished training epoch 23\n",
      "Validate: MSE 0.00326587 (0.00299029), PSNR 24.86001778 (25.33719903), SSIM 0.70093608 (0.77050699)\n",
      "Finished validation.\n",
      "Starting training epoch 24\n",
      "Epoch: 24, MSE 0.00206753 (0.00226964), PSNR 26.84548569 (26.46150061), SSIM 0.77935553 (0.77818000)\n",
      "Finished training epoch 24\n",
      "Validate: MSE 0.00311289 (0.00290580), PSNR 25.06835747 (25.46080097), SSIM 0.70259941 (0.77287426)\n",
      "Finished validation.\n",
      "Starting training epoch 25\n",
      "Epoch: 25, MSE 0.00235388 (0.00226711), PSNR 26.28216171 (26.46622383), SSIM 0.76898509 (0.77823166)\n",
      "Finished training epoch 25\n",
      "Validate: MSE 0.00320097 (0.00300076), PSNR 24.94718742 (25.33447837), SSIM 0.70465863 (0.77406087)\n",
      "Finished validation.\n",
      "Starting training epoch 26\n",
      "Epoch: 26, MSE 0.00216725 (0.00225435), PSNR 26.64090347 (26.49597799), SSIM 0.77315342 (0.77835885)\n",
      "Finished training epoch 26\n",
      "Validate: MSE 0.00313658 (0.00283123), PSNR 25.03543091 (25.56600461), SSIM 0.70434797 (0.77368368)\n",
      "Finished validation.\n",
      "Starting training epoch 27\n",
      "Epoch: 27, MSE 0.00233011 (0.00225516), PSNR 26.32622910 (26.49154501), SSIM 0.76794589 (0.77842048)\n",
      "Finished training epoch 27\n",
      "Validate: MSE 0.00331031 (0.00304211), PSNR 24.80130768 (25.27986010), SSIM 0.70056987 (0.77148841)\n",
      "Finished validation.\n",
      "Starting training epoch 28\n",
      "Epoch: 28, MSE 0.00244436 (0.00224057), PSNR 26.11833954 (26.51747010), SSIM 0.79885787 (0.77850049)\n",
      "Finished training epoch 28\n",
      "Validate: MSE 0.00345243 (0.00286398), PSNR 24.61875534 (25.50374035), SSIM 0.70378554 (0.77417023)\n",
      "Finished validation.\n",
      "Starting training epoch 29\n",
      "Epoch: 29, MSE 0.00198946 (0.00224114), PSNR 27.01264954 (26.51644998), SSIM 0.77496421 (0.77856474)\n",
      "Finished training epoch 29\n",
      "Validate: MSE 0.00317235 (0.00310822), PSNR 24.98618889 (25.17789253), SSIM 0.70256120 (0.77237224)\n",
      "Finished validation.\n",
      "Starting training epoch 30\n",
      "Epoch: 30, MSE 0.00162656 (0.00224962), PSNR 27.88730812 (26.50316280), SSIM 0.79427922 (0.77861117)\n",
      "Finished training epoch 30\n",
      "Validate: MSE 0.00485975 (0.00483244), PSNR 23.13385963 (23.31028249), SSIM 0.69287801 (0.76418165)\n",
      "Finished validation.\n",
      "Starting training epoch 31\n",
      "Epoch: 31, MSE 0.00210919 (0.00223028), PSNR 26.75885010 (26.54011856), SSIM 0.78714108 (0.77872030)\n",
      "Finished training epoch 31\n",
      "Validate: MSE 0.00380944 (0.00402089), PSNR 24.19139099 (24.09841289), SSIM 0.69778347 (0.76690721)\n",
      "Finished validation.\n",
      "Starting training epoch 32\n",
      "Epoch: 32, MSE 0.00254325 (0.00222758), PSNR 25.94610214 (26.54647978), SSIM 0.75616533 (0.77879232)\n",
      "Finished training epoch 32\n",
      "Validate: MSE 0.00344073 (0.00349505), PSNR 24.63348961 (24.69832018), SSIM 0.70044798 (0.77151530)\n",
      "Finished validation.\n",
      "Starting training epoch 33\n",
      "Epoch: 33, MSE 0.00174817 (0.00221895), PSNR 27.57416534 (26.56206580), SSIM 0.79150629 (0.77891294)\n",
      "Finished training epoch 33\n",
      "Validate: MSE 0.00356447 (0.00359902), PSNR 24.48005295 (24.57172353), SSIM 0.69825137 (0.76883545)\n",
      "Finished validation.\n",
      "Starting training epoch 34\n",
      "Epoch: 34, MSE 0.00252638 (0.00220949), PSNR 25.97500610 (26.58243967), SSIM 0.77449739 (0.77877688)\n",
      "Finished training epoch 34\n",
      "Validate: MSE 0.00358729 (0.00348755), PSNR 24.45233536 (24.70357999), SSIM 0.69565219 (0.76776161)\n",
      "Finished validation.\n",
      "Starting training epoch 35\n",
      "Epoch: 35, MSE 0.00176254 (0.00220869), PSNR 27.53860474 (26.58228701), SSIM 0.79862285 (0.77869448)\n",
      "Finished training epoch 35\n",
      "Validate: MSE 0.00387819 (0.00411834), PSNR 24.11371231 (24.00262039), SSIM 0.69592714 (0.76680789)\n",
      "Finished validation.\n",
      "Starting training epoch 36\n",
      "Epoch: 36, MSE 0.00174532 (0.00220284), PSNR 27.58124161 (26.59240900), SSIM 0.79614174 (0.77878287)\n",
      "Finished training epoch 36\n",
      "Validate: MSE 0.00325231 (0.00309066), PSNR 24.87807274 (25.20466065), SSIM 0.70006645 (0.77295273)\n",
      "Finished validation.\n",
      "Starting training epoch 37\n",
      "Epoch: 37, MSE 0.00216431 (0.00219190), PSNR 26.64680672 (26.61399571), SSIM 0.78104919 (0.77879985)\n",
      "Finished training epoch 37\n",
      "Validate: MSE 0.00386832 (0.00374630), PSNR 24.12477493 (24.39427737), SSIM 0.69765115 (0.76957804)\n",
      "Finished validation.\n",
      "Starting training epoch 38\n",
      "Epoch: 38, MSE 0.00208748 (0.00218549), PSNR 26.80378532 (26.62618587), SSIM 0.78519469 (0.77865306)\n",
      "Finished training epoch 38\n",
      "Validate: MSE 0.00354863 (0.00341930), PSNR 24.49939728 (24.78124845), SSIM 0.69814867 (0.77061287)\n",
      "Finished validation.\n",
      "Starting training epoch 39\n",
      "Epoch: 39, MSE 0.00243648 (0.00219554), PSNR 26.13237953 (26.60875075), SSIM 0.77554691 (0.77858118)\n",
      "Finished training epoch 39\n",
      "Validate: MSE 0.00365380 (0.00364404), PSNR 24.37255096 (24.52201093), SSIM 0.69972944 (0.77152400)\n",
      "Finished validation.\n",
      "Starting training epoch 40\n",
      "Epoch: 40, MSE 0.00216734 (0.00217736), PSNR 26.64072990 (26.64040620), SSIM 0.78488636 (0.77867020)\n",
      "Finished training epoch 40\n",
      "Validate: MSE 0.00502705 (0.00511984), PSNR 22.98687172 (23.05169135), SSIM 0.69418377 (0.76650476)\n",
      "Finished validation.\n",
      "Starting training epoch 41\n",
      "Epoch: 41, MSE 0.00175405 (0.00218048), PSNR 27.55957794 (26.63731838), SSIM 0.81195277 (0.77862259)\n",
      "Finished training epoch 41\n",
      "Validate: MSE 0.00342405 (0.00346314), PSNR 24.65460014 (24.73739358), SSIM 0.70113277 (0.77086360)\n",
      "Finished validation.\n",
      "Starting training epoch 42\n",
      "Epoch: 42, MSE 0.00213818 (0.00216581), PSNR 26.69956779 (26.66507275), SSIM 0.77801687 (0.77854242)\n",
      "Finished training epoch 42\n",
      "Validate: MSE 0.00402224 (0.00405045), PSNR 23.95531654 (24.07330922), SSIM 0.69324386 (0.76591506)\n",
      "Finished validation.\n",
      "Starting training epoch 43\n",
      "Epoch: 43, MSE 0.00216950 (0.00216143), PSNR 26.63640594 (26.67045715), SSIM 0.74869776 (0.77846782)\n",
      "Finished training epoch 43\n"
     ]
    },
    {
     "name": "stderr",
     "output_type": "stream",
     "text": [
      "/home/konrad/.local/lib/python3.10/site-packages/skimage/_shared/utils.py:394: UserWarning: Color data out of range: Z < 0 in 7 pixels\n",
      "  return func(*args, **kwargs)\n",
      "/home/konrad/.local/lib/python3.10/site-packages/skimage/_shared/utils.py:394: UserWarning: Color data out of range: Z < 0 in 40 pixels\n",
      "  return func(*args, **kwargs)\n",
      "/home/konrad/.local/lib/python3.10/site-packages/skimage/_shared/utils.py:394: UserWarning: Color data out of range: Z < 0 in 10 pixels\n",
      "  return func(*args, **kwargs)\n"
     ]
    },
    {
     "name": "stdout",
     "output_type": "stream",
     "text": [
      "Validate: MSE 0.00719636 (0.00754393), PSNR 21.42886925 (21.34859339), SSIM 0.68538350 (0.75898492)\n",
      "Finished validation.\n",
      "Starting training epoch 44\n",
      "Epoch: 44, MSE 0.00229155 (0.00215708), PSNR 26.39870453 (26.68205088), SSIM 0.75372553 (0.77815377)\n",
      "Finished training epoch 44\n",
      "Validate: MSE 0.00549154 (0.00571917), PSNR 22.60305786 (22.56938293), SSIM 0.69529319 (0.76549729)\n",
      "Finished validation.\n",
      "Starting training epoch 45\n",
      "Epoch: 45, MSE 0.00228984 (0.00215173), PSNR 26.40195274 (26.69353514), SSIM 0.75701702 (0.77834540)\n",
      "Finished training epoch 45\n",
      "Validate: MSE 0.00396648 (0.00418978), PSNR 24.01594543 (23.93545188), SSIM 0.69769418 (0.76765366)\n",
      "Finished validation.\n",
      "Starting training epoch 46\n",
      "Epoch: 46, MSE 0.00227404 (0.00214388), PSNR 26.43201447 (26.70934502), SSIM 0.76225317 (0.77832042)\n",
      "Finished training epoch 46\n",
      "Validate: MSE 0.00356435 (0.00344686), PSNR 24.48019981 (24.75548914), SSIM 0.70114660 (0.77267688)\n",
      "Finished validation.\n",
      "Starting training epoch 47\n",
      "Epoch: 47, MSE 0.00213606 (0.00213645), PSNR 26.70387077 (26.72359430), SSIM 0.80239838 (0.77823686)\n",
      "Finished training epoch 47\n",
      "Validate: MSE 0.00318599 (0.00291290), PSNR 24.96755981 (25.44218274), SSIM 0.70190060 (0.77308493)\n",
      "Finished validation.\n",
      "Starting training epoch 48\n",
      "Epoch: 48, MSE 0.00209209 (0.00213608), PSNR 26.79419327 (26.72483631), SSIM 0.77682388 (0.77806833)\n",
      "Finished training epoch 48\n",
      "Validate: MSE 0.00369855 (0.00369324), PSNR 24.31968307 (24.45969042), SSIM 0.69655609 (0.76788589)\n",
      "Finished validation.\n",
      "Starting training epoch 49\n",
      "Epoch: 49, MSE 0.00217973 (0.00213004), PSNR 26.61597443 (26.73618768), SSIM 0.76377481 (0.77815638)\n",
      "Finished training epoch 49\n"
     ]
    },
    {
     "name": "stderr",
     "output_type": "stream",
     "text": [
      "/home/konrad/.local/lib/python3.10/site-packages/skimage/_shared/utils.py:394: UserWarning: Color data out of range: Z < 0 in 2 pixels\n",
      "  return func(*args, **kwargs)\n"
     ]
    },
    {
     "name": "stdout",
     "output_type": "stream",
     "text": [
      "Validate: MSE 0.00638643 (0.00629643), PSNR 21.94742012 (22.13429651), SSIM 0.68906081 (0.76205627)\n",
      "Finished validation.\n",
      "Starting training epoch 50\n",
      "Epoch: 50, MSE 0.00198959 (0.00212647), PSNR 27.01236153 (26.74384209), SSIM 0.78302133 (0.77803451)\n",
      "Finished training epoch 50\n",
      "Validate: MSE 0.00362345 (0.00363648), PSNR 24.40877533 (24.52584274), SSIM 0.69654179 (0.76789108)\n",
      "Finished validation.\n",
      "Starting training epoch 51\n",
      "Epoch: 51, MSE 0.00257611 (0.00212105), PSNR 25.89034843 (26.75484335), SSIM 0.78690833 (0.77782216)\n",
      "Finished training epoch 51\n",
      "Validate: MSE 0.00471937 (0.00491374), PSNR 23.26115417 (23.23805527), SSIM 0.69488215 (0.76532084)\n",
      "Finished validation.\n",
      "Starting training epoch 52\n",
      "Epoch: 52, MSE 0.00178501 (0.00212121), PSNR 27.48359108 (26.75249069), SSIM 0.80232966 (0.77792970)\n",
      "Finished training epoch 52\n",
      "Validate: MSE 0.00380067 (0.00370226), PSNR 24.20140076 (24.45377776), SSIM 0.69763213 (0.77080658)\n",
      "Finished validation.\n",
      "Starting training epoch 53\n",
      "Epoch: 53, MSE 0.00185677 (0.00211572), PSNR 27.31241035 (26.76652666), SSIM 0.77964151 (0.77778799)\n",
      "Finished training epoch 53\n",
      "Validate: MSE 0.00328732 (0.00318592), PSNR 24.83157921 (25.07709640), SSIM 0.69988251 (0.77195950)\n",
      "Finished validation.\n",
      "Starting training epoch 54\n",
      "Epoch: 54, MSE 0.00246073 (0.00211228), PSNR 26.08936501 (26.77157004), SSIM 0.78835112 (0.77765480)\n",
      "Finished training epoch 54\n",
      "Validate: MSE 0.00445086 (0.00444524), PSNR 23.51555824 (23.66266591), SSIM 0.69389951 (0.76636903)\n",
      "Finished validation.\n",
      "Starting training epoch 55\n",
      "Epoch: 55, MSE 0.00155078 (0.00210317), PSNR 28.09449768 (26.79284241), SSIM 0.80495310 (0.77771169)\n",
      "Finished training epoch 55\n",
      "Validate: MSE 0.00488858 (0.00486866), PSNR 23.10817146 (23.26203609), SSIM 0.69141197 (0.76444084)\n",
      "Finished validation.\n",
      "Starting training epoch 56\n",
      "Epoch: 56, MSE 0.00201454 (0.00209370), PSNR 26.95823669 (26.81170934), SSIM 0.78153288 (0.77762164)\n",
      "Finished training epoch 56\n",
      "Validate: MSE 0.00359698 (0.00355049), PSNR 24.44061852 (24.63367147), SSIM 0.69985878 (0.77202340)\n",
      "Finished validation.\n",
      "Starting training epoch 57\n",
      "Epoch: 57, MSE 0.00262325 (0.00210011), PSNR 25.81159782 (26.79903526), SSIM 0.76054001 (0.77760818)\n",
      "Finished training epoch 57\n"
     ]
    },
    {
     "name": "stderr",
     "output_type": "stream",
     "text": [
      "/home/konrad/.local/lib/python3.10/site-packages/skimage/_shared/utils.py:394: UserWarning: Color data out of range: Z < 0 in 21 pixels\n",
      "  return func(*args, **kwargs)\n"
     ]
    },
    {
     "name": "stdout",
     "output_type": "stream",
     "text": [
      "Validate: MSE 0.00586661 (0.00600169), PSNR 22.31612396 (22.35085907), SSIM 0.68838179 (0.75987182)\n",
      "Finished validation.\n",
      "Starting training epoch 58\n",
      "Epoch: 58, MSE 0.00160022 (0.00209206), PSNR 27.95819473 (26.81308200), SSIM 0.80034286 (0.77750997)\n",
      "Finished training epoch 58\n",
      "Validate: MSE 0.00415139 (0.00404721), PSNR 23.81806374 (24.06772216), SSIM 0.69572926 (0.76806526)\n",
      "Finished validation.\n",
      "Starting training epoch 59\n",
      "Epoch: 59, MSE 0.00185211 (0.00208993), PSNR 27.32333755 (26.81930899), SSIM 0.77511519 (0.77748398)\n",
      "Finished training epoch 59\n"
     ]
    },
    {
     "name": "stderr",
     "output_type": "stream",
     "text": [
      "/home/konrad/.local/lib/python3.10/site-packages/skimage/_shared/utils.py:394: UserWarning: Color data out of range: Z < 0 in 71 pixels\n",
      "  return func(*args, **kwargs)\n"
     ]
    },
    {
     "name": "stdout",
     "output_type": "stream",
     "text": [
      "Validate: MSE 0.00573436 (0.00595120), PSNR 22.41514969 (22.38647921), SSIM 0.68859506 (0.75835023)\n",
      "Finished validation.\n",
      "Starting training epoch 60\n",
      "Epoch: 60, MSE 0.00203688 (0.00207804), PSNR 26.91035080 (26.84443858), SSIM 0.75245464 (0.77738906)\n",
      "Finished training epoch 60\n",
      "Validate: MSE 0.00351142 (0.00352714), PSNR 24.54516792 (24.65951621), SSIM 0.69752800 (0.76728061)\n",
      "Finished validation.\n",
      "Starting training epoch 61\n",
      "Epoch: 61, MSE 0.00213769 (0.00208664), PSNR 26.70055771 (26.82651224), SSIM 0.77377582 (0.77729960)\n",
      "Finished training epoch 61\n"
     ]
    },
    {
     "name": "stderr",
     "output_type": "stream",
     "text": [
      "/home/konrad/.local/lib/python3.10/site-packages/skimage/_shared/utils.py:394: UserWarning: Color data out of range: Z < 0 in 88 pixels\n",
      "  return func(*args, **kwargs)\n"
     ]
    },
    {
     "name": "stdout",
     "output_type": "stream",
     "text": [
      "Validate: MSE 0.00574542 (0.00589853), PSNR 22.40678215 (22.42810151), SSIM 0.68531048 (0.75493803)\n",
      "Finished validation.\n",
      "Starting training epoch 62\n",
      "Epoch: 62, MSE 0.00205823 (0.00207798), PSNR 26.86505699 (26.84194979), SSIM 0.77591890 (0.77716575)\n",
      "Finished training epoch 62\n",
      "Validate: MSE 0.00422173 (0.00412286), PSNR 23.74509239 (23.98308243), SSIM 0.69419396 (0.76716912)\n",
      "Finished validation.\n",
      "Starting training epoch 63\n",
      "Epoch: 63, MSE 0.00162526 (0.00207930), PSNR 27.89076233 (26.84303368), SSIM 0.80434704 (0.77726755)\n",
      "Finished training epoch 63\n",
      "Validate: MSE 0.00438643 (0.00427268), PSNR 23.57889175 (23.82428365), SSIM 0.69106156 (0.76345552)\n",
      "Finished validation.\n",
      "Starting training epoch 64\n",
      "Epoch: 64, MSE 0.00173384 (0.00206621), PSNR 27.60991478 (26.86729575), SSIM 0.78850764 (0.77728711)\n",
      "Finished training epoch 64\n"
     ]
    },
    {
     "name": "stderr",
     "output_type": "stream",
     "text": [
      "/home/konrad/.local/lib/python3.10/site-packages/skimage/_shared/utils.py:394: UserWarning: Color data out of range: Z < 0 in 29 pixels\n",
      "  return func(*args, **kwargs)\n"
     ]
    },
    {
     "name": "stdout",
     "output_type": "stream",
     "text": [
      "Validate: MSE 0.00616273 (0.00637737), PSNR 22.10226822 (22.08579307), SSIM 0.68492025 (0.75547680)\n",
      "Finished validation.\n",
      "Starting training epoch 65\n",
      "Epoch: 65, MSE 0.00218989 (0.00207374), PSNR 26.59577942 (26.85520898), SSIM 0.78094637 (0.77705600)\n",
      "Finished training epoch 65\n",
      "Validate: MSE 0.00505074 (0.00518416), PSNR 22.96644592 (22.99873259), SSIM 0.69078887 (0.76208186)\n",
      "Finished validation.\n",
      "Starting training epoch 66\n",
      "Epoch: 66, MSE 0.00172718 (0.00206171), PSNR 27.62661743 (26.87718764), SSIM 0.78384858 (0.77707422)\n",
      "Finished training epoch 66\n",
      "Validate: MSE 0.00397149 (0.00387433), PSNR 24.01046371 (24.25104557), SSIM 0.69457114 (0.76645487)\n",
      "Finished validation.\n",
      "Starting training epoch 67\n",
      "Epoch: 67, MSE 0.00232896 (0.00207010), PSNR 26.32838058 (26.86150698), SSIM 0.76332480 (0.77716718)\n",
      "Finished training epoch 67\n",
      "Validate: MSE 0.00498263 (0.00526148), PSNR 23.02541542 (22.93707592), SSIM 0.68847132 (0.75819437)\n",
      "Finished validation.\n",
      "Starting training epoch 68\n",
      "Epoch: 68, MSE 0.00268530 (0.00206396), PSNR 25.71007347 (26.87117357), SSIM 0.75669706 (0.77691025)\n",
      "Finished training epoch 68\n",
      "Validate: MSE 0.00423718 (0.00430051), PSNR 23.72922516 (23.80904750), SSIM 0.69152713 (0.76231335)\n",
      "Finished validation.\n",
      "Starting training epoch 69\n",
      "Epoch: 69, MSE 0.00182352 (0.00206275), PSNR 27.39088631 (26.87695092), SSIM 0.79241896 (0.77688270)\n",
      "Finished training epoch 69\n",
      "Validate: MSE 0.00364781 (0.00366729), PSNR 24.37967110 (24.50105740), SSIM 0.69696283 (0.76922863)\n",
      "Finished validation.\n",
      "Starting training epoch 70\n",
      "Epoch: 70, MSE 0.00186189 (0.00205131), PSNR 27.30045509 (26.89913897), SSIM 0.78274500 (0.77688783)\n",
      "Finished training epoch 70\n",
      "Validate: MSE 0.00329225 (0.00311359), PSNR 24.82506561 (25.17827191), SSIM 0.69621390 (0.76937310)\n",
      "Finished validation.\n"
     ]
    },
    {
     "data": {
      "text/plain": [
       "<Figure size 432x288 with 0 Axes>"
      ]
     },
     "metadata": {},
     "output_type": "display_data"
    }
   ],
   "source": [
    "# Train model\n",
    "for epoch in range(epochs):\n",
    "    # Train for one epoch, then validate\n",
    "    train(train_loader, model, criterion, optimizer, epoch)\n",
    "    with torch.no_grad():\n",
    "        losses = validate(val_loader, model, criterion, save_images, epoch)\n",
    "    # Save checkpoint and replace old best model if current model is better\n",
    "    if losses[0] < best_losses[0]:\n",
    "        best_losses[0] = losses[0]\n",
    "        best_epoch = epoch\n",
    "        torch.save(model.state_dict(), f'{checkpoints}/epoch-{epoch}-MSELoss-{losses[0]:.8f}.pth')\n",
    "    if losses[1] < best_losses[1]:\n",
    "        best_losses[1] = losses[1]\n",
    "        torch.save(model.state_dict(), f'{checkpoints}/epoch-{epoch}-PSNRLoss-{losses[1]:.8f}.pth')\n",
    "    if losses[2] < best_losses[2]:\n",
    "        best_losses[2] = losses[2]\n",
    "        torch.save(model.state_dict(), f'{checkpoints}/epoch-{epoch}-SSIMLoss-{losses[2]:.8f}.pth')\n",
    "    \n",
    "    if epoch - best_epoch >= patience:\n",
    "        torch.save(model.state_dict(), f'{checkpoints}/epoch-{epoch}-MSELoss-{losses[0]:.8f}-early_stop.pth')\n",
    "        break\n",
    "    \n",
    "    if epoch == epochs - 1:\n",
    "        torch.save(model.state_dict(), f'{checkpoints}/epoch-{epoch}-last-{losses[0]:.8f}-{losses[1]:.8f}-{losses[2]:.8f}.pth')\n"
   ]
  },
  {
   "cell_type": "code",
   "execution_count": 19,
   "metadata": {
    "scrolled": true
   },
   "outputs": [],
   "source": [
    "torch.save(model.state_dict(), f'{checkpoints}/last-{losses[0]:.8f}-{losses[1]:.8f}-{losses[2]:.8f}.pth')"
   ]
  },
  {
   "cell_type": "code",
   "execution_count": 20,
   "metadata": {
    "colab": {
     "base_uri": "https://localhost:8080/",
     "height": 1593
    },
    "id": "UcovGnpHMl9D",
    "outputId": "90b7a2b4-dc03-4862-cf02-c7ddbbb7e500"
   },
   "outputs": [
    {
     "name": "stdout",
     "output_type": "stream",
     "text": [
      "Validate: MSE 0.00329225 (0.00311359), PSNR 24.82506561 (25.17827191), SSIM 0.69621390 (0.76937311)\n",
      "Finished validation.\n"
     ]
    },
    {
     "data": {
      "text/plain": [
       "<Figure size 432x288 with 0 Axes>"
      ]
     },
     "metadata": {},
     "output_type": "display_data"
    }
   ],
   "source": [
    "# Validate\n",
    "save_images = True\n",
    "with torch.no_grad():\n",
    "    validate(val_loader, model, criterion, save_images, -1)"
   ]
  },
  {
   "cell_type": "code",
   "execution_count": 21,
   "metadata": {},
   "outputs": [],
   "source": [
    "# # Show images \n",
    "# image_pairs = []\n",
    "\n",
    "# for i in range(10):\n",
    "#     image_pairs.append((f'{color_imgs}img-{i}-epoch-{best_epoch}.jpg', f'{gray_imgs}img-{i}-epoch-{best_epoch}.jpg'))\n",
    "    \n",
    "# for c, g in image_pairs:\n",
    "#   color = mpimg.imread(c)\n",
    "#   gray  = mpimg.imread(g)\n",
    "#   f, axarr = plt.subplots(1, 2)\n",
    "#   f.set_size_inches(15, 15)\n",
    "#   axarr[0].imshow(gray, cmap='gray')\n",
    "#   axarr[1].imshow(color)\n",
    "#   axarr[0].axis('off'), axarr[1].axis('off')\n",
    "#   plt.show()"
   ]
  },
  {
   "cell_type": "code",
   "execution_count": null,
   "metadata": {},
   "outputs": [],
   "source": []
  }
 ],
 "metadata": {
  "accelerator": "GPU",
  "colab": {
   "provenance": []
  },
  "kernelspec": {
   "display_name": "Python 3 (ipykernel)",
   "language": "python",
   "name": "python3"
  },
  "language_info": {
   "codemirror_mode": {
    "name": "ipython",
    "version": 3
   },
   "file_extension": ".py",
   "mimetype": "text/x-python",
   "name": "python",
   "nbconvert_exporter": "python",
   "pygments_lexer": "ipython3",
   "version": "3.10.6"
  }
 },
 "nbformat": 4,
 "nbformat_minor": 4
}
