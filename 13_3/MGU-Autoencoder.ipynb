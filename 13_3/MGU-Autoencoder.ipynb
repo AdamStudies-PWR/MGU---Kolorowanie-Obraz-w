{
 "cells": [
  {
   "cell_type": "code",
   "execution_count": 1,
   "metadata": {
    "id": "J_Y9UFYhKbuE"
   },
   "outputs": [],
   "source": [
    "# For plotting\n",
    "import numpy as np\n",
    "import matplotlib.pyplot as plt\n",
    "import matplotlib.image as mpimg\n",
    "%matplotlib inline\n",
    "# For conversion\n",
    "from skimage.color import lab2rgb, rgb2lab, rgb2gray\n",
    "from skimage import io\n",
    "# For everything\n",
    "import torch\n",
    "import torch.nn as nn\n",
    "import torch.nn.functional as F\n",
    "# For our model\n",
    "import torchvision\n",
    "import torchvision.models as models\n",
    "from torchvision import datasets, transforms\n",
    "from torchmetrics import MeanSquaredError, PeakSignalNoiseRatio, StructuralSimilarityIndexMeasure\n",
    "from PIL import Image\n",
    "# For utilities\n",
    "import os, shutil, time"
   ]
  },
  {
   "cell_type": "code",
   "execution_count": 2,
   "metadata": {
    "scrolled": true
   },
   "outputs": [
    {
     "data": {
      "text/html": [
       "\n",
       "      <iframe id=\"tensorboard-frame-6f8e4cebe26e5318\" width=\"100%\" height=\"800\" frameborder=\"0\">\n",
       "      </iframe>\n",
       "      <script>\n",
       "        (function() {\n",
       "          const frame = document.getElementById(\"tensorboard-frame-6f8e4cebe26e5318\");\n",
       "          const url = new URL(\"/\", window.location);\n",
       "          const port = 6008;\n",
       "          if (port) {\n",
       "            url.port = port;\n",
       "          }\n",
       "          frame.src = url;\n",
       "        })();\n",
       "      </script>\n",
       "    "
      ],
      "text/plain": [
       "<IPython.core.display.HTML object>"
      ]
     },
     "metadata": {},
     "output_type": "display_data"
    }
   ],
   "source": [
    "%load_ext tensorboard\n",
    "%tensorboard --logdir=runs"
   ]
  },
  {
   "cell_type": "code",
   "execution_count": 3,
   "metadata": {},
   "outputs": [],
   "source": [
    "# colab i kaggle jeszcze nie testowane\n",
    "colab = False\n",
    "kaggle = False\n",
    "test_number = '12_2'"
   ]
  },
  {
   "cell_type": "code",
   "execution_count": 4,
   "metadata": {},
   "outputs": [],
   "source": [
    "color_imgs = 'outputs/color/'\n",
    "gray_imgs = 'outputs/gray/'\n",
    "checkpoints = 'checkpoints'\n",
    "if colab:\n",
    "    from google.colab import drive\n",
    "    drive.mount('/content/drive')\n",
    "    dataset = '/content/drive/MyDrive/MGU/cifar10/'\n",
    "    \n",
    "    color_imgs = f'/content/drive/MyDrive/MGU/{test_number}/{color_imgs}'\n",
    "    gray_imgs = f'/content/drive/MyDrive/MGU/{test_number}/{gray_imgs}'\n",
    "    checkpoints = f'/content/drive/MyDrive/MGU/{test_number}/{checkpoints}'\n",
    "elif kaggle:\n",
    "    dataset = '/kaggle/input/cifar10/'\n",
    "    \n",
    "    color_imgs = f'{test_number}/{color_imgs}'\n",
    "    gray_imgs = f'{test_number}/{gray_imgs}'\n",
    "    checkpoints = f'{test_number}/{checkpoints}'\n",
    "else:\n",
    "    dataset = '../../datasets/cifar10/'"
   ]
  },
  {
   "cell_type": "code",
   "execution_count": 5,
   "metadata": {
    "id": "ckNmKA5VwSh1"
   },
   "outputs": [],
   "source": [
    "# Make folders and set parameters\n",
    "os.makedirs(color_imgs, exist_ok=True)\n",
    "os.makedirs(gray_imgs, exist_ok=True)\n",
    "os.makedirs(checkpoints, exist_ok=True)\n",
    "save_images = True\n",
    "best_losses = [1e10, 1e10, 1e10]\n",
    "best_epoch = -1\n",
    "patience = 50\n",
    "epochs = 500\n",
    "batch_size = 128\n",
    "SIZE = 32"
   ]
  },
  {
   "cell_type": "code",
   "execution_count": 6,
   "metadata": {},
   "outputs": [],
   "source": [
    "from torch.utils.tensorboard import SummaryWriter\n",
    "writer = SummaryWriter()"
   ]
  },
  {
   "cell_type": "code",
   "execution_count": 7,
   "metadata": {
    "id": "gMolrzKA_1uJ"
   },
   "outputs": [
    {
     "name": "stdout",
     "output_type": "stream",
     "text": [
      "True\n"
     ]
    }
   ],
   "source": [
    "# Check if GPU is available\n",
    "use_gpu = torch.cuda.is_available()\n",
    "print(use_gpu)"
   ]
  },
  {
   "cell_type": "code",
   "execution_count": 8,
   "metadata": {
    "id": "05NviQfzU2Mv"
   },
   "outputs": [],
   "source": [
    "class LabImageFolder(torch.utils.data.Dataset):\n",
    "    def __init__(self, paths, split='train'):\n",
    "        if split == 'train':\n",
    "            self.transforms = transforms.Compose([\n",
    "                transforms.Resize((SIZE, SIZE), transforms.InterpolationMode.BICUBIC),\n",
    "                transforms.RandomCrop(SIZE),\n",
    "                transforms.RandomHorizontalFlip(),  \n",
    "                transforms.ToTensor(),\n",
    "                transforms.Normalize((0.4918019, 0.48263696, 0.44733968), (0.24705184, 0.2433789, 0.26162848)),\n",
    "                transforms.ToPILImage(),\n",
    "            ])\n",
    "        elif split == 'val':\n",
    "            self.transforms = transforms.Compose([\n",
    "                transforms.Resize((SIZE, SIZE), transforms.InterpolationMode.BICUBIC), \n",
    "                transforms.RandomCrop(SIZE), \n",
    "                transforms.ToTensor(),\n",
    "                transforms.Normalize((0.4918019, 0.48263696, 0.44733968), (0.24705184, 0.2433789, 0.26162848)),\n",
    "                transforms.ToPILImage(),\n",
    "            ])\n",
    "            \n",
    "        self.split = split\n",
    "        self.size = SIZE\n",
    "        self.paths = [os.path.join(paths, file) for file in os.listdir(paths) if os.path.isfile(\n",
    "            os.path.join(paths, file))]\n",
    "        \n",
    "        \n",
    "    def __getitem__(self, index):\n",
    "        img = Image.open(self.paths[index]).convert(\"RGB\")\n",
    "        img_original = self.transforms(img)\n",
    "        img_original = np.asarray(img_original)\n",
    "        img_lab = rgb2lab(img_original)\n",
    "        img_lab = (img_lab + 128) / 255\n",
    "        img_ab = img_lab[:, :, 1:3]\n",
    "        img_ab = torch.from_numpy(img_ab.transpose((2, 0, 1))).float()\n",
    "        img_gray = rgb2gray(img_original)\n",
    "        img_gray = torch.from_numpy(img_gray).unsqueeze(0).float()\n",
    "        return img_gray, img_ab\n",
    "    \n",
    "    def __len__(self):\n",
    "        return len(self.paths)"
   ]
  },
  {
   "cell_type": "code",
   "execution_count": 9,
   "metadata": {},
   "outputs": [],
   "source": [
    "# Training\n",
    "train_imagefolder = LabImageFolder(dataset + 'train')\n",
    "train_loader = torch.utils.data.DataLoader(train_imagefolder, batch_size=batch_size, shuffle=True)\n",
    "# Validation \n",
    "val_imagefolder = LabImageFolder(dataset + 'val' , 'val')\n",
    "val_loader = torch.utils.data.DataLoader(val_imagefolder, batch_size=batch_size, shuffle=False)"
   ]
  },
  {
   "cell_type": "code",
   "execution_count": 10,
   "metadata": {
    "id": "NOQfP1feNkfS"
   },
   "outputs": [],
   "source": [
    "kernel_size=3\n",
    "stride_en=2\n",
    "stride_de=1\n",
    "padding=1\n",
    "scale_factor=2\n",
    "padding_mode='zeros'\n",
    "channels_base = 16\n",
    "p1 = .5\n",
    "p2 = .25\n",
    "\n",
    "class Autoencoder(nn.Module):\n",
    "    def __init__(self):\n",
    "        super(Autoencoder, self).__init__()\n",
    "\n",
    "        self.conv1 = nn.Conv2d(1, channels_base, kernel_size=kernel_size, stride=stride_en, padding=padding, padding_mode=padding_mode)\n",
    "        self.conv2 = nn.Conv2d(channels_base, channels_base * 2, kernel_size=kernel_size, stride=stride_en, padding=padding, padding_mode=padding_mode)\n",
    "        \n",
    "        self.convtrans1 = nn.ConvTranspose2d(channels_base * 2, channels_base, kernel_size=kernel_size, stride=stride_de, padding=padding, padding_mode=padding_mode)\n",
    "        self.convtrans2 = nn.ConvTranspose2d(channels_base, channels_base // 2, kernel_size=kernel_size, stride=stride_de, padding=padding, padding_mode=padding_mode)\n",
    "        self.convtrans3 = nn.ConvTranspose2d(channels_base // 2, 2, kernel_size=kernel_size, stride=stride_de, padding=padding, padding_mode=padding_mode)\n",
    "\n",
    "        self.batchnorm1 = nn.BatchNorm2d(channels_base // 2)\n",
    "        self.batchnorm2 = nn.BatchNorm2d(channels_base)\n",
    "        self.batchnorm3 = nn.BatchNorm2d(channels_base * 2)\n",
    "        \n",
    "        self.dropout1 = nn.Dropout(p=p1)\n",
    "        self.dropout2 = nn.Dropout(p=p2)\n",
    "        \n",
    "        \n",
    "    def forward(self, input):\n",
    "        # encoder\n",
    "        x = F.relu(self.batchnorm2(self.conv1(input)))\n",
    "        x = self.dropout1(x)\n",
    "        x = F.relu(self.batchnorm3(self.conv2(x)))\n",
    "        x = self.dropout2(x)\n",
    "        \n",
    "        # decoder\n",
    "        x = F.relu(self.batchnorm2(self.convtrans1(x)))\n",
    "        x = self.dropout2(x)\n",
    "        x = F.interpolate(x, scale_factor=scale_factor)\n",
    "        x = F.relu(self.batchnorm1(self.convtrans2(x)))\n",
    "        x = self.dropout1(x)\n",
    "        x = F.interpolate(self.convtrans3(x), scale_factor=scale_factor)\n",
    "\n",
    "        return x"
   ]
  },
  {
   "cell_type": "code",
   "execution_count": 11,
   "metadata": {
    "id": "OtRkAkIjTeq1"
   },
   "outputs": [],
   "source": [
    "model = Autoencoder()"
   ]
  },
  {
   "cell_type": "code",
   "execution_count": 12,
   "metadata": {},
   "outputs": [],
   "source": [
    "criterion = [MeanSquaredError(), PeakSignalNoiseRatio(data_range=1.0), StructuralSimilarityIndexMeasure(data_range=1.0)]"
   ]
  },
  {
   "cell_type": "code",
   "execution_count": 13,
   "metadata": {
    "id": "j3YZ3977TTl4"
   },
   "outputs": [],
   "source": [
    "optimizer = torch.optim.Adam(model.parameters(), lr=1e-2)"
   ]
  },
  {
   "cell_type": "code",
   "execution_count": 14,
   "metadata": {
    "id": "eeHK3BUtANrw"
   },
   "outputs": [],
   "source": [
    "# # Move model and loss function to GPU\n",
    "if use_gpu: \n",
    "    criterion = [criterion[0].to(\"cuda\"), criterion[1].to(\"cuda\"), criterion[2].to(\"cuda\")]\n",
    "    model = model.cuda()"
   ]
  },
  {
   "cell_type": "code",
   "execution_count": 15,
   "metadata": {
    "scrolled": false
   },
   "outputs": [
    {
     "name": "stdout",
     "output_type": "stream",
     "text": [
      "----------------------------------------------------------------\n",
      "        Layer (type)               Output Shape         Param #\n",
      "================================================================\n",
      "            Conv2d-1           [-1, 16, 16, 16]             160\n",
      "       BatchNorm2d-2           [-1, 16, 16, 16]              32\n",
      "           Dropout-3           [-1, 16, 16, 16]               0\n",
      "            Conv2d-4             [-1, 32, 8, 8]           4,640\n",
      "       BatchNorm2d-5             [-1, 32, 8, 8]              64\n",
      "           Dropout-6             [-1, 32, 8, 8]               0\n",
      "   ConvTranspose2d-7             [-1, 16, 8, 8]           4,624\n",
      "       BatchNorm2d-8             [-1, 16, 8, 8]              32\n",
      "           Dropout-9             [-1, 16, 8, 8]               0\n",
      "  ConvTranspose2d-10            [-1, 8, 16, 16]           1,160\n",
      "      BatchNorm2d-11            [-1, 8, 16, 16]              16\n",
      "          Dropout-12            [-1, 8, 16, 16]               0\n",
      "  ConvTranspose2d-13            [-1, 2, 16, 16]             146\n",
      "================================================================\n",
      "Total params: 10,874\n",
      "Trainable params: 10,874\n",
      "Non-trainable params: 0\n",
      "----------------------------------------------------------------\n",
      "Input size (MB): 0.00\n",
      "Forward/backward pass size (MB): 0.21\n",
      "Params size (MB): 0.04\n",
      "Estimated Total Size (MB): 0.26\n",
      "----------------------------------------------------------------\n"
     ]
    }
   ],
   "source": [
    "if use_gpu: \n",
    "    from torchsummary import summary\n",
    "    summary(model, (1, SIZE, SIZE))"
   ]
  },
  {
   "cell_type": "code",
   "execution_count": 16,
   "metadata": {
    "id": "2FDRt12jsIkr"
   },
   "outputs": [],
   "source": [
    "class AverageMeter(object):\n",
    "    '''A handy class from the PyTorch ImageNet tutorial''' \n",
    "    def __init__(self):\n",
    "        self.reset()\n",
    "    def reset(self):\n",
    "        self.val, self.avg, self.sum, self.count = 0, 0, 0, 0\n",
    "    def update(self, val, n=1):\n",
    "        self.val = val\n",
    "        self.sum += val * n\n",
    "        self.count += n\n",
    "        self.avg = self.sum / self.count\n",
    "\n",
    "def to_rgb(grayscale_input, ab_input, save_path=None, save_name=None):\n",
    "    '''Show/save rgb image from grayscale and ab channels\n",
    "       Input save_path in the form {'grayscale': '/path/', 'colorized': '/path/'}'''\n",
    "    plt.clf() # clear matplotlib \n",
    "    color_image = torch.cat((grayscale_input, ab_input), 0).numpy() # combine channels\n",
    "    color_image = color_image.transpose((1, 2, 0))  # rescale for matplotlib\n",
    "    color_image[:, :, 0:1] = color_image[:, :, 0:1] * 100\n",
    "    color_image[:, :, 1:3] = color_image[:, :, 1:3] * 255 - 128   \n",
    "    color_image = lab2rgb(color_image.astype(np.float64))\n",
    "    grayscale_input = grayscale_input.squeeze().numpy()\n",
    "    if save_path is not None and save_name is not None: \n",
    "        plt.imsave(arr=grayscale_input, fname='{}{}'.format(save_path['grayscale'], save_name), cmap='gray')\n",
    "        plt.imsave(arr=color_image, fname='{}{}'.format(save_path['colorized'], save_name))"
   ]
  },
  {
   "cell_type": "code",
   "execution_count": 17,
   "metadata": {
    "id": "M_OTbyOcrh9J"
   },
   "outputs": [],
   "source": [
    "def validate(val_loader, model, criterion, save_images, epoch):\n",
    "    _loss = [AverageMeter(), AverageMeter(), AverageMeter()]\n",
    "\n",
    "    model.eval()\n",
    "    already_saved_images = False\n",
    "    for gray, ab in val_loader:\n",
    "        if use_gpu: \n",
    "            gray, ab = gray.cuda(), ab.cuda()\n",
    "\n",
    "        # Run model and record loss\n",
    "        output_ab = model(gray) # throw away class predictions\n",
    "        loss = [criterion[0](output_ab, ab), criterion[1](output_ab, ab), criterion[2](output_ab, ab)]\n",
    "        \n",
    "        _loss[0].update(loss[0].item(), gray.size(0))\n",
    "        _loss[1].update(loss[1].item(), gray.size(0))\n",
    "        _loss[2].update(loss[2].item(), gray.size(0))\n",
    "\n",
    "        # Save images to file\n",
    "        if save_images and not already_saved_images:\n",
    "            already_saved_images = True\n",
    "            for j in range(min(len(output_ab), 10)): # save at most 5 images\n",
    "                save_path = {'grayscale': gray_imgs, 'colorized': color_imgs}\n",
    "                save_name = 'img-{}-epoch-{}.jpg'.format(j, epoch)\n",
    "                to_rgb(gray[j].cpu(), ab_input=output_ab[j].detach().cpu(), save_path=save_path, save_name=save_name)\n",
    "\n",
    "    print(f'Validate: MSE {_loss[0].val:.8f} ({_loss[0].avg:.8f}), PSNR {_loss[1].val:.8f} ({_loss[1].avg:.8f}), SSIM {_loss[2].val:.8f} ({_loss[2].avg:.8f})')\n",
    "\n",
    "    print('Finished validation.')\n",
    "    if epoch >= 0:\n",
    "        writer.add_scalar(\"MSE/test\", _loss[0].avg, epoch)\n",
    "        writer.add_scalar(\"PSNR/test\", _loss[1].avg, epoch)\n",
    "        writer.add_scalar(\"SSIM/test\", _loss[2].avg, epoch)\n",
    "    return _loss[0].avg, _loss[1].avg, _loss[2].avg"
   ]
  },
  {
   "cell_type": "code",
   "execution_count": 18,
   "metadata": {
    "id": "FOo__iEnvLMB"
   },
   "outputs": [],
   "source": [
    "def train(train_loader, model, criterion, optimizer, epoch):\n",
    "    print(f'Starting training epoch {epoch}')\n",
    "    _loss = [AverageMeter(), AverageMeter(), AverageMeter()]\n",
    "    \n",
    "    model.train()\n",
    "\n",
    "    for gray, ab in train_loader:\n",
    "        if use_gpu: \n",
    "            gray, ab = gray.cuda(), ab.cuda()\n",
    "            \n",
    "        optimizer.zero_grad()\n",
    "\n",
    "        output_ab = model(gray) \n",
    "        loss = [criterion[0](output_ab, ab), criterion[1](output_ab, ab), criterion[2](output_ab, ab)]\n",
    "        \n",
    "        loss[0].backward()\n",
    "        optimizer.step()\n",
    "        \n",
    "        _loss[0].update(loss[0].item(), gray.size(0))\n",
    "        _loss[1].update(loss[1].item(), gray.size(0))\n",
    "        _loss[2].update(loss[2].item(), gray.size(0))\n",
    "        \n",
    "    print(f'Epoch: {epoch}, MSE {_loss[0].val:.8f} ({_loss[0].avg:.8f}), PSNR {_loss[1].val:.8f} ({_loss[1].avg:.8f}), SSIM {_loss[2].val:.8f} ({_loss[2].avg:.8f})')\n",
    "\n",
    "    print(f'Finished training epoch {epoch}')\n",
    "    if epoch >= 0:\n",
    "        writer.add_scalar(\"MSE/train\", _loss[0].avg, epoch)\n",
    "        writer.add_scalar(\"PSNR/train\", _loss[1].avg, epoch)\n",
    "        writer.add_scalar(\"SSIM/train\", _loss[2].avg, epoch)"
   ]
  },
  {
   "cell_type": "code",
   "execution_count": 19,
   "metadata": {
    "colab": {
     "base_uri": "https://localhost:8080/",
     "height": 625
    },
    "id": "XUR6ALi3AZoO",
    "outputId": "4b274c7b-fc1d-4e14-dc1f-a7ef93f3663f",
    "scrolled": true
   },
   "outputs": [
    {
     "name": "stdout",
     "output_type": "stream",
     "text": [
      "Starting training epoch 0\n",
      "Epoch: 0, MSE 0.02483957 (0.04147606), PSNR 16.04855919 (15.03138940), SSIM 0.09430202 (0.07626922)\n",
      "Finished training epoch 0\n",
      "Validate: MSE 0.02365464 (0.02543552), PSNR 16.26083565 (15.95214610), SSIM 0.06884036 (0.09284113)\n",
      "Finished validation.\n",
      "Starting training epoch 1\n",
      "Epoch: 1, MSE 0.02435324 (0.02422674), PSNR 16.13443184 (16.15842831), SSIM 0.10183704 (0.09910628)\n",
      "Finished training epoch 1\n",
      "Validate: MSE 0.02377229 (0.02538783), PSNR 16.23928833 (15.96012333), SSIM 0.06996810 (0.09447973)\n",
      "Finished validation.\n",
      "Starting training epoch 2\n",
      "Epoch: 2, MSE 0.02289257 (0.02398825), PSNR 16.40305328 (16.20144125), SSIM 0.10055796 (0.10381371)\n",
      "Finished training epoch 2\n",
      "Validate: MSE 0.02302017 (0.02457263), PSNR 16.37891579 (16.10172099), SSIM 0.07301941 (0.09767914)\n",
      "Finished validation.\n",
      "Starting training epoch 3\n",
      "Epoch: 3, MSE 0.02318968 (0.02386717), PSNR 16.34704971 (16.22340911), SSIM 0.11002123 (0.10703809)\n",
      "Finished training epoch 3\n",
      "Validate: MSE 0.02258445 (0.02414350), PSNR 16.46190262 (16.17796791), SSIM 0.07748547 (0.10186842)\n",
      "Finished validation.\n",
      "Starting training epoch 4\n",
      "Epoch: 4, MSE 0.02491558 (0.02376297), PSNR 16.03528976 (16.24218891), SSIM 0.09914118 (0.11146149)\n",
      "Finished training epoch 4\n",
      "Validate: MSE 0.02257707 (0.02412692), PSNR 16.46332359 (16.18079565), SSIM 0.07844216 (0.10335548)\n",
      "Finished validation.\n",
      "Starting training epoch 5\n",
      "Epoch: 5, MSE 0.02326656 (0.02366472), PSNR 16.33267784 (16.26033334), SSIM 0.12322941 (0.11623413)\n",
      "Finished training epoch 5\n",
      "Validate: MSE 0.02258952 (0.02411989), PSNR 16.46092987 (16.18212393), SSIM 0.07769597 (0.10308827)\n",
      "Finished validation.\n",
      "Starting training epoch 6\n",
      "Epoch: 6, MSE 0.02379962 (0.02359658), PSNR 16.23429871 (16.27280430), SSIM 0.12440823 (0.11942283)\n",
      "Finished training epoch 6\n",
      "Validate: MSE 0.02258460 (0.02415079), PSNR 16.46187401 (16.17644867), SSIM 0.07907775 (0.10414538)\n",
      "Finished validation.\n",
      "Starting training epoch 7\n",
      "Epoch: 7, MSE 0.02372053 (0.02353388), PSNR 16.24875641 (16.28427159), SSIM 0.12457088 (0.12206182)\n",
      "Finished training epoch 7\n",
      "Validate: MSE 0.02271238 (0.02423157), PSNR 16.43737221 (16.16168323), SSIM 0.08326703 (0.10823546)\n",
      "Finished validation.\n",
      "Starting training epoch 8\n",
      "Epoch: 8, MSE 0.02381574 (0.02345715), PSNR 16.23135948 (16.29847319), SSIM 0.13170514 (0.12676512)\n",
      "Finished training epoch 8\n",
      "Validate: MSE 0.02327594 (0.02490585), PSNR 16.33092690 (16.04223410), SSIM 0.08180055 (0.10647595)\n",
      "Finished validation.\n",
      "Starting training epoch 9\n",
      "Epoch: 9, MSE 0.02355295 (0.02337169), PSNR 16.27954674 (16.31438191), SSIM 0.12190843 (0.13125377)\n",
      "Finished training epoch 9\n",
      "Validate: MSE 0.02322457 (0.02484363), PSNR 16.34052277 (16.05311282), SSIM 0.08616613 (0.11008701)\n",
      "Finished validation.\n",
      "Starting training epoch 10\n",
      "Epoch: 10, MSE 0.02362586 (0.02332424), PSNR 16.26612282 (16.32308996), SSIM 0.14977649 (0.13381773)\n",
      "Finished training epoch 10\n",
      "Validate: MSE 0.02384362 (0.02545501), PSNR 16.22627640 (15.94725805), SSIM 0.08133529 (0.10653945)\n",
      "Finished validation.\n",
      "Starting training epoch 11\n",
      "Epoch: 11, MSE 0.02399939 (0.02329746), PSNR 16.19799805 (16.32824197), SSIM 0.12862678 (0.13553017)\n",
      "Finished training epoch 11\n",
      "Validate: MSE 0.02515725 (0.02700215), PSNR 15.99336720 (15.69078671), SSIM 0.07795732 (0.10261009)\n",
      "Finished validation.\n",
      "Starting training epoch 12\n",
      "Epoch: 12, MSE 0.02227934 (0.02327411), PSNR 16.52097702 (16.33241110), SSIM 0.14386776 (0.13760960)\n",
      "Finished training epoch 12\n",
      "Validate: MSE 0.02380761 (0.02545820), PSNR 16.23284340 (15.94672681), SSIM 0.07849848 (0.10381068)\n",
      "Finished validation.\n",
      "Starting training epoch 13\n",
      "Epoch: 13, MSE 0.02345319 (0.02323469), PSNR 16.29797935 (16.33996007), SSIM 0.12626681 (0.13933386)\n",
      "Finished training epoch 13\n",
      "Validate: MSE 0.02507456 (0.02673099), PSNR 16.00766754 (15.73454677), SSIM 0.07823901 (0.10346261)\n",
      "Finished validation.\n",
      "Starting training epoch 14\n",
      "Epoch: 14, MSE 0.02295929 (0.02320787), PSNR 16.39041519 (16.34495828), SSIM 0.14686057 (0.14100324)\n",
      "Finished training epoch 14\n",
      "Validate: MSE 0.02487714 (0.02648623), PSNR 16.04199409 (15.77432516), SSIM 0.07837475 (0.10408619)\n",
      "Finished validation.\n",
      "Starting training epoch 15\n",
      "Epoch: 15, MSE 0.02309508 (0.02318906), PSNR 16.36480331 (16.34841504), SSIM 0.14379106 (0.14183519)\n",
      "Finished training epoch 15\n",
      "Validate: MSE 0.02516833 (0.02692048), PSNR 15.99145603 (15.70378440), SSIM 0.07953855 (0.10403069)\n",
      "Finished validation.\n",
      "Starting training epoch 16\n",
      "Epoch: 16, MSE 0.02282074 (0.02318315), PSNR 16.41670418 (16.34939786), SSIM 0.14526381 (0.14237863)\n",
      "Finished training epoch 16\n",
      "Validate: MSE 0.02449024 (0.02628778), PSNR 16.11006927 (15.80746663), SSIM 0.07739037 (0.10211928)\n",
      "Finished validation.\n",
      "Starting training epoch 17\n",
      "Epoch: 17, MSE 0.02240602 (0.02317473), PSNR 16.49635315 (16.35110123), SSIM 0.14418852 (0.14276036)\n",
      "Finished training epoch 17\n",
      "Validate: MSE 0.02463432 (0.02625249), PSNR 16.08459282 (15.81305114), SSIM 0.07998097 (0.10481085)\n",
      "Finished validation.\n",
      "Starting training epoch 18\n",
      "Epoch: 18, MSE 0.02390128 (0.02315716), PSNR 16.21578789 (16.35446041), SSIM 0.13507342 (0.14356815)\n",
      "Finished training epoch 18\n",
      "Validate: MSE 0.02507700 (0.02666206), PSNR 16.00724411 (15.74569761), SSIM 0.08047058 (0.10543228)\n",
      "Finished validation.\n",
      "Starting training epoch 19\n",
      "Epoch: 19, MSE 0.02370810 (0.02316049), PSNR 16.25103188 (16.35372758), SSIM 0.13880639 (0.14392215)\n",
      "Finished training epoch 19\n",
      "Validate: MSE 0.02507620 (0.02676358), PSNR 16.00738144 (15.72928436), SSIM 0.07900043 (0.10376950)\n",
      "Finished validation.\n",
      "Starting training epoch 20\n",
      "Epoch: 20, MSE 0.02304297 (0.02314712), PSNR 16.37461662 (16.35618750), SSIM 0.13177535 (0.14417245)\n",
      "Finished training epoch 20\n",
      "Validate: MSE 0.02567701 (0.02728548), PSNR 15.90455437 (15.64509557), SSIM 0.07965651 (0.10488966)\n",
      "Finished validation.\n",
      "Starting training epoch 21\n",
      "Epoch: 21, MSE 0.02365903 (0.02314462), PSNR 16.26002884 (16.35671033), SSIM 0.14119264 (0.14476967)\n",
      "Finished training epoch 21\n",
      "Validate: MSE 0.02522199 (0.02689405), PSNR 15.98220539 (15.70811634), SSIM 0.08052613 (0.10531513)\n",
      "Finished validation.\n",
      "Starting training epoch 22\n",
      "Epoch: 22, MSE 0.02326304 (0.02311595), PSNR 16.33333588 (16.36201641), SSIM 0.15462026 (0.14592395)\n",
      "Finished training epoch 22\n",
      "Validate: MSE 0.02531132 (0.02694163), PSNR 15.96685219 (15.70023429), SSIM 0.08488582 (0.10937780)\n",
      "Finished validation.\n",
      "Starting training epoch 23\n",
      "Epoch: 23, MSE 0.02328520 (0.02310517), PSNR 16.32919884 (16.36417903), SSIM 0.14258185 (0.14625122)\n",
      "Finished training epoch 23\n",
      "Validate: MSE 0.02530405 (0.02692695), PSNR 15.96809864 (15.70276533), SSIM 0.08228019 (0.10714679)\n",
      "Finished validation.\n",
      "Starting training epoch 24\n",
      "Epoch: 24, MSE 0.02199998 (0.02309692), PSNR 16.57577515 (16.36569145), SSIM 0.15458044 (0.14693202)\n",
      "Finished training epoch 24\n",
      "Validate: MSE 0.02523410 (0.02681427), PSNR 15.98012161 (15.72091227), SSIM 0.08435990 (0.10923029)\n",
      "Finished validation.\n",
      "Starting training epoch 25\n",
      "Epoch: 25, MSE 0.02302957 (0.02308222), PSNR 16.37714195 (16.36835779), SSIM 0.15598279 (0.14723298)\n",
      "Finished training epoch 25\n",
      "Validate: MSE 0.02431129 (0.02584225), PSNR 16.14191818 (15.88139324), SSIM 0.08916138 (0.11342628)\n",
      "Finished validation.\n",
      "Starting training epoch 26\n",
      "Epoch: 26, MSE 0.02273312 (0.02308407), PSNR 16.43340874 (16.36805380), SSIM 0.15666173 (0.14764149)\n",
      "Finished training epoch 26\n",
      "Validate: MSE 0.02592803 (0.02742625), PSNR 15.86230373 (15.62264270), SSIM 0.08533905 (0.11015949)\n",
      "Finished validation.\n",
      "Starting training epoch 27\n",
      "Epoch: 27, MSE 0.02288700 (0.02305024), PSNR 16.40411186 (16.37447312), SSIM 0.14656582 (0.14826552)\n",
      "Finished training epoch 27\n",
      "Validate: MSE 0.02601388 (0.02759667), PSNR 15.84794807 (15.59582438), SSIM 0.08301541 (0.10754837)\n",
      "Finished validation.\n",
      "Starting training epoch 28\n",
      "Epoch: 28, MSE 0.02316258 (0.02306189), PSNR 16.35212898 (16.37225462), SSIM 0.13996515 (0.14820369)\n",
      "Finished training epoch 28\n",
      "Validate: MSE 0.02535134 (0.02690452), PSNR 15.95998955 (15.70630600), SSIM 0.08244756 (0.10738427)\n",
      "Finished validation.\n",
      "Starting training epoch 29\n",
      "Epoch: 29, MSE 0.02337082 (0.02305080), PSNR 16.31325912 (16.37444285), SSIM 0.15264376 (0.14877201)\n",
      "Finished training epoch 29\n",
      "Validate: MSE 0.02427687 (0.02578984), PSNR 16.14807320 (15.89045519), SSIM 0.08501814 (0.10926396)\n",
      "Finished validation.\n",
      "Starting training epoch 30\n"
     ]
    },
    {
     "name": "stdout",
     "output_type": "stream",
     "text": [
      "Epoch: 30, MSE 0.02281313 (0.02303135), PSNR 16.41814995 (16.37800938), SSIM 0.15071207 (0.14929487)\n",
      "Finished training epoch 30\n",
      "Validate: MSE 0.02433165 (0.02594472), PSNR 16.13828278 (15.86442223), SSIM 0.08576465 (0.10957053)\n",
      "Finished validation.\n",
      "Starting training epoch 31\n",
      "Epoch: 31, MSE 0.02386449 (0.02302089), PSNR 16.22247696 (16.37994954), SSIM 0.14488378 (0.14961959)\n",
      "Finished training epoch 31\n",
      "Validate: MSE 0.02450392 (0.02605857), PSNR 16.10764313 (15.84522052), SSIM 0.08728750 (0.11067313)\n",
      "Finished validation.\n",
      "Starting training epoch 32\n",
      "Epoch: 32, MSE 0.02362737 (0.02301992), PSNR 16.26584625 (16.38014289), SSIM 0.13754161 (0.15000170)\n",
      "Finished training epoch 32\n",
      "Validate: MSE 0.02532502 (0.02701300), PSNR 15.96450233 (15.68886338), SSIM 0.07942569 (0.10423776)\n",
      "Finished validation.\n",
      "Starting training epoch 33\n",
      "Epoch: 33, MSE 0.02414250 (0.02301726), PSNR 16.17217636 (16.38058557), SSIM 0.14853998 (0.15009570)\n",
      "Finished training epoch 33\n",
      "Validate: MSE 0.02660464 (0.02820027), PSNR 15.75042534 (15.50163640), SSIM 0.08342391 (0.10805067)\n",
      "Finished validation.\n",
      "Starting training epoch 34\n",
      "Epoch: 34, MSE 0.02324660 (0.02300459), PSNR 16.33640480 (16.38293366), SSIM 0.14898768 (0.15044037)\n",
      "Finished training epoch 34\n",
      "Validate: MSE 0.02461337 (0.02626509), PSNR 16.08828735 (15.81104520), SSIM 0.08296263 (0.10702325)\n",
      "Finished validation.\n",
      "Starting training epoch 35\n",
      "Epoch: 35, MSE 0.02238643 (0.02301724), PSNR 16.50015068 (16.38054344), SSIM 0.15768667 (0.15030975)\n",
      "Finished training epoch 35\n",
      "Validate: MSE 0.02440424 (0.02606661), PSNR 16.12534523 (15.84404742), SSIM 0.08135507 (0.10564512)\n",
      "Finished validation.\n",
      "Starting training epoch 36\n",
      "Epoch: 36, MSE 0.02322121 (0.02300032), PSNR 16.34115028 (16.38377895), SSIM 0.15254219 (0.15048475)\n",
      "Finished training epoch 36\n",
      "Validate: MSE 0.02516373 (0.02682474), PSNR 15.99225044 (15.71917776), SSIM 0.08719818 (0.11044669)\n",
      "Finished validation.\n",
      "Starting training epoch 37\n",
      "Epoch: 37, MSE 0.02278330 (0.02301602), PSNR 16.42383385 (16.38105525), SSIM 0.15295061 (0.15061407)\n",
      "Finished training epoch 37\n",
      "Validate: MSE 0.02487700 (0.02649070), PSNR 16.04201889 (15.77372430), SSIM 0.08443903 (0.10827663)\n",
      "Finished validation.\n",
      "Starting training epoch 38\n",
      "Epoch: 38, MSE 0.02371467 (0.02299823), PSNR 16.24982834 (16.38439049), SSIM 0.14862224 (0.15090820)\n",
      "Finished training epoch 38\n",
      "Validate: MSE 0.02608945 (0.02788168), PSNR 15.83535004 (15.55115813), SSIM 0.08427288 (0.10773900)\n",
      "Finished validation.\n",
      "Starting training epoch 39\n",
      "Epoch: 39, MSE 0.02354220 (0.02299329), PSNR 16.28152847 (16.38513416), SSIM 0.15326725 (0.15103796)\n",
      "Finished training epoch 39\n",
      "Validate: MSE 0.02505120 (0.02673088), PSNR 16.01171494 (15.73454788), SSIM 0.08464807 (0.10828637)\n",
      "Finished validation.\n",
      "Starting training epoch 40\n",
      "Epoch: 40, MSE 0.02295902 (0.02298482), PSNR 16.39046669 (16.38682648), SSIM 0.15428783 (0.15128981)\n",
      "Finished training epoch 40\n",
      "Validate: MSE 0.02519481 (0.02695399), PSNR 15.98688793 (15.69847352), SSIM 0.08201951 (0.10579590)\n",
      "Finished validation.\n",
      "Starting training epoch 41\n",
      "Epoch: 41, MSE 0.02293145 (0.02299068), PSNR 16.39568329 (16.38581401), SSIM 0.14420095 (0.15107225)\n",
      "Finished training epoch 41\n",
      "Validate: MSE 0.02427896 (0.02592753), PSNR 16.14769936 (15.86735916), SSIM 0.07973704 (0.10416758)\n",
      "Finished validation.\n",
      "Starting training epoch 42\n",
      "Epoch: 42, MSE 0.02370911 (0.02299206), PSNR 16.25084686 (16.38532574), SSIM 0.14709841 (0.15119597)\n",
      "Finished training epoch 42\n",
      "Validate: MSE 0.02671765 (0.02847575), PSNR 15.73201752 (15.45942883), SSIM 0.08128785 (0.10543798)\n",
      "Finished validation.\n",
      "Starting training epoch 43\n",
      "Epoch: 43, MSE 0.02253219 (0.02299446), PSNR 16.47196579 (16.38495919), SSIM 0.14067015 (0.15133289)\n",
      "Finished training epoch 43\n",
      "Validate: MSE 0.02429569 (0.02600746), PSNR 16.14470673 (15.85397734), SSIM 0.08063459 (0.10493156)\n",
      "Finished validation.\n",
      "Starting training epoch 44\n",
      "Epoch: 44, MSE 0.02270458 (0.02297732), PSNR 16.43886566 (16.38826063), SSIM 0.15317896 (0.15168936)\n",
      "Finished training epoch 44\n",
      "Validate: MSE 0.02507189 (0.02682492), PSNR 16.00812912 (15.71923463), SSIM 0.08531762 (0.10850157)\n",
      "Finished validation.\n",
      "Starting training epoch 45\n",
      "Epoch: 45, MSE 0.02354603 (0.02298269), PSNR 16.28082466 (16.38725910), SSIM 0.14486721 (0.15172255)\n",
      "Finished training epoch 45\n",
      "Validate: MSE 0.02608039 (0.02782067), PSNR 15.83685875 (15.56068114), SSIM 0.08215366 (0.10622414)\n",
      "Finished validation.\n",
      "Starting training epoch 46\n",
      "Epoch: 46, MSE 0.02292281 (0.02297210), PSNR 16.39732170 (16.38922402), SSIM 0.14706020 (0.15193767)\n",
      "Finished training epoch 46\n",
      "Validate: MSE 0.02464700 (0.02632046), PSNR 16.08235931 (15.80182738), SSIM 0.08153507 (0.10565713)\n",
      "Finished validation.\n",
      "Starting training epoch 47\n",
      "Epoch: 47, MSE 0.02315470 (0.02296875), PSNR 16.35360718 (16.38985343), SSIM 0.13843755 (0.15205099)\n",
      "Finished training epoch 47\n",
      "Validate: MSE 0.02592693 (0.02763383), PSNR 15.86248779 (15.58992411), SSIM 0.08219061 (0.10642604)\n",
      "Finished validation.\n",
      "Starting training epoch 48\n",
      "Epoch: 48, MSE 0.02358480 (0.02297250), PSNR 16.27367783 (16.38914834), SSIM 0.14376454 (0.15203537)\n",
      "Finished training epoch 48\n",
      "Validate: MSE 0.02502153 (0.02665527), PSNR 16.01686096 (15.74686056), SSIM 0.08016935 (0.10499978)\n",
      "Finished validation.\n",
      "Starting training epoch 49\n",
      "Epoch: 49, MSE 0.02302114 (0.02297735), PSNR 16.37873077 (16.38814549), SSIM 0.14593752 (0.15226421)\n",
      "Finished training epoch 49\n",
      "Validate: MSE 0.02406243 (0.02566748), PSNR 16.18660355 (15.91125950), SSIM 0.08034426 (0.10507858)\n",
      "Finished validation.\n",
      "Starting training epoch 50\n",
      "Epoch: 50, MSE 0.02387377 (0.02297030), PSNR 16.22078896 (16.38946026), SSIM 0.15799823 (0.15218986)\n",
      "Finished training epoch 50\n",
      "Validate: MSE 0.02473451 (0.02640071), PSNR 16.06696701 (15.78855931), SSIM 0.08343000 (0.10772718)\n",
      "Finished validation.\n",
      "Starting training epoch 51\n",
      "Epoch: 51, MSE 0.02274667 (0.02296558), PSNR 16.43082047 (16.39055377), SSIM 0.15193206 (0.15247770)\n",
      "Finished training epoch 51\n",
      "Validate: MSE 0.02423320 (0.02592181), PSNR 16.15589142 (15.86826240), SSIM 0.08080944 (0.10537101)\n",
      "Finished validation.\n",
      "Starting training epoch 52\n",
      "Epoch: 52, MSE 0.02295665 (0.02295924), PSNR 16.39091492 (16.39160257), SSIM 0.16017382 (0.15261609)\n",
      "Finished training epoch 52\n",
      "Validate: MSE 0.02541039 (0.02714863), PSNR 15.94988728 (15.66722243), SSIM 0.08230960 (0.10620528)\n",
      "Finished validation.\n",
      "Starting training epoch 53\n",
      "Epoch: 53, MSE 0.02242310 (0.02296815), PSNR 16.49304390 (16.39004429), SSIM 0.14834185 (0.15253771)\n",
      "Finished training epoch 53\n",
      "Validate: MSE 0.02439977 (0.02612153), PSNR 16.12614250 (15.83504099), SSIM 0.07865140 (0.10323517)\n",
      "Finished validation.\n",
      "Starting training epoch 54\n",
      "Epoch: 54, MSE 0.02410599 (0.02295137), PSNR 16.17875099 (16.39316855), SSIM 0.14977832 (0.15283651)\n",
      "Finished training epoch 54\n",
      "Validate: MSE 0.02582036 (0.02753988), PSNR 15.88037682 (15.60474963), SSIM 0.07916413 (0.10405354)\n",
      "Finished validation.\n",
      "Starting training epoch 55\n",
      "Epoch: 55, MSE 0.02424529 (0.02295433), PSNR 16.15372658 (16.39239649), SSIM 0.13964792 (0.15286977)\n",
      "Finished training epoch 55\n",
      "Validate: MSE 0.02517464 (0.02696139), PSNR 15.99036694 (15.69721484), SSIM 0.07985614 (0.10425533)\n",
      "Finished validation.\n"
     ]
    },
    {
     "data": {
      "text/plain": [
       "<Figure size 432x288 with 0 Axes>"
      ]
     },
     "metadata": {},
     "output_type": "display_data"
    }
   ],
   "source": [
    "# Train model\n",
    "for epoch in range(epochs):\n",
    "    # Train for one epoch, then validate\n",
    "    train(train_loader, model, criterion, optimizer, epoch)\n",
    "    with torch.no_grad():\n",
    "        losses = validate(val_loader, model, criterion, save_images, epoch)\n",
    "    # Save checkpoint and replace old best model if current model is better\n",
    "    if losses[0] < best_losses[0]:\n",
    "        best_losses[0] = losses[0]\n",
    "        best_epoch = epoch\n",
    "        torch.save(model.state_dict(), f'{checkpoints}/epoch-{epoch}-MSELoss-{losses[0]:.8f}.pth')\n",
    "    if losses[1] < best_losses[1]:\n",
    "        best_losses[1] = losses[1]\n",
    "        torch.save(model.state_dict(), f'{checkpoints}/epoch-{epoch}-PSNRLoss-{losses[1]:.8f}.pth')\n",
    "    if losses[2] < best_losses[2]:\n",
    "        best_losses[2] = losses[2]\n",
    "        torch.save(model.state_dict(), f'{checkpoints}/epoch-{epoch}-SSIMLoss-{losses[2]:.8f}.pth')\n",
    "    \n",
    "    if epoch - best_epoch >= patience:\n",
    "        torch.save(model.state_dict(), f'{checkpoints}/epoch-{epoch}-MSELoss-{losses[0]:.8f}-early_stop.pth')\n",
    "        break\n",
    "    \n",
    "    if epoch == epochs - 1:\n",
    "        torch.save(model.state_dict(), f'{checkpoints}/epoch-{epoch}-last-{losses[0]:.8f}-{losses[1]:.8f}-{losses[2]:.8f}.pth')\n"
   ]
  },
  {
   "cell_type": "code",
   "execution_count": 20,
   "metadata": {
    "scrolled": true
   },
   "outputs": [],
   "source": [
    "torch.save(model.state_dict(), f'{checkpoints}/last-{losses[0]:.8f}-{losses[1]:.8f}-{losses[2]:.8f}.pth')"
   ]
  },
  {
   "cell_type": "code",
   "execution_count": 21,
   "metadata": {
    "colab": {
     "base_uri": "https://localhost:8080/",
     "height": 1593
    },
    "id": "UcovGnpHMl9D",
    "outputId": "90b7a2b4-dc03-4862-cf02-c7ddbbb7e500"
   },
   "outputs": [
    {
     "name": "stdout",
     "output_type": "stream",
     "text": [
      "Validate: MSE 0.02517464 (0.02696139), PSNR 15.99036694 (15.69721484), SSIM 0.07985614 (0.10425533)\n",
      "Finished validation.\n"
     ]
    },
    {
     "data": {
      "text/plain": [
       "<Figure size 432x288 with 0 Axes>"
      ]
     },
     "metadata": {},
     "output_type": "display_data"
    }
   ],
   "source": [
    "# Validate\n",
    "save_images = True\n",
    "with torch.no_grad():\n",
    "    validate(val_loader, model, criterion, save_images, -1)"
   ]
  },
  {
   "cell_type": "code",
   "execution_count": 22,
   "metadata": {},
   "outputs": [],
   "source": [
    "# # Show images \n",
    "# image_pairs = []\n",
    "\n",
    "# for i in range(10):\n",
    "#     image_pairs.append((f'{color_imgs}img-{i}-epoch-{best_epoch}.jpg', f'{gray_imgs}img-{i}-epoch-{best_epoch}.jpg'))\n",
    "    \n",
    "# for c, g in image_pairs:\n",
    "#   color = mpimg.imread(c)\n",
    "#   gray  = mpimg.imread(g)\n",
    "#   f, axarr = plt.subplots(1, 2)\n",
    "#   f.set_size_inches(15, 15)\n",
    "#   axarr[0].imshow(gray, cmap='gray')\n",
    "#   axarr[1].imshow(color)\n",
    "#   axarr[0].axis('off'), axarr[1].axis('off')\n",
    "#   plt.show()"
   ]
  },
  {
   "cell_type": "code",
   "execution_count": null,
   "metadata": {},
   "outputs": [],
   "source": []
  }
 ],
 "metadata": {
  "accelerator": "GPU",
  "colab": {
   "provenance": []
  },
  "kernelspec": {
   "display_name": "Python 3 (ipykernel)",
   "language": "python",
   "name": "python3"
  },
  "language_info": {
   "codemirror_mode": {
    "name": "ipython",
    "version": 3
   },
   "file_extension": ".py",
   "mimetype": "text/x-python",
   "name": "python",
   "nbconvert_exporter": "python",
   "pygments_lexer": "ipython3",
   "version": "3.10.6"
  }
 },
 "nbformat": 4,
 "nbformat_minor": 4
}
