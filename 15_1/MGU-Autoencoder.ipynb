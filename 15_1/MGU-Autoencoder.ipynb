{
 "cells": [
  {
   "cell_type": "code",
   "execution_count": 1,
   "metadata": {
    "id": "J_Y9UFYhKbuE"
   },
   "outputs": [],
   "source": [
    "# For plotting\n",
    "import numpy as np\n",
    "import matplotlib.pyplot as plt\n",
    "import matplotlib.image as mpimg\n",
    "%matplotlib inline\n",
    "# For conversion\n",
    "from skimage.color import lab2rgb, rgb2lab, rgb2gray\n",
    "from skimage import io\n",
    "# For everything\n",
    "import torch\n",
    "import torch.nn as nn\n",
    "import torch.nn.functional as F\n",
    "# For our model\n",
    "import torchvision\n",
    "import torchvision.models as models\n",
    "from torchvision import datasets, transforms\n",
    "from torchmetrics import MeanSquaredError, PeakSignalNoiseRatio, StructuralSimilarityIndexMeasure\n",
    "from PIL import Image\n",
    "# For utilities\n",
    "import os, shutil, time"
   ]
  },
  {
   "cell_type": "code",
   "execution_count": 2,
   "metadata": {
    "scrolled": true
   },
   "outputs": [
    {
     "data": {
      "text/html": [
       "\n",
       "      <iframe id=\"tensorboard-frame-3ec460fb52bfdf91\" width=\"100%\" height=\"800\" frameborder=\"0\">\n",
       "      </iframe>\n",
       "      <script>\n",
       "        (function() {\n",
       "          const frame = document.getElementById(\"tensorboard-frame-3ec460fb52bfdf91\");\n",
       "          const url = new URL(\"/\", window.location);\n",
       "          const port = 6007;\n",
       "          if (port) {\n",
       "            url.port = port;\n",
       "          }\n",
       "          frame.src = url;\n",
       "        })();\n",
       "      </script>\n",
       "    "
      ],
      "text/plain": [
       "<IPython.core.display.HTML object>"
      ]
     },
     "metadata": {},
     "output_type": "display_data"
    }
   ],
   "source": [
    "%load_ext tensorboard\n",
    "%tensorboard --logdir=runs"
   ]
  },
  {
   "cell_type": "code",
   "execution_count": 3,
   "metadata": {},
   "outputs": [],
   "source": [
    "# colab i kaggle jeszcze nie testowane\n",
    "colab = False\n",
    "kaggle = False\n",
    "test_number = '12_2'"
   ]
  },
  {
   "cell_type": "code",
   "execution_count": 4,
   "metadata": {},
   "outputs": [],
   "source": [
    "color_imgs = 'outputs/color/'\n",
    "gray_imgs = 'outputs/gray/'\n",
    "checkpoints = 'checkpoints'\n",
    "if colab:\n",
    "    from google.colab import drive\n",
    "    drive.mount('/content/drive')\n",
    "    dataset = '/content/drive/MyDrive/MGU/cifar10/'\n",
    "    \n",
    "    color_imgs = f'/content/drive/MyDrive/MGU/{test_number}/{color_imgs}'\n",
    "    gray_imgs = f'/content/drive/MyDrive/MGU/{test_number}/{gray_imgs}'\n",
    "    checkpoints = f'/content/drive/MyDrive/MGU/{test_number}/{checkpoints}'\n",
    "elif kaggle:\n",
    "    dataset = '/kaggle/input/cifar10/'\n",
    "    \n",
    "    color_imgs = f'{test_number}/{color_imgs}'\n",
    "    gray_imgs = f'{test_number}/{gray_imgs}'\n",
    "    checkpoints = f'{test_number}/{checkpoints}'\n",
    "else:\n",
    "    dataset = '../../datasets/cifar10/'"
   ]
  },
  {
   "cell_type": "code",
   "execution_count": 5,
   "metadata": {
    "id": "ckNmKA5VwSh1"
   },
   "outputs": [],
   "source": [
    "# Make folders and set parameters\n",
    "os.makedirs(color_imgs, exist_ok=True)\n",
    "os.makedirs(gray_imgs, exist_ok=True)\n",
    "os.makedirs(checkpoints, exist_ok=True)\n",
    "save_images = True\n",
    "best_losses = [1e10, 1e10, 1e10]\n",
    "best_epoch = -1\n",
    "patience = 50\n",
    "epochs = 500\n",
    "batch_size = 128\n",
    "SIZE = 32"
   ]
  },
  {
   "cell_type": "code",
   "execution_count": 6,
   "metadata": {},
   "outputs": [],
   "source": [
    "from torch.utils.tensorboard import SummaryWriter\n",
    "writer = SummaryWriter()"
   ]
  },
  {
   "cell_type": "code",
   "execution_count": 7,
   "metadata": {
    "id": "gMolrzKA_1uJ"
   },
   "outputs": [
    {
     "name": "stdout",
     "output_type": "stream",
     "text": [
      "True\n"
     ]
    }
   ],
   "source": [
    "# Check if GPU is available\n",
    "use_gpu = torch.cuda.is_available()\n",
    "print(use_gpu)"
   ]
  },
  {
   "cell_type": "code",
   "execution_count": 8,
   "metadata": {
    "id": "05NviQfzU2Mv"
   },
   "outputs": [],
   "source": [
    "class LabImageFolder(torch.utils.data.Dataset):\n",
    "    def __init__(self, paths, split='train'):\n",
    "        if split == 'train':\n",
    "            self.transforms = transforms.Compose([\n",
    "                transforms.Resize((SIZE, SIZE), transforms.InterpolationMode.BICUBIC),\n",
    "                transforms.RandomCrop(SIZE),\n",
    "                transforms.RandomHorizontalFlip(),  \n",
    "            ])\n",
    "        elif split == 'val':\n",
    "            self.transforms = transforms.Compose([\n",
    "                transforms.Resize((SIZE, SIZE), transforms.InterpolationMode.BICUBIC), \n",
    "                transforms.RandomCrop(SIZE), \n",
    "            ])\n",
    "            \n",
    "        self.split = split\n",
    "        self.size = SIZE\n",
    "        self.paths = [os.path.join(paths, file) for file in os.listdir(paths) if os.path.isfile(\n",
    "            os.path.join(paths, file))]\n",
    "        \n",
    "        \n",
    "    def __getitem__(self, index):\n",
    "        img = Image.open(self.paths[index]).convert(\"RGB\")\n",
    "        img_original = self.transforms(img)\n",
    "        img_original = np.asarray(img_original)\n",
    "        img_lab = rgb2lab(img_original)\n",
    "        img_lab = (img_lab + 128) / 255\n",
    "        img_ab = img_lab[:, :, 1:3]\n",
    "        img_ab = torch.from_numpy(img_ab.transpose((2, 0, 1))).float()\n",
    "        img_gray = rgb2gray(img_original)\n",
    "        img_gray = torch.from_numpy(img_gray).unsqueeze(0).float()\n",
    "        return img_gray, img_ab\n",
    "    \n",
    "    def __len__(self):\n",
    "        return len(self.paths)"
   ]
  },
  {
   "cell_type": "code",
   "execution_count": 9,
   "metadata": {},
   "outputs": [],
   "source": [
    "# Training\n",
    "train_imagefolder = LabImageFolder(dataset + 'train')\n",
    "train_loader = torch.utils.data.DataLoader(train_imagefolder, batch_size=batch_size, shuffle=True)\n",
    "# Validation \n",
    "val_imagefolder = LabImageFolder(dataset + 'val' , 'val')\n",
    "val_loader = torch.utils.data.DataLoader(val_imagefolder, batch_size=batch_size, shuffle=False)"
   ]
  },
  {
   "cell_type": "code",
   "execution_count": 10,
   "metadata": {
    "id": "NOQfP1feNkfS"
   },
   "outputs": [],
   "source": [
    "kernel_size=3\n",
    "stride_en=1\n",
    "stride_de=1\n",
    "padding=1\n",
    "scale_factor=2\n",
    "padding_mode='zeros'\n",
    "channels_base = 64\n",
    "p1 = .5\n",
    "\n",
    "class Autoencoder(nn.Module):\n",
    "    def __init__(self):\n",
    "        super(Autoencoder, self).__init__()\n",
    "\n",
    "        self.conv1 = nn.Conv2d(1, channels_base, kernel_size=kernel_size, stride=stride_en, padding=padding, padding_mode=padding_mode)\n",
    "        self.conv2 = nn.Conv2d(channels_base, channels_base * 2, kernel_size=kernel_size, stride=stride_en, padding=padding, padding_mode=padding_mode)\n",
    "        \n",
    "        self.convtrans1 = nn.ConvTranspose2d(channels_base * 2, channels_base, kernel_size=kernel_size, stride=stride_de, padding=padding, padding_mode=padding_mode)\n",
    "        self.convtrans2 = nn.ConvTranspose2d(channels_base, channels_base // 2, kernel_size=kernel_size, stride=stride_de, padding=padding, padding_mode=padding_mode)\n",
    "        self.convtrans3 = nn.ConvTranspose2d(channels_base // 2, 2, kernel_size=kernel_size, stride=stride_de, padding=padding, padding_mode=padding_mode)\n",
    "\n",
    "        self.batchnorm1 = nn.BatchNorm2d(channels_base // 2)\n",
    "        self.batchnorm2 = nn.BatchNorm2d(channels_base)\n",
    "        self.batchnorm3 = nn.BatchNorm2d(channels_base * 2)\n",
    "        \n",
    "        self.dropout1 = nn.Dropout(p=p1)        \n",
    "        \n",
    "    def forward(self, input):\n",
    "        # encoder\n",
    "        x = F.relu(self.batchnorm2(self.conv1(input)))\n",
    "        x = F.avg_pool2d(x, kernel_size=3, stride=2, padding=1)\n",
    "        x = y = self.dropout1(x)\n",
    "        x = F.relu(self.batchnorm3(self.conv2(x)))\n",
    "        x = F.avg_pool2d(x, kernel_size=3, stride=2, padding=1)\n",
    "        x = self.dropout1(x)\n",
    "        \n",
    "        # decoder\n",
    "        x = F.relu(self.batchnorm2(self.convtrans1(x)))\n",
    "        x = self.dropout1(x)\n",
    "        x = F.interpolate(x, scale_factor=scale_factor)\n",
    "        x = F.relu(self.batchnorm1(self.convtrans2(x + y)))\n",
    "        x = self.dropout1(x)\n",
    "        x = self.convtrans3(F.interpolate(x, scale_factor=scale_factor) + input)\n",
    "\n",
    "        return x"
   ]
  },
  {
   "cell_type": "code",
   "execution_count": 11,
   "metadata": {
    "id": "OtRkAkIjTeq1"
   },
   "outputs": [],
   "source": [
    "model = Autoencoder()"
   ]
  },
  {
   "cell_type": "code",
   "execution_count": 12,
   "metadata": {},
   "outputs": [],
   "source": [
    "criterion = [MeanSquaredError(), PeakSignalNoiseRatio(data_range=1.0), StructuralSimilarityIndexMeasure(data_range=1.0)]"
   ]
  },
  {
   "cell_type": "code",
   "execution_count": 13,
   "metadata": {
    "id": "j3YZ3977TTl4"
   },
   "outputs": [],
   "source": [
    "optimizer = torch.optim.Adam(model.parameters(), lr=1e-2)"
   ]
  },
  {
   "cell_type": "code",
   "execution_count": 14,
   "metadata": {
    "id": "eeHK3BUtANrw"
   },
   "outputs": [],
   "source": [
    "# # Move model and loss function to GPU\n",
    "if use_gpu: \n",
    "    criterion = [criterion[0].to(\"cuda\"), criterion[1].to(\"cuda\"), criterion[2].to(\"cuda\")]\n",
    "    model = model.cuda()"
   ]
  },
  {
   "cell_type": "code",
   "execution_count": 15,
   "metadata": {
    "scrolled": false
   },
   "outputs": [
    {
     "name": "stdout",
     "output_type": "stream",
     "text": [
      "----------------------------------------------------------------\n",
      "        Layer (type)               Output Shape         Param #\n",
      "================================================================\n",
      "            Conv2d-1           [-1, 64, 32, 32]             640\n",
      "       BatchNorm2d-2           [-1, 64, 32, 32]             128\n",
      "           Dropout-3           [-1, 64, 16, 16]               0\n",
      "            Conv2d-4          [-1, 128, 16, 16]          73,856\n",
      "       BatchNorm2d-5          [-1, 128, 16, 16]             256\n",
      "           Dropout-6            [-1, 128, 8, 8]               0\n",
      "   ConvTranspose2d-7             [-1, 64, 8, 8]          73,792\n",
      "       BatchNorm2d-8             [-1, 64, 8, 8]             128\n",
      "           Dropout-9             [-1, 64, 8, 8]               0\n",
      "  ConvTranspose2d-10           [-1, 32, 16, 16]          18,464\n",
      "      BatchNorm2d-11           [-1, 32, 16, 16]              64\n",
      "          Dropout-12           [-1, 32, 16, 16]               0\n",
      "  ConvTranspose2d-13            [-1, 2, 32, 32]             578\n",
      "================================================================\n",
      "Total params: 167,906\n",
      "Trainable params: 167,906\n",
      "Non-trainable params: 0\n",
      "----------------------------------------------------------------\n",
      "Input size (MB): 0.00\n",
      "Forward/backward pass size (MB): 1.98\n",
      "Params size (MB): 0.64\n",
      "Estimated Total Size (MB): 2.63\n",
      "----------------------------------------------------------------\n"
     ]
    }
   ],
   "source": [
    "if use_gpu: \n",
    "    from torchsummary import summary\n",
    "    summary(model, (1, SIZE, SIZE))"
   ]
  },
  {
   "cell_type": "code",
   "execution_count": 16,
   "metadata": {
    "id": "2FDRt12jsIkr"
   },
   "outputs": [],
   "source": [
    "class AverageMeter(object):\n",
    "    '''A handy class from the PyTorch ImageNet tutorial''' \n",
    "    def __init__(self):\n",
    "        self.reset()\n",
    "    def reset(self):\n",
    "        self.val, self.avg, self.sum, self.count = 0, 0, 0, 0\n",
    "    def update(self, val, n=1):\n",
    "        self.val = val\n",
    "        self.sum += val * n\n",
    "        self.count += n\n",
    "        self.avg = self.sum / self.count\n",
    "\n",
    "def to_rgb(grayscale_input, ab_input, save_path=None, save_name=None):\n",
    "    '''Show/save rgb image from grayscale and ab channels\n",
    "       Input save_path in the form {'grayscale': '/path/', 'colorized': '/path/'}'''\n",
    "    plt.clf() # clear matplotlib \n",
    "    color_image = torch.cat((grayscale_input, ab_input), 0).numpy() # combine channels\n",
    "    color_image = color_image.transpose((1, 2, 0))  # rescale for matplotlib\n",
    "    color_image[:, :, 0:1] = color_image[:, :, 0:1] * 100\n",
    "    color_image[:, :, 1:3] = color_image[:, :, 1:3] * 255 - 128   \n",
    "    color_image = lab2rgb(color_image.astype(np.float64))\n",
    "    grayscale_input = grayscale_input.squeeze().numpy()\n",
    "    if save_path is not None and save_name is not None: \n",
    "        plt.imsave(arr=grayscale_input, fname='{}{}'.format(save_path['grayscale'], save_name), cmap='gray')\n",
    "        plt.imsave(arr=color_image, fname='{}{}'.format(save_path['colorized'], save_name))"
   ]
  },
  {
   "cell_type": "code",
   "execution_count": 17,
   "metadata": {
    "id": "M_OTbyOcrh9J"
   },
   "outputs": [],
   "source": [
    "def validate(val_loader, model, criterion, save_images, epoch):\n",
    "    _loss = [AverageMeter(), AverageMeter(), AverageMeter()]\n",
    "\n",
    "    model.eval()\n",
    "    already_saved_images = False\n",
    "    for gray, ab in val_loader:\n",
    "        if use_gpu: \n",
    "            gray, ab = gray.cuda(), ab.cuda()\n",
    "\n",
    "        # Run model and record loss\n",
    "        output_ab = model(gray) # throw away class predictions\n",
    "        loss = [criterion[0](output_ab, ab), criterion[1](output_ab, ab), criterion[2](output_ab, ab)]\n",
    "        \n",
    "        _loss[0].update(loss[0].item(), gray.size(0))\n",
    "        _loss[1].update(loss[1].item(), gray.size(0))\n",
    "        _loss[2].update(loss[2].item(), gray.size(0))\n",
    "\n",
    "        # Save images to file\n",
    "        if save_images and not already_saved_images:\n",
    "            already_saved_images = True\n",
    "            for j in range(min(len(output_ab), 10)): # save at most 5 images\n",
    "                save_path = {'grayscale': gray_imgs, 'colorized': color_imgs}\n",
    "                save_name = 'img-{}-epoch-{}.jpg'.format(j, epoch)\n",
    "                to_rgb(gray[j].cpu(), ab_input=output_ab[j].detach().cpu(), save_path=save_path, save_name=save_name)\n",
    "\n",
    "    print(f'Validate: MSE {_loss[0].val:.8f} ({_loss[0].avg:.8f}), PSNR {_loss[1].val:.8f} ({_loss[1].avg:.8f}), SSIM {_loss[2].val:.8f} ({_loss[2].avg:.8f})')\n",
    "\n",
    "    print('Finished validation.')\n",
    "    if epoch >= 0:\n",
    "        writer.add_scalar(\"MSE/test\", _loss[0].avg, epoch)\n",
    "        writer.add_scalar(\"PSNR/test\", _loss[1].avg, epoch)\n",
    "        writer.add_scalar(\"SSIM/test\", _loss[2].avg, epoch)\n",
    "    return _loss[0].avg, _loss[1].avg, _loss[2].avg"
   ]
  },
  {
   "cell_type": "code",
   "execution_count": 18,
   "metadata": {
    "id": "FOo__iEnvLMB"
   },
   "outputs": [],
   "source": [
    "def train(train_loader, model, criterion, optimizer, epoch):\n",
    "    print(f'Starting training epoch {epoch}')\n",
    "    _loss = [AverageMeter(), AverageMeter(), AverageMeter()]\n",
    "    \n",
    "    model.train()\n",
    "\n",
    "    for gray, ab in train_loader:\n",
    "        if use_gpu: \n",
    "            gray, ab = gray.cuda(), ab.cuda()\n",
    "            \n",
    "        optimizer.zero_grad()\n",
    "\n",
    "        output_ab = model(gray) \n",
    "        loss = [criterion[0](output_ab, ab), criterion[1](output_ab, ab), criterion[2](output_ab, ab)]\n",
    "        \n",
    "        loss[0].backward()\n",
    "        optimizer.step()\n",
    "        \n",
    "        _loss[0].update(loss[0].item(), gray.size(0))\n",
    "        _loss[1].update(loss[1].item(), gray.size(0))\n",
    "        _loss[2].update(loss[2].item(), gray.size(0))\n",
    "        \n",
    "    print(f'Epoch: {epoch}, MSE {_loss[0].val:.8f} ({_loss[0].avg:.8f}), PSNR {_loss[1].val:.8f} ({_loss[1].avg:.8f}), SSIM {_loss[2].val:.8f} ({_loss[2].avg:.8f})')\n",
    "\n",
    "    print(f'Finished training epoch {epoch}')\n",
    "    if epoch >= 0:\n",
    "        writer.add_scalar(\"MSE/train\", _loss[0].avg, epoch)\n",
    "        writer.add_scalar(\"PSNR/train\", _loss[1].avg, epoch)\n",
    "        writer.add_scalar(\"SSIM/train\", _loss[2].avg, epoch)"
   ]
  },
  {
   "cell_type": "code",
   "execution_count": 19,
   "metadata": {
    "colab": {
     "base_uri": "https://localhost:8080/",
     "height": 625
    },
    "id": "XUR6ALi3AZoO",
    "outputId": "4b274c7b-fc1d-4e14-dc1f-a7ef93f3663f",
    "scrolled": true
   },
   "outputs": [
    {
     "name": "stdout",
     "output_type": "stream",
     "text": [
      "Starting training epoch 0\n",
      "Epoch: 0, MSE 0.00522043 (0.17994463), PSNR 22.82293701 (15.32569262), SSIM 0.37494805 (0.13761798)\n",
      "Finished training epoch 0\n",
      "Validate: MSE 0.00623048 (0.00472282), PSNR 22.05478668 (23.29158536), SSIM 0.37655774 (0.49072437)\n",
      "Finished validation.\n",
      "Starting training epoch 1\n",
      "Epoch: 1, MSE 0.00310523 (0.00361912), PSNR 25.07906151 (24.48675329), SSIM 0.63347578 (0.55804328)\n",
      "Finished training epoch 1\n",
      "Validate: MSE 0.00339104 (0.00293125), PSNR 24.69667053 (25.39921897), SSIM 0.64619464 (0.73082138)\n",
      "Finished validation.\n",
      "Starting training epoch 2\n",
      "Epoch: 2, MSE 0.00414838 (0.00289752), PSNR 23.82121086 (25.40248450), SSIM 0.74974281 (0.73090914)\n",
      "Finished training epoch 2\n",
      "Validate: MSE 0.00337994 (0.00284400), PSNR 24.71091270 (25.52569981), SSIM 0.69409919 (0.76553630)\n",
      "Finished validation.\n",
      "Starting training epoch 3\n",
      "Epoch: 3, MSE 0.00336481 (0.00288707), PSNR 24.73038864 (25.41959402), SSIM 0.73850578 (0.76033992)\n",
      "Finished training epoch 3\n",
      "Validate: MSE 0.00345893 (0.00288056), PSNR 24.61057854 (25.46740146), SSIM 0.70032871 (0.76909529)\n",
      "Finished validation.\n",
      "Starting training epoch 4\n",
      "Epoch: 4, MSE 0.00417559 (0.00298768), PSNR 23.79281998 (25.28646408), SSIM 0.76084918 (0.76537707)\n",
      "Finished training epoch 4\n",
      "Validate: MSE 0.00334846 (0.00283068), PSNR 24.75154686 (25.55376060), SSIM 0.70308650 (0.77191672)\n",
      "Finished validation.\n",
      "Starting training epoch 5\n",
      "Epoch: 5, MSE 0.00319029 (0.00306674), PSNR 24.96169853 (25.18267984), SSIM 0.77546442 (0.76590314)\n",
      "Finished training epoch 5\n",
      "Validate: MSE 0.00325016 (0.00296172), PSNR 24.88095665 (25.38529688), SSIM 0.70198429 (0.77568761)\n",
      "Finished validation.\n",
      "Starting training epoch 6\n",
      "Epoch: 6, MSE 0.00303857 (0.00322843), PSNR 25.17329979 (24.99678436), SSIM 0.75420153 (0.76348341)\n",
      "Finished training epoch 6\n",
      "Validate: MSE 0.00322929 (0.00280039), PSNR 24.90892792 (25.60096683), SSIM 0.70507300 (0.77544528)\n",
      "Finished validation.\n",
      "Starting training epoch 7\n",
      "Epoch: 7, MSE 0.00441220 (0.00376964), PSNR 23.55344391 (24.48827175), SSIM 0.75278902 (0.75486252)\n",
      "Finished training epoch 7\n",
      "Validate: MSE 0.00444058 (0.00360165), PSNR 23.52560043 (24.52458193), SSIM 0.68053651 (0.74807331)\n",
      "Finished validation.\n",
      "Starting training epoch 8\n",
      "Epoch: 8, MSE 0.00347478 (0.00415624), PSNR 24.59072495 (24.02784617), SSIM 0.74172568 (0.74465838)\n",
      "Finished training epoch 8\n",
      "Validate: MSE 0.00324091 (0.00307104), PSNR 24.89333534 (25.21484716), SSIM 0.70052552 (0.77381846)\n",
      "Finished validation.\n",
      "Starting training epoch 9\n",
      "Epoch: 9, MSE 0.00336273 (0.00430327), PSNR 24.73308563 (23.95016069), SSIM 0.74053890 (0.74070517)\n",
      "Finished training epoch 9\n",
      "Validate: MSE 0.00336676 (0.00332412), PSNR 24.72788239 (24.91631981), SSIM 0.69570422 (0.77323775)\n",
      "Finished validation.\n",
      "Starting training epoch 10\n",
      "Epoch: 10, MSE 0.00327600 (0.00493685), PSNR 24.84656334 (23.47437130), SSIM 0.75933260 (0.73412845)\n",
      "Finished training epoch 10\n",
      "Validate: MSE 0.00357551 (0.00322077), PSNR 24.46661949 (24.99050101), SSIM 0.69380450 (0.76361699)\n",
      "Finished validation.\n",
      "Starting training epoch 11\n",
      "Epoch: 11, MSE 0.00606705 (0.00488540), PSNR 22.17022133 (23.48713362), SSIM 0.72708046 (0.73076518)\n",
      "Finished training epoch 11\n",
      "Validate: MSE 0.00611785 (0.00528605), PSNR 22.13401031 (22.86032601), SSIM 0.64914036 (0.71874573)\n",
      "Finished validation.\n",
      "Starting training epoch 12\n",
      "Epoch: 12, MSE 0.00419701 (0.00443124), PSNR 23.77059364 (23.77731374), SSIM 0.73395503 (0.73909189)\n",
      "Finished training epoch 12\n",
      "Validate: MSE 0.00716075 (0.00691079), PSNR 21.45041466 (21.64524515), SSIM 0.61411095 (0.68351278)\n",
      "Finished validation.\n",
      "Starting training epoch 13\n",
      "Epoch: 13, MSE 0.00865647 (0.00499727), PSNR 20.62659073 (23.31829758), SSIM 0.66795266 (0.72928970)\n",
      "Finished training epoch 13\n",
      "Validate: MSE 0.01037629 (0.00931065), PSNR 19.83957863 (20.32816654), SSIM 0.60235423 (0.66653882)\n",
      "Finished validation.\n",
      "Starting training epoch 14\n",
      "Epoch: 14, MSE 0.00278886 (0.00438313), PSNR 25.54573631 (23.89070694), SSIM 0.78551292 (0.73792400)\n",
      "Finished training epoch 14\n",
      "Validate: MSE 0.00340505 (0.00337425), PSNR 24.67875862 (24.85401914), SSIM 0.69396138 (0.77203614)\n",
      "Finished validation.\n",
      "Starting training epoch 15\n",
      "Epoch: 15, MSE 0.00398478 (0.00462631), PSNR 23.99595833 (23.69732365), SSIM 0.70993888 (0.73725149)\n",
      "Finished training epoch 15\n",
      "Validate: MSE 0.00497010 (0.00515301), PSNR 23.03635025 (22.93584171), SSIM 0.65306437 (0.72805351)\n",
      "Finished validation.\n",
      "Starting training epoch 16\n",
      "Epoch: 16, MSE 0.00329481 (0.00515935), PSNR 24.82169724 (23.67866198), SSIM 0.80252922 (0.73302806)\n",
      "Finished training epoch 16\n",
      "Validate: MSE 0.00455939 (0.00377104), PSNR 23.41093063 (24.33535832), SSIM 0.67827630 (0.74616733)\n",
      "Finished validation.\n",
      "Starting training epoch 17\n",
      "Epoch: 17, MSE 0.00343342 (0.00430595), PSNR 24.64273262 (23.96784020), SSIM 0.73785764 (0.73881191)\n",
      "Finished training epoch 17\n",
      "Validate: MSE 0.00371855 (0.00308294), PSNR 24.29625893 (25.16026830), SSIM 0.69786531 (0.76643624)\n",
      "Finished validation.\n",
      "Starting training epoch 18\n",
      "Epoch: 18, MSE 0.00349489 (0.00486585), PSNR 24.56566238 (23.47669774), SSIM 0.75379640 (0.72909262)\n",
      "Finished training epoch 18\n",
      "Validate: MSE 0.00446027 (0.00436953), PSNR 23.50638962 (23.64721337), SSIM 0.66923916 (0.74061037)\n",
      "Finished validation.\n",
      "Starting training epoch 19\n",
      "Epoch: 19, MSE 0.00291673 (0.00495500), PSNR 25.35104179 (23.48025768), SSIM 0.74882114 (0.72717367)\n",
      "Finished training epoch 19\n",
      "Validate: MSE 0.00426392 (0.00380371), PSNR 23.70190620 (24.27123523), SSIM 0.68026578 (0.74888717)\n",
      "Finished validation.\n",
      "Starting training epoch 20\n",
      "Epoch: 20, MSE 0.00410991 (0.00448419), PSNR 23.86168098 (23.75447143), SSIM 0.76260716 (0.73203179)\n",
      "Finished training epoch 20\n",
      "Validate: MSE 0.00519666 (0.00426780), PSNR 22.84275627 (23.73015786), SSIM 0.66848451 (0.73500659)\n",
      "Finished validation.\n",
      "Starting training epoch 21\n",
      "Epoch: 21, MSE 0.00722866 (0.00511389), PSNR 21.40942001 (23.34355849), SSIM 0.67389506 (0.72285805)\n",
      "Finished training epoch 21\n",
      "Validate: MSE 0.00691376 (0.00712095), PSNR 21.60285568 (21.62731328), SSIM 0.62712544 (0.71335963)\n",
      "Finished validation.\n",
      "Starting training epoch 22\n",
      "Epoch: 22, MSE 0.00386963 (0.00441284), PSNR 24.12330055 (23.86339486), SSIM 0.74588680 (0.73367520)\n",
      "Finished training epoch 22\n",
      "Validate: MSE 0.00397980 (0.00380707), PSNR 24.00138092 (24.25229728), SSIM 0.67285323 (0.74209689)\n",
      "Finished validation.\n",
      "Starting training epoch 23\n",
      "Epoch: 23, MSE 0.00271334 (0.00451852), PSNR 25.66495323 (23.74465082), SSIM 0.78162843 (0.72783669)\n",
      "Finished training epoch 23\n",
      "Validate: MSE 0.00417333 (0.00410091), PSNR 23.79517174 (24.02535265), SSIM 0.67606449 (0.75676631)\n",
      "Finished validation.\n",
      "Starting training epoch 24\n",
      "Epoch: 24, MSE 0.00556781 (0.00466686), PSNR 22.54314995 (23.65758559), SSIM 0.71428925 (0.72568079)\n",
      "Finished training epoch 24\n",
      "Validate: MSE 0.00391526 (0.00400846), PSNR 24.07238770 (24.12070669), SSIM 0.68202931 (0.75906306)\n",
      "Finished validation.\n",
      "Starting training epoch 25\n",
      "Epoch: 25, MSE 0.00287871 (0.00445151), PSNR 25.40801811 (23.88931345), SSIM 0.75496441 (0.72727245)\n",
      "Finished training epoch 25\n",
      "Validate: MSE 0.00747318 (0.00667712), PSNR 21.26494217 (21.78194769), SSIM 0.65289736 (0.71783055)\n",
      "Finished validation.\n",
      "Starting training epoch 26\n",
      "Epoch: 26, MSE 0.00282218 (0.00481639), PSNR 25.49415016 (23.54712466), SSIM 0.74990708 (0.72217349)\n",
      "Finished training epoch 26\n",
      "Validate: MSE 0.00364907 (0.00362170), PSNR 24.37817574 (24.51555471), SSIM 0.68042839 (0.75395299)\n",
      "Finished validation.\n",
      "Starting training epoch 27\n",
      "Epoch: 27, MSE 0.00215366 (0.00462520), PSNR 26.66823006 (23.69812499), SSIM 0.77158880 (0.72608210)\n",
      "Finished training epoch 27\n",
      "Validate: MSE 0.00377076 (0.00386780), PSNR 24.23571205 (24.28948485), SSIM 0.68854487 (0.76852106)\n",
      "Finished validation.\n",
      "Starting training epoch 28\n",
      "Epoch: 28, MSE 0.00375291 (0.00407794), PSNR 24.25631332 (24.17719392), SSIM 0.72725725 (0.73260364)\n",
      "Finished training epoch 28\n",
      "Validate: MSE 0.00745898 (0.00833880), PSNR 21.27320671 (20.94010981), SSIM 0.62388098 (0.71303964)\n",
      "Finished validation.\n",
      "Starting training epoch 29\n",
      "Epoch: 29, MSE 0.00377605 (0.00464676), PSNR 24.22961998 (23.75895768), SSIM 0.70623338 (0.72579084)\n",
      "Finished training epoch 29\n",
      "Validate: MSE 0.00378538 (0.00327730), PSNR 24.21890068 (24.92384773), SSIM 0.68785346 (0.75614847)\n",
      "Finished validation.\n",
      "Starting training epoch 30\n"
     ]
    },
    {
     "name": "stdout",
     "output_type": "stream",
     "text": [
      "Epoch: 30, MSE 0.00446210 (0.00455515), PSNR 23.50460815 (23.89999206), SSIM 0.71072280 (0.72913488)\n",
      "Finished training epoch 30\n",
      "Validate: MSE 0.00647594 (0.00536632), PSNR 21.88697243 (22.73935343), SSIM 0.63410360 (0.70094425)\n",
      "Finished validation.\n",
      "Starting training epoch 31\n",
      "Epoch: 31, MSE 0.01016397 (0.00436778), PSNR 19.92936516 (23.91447413), SSIM 0.63450205 (0.72749531)\n",
      "Finished training epoch 31\n",
      "Validate: MSE 0.00992178 (0.00914570), PSNR 20.03410530 (20.42168894), SSIM 0.60907006 (0.67561706)\n",
      "Finished validation.\n",
      "Starting training epoch 32\n",
      "Epoch: 32, MSE 0.01612493 (0.00480398), PSNR 17.92502213 (23.60297576), SSIM 0.60454863 (0.72233691)\n",
      "Finished training epoch 32\n",
      "Validate: MSE 0.01068748 (0.00951764), PSNR 19.71124458 (20.22983057), SSIM 0.59007239 (0.65413511)\n",
      "Finished validation.\n",
      "Starting training epoch 33\n",
      "Epoch: 33, MSE 0.00614428 (0.00417050), PSNR 22.11528587 (24.12901681), SSIM 0.68477070 (0.73050615)\n",
      "Finished training epoch 33\n",
      "Validate: MSE 0.00346645 (0.00347915), PSNR 24.60114479 (24.72996615), SSIM 0.69625926 (0.77324832)\n",
      "Finished validation.\n",
      "Starting training epoch 34\n",
      "Epoch: 34, MSE 0.00308033 (0.00512107), PSNR 25.11403275 (23.41754580), SSIM 0.74413389 (0.71813590)\n",
      "Finished training epoch 34\n",
      "Validate: MSE 0.00433287 (0.00350911), PSNR 23.63224411 (24.62664767), SSIM 0.67717576 (0.74443111)\n",
      "Finished validation.\n",
      "Starting training epoch 35\n",
      "Epoch: 35, MSE 0.00214486 (0.00427772), PSNR 26.68600273 (23.96874566), SSIM 0.76797980 (0.72786664)\n",
      "Finished training epoch 35\n",
      "Validate: MSE 0.00331623 (0.00298480), PSNR 24.79355812 (25.32449928), SSIM 0.69919443 (0.76866924)\n",
      "Finished validation.\n",
      "Starting training epoch 36\n",
      "Epoch: 36, MSE 0.00446779 (0.00457729), PSNR 23.49906921 (23.76943345), SSIM 0.72408783 (0.72592171)\n",
      "Finished training epoch 36\n",
      "Validate: MSE 0.00493356 (0.00540738), PSNR 23.06839180 (22.79315804), SSIM 0.65438592 (0.73721956)\n",
      "Finished validation.\n",
      "Starting training epoch 37\n",
      "Epoch: 37, MSE 0.00428694 (0.00420514), PSNR 23.67852592 (24.12337354), SSIM 0.70956856 (0.72945666)\n",
      "Finished training epoch 37\n",
      "Validate: MSE 0.00454131 (0.00415958), PSNR 23.42819023 (23.89410114), SSIM 0.67640656 (0.74872178)\n",
      "Finished validation.\n",
      "Starting training epoch 38\n",
      "Epoch: 38, MSE 0.00723424 (0.00476328), PSNR 21.40607071 (23.60308191), SSIM 0.64784348 (0.72211810)\n",
      "Finished training epoch 38\n",
      "Validate: MSE 0.00869786 (0.00847728), PSNR 20.60587311 (20.80411891), SSIM 0.60894567 (0.68733389)\n",
      "Finished validation.\n",
      "Starting training epoch 39\n",
      "Epoch: 39, MSE 0.00731223 (0.00402081), PSNR 21.35950279 (24.19211002), SSIM 0.70065749 (0.73160969)\n",
      "Finished training epoch 39\n",
      "Validate: MSE 0.00465295 (0.00380965), PSNR 23.32271576 (24.22845145), SSIM 0.67292213 (0.73931821)\n",
      "Finished validation.\n",
      "Starting training epoch 40\n",
      "Epoch: 40, MSE 0.00337787 (0.00438949), PSNR 24.71356392 (23.91747818), SSIM 0.71565318 (0.72653903)\n",
      "Finished training epoch 40\n",
      "Validate: MSE 0.00337396 (0.00282006), PSNR 24.71860504 (25.56259440), SSIM 0.70114785 (0.76943749)\n",
      "Finished validation.\n",
      "Starting training epoch 41\n",
      "Epoch: 41, MSE 0.00331353 (0.00483377), PSNR 24.79708672 (23.64275962), SSIM 0.75137806 (0.72200287)\n",
      "Finished training epoch 41\n",
      "Validate: MSE 0.00373861 (0.00305143), PSNR 24.27289581 (25.22959569), SSIM 0.69269538 (0.76009482)\n",
      "Finished validation.\n",
      "Starting training epoch 42\n",
      "Epoch: 42, MSE 0.00435334 (0.00415038), PSNR 23.61176872 (24.20777470), SSIM 0.72071058 (0.73154007)\n",
      "Finished training epoch 42\n",
      "Validate: MSE 0.00398795 (0.00377372), PSNR 23.99250221 (24.29117113), SSIM 0.67795140 (0.74832433)\n",
      "Finished validation.\n",
      "Starting training epoch 43\n",
      "Epoch: 43, MSE 0.00800466 (0.00447654), PSNR 20.96656990 (23.87473280), SSIM 0.67750710 (0.72536557)\n",
      "Finished training epoch 43\n",
      "Validate: MSE 0.00820673 (0.00835002), PSNR 20.85829735 (20.81219749), SSIM 0.59582627 (0.66535400)\n",
      "Finished validation.\n",
      "Starting training epoch 44\n",
      "Epoch: 44, MSE 0.00334058 (0.00476385), PSNR 24.76178551 (23.66443454), SSIM 0.74262011 (0.72280188)\n",
      "Finished training epoch 44\n",
      "Validate: MSE 0.00332926 (0.00288261), PSNR 24.77651978 (25.47832153), SSIM 0.70188057 (0.77309860)\n",
      "Finished validation.\n",
      "Starting training epoch 45\n",
      "Epoch: 45, MSE 0.00299783 (0.00402181), PSNR 25.23192978 (24.22908724), SSIM 0.74941462 (0.73076196)\n",
      "Finished training epoch 45\n",
      "Validate: MSE 0.00411366 (0.00424773), PSNR 23.85771370 (23.89208682), SSIM 0.67875397 (0.76049616)\n",
      "Finished validation.\n",
      "Starting training epoch 46\n",
      "Epoch: 46, MSE 0.00288618 (0.00475766), PSNR 25.39677238 (23.73840987), SSIM 0.75185823 (0.72449449)\n",
      "Finished training epoch 46\n",
      "Validate: MSE 0.00428572 (0.00426556), PSNR 23.67975807 (23.85425500), SSIM 0.67450583 (0.75512370)\n",
      "Finished validation.\n",
      "Starting training epoch 47\n",
      "Epoch: 47, MSE 0.00340356 (0.00454451), PSNR 24.68066406 (23.83566632), SSIM 0.73184437 (0.72397670)\n",
      "Finished training epoch 47\n",
      "Validate: MSE 0.00506191 (0.00470701), PSNR 22.95685577 (23.36601237), SSIM 0.66049004 (0.73782007)\n",
      "Finished validation.\n",
      "Starting training epoch 48\n",
      "Epoch: 48, MSE 0.00301947 (0.00452990), PSNR 25.20068741 (23.75345395), SSIM 0.74395484 (0.72327637)\n",
      "Finished training epoch 48\n",
      "Validate: MSE 0.00402889 (0.00389340), PSNR 23.94815063 (24.15523672), SSIM 0.67714721 (0.74800644)\n",
      "Finished validation.\n",
      "Starting training epoch 49\n",
      "Epoch: 49, MSE 0.00235489 (0.00474187), PSNR 26.28029060 (23.71710934), SSIM 0.77341622 (0.72340345)\n",
      "Finished training epoch 49\n",
      "Validate: MSE 0.00394020 (0.00352499), PSNR 24.04481506 (24.61327571), SSIM 0.68674457 (0.76063822)\n",
      "Finished validation.\n",
      "Starting training epoch 50\n",
      "Epoch: 50, MSE 0.00321232 (0.00439228), PSNR 24.93181610 (24.02219573), SSIM 0.74615681 (0.72860092)\n",
      "Finished training epoch 50\n",
      "Validate: MSE 0.00456687 (0.00369072), PSNR 23.40381432 (24.43387386), SSIM 0.69086480 (0.75885360)\n",
      "Finished validation.\n",
      "Starting training epoch 51\n",
      "Epoch: 51, MSE 0.00432296 (0.00410771), PSNR 23.64218330 (24.12284941), SSIM 0.74469483 (0.72934054)\n",
      "Finished training epoch 51\n",
      "Validate: MSE 0.00330075 (0.00316748), PSNR 24.81387901 (25.12194022), SSIM 0.69323671 (0.77224969)\n",
      "Finished validation.\n",
      "Starting training epoch 52\n",
      "Epoch: 52, MSE 0.00313986 (0.00503645), PSNR 25.03089523 (23.42255622), SSIM 0.74124295 (0.71757165)\n",
      "Finished training epoch 52\n",
      "Validate: MSE 0.00431352 (0.00357229), PSNR 23.65168381 (24.56886274), SSIM 0.69080079 (0.75855836)\n",
      "Finished validation.\n",
      "Starting training epoch 53\n",
      "Epoch: 53, MSE 0.00539847 (0.00448236), PSNR 22.67729378 (23.89585846), SSIM 0.71664810 (0.72743454)\n",
      "Finished training epoch 53\n",
      "Validate: MSE 0.00517445 (0.00415658), PSNR 22.86135483 (23.89503366), SSIM 0.67443609 (0.74129003)\n",
      "Finished validation.\n",
      "Starting training epoch 54\n",
      "Epoch: 54, MSE 0.00271495 (0.00411539), PSNR 25.66238022 (24.13421680), SSIM 0.74806195 (0.73043572)\n",
      "Finished training epoch 54\n",
      "Validate: MSE 0.00315278 (0.00295444), PSNR 25.01305771 (25.40730034), SSIM 0.70077121 (0.77630438)\n",
      "Finished validation.\n",
      "Starting training epoch 55\n",
      "Epoch: 55, MSE 0.00555472 (0.00420460), PSNR 22.55337906 (24.10681924), SSIM 0.72930294 (0.72953605)\n",
      "Finished training epoch 55\n",
      "Validate: MSE 0.00809377 (0.00725194), PSNR 20.91848946 (21.45499287), SSIM 0.61198711 (0.68376831)\n",
      "Finished validation.\n",
      "Starting training epoch 56\n",
      "Epoch: 56, MSE 0.00202589 (0.00534985), PSNR 26.93383026 (23.46137613), SSIM 0.75856298 (0.71619441)\n",
      "Finished training epoch 56\n",
      "Validate: MSE 0.00392705 (0.00323153), PSNR 24.05933571 (24.99771149), SSIM 0.69534791 (0.76414331)\n",
      "Finished validation.\n"
     ]
    },
    {
     "data": {
      "text/plain": [
       "<Figure size 432x288 with 0 Axes>"
      ]
     },
     "metadata": {},
     "output_type": "display_data"
    }
   ],
   "source": [
    "# Train model\n",
    "for epoch in range(epochs):\n",
    "    # Train for one epoch, then validate\n",
    "    train(train_loader, model, criterion, optimizer, epoch)\n",
    "    with torch.no_grad():\n",
    "        losses = validate(val_loader, model, criterion, save_images, epoch)\n",
    "    # Save checkpoint and replace old best model if current model is better\n",
    "    if losses[0] < best_losses[0]:\n",
    "        best_losses[0] = losses[0]\n",
    "        best_epoch = epoch\n",
    "        torch.save(model.state_dict(), f'{checkpoints}/epoch-{epoch}-MSELoss-{losses[0]:.8f}.pth')\n",
    "    if losses[1] < best_losses[1]:\n",
    "        best_losses[1] = losses[1]\n",
    "        torch.save(model.state_dict(), f'{checkpoints}/epoch-{epoch}-PSNRLoss-{losses[1]:.8f}.pth')\n",
    "    if losses[2] < best_losses[2]:\n",
    "        best_losses[2] = losses[2]\n",
    "        torch.save(model.state_dict(), f'{checkpoints}/epoch-{epoch}-SSIMLoss-{losses[2]:.8f}.pth')\n",
    "    \n",
    "    if epoch - best_epoch >= patience:\n",
    "        torch.save(model.state_dict(), f'{checkpoints}/epoch-{epoch}-MSELoss-{losses[0]:.8f}-early_stop.pth')\n",
    "        break\n",
    "    \n",
    "    if epoch == epochs - 1:\n",
    "        torch.save(model.state_dict(), f'{checkpoints}/epoch-{epoch}-last-{losses[0]:.8f}-{losses[1]:.8f}-{losses[2]:.8f}.pth')\n"
   ]
  },
  {
   "cell_type": "code",
   "execution_count": 20,
   "metadata": {
    "scrolled": true
   },
   "outputs": [],
   "source": [
    "torch.save(model.state_dict(), f'{checkpoints}/last-{losses[0]:.8f}-{losses[1]:.8f}-{losses[2]:.8f}.pth')"
   ]
  },
  {
   "cell_type": "code",
   "execution_count": 21,
   "metadata": {
    "colab": {
     "base_uri": "https://localhost:8080/",
     "height": 1593
    },
    "id": "UcovGnpHMl9D",
    "outputId": "90b7a2b4-dc03-4862-cf02-c7ddbbb7e500"
   },
   "outputs": [
    {
     "name": "stdout",
     "output_type": "stream",
     "text": [
      "Validate: MSE 0.00392705 (0.00323153), PSNR 24.05933571 (24.99771144), SSIM 0.69534796 (0.76414330)\n",
      "Finished validation.\n"
     ]
    },
    {
     "data": {
      "text/plain": [
       "<Figure size 432x288 with 0 Axes>"
      ]
     },
     "metadata": {},
     "output_type": "display_data"
    }
   ],
   "source": [
    "# Validate\n",
    "save_images = True\n",
    "with torch.no_grad():\n",
    "    validate(val_loader, model, criterion, save_images, -1)"
   ]
  },
  {
   "cell_type": "code",
   "execution_count": 22,
   "metadata": {},
   "outputs": [],
   "source": [
    "# # Show images \n",
    "# image_pairs = []\n",
    "\n",
    "# for i in range(10):\n",
    "#     image_pairs.append((f'{color_imgs}img-{i}-epoch-{best_epoch}.jpg', f'{gray_imgs}img-{i}-epoch-{best_epoch}.jpg'))\n",
    "    \n",
    "# for c, g in image_pairs:\n",
    "#   color = mpimg.imread(c)\n",
    "#   gray  = mpimg.imread(g)\n",
    "#   f, axarr = plt.subplots(1, 2)\n",
    "#   f.set_size_inches(15, 15)\n",
    "#   axarr[0].imshow(gray, cmap='gray')\n",
    "#   axarr[1].imshow(color)\n",
    "#   axarr[0].axis('off'), axarr[1].axis('off')\n",
    "#   plt.show()"
   ]
  },
  {
   "cell_type": "code",
   "execution_count": null,
   "metadata": {},
   "outputs": [],
   "source": []
  }
 ],
 "metadata": {
  "accelerator": "GPU",
  "colab": {
   "provenance": []
  },
  "kernelspec": {
   "display_name": "Python 3 (ipykernel)",
   "language": "python",
   "name": "python3"
  },
  "language_info": {
   "codemirror_mode": {
    "name": "ipython",
    "version": 3
   },
   "file_extension": ".py",
   "mimetype": "text/x-python",
   "name": "python",
   "nbconvert_exporter": "python",
   "pygments_lexer": "ipython3",
   "version": "3.10.6"
  }
 },
 "nbformat": 4,
 "nbformat_minor": 4
}
